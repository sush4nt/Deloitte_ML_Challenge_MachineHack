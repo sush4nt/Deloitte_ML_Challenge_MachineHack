{
  "cells": [
    {
      "cell_type": "markdown",
      "metadata": {
        "id": "1BdrzH_3iI0N"
      },
      "source": [
        "# Understanding Data"
      ]
    },
    {
      "cell_type": "code",
      "execution_count": 99,
      "metadata": {
        "id": "fiuVNdDniI0S"
      },
      "outputs": [],
      "source": [
        "import pandas as pd\n",
        "import numpy as np\n",
        "import seaborn as sns\n",
        "import matplotlib.pyplot as plt\n",
        "\n",
        "from sklearn.preprocessing import LabelEncoder, OrdinalEncoder, RobustScaler, StandardScaler, MinMaxScaler\n",
        "from sklearn.feature_selection import mutual_info_classif\n",
        "\n",
        "\n",
        "import warnings\n",
        "warnings.filterwarnings('ignore')"
      ]
    },
    {
      "cell_type": "code",
      "execution_count": 100,
      "metadata": {
        "colab": {
          "base_uri": "https://localhost:8080/",
          "height": 365
        },
        "id": "ALeQEYiEiI0U",
        "outputId": "a72441ff-8a07-4e83-fb58-c66c91eb3db8"
      },
      "outputs": [
        {
          "output_type": "execute_result",
          "data": {
            "text/html": [
              "<div>\n",
              "<style scoped>\n",
              "    .dataframe tbody tr th:only-of-type {\n",
              "        vertical-align: middle;\n",
              "    }\n",
              "\n",
              "    .dataframe tbody tr th {\n",
              "        vertical-align: top;\n",
              "    }\n",
              "\n",
              "    .dataframe thead th {\n",
              "        text-align: right;\n",
              "    }\n",
              "</style>\n",
              "<table border=\"1\" class=\"dataframe\">\n",
              "  <thead>\n",
              "    <tr style=\"text-align: right;\">\n",
              "      <th></th>\n",
              "      <th>ID</th>\n",
              "      <th>Loan Amount</th>\n",
              "      <th>Funded Amount</th>\n",
              "      <th>Funded Amount Investor</th>\n",
              "      <th>Term</th>\n",
              "      <th>Batch Enrolled</th>\n",
              "      <th>Interest Rate</th>\n",
              "      <th>Grade</th>\n",
              "      <th>Sub Grade</th>\n",
              "      <th>Employment Duration</th>\n",
              "      <th>Home Ownership</th>\n",
              "      <th>Verification Status</th>\n",
              "      <th>Payment Plan</th>\n",
              "      <th>Loan Title</th>\n",
              "      <th>Debit to Income</th>\n",
              "      <th>Delinquency - two years</th>\n",
              "      <th>Inquires - six months</th>\n",
              "      <th>Open Account</th>\n",
              "      <th>Public Record</th>\n",
              "      <th>Revolving Balance</th>\n",
              "      <th>Revolving Utilities</th>\n",
              "      <th>Total Accounts</th>\n",
              "      <th>Initial List Status</th>\n",
              "      <th>Total Received Interest</th>\n",
              "      <th>Total Received Late Fee</th>\n",
              "      <th>Recoveries</th>\n",
              "      <th>Collection Recovery Fee</th>\n",
              "      <th>Collection 12 months Medical</th>\n",
              "      <th>Application Type</th>\n",
              "      <th>Last week Pay</th>\n",
              "      <th>Accounts Delinquent</th>\n",
              "      <th>Total Collection Amount</th>\n",
              "      <th>Total Current Balance</th>\n",
              "      <th>Total Revolving Credit Limit</th>\n",
              "      <th>Loan Status</th>\n",
              "    </tr>\n",
              "  </thead>\n",
              "  <tbody>\n",
              "    <tr>\n",
              "      <th>0</th>\n",
              "      <td>65087372</td>\n",
              "      <td>10000</td>\n",
              "      <td>32236</td>\n",
              "      <td>12329.36286</td>\n",
              "      <td>59</td>\n",
              "      <td>BAT2522922</td>\n",
              "      <td>11.135007</td>\n",
              "      <td>B</td>\n",
              "      <td>C4</td>\n",
              "      <td>MORTGAGE</td>\n",
              "      <td>176346.62670</td>\n",
              "      <td>Not Verified</td>\n",
              "      <td>n</td>\n",
              "      <td>Debt Consolidation</td>\n",
              "      <td>16.284758</td>\n",
              "      <td>1</td>\n",
              "      <td>0</td>\n",
              "      <td>13</td>\n",
              "      <td>0</td>\n",
              "      <td>24246</td>\n",
              "      <td>74.932551</td>\n",
              "      <td>7</td>\n",
              "      <td>w</td>\n",
              "      <td>2929.646315</td>\n",
              "      <td>0.102055</td>\n",
              "      <td>2.498291</td>\n",
              "      <td>0.793724</td>\n",
              "      <td>0</td>\n",
              "      <td>INDIVIDUAL</td>\n",
              "      <td>49</td>\n",
              "      <td>0</td>\n",
              "      <td>31</td>\n",
              "      <td>311301</td>\n",
              "      <td>6619</td>\n",
              "      <td>0</td>\n",
              "    </tr>\n",
              "    <tr>\n",
              "      <th>1</th>\n",
              "      <td>1450153</td>\n",
              "      <td>3609</td>\n",
              "      <td>11940</td>\n",
              "      <td>12191.99692</td>\n",
              "      <td>59</td>\n",
              "      <td>BAT1586599</td>\n",
              "      <td>12.237563</td>\n",
              "      <td>C</td>\n",
              "      <td>D3</td>\n",
              "      <td>RENT</td>\n",
              "      <td>39833.92100</td>\n",
              "      <td>Source Verified</td>\n",
              "      <td>n</td>\n",
              "      <td>Debt consolidation</td>\n",
              "      <td>15.412409</td>\n",
              "      <td>0</td>\n",
              "      <td>0</td>\n",
              "      <td>12</td>\n",
              "      <td>0</td>\n",
              "      <td>812</td>\n",
              "      <td>78.297186</td>\n",
              "      <td>13</td>\n",
              "      <td>f</td>\n",
              "      <td>772.769385</td>\n",
              "      <td>0.036181</td>\n",
              "      <td>2.377215</td>\n",
              "      <td>0.974821</td>\n",
              "      <td>0</td>\n",
              "      <td>INDIVIDUAL</td>\n",
              "      <td>109</td>\n",
              "      <td>0</td>\n",
              "      <td>53</td>\n",
              "      <td>182610</td>\n",
              "      <td>20885</td>\n",
              "      <td>0</td>\n",
              "    </tr>\n",
              "    <tr>\n",
              "      <th>2</th>\n",
              "      <td>1969101</td>\n",
              "      <td>28276</td>\n",
              "      <td>9311</td>\n",
              "      <td>21603.22455</td>\n",
              "      <td>59</td>\n",
              "      <td>BAT2136391</td>\n",
              "      <td>12.545884</td>\n",
              "      <td>F</td>\n",
              "      <td>D4</td>\n",
              "      <td>MORTGAGE</td>\n",
              "      <td>91506.69105</td>\n",
              "      <td>Source Verified</td>\n",
              "      <td>n</td>\n",
              "      <td>Debt Consolidation</td>\n",
              "      <td>28.137619</td>\n",
              "      <td>0</td>\n",
              "      <td>0</td>\n",
              "      <td>14</td>\n",
              "      <td>0</td>\n",
              "      <td>1843</td>\n",
              "      <td>2.073040</td>\n",
              "      <td>20</td>\n",
              "      <td>w</td>\n",
              "      <td>863.324396</td>\n",
              "      <td>18.778660</td>\n",
              "      <td>4.316277</td>\n",
              "      <td>1.020075</td>\n",
              "      <td>0</td>\n",
              "      <td>INDIVIDUAL</td>\n",
              "      <td>66</td>\n",
              "      <td>0</td>\n",
              "      <td>34</td>\n",
              "      <td>89801</td>\n",
              "      <td>26155</td>\n",
              "      <td>0</td>\n",
              "    </tr>\n",
              "    <tr>\n",
              "      <th>3</th>\n",
              "      <td>6651430</td>\n",
              "      <td>11170</td>\n",
              "      <td>6954</td>\n",
              "      <td>17877.15585</td>\n",
              "      <td>59</td>\n",
              "      <td>BAT2428731</td>\n",
              "      <td>16.731201</td>\n",
              "      <td>C</td>\n",
              "      <td>C3</td>\n",
              "      <td>MORTGAGE</td>\n",
              "      <td>108286.57590</td>\n",
              "      <td>Source Verified</td>\n",
              "      <td>n</td>\n",
              "      <td>Debt consolidation</td>\n",
              "      <td>18.043730</td>\n",
              "      <td>1</td>\n",
              "      <td>0</td>\n",
              "      <td>7</td>\n",
              "      <td>0</td>\n",
              "      <td>13819</td>\n",
              "      <td>67.467951</td>\n",
              "      <td>12</td>\n",
              "      <td>w</td>\n",
              "      <td>288.173196</td>\n",
              "      <td>0.044131</td>\n",
              "      <td>0.107020</td>\n",
              "      <td>0.749971</td>\n",
              "      <td>0</td>\n",
              "      <td>INDIVIDUAL</td>\n",
              "      <td>39</td>\n",
              "      <td>0</td>\n",
              "      <td>40</td>\n",
              "      <td>9189</td>\n",
              "      <td>60214</td>\n",
              "      <td>0</td>\n",
              "    </tr>\n",
              "    <tr>\n",
              "      <th>4</th>\n",
              "      <td>14354669</td>\n",
              "      <td>16890</td>\n",
              "      <td>13226</td>\n",
              "      <td>13539.92667</td>\n",
              "      <td>59</td>\n",
              "      <td>BAT5341619</td>\n",
              "      <td>15.008300</td>\n",
              "      <td>C</td>\n",
              "      <td>D4</td>\n",
              "      <td>MORTGAGE</td>\n",
              "      <td>44234.82545</td>\n",
              "      <td>Source Verified</td>\n",
              "      <td>n</td>\n",
              "      <td>Credit card refinancing</td>\n",
              "      <td>17.209886</td>\n",
              "      <td>1</td>\n",
              "      <td>3</td>\n",
              "      <td>13</td>\n",
              "      <td>1</td>\n",
              "      <td>1544</td>\n",
              "      <td>85.250761</td>\n",
              "      <td>22</td>\n",
              "      <td>w</td>\n",
              "      <td>129.239553</td>\n",
              "      <td>19.306646</td>\n",
              "      <td>1294.818751</td>\n",
              "      <td>0.368953</td>\n",
              "      <td>0</td>\n",
              "      <td>INDIVIDUAL</td>\n",
              "      <td>18</td>\n",
              "      <td>0</td>\n",
              "      <td>430</td>\n",
              "      <td>126029</td>\n",
              "      <td>22579</td>\n",
              "      <td>0</td>\n",
              "    </tr>\n",
              "  </tbody>\n",
              "</table>\n",
              "</div>"
            ],
            "text/plain": [
              "         ID  Loan Amount  ...  Total Revolving Credit Limit  Loan Status\n",
              "0  65087372        10000  ...                          6619            0\n",
              "1   1450153         3609  ...                         20885            0\n",
              "2   1969101        28276  ...                         26155            0\n",
              "3   6651430        11170  ...                         60214            0\n",
              "4  14354669        16890  ...                         22579            0\n",
              "\n",
              "[5 rows x 35 columns]"
            ]
          },
          "metadata": {},
          "execution_count": 100
        }
      ],
      "source": [
        "train = pd.read_csv(r\"train.csv\")\n",
        "train.head()"
      ]
    },
    {
      "cell_type": "code",
      "execution_count": 101,
      "metadata": {
        "colab": {
          "base_uri": "https://localhost:8080/",
          "height": 365
        },
        "id": "V4xuK2aViI0W",
        "outputId": "f37ad7f2-f109-488b-b753-b45a7c76e6cb"
      },
      "outputs": [
        {
          "output_type": "execute_result",
          "data": {
            "text/html": [
              "<div>\n",
              "<style scoped>\n",
              "    .dataframe tbody tr th:only-of-type {\n",
              "        vertical-align: middle;\n",
              "    }\n",
              "\n",
              "    .dataframe tbody tr th {\n",
              "        vertical-align: top;\n",
              "    }\n",
              "\n",
              "    .dataframe thead th {\n",
              "        text-align: right;\n",
              "    }\n",
              "</style>\n",
              "<table border=\"1\" class=\"dataframe\">\n",
              "  <thead>\n",
              "    <tr style=\"text-align: right;\">\n",
              "      <th></th>\n",
              "      <th>ID</th>\n",
              "      <th>Loan Amount</th>\n",
              "      <th>Funded Amount</th>\n",
              "      <th>Funded Amount Investor</th>\n",
              "      <th>Term</th>\n",
              "      <th>Batch Enrolled</th>\n",
              "      <th>Interest Rate</th>\n",
              "      <th>Grade</th>\n",
              "      <th>Sub Grade</th>\n",
              "      <th>Employment Duration</th>\n",
              "      <th>Home Ownership</th>\n",
              "      <th>Verification Status</th>\n",
              "      <th>Payment Plan</th>\n",
              "      <th>Loan Title</th>\n",
              "      <th>Debit to Income</th>\n",
              "      <th>Delinquency - two years</th>\n",
              "      <th>Inquires - six months</th>\n",
              "      <th>Open Account</th>\n",
              "      <th>Public Record</th>\n",
              "      <th>Revolving Balance</th>\n",
              "      <th>Revolving Utilities</th>\n",
              "      <th>Total Accounts</th>\n",
              "      <th>Initial List Status</th>\n",
              "      <th>Total Received Interest</th>\n",
              "      <th>Total Received Late Fee</th>\n",
              "      <th>Recoveries</th>\n",
              "      <th>Collection Recovery Fee</th>\n",
              "      <th>Collection 12 months Medical</th>\n",
              "      <th>Application Type</th>\n",
              "      <th>Last week Pay</th>\n",
              "      <th>Accounts Delinquent</th>\n",
              "      <th>Total Collection Amount</th>\n",
              "      <th>Total Current Balance</th>\n",
              "      <th>Total Revolving Credit Limit</th>\n",
              "      <th>Loan Status</th>\n",
              "    </tr>\n",
              "  </thead>\n",
              "  <tbody>\n",
              "    <tr>\n",
              "      <th>0</th>\n",
              "      <td>56492997</td>\n",
              "      <td>17120</td>\n",
              "      <td>10365</td>\n",
              "      <td>16025.082690</td>\n",
              "      <td>59</td>\n",
              "      <td>BAT2575549</td>\n",
              "      <td>12.163926</td>\n",
              "      <td>A</td>\n",
              "      <td>D1</td>\n",
              "      <td>RENT</td>\n",
              "      <td>76468.82190</td>\n",
              "      <td>Source Verified</td>\n",
              "      <td>n</td>\n",
              "      <td>Home improvement</td>\n",
              "      <td>16.749219</td>\n",
              "      <td>1</td>\n",
              "      <td>0</td>\n",
              "      <td>12</td>\n",
              "      <td>1</td>\n",
              "      <td>3576</td>\n",
              "      <td>67.278287</td>\n",
              "      <td>5</td>\n",
              "      <td>f</td>\n",
              "      <td>4469.449851</td>\n",
              "      <td>0.088031</td>\n",
              "      <td>8.425776</td>\n",
              "      <td>0.731797</td>\n",
              "      <td>0</td>\n",
              "      <td>INDIVIDUAL</td>\n",
              "      <td>135</td>\n",
              "      <td>0</td>\n",
              "      <td>24</td>\n",
              "      <td>475442</td>\n",
              "      <td>4364</td>\n",
              "      <td>NaN</td>\n",
              "    </tr>\n",
              "    <tr>\n",
              "      <th>1</th>\n",
              "      <td>22540813</td>\n",
              "      <td>7133</td>\n",
              "      <td>11650</td>\n",
              "      <td>12615.795600</td>\n",
              "      <td>59</td>\n",
              "      <td>BAT2833642</td>\n",
              "      <td>6.564296</td>\n",
              "      <td>B</td>\n",
              "      <td>E3</td>\n",
              "      <td>MORTGAGE</td>\n",
              "      <td>38079.01344</td>\n",
              "      <td>Source Verified</td>\n",
              "      <td>n</td>\n",
              "      <td>Credit card refinancing</td>\n",
              "      <td>18.157975</td>\n",
              "      <td>0</td>\n",
              "      <td>0</td>\n",
              "      <td>11</td>\n",
              "      <td>0</td>\n",
              "      <td>1932</td>\n",
              "      <td>71.313157</td>\n",
              "      <td>21</td>\n",
              "      <td>w</td>\n",
              "      <td>993.907530</td>\n",
              "      <td>0.041237</td>\n",
              "      <td>6.157008</td>\n",
              "      <td>0.992918</td>\n",
              "      <td>0</td>\n",
              "      <td>INDIVIDUAL</td>\n",
              "      <td>56</td>\n",
              "      <td>0</td>\n",
              "      <td>1</td>\n",
              "      <td>72412</td>\n",
              "      <td>2573</td>\n",
              "      <td>NaN</td>\n",
              "    </tr>\n",
              "    <tr>\n",
              "      <th>2</th>\n",
              "      <td>9862181</td>\n",
              "      <td>25291</td>\n",
              "      <td>25825</td>\n",
              "      <td>11621.280830</td>\n",
              "      <td>59</td>\n",
              "      <td>BAT1761981</td>\n",
              "      <td>14.729900</td>\n",
              "      <td>A</td>\n",
              "      <td>C3</td>\n",
              "      <td>MORTGAGE</td>\n",
              "      <td>51275.93268</td>\n",
              "      <td>Source Verified</td>\n",
              "      <td>n</td>\n",
              "      <td>Debt consolidation</td>\n",
              "      <td>15.190011</td>\n",
              "      <td>0</td>\n",
              "      <td>0</td>\n",
              "      <td>22</td>\n",
              "      <td>0</td>\n",
              "      <td>598</td>\n",
              "      <td>50.883065</td>\n",
              "      <td>23</td>\n",
              "      <td>f</td>\n",
              "      <td>729.113379</td>\n",
              "      <td>0.021745</td>\n",
              "      <td>5.705077</td>\n",
              "      <td>0.281580</td>\n",
              "      <td>0</td>\n",
              "      <td>INDIVIDUAL</td>\n",
              "      <td>3</td>\n",
              "      <td>0</td>\n",
              "      <td>26</td>\n",
              "      <td>284825</td>\n",
              "      <td>19676</td>\n",
              "      <td>NaN</td>\n",
              "    </tr>\n",
              "    <tr>\n",
              "      <th>3</th>\n",
              "      <td>10097822</td>\n",
              "      <td>30781</td>\n",
              "      <td>9664</td>\n",
              "      <td>15375.823510</td>\n",
              "      <td>59</td>\n",
              "      <td>BAT5341619</td>\n",
              "      <td>10.523767</td>\n",
              "      <td>A</td>\n",
              "      <td>A2</td>\n",
              "      <td>RENT</td>\n",
              "      <td>68867.98965</td>\n",
              "      <td>Verified</td>\n",
              "      <td>n</td>\n",
              "      <td>Debt Consolidation</td>\n",
              "      <td>21.292550</td>\n",
              "      <td>0</td>\n",
              "      <td>0</td>\n",
              "      <td>11</td>\n",
              "      <td>0</td>\n",
              "      <td>5222</td>\n",
              "      <td>82.449083</td>\n",
              "      <td>28</td>\n",
              "      <td>w</td>\n",
              "      <td>715.867091</td>\n",
              "      <td>0.092398</td>\n",
              "      <td>2.469688</td>\n",
              "      <td>0.959162</td>\n",
              "      <td>0</td>\n",
              "      <td>INDIVIDUAL</td>\n",
              "      <td>21</td>\n",
              "      <td>0</td>\n",
              "      <td>32</td>\n",
              "      <td>40842</td>\n",
              "      <td>7226</td>\n",
              "      <td>NaN</td>\n",
              "    </tr>\n",
              "    <tr>\n",
              "      <th>4</th>\n",
              "      <td>47771809</td>\n",
              "      <td>8878</td>\n",
              "      <td>9419</td>\n",
              "      <td>7176.647582</td>\n",
              "      <td>58</td>\n",
              "      <td>BAT4694572</td>\n",
              "      <td>9.997013</td>\n",
              "      <td>C</td>\n",
              "      <td>B3</td>\n",
              "      <td>OWN</td>\n",
              "      <td>91556.85423</td>\n",
              "      <td>Verified</td>\n",
              "      <td>n</td>\n",
              "      <td>Debt consolidation</td>\n",
              "      <td>4.812117</td>\n",
              "      <td>0</td>\n",
              "      <td>0</td>\n",
              "      <td>11</td>\n",
              "      <td>0</td>\n",
              "      <td>553</td>\n",
              "      <td>49.075855</td>\n",
              "      <td>9</td>\n",
              "      <td>w</td>\n",
              "      <td>248.572854</td>\n",
              "      <td>0.010354</td>\n",
              "      <td>2.127835</td>\n",
              "      <td>0.402315</td>\n",
              "      <td>0</td>\n",
              "      <td>INDIVIDUAL</td>\n",
              "      <td>104</td>\n",
              "      <td>0</td>\n",
              "      <td>33</td>\n",
              "      <td>90825</td>\n",
              "      <td>26145</td>\n",
              "      <td>NaN</td>\n",
              "    </tr>\n",
              "  </tbody>\n",
              "</table>\n",
              "</div>"
            ],
            "text/plain": [
              "         ID  Loan Amount  ...  Total Revolving Credit Limit  Loan Status\n",
              "0  56492997        17120  ...                          4364          NaN\n",
              "1  22540813         7133  ...                          2573          NaN\n",
              "2   9862181        25291  ...                         19676          NaN\n",
              "3  10097822        30781  ...                          7226          NaN\n",
              "4  47771809         8878  ...                         26145          NaN\n",
              "\n",
              "[5 rows x 35 columns]"
            ]
          },
          "metadata": {},
          "execution_count": 101
        }
      ],
      "source": [
        "test = pd.read_csv(r\"test.csv\")\n",
        "test.head()"
      ]
    },
    {
      "cell_type": "code",
      "execution_count": 102,
      "metadata": {
        "colab": {
          "base_uri": "https://localhost:8080/"
        },
        "id": "RMhGOJJ1iI0X",
        "outputId": "9602305e-23f8-4543-c35a-2dda8578c8cf"
      },
      "outputs": [
        {
          "output_type": "stream",
          "name": "stdout",
          "text": [
            "(67463, 35)\n",
            "(28913, 35)\n"
          ]
        }
      ],
      "source": [
        "print(train.shape)\n",
        "print(test.shape)"
      ]
    },
    {
      "cell_type": "code",
      "execution_count": 103,
      "metadata": {
        "colab": {
          "base_uri": "https://localhost:8080/"
        },
        "id": "8ceZNYP5iI0Y",
        "outputId": "b53297ff-b49f-499e-c031-404f5cb22b65"
      },
      "outputs": [
        {
          "output_type": "stream",
          "name": "stdout",
          "text": [
            "<class 'pandas.core.frame.DataFrame'>\n",
            "RangeIndex: 67463 entries, 0 to 67462\n",
            "Data columns (total 35 columns):\n",
            " #   Column                        Non-Null Count  Dtype  \n",
            "---  ------                        --------------  -----  \n",
            " 0   ID                            67463 non-null  int64  \n",
            " 1   Loan Amount                   67463 non-null  int64  \n",
            " 2   Funded Amount                 67463 non-null  int64  \n",
            " 3   Funded Amount Investor        67463 non-null  float64\n",
            " 4   Term                          67463 non-null  int64  \n",
            " 5   Batch Enrolled                67463 non-null  object \n",
            " 6   Interest Rate                 67463 non-null  float64\n",
            " 7   Grade                         67463 non-null  object \n",
            " 8   Sub Grade                     67463 non-null  object \n",
            " 9   Employment Duration           67463 non-null  object \n",
            " 10  Home Ownership                67463 non-null  float64\n",
            " 11  Verification Status           67463 non-null  object \n",
            " 12  Payment Plan                  67463 non-null  object \n",
            " 13  Loan Title                    67463 non-null  object \n",
            " 14  Debit to Income               67463 non-null  float64\n",
            " 15  Delinquency - two years       67463 non-null  int64  \n",
            " 16  Inquires - six months         67463 non-null  int64  \n",
            " 17  Open Account                  67463 non-null  int64  \n",
            " 18  Public Record                 67463 non-null  int64  \n",
            " 19  Revolving Balance             67463 non-null  int64  \n",
            " 20  Revolving Utilities           67463 non-null  float64\n",
            " 21  Total Accounts                67463 non-null  int64  \n",
            " 22  Initial List Status           67463 non-null  object \n",
            " 23  Total Received Interest       67463 non-null  float64\n",
            " 24  Total Received Late Fee       67463 non-null  float64\n",
            " 25  Recoveries                    67463 non-null  float64\n",
            " 26  Collection Recovery Fee       67463 non-null  float64\n",
            " 27  Collection 12 months Medical  67463 non-null  int64  \n",
            " 28  Application Type              67463 non-null  object \n",
            " 29  Last week Pay                 67463 non-null  int64  \n",
            " 30  Accounts Delinquent           67463 non-null  int64  \n",
            " 31  Total Collection Amount       67463 non-null  int64  \n",
            " 32  Total Current Balance         67463 non-null  int64  \n",
            " 33  Total Revolving Credit Limit  67463 non-null  int64  \n",
            " 34  Loan Status                   67463 non-null  int64  \n",
            "dtypes: float64(9), int64(17), object(9)\n",
            "memory usage: 18.0+ MB\n"
          ]
        }
      ],
      "source": [
        "train.info()"
      ]
    },
    {
      "cell_type": "code",
      "execution_count": 104,
      "metadata": {
        "colab": {
          "base_uri": "https://localhost:8080/"
        },
        "id": "ZOnLEGigiI0Z",
        "outputId": "4d5e43bd-d24b-4bc6-c867-5b6226a33de0"
      },
      "outputs": [
        {
          "output_type": "stream",
          "name": "stdout",
          "text": [
            "ID                              0\n",
            "Loan Amount                     0\n",
            "Funded Amount                   0\n",
            "Funded Amount Investor          0\n",
            "Term                            0\n",
            "Batch Enrolled                  0\n",
            "Interest Rate                   0\n",
            "Grade                           0\n",
            "Sub Grade                       0\n",
            "Employment Duration             0\n",
            "Home Ownership                  0\n",
            "Verification Status             0\n",
            "Payment Plan                    0\n",
            "Loan Title                      0\n",
            "Debit to Income                 0\n",
            "Delinquency - two years         0\n",
            "Inquires - six months           0\n",
            "Open Account                    0\n",
            "Public Record                   0\n",
            "Revolving Balance               0\n",
            "Revolving Utilities             0\n",
            "Total Accounts                  0\n",
            "Initial List Status             0\n",
            "Total Received Interest         0\n",
            "Total Received Late Fee         0\n",
            "Recoveries                      0\n",
            "Collection Recovery Fee         0\n",
            "Collection 12 months Medical    0\n",
            "Application Type                0\n",
            "Last week Pay                   0\n",
            "Accounts Delinquent             0\n",
            "Total Collection Amount         0\n",
            "Total Current Balance           0\n",
            "Total Revolving Credit Limit    0\n",
            "Loan Status                     0\n",
            "dtype: int64\n",
            "************************************************************\n",
            "ID                                  0\n",
            "Loan Amount                         0\n",
            "Funded Amount                       0\n",
            "Funded Amount Investor              0\n",
            "Term                                0\n",
            "Batch Enrolled                      0\n",
            "Interest Rate                       0\n",
            "Grade                               0\n",
            "Sub Grade                           0\n",
            "Employment Duration                 0\n",
            "Home Ownership                      0\n",
            "Verification Status                 0\n",
            "Payment Plan                        0\n",
            "Loan Title                          0\n",
            "Debit to Income                     0\n",
            "Delinquency - two years             0\n",
            "Inquires - six months               0\n",
            "Open Account                        0\n",
            "Public Record                       0\n",
            "Revolving Balance                   0\n",
            "Revolving Utilities                 0\n",
            "Total Accounts                      0\n",
            "Initial List Status                 0\n",
            "Total Received Interest             0\n",
            "Total Received Late Fee             0\n",
            "Recoveries                          0\n",
            "Collection Recovery Fee             0\n",
            "Collection 12 months Medical        0\n",
            "Application Type                    0\n",
            "Last week Pay                       0\n",
            "Accounts Delinquent                 0\n",
            "Total Collection Amount             0\n",
            "Total Current Balance               0\n",
            "Total Revolving Credit Limit        0\n",
            "Loan Status                     28913\n",
            "dtype: int64\n"
          ]
        }
      ],
      "source": [
        "print(train.isnull().sum())\n",
        "print(\"*\"*60)\n",
        "print(test.isnull().sum())"
      ]
    },
    {
      "cell_type": "code",
      "execution_count": 105,
      "metadata": {
        "colab": {
          "base_uri": "https://localhost:8080/",
          "height": 669
        },
        "id": "gVuCmyNTiI0b",
        "outputId": "9689395f-aac0-474d-e261-1c668fd94adf"
      },
      "outputs": [
        {
          "output_type": "execute_result",
          "data": {
            "text/html": [
              "<div>\n",
              "<style scoped>\n",
              "    .dataframe tbody tr th:only-of-type {\n",
              "        vertical-align: middle;\n",
              "    }\n",
              "\n",
              "    .dataframe tbody tr th {\n",
              "        vertical-align: top;\n",
              "    }\n",
              "\n",
              "    .dataframe thead th {\n",
              "        text-align: right;\n",
              "    }\n",
              "</style>\n",
              "<table border=\"1\" class=\"dataframe\">\n",
              "  <thead>\n",
              "    <tr style=\"text-align: right;\">\n",
              "      <th></th>\n",
              "      <th>ID</th>\n",
              "      <th>Loan Amount</th>\n",
              "      <th>Funded Amount</th>\n",
              "      <th>Funded Amount Investor</th>\n",
              "      <th>Term</th>\n",
              "      <th>Batch Enrolled</th>\n",
              "      <th>Interest Rate</th>\n",
              "      <th>Grade</th>\n",
              "      <th>Sub Grade</th>\n",
              "      <th>Employment Duration</th>\n",
              "      <th>Home Ownership</th>\n",
              "      <th>Verification Status</th>\n",
              "      <th>Payment Plan</th>\n",
              "      <th>Loan Title</th>\n",
              "      <th>Debit to Income</th>\n",
              "      <th>Delinquency - two years</th>\n",
              "      <th>Inquires - six months</th>\n",
              "      <th>Open Account</th>\n",
              "      <th>Public Record</th>\n",
              "      <th>Revolving Balance</th>\n",
              "      <th>Revolving Utilities</th>\n",
              "      <th>Total Accounts</th>\n",
              "      <th>Initial List Status</th>\n",
              "      <th>Total Received Interest</th>\n",
              "      <th>Total Received Late Fee</th>\n",
              "      <th>Recoveries</th>\n",
              "      <th>Collection Recovery Fee</th>\n",
              "      <th>Collection 12 months Medical</th>\n",
              "      <th>Application Type</th>\n",
              "      <th>Last week Pay</th>\n",
              "      <th>Accounts Delinquent</th>\n",
              "      <th>Total Collection Amount</th>\n",
              "      <th>Total Current Balance</th>\n",
              "      <th>Total Revolving Credit Limit</th>\n",
              "      <th>Loan Status</th>\n",
              "    </tr>\n",
              "  </thead>\n",
              "  <tbody>\n",
              "    <tr>\n",
              "      <th>0</th>\n",
              "      <td>56492997</td>\n",
              "      <td>17120</td>\n",
              "      <td>10365</td>\n",
              "      <td>16025.082690</td>\n",
              "      <td>59</td>\n",
              "      <td>BAT2575549</td>\n",
              "      <td>12.163926</td>\n",
              "      <td>A</td>\n",
              "      <td>D1</td>\n",
              "      <td>RENT</td>\n",
              "      <td>76468.82190</td>\n",
              "      <td>Source Verified</td>\n",
              "      <td>n</td>\n",
              "      <td>Home improvement</td>\n",
              "      <td>16.749219</td>\n",
              "      <td>1</td>\n",
              "      <td>0</td>\n",
              "      <td>12</td>\n",
              "      <td>1</td>\n",
              "      <td>3576</td>\n",
              "      <td>67.278287</td>\n",
              "      <td>5</td>\n",
              "      <td>f</td>\n",
              "      <td>4469.449851</td>\n",
              "      <td>0.088031</td>\n",
              "      <td>8.425776</td>\n",
              "      <td>0.731797</td>\n",
              "      <td>0</td>\n",
              "      <td>INDIVIDUAL</td>\n",
              "      <td>135</td>\n",
              "      <td>0</td>\n",
              "      <td>24</td>\n",
              "      <td>475442</td>\n",
              "      <td>4364</td>\n",
              "      <td>0</td>\n",
              "    </tr>\n",
              "    <tr>\n",
              "      <th>1</th>\n",
              "      <td>22540813</td>\n",
              "      <td>7133</td>\n",
              "      <td>11650</td>\n",
              "      <td>12615.795600</td>\n",
              "      <td>59</td>\n",
              "      <td>BAT2833642</td>\n",
              "      <td>6.564296</td>\n",
              "      <td>B</td>\n",
              "      <td>E3</td>\n",
              "      <td>MORTGAGE</td>\n",
              "      <td>38079.01344</td>\n",
              "      <td>Source Verified</td>\n",
              "      <td>n</td>\n",
              "      <td>Credit card refinancing</td>\n",
              "      <td>18.157975</td>\n",
              "      <td>0</td>\n",
              "      <td>0</td>\n",
              "      <td>11</td>\n",
              "      <td>0</td>\n",
              "      <td>1932</td>\n",
              "      <td>71.313157</td>\n",
              "      <td>21</td>\n",
              "      <td>w</td>\n",
              "      <td>993.907530</td>\n",
              "      <td>0.041237</td>\n",
              "      <td>6.157008</td>\n",
              "      <td>0.992918</td>\n",
              "      <td>0</td>\n",
              "      <td>INDIVIDUAL</td>\n",
              "      <td>56</td>\n",
              "      <td>0</td>\n",
              "      <td>1</td>\n",
              "      <td>72412</td>\n",
              "      <td>2573</td>\n",
              "      <td>0</td>\n",
              "    </tr>\n",
              "    <tr>\n",
              "      <th>2</th>\n",
              "      <td>9862181</td>\n",
              "      <td>25291</td>\n",
              "      <td>25825</td>\n",
              "      <td>11621.280830</td>\n",
              "      <td>59</td>\n",
              "      <td>BAT1761981</td>\n",
              "      <td>14.729900</td>\n",
              "      <td>A</td>\n",
              "      <td>C3</td>\n",
              "      <td>MORTGAGE</td>\n",
              "      <td>51275.93268</td>\n",
              "      <td>Source Verified</td>\n",
              "      <td>n</td>\n",
              "      <td>Debt consolidation</td>\n",
              "      <td>15.190011</td>\n",
              "      <td>0</td>\n",
              "      <td>0</td>\n",
              "      <td>22</td>\n",
              "      <td>0</td>\n",
              "      <td>598</td>\n",
              "      <td>50.883065</td>\n",
              "      <td>23</td>\n",
              "      <td>f</td>\n",
              "      <td>729.113379</td>\n",
              "      <td>0.021745</td>\n",
              "      <td>5.705077</td>\n",
              "      <td>0.281580</td>\n",
              "      <td>0</td>\n",
              "      <td>INDIVIDUAL</td>\n",
              "      <td>3</td>\n",
              "      <td>0</td>\n",
              "      <td>26</td>\n",
              "      <td>284825</td>\n",
              "      <td>19676</td>\n",
              "      <td>0</td>\n",
              "    </tr>\n",
              "    <tr>\n",
              "      <th>3</th>\n",
              "      <td>10097822</td>\n",
              "      <td>30781</td>\n",
              "      <td>9664</td>\n",
              "      <td>15375.823510</td>\n",
              "      <td>59</td>\n",
              "      <td>BAT5341619</td>\n",
              "      <td>10.523767</td>\n",
              "      <td>A</td>\n",
              "      <td>A2</td>\n",
              "      <td>RENT</td>\n",
              "      <td>68867.98965</td>\n",
              "      <td>Verified</td>\n",
              "      <td>n</td>\n",
              "      <td>Debt Consolidation</td>\n",
              "      <td>21.292550</td>\n",
              "      <td>0</td>\n",
              "      <td>0</td>\n",
              "      <td>11</td>\n",
              "      <td>0</td>\n",
              "      <td>5222</td>\n",
              "      <td>82.449083</td>\n",
              "      <td>28</td>\n",
              "      <td>w</td>\n",
              "      <td>715.867091</td>\n",
              "      <td>0.092398</td>\n",
              "      <td>2.469688</td>\n",
              "      <td>0.959162</td>\n",
              "      <td>0</td>\n",
              "      <td>INDIVIDUAL</td>\n",
              "      <td>21</td>\n",
              "      <td>0</td>\n",
              "      <td>32</td>\n",
              "      <td>40842</td>\n",
              "      <td>7226</td>\n",
              "      <td>0</td>\n",
              "    </tr>\n",
              "    <tr>\n",
              "      <th>4</th>\n",
              "      <td>47771809</td>\n",
              "      <td>8878</td>\n",
              "      <td>9419</td>\n",
              "      <td>7176.647582</td>\n",
              "      <td>58</td>\n",
              "      <td>BAT4694572</td>\n",
              "      <td>9.997013</td>\n",
              "      <td>C</td>\n",
              "      <td>B3</td>\n",
              "      <td>OWN</td>\n",
              "      <td>91556.85423</td>\n",
              "      <td>Verified</td>\n",
              "      <td>n</td>\n",
              "      <td>Debt consolidation</td>\n",
              "      <td>4.812117</td>\n",
              "      <td>0</td>\n",
              "      <td>0</td>\n",
              "      <td>11</td>\n",
              "      <td>0</td>\n",
              "      <td>553</td>\n",
              "      <td>49.075855</td>\n",
              "      <td>9</td>\n",
              "      <td>w</td>\n",
              "      <td>248.572854</td>\n",
              "      <td>0.010354</td>\n",
              "      <td>2.127835</td>\n",
              "      <td>0.402315</td>\n",
              "      <td>0</td>\n",
              "      <td>INDIVIDUAL</td>\n",
              "      <td>104</td>\n",
              "      <td>0</td>\n",
              "      <td>33</td>\n",
              "      <td>90825</td>\n",
              "      <td>26145</td>\n",
              "      <td>0</td>\n",
              "    </tr>\n",
              "    <tr>\n",
              "      <th>...</th>\n",
              "      <td>...</td>\n",
              "      <td>...</td>\n",
              "      <td>...</td>\n",
              "      <td>...</td>\n",
              "      <td>...</td>\n",
              "      <td>...</td>\n",
              "      <td>...</td>\n",
              "      <td>...</td>\n",
              "      <td>...</td>\n",
              "      <td>...</td>\n",
              "      <td>...</td>\n",
              "      <td>...</td>\n",
              "      <td>...</td>\n",
              "      <td>...</td>\n",
              "      <td>...</td>\n",
              "      <td>...</td>\n",
              "      <td>...</td>\n",
              "      <td>...</td>\n",
              "      <td>...</td>\n",
              "      <td>...</td>\n",
              "      <td>...</td>\n",
              "      <td>...</td>\n",
              "      <td>...</td>\n",
              "      <td>...</td>\n",
              "      <td>...</td>\n",
              "      <td>...</td>\n",
              "      <td>...</td>\n",
              "      <td>...</td>\n",
              "      <td>...</td>\n",
              "      <td>...</td>\n",
              "      <td>...</td>\n",
              "      <td>...</td>\n",
              "      <td>...</td>\n",
              "      <td>...</td>\n",
              "      <td>...</td>\n",
              "    </tr>\n",
              "    <tr>\n",
              "      <th>28908</th>\n",
              "      <td>11537800</td>\n",
              "      <td>35000</td>\n",
              "      <td>35000</td>\n",
              "      <td>35000.000000</td>\n",
              "      <td>60</td>\n",
              "      <td>BAT5629144</td>\n",
              "      <td>16.240000</td>\n",
              "      <td>C</td>\n",
              "      <td>C5</td>\n",
              "      <td>MORTGAGE</td>\n",
              "      <td>360000.00000</td>\n",
              "      <td>Verified</td>\n",
              "      <td>n</td>\n",
              "      <td>Credit card refinancing</td>\n",
              "      <td>7.310000</td>\n",
              "      <td>0</td>\n",
              "      <td>0</td>\n",
              "      <td>8</td>\n",
              "      <td>1</td>\n",
              "      <td>83274</td>\n",
              "      <td>72.200000</td>\n",
              "      <td>16</td>\n",
              "      <td>f</td>\n",
              "      <td>10116.330000</td>\n",
              "      <td>0.000000</td>\n",
              "      <td>0.000000</td>\n",
              "      <td>0.000000</td>\n",
              "      <td>0</td>\n",
              "      <td>INDIVIDUAL</td>\n",
              "      <td>109</td>\n",
              "      <td>0</td>\n",
              "      <td>0</td>\n",
              "      <td>883984</td>\n",
              "      <td>114000</td>\n",
              "      <td>0</td>\n",
              "    </tr>\n",
              "    <tr>\n",
              "      <th>28909</th>\n",
              "      <td>11538258</td>\n",
              "      <td>25000</td>\n",
              "      <td>25000</td>\n",
              "      <td>25000.000000</td>\n",
              "      <td>60</td>\n",
              "      <td>BAT5629144</td>\n",
              "      <td>14.980000</td>\n",
              "      <td>C</td>\n",
              "      <td>C3</td>\n",
              "      <td>MORTGAGE</td>\n",
              "      <td>105000.00000</td>\n",
              "      <td>Source Verified</td>\n",
              "      <td>n</td>\n",
              "      <td>Debt consolidation</td>\n",
              "      <td>10.220000</td>\n",
              "      <td>0</td>\n",
              "      <td>1</td>\n",
              "      <td>10</td>\n",
              "      <td>0</td>\n",
              "      <td>26356</td>\n",
              "      <td>50.900000</td>\n",
              "      <td>26</td>\n",
              "      <td>f</td>\n",
              "      <td>6493.950000</td>\n",
              "      <td>0.000000</td>\n",
              "      <td>0.000000</td>\n",
              "      <td>0.000000</td>\n",
              "      <td>0</td>\n",
              "      <td>INDIVIDUAL</td>\n",
              "      <td>104</td>\n",
              "      <td>0</td>\n",
              "      <td>0</td>\n",
              "      <td>513925</td>\n",
              "      <td>51800</td>\n",
              "      <td>0</td>\n",
              "    </tr>\n",
              "    <tr>\n",
              "      <th>28910</th>\n",
              "      <td>13147685</td>\n",
              "      <td>30000</td>\n",
              "      <td>30000</td>\n",
              "      <td>29950.000000</td>\n",
              "      <td>60</td>\n",
              "      <td>BAT2136391</td>\n",
              "      <td>18.240000</td>\n",
              "      <td>D</td>\n",
              "      <td>D5</td>\n",
              "      <td>MORTGAGE</td>\n",
              "      <td>74100.00000</td>\n",
              "      <td>Verified</td>\n",
              "      <td>n</td>\n",
              "      <td>Debt consolidation</td>\n",
              "      <td>27.300000</td>\n",
              "      <td>0</td>\n",
              "      <td>0</td>\n",
              "      <td>19</td>\n",
              "      <td>0</td>\n",
              "      <td>31303</td>\n",
              "      <td>47.700000</td>\n",
              "      <td>45</td>\n",
              "      <td>f</td>\n",
              "      <td>7785.190000</td>\n",
              "      <td>0.000000</td>\n",
              "      <td>0.000000</td>\n",
              "      <td>0.000000</td>\n",
              "      <td>1</td>\n",
              "      <td>INDIVIDUAL</td>\n",
              "      <td>83</td>\n",
              "      <td>0</td>\n",
              "      <td>0</td>\n",
              "      <td>296294</td>\n",
              "      <td>65600</td>\n",
              "      <td>0</td>\n",
              "    </tr>\n",
              "    <tr>\n",
              "      <th>28911</th>\n",
              "      <td>13917689</td>\n",
              "      <td>25000</td>\n",
              "      <td>25000</td>\n",
              "      <td>24950.000000</td>\n",
              "      <td>60</td>\n",
              "      <td>BAT2136391</td>\n",
              "      <td>15.610000</td>\n",
              "      <td>D</td>\n",
              "      <td>D1</td>\n",
              "      <td>MORTGAGE</td>\n",
              "      <td>130000.00000</td>\n",
              "      <td>Verified</td>\n",
              "      <td>n</td>\n",
              "      <td>Debt consolidation</td>\n",
              "      <td>27.290000</td>\n",
              "      <td>2</td>\n",
              "      <td>0</td>\n",
              "      <td>12</td>\n",
              "      <td>0</td>\n",
              "      <td>25470</td>\n",
              "      <td>83.800000</td>\n",
              "      <td>34</td>\n",
              "      <td>f</td>\n",
              "      <td>5513.520000</td>\n",
              "      <td>0.000000</td>\n",
              "      <td>0.000000</td>\n",
              "      <td>0.000000</td>\n",
              "      <td>0</td>\n",
              "      <td>INDIVIDUAL</td>\n",
              "      <td>83</td>\n",
              "      <td>0</td>\n",
              "      <td>0</td>\n",
              "      <td>428723</td>\n",
              "      <td>30400</td>\n",
              "      <td>0</td>\n",
              "    </tr>\n",
              "    <tr>\n",
              "      <th>28912</th>\n",
              "      <td>10763026</td>\n",
              "      <td>24925</td>\n",
              "      <td>24925</td>\n",
              "      <td>24925.000000</td>\n",
              "      <td>60</td>\n",
              "      <td>BAT2575549</td>\n",
              "      <td>14.300000</td>\n",
              "      <td>C</td>\n",
              "      <td>C1</td>\n",
              "      <td>MORTGAGE</td>\n",
              "      <td>56000.00000</td>\n",
              "      <td>Verified</td>\n",
              "      <td>n</td>\n",
              "      <td>Debt consolidation</td>\n",
              "      <td>10.390000</td>\n",
              "      <td>0</td>\n",
              "      <td>0</td>\n",
              "      <td>19</td>\n",
              "      <td>0</td>\n",
              "      <td>18591</td>\n",
              "      <td>29.600000</td>\n",
              "      <td>47</td>\n",
              "      <td>f</td>\n",
              "      <td>6299.810000</td>\n",
              "      <td>0.000000</td>\n",
              "      <td>0.000000</td>\n",
              "      <td>0.000000</td>\n",
              "      <td>0</td>\n",
              "      <td>INDIVIDUAL</td>\n",
              "      <td>109</td>\n",
              "      <td>0</td>\n",
              "      <td>0</td>\n",
              "      <td>283758</td>\n",
              "      <td>62900</td>\n",
              "      <td>0</td>\n",
              "    </tr>\n",
              "  </tbody>\n",
              "</table>\n",
              "<p>28913 rows × 35 columns</p>\n",
              "</div>"
            ],
            "text/plain": [
              "             ID  Loan Amount  ...  Total Revolving Credit Limit  Loan Status\n",
              "0      56492997        17120  ...                          4364            0\n",
              "1      22540813         7133  ...                          2573            0\n",
              "2       9862181        25291  ...                         19676            0\n",
              "3      10097822        30781  ...                          7226            0\n",
              "4      47771809         8878  ...                         26145            0\n",
              "...         ...          ...  ...                           ...          ...\n",
              "28908  11537800        35000  ...                        114000            0\n",
              "28909  11538258        25000  ...                         51800            0\n",
              "28910  13147685        30000  ...                         65600            0\n",
              "28911  13917689        25000  ...                         30400            0\n",
              "28912  10763026        24925  ...                         62900            0\n",
              "\n",
              "[28913 rows x 35 columns]"
            ]
          },
          "metadata": {},
          "execution_count": 105
        }
      ],
      "source": [
        "test['Loan Status'] = 0\n",
        "test"
      ]
    },
    {
      "cell_type": "markdown",
      "metadata": {
        "id": "SHRRKu3AiI0c"
      },
      "source": [
        "No more null values"
      ]
    },
    {
      "cell_type": "code",
      "execution_count": 106,
      "metadata": {
        "colab": {
          "base_uri": "https://localhost:8080/"
        },
        "id": "IM2UkT3diI0d",
        "outputId": "36205cb2-10c8-487b-b8a0-bcdee45c23a1"
      },
      "outputs": [
        {
          "output_type": "execute_result",
          "data": {
            "text/plain": [
              "0    61222\n",
              "1     6241\n",
              "Name: Loan Status, dtype: int64"
            ]
          },
          "metadata": {},
          "execution_count": 106
        }
      ],
      "source": [
        "train['Loan Status'].value_counts()"
      ]
    },
    {
      "cell_type": "markdown",
      "metadata": {
        "id": "VPd5y_30iI0d"
      },
      "source": [
        "# We have an imbalanced dataset. Before using the dataset for modelling, we will preprocess our train and test data."
      ]
    },
    {
      "cell_type": "code",
      "execution_count": 107,
      "metadata": {
        "id": "EqaZhEs7iI0e"
      },
      "outputs": [],
      "source": [
        "#train"
      ]
    },
    {
      "cell_type": "markdown",
      "metadata": {
        "id": "GUA91y11iI0f"
      },
      "source": [
        "# Data Processing"
      ]
    },
    {
      "cell_type": "code",
      "execution_count": 108,
      "metadata": {
        "colab": {
          "base_uri": "https://localhost:8080/"
        },
        "id": "oCRRtr3eiI0f",
        "outputId": "0759b78c-4dfd-459e-d01d-5441e91b38f2"
      },
      "outputs": [
        {
          "output_type": "stream",
          "name": "stdout",
          "text": [
            "['Batch Enrolled', 'Grade', 'Sub Grade', 'Employment Duration', 'Verification Status', 'Payment Plan', 'Loan Title', 'Initial List Status', 'Application Type']\n",
            "['ID', 'Loan Amount', 'Funded Amount', 'Funded Amount Investor', 'Term', 'Interest Rate', 'Home Ownership', 'Debit to Income', 'Delinquency - two years', 'Inquires - six months', 'Open Account', 'Public Record', 'Revolving Balance', 'Revolving Utilities', 'Total Accounts', 'Total Received Interest', 'Total Received Late Fee', 'Recoveries', 'Collection Recovery Fee', 'Collection 12 months Medical', 'Last week Pay', 'Accounts Delinquent', 'Total Collection Amount', 'Total Current Balance', 'Total Revolving Credit Limit', 'Loan Status']\n"
          ]
        }
      ],
      "source": [
        "cols = train.columns\n",
        "cat_cols =[]\n",
        "num_cols =[]\n",
        "for col in cols:\n",
        "    if train[col].dtype=='object':\n",
        "        cat_cols.append(col)\n",
        "    else:\n",
        "        num_cols.append(col)\n",
        "print(cat_cols)\n",
        "print(num_cols)"
      ]
    },
    {
      "cell_type": "markdown",
      "metadata": {
        "id": "oDFKNSDoiI0f"
      },
      "source": [
        "From list of categorical columns, we have to figure out : nominal, ordinal col types\n",
        "\n",
        "\n",
        "['Batch Enrolled', 'Grade', 'Sub Grade', 'Employment Duration', 'Verification Status', 'Payment Plan', 'Loan Title', 'Initial List Status', 'Application Type']"
      ]
    },
    {
      "cell_type": "code",
      "execution_count": 109,
      "metadata": {
        "id": "M5HdHjkZiI0g"
      },
      "outputs": [],
      "source": [
        "nominal_cat_cols = []\n",
        "ordinal_cat_cols = []"
      ]
    },
    {
      "cell_type": "code",
      "execution_count": 110,
      "metadata": {
        "colab": {
          "base_uri": "https://localhost:8080/"
        },
        "id": "gyHsHwb-iI0g",
        "outputId": "87d8e112-be18-4b66-95a8-853af42512e4"
      },
      "outputs": [
        {
          "output_type": "execute_result",
          "data": {
            "text/plain": [
              "BAT3873588    3626\n",
              "BAT1586599    3142\n",
              "BAT1104812    2996\n",
              "BAT2252229    2557\n",
              "BAT2803411    2425\n",
              "BAT1780517    2403\n",
              "BAT1184694    2298\n",
              "BAT2078974    2290\n",
              "BAT2575549    2257\n",
              "BAT4694572    2248\n",
              "BAT4271519    2054\n",
              "BAT2558388    1963\n",
              "BAT3193689    1864\n",
              "BAT1930365    1844\n",
              "BAT2136391    1790\n",
              "BAT2333412    1775\n",
              "BAT3726927    1774\n",
              "BAT4136152    1766\n",
              "BAT5341619    1717\n",
              "BAT5525466    1709\n",
              "BAT5489674    1677\n",
              "BAT5629144    1639\n",
              "BAT1766061    1461\n",
              "BAT2833642    1421\n",
              "BAT5924421    1404\n",
              "BAT2522922    1399\n",
              "BAT2428731    1398\n",
              "BAT4808022    1303\n",
              "BAT4351734    1140\n",
              "BAT5547201    1127\n",
              "BAT5714674    1105\n",
              "BAT3461431    1068\n",
              "BAT224923      895\n",
              "BAT1761981     894\n",
              "BAT4722912     887\n",
              "BAT2003848     842\n",
              "BAT1467036     802\n",
              "BAT5849876     768\n",
              "BAT3865626     728\n",
              "BAT5811547     711\n",
              "BAT1135695     296\n",
              "Name: Batch Enrolled, dtype: int64"
            ]
          },
          "metadata": {},
          "execution_count": 110
        }
      ],
      "source": [
        "nominal_cat_cols.append('Batch Enrolled')\n",
        "train[\"Batch Enrolled\"].value_counts()"
      ]
    },
    {
      "cell_type": "code",
      "execution_count": 111,
      "metadata": {
        "colab": {
          "base_uri": "https://localhost:8080/"
        },
        "id": "klh-7dsfiI0h",
        "outputId": "54d7948c-53f1-4e6f-a67c-b8666ad7d4e7"
      },
      "outputs": [
        {
          "output_type": "execute_result",
          "data": {
            "text/plain": [
              "C    19085\n",
              "B    18742\n",
              "A    12055\n",
              "D     8259\n",
              "E     6446\n",
              "F     2246\n",
              "G      630\n",
              "Name: Grade, dtype: int64"
            ]
          },
          "metadata": {},
          "execution_count": 111
        }
      ],
      "source": [
        "ordinal_cat_cols.append('Grade')\n",
        "train[\"Grade\"].value_counts()"
      ]
    },
    {
      "cell_type": "code",
      "execution_count": 112,
      "metadata": {
        "colab": {
          "base_uri": "https://localhost:8080/"
        },
        "id": "3Z1_s1rjiI0k",
        "outputId": "7b656ec3-4ed0-48c4-a1ee-100dc51c2dd1"
      },
      "outputs": [
        {
          "output_type": "execute_result",
          "data": {
            "text/plain": [
              "B4    4462\n",
              "C1    4188\n",
              "B3    3999\n",
              "A5    3540\n",
              "B2    3520\n",
              "B5    3408\n",
              "D1    3304\n",
              "C4    3250\n",
              "C2    3219\n",
              "C3    3121\n",
              "B1    2924\n",
              "C5    2472\n",
              "A4    2264\n",
              "D4    2050\n",
              "D2    1963\n",
              "D5    1952\n",
              "A2    1837\n",
              "D3    1824\n",
              "E2    1746\n",
              "A3    1685\n",
              "A1    1364\n",
              "E3    1321\n",
              "E1    1298\n",
              "E4    1117\n",
              "F2     947\n",
              "F1     824\n",
              "E5     769\n",
              "F5     582\n",
              "F3     578\n",
              "G2     447\n",
              "F4     441\n",
              "G1     366\n",
              "G5     284\n",
              "G3     246\n",
              "G4     151\n",
              "Name: Sub Grade, dtype: int64"
            ]
          },
          "metadata": {},
          "execution_count": 112
        }
      ],
      "source": [
        "nominal_cat_cols.append('Sub Grade')\n",
        "train[\"Sub Grade\"].value_counts()"
      ]
    },
    {
      "cell_type": "code",
      "execution_count": 113,
      "metadata": {
        "colab": {
          "base_uri": "https://localhost:8080/"
        },
        "id": "W1AEhVIpiI0l",
        "outputId": "a9d3cc40-f72b-48cb-ac09-a4e5a3d2d70a"
      },
      "outputs": [
        {
          "output_type": "execute_result",
          "data": {
            "text/plain": [
              "MORTGAGE    36351\n",
              "RENT        24150\n",
              "OWN          6962\n",
              "Name: Employment Duration, dtype: int64"
            ]
          },
          "metadata": {},
          "execution_count": 113
        }
      ],
      "source": [
        "ordinal_cat_cols.append('Employment Duration')\n",
        "train[\"Employment Duration\"].value_counts()"
      ]
    },
    {
      "cell_type": "code",
      "execution_count": 114,
      "metadata": {
        "colab": {
          "base_uri": "https://localhost:8080/"
        },
        "id": "LjOE95rQiI0l",
        "outputId": "b3249776-de09-48da-dc08-75c538944161"
      },
      "outputs": [
        {
          "output_type": "execute_result",
          "data": {
            "text/plain": [
              "Source Verified    33036\n",
              "Verified           18078\n",
              "Not Verified       16349\n",
              "Name: Verification Status, dtype: int64"
            ]
          },
          "metadata": {},
          "execution_count": 114
        }
      ],
      "source": [
        "ordinal_cat_cols.append('Verification Status')\n",
        "train[\"Verification Status\"].value_counts()"
      ]
    },
    {
      "cell_type": "code",
      "execution_count": 115,
      "metadata": {
        "colab": {
          "base_uri": "https://localhost:8080/"
        },
        "id": "4Hece8D_iI0m",
        "outputId": "13de91ff-7c23-46e8-9b8f-667ec6bf25ff"
      },
      "outputs": [
        {
          "output_type": "execute_result",
          "data": {
            "text/plain": [
              "n    67463\n",
              "Name: Payment Plan, dtype: int64"
            ]
          },
          "metadata": {},
          "execution_count": 115
        }
      ],
      "source": [
        "nominal_cat_cols.append('Payment Plan')\n",
        "train[\"Payment Plan\"].value_counts()"
      ]
    },
    {
      "cell_type": "code",
      "execution_count": 116,
      "metadata": {
        "colab": {
          "base_uri": "https://localhost:8080/"
        },
        "id": "4AV_DoHwiI0m",
        "outputId": "b0883d3c-0f51-4cbd-9990-e07ee896fdbf"
      },
      "outputs": [
        {
          "output_type": "stream",
          "name": "stdout",
          "text": [
            "Credit card refinancing    30728\n",
            "Debt consolidation         24841\n",
            "Debt Consolidation          3544\n",
            "Other                       2455\n",
            "Home improvement            2211\n",
            "                           ...  \n",
            "Debt Consolidation 2013        6\n",
            "Getting Ahead                  5\n",
            "Personal loan                  5\n",
            "Credit                         4\n",
            "bills                          4\n",
            "Name: Loan Title, Length: 109, dtype: int64\n",
            "---------------------------------------\n",
            "109\n"
          ]
        }
      ],
      "source": [
        "nominal_cat_cols.append('Loan Title')\n",
        "print(train[\"Loan Title\"].value_counts())\n",
        "print(\"---------------------------------------\")\n",
        "print(train[\"Loan Title\"].nunique())"
      ]
    },
    {
      "cell_type": "code",
      "execution_count": 117,
      "metadata": {
        "colab": {
          "base_uri": "https://localhost:8080/"
        },
        "id": "mi6MSNnniI0m",
        "outputId": "38880b93-d380-447d-c860-f4f585ddc207"
      },
      "outputs": [
        {
          "output_type": "execute_result",
          "data": {
            "text/plain": [
              "w    36299\n",
              "f    31164\n",
              "Name: Initial List Status, dtype: int64"
            ]
          },
          "metadata": {},
          "execution_count": 117
        }
      ],
      "source": [
        "ordinal_cat_cols.append('Initial List Status')\n",
        "train[\"Initial List Status\"].value_counts()"
      ]
    },
    {
      "cell_type": "code",
      "execution_count": 118,
      "metadata": {
        "colab": {
          "base_uri": "https://localhost:8080/"
        },
        "id": "TbNswPVkiI0n",
        "outputId": "8d108fb4-517c-4c23-9052-a926b3f49d07"
      },
      "outputs": [
        {
          "output_type": "execute_result",
          "data": {
            "text/plain": [
              "INDIVIDUAL    67340\n",
              "JOINT           123\n",
              "Name: Application Type, dtype: int64"
            ]
          },
          "metadata": {},
          "execution_count": 118
        }
      ],
      "source": [
        "ordinal_cat_cols.append('Application Type')\n",
        "train[\"Application Type\"].value_counts()"
      ]
    },
    {
      "cell_type": "code",
      "execution_count": 119,
      "metadata": {
        "colab": {
          "base_uri": "https://localhost:8080/"
        },
        "id": "YgQFdcF2iI0n",
        "outputId": "6011fee2-69a0-47e8-9e10-5d3b33371712"
      },
      "outputs": [
        {
          "output_type": "stream",
          "name": "stdout",
          "text": [
            "['Batch Enrolled', 'Sub Grade', 'Payment Plan', 'Loan Title']\n",
            "['Grade', 'Employment Duration', 'Verification Status', 'Initial List Status', 'Application Type']\n"
          ]
        }
      ],
      "source": [
        "print(nominal_cat_cols)\n",
        "print(ordinal_cat_cols)"
      ]
    },
    {
      "cell_type": "code",
      "execution_count": 120,
      "metadata": {
        "colab": {
          "base_uri": "https://localhost:8080/"
        },
        "id": "T4wVOv9BiI0n",
        "outputId": "9937a818-5326-4304-d8b3-50a9e29f08a1"
      },
      "outputs": [
        {
          "output_type": "stream",
          "name": "stdout",
          "text": [
            "['Batch Enrolled', 'Sub Grade', 'Payment Plan', 'Loan Title']\n",
            "['Grade', 'Employment Duration', 'Verification Status', 'Initial List Status', 'Application Type']\n"
          ]
        }
      ],
      "source": [
        "print(nominal_cat_cols)\n",
        "print(ordinal_cat_cols)"
      ]
    },
    {
      "cell_type": "markdown",
      "metadata": {
        "id": "PImxo-02iI0o"
      },
      "source": [
        "Next step, I will be converting ordinal dtype features to their mean label values and nominal dtype features would be label encoded"
      ]
    },
    {
      "cell_type": "code",
      "execution_count": 121,
      "metadata": {
        "colab": {
          "base_uri": "https://localhost:8080/"
        },
        "id": "eUQoiaOGiI0o",
        "outputId": "c796d7c5-7491-4c2a-ee38-958b7ba27855"
      },
      "outputs": [
        {
          "output_type": "stream",
          "name": "stdout",
          "text": [
            "['Grade', 'Employment Duration', 'Verification Status', 'Initial List Status', 'Application Type']\n"
          ]
        }
      ],
      "source": [
        "print(ordinal_cat_cols)"
      ]
    },
    {
      "cell_type": "code",
      "execution_count": 122,
      "metadata": {
        "colab": {
          "base_uri": "https://localhost:8080/"
        },
        "id": "d8PaPGLyiI0o",
        "outputId": "5fd9029b-4702-4237-962f-ac49020afefc"
      },
      "outputs": [
        {
          "output_type": "stream",
          "name": "stdout",
          "text": [
            "{'B': 0, 'A': 1, 'C': 2, 'E': 3, 'D': 4, 'F': 5, 'G': 6}\n"
          ]
        }
      ],
      "source": [
        "g = (train[[\"Grade\", \"Loan Status\"]]\n",
        "        .groupby([\"Grade\"], as_index=False)\n",
        "        .mean()\n",
        "        .sort_values(by=\"Loan Status\", ascending=True)\n",
        ")['Grade']\n",
        "idx_g = g.index\n",
        "val_g = g.values\n",
        "g_labels = {k:i for i,k in enumerate(val_g,0)}\n",
        "print(g_labels)\n",
        "train[\"Grade\"] = train[\"Grade\"].map(g_labels)\n",
        "\n",
        "e = (train[[\"Employment Duration\", \"Loan Status\"]]\n",
        "        .groupby([\"Employment Duration\"], as_index=False)\n",
        "        .mean()\n",
        "        .sort_values(by=\"Loan Status\", ascending=True)\n",
        ")['Employment Duration']\n",
        "idx_e = e.index\n",
        "val_e = e.values\n",
        "e_labels = {k:i for i,k in enumerate(val_e,0)}\n",
        "train[\"Employment Duration\"] = train[\"Employment Duration\"].map(e_labels)\n",
        "\n",
        "\n",
        "v = (train[[\"Verification Status\", \"Loan Status\"]]\n",
        "        .groupby([\"Verification Status\"], as_index=False)\n",
        "        .mean()\n",
        "        .sort_values(by=\"Loan Status\", ascending=True)\n",
        ")['Verification Status']\n",
        "idx_v = v.index\n",
        "val_v = v.values\n",
        "v_labels = {k:i for i,k in enumerate(val_v,0)}\n",
        "train[\"Verification Status\"] = train[\"Verification Status\"].map(v_labels)\n",
        "\n",
        "\n",
        "l = (train[[\"Initial List Status\", \"Loan Status\"]]\n",
        "        .groupby([\"Initial List Status\"], as_index=False)\n",
        "        .mean()\n",
        "        .sort_values(by=\"Loan Status\", ascending=True)\n",
        ")['Initial List Status']\n",
        "idx_l = l.index\n",
        "val_l = l.values\n",
        "l_labels = {k:i for i,k in enumerate(val_l,0)}\n",
        "train[\"Initial List Status\"] = train[\"Initial List Status\"].map(l_labels)\n",
        "\n",
        "\n",
        "ap = (train[[\"Application Type\", \"Loan Status\"]]\n",
        "        .groupby([\"Application Type\"], as_index=False)\n",
        "        .mean()\n",
        "        .sort_values(by=\"Loan Status\", ascending=True)\n",
        ")['Application Type']\n",
        "idx_ap = ap.index\n",
        "val_ap = ap.values\n",
        "ap_labels = {k:i for i,k in enumerate(val_ap,0)}\n",
        "train[\"Application Type\"] = train[\"Application Type\"].map(ap_labels)\n",
        "\n",
        "\n",
        "\n",
        "#------------------------------TEST-------------------------------------------------------------------#\n",
        "\n",
        "\n",
        "\n",
        "\n",
        "g = (test[[\"Grade\", \"Loan Status\"]]\n",
        "        .groupby([\"Grade\"], as_index=False)\n",
        "        .mean()\n",
        "        .sort_values(by=\"Loan Status\", ascending=True)\n",
        ")['Grade']\n",
        "idx_g = g.index\n",
        "val_g = g.values\n",
        "g_labels = {k:i for i,k in enumerate(val_g,0)}\n",
        "test[\"Grade\"] = test[\"Grade\"].map(g_labels)\n",
        "\n",
        "e = (test[[\"Employment Duration\", \"Loan Status\"]]\n",
        "        .groupby([\"Employment Duration\"], as_index=False)\n",
        "        .mean()\n",
        "        .sort_values(by=\"Loan Status\", ascending=True)\n",
        ")['Employment Duration']\n",
        "idx_e = e.index\n",
        "val_e = e.values\n",
        "e_labels = {k:i for i,k in enumerate(val_e,0)}\n",
        "test[\"Employment Duration\"] = test[\"Employment Duration\"].map(e_labels)\n",
        "\n",
        "\n",
        "v = (test[[\"Verification Status\", \"Loan Status\"]]\n",
        "        .groupby([\"Verification Status\"], as_index=False)\n",
        "        .mean()\n",
        "        .sort_values(by=\"Loan Status\", ascending=True)\n",
        ")['Verification Status']\n",
        "idx_v = v.index\n",
        "val_v = v.values\n",
        "v_labels = {k:i for i,k in enumerate(val_v,0)}\n",
        "test[\"Verification Status\"] = test[\"Verification Status\"].map(v_labels)\n",
        "\n",
        "\n",
        "l = (test[[\"Initial List Status\", \"Loan Status\"]]\n",
        "        .groupby([\"Initial List Status\"], as_index=False)\n",
        "        .mean()\n",
        "        .sort_values(by=\"Loan Status\", ascending=True)\n",
        ")['Initial List Status']\n",
        "idx_l = l.index\n",
        "val_l = l.values\n",
        "l_labels = {k:i for i,k in enumerate(val_l,0)}\n",
        "test[\"Initial List Status\"] = test[\"Initial List Status\"].map(l_labels)\n",
        "\n",
        "\n",
        "ap = (test[[\"Application Type\", \"Loan Status\"]]\n",
        "        .groupby([\"Application Type\"], as_index=False)\n",
        "        .mean()\n",
        "        .sort_values(by=\"Loan Status\", ascending=True)\n",
        ")['Application Type']\n",
        "idx_ap = ap.index\n",
        "val_ap = ap.values\n",
        "ap_labels = {k:i for i,k in enumerate(val_ap,0)}\n",
        "test[\"Application Type\"] = test[\"Application Type\"].map(ap_labels)"
      ]
    },
    {
      "cell_type": "markdown",
      "metadata": {
        "id": "0aCASguTiI0q"
      },
      "source": [
        "Label Encoding nominal feature set"
      ]
    },
    {
      "cell_type": "code",
      "execution_count": 123,
      "metadata": {
        "colab": {
          "base_uri": "https://localhost:8080/"
        },
        "id": "-RUZHfpgiI0q",
        "outputId": "eb693a99-ef6c-49c8-e06f-da902ecd2774"
      },
      "outputs": [
        {
          "output_type": "stream",
          "name": "stdout",
          "text": [
            "['Batch Enrolled', 'Sub Grade', 'Payment Plan', 'Loan Title']\n"
          ]
        }
      ],
      "source": [
        "print(nominal_cat_cols)"
      ]
    },
    {
      "cell_type": "code",
      "execution_count": 124,
      "metadata": {
        "id": "ju1iMJq4iI0r"
      },
      "outputs": [],
      "source": [
        "#Enocding nominal dtype features\n",
        "le = LabelEncoder()\n",
        "\n",
        "train['Batch Enrolled'] = le.fit_transform(train[\"Batch Enrolled\"])\n",
        "test[\"Batch Enrolled\"] = le.fit_transform(test[\"Batch Enrolled\"])\n",
        "\n",
        "train['Sub Grade'] = le.fit_transform(train[\"Sub Grade\"])\n",
        "test[\"Sub Grade\"] = le.fit_transform(test[\"Sub Grade\"])\n",
        "\n",
        "train['Payment Plan'] = le.fit_transform(train[\"Payment Plan\"])\n",
        "test[\"Payment Plan\"] = le.fit_transform(test[\"Payment Plan\"])\n",
        "\n",
        "train['Loan Title'] = le.fit_transform(train[\"Loan Title\"])\n",
        "test[\"Loan Title\"] = le.fit_transform(test[\"Loan Title\"])"
      ]
    },
    {
      "cell_type": "code",
      "execution_count": 125,
      "metadata": {
        "colab": {
          "base_uri": "https://localhost:8080/"
        },
        "id": "XW1joWGGiI0r",
        "outputId": "86d9cd33-7fa8-49d9-898b-51bc9ff03552"
      },
      "outputs": [
        {
          "output_type": "stream",
          "name": "stdout",
          "text": [
            "<class 'pandas.core.frame.DataFrame'>\n",
            "RangeIndex: 67463 entries, 0 to 67462\n",
            "Data columns (total 35 columns):\n",
            " #   Column                        Non-Null Count  Dtype  \n",
            "---  ------                        --------------  -----  \n",
            " 0   ID                            67463 non-null  int64  \n",
            " 1   Loan Amount                   67463 non-null  int64  \n",
            " 2   Funded Amount                 67463 non-null  int64  \n",
            " 3   Funded Amount Investor        67463 non-null  float64\n",
            " 4   Term                          67463 non-null  int64  \n",
            " 5   Batch Enrolled                67463 non-null  int64  \n",
            " 6   Interest Rate                 67463 non-null  float64\n",
            " 7   Grade                         67463 non-null  int64  \n",
            " 8   Sub Grade                     67463 non-null  int64  \n",
            " 9   Employment Duration           67463 non-null  int64  \n",
            " 10  Home Ownership                67463 non-null  float64\n",
            " 11  Verification Status           67463 non-null  int64  \n",
            " 12  Payment Plan                  67463 non-null  int64  \n",
            " 13  Loan Title                    67463 non-null  int64  \n",
            " 14  Debit to Income               67463 non-null  float64\n",
            " 15  Delinquency - two years       67463 non-null  int64  \n",
            " 16  Inquires - six months         67463 non-null  int64  \n",
            " 17  Open Account                  67463 non-null  int64  \n",
            " 18  Public Record                 67463 non-null  int64  \n",
            " 19  Revolving Balance             67463 non-null  int64  \n",
            " 20  Revolving Utilities           67463 non-null  float64\n",
            " 21  Total Accounts                67463 non-null  int64  \n",
            " 22  Initial List Status           67463 non-null  int64  \n",
            " 23  Total Received Interest       67463 non-null  float64\n",
            " 24  Total Received Late Fee       67463 non-null  float64\n",
            " 25  Recoveries                    67463 non-null  float64\n",
            " 26  Collection Recovery Fee       67463 non-null  float64\n",
            " 27  Collection 12 months Medical  67463 non-null  int64  \n",
            " 28  Application Type              67463 non-null  int64  \n",
            " 29  Last week Pay                 67463 non-null  int64  \n",
            " 30  Accounts Delinquent           67463 non-null  int64  \n",
            " 31  Total Collection Amount       67463 non-null  int64  \n",
            " 32  Total Current Balance         67463 non-null  int64  \n",
            " 33  Total Revolving Credit Limit  67463 non-null  int64  \n",
            " 34  Loan Status                   67463 non-null  int64  \n",
            "dtypes: float64(9), int64(26)\n",
            "memory usage: 18.0 MB\n"
          ]
        }
      ],
      "source": [
        "train.info()"
      ]
    },
    {
      "cell_type": "code",
      "execution_count": 126,
      "metadata": {
        "colab": {
          "base_uri": "https://localhost:8080/"
        },
        "id": "4jKyHlKQiI0r",
        "outputId": "609b2bb4-155b-4702-fa06-f23ee8835fa6"
      },
      "outputs": [
        {
          "output_type": "stream",
          "name": "stdout",
          "text": [
            "<class 'pandas.core.frame.DataFrame'>\n",
            "RangeIndex: 28913 entries, 0 to 28912\n",
            "Data columns (total 35 columns):\n",
            " #   Column                        Non-Null Count  Dtype  \n",
            "---  ------                        --------------  -----  \n",
            " 0   ID                            28913 non-null  int64  \n",
            " 1   Loan Amount                   28913 non-null  int64  \n",
            " 2   Funded Amount                 28913 non-null  int64  \n",
            " 3   Funded Amount Investor        28913 non-null  float64\n",
            " 4   Term                          28913 non-null  int64  \n",
            " 5   Batch Enrolled                28913 non-null  int64  \n",
            " 6   Interest Rate                 28913 non-null  float64\n",
            " 7   Grade                         28913 non-null  int64  \n",
            " 8   Sub Grade                     28913 non-null  int64  \n",
            " 9   Employment Duration           28913 non-null  int64  \n",
            " 10  Home Ownership                28913 non-null  float64\n",
            " 11  Verification Status           28913 non-null  int64  \n",
            " 12  Payment Plan                  28913 non-null  int64  \n",
            " 13  Loan Title                    28913 non-null  int64  \n",
            " 14  Debit to Income               28913 non-null  float64\n",
            " 15  Delinquency - two years       28913 non-null  int64  \n",
            " 16  Inquires - six months         28913 non-null  int64  \n",
            " 17  Open Account                  28913 non-null  int64  \n",
            " 18  Public Record                 28913 non-null  int64  \n",
            " 19  Revolving Balance             28913 non-null  int64  \n",
            " 20  Revolving Utilities           28913 non-null  float64\n",
            " 21  Total Accounts                28913 non-null  int64  \n",
            " 22  Initial List Status           28913 non-null  int64  \n",
            " 23  Total Received Interest       28913 non-null  float64\n",
            " 24  Total Received Late Fee       28913 non-null  float64\n",
            " 25  Recoveries                    28913 non-null  float64\n",
            " 26  Collection Recovery Fee       28913 non-null  float64\n",
            " 27  Collection 12 months Medical  28913 non-null  int64  \n",
            " 28  Application Type              28913 non-null  int64  \n",
            " 29  Last week Pay                 28913 non-null  int64  \n",
            " 30  Accounts Delinquent           28913 non-null  int64  \n",
            " 31  Total Collection Amount       28913 non-null  int64  \n",
            " 32  Total Current Balance         28913 non-null  int64  \n",
            " 33  Total Revolving Credit Limit  28913 non-null  int64  \n",
            " 34  Loan Status                   28913 non-null  int64  \n",
            "dtypes: float64(9), int64(26)\n",
            "memory usage: 7.7 MB\n"
          ]
        }
      ],
      "source": [
        "test.info()"
      ]
    },
    {
      "cell_type": "code",
      "execution_count": 127,
      "metadata": {
        "id": "XkHNnz4IiI0w"
      },
      "outputs": [],
      "source": [
        "#test"
      ]
    },
    {
      "cell_type": "markdown",
      "metadata": {
        "id": "vhhbnCY_iI0x"
      },
      "source": [
        "# Scaling our data"
      ]
    },
    {
      "cell_type": "code",
      "execution_count": 128,
      "metadata": {
        "colab": {
          "base_uri": "https://localhost:8080/"
        },
        "id": "7oiLbBlYiI0x",
        "outputId": "5473eaa7-55bf-4a55-d9fb-9e88d83dd32e"
      },
      "outputs": [
        {
          "output_type": "stream",
          "name": "stdout",
          "text": [
            "(67463, 34)\n",
            "(67463,)\n",
            "(28913, 34)\n"
          ]
        }
      ],
      "source": [
        "rscale = RobustScaler()\n",
        "\n",
        "\n",
        "X_train_bs = train.drop(columns=['Loan Status'])\n",
        "y_train = train['Loan Status']\n",
        "X_test_bs = test.drop(columns=['Loan Status'])\n",
        "#y_test = test['Loan Status']\n",
        "\n",
        "print(X_train_bs.shape)\n",
        "print(y_train.shape)\n",
        "print(X_test_bs.shape)\n",
        "#print(y_test.shape)\n",
        "\n",
        "X_train = pd.DataFrame( rscale.fit_transform(X_train_bs), columns = X_train_bs.columns )\n",
        "X_test = pd.DataFrame( rscale.fit_transform(X_test_bs), columns = X_test_bs.columns )"
      ]
    },
    {
      "cell_type": "code",
      "execution_count": 129,
      "metadata": {
        "colab": {
          "base_uri": "https://localhost:8080/",
          "height": 495
        },
        "id": "DEut85BmiI0y",
        "outputId": "86e8b5bd-048e-4b94-ca21-719c42554c91"
      },
      "outputs": [
        {
          "output_type": "execute_result",
          "data": {
            "text/html": [
              "<div>\n",
              "<style scoped>\n",
              "    .dataframe tbody tr th:only-of-type {\n",
              "        vertical-align: middle;\n",
              "    }\n",
              "\n",
              "    .dataframe tbody tr th {\n",
              "        vertical-align: top;\n",
              "    }\n",
              "\n",
              "    .dataframe thead th {\n",
              "        text-align: right;\n",
              "    }\n",
              "</style>\n",
              "<table border=\"1\" class=\"dataframe\">\n",
              "  <thead>\n",
              "    <tr style=\"text-align: right;\">\n",
              "      <th></th>\n",
              "      <th>ID</th>\n",
              "      <th>Loan Amount</th>\n",
              "      <th>Funded Amount</th>\n",
              "      <th>Funded Amount Investor</th>\n",
              "      <th>Term</th>\n",
              "      <th>Batch Enrolled</th>\n",
              "      <th>Interest Rate</th>\n",
              "      <th>Grade</th>\n",
              "      <th>Sub Grade</th>\n",
              "      <th>Employment Duration</th>\n",
              "      <th>Home Ownership</th>\n",
              "      <th>Verification Status</th>\n",
              "      <th>Payment Plan</th>\n",
              "      <th>Loan Title</th>\n",
              "      <th>Debit to Income</th>\n",
              "      <th>Delinquency - two years</th>\n",
              "      <th>Inquires - six months</th>\n",
              "      <th>Open Account</th>\n",
              "      <th>Public Record</th>\n",
              "      <th>Revolving Balance</th>\n",
              "      <th>Revolving Utilities</th>\n",
              "      <th>Total Accounts</th>\n",
              "      <th>Initial List Status</th>\n",
              "      <th>Total Received Interest</th>\n",
              "      <th>Total Received Late Fee</th>\n",
              "      <th>Recoveries</th>\n",
              "      <th>Collection Recovery Fee</th>\n",
              "      <th>Collection 12 months Medical</th>\n",
              "      <th>Application Type</th>\n",
              "      <th>Last week Pay</th>\n",
              "      <th>Accounts Delinquent</th>\n",
              "      <th>Total Collection Amount</th>\n",
              "      <th>Total Current Balance</th>\n",
              "      <th>Total Revolving Credit Limit</th>\n",
              "    </tr>\n",
              "  </thead>\n",
              "  <tbody>\n",
              "    <tr>\n",
              "      <th>0</th>\n",
              "      <td>1.305072</td>\n",
              "      <td>-0.502150</td>\n",
              "      <td>1.532272</td>\n",
              "      <td>-0.058215</td>\n",
              "      <td>0.0</td>\n",
              "      <td>-0.157895</td>\n",
              "      <td>-0.049565</td>\n",
              "      <td>-0.666667</td>\n",
              "      <td>0.181818</td>\n",
              "      <td>0.0</td>\n",
              "      <td>2.492479</td>\n",
              "      <td>0.0</td>\n",
              "      <td>0.0</td>\n",
              "      <td>0.000000</td>\n",
              "      <td>-0.479379</td>\n",
              "      <td>1.0</td>\n",
              "      <td>0.0</td>\n",
              "      <td>0.000000</td>\n",
              "      <td>0.0</td>\n",
              "      <td>2.455588</td>\n",
              "      <td>0.683204</td>\n",
              "      <td>-1.1</td>\n",
              "      <td>0.0</td>\n",
              "      <td>0.766425</td>\n",
              "      <td>1.155358</td>\n",
              "      <td>-0.221301</td>\n",
              "      <td>0.022855</td>\n",
              "      <td>0.0</td>\n",
              "      <td>0.0</td>\n",
              "      <td>-0.271429</td>\n",
              "      <td>0.0</td>\n",
              "      <td>-0.227273</td>\n",
              "      <td>1.083912</td>\n",
              "      <td>-0.421575</td>\n",
              "    </tr>\n",
              "    <tr>\n",
              "      <th>1</th>\n",
              "      <td>-0.455541</td>\n",
              "      <td>-1.030594</td>\n",
              "      <td>-0.087973</td>\n",
              "      <td>-0.075438</td>\n",
              "      <td>0.0</td>\n",
              "      <td>-0.789474</td>\n",
              "      <td>0.175612</td>\n",
              "      <td>0.000000</td>\n",
              "      <td>0.545455</td>\n",
              "      <td>1.0</td>\n",
              "      <td>-0.687154</td>\n",
              "      <td>0.5</td>\n",
              "      <td>0.0</td>\n",
              "      <td>0.636364</td>\n",
              "      <td>-0.545009</td>\n",
              "      <td>0.0</td>\n",
              "      <td>0.0</td>\n",
              "      <td>-0.166667</td>\n",
              "      <td>0.0</td>\n",
              "      <td>-0.616716</td>\n",
              "      <td>0.793454</td>\n",
              "      <td>-0.5</td>\n",
              "      <td>1.0</td>\n",
              "      <td>-0.267526</td>\n",
              "      <td>-0.142138</td>\n",
              "      <td>-0.252963</td>\n",
              "      <td>0.327576</td>\n",
              "      <td>0.0</td>\n",
              "      <td>0.0</td>\n",
              "      <td>0.585714</td>\n",
              "      <td>0.0</td>\n",
              "      <td>0.772727</td>\n",
              "      <td>0.360913</td>\n",
              "      <td>0.173065</td>\n",
              "    </tr>\n",
              "    <tr>\n",
              "      <th>2</th>\n",
              "      <td>-0.441184</td>\n",
              "      <td>1.009013</td>\n",
              "      <td>-0.297849</td>\n",
              "      <td>1.104519</td>\n",
              "      <td>0.0</td>\n",
              "      <td>-0.421053</td>\n",
              "      <td>0.238582</td>\n",
              "      <td>1.000000</td>\n",
              "      <td>0.636364</td>\n",
              "      <td>0.0</td>\n",
              "      <td>0.516400</td>\n",
              "      <td>0.5</td>\n",
              "      <td>0.0</td>\n",
              "      <td>0.000000</td>\n",
              "      <td>0.412351</td>\n",
              "      <td>0.0</td>\n",
              "      <td>0.0</td>\n",
              "      <td>0.166667</td>\n",
              "      <td>0.0</td>\n",
              "      <td>-0.481547</td>\n",
              "      <td>-1.704201</td>\n",
              "      <td>0.2</td>\n",
              "      <td>0.0</td>\n",
              "      <td>-0.224116</td>\n",
              "      <td>369.021540</td>\n",
              "      <td>0.254126</td>\n",
              "      <td>0.403722</td>\n",
              "      <td>0.0</td>\n",
              "      <td>0.0</td>\n",
              "      <td>-0.028571</td>\n",
              "      <td>0.0</td>\n",
              "      <td>-0.090909</td>\n",
              "      <td>-0.160498</td>\n",
              "      <td>0.392731</td>\n",
              "    </tr>\n",
              "    <tr>\n",
              "      <th>3</th>\n",
              "      <td>-0.311640</td>\n",
              "      <td>-0.405408</td>\n",
              "      <td>-0.486010</td>\n",
              "      <td>0.637354</td>\n",
              "      <td>0.0</td>\n",
              "      <td>-0.210526</td>\n",
              "      <td>1.093358</td>\n",
              "      <td>0.000000</td>\n",
              "      <td>0.090909</td>\n",
              "      <td>0.0</td>\n",
              "      <td>0.907235</td>\n",
              "      <td>0.5</td>\n",
              "      <td>0.0</td>\n",
              "      <td>0.636364</td>\n",
              "      <td>-0.347046</td>\n",
              "      <td>1.0</td>\n",
              "      <td>0.0</td>\n",
              "      <td>-1.000000</td>\n",
              "      <td>0.0</td>\n",
              "      <td>1.088561</td>\n",
              "      <td>0.438610</td>\n",
              "      <td>-0.6</td>\n",
              "      <td>0.0</td>\n",
              "      <td>-0.499829</td>\n",
              "      <td>0.014454</td>\n",
              "      <td>-0.846648</td>\n",
              "      <td>-0.050764</td>\n",
              "      <td>0.0</td>\n",
              "      <td>0.0</td>\n",
              "      <td>-0.414286</td>\n",
              "      <td>0.0</td>\n",
              "      <td>0.181818</td>\n",
              "      <td>-0.613385</td>\n",
              "      <td>1.812388</td>\n",
              "    </tr>\n",
              "    <tr>\n",
              "      <th>4</th>\n",
              "      <td>-0.098519</td>\n",
              "      <td>0.067554</td>\n",
              "      <td>0.014689</td>\n",
              "      <td>0.093562</td>\n",
              "      <td>0.0</td>\n",
              "      <td>0.684211</td>\n",
              "      <td>0.741486</td>\n",
              "      <td>0.000000</td>\n",
              "      <td>0.636364</td>\n",
              "      <td>0.0</td>\n",
              "      <td>-0.584649</td>\n",
              "      <td>0.5</td>\n",
              "      <td>0.0</td>\n",
              "      <td>-0.363636</td>\n",
              "      <td>-0.409779</td>\n",
              "      <td>1.0</td>\n",
              "      <td>3.0</td>\n",
              "      <td>0.000000</td>\n",
              "      <td>1.0</td>\n",
              "      <td>-0.520747</td>\n",
              "      <td>1.021303</td>\n",
              "      <td>0.4</td>\n",
              "      <td>0.0</td>\n",
              "      <td>-0.576018</td>\n",
              "      <td>379.421091</td>\n",
              "      <td>337.736628</td>\n",
              "      <td>-0.691879</td>\n",
              "      <td>0.0</td>\n",
              "      <td>0.0</td>\n",
              "      <td>-0.714286</td>\n",
              "      <td>0.0</td>\n",
              "      <td>17.909091</td>\n",
              "      <td>0.043035</td>\n",
              "      <td>0.243675</td>\n",
              "    </tr>\n",
              "    <tr>\n",
              "      <th>...</th>\n",
              "      <td>...</td>\n",
              "      <td>...</td>\n",
              "      <td>...</td>\n",
              "      <td>...</td>\n",
              "      <td>...</td>\n",
              "      <td>...</td>\n",
              "      <td>...</td>\n",
              "      <td>...</td>\n",
              "      <td>...</td>\n",
              "      <td>...</td>\n",
              "      <td>...</td>\n",
              "      <td>...</td>\n",
              "      <td>...</td>\n",
              "      <td>...</td>\n",
              "      <td>...</td>\n",
              "      <td>...</td>\n",
              "      <td>...</td>\n",
              "      <td>...</td>\n",
              "      <td>...</td>\n",
              "      <td>...</td>\n",
              "      <td>...</td>\n",
              "      <td>...</td>\n",
              "      <td>...</td>\n",
              "      <td>...</td>\n",
              "      <td>...</td>\n",
              "      <td>...</td>\n",
              "      <td>...</td>\n",
              "      <td>...</td>\n",
              "      <td>...</td>\n",
              "      <td>...</td>\n",
              "      <td>...</td>\n",
              "      <td>...</td>\n",
              "      <td>...</td>\n",
              "      <td>...</td>\n",
              "    </tr>\n",
              "    <tr>\n",
              "      <th>67458</th>\n",
              "      <td>-0.048436</td>\n",
              "      <td>-0.204399</td>\n",
              "      <td>-0.494472</td>\n",
              "      <td>0.047845</td>\n",
              "      <td>0.0</td>\n",
              "      <td>0.105263</td>\n",
              "      <td>-0.402100</td>\n",
              "      <td>0.000000</td>\n",
              "      <td>-0.727273</td>\n",
              "      <td>0.0</td>\n",
              "      <td>0.340651</td>\n",
              "      <td>-0.5</td>\n",
              "      <td>0.0</td>\n",
              "      <td>-0.363636</td>\n",
              "      <td>0.409906</td>\n",
              "      <td>1.0</td>\n",
              "      <td>0.0</td>\n",
              "      <td>0.000000</td>\n",
              "      <td>0.0</td>\n",
              "      <td>-0.184071</td>\n",
              "      <td>1.431832</td>\n",
              "      <td>0.1</td>\n",
              "      <td>0.0</td>\n",
              "      <td>0.310684</td>\n",
              "      <td>-0.392353</td>\n",
              "      <td>146.779196</td>\n",
              "      <td>0.143174</td>\n",
              "      <td>0.0</td>\n",
              "      <td>0.0</td>\n",
              "      <td>0.014286</td>\n",
              "      <td>0.0</td>\n",
              "      <td>0.545455</td>\n",
              "      <td>0.356221</td>\n",
              "      <td>0.732275</td>\n",
              "    </tr>\n",
              "    <tr>\n",
              "      <th>67459</th>\n",
              "      <td>0.477718</td>\n",
              "      <td>-0.640814</td>\n",
              "      <td>-0.159342</td>\n",
              "      <td>0.356546</td>\n",
              "      <td>0.0</td>\n",
              "      <td>-0.631579</td>\n",
              "      <td>-0.287067</td>\n",
              "      <td>0.000000</td>\n",
              "      <td>-0.363636</td>\n",
              "      <td>1.0</td>\n",
              "      <td>-0.089550</td>\n",
              "      <td>0.5</td>\n",
              "      <td>0.0</td>\n",
              "      <td>-0.363636</td>\n",
              "      <td>-0.373336</td>\n",
              "      <td>0.0</td>\n",
              "      <td>0.0</td>\n",
              "      <td>-0.166667</td>\n",
              "      <td>0.0</td>\n",
              "      <td>0.553392</td>\n",
              "      <td>-1.257988</td>\n",
              "      <td>-0.4</td>\n",
              "      <td>0.0</td>\n",
              "      <td>0.848473</td>\n",
              "      <td>-0.321111</td>\n",
              "      <td>-0.347558</td>\n",
              "      <td>1.048664</td>\n",
              "      <td>0.0</td>\n",
              "      <td>0.0</td>\n",
              "      <td>-0.771429</td>\n",
              "      <td>0.0</td>\n",
              "      <td>0.045455</td>\n",
              "      <td>-0.537523</td>\n",
              "      <td>-0.334250</td>\n",
              "    </tr>\n",
              "    <tr>\n",
              "      <th>67460</th>\n",
              "      <td>-0.040939</td>\n",
              "      <td>-0.014553</td>\n",
              "      <td>1.586956</td>\n",
              "      <td>-0.058203</td>\n",
              "      <td>0.0</td>\n",
              "      <td>-0.736842</td>\n",
              "      <td>1.689664</td>\n",
              "      <td>-0.333333</td>\n",
              "      <td>1.454545</td>\n",
              "      <td>0.0</td>\n",
              "      <td>-0.804078</td>\n",
              "      <td>-0.5</td>\n",
              "      <td>0.0</td>\n",
              "      <td>2.000000</td>\n",
              "      <td>-0.929950</td>\n",
              "      <td>0.0</td>\n",
              "      <td>0.0</td>\n",
              "      <td>-1.000000</td>\n",
              "      <td>1.0</td>\n",
              "      <td>-0.435398</td>\n",
              "      <td>-1.722975</td>\n",
              "      <td>-0.9</td>\n",
              "      <td>0.0</td>\n",
              "      <td>0.652502</td>\n",
              "      <td>-0.299113</td>\n",
              "      <td>0.608949</td>\n",
              "      <td>1.391458</td>\n",
              "      <td>0.0</td>\n",
              "      <td>0.0</td>\n",
              "      <td>0.985714</td>\n",
              "      <td>0.0</td>\n",
              "      <td>-0.863636</td>\n",
              "      <td>0.328592</td>\n",
              "      <td>1.066942</td>\n",
              "    </tr>\n",
              "    <tr>\n",
              "      <th>67461</th>\n",
              "      <td>-0.349021</td>\n",
              "      <td>0.040847</td>\n",
              "      <td>-0.643995</td>\n",
              "      <td>1.073232</td>\n",
              "      <td>0.0</td>\n",
              "      <td>-0.263158</td>\n",
              "      <td>0.365861</td>\n",
              "      <td>0.666667</td>\n",
              "      <td>1.000000</td>\n",
              "      <td>2.0</td>\n",
              "      <td>0.642925</td>\n",
              "      <td>0.0</td>\n",
              "      <td>0.0</td>\n",
              "      <td>0.636364</td>\n",
              "      <td>-1.131662</td>\n",
              "      <td>0.0</td>\n",
              "      <td>0.0</td>\n",
              "      <td>0.166667</td>\n",
              "      <td>0.0</td>\n",
              "      <td>-0.569518</td>\n",
              "      <td>0.471833</td>\n",
              "      <td>-0.3</td>\n",
              "      <td>1.0</td>\n",
              "      <td>1.116219</td>\n",
              "      <td>0.612777</td>\n",
              "      <td>-0.571946</td>\n",
              "      <td>-0.963363</td>\n",
              "      <td>0.0</td>\n",
              "      <td>0.0</td>\n",
              "      <td>0.071429</td>\n",
              "      <td>0.0</td>\n",
              "      <td>1.136364</td>\n",
              "      <td>1.365031</td>\n",
              "      <td>0.931266</td>\n",
              "    </tr>\n",
              "    <tr>\n",
              "      <th>67462</th>\n",
              "      <td>1.314916</td>\n",
              "      <td>-0.059534</td>\n",
              "      <td>1.343791</td>\n",
              "      <td>0.177255</td>\n",
              "      <td>0.0</td>\n",
              "      <td>-0.578947</td>\n",
              "      <td>0.951096</td>\n",
              "      <td>-0.666667</td>\n",
              "      <td>0.363636</td>\n",
              "      <td>0.0</td>\n",
              "      <td>0.833553</td>\n",
              "      <td>-0.5</td>\n",
              "      <td>0.0</td>\n",
              "      <td>0.636364</td>\n",
              "      <td>-0.496882</td>\n",
              "      <td>0.0</td>\n",
              "      <td>0.0</td>\n",
              "      <td>2.833333</td>\n",
              "      <td>0.0</td>\n",
              "      <td>0.425565</td>\n",
              "      <td>0.904703</td>\n",
              "      <td>-0.2</td>\n",
              "      <td>1.0</td>\n",
              "      <td>-0.003158</td>\n",
              "      <td>-0.841578</td>\n",
              "      <td>-0.389142</td>\n",
              "      <td>-0.696198</td>\n",
              "      <td>0.0</td>\n",
              "      <td>0.0</td>\n",
              "      <td>-0.200000</td>\n",
              "      <td>0.0</td>\n",
              "      <td>0.500000</td>\n",
              "      <td>0.441532</td>\n",
              "      <td>2.056063</td>\n",
              "    </tr>\n",
              "  </tbody>\n",
              "</table>\n",
              "<p>67463 rows × 34 columns</p>\n",
              "</div>"
            ],
            "text/plain": [
              "             ID  ...  Total Revolving Credit Limit\n",
              "0      1.305072  ...                     -0.421575\n",
              "1     -0.455541  ...                      0.173065\n",
              "2     -0.441184  ...                      0.392731\n",
              "3     -0.311640  ...                      1.812388\n",
              "4     -0.098519  ...                      0.243675\n",
              "...         ...  ...                           ...\n",
              "67458 -0.048436  ...                      0.732275\n",
              "67459  0.477718  ...                     -0.334250\n",
              "67460 -0.040939  ...                      1.066942\n",
              "67461 -0.349021  ...                      0.931266\n",
              "67462  1.314916  ...                      2.056063\n",
              "\n",
              "[67463 rows x 34 columns]"
            ]
          },
          "metadata": {},
          "execution_count": 129
        }
      ],
      "source": [
        "X_train"
      ]
    },
    {
      "cell_type": "code",
      "execution_count": 130,
      "metadata": {
        "colab": {
          "base_uri": "https://localhost:8080/",
          "height": 495
        },
        "id": "imSck_MTiI0y",
        "outputId": "ae144061-b06c-4c0b-c116-44766f1e97e8"
      },
      "outputs": [
        {
          "output_type": "execute_result",
          "data": {
            "text/html": [
              "<div>\n",
              "<style scoped>\n",
              "    .dataframe tbody tr th:only-of-type {\n",
              "        vertical-align: middle;\n",
              "    }\n",
              "\n",
              "    .dataframe tbody tr th {\n",
              "        vertical-align: top;\n",
              "    }\n",
              "\n",
              "    .dataframe thead th {\n",
              "        text-align: right;\n",
              "    }\n",
              "</style>\n",
              "<table border=\"1\" class=\"dataframe\">\n",
              "  <thead>\n",
              "    <tr style=\"text-align: right;\">\n",
              "      <th></th>\n",
              "      <th>ID</th>\n",
              "      <th>Loan Amount</th>\n",
              "      <th>Funded Amount</th>\n",
              "      <th>Funded Amount Investor</th>\n",
              "      <th>Term</th>\n",
              "      <th>Batch Enrolled</th>\n",
              "      <th>Interest Rate</th>\n",
              "      <th>Grade</th>\n",
              "      <th>Sub Grade</th>\n",
              "      <th>Employment Duration</th>\n",
              "      <th>Home Ownership</th>\n",
              "      <th>Verification Status</th>\n",
              "      <th>Payment Plan</th>\n",
              "      <th>Loan Title</th>\n",
              "      <th>Debit to Income</th>\n",
              "      <th>Delinquency - two years</th>\n",
              "      <th>Inquires - six months</th>\n",
              "      <th>Open Account</th>\n",
              "      <th>Public Record</th>\n",
              "      <th>Revolving Balance</th>\n",
              "      <th>Revolving Utilities</th>\n",
              "      <th>Total Accounts</th>\n",
              "      <th>Initial List Status</th>\n",
              "      <th>Total Received Interest</th>\n",
              "      <th>Total Received Late Fee</th>\n",
              "      <th>Recoveries</th>\n",
              "      <th>Collection Recovery Fee</th>\n",
              "      <th>Collection 12 months Medical</th>\n",
              "      <th>Application Type</th>\n",
              "      <th>Last week Pay</th>\n",
              "      <th>Accounts Delinquent</th>\n",
              "      <th>Total Collection Amount</th>\n",
              "      <th>Total Current Balance</th>\n",
              "      <th>Total Revolving Credit Limit</th>\n",
              "    </tr>\n",
              "  </thead>\n",
              "  <tbody>\n",
              "    <tr>\n",
              "      <th>0</th>\n",
              "      <td>0.757752</td>\n",
              "      <td>0.128000</td>\n",
              "      <td>-0.229054</td>\n",
              "      <td>0.324677</td>\n",
              "      <td>0.0</td>\n",
              "      <td>-0.055556</td>\n",
              "      <td>0.091084</td>\n",
              "      <td>-1.0</td>\n",
              "      <td>0.4</td>\n",
              "      <td>1.0</td>\n",
              "      <td>0.172564</td>\n",
              "      <td>0.0</td>\n",
              "      <td>0.0</td>\n",
              "      <td>1.000000</td>\n",
              "      <td>-0.361712</td>\n",
              "      <td>1.0</td>\n",
              "      <td>0.0</td>\n",
              "      <td>0.0</td>\n",
              "      <td>1.0</td>\n",
              "      <td>-0.331706</td>\n",
              "      <td>0.393711</td>\n",
              "      <td>-1.272727</td>\n",
              "      <td>-1.0</td>\n",
              "      <td>1.667861</td>\n",
              "      <td>0.984379</td>\n",
              "      <td>1.357834</td>\n",
              "      <td>0.156121</td>\n",
              "      <td>0.0</td>\n",
              "      <td>0.0</td>\n",
              "      <td>1.136364</td>\n",
              "      <td>0.0</td>\n",
              "      <td>-0.146341</td>\n",
              "      <td>2.053319</td>\n",
              "      <td>-0.590340</td>\n",
              "    </tr>\n",
              "    <tr>\n",
              "      <th>1</th>\n",
              "      <td>-0.085027</td>\n",
              "      <td>-0.713011</td>\n",
              "      <td>-0.125232</td>\n",
              "      <td>-0.033030</td>\n",
              "      <td>0.0</td>\n",
              "      <td>0.055556</td>\n",
              "      <td>-0.982062</td>\n",
              "      <td>-0.5</td>\n",
              "      <td>1.1</td>\n",
              "      <td>0.0</td>\n",
              "      <td>-0.702040</td>\n",
              "      <td>0.0</td>\n",
              "      <td>0.0</td>\n",
              "      <td>-1.000000</td>\n",
              "      <td>-0.255126</td>\n",
              "      <td>0.0</td>\n",
              "      <td>0.0</td>\n",
              "      <td>-0.2</td>\n",
              "      <td>0.0</td>\n",
              "      <td>-0.502493</td>\n",
              "      <td>0.521705</td>\n",
              "      <td>0.181818</td>\n",
              "      <td>0.0</td>\n",
              "      <td>-0.114044</td>\n",
              "      <td>0.218608</td>\n",
              "      <td>0.865713</td>\n",
              "      <td>0.424009</td>\n",
              "      <td>0.0</td>\n",
              "      <td>0.0</td>\n",
              "      <td>-0.060606</td>\n",
              "      <td>0.0</td>\n",
              "      <td>-0.707317</td>\n",
              "      <td>-0.206781</td>\n",
              "      <td>-0.663338</td>\n",
              "    </tr>\n",
              "    <tr>\n",
              "      <th>2</th>\n",
              "      <td>-0.399743</td>\n",
              "      <td>0.816084</td>\n",
              "      <td>1.020037</td>\n",
              "      <td>-0.137376</td>\n",
              "      <td>0.0</td>\n",
              "      <td>-0.777778</td>\n",
              "      <td>0.582843</td>\n",
              "      <td>-1.0</td>\n",
              "      <td>0.1</td>\n",
              "      <td>0.0</td>\n",
              "      <td>-0.401386</td>\n",
              "      <td>0.0</td>\n",
              "      <td>0.0</td>\n",
              "      <td>0.000000</td>\n",
              "      <td>-0.479680</td>\n",
              "      <td>0.0</td>\n",
              "      <td>0.0</td>\n",
              "      <td>2.0</td>\n",
              "      <td>0.0</td>\n",
              "      <td>-0.641076</td>\n",
              "      <td>-0.126379</td>\n",
              "      <td>0.363636</td>\n",
              "      <td>-1.0</td>\n",
              "      <td>-0.249804</td>\n",
              "      <td>-0.100368</td>\n",
              "      <td>0.767684</td>\n",
              "      <td>-0.305764</td>\n",
              "      <td>0.0</td>\n",
              "      <td>0.0</td>\n",
              "      <td>-0.863636</td>\n",
              "      <td>0.0</td>\n",
              "      <td>-0.097561</td>\n",
              "      <td>0.984382</td>\n",
              "      <td>0.033748</td>\n",
              "    </tr>\n",
              "    <tr>\n",
              "      <th>3</th>\n",
              "      <td>-0.393894</td>\n",
              "      <td>1.278400</td>\n",
              "      <td>-0.285691</td>\n",
              "      <td>0.256556</td>\n",
              "      <td>0.0</td>\n",
              "      <td>0.722222</td>\n",
              "      <td>-0.223245</td>\n",
              "      <td>-1.0</td>\n",
              "      <td>-1.0</td>\n",
              "      <td>1.0</td>\n",
              "      <td>-0.000600</td>\n",
              "      <td>0.5</td>\n",
              "      <td>0.0</td>\n",
              "      <td>-0.636364</td>\n",
              "      <td>-0.017965</td>\n",
              "      <td>0.0</td>\n",
              "      <td>0.0</td>\n",
              "      <td>-0.2</td>\n",
              "      <td>0.0</td>\n",
              "      <td>-0.160711</td>\n",
              "      <td>0.874959</td>\n",
              "      <td>0.818182</td>\n",
              "      <td>0.0</td>\n",
              "      <td>-0.256595</td>\n",
              "      <td>1.055846</td>\n",
              "      <td>0.065893</td>\n",
              "      <td>0.389379</td>\n",
              "      <td>0.0</td>\n",
              "      <td>0.0</td>\n",
              "      <td>-0.590909</td>\n",
              "      <td>0.0</td>\n",
              "      <td>0.048780</td>\n",
              "      <td>-0.383818</td>\n",
              "      <td>-0.473691</td>\n",
              "    </tr>\n",
              "    <tr>\n",
              "      <th>4</th>\n",
              "      <td>0.541270</td>\n",
              "      <td>-0.566063</td>\n",
              "      <td>-0.305486</td>\n",
              "      <td>-0.603712</td>\n",
              "      <td>-1.0</td>\n",
              "      <td>0.555556</td>\n",
              "      <td>-0.324196</td>\n",
              "      <td>0.0</td>\n",
              "      <td>-0.4</td>\n",
              "      <td>0.5</td>\n",
              "      <td>0.516302</td>\n",
              "      <td>0.5</td>\n",
              "      <td>0.0</td>\n",
              "      <td>0.000000</td>\n",
              "      <td>-1.264867</td>\n",
              "      <td>0.0</td>\n",
              "      <td>0.0</td>\n",
              "      <td>-0.2</td>\n",
              "      <td>0.0</td>\n",
              "      <td>-0.645751</td>\n",
              "      <td>-0.183707</td>\n",
              "      <td>-0.909091</td>\n",
              "      <td>0.0</td>\n",
              "      <td>-0.496176</td>\n",
              "      <td>-0.286779</td>\n",
              "      <td>-0.008259</td>\n",
              "      <td>-0.181900</td>\n",
              "      <td>0.0</td>\n",
              "      <td>0.0</td>\n",
              "      <td>0.666667</td>\n",
              "      <td>0.0</td>\n",
              "      <td>0.073171</td>\n",
              "      <td>-0.103525</td>\n",
              "      <td>0.297412</td>\n",
              "    </tr>\n",
              "    <tr>\n",
              "      <th>...</th>\n",
              "      <td>...</td>\n",
              "      <td>...</td>\n",
              "      <td>...</td>\n",
              "      <td>...</td>\n",
              "      <td>...</td>\n",
              "      <td>...</td>\n",
              "      <td>...</td>\n",
              "      <td>...</td>\n",
              "      <td>...</td>\n",
              "      <td>...</td>\n",
              "      <td>...</td>\n",
              "      <td>...</td>\n",
              "      <td>...</td>\n",
              "      <td>...</td>\n",
              "      <td>...</td>\n",
              "      <td>...</td>\n",
              "      <td>...</td>\n",
              "      <td>...</td>\n",
              "      <td>...</td>\n",
              "      <td>...</td>\n",
              "      <td>...</td>\n",
              "      <td>...</td>\n",
              "      <td>...</td>\n",
              "      <td>...</td>\n",
              "      <td>...</td>\n",
              "      <td>...</td>\n",
              "      <td>...</td>\n",
              "      <td>...</td>\n",
              "      <td>...</td>\n",
              "      <td>...</td>\n",
              "      <td>...</td>\n",
              "      <td>...</td>\n",
              "      <td>...</td>\n",
              "      <td>...</td>\n",
              "    </tr>\n",
              "    <tr>\n",
              "      <th>28908</th>\n",
              "      <td>-0.358150</td>\n",
              "      <td>1.633684</td>\n",
              "      <td>1.761332</td>\n",
              "      <td>2.315550</td>\n",
              "      <td>1.0</td>\n",
              "      <td>0.944444</td>\n",
              "      <td>0.872247</td>\n",
              "      <td>0.0</td>\n",
              "      <td>0.3</td>\n",
              "      <td>0.0</td>\n",
              "      <td>6.632024</td>\n",
              "      <td>0.5</td>\n",
              "      <td>0.0</td>\n",
              "      <td>-1.000000</td>\n",
              "      <td>-1.075878</td>\n",
              "      <td>0.0</td>\n",
              "      <td>0.0</td>\n",
              "      <td>-0.8</td>\n",
              "      <td>1.0</td>\n",
              "      <td>7.947746</td>\n",
              "      <td>0.549838</td>\n",
              "      <td>-0.272727</td>\n",
              "      <td>-1.0</td>\n",
              "      <td>4.563008</td>\n",
              "      <td>-0.456220</td>\n",
              "      <td>-0.469809</td>\n",
              "      <td>-0.594642</td>\n",
              "      <td>0.0</td>\n",
              "      <td>0.0</td>\n",
              "      <td>0.742424</td>\n",
              "      <td>0.0</td>\n",
              "      <td>-0.731707</td>\n",
              "      <td>4.344328</td>\n",
              "      <td>3.878215</td>\n",
              "    </tr>\n",
              "    <tr>\n",
              "      <th>28909</th>\n",
              "      <td>-0.358139</td>\n",
              "      <td>0.791579</td>\n",
              "      <td>0.953381</td>\n",
              "      <td>1.266337</td>\n",
              "      <td>1.0</td>\n",
              "      <td>0.944444</td>\n",
              "      <td>0.630773</td>\n",
              "      <td>0.0</td>\n",
              "      <td>0.1</td>\n",
              "      <td>0.0</td>\n",
              "      <td>0.822566</td>\n",
              "      <td>0.0</td>\n",
              "      <td>0.0</td>\n",
              "      <td>0.000000</td>\n",
              "      <td>-0.855709</td>\n",
              "      <td>0.0</td>\n",
              "      <td>1.0</td>\n",
              "      <td>-0.4</td>\n",
              "      <td>0.0</td>\n",
              "      <td>2.034802</td>\n",
              "      <td>-0.125841</td>\n",
              "      <td>0.636364</td>\n",
              "      <td>-1.0</td>\n",
              "      <td>2.705819</td>\n",
              "      <td>-0.456220</td>\n",
              "      <td>-0.469809</td>\n",
              "      <td>-0.594642</td>\n",
              "      <td>0.0</td>\n",
              "      <td>0.0</td>\n",
              "      <td>0.666667</td>\n",
              "      <td>0.0</td>\n",
              "      <td>-0.731707</td>\n",
              "      <td>2.269122</td>\n",
              "      <td>1.343061</td>\n",
              "    </tr>\n",
              "    <tr>\n",
              "      <th>28910</th>\n",
              "      <td>-0.318189</td>\n",
              "      <td>1.212632</td>\n",
              "      <td>1.357356</td>\n",
              "      <td>1.785698</td>\n",
              "      <td>1.0</td>\n",
              "      <td>-0.444444</td>\n",
              "      <td>1.255539</td>\n",
              "      <td>0.5</td>\n",
              "      <td>0.8</td>\n",
              "      <td>0.0</td>\n",
              "      <td>0.118597</td>\n",
              "      <td>0.5</td>\n",
              "      <td>0.0</td>\n",
              "      <td>0.000000</td>\n",
              "      <td>0.436555</td>\n",
              "      <td>0.0</td>\n",
              "      <td>0.0</td>\n",
              "      <td>1.4</td>\n",
              "      <td>0.0</td>\n",
              "      <td>2.548722</td>\n",
              "      <td>-0.227352</td>\n",
              "      <td>2.363636</td>\n",
              "      <td>-1.0</td>\n",
              "      <td>3.367836</td>\n",
              "      <td>-0.456220</td>\n",
              "      <td>-0.469809</td>\n",
              "      <td>-0.594642</td>\n",
              "      <td>1.0</td>\n",
              "      <td>0.0</td>\n",
              "      <td>0.348485</td>\n",
              "      <td>0.0</td>\n",
              "      <td>-0.731707</td>\n",
              "      <td>1.048698</td>\n",
              "      <td>1.905523</td>\n",
              "    </tr>\n",
              "    <tr>\n",
              "      <th>28911</th>\n",
              "      <td>-0.299075</td>\n",
              "      <td>0.791579</td>\n",
              "      <td>0.953381</td>\n",
              "      <td>1.261091</td>\n",
              "      <td>1.0</td>\n",
              "      <td>-0.444444</td>\n",
              "      <td>0.751510</td>\n",
              "      <td>0.5</td>\n",
              "      <td>0.4</td>\n",
              "      <td>0.0</td>\n",
              "      <td>1.392121</td>\n",
              "      <td>0.5</td>\n",
              "      <td>0.0</td>\n",
              "      <td>0.000000</td>\n",
              "      <td>0.435799</td>\n",
              "      <td>2.0</td>\n",
              "      <td>0.0</td>\n",
              "      <td>0.0</td>\n",
              "      <td>0.0</td>\n",
              "      <td>1.942759</td>\n",
              "      <td>0.917813</td>\n",
              "      <td>1.363636</td>\n",
              "      <td>-1.0</td>\n",
              "      <td>2.203154</td>\n",
              "      <td>-0.456220</td>\n",
              "      <td>-0.469809</td>\n",
              "      <td>-0.594642</td>\n",
              "      <td>0.0</td>\n",
              "      <td>0.0</td>\n",
              "      <td>0.348485</td>\n",
              "      <td>0.0</td>\n",
              "      <td>-0.731707</td>\n",
              "      <td>1.791329</td>\n",
              "      <td>0.470838</td>\n",
              "    </tr>\n",
              "    <tr>\n",
              "      <th>28912</th>\n",
              "      <td>-0.377382</td>\n",
              "      <td>0.785263</td>\n",
              "      <td>0.947322</td>\n",
              "      <td>1.258468</td>\n",
              "      <td>1.0</td>\n",
              "      <td>-0.055556</td>\n",
              "      <td>0.500454</td>\n",
              "      <td>0.0</td>\n",
              "      <td>-0.1</td>\n",
              "      <td>0.0</td>\n",
              "      <td>-0.293761</td>\n",
              "      <td>0.5</td>\n",
              "      <td>0.0</td>\n",
              "      <td>0.000000</td>\n",
              "      <td>-0.842847</td>\n",
              "      <td>0.0</td>\n",
              "      <td>0.0</td>\n",
              "      <td>1.4</td>\n",
              "      <td>0.0</td>\n",
              "      <td>1.228132</td>\n",
              "      <td>-0.801520</td>\n",
              "      <td>2.545455</td>\n",
              "      <td>-1.0</td>\n",
              "      <td>2.606284</td>\n",
              "      <td>-0.456220</td>\n",
              "      <td>-0.469809</td>\n",
              "      <td>-0.594642</td>\n",
              "      <td>0.0</td>\n",
              "      <td>0.0</td>\n",
              "      <td>0.742424</td>\n",
              "      <td>0.0</td>\n",
              "      <td>-0.731707</td>\n",
              "      <td>0.978399</td>\n",
              "      <td>1.795476</td>\n",
              "    </tr>\n",
              "  </tbody>\n",
              "</table>\n",
              "<p>28913 rows × 34 columns</p>\n",
              "</div>"
            ],
            "text/plain": [
              "             ID  ...  Total Revolving Credit Limit\n",
              "0      0.757752  ...                     -0.590340\n",
              "1     -0.085027  ...                     -0.663338\n",
              "2     -0.399743  ...                      0.033748\n",
              "3     -0.393894  ...                     -0.473691\n",
              "4      0.541270  ...                      0.297412\n",
              "...         ...  ...                           ...\n",
              "28908 -0.358150  ...                      3.878215\n",
              "28909 -0.358139  ...                      1.343061\n",
              "28910 -0.318189  ...                      1.905523\n",
              "28911 -0.299075  ...                      0.470838\n",
              "28912 -0.377382  ...                      1.795476\n",
              "\n",
              "[28913 rows x 34 columns]"
            ]
          },
          "metadata": {},
          "execution_count": 130
        }
      ],
      "source": [
        "X_test"
      ]
    },
    {
      "cell_type": "code",
      "execution_count": 131,
      "metadata": {
        "colab": {
          "base_uri": "https://localhost:8080/",
          "height": 785
        },
        "id": "JiZ442CyiI0y",
        "outputId": "f1918d9d-7fe9-4ff1-ae6c-2bbaee2dcc85"
      },
      "outputs": [
        {
          "output_type": "display_data",
          "data": {
            "image/png": "[encoded data removed]",
            "text/plain": [
              "<Figure size 1800x1080 with 2 Axes>"
            ]
          },
          "metadata": {
            "needs_background": "light"
          }
        }
      ],
      "source": [
        "plt.figure(figsize=(25,15))\n",
        "sns.heatmap(X_train.corr(), vmin=0.0, vmax=0.05)\n",
        "plt.show()"
      ]
    },
    {
      "cell_type": "markdown",
      "metadata": {
        "id": "BecS1LZJiI0y"
      },
      "source": [
        " \n",
        "    1 Funded Amount & Funded Amount Investor are correlated.\n",
        "    2.Grade & Sub Grade/ Employment Duration are correlated.\n",
        "    3.Total Accounts & Initial List Status are correlated.\n",
        "    4.Grade, Term, Employment Duration and Total Revolving Credit Limit are some of the influential features"
      ]
    },
    {
      "cell_type": "code",
      "execution_count": 132,
      "metadata": {
        "colab": {
          "base_uri": "https://localhost:8080/"
        },
        "id": "R6M4SuG-iI0y",
        "outputId": "d14162ff-6b8f-4216-c4cd-ea7ddb89df32"
      },
      "outputs": [
        {
          "output_type": "stream",
          "name": "stdout",
          "text": [
            "(67463, 34)\n"
          ]
        }
      ],
      "source": [
        "print(X_train.shape)"
      ]
    },
    {
      "cell_type": "markdown",
      "metadata": {
        "id": "SGUAyKTriI0z"
      },
      "source": [
        "# Perform outlier removal (manual)"
      ]
    },
    {
      "cell_type": "code",
      "execution_count": 133,
      "metadata": {
        "id": "qeKmQZ63iI0z"
      },
      "outputs": [],
      "source": [
        "# feature set : Term , Funded Amount Investor, \n",
        "# Grade, Employment Duration, Verification Status, \n",
        "# Initial List Status, Total Revolving Credit Limit\n",
        "\n",
        "# plt.figure(figsize=(4,4))\n",
        "# plt.boxplot( x=X_train['Term'], showmeans=True, meanline=True )\n",
        "\n",
        "# plt.figure(figsize=(4,4))\n",
        "# plt.boxplot( x=X_train['Funded Amount Investor'], showmeans=True, meanline=True )\n",
        "\n",
        "# percentile25 = X_train['Funded Amount Investor'].quantile(0.25)\n",
        "# percentile75 = X_train['Funded Amount Investor'].quantile(0.75)\n",
        "# iqr = percentile75 - percentile25\n",
        "\n",
        "\n",
        "# upper_limit = percentile75 + 1.5 * iqr\n",
        "# lower_limit = percentile25 - 1.5 * iqr\n",
        "\n",
        "\n",
        "# y_train = y_train.drop( X_train[ (X_train['Funded Amount Investor']>upper_limit) | (X_train['Funded Amount Investor']<lower_limit) ].index )\n",
        "# X_train = X_train.drop( X_train[ (X_train['Funded Amount Investor']>upper_limit) | (X_train['Funded Amount Investor']<lower_limit) ].index )\n",
        "\n",
        "# print(X_train.shape)\n",
        "# print(y_train.shape)\n",
        "# plt.figure(figsize=(4,4))\n",
        "# plt.boxplot( x=X_train['Funded Amount Investor'], showmeans=True, meanline=True )\n",
        "\n",
        "# plt.figure(figsize=(4,4))\n",
        "# plt.boxplot( x=X_train['Grade'], showmeans=True, meanline=True )\n",
        "\n",
        "# plt.figure(figsize=(4,4))\n",
        "# plt.boxplot( x=X_train['Employment Duration'], showmeans=True, meanline=True )\n",
        "\n",
        "# plt.figure(figsize=(4,4))\n",
        "# plt.boxplot( x=X_train['Verification Status'], showmeans=True, meanline=True )\n",
        "\n",
        "# plt.figure(figsize=(4,4))\n",
        "# plt.boxplot( x=X_train['Initial List Status'], showmeans=True, meanline=True )\n",
        "\n",
        "# plt.figure(figsize=(4,4))\n",
        "# plt.boxplot( x=X_train['Total Revolving Credit Limit'], showmeans=True, meanline=True )\n",
        "\n",
        "# percentile25 = X_train['Total Revolving Credit Limit'].quantile(0.25)\n",
        "# percentile75 = X_train['Total Revolving Credit Limit'].quantile(0.75)\n",
        "# iqr = percentile75 - percentile25\n",
        "\n",
        "\n",
        "# upper_limit = percentile75 + 1.5 * iqr\n",
        "# lower_limit = percentile25 - 1.5 * iqr\n",
        "\n",
        "\n",
        "\n",
        "# y_train = y_train.drop( X_train[ (X_train['Total Revolving Credit Limit']>upper_limit) | (X_train['Total Revolving Credit Limit']<lower_limit) ].index )\n",
        "# X_train = X_train.drop( X_train[ (X_train['Total Revolving Credit Limit']>upper_limit) | (X_train['Total Revolving Credit Limit']<lower_limit) ].index )\n",
        "\n",
        "# print(X_train.shape)\n",
        "# print(y_train.shape)\n",
        "# plt.figure(figsize=(4,4))\n",
        "# plt.boxplot( x=X_train['Total Revolving Credit Limit'], showmeans=True, meanline=True )"
      ]
    },
    {
      "cell_type": "markdown",
      "metadata": {
        "id": "brLJalLmiI00"
      },
      "source": [
        "Using Isolation Forest for outlier removal showed improved performance compared to manual outlier removal method."
      ]
    },
    {
      "cell_type": "code",
      "execution_count": 134,
      "metadata": {
        "colab": {
          "base_uri": "https://localhost:8080/"
        },
        "id": "M6JkCvoqiI00",
        "outputId": "b910850b-7d0e-4de9-e9e2-c9a7cea031a5"
      },
      "outputs": [
        {
          "output_type": "stream",
          "name": "stdout",
          "text": [
            "(60716, 34) (60716,)\n"
          ]
        }
      ],
      "source": [
        "from sklearn.ensemble import IsolationForest\n",
        "\n",
        "iso = IsolationForest(contamination=0.1)\n",
        "yhat = iso.fit_predict(X_train)\n",
        "\n",
        "mask = yhat != -1\n",
        "\n",
        "X_train = X_train[mask]\n",
        "y_train = y_train[mask]\n",
        "\n",
        "print(X_train.shape, y_train.shape)"
      ]
    },
    {
      "cell_type": "code",
      "execution_count": 135,
      "metadata": {
        "colab": {
          "base_uri": "https://localhost:8080/",
          "height": 785
        },
        "id": "SRA1N0h-iI00",
        "outputId": "ab71ff28-9c62-4a49-83de-5f179208da68"
      },
      "outputs": [
        {
          "output_type": "display_data",
          "data": {
            "image/png": "[encoded data removed]",
            "text/plain": [
              "<Figure size 1800x1080 with 2 Axes>"
            ]
          },
          "metadata": {
            "needs_background": "light"
          }
        }
      ],
      "source": [
        "plt.figure(figsize=(25,15))\n",
        "sns.heatmap(X_train.corr(), vmin=0.0, vmax=0.05)\n",
        "plt.show()"
      ]
    },
    {
      "cell_type": "markdown",
      "metadata": {
        "id": "8hWFwpb2iI01"
      },
      "source": [
        "Looking for traces of multi-collinearity"
      ]
    },
    {
      "cell_type": "code",
      "execution_count": 136,
      "metadata": {
        "colab": {
          "base_uri": "https://localhost:8080/",
          "height": 1000
        },
        "id": "SJnnKPGDiI01",
        "outputId": "583a2c8c-a8b5-40bb-8295-c535876f9509"
      },
      "outputs": [
        {
          "output_type": "execute_result",
          "data": {
            "text/html": [
              "<div>\n",
              "<style scoped>\n",
              "    .dataframe tbody tr th:only-of-type {\n",
              "        vertical-align: middle;\n",
              "    }\n",
              "\n",
              "    .dataframe tbody tr th {\n",
              "        vertical-align: top;\n",
              "    }\n",
              "\n",
              "    .dataframe thead th {\n",
              "        text-align: right;\n",
              "    }\n",
              "</style>\n",
              "<table border=\"1\" class=\"dataframe\">\n",
              "  <thead>\n",
              "    <tr style=\"text-align: right;\">\n",
              "      <th></th>\n",
              "      <th>variables</th>\n",
              "      <th>VIF</th>\n",
              "    </tr>\n",
              "  </thead>\n",
              "  <tbody>\n",
              "    <tr>\n",
              "      <th>0</th>\n",
              "      <td>ID</td>\n",
              "      <td>1.088062</td>\n",
              "    </tr>\n",
              "    <tr>\n",
              "      <th>1</th>\n",
              "      <td>Loan Amount</td>\n",
              "      <td>1.007403</td>\n",
              "    </tr>\n",
              "    <tr>\n",
              "      <th>2</th>\n",
              "      <td>Funded Amount</td>\n",
              "      <td>1.082119</td>\n",
              "    </tr>\n",
              "    <tr>\n",
              "      <th>3</th>\n",
              "      <td>Funded Amount Investor</td>\n",
              "      <td>1.044845</td>\n",
              "    </tr>\n",
              "    <tr>\n",
              "      <th>4</th>\n",
              "      <td>Term</td>\n",
              "      <td>1.040362</td>\n",
              "    </tr>\n",
              "    <tr>\n",
              "      <th>5</th>\n",
              "      <td>Batch Enrolled</td>\n",
              "      <td>1.000892</td>\n",
              "    </tr>\n",
              "    <tr>\n",
              "      <th>6</th>\n",
              "      <td>Interest Rate</td>\n",
              "      <td>1.012479</td>\n",
              "    </tr>\n",
              "    <tr>\n",
              "      <th>7</th>\n",
              "      <td>Grade</td>\n",
              "      <td>1.028278</td>\n",
              "    </tr>\n",
              "    <tr>\n",
              "      <th>8</th>\n",
              "      <td>Sub Grade</td>\n",
              "      <td>1.011900</td>\n",
              "    </tr>\n",
              "    <tr>\n",
              "      <th>9</th>\n",
              "      <td>Employment Duration</td>\n",
              "      <td>1.456384</td>\n",
              "    </tr>\n",
              "    <tr>\n",
              "      <th>10</th>\n",
              "      <td>Home Ownership</td>\n",
              "      <td>1.032088</td>\n",
              "    </tr>\n",
              "    <tr>\n",
              "      <th>11</th>\n",
              "      <td>Verification Status</td>\n",
              "      <td>1.084020</td>\n",
              "    </tr>\n",
              "    <tr>\n",
              "      <th>12</th>\n",
              "      <td>Payment Plan</td>\n",
              "      <td>NaN</td>\n",
              "    </tr>\n",
              "    <tr>\n",
              "      <th>13</th>\n",
              "      <td>Loan Title</td>\n",
              "      <td>1.059815</td>\n",
              "    </tr>\n",
              "    <tr>\n",
              "      <th>14</th>\n",
              "      <td>Debit to Income</td>\n",
              "      <td>1.005710</td>\n",
              "    </tr>\n",
              "    <tr>\n",
              "      <th>15</th>\n",
              "      <td>Delinquency - two years</td>\n",
              "      <td>1.113652</td>\n",
              "    </tr>\n",
              "    <tr>\n",
              "      <th>16</th>\n",
              "      <td>Inquires - six months</td>\n",
              "      <td>1.047519</td>\n",
              "    </tr>\n",
              "    <tr>\n",
              "      <th>17</th>\n",
              "      <td>Open Account</td>\n",
              "      <td>1.026666</td>\n",
              "    </tr>\n",
              "    <tr>\n",
              "      <th>18</th>\n",
              "      <td>Public Record</td>\n",
              "      <td>1.034368</td>\n",
              "    </tr>\n",
              "    <tr>\n",
              "      <th>19</th>\n",
              "      <td>Revolving Balance</td>\n",
              "      <td>1.049840</td>\n",
              "    </tr>\n",
              "    <tr>\n",
              "      <th>20</th>\n",
              "      <td>Revolving Utilities</td>\n",
              "      <td>1.005109</td>\n",
              "    </tr>\n",
              "    <tr>\n",
              "      <th>21</th>\n",
              "      <td>Total Accounts</td>\n",
              "      <td>1.006131</td>\n",
              "    </tr>\n",
              "    <tr>\n",
              "      <th>22</th>\n",
              "      <td>Initial List Status</td>\n",
              "      <td>1.517040</td>\n",
              "    </tr>\n",
              "    <tr>\n",
              "      <th>23</th>\n",
              "      <td>Total Received Interest</td>\n",
              "      <td>1.068691</td>\n",
              "    </tr>\n",
              "    <tr>\n",
              "      <th>24</th>\n",
              "      <td>Total Received Late Fee</td>\n",
              "      <td>1.022028</td>\n",
              "    </tr>\n",
              "    <tr>\n",
              "      <th>25</th>\n",
              "      <td>Recoveries</td>\n",
              "      <td>1.008993</td>\n",
              "    </tr>\n",
              "    <tr>\n",
              "      <th>26</th>\n",
              "      <td>Collection Recovery Fee</td>\n",
              "      <td>1.003990</td>\n",
              "    </tr>\n",
              "    <tr>\n",
              "      <th>27</th>\n",
              "      <td>Collection 12 months Medical</td>\n",
              "      <td>1.008725</td>\n",
              "    </tr>\n",
              "    <tr>\n",
              "      <th>28</th>\n",
              "      <td>Application Type</td>\n",
              "      <td>1.001285</td>\n",
              "    </tr>\n",
              "    <tr>\n",
              "      <th>29</th>\n",
              "      <td>Last week Pay</td>\n",
              "      <td>1.005128</td>\n",
              "    </tr>\n",
              "    <tr>\n",
              "      <th>30</th>\n",
              "      <td>Accounts Delinquent</td>\n",
              "      <td>NaN</td>\n",
              "    </tr>\n",
              "    <tr>\n",
              "      <th>31</th>\n",
              "      <td>Total Collection Amount</td>\n",
              "      <td>1.013109</td>\n",
              "    </tr>\n",
              "    <tr>\n",
              "      <th>32</th>\n",
              "      <td>Total Current Balance</td>\n",
              "      <td>1.059293</td>\n",
              "    </tr>\n",
              "    <tr>\n",
              "      <th>33</th>\n",
              "      <td>Total Revolving Credit Limit</td>\n",
              "      <td>1.065965</td>\n",
              "    </tr>\n",
              "  </tbody>\n",
              "</table>\n",
              "</div>"
            ],
            "text/plain": [
              "                       variables       VIF\n",
              "0                             ID  1.088062\n",
              "1                    Loan Amount  1.007403\n",
              "2                  Funded Amount  1.082119\n",
              "3         Funded Amount Investor  1.044845\n",
              "4                           Term  1.040362\n",
              "5                 Batch Enrolled  1.000892\n",
              "6                  Interest Rate  1.012479\n",
              "7                          Grade  1.028278\n",
              "8                      Sub Grade  1.011900\n",
              "9            Employment Duration  1.456384\n",
              "10                Home Ownership  1.032088\n",
              "11           Verification Status  1.084020\n",
              "12                  Payment Plan       NaN\n",
              "13                    Loan Title  1.059815\n",
              "14               Debit to Income  1.005710\n",
              "15       Delinquency - two years  1.113652\n",
              "16         Inquires - six months  1.047519\n",
              "17                  Open Account  1.026666\n",
              "18                 Public Record  1.034368\n",
              "19             Revolving Balance  1.049840\n",
              "20           Revolving Utilities  1.005109\n",
              "21                Total Accounts  1.006131\n",
              "22           Initial List Status  1.517040\n",
              "23       Total Received Interest  1.068691\n",
              "24       Total Received Late Fee  1.022028\n",
              "25                    Recoveries  1.008993\n",
              "26       Collection Recovery Fee  1.003990\n",
              "27  Collection 12 months Medical  1.008725\n",
              "28              Application Type  1.001285\n",
              "29                 Last week Pay  1.005128\n",
              "30           Accounts Delinquent       NaN\n",
              "31       Total Collection Amount  1.013109\n",
              "32         Total Current Balance  1.059293\n",
              "33  Total Revolving Credit Limit  1.065965"
            ]
          },
          "metadata": {},
          "execution_count": 136
        }
      ],
      "source": [
        "from statsmodels.stats.outliers_influence import variance_inflation_factor\n",
        "\n",
        "def calc_vif(X):\n",
        "\n",
        "    # Calculating VIF\n",
        "    vif = pd.DataFrame()\n",
        "    vif[\"variables\"] = X.columns\n",
        "    vif[\"VIF\"] = [variance_inflation_factor(X.values, i) for i in range(X.shape[1])]\n",
        "\n",
        "    return(vif)\n",
        "\n",
        "calc_vif(X_train)"
      ]
    },
    {
      "cell_type": "markdown",
      "metadata": {
        "id": "lH6YZwt5iI01"
      },
      "source": [
        "None of the features have high VIF values"
      ]
    },
    {
      "cell_type": "markdown",
      "metadata": {
        "id": "ZOCfNpm6iI02"
      },
      "source": [
        "Now, lets look at Information Gain"
      ]
    },
    {
      "cell_type": "markdown",
      "metadata": {
        "id": "6k0a3TSqiI02"
      },
      "source": [
        "I am using mutual_info_classif to realize information by each feature towards target variable"
      ]
    },
    {
      "cell_type": "code",
      "execution_count": 137,
      "metadata": {
        "colab": {
          "base_uri": "https://localhost:8080/"
        },
        "id": "pg-RlqJ4iI02",
        "outputId": "5fe3a553-e908-465b-8ecf-a8c186432a95"
      },
      "outputs": [
        {
          "output_type": "execute_result",
          "data": {
            "text/plain": [
              "Collection Recovery Fee         0.002897\n",
              "Verification Status             0.002660\n",
              "Term                            0.001978\n",
              "Funded Amount Investor          0.001544\n",
              "Loan Amount                     0.001380\n",
              "Total Accounts                  0.001127\n",
              "Loan Title                      0.001099\n",
              "Employment Duration             0.000943\n",
              "Recoveries                      0.000794\n",
              "Total Received Interest         0.000699\n",
              "Batch Enrolled                  0.000676\n",
              "Initial List Status             0.000643\n",
              "Revolving Utilities             0.000641\n",
              "Home Ownership                  0.000578\n",
              "Revolving Balance               0.000536\n",
              "Debit to Income                 0.000484\n",
              "Total Collection Amount         0.000461\n",
              "Delinquency - two years         0.000334\n",
              "Accounts Delinquent             0.000293\n",
              "Total Current Balance           0.000290\n",
              "Application Type                0.000119\n",
              "Grade                           0.000000\n",
              "Funded Amount                   0.000000\n",
              "Interest Rate                   0.000000\n",
              "Total Revolving Credit Limit    0.000000\n",
              "Inquires - six months           0.000000\n",
              "Sub Grade                       0.000000\n",
              "Payment Plan                    0.000000\n",
              "Open Account                    0.000000\n",
              "Public Record                   0.000000\n",
              "Total Received Late Fee         0.000000\n",
              "Collection 12 months Medical    0.000000\n",
              "Last week Pay                   0.000000\n",
              "ID                              0.000000\n",
              "dtype: float64"
            ]
          },
          "metadata": {},
          "execution_count": 137
        }
      ],
      "source": [
        "from sklearn.feature_selection import SelectKBest, f_classif, chi2, mutual_info_classif\n",
        "\n",
        "mutual_info = mutual_info_classif(X_train, y_train, random_state=777)\n",
        "\n",
        "mutual_data=pd.Series(mutual_info,index=X_train.columns)\n",
        "mutual_data.sort_values(ascending=False)"
      ]
    },
    {
      "cell_type": "code",
      "execution_count": 138,
      "metadata": {
        "colab": {
          "base_uri": "https://localhost:8080/"
        },
        "id": "ReF3x2KSiI02",
        "outputId": "c69f33c6-5a8e-4000-a2f7-9be2f879dd40"
      },
      "outputs": [
        {
          "output_type": "execute_result",
          "data": {
            "text/plain": [
              "['ID',\n",
              " 'Funded Amount',\n",
              " 'Interest Rate',\n",
              " 'Grade',\n",
              " 'Sub Grade',\n",
              " 'Payment Plan',\n",
              " 'Inquires - six months',\n",
              " 'Open Account',\n",
              " 'Public Record',\n",
              " 'Total Received Late Fee',\n",
              " 'Collection 12 months Medical',\n",
              " 'Last week Pay',\n",
              " 'Total Revolving Credit Limit']"
            ]
          },
          "metadata": {},
          "execution_count": 138
        }
      ],
      "source": [
        "cols_to_drop = mutual_data.loc[mutual_data==0.00].index\n",
        "list(cols_to_drop)"
      ]
    },
    {
      "cell_type": "code",
      "execution_count": 139,
      "metadata": {
        "id": "-Ls_s5psiI02"
      },
      "outputs": [],
      "source": [
        "X_train = X_train.drop( columns=list(cols_to_drop) )\n",
        "\n",
        "X_test = X_test.drop( columns=list(cols_to_drop) )"
      ]
    },
    {
      "cell_type": "code",
      "execution_count": 140,
      "metadata": {
        "colab": {
          "base_uri": "https://localhost:8080/"
        },
        "id": "Euv_nmU_iI03",
        "outputId": "0fbafe16-9314-48ef-db0d-c74b4474db71"
      },
      "outputs": [
        {
          "output_type": "stream",
          "name": "stdout",
          "text": [
            "(60716, 21)\n",
            "(28913, 21)\n"
          ]
        }
      ],
      "source": [
        "print(X_train.shape)\n",
        "print(X_test.shape)"
      ]
    },
    {
      "cell_type": "code",
      "execution_count": 141,
      "metadata": {
        "colab": {
          "base_uri": "https://localhost:8080/"
        },
        "id": "dU2qzIqBiI03",
        "outputId": "1fcbecff-61f4-40bc-c006-833fb48c82e4"
      },
      "outputs": [
        {
          "output_type": "stream",
          "name": "stdout",
          "text": [
            "No Defaulters[0] 90.86 % of the dataset\n",
            "Defaulters[1] 9.14 % of the dataset\n"
          ]
        }
      ],
      "source": [
        "print('No Defaulters[0]', round(y_train.value_counts()[0]/len(y_train) * 100,2), '% of the dataset')\n",
        "print('Defaulters[1]', round(y_train.value_counts()[1]/len(y_train) * 100,2), '% of the dataset')"
      ]
    },
    {
      "cell_type": "markdown",
      "metadata": {
        "id": "Jg6aSqFpiI03"
      },
      "source": [
        "Using dimensionality reduction techniques to visualize class distribution ( without sampling)"
      ]
    },
    {
      "cell_type": "code",
      "execution_count": 142,
      "metadata": {
        "id": "nAMBocwSiI03"
      },
      "outputs": [],
      "source": [
        "# from sklearn.manifold import TSNE\n",
        "# from sklearn.decomposition import PCA, TruncatedSVD\n",
        "# import time\n",
        "\n",
        "# # New_df is from the random undersample data (fewer instances)\n",
        "# X = X_train\n",
        "# y = y_train\n",
        "\n",
        "\n",
        "# # T-SNE Implementation\n",
        "# t0 = time.time()\n",
        "# X_reduced_tsne = TSNE(n_components=2, random_state=42).fit_transform(X.values)\n",
        "# t1 = time.time()\n",
        "# print(\"T-SNE took {:.2} s\".format(t1 - t0))\n",
        "\n",
        "# # PCA Implementation\n",
        "# t0 = time.time()\n",
        "# X_reduced_pca = PCA(n_components=2, random_state=42).fit_transform(X.values)\n",
        "# t1 = time.time()\n",
        "# print(\"PCA took {:.2} s\".format(t1 - t0))\n",
        "\n",
        "# # TruncatedSVD\n",
        "# t0 = time.time()\n",
        "# X_reduced_svd = TruncatedSVD(n_components=2, algorithm='randomized', random_state=42).fit_transform(X.values)\n",
        "# t1 = time.time()\n",
        "# print(\"Truncated SVD took {:.2} s\".format(t1 - t0))"
      ]
    },
    {
      "cell_type": "code",
      "execution_count": 143,
      "metadata": {
        "id": "6E09KL7RiI03"
      },
      "outputs": [],
      "source": [
        "# import matplotlib.patches as mpatches\n",
        "\n",
        "# f, (ax1, ax2, ax3) = plt.subplots(1, 3, figsize=(24,6))\n",
        "# # labels = ['No Fraud', 'Fraud']\n",
        "# f.suptitle('Clusters using Dimensionality Reduction to examine Loan Status Defaulters(No Sampling)', fontsize=14)\n",
        "\n",
        "\n",
        "# green_patch = mpatches.Patch(color='#00FF00', label='Default')\n",
        "# red_patch = mpatches.Patch(color='#ff0037', label='No Default')\n",
        "\n",
        "\n",
        "# # t-SNE scatter plot\n",
        "# ax1.scatter(X_reduced_tsne[:,0], X_reduced_tsne[:,1], c=(y == 0), cmap=plt.cm.prism, edgecolor='k', alpha=0.7, label='No Defaulter', linewidths=0.7)\n",
        "# ax1.scatter(X_reduced_tsne[:,0], X_reduced_tsne[:,1], c=(y == 1), cmap=plt.cm.prism, edgecolor='k', alpha=0.7, label='Defaulter', linewidths=0.7)\n",
        "# ax1.set_title('t-SNE', fontsize=14)\n",
        "\n",
        "# ax1.grid(True)\n",
        "\n",
        "# ax1.legend(handles=[green_patch, red_patch])\n",
        "\n",
        "\n",
        "# # PCA scatter plot\n",
        "# ax2.scatter(X_reduced_pca[:,0], X_reduced_pca[:,1], c=(y == 0), cmap=plt.cm.prism, edgecolor='k', alpha=0.7, label='No Defaulter', linewidths=0.7)\n",
        "# ax2.scatter(X_reduced_pca[:,0], X_reduced_pca[:,1], c=(y == 1), cmap=plt.cm.prism, edgecolor='k', alpha=0.7, label='Defaulter', linewidths=0.7)\n",
        "# ax2.set_title('PCA', fontsize=14)\n",
        "\n",
        "# ax2.grid(True)\n",
        "\n",
        "# ax2.legend(handles=[green_patch, red_patch])\n",
        "\n",
        "# # TruncatedSVD scatter plot\n",
        "# ax3.scatter(X_reduced_svd[:,0], X_reduced_svd[:,1], c=(y == 0), cmap=plt.cm.prism, edgecolor='k', alpha=0.7, label='No Defaulter', linewidths=0.7)\n",
        "# ax3.scatter(X_reduced_svd[:,0], X_reduced_svd[:,1], c=(y == 1), cmap=plt.cm.prism, edgecolor='k', alpha=0.7, label='Defaulter', linewidths=0.7)\n",
        "# ax3.set_title('Truncated SVD', fontsize=14)\n",
        "\n",
        "# ax3.grid(True)\n",
        "\n",
        "# ax3.legend(handles=[green_patch, red_patch])\n",
        "\n",
        "# plt.show()"
      ]
    },
    {
      "cell_type": "code",
      "execution_count": 144,
      "metadata": {
        "id": "MlDccF5ZiI04"
      },
      "outputs": [],
      "source": [
        "from sklearn.linear_model import LogisticRegression\n",
        "from sklearn.tree import DecisionTreeClassifier\n",
        "from sklearn.svm import SVC\n",
        "from sklearn.neighbors import KNeighborsClassifier\n",
        "from sklearn.ensemble import RandomForestClassifier\n",
        "from sklearn.ensemble import GradientBoostingClassifier\n",
        "from xgboost import XGBClassifier\n",
        "\n",
        "from sklearn.metrics import precision_score, recall_score, f1_score, roc_auc_score, accuracy_score, classification_report\n",
        "from sklearn.metrics import classification_report, confusion_matrix"
      ]
    },
    {
      "cell_type": "markdown",
      "metadata": {
        "id": "4w2ckn59iI04"
      },
      "source": [
        "Model Performance on unsampled dataset"
      ]
    },
    {
      "cell_type": "code",
      "execution_count": 145,
      "metadata": {
        "id": "MzneX_-DiI04"
      },
      "outputs": [],
      "source": [
        "# from sklearn.model_selection import StratifiedShuffleSplit\n",
        "# from sklearn.model_selection import StratifiedKFold\n",
        "# from sklearn.model_selection import train_test_split\n",
        "\n",
        "# skf = StratifiedShuffleSplit(n_splits=5, random_state=None)\n",
        "\n",
        "# for train_index, test_index in skf.split(X_train, y_train):\n",
        "#     print(\"Train:\", train_index, \"Test:\", test_index)\n",
        "#     original_Xtrain, original_Xtest = X_train.iloc[train_index], X_train.iloc[test_index]\n",
        "#     original_ytrain, original_ytest = y_train.iloc[train_index], y_train.iloc[test_index]\n",
        "    \n",
        "# # Turn into an array\n",
        "# original_Xtrain = original_Xtrain.values\n",
        "# original_Xtest = original_Xtest.values\n",
        "# original_ytrain = original_ytrain.values\n",
        "# original_ytest = original_ytest.values\n",
        "\n",
        "# # See if both the train and test label distribution are similarly distributed\n",
        "# train_unique_label, train_counts_label = np.unique(original_ytrain, return_counts=True)\n",
        "# test_unique_label, test_counts_label = np.unique(original_ytest, return_counts=True)\n",
        "# print('-' * 100)\n",
        "\n",
        "# print('Label Distributions: \\n')\n",
        "# print(train_counts_label/ len(original_ytrain))\n",
        "# print(test_counts_label/ len(original_ytest))"
      ]
    },
    {
      "cell_type": "code",
      "execution_count": 146,
      "metadata": {
        "id": "mB5gc2nniI04"
      },
      "outputs": [],
      "source": [
        "# print(original_Xtrain.shape)\n",
        "# print(original_Xtest.shape)\n",
        "# print(original_ytrain.shape)\n",
        "# print(original_ytest.shape)"
      ]
    },
    {
      "cell_type": "code",
      "execution_count": 147,
      "metadata": {
        "colab": {
          "base_uri": "https://localhost:8080/"
        },
        "id": "Z8-c2Ui0iI04",
        "outputId": "c0e63806-ddfd-49ec-da88-da63d1f0ca81"
      },
      "outputs": [
        {
          "output_type": "execute_result",
          "data": {
            "text/plain": [
              "0    55165\n",
              "1     5551\n",
              "Name: Loan Status, dtype: int64"
            ]
          },
          "metadata": {},
          "execution_count": 147
        }
      ],
      "source": [
        "y_train.value_counts()"
      ]
    },
    {
      "cell_type": "code",
      "execution_count": 148,
      "metadata": {
        "id": "bj6euBHCiI05"
      },
      "outputs": [],
      "source": [
        "# from sklearn.model_selection import cross_val_score\n",
        "\n",
        "# model = LogisticRegression(random_state=0)\n",
        "# model.fit(original_Xtrain, original_ytrain)\n",
        "# scores = cross_val_score( model, original_Xtrain, original_ytrain, cv=5 )\n",
        "# print( scores.mean() )"
      ]
    },
    {
      "cell_type": "code",
      "execution_count": 149,
      "metadata": {
        "id": "e_J-GR_WiI05"
      },
      "outputs": [],
      "source": [
        "# from sklearn.model_selection import GridSearchCV\n",
        "\n",
        "# log_reg_params = {\"penalty\": ['l1', 'l2'], 'C': [0.001, 0.01, 0.1, 1, 10, 100, 1000]}\n",
        "\n",
        "# grid_log = GridSearchCV( LogisticRegression(), param_grid = log_reg_params )\n",
        "# grid_log.fit(original_Xtrain, original_ytrain)\n",
        "\n",
        "# log_tuned = grid_log.best_estimator_\n",
        "\n",
        "# print(grid_log.best_params_)\n",
        "\n",
        "# scores = cross_val_score( log_tuned, original_Xtrain , original_ytrain, cv=5 )\n",
        "# print(scores.mean())"
      ]
    },
    {
      "cell_type": "code",
      "execution_count": 150,
      "metadata": {
        "id": "Dmeu7q6liI05"
      },
      "outputs": [],
      "source": [
        "# model1 = LogisticRegression(  C=0.001, penalty='l2' )\n",
        "# model1.fit(X_train, y_train)\n",
        "\n",
        "# y_preds1 = model1.predict(X_test)\n",
        "# print(confusion_matrix(y_test,y_preds1))\n",
        "# print(accuracy_score(y_test,y_preds1))\n",
        "# print(classification_report(y_test,y_preds1))"
      ]
    },
    {
      "cell_type": "code",
      "execution_count": 151,
      "metadata": {
        "id": "F4v7RdP3iI05"
      },
      "outputs": [],
      "source": [
        "# pd.DataFrame(y_preds1).value_counts()"
      ]
    },
    {
      "cell_type": "markdown",
      "metadata": {
        "id": "cfxoDaRJiI05"
      },
      "source": [
        "Clearly our dataset is imbalanced. I will create equally distributed correctly balanced dataset for our analysis and further processing using RandomUnderSampling and re=evaluate Performance"
      ]
    },
    {
      "cell_type": "code",
      "execution_count": 152,
      "metadata": {
        "id": "zsLgt32JiI05"
      },
      "outputs": [],
      "source": [
        "# df = pd.concat( [ X_train, y_train ], axis=1 )\n",
        "# df = df.sample(frac=1)\n",
        "\n",
        "# default = df.loc[df['Loan Status']==1]\n",
        "# no_default = df.loc[df['Loan Status']==0][:6000]\n",
        "\n",
        "# new_df = pd.concat( [default, no_default] ).sample(frac=1, random_state=42)\n",
        "\n",
        "# new_df.head()"
      ]
    },
    {
      "cell_type": "code",
      "execution_count": 153,
      "metadata": {
        "id": "6Ovc6B9HiI06"
      },
      "outputs": [],
      "source": [
        "# new_df['Loan Status'].value_counts()"
      ]
    },
    {
      "cell_type": "markdown",
      "metadata": {
        "id": "6EeprBKMiI06"
      },
      "source": [
        "Evaluating performance (Undersampling)"
      ]
    },
    {
      "cell_type": "code",
      "execution_count": 154,
      "metadata": {
        "id": "amSWOZ5tiI06"
      },
      "outputs": [],
      "source": [
        "# y_train2 = new_df['Loan Status']\n",
        "# X_train2 = new_df.drop(columns=['Loan Status'])\n",
        "\n",
        "\n",
        "# model = LogisticRegression(random_state=0)\n",
        "# model.fit(X_train2, y_train2)\n",
        "# scores = cross_val_score( model, X_train2, y_train2, cv=5 )\n",
        "# print( scores.mean() )"
      ]
    },
    {
      "cell_type": "code",
      "execution_count": 155,
      "metadata": {
        "id": "iNtw1yT2iI06"
      },
      "outputs": [],
      "source": [
        "# from sklearn.model_selection import GridSearchCV\n",
        "\n",
        "# log_reg_params = {\"penalty\": ['l1', 'l2'], 'C': [0.001, 0.01, 0.1, 1, 10, 100, 1000]}\n",
        "\n",
        "# grid_log = GridSearchCV( LogisticRegression(), param_grid = log_reg_params )\n",
        "# grid_log.fit(X_train2, y_train2)\n",
        "\n",
        "# log_tuned = grid_log.best_estimator_\n",
        "\n",
        "# print(grid_log.best_params_)\n",
        "\n",
        "# scores = cross_val_score( log_tuned, X_train2 , y_train2, cv=5 )\n",
        "# print(scores.mean())"
      ]
    },
    {
      "cell_type": "code",
      "execution_count": 156,
      "metadata": {
        "id": "7J7OiqQciI06"
      },
      "outputs": [],
      "source": [
        "# model2 = LogisticRegression(  C=0.001, penalty='l2' )\n",
        "# model2.fit(X_train2, y_train2)\n",
        "\n",
        "# y_preds2 = model2.predict(X_test)\n",
        "# print(confusion_matrix(y_test,y_preds2))\n",
        "# print(accuracy_score(y_test,y_preds2))\n",
        "# print(classification_report(y_test,y_preds2))"
      ]
    },
    {
      "cell_type": "code",
      "execution_count": 157,
      "metadata": {
        "id": "9EYzY51PiI07"
      },
      "outputs": [],
      "source": [
        "# pd.DataFrame(y_preds2).value_counts()"
      ]
    },
    {
      "cell_type": "code",
      "execution_count": 158,
      "metadata": {
        "id": "XLlooY9_iI07"
      },
      "outputs": [],
      "source": [
        "# from sklearn.manifold import TSNE\n",
        "# from sklearn.decomposition import PCA, TruncatedSVD\n",
        "# import time\n",
        "\n",
        "# # New_df is from the random undersample data (fewer instances)\n",
        "# X = X_train2\n",
        "# y = y_train2\n",
        "\n",
        "\n",
        "# # T-SNE Implementation\n",
        "# t0 = time.time()\n",
        "# X_reduced_tsne = TSNE(n_components=2, random_state=42).fit_transform(X.values)\n",
        "# t1 = time.time()\n",
        "# print(\"T-SNE took {:.2} s\".format(t1 - t0))\n",
        "\n",
        "# # PCA Implementation\n",
        "# t0 = time.time()\n",
        "# X_reduced_pca = PCA(n_components=2, random_state=42).fit_transform(X.values)\n",
        "# t1 = time.time()\n",
        "# print(\"PCA took {:.2} s\".format(t1 - t0))\n",
        "\n",
        "# # TruncatedSVD\n",
        "# t0 = time.time()\n",
        "# X_reduced_svd = TruncatedSVD(n_components=2, algorithm='randomized', random_state=42).fit_transform(X.values)\n",
        "# t1 = time.time()\n",
        "# print(\"Truncated SVD took {:.2} s\".format(t1 - t0))"
      ]
    },
    {
      "cell_type": "code",
      "execution_count": 159,
      "metadata": {
        "id": "Fpehr5griI07"
      },
      "outputs": [],
      "source": [
        "# import matplotlib.patches as mpatches\n",
        "\n",
        "# f, (ax1, ax2, ax3) = plt.subplots(1, 3, figsize=(24,6))\n",
        "# # labels = ['No Fraud', 'Fraud']\n",
        "# f.suptitle('Clusters using Dimensionality Reduction', fontsize=14)\n",
        "\n",
        "\n",
        "# blue_patch = mpatches.Patch(color='#00FF00', label='No Default')\n",
        "# red_patch = mpatches.Patch(color='#ff0037', label='Default')\n",
        "\n",
        "\n",
        "# # t-SNE scatter plot\n",
        "# ax1.scatter(X_reduced_tsne[:,0], X_reduced_tsne[:,1], c=(y == 0), cmap=plt.cm.prism, edgecolor='k', alpha=0.7, label='No Defaulter', linewidths=0.7)\n",
        "# ax1.scatter(X_reduced_tsne[:,0], X_reduced_tsne[:,1], c=(y == 1), cmap=plt.cm.prism, edgecolor='k', alpha=0.7, label='Defaulter', linewidths=0.7)\n",
        "# ax1.set_title('t-SNE', fontsize=14)\n",
        "\n",
        "# ax1.grid(True)\n",
        "\n",
        "# ax1.legend(handles=[blue_patch, red_patch])\n",
        "\n",
        "\n",
        "# # PCA scatter plot\n",
        "# ax2.scatter(X_reduced_pca[:,0], X_reduced_pca[:,1], c=(y == 0), cmap=plt.cm.prism, edgecolor='k', alpha=0.7, label='No Defaulter', linewidths=0.7)\n",
        "# ax2.scatter(X_reduced_pca[:,0], X_reduced_pca[:,1], c=(y == 1), cmap=plt.cm.prism, edgecolor='k', alpha=0.7, label='Defaulter', linewidths=0.7)\n",
        "# ax2.set_title('PCA', fontsize=14)\n",
        "\n",
        "# ax2.grid(True)\n",
        "\n",
        "# ax2.legend(handles=[blue_patch, red_patch])\n",
        "\n",
        "# # TruncatedSVD scatter plot\n",
        "# ax3.scatter(X_reduced_svd[:,0], X_reduced_svd[:,1], c=(y == 0), cmap=plt.cm.prism, edgecolor='k', alpha=0.7, label='No Defaulter', linewidths=0.7)\n",
        "# ax3.scatter(X_reduced_svd[:,0], X_reduced_svd[:,1], c=(y == 1), cmap=plt.cm.prism, edgecolor='k', alpha=0.7, label='Defaulter', linewidths=0.7)\n",
        "# ax3.set_title('Truncated SVD', fontsize=14)\n",
        "\n",
        "# ax3.grid(True)\n",
        "\n",
        "# ax3.legend(handles=[blue_patch, red_patch])\n",
        "\n",
        "# plt.show()"
      ]
    },
    {
      "cell_type": "markdown",
      "metadata": {
        "id": "csJILgsciI07"
      },
      "source": [
        "Oversampling"
      ]
    },
    {
      "cell_type": "code",
      "execution_count": 160,
      "metadata": {
        "id": "PFl17JiGiI07"
      },
      "outputs": [],
      "source": [
        "# from imblearn.over_sampling import SMOTE\n",
        "\n",
        "\n",
        "# print('Length of X (train): {} | Length of y (train): {}'.format(len(original_Xtrain), len(original_ytrain)))\n",
        "# print('Length of X (test): {} | Length of y (test): {}'.format(len(original_Xtest), len(original_ytest)))\n",
        "\n",
        "# os = SMOTE( sampling_strategy = 'minority' )\n",
        "\n",
        "# X_train3, y_train3 = os.fit_resample(X_train, y_train)\n",
        "\n",
        "# print(X_train3.shape)\n",
        "# print(y_train3.shape)\n",
        "\n",
        "# print(y_train3.value_counts())"
      ]
    },
    {
      "cell_type": "code",
      "execution_count": 161,
      "metadata": {
        "id": "L0mDnvIAiI07"
      },
      "outputs": [],
      "source": [
        "# model3 = LogisticRegression(  C=0.001, penalty='l2' )\n",
        "# model3.fit(X_train3, y_train3)\n",
        "\n",
        "# y_preds3 = model3.predict(X_test)\n",
        "# print(confusion_matrix(y_test,y_preds3))\n",
        "# print(accuracy_score(y_test,y_preds3))\n",
        "# print(classification_report(y_test,y_preds3))"
      ]
    },
    {
      "cell_type": "code",
      "execution_count": 162,
      "metadata": {
        "id": "OeuwFSx3iI09"
      },
      "outputs": [],
      "source": [
        "# pd.DataFrame(y_preds3).value_counts()"
      ]
    },
    {
      "cell_type": "code",
      "execution_count": 163,
      "metadata": {
        "id": "ZSWjhfhriI09"
      },
      "outputs": [],
      "source": [
        "# preds1 = pd.DataFrame(y_preds1, columns=['Loan Status'])\n",
        "# preds1.value_counts()"
      ]
    },
    {
      "cell_type": "code",
      "execution_count": 164,
      "metadata": {
        "id": "TUiUbqDaiI09"
      },
      "outputs": [],
      "source": [
        "# preds2 = pd.DataFrame(y_preds2, columns=['Loan Status'])\n",
        "# preds2.value_counts()"
      ]
    },
    {
      "cell_type": "code",
      "execution_count": 165,
      "metadata": {
        "id": "kLJElVNziI09"
      },
      "outputs": [],
      "source": [
        "# preds3 = pd.DataFrame(y_preds3, columns=['Loan Status'])\n",
        "# preds3.value_counts()"
      ]
    },
    {
      "cell_type": "code",
      "execution_count": 166,
      "metadata": {
        "id": "yxweNdp4iI09"
      },
      "outputs": [],
      "source": [
        "# preds1.to_csv(\"predictions1.csv\", index=False)"
      ]
    },
    {
      "cell_type": "code",
      "execution_count": 167,
      "metadata": {
        "id": "vWE29Yz9iI09"
      },
      "outputs": [],
      "source": [
        "# preds2.to_csv(\"predictions2.csv\", index=False)"
      ]
    },
    {
      "cell_type": "code",
      "execution_count": 168,
      "metadata": {
        "id": "S6PAfk2JiI09"
      },
      "outputs": [],
      "source": [
        "# preds3.to_csv(\"predictions3.csv\", index=False)"
      ]
    },
    {
      "cell_type": "markdown",
      "metadata": {
        "id": "6wP62w6DiI0-"
      },
      "source": [
        "To improve classifier performance on imbalanced datset, I had implemented several sampling technioques"
      ]
    },
    {
      "cell_type": "markdown",
      "metadata": {
        "id": "m2KPGz0riI0-"
      },
      "source": [
        "Random Undersampling worsened the performance since it took away informative samples from majority class"
      ]
    },
    {
      "cell_type": "markdown",
      "metadata": {
        "id": "_7f3NeBZiI0-"
      },
      "source": [
        "Oversampling techniques such as SMOTE seemed to do well. Improving on SMOTE Technique, I used SMOTETOmek and SMOTEENN to deal noisy samples around the decision boundary of our classifier model"
      ]
    },
    {
      "cell_type": "code",
      "execution_count": 169,
      "metadata": {
        "colab": {
          "base_uri": "https://localhost:8080/"
        },
        "id": "rubrkia4iI0-",
        "outputId": "abcfbad9-8530-4ece-e513-da008aab8ab6"
      },
      "outputs": [
        {
          "output_type": "execute_result",
          "data": {
            "text/plain": [
              "Counter({0: 55165, 1: 5551})"
            ]
          },
          "metadata": {},
          "execution_count": 169
        }
      ],
      "source": [
        "from collections import Counter\n",
        "Counter(y_train)"
      ]
    },
    {
      "cell_type": "code",
      "execution_count": 170,
      "metadata": {
        "colab": {
          "base_uri": "https://localhost:8080/"
        },
        "id": "MernAsT-iI0-",
        "outputId": "a1161dbb-37e1-4b7e-ede4-cbb335cb9afd"
      },
      "outputs": [
        {
          "output_type": "stream",
          "name": "stdout",
          "text": [
            "The number of classes before fit Counter({0: 55165, 1: 5551})\n",
            "The number of classes after fit Counter({1: 54819, 0: 25682})\n"
          ]
        }
      ],
      "source": [
        "from imblearn.combine import SMOTETomek\n",
        "from imblearn.combine import SMOTEENN\n",
        "from imblearn.under_sampling import EditedNearestNeighbours\n",
        "from collections import Counter\n",
        "\n",
        "#os=SMOTETomek(0.75)\n",
        "os = SMOTEENN(enn=EditedNearestNeighbours(sampling_strategy='all'))\n",
        "\n",
        "X_train_ns,y_train_ns=os.fit_resample(X_train,y_train)\n",
        "print(\"The number of classes before fit {}\".format(Counter(y_train)))\n",
        "print(\"The number of classes after fit {}\".format(Counter(y_train_ns)))"
      ]
    },
    {
      "cell_type": "markdown",
      "metadata": {
        "id": "sbi9_r4wiI0-"
      },
      "source": [
        "Dimensionality Reduction on sampled dataset"
      ]
    },
    {
      "cell_type": "code",
      "execution_count": 171,
      "metadata": {
        "id": "et3Yst6IiI0-"
      },
      "outputs": [],
      "source": [
        "# from sklearn.manifold import TSNE\n",
        "# from sklearn.decomposition import PCA, TruncatedSVD\n",
        "# import time\n",
        "\n",
        "# # New_df is from the random undersample data (fewer instances)\n",
        "# X = X_train_ns\n",
        "# y = y_train_ns\n",
        "\n",
        "\n",
        "# # T-SNE Implementation\n",
        "# t0 = time.time()\n",
        "# X_reduced_tsne = TSNE(n_components=2, random_state=42).fit_transform(X.values)\n",
        "# t1 = time.time()\n",
        "# print(\"T-SNE took {:.2} s\".format(t1 - t0))\n",
        "\n",
        "# # PCA Implementation\n",
        "# t0 = time.time()\n",
        "# X_reduced_pca = PCA(n_components=2, random_state=42).fit_transform(X.values)\n",
        "# t1 = time.time()\n",
        "# print(\"PCA took {:.2} s\".format(t1 - t0))\n",
        "\n",
        "# # TruncatedSVD\n",
        "# t0 = time.time()\n",
        "# X_reduced_svd = TruncatedSVD(n_components=2, algorithm='randomized', random_state=42).fit_transform(X.values)\n",
        "# t1 = time.time()\n",
        "# print(\"Truncated SVD took {:.2} s\".format(t1 - t0))"
      ]
    },
    {
      "cell_type": "code",
      "execution_count": 172,
      "metadata": {
        "id": "GV7nbLyuiI0_"
      },
      "outputs": [],
      "source": [
        "# import matplotlib.patches as mpatches\n",
        "\n",
        "# f, (ax1, ax2, ax3) = plt.subplots(1, 3, figsize=(24,6))\n",
        "# # labels = ['No Fraud', 'Fraud']\n",
        "# f.suptitle('Clusters using Dimensionality Reduction to examine Loan Status Defaulters(with Sampling)', fontsize=14)\n",
        "\n",
        "\n",
        "# green_patch = mpatches.Patch(color='#00FF00', label='Default')\n",
        "# red_patch = mpatches.Patch(color='#ff0037', label='No Default')\n",
        "\n",
        "\n",
        "# # t-SNE scatter plot\n",
        "# ax1.scatter(X_reduced_tsne[:,0], X_reduced_tsne[:,1], c=(y == 0), cmap=plt.cm.prism, edgecolor='k', alpha=0.7, label='No Defaulter', linewidths=0.7)\n",
        "# ax1.scatter(X_reduced_tsne[:,0], X_reduced_tsne[:,1], c=(y == 1), cmap=plt.cm.prism, edgecolor='k', alpha=0.7, label='Defaulter', linewidths=0.7)\n",
        "# ax1.set_title('t-SNE', fontsize=14)\n",
        "\n",
        "# ax1.grid(True)\n",
        "\n",
        "# ax1.legend(handles=[green_patch, red_patch])\n",
        "\n",
        "\n",
        "# # PCA scatter plot\n",
        "# ax2.scatter(X_reduced_pca[:,0], X_reduced_pca[:,1], c=(y == 0), cmap=plt.cm.prism, edgecolor='k', alpha=0.7, label='No Defaulter', linewidths=0.7)\n",
        "# ax2.scatter(X_reduced_pca[:,0], X_reduced_pca[:,1], c=(y == 1), cmap=plt.cm.prism, edgecolor='k', alpha=0.7, label='Defaulter', linewidths=0.7)\n",
        "# ax2.set_title('PCA', fontsize=14)\n",
        "\n",
        "# ax2.grid(True)\n",
        "\n",
        "# ax2.legend(handles=[green_patch, red_patch])\n",
        "\n",
        "# # TruncatedSVD scatter plot\n",
        "# ax3.scatter(X_reduced_svd[:,0], X_reduced_svd[:,1], c=(y == 0), cmap=plt.cm.prism, edgecolor='k', alpha=0.7, label='No Defaulter', linewidths=0.7)\n",
        "# ax3.scatter(X_reduced_svd[:,0], X_reduced_svd[:,1], c=(y == 1), cmap=plt.cm.prism, edgecolor='k', alpha=0.7, label='Defaulter', linewidths=0.7)\n",
        "# ax3.set_title('Truncated SVD', fontsize=14)\n",
        "\n",
        "# ax3.grid(True)\n",
        "\n",
        "# ax3.legend(handles=[green_patch, red_patch])\n",
        "\n",
        "# plt.show()"
      ]
    },
    {
      "cell_type": "code",
      "execution_count": 173,
      "metadata": {
        "id": "FeXb4DM4iI0_"
      },
      "outputs": [],
      "source": [
        "from sklearn.model_selection import train_test_split\n",
        "\n",
        "\n",
        "train_X, test_X, train_y, test_y = train_test_split(X_train_ns, y_train_ns, test_size=0.2, random_state=777)"
      ]
    },
    {
      "cell_type": "code",
      "execution_count": 174,
      "metadata": {
        "colab": {
          "base_uri": "https://localhost:8080/"
        },
        "id": "8Of-QRteiI0_",
        "outputId": "94dfe3f9-a8a3-4819-89a8-6427c7641651"
      },
      "outputs": [
        {
          "output_type": "execute_result",
          "data": {
            "text/plain": [
              "(28913, 21)"
            ]
          },
          "metadata": {},
          "execution_count": 174
        }
      ],
      "source": [
        "X_test.shape"
      ]
    },
    {
      "cell_type": "code",
      "execution_count": 175,
      "metadata": {
        "colab": {
          "base_uri": "https://localhost:8080/"
        },
        "id": "4JkKsw3ziI0_",
        "outputId": "21093154-cc1d-43ba-a503-efa00a13ac11"
      },
      "outputs": [
        {
          "output_type": "stream",
          "name": "stdout",
          "text": [
            "(64400, 21)\n",
            "(16101, 21)\n",
            "(64400,)\n",
            "(16101,)\n",
            "1    43871\n",
            "0    20529\n",
            "Name: Loan Status, dtype: int64\n",
            "-----------------------------\n",
            "1    10948\n",
            "0     5153\n",
            "Name: Loan Status, dtype: int64\n"
          ]
        }
      ],
      "source": [
        "print(train_X.shape)\n",
        "print(test_X.shape)\n",
        "print(train_y.shape)\n",
        "print(test_y.shape)\n",
        "\n",
        "print(train_y.value_counts())\n",
        "print(\"-----------------------------\")\n",
        "print(test_y.value_counts())"
      ]
    },
    {
      "cell_type": "markdown",
      "metadata": {
        "id": "B94r4NUIiI1A"
      },
      "source": [
        "# Modelling"
      ]
    },
    {
      "cell_type": "code",
      "execution_count": 176,
      "metadata": {
        "id": "vpClHzBaiI1A"
      },
      "outputs": [],
      "source": [
        "from sklearn.model_selection import train_test_split\n",
        "from sklearn.preprocessing import StandardScaler\n",
        "from sklearn.decomposition import PCA\n",
        "from sklearn.pipeline import Pipeline\n",
        "\n",
        "from sklearn.linear_model import LogisticRegression\n",
        "from sklearn.naive_bayes import GaussianNB\n",
        "from sklearn.tree import DecisionTreeClassifier\n",
        "from sklearn.ensemble import RandomForestClassifier\n",
        "from sklearn.ensemble import GradientBoostingClassifier\n",
        "from xgboost import XGBClassifier"
      ]
    },
    {
      "cell_type": "markdown",
      "metadata": {
        "id": "uxd8ekGsiI1A"
      },
      "source": [
        "# 1. Logistic Regression"
      ]
    },
    {
      "cell_type": "code",
      "execution_count": 177,
      "metadata": {
        "colab": {
          "base_uri": "https://localhost:8080/"
        },
        "id": "gQeoDPGTiI1A",
        "outputId": "b230ce89-5f9f-43d4-c7a0-9a146b1f7538"
      },
      "outputs": [
        {
          "output_type": "stream",
          "name": "stdout",
          "text": [
            "[[    2  5151]\n",
            " [    0 10948]]\n",
            "0.68008198248556\n",
            "              precision    recall  f1-score   support\n",
            "\n",
            "           0       1.00      0.00      0.00      5153\n",
            "           1       0.68      1.00      0.81     10948\n",
            "\n",
            "    accuracy                           0.68     16101\n",
            "   macro avg       0.84      0.50      0.41     16101\n",
            "weighted avg       0.78      0.68      0.55     16101\n",
            "\n",
            "0.40516484273505005\n"
          ]
        }
      ],
      "source": [
        "lr = LogisticRegression(random_state=1234)\n",
        "lr.fit(train_X,train_y)\n",
        "\n",
        "y_pred = lr.predict(test_X)\n",
        "print(confusion_matrix(test_y,y_pred))\n",
        "print(accuracy_score(test_y,y_pred))\n",
        "print(classification_report(test_y,y_pred))\n",
        "print(f1_score(test_y, y_pred, average='macro'))"
      ]
    },
    {
      "cell_type": "code",
      "execution_count": 178,
      "metadata": {
        "colab": {
          "base_uri": "https://localhost:8080/"
        },
        "id": "GACVn2sriI1A",
        "outputId": "765b721c-d4ce-436b-a113-255442f1bfd8"
      },
      "outputs": [
        {
          "output_type": "execute_result",
          "data": {
            "text/plain": [
              "11.049832677259044"
            ]
          },
          "metadata": {},
          "execution_count": 178
        }
      ],
      "source": [
        "from sklearn.metrics import log_loss\n",
        "\n",
        "log_loss(test_y, lr.predict(test_X))"
      ]
    },
    {
      "cell_type": "markdown",
      "metadata": {
        "id": "9lgeKQdziI1A"
      },
      "source": [
        "# Naive Bayes"
      ]
    },
    {
      "cell_type": "code",
      "execution_count": 179,
      "metadata": {
        "colab": {
          "base_uri": "https://localhost:8080/"
        },
        "id": "JeWy_pKViI1A",
        "outputId": "7056d837-28b2-45f3-8851-2fcde43151b6"
      },
      "outputs": [
        {
          "output_type": "stream",
          "name": "stdout",
          "text": [
            "[[  365  4788]\n",
            " [  402 10546]]\n",
            "0.6776597726849264\n",
            "              precision    recall  f1-score   support\n",
            "\n",
            "           0       0.48      0.07      0.12      5153\n",
            "           1       0.69      0.96      0.80     10948\n",
            "\n",
            "    accuracy                           0.68     16101\n",
            "   macro avg       0.58      0.52      0.46     16101\n",
            "weighted avg       0.62      0.68      0.59     16101\n",
            "\n",
            "0.46291862738242395\n"
          ]
        }
      ],
      "source": [
        "gaussiannb = GaussianNB()\n",
        "gaussiannb.fit(train_X,train_y)\n",
        "\n",
        "y_pred = gaussiannb.predict(test_X)\n",
        "print(confusion_matrix(test_y,y_pred))\n",
        "print(accuracy_score(test_y,y_pred))\n",
        "print(classification_report(test_y,y_pred))\n",
        "print(f1_score(test_y, y_pred, average='macro'))"
      ]
    },
    {
      "cell_type": "code",
      "execution_count": 180,
      "metadata": {
        "colab": {
          "base_uri": "https://localhost:8080/"
        },
        "id": "0mLRQw-miI1B",
        "outputId": "9126a255-1ff2-48b3-e665-4740e613f8c0"
      },
      "outputs": [
        {
          "output_type": "execute_result",
          "data": {
            "text/plain": [
              "11.049832677259044"
            ]
          },
          "metadata": {},
          "execution_count": 180
        }
      ],
      "source": [
        "from sklearn.metrics import log_loss\n",
        "\n",
        "log_loss(test_y, lr.predict(test_X))"
      ]
    },
    {
      "cell_type": "markdown",
      "metadata": {
        "id": "JnnSL1EZiI1B"
      },
      "source": [
        "# Ensemble Methods"
      ]
    },
    {
      "cell_type": "code",
      "execution_count": 181,
      "metadata": {
        "colab": {
          "base_uri": "https://localhost:8080/"
        },
        "id": "BQF4qGWSiI1B",
        "outputId": "2ec58cb6-a7e3-46bd-fb88-f4e366ec7390"
      },
      "outputs": [
        {
          "output_type": "stream",
          "name": "stdout",
          "text": [
            "[[ 2110  3043]\n",
            " [  576 10372]]\n",
            "0.7752313520899323\n",
            "              precision    recall  f1-score   support\n",
            "\n",
            "           0       0.79      0.41      0.54      5153\n",
            "           1       0.77      0.95      0.85     10948\n",
            "\n",
            "    accuracy                           0.78     16101\n",
            "   macro avg       0.78      0.68      0.69     16101\n",
            "weighted avg       0.78      0.78      0.75     16101\n",
            "\n",
            "0.6948945232444617\n"
          ]
        }
      ],
      "source": [
        "from sklearn.ensemble import RandomForestClassifier\n",
        "\n",
        "rf_classifier=RandomForestClassifier(n_estimators=5, min_samples_split=20, min_samples_leaf=10, max_depth=10)\n",
        "rf_classifier.fit(train_X,train_y)\n",
        "\n",
        "y_pred4 = rf_classifier.predict(test_X)\n",
        "print(confusion_matrix(test_y,y_pred4))\n",
        "print(accuracy_score(test_y,y_pred4))\n",
        "print(classification_report(test_y,y_pred4))\n",
        "print(f1_score(test_y, y_pred4, average='macro'))"
      ]
    },
    {
      "cell_type": "code",
      "execution_count": 182,
      "metadata": {
        "colab": {
          "base_uri": "https://localhost:8080/"
        },
        "id": "Y0HG_nshiI1B",
        "outputId": "e2c1fc46-b18a-4d6a-8462-8d676fa627f9"
      },
      "outputs": [
        {
          "output_type": "execute_result",
          "data": {
            "text/plain": [
              "7.763385190246683"
            ]
          },
          "metadata": {},
          "execution_count": 182
        }
      ],
      "source": [
        "from sklearn.metrics import log_loss\n",
        "\n",
        "log_loss(test_y, rf_classifier.predict(test_X))"
      ]
    },
    {
      "cell_type": "code",
      "execution_count": 183,
      "metadata": {
        "colab": {
          "base_uri": "https://localhost:8080/"
        },
        "id": "l_oA23hviI1B",
        "outputId": "54512e3b-6f32-43c5-cbf7-d9c0945aa2d0"
      },
      "outputs": [
        {
          "output_type": "execute_result",
          "data": {
            "text/plain": [
              "1    19389\n",
              "0     9524\n",
              "dtype: int64"
            ]
          },
          "metadata": {},
          "execution_count": 183
        }
      ],
      "source": [
        "preds = rf_classifier.predict(X_test)\n",
        "preds = pd.DataFrame(preds)\n",
        "\n",
        "preds.value_counts()"
      ]
    },
    {
      "cell_type": "code",
      "execution_count": 184,
      "metadata": {
        "id": "XEo10A5jiI1C"
      },
      "outputs": [],
      "source": [
        "#preds.to_csv('sub_rf_final.csv')"
      ]
    },
    {
      "cell_type": "code",
      "execution_count": 185,
      "metadata": {
        "colab": {
          "base_uri": "https://localhost:8080/"
        },
        "id": "kNoAbdG1iI1C",
        "outputId": "d144cb7c-c085-4529-e05e-8b553ab92fd3"
      },
      "outputs": [
        {
          "output_type": "stream",
          "name": "stdout",
          "text": [
            "[[4578  575]\n",
            " [1076 9872]]\n",
            "0.8974597851065151\n",
            "              precision    recall  f1-score   support\n",
            "\n",
            "           0       0.81      0.89      0.85      5153\n",
            "           1       0.94      0.90      0.92     10948\n",
            "\n",
            "    accuracy                           0.90     16101\n",
            "   macro avg       0.88      0.90      0.89     16101\n",
            "weighted avg       0.90      0.90      0.90     16101\n",
            "\n",
            "0.8850305427919243\n"
          ]
        }
      ],
      "source": [
        "from sklearn.ensemble import GradientBoostingClassifier\n",
        "\n",
        "gb_classifier = GradientBoostingClassifier(n_estimators=50, min_samples_split=40, min_samples_leaf=20, max_depth=8).fit(train_X,train_y)\n",
        "prediction = gb_classifier.predict(test_X)\n",
        "\n",
        "from sklearn.metrics import confusion_matrix,classification_report,accuracy_score\n",
        "\n",
        "print(confusion_matrix(test_y,prediction))\n",
        "print(accuracy_score(test_y,prediction))\n",
        "print(classification_report(test_y,prediction))\n",
        "print(f1_score(test_y, prediction, average='macro'))"
      ]
    },
    {
      "cell_type": "code",
      "execution_count": 186,
      "metadata": {
        "colab": {
          "base_uri": "https://localhost:8080/"
        },
        "id": "eaUKVZrtiI1C",
        "outputId": "caa5918a-57f7-44b2-8280-8cd7dbe62075"
      },
      "outputs": [
        {
          "output_type": "execute_result",
          "data": {
            "text/plain": [
              "3.5416421089696235"
            ]
          },
          "metadata": {},
          "execution_count": 186
        }
      ],
      "source": [
        "from sklearn.metrics import log_loss\n",
        "\n",
        "log_loss(test_y, gb_classifier.predict(test_X))"
      ]
    },
    {
      "cell_type": "code",
      "execution_count": 187,
      "metadata": {
        "colab": {
          "base_uri": "https://localhost:8080/"
        },
        "id": "PIP0lbtwiI1C",
        "outputId": "80e5d3be-3854-4db8-ff2c-ec98e0fc08b9"
      },
      "outputs": [
        {
          "output_type": "execute_result",
          "data": {
            "text/plain": [
              "0    19593\n",
              "1     9320\n",
              "dtype: int64"
            ]
          },
          "metadata": {},
          "execution_count": 187
        }
      ],
      "source": [
        "preds = gb_classifier.predict(X_test)\n",
        "preds = pd.DataFrame(preds)\n",
        "\n",
        "preds.value_counts()"
      ]
    },
    {
      "cell_type": "code",
      "execution_count": 188,
      "metadata": {
        "id": "Jamhk_PziI1C"
      },
      "outputs": [],
      "source": [
        "preds.to_csv('sub_gb_colab.csv')"
      ]
    },
    {
      "cell_type": "code",
      "execution_count": 189,
      "metadata": {
        "id": "Fs3DVwoKiI1D"
      },
      "outputs": [],
      "source": [
        "#y_train_ns.value_counts()"
      ]
    },
    {
      "cell_type": "markdown",
      "source": [
        "## Neural Network\n",
        "\n",
        "---\n",
        "\n"
      ],
      "metadata": {
        "id": "s9lg8bMErbmv"
      }
    },
    {
      "cell_type": "code",
      "execution_count": 190,
      "metadata": {
        "id": "j5obVodmiI1C"
      },
      "outputs": [],
      "source": [
        "from tensorflow.keras.models import Sequential\n",
        "from tensorflow.keras.layers import Conv2D,Flatten,Dropout,Dense\n",
        "from tensorflow.keras.optimizers import Adam\n",
        "from tensorflow import keras\n",
        "from tensorflow.keras import layers"
      ]
    },
    {
      "cell_type": "code",
      "source": [
        "import tensorflow as tf\n",
        "from tensorflow import keras\n",
        "import numpy as np\n",
        "\n",
        "import keras\n",
        "from keras.layers import Input\n",
        "from keras.models import Sequential\n",
        "from keras.layers import Dense\n",
        "from keras.layers import LeakyReLU,PReLU,ELU\n",
        "from keras.layers import Dropout"
      ],
      "metadata": {
        "id": "XLOyRLoJruYg"
      },
      "execution_count": 191,
      "outputs": []
    },
    {
      "cell_type": "code",
      "source": [
        "print(train_X.shape)\n",
        "print(test_X.shape)\n",
        "print(X_test.shape)"
      ],
      "metadata": {
        "colab": {
          "base_uri": "https://localhost:8080/"
        },
        "id": "fn4N1wWar6j3",
        "outputId": "a6207c76-bc68-401c-ce64-744994be91e8"
      },
      "execution_count": 192,
      "outputs": [
        {
          "output_type": "stream",
          "name": "stdout",
          "text": [
            "(64400, 21)\n",
            "(16101, 21)\n",
            "(28913, 21)\n"
          ]
        }
      ]
    },
    {
      "cell_type": "code",
      "source": [
        "# Initialising the ANN\n",
        "model = Sequential()\n",
        "model.add(Dense(64, input_dim=21, activation='LeakyReLU'))\n",
        "model.add(Dense(32, activation='LeakyReLU'))\n",
        "#model.add(Dropout(0.2))\n",
        "model.add(Dense(16, activation='LeakyReLU'))\n",
        "#model.add(Dropout(0.2))\n",
        "#model.add(Dense(16, activation='LeakyReLU'))\n",
        "model.add(Dense(1, activation='sigmoid'))\n",
        "\n",
        "from keras import backend as K\n",
        "\n",
        "def recall_m(y_true, y_pred):\n",
        "    true_positives = K.sum(K.round(K.clip(y_true * y_pred, 0, 1)))\n",
        "    possible_positives = K.sum(K.round(K.clip(y_true, 0, 1)))\n",
        "    recall = true_positives / (possible_positives + K.epsilon())\n",
        "    return recall\n",
        "\n",
        "def precision_m(y_true, y_pred):\n",
        "    true_positives = K.sum(K.round(K.clip(y_true * y_pred, 0, 1)))\n",
        "    predicted_positives = K.sum(K.round(K.clip(y_pred, 0, 1)))\n",
        "    precision = true_positives / (predicted_positives + K.epsilon())\n",
        "    return precision\n",
        "\n",
        "def f1_m(y_true, y_pred):\n",
        "    precision = precision_m(y_true, y_pred)\n",
        "    recall = recall_m(y_true, y_pred)\n",
        "    return 2*((precision*recall)/(precision+recall+K.epsilon()))\n",
        "\n",
        "# compile the model\n",
        "model.compile(optimizer=tf.keras.optimizers.Adam(learning_rate=0.001), \n",
        "              loss='binary_crossentropy', \n",
        "              metrics=['acc',f1_m,precision_m, recall_m])\n",
        "\n",
        "\n",
        "# model.compile(loss=\"binary_crossentropy\",\n",
        "#               optimizer=,\n",
        "#               metrics=[\"accuracy\"])\n",
        "print(model.summary())\n",
        "\n",
        "model.fit(train_X, train_y,\n",
        "          validation_data=(test_X, test_y),\n",
        "          epochs=10,\n",
        "          callbacks=[tf.keras.callbacks.EarlyStopping(patience=10)], verbose=0)\n",
        "\n",
        "# Evaluate our model\n",
        "loss, acc, f1_score, precision, recall = model.evaluate(test_X, test_y, verbose=1)\n",
        "print(\"Validation accuracy :\", acc, f1_score, precision, recall)"
      ],
      "metadata": {
        "colab": {
          "base_uri": "https://localhost:8080/"
        },
        "id": "0NGzSHosrufd",
        "outputId": "7e151dfe-6434-458b-8935-f3a7df74ad7b"
      },
      "execution_count": 219,
      "outputs": [
        {
          "output_type": "stream",
          "name": "stdout",
          "text": [
            "Model: \"sequential_10\"\n",
            "_________________________________________________________________\n",
            " Layer (type)                Output Shape              Param #   \n",
            "=================================================================\n",
            " dense_44 (Dense)            (None, 64)                1408      \n",
            "                                                                 \n",
            " dense_45 (Dense)            (None, 32)                2080      \n",
            "                                                                 \n",
            " dense_46 (Dense)            (None, 16)                528       \n",
            "                                                                 \n",
            " dense_47 (Dense)            (None, 1)                 17        \n",
            "                                                                 \n",
            "=================================================================\n",
            "Total params: 4,033\n",
            "Trainable params: 4,033\n",
            "Non-trainable params: 0\n",
            "_________________________________________________________________\n",
            "None\n",
            "504/504 [==============================] - 2s 4ms/step - loss: 0.5439 - acc: 0.7378 - f1_m: 0.8203 - precision_m: 0.7607 - recall_m: 0.8980\n",
            "Validation accuracy : 0.7377802729606628 0.8203384280204773 0.7606877684593201 0.8980130553245544\n"
          ]
        }
      ]
    },
    {
      "cell_type": "code",
      "source": [
        "y_pred_nn = model.predict(X_test)"
      ],
      "metadata": {
        "id": "qo9SXaAaru-9"
      },
      "execution_count": 220,
      "outputs": []
    },
    {
      "cell_type": "code",
      "source": [
        "y_pred_nn"
      ],
      "metadata": {
        "colab": {
          "base_uri": "https://localhost:8080/"
        },
        "id": "XUVbZyWWrvD5",
        "outputId": "cdf951f7-5a7e-4ebe-ed11-f36d74ec02ee"
      },
      "execution_count": 221,
      "outputs": [
        {
          "output_type": "execute_result",
          "data": {
            "text/plain": [
              "array([[0.362092  ],\n",
              "       [0.8301089 ],\n",
              "       [0.3253312 ],\n",
              "       ...,\n",
              "       [0.20383579],\n",
              "       [0.12528712],\n",
              "       [0.24840835]], dtype=float32)"
            ]
          },
          "metadata": {},
          "execution_count": 221
        }
      ]
    },
    {
      "cell_type": "code",
      "source": [
        "y_pred_nn = (y_pred_nn > 0.5)\n",
        "y_pred_nn = [int(val) for val in y_pred_nn]\n",
        "#y_pred_nn"
      ],
      "metadata": {
        "id": "AvSeeJrgrvIx"
      },
      "execution_count": 222,
      "outputs": []
    },
    {
      "cell_type": "code",
      "source": [
        "y_pred_nn = pd.DataFrame(y_pred_nn)\n",
        "y_pred_nn.value_counts()"
      ],
      "metadata": {
        "colab": {
          "base_uri": "https://localhost:8080/"
        },
        "id": "ZjbPM_hWrvMw",
        "outputId": "0e42c80e-a7f2-48b8-bb3b-167244a5d08a"
      },
      "execution_count": 223,
      "outputs": [
        {
          "output_type": "execute_result",
          "data": {
            "text/plain": [
              "1    15455\n",
              "0    13458\n",
              "dtype: int64"
            ]
          },
          "metadata": {},
          "execution_count": 223
        }
      ]
    },
    {
      "cell_type": "code",
      "source": [
        "y_pred_nn.to_csv('mysubmission.csv')"
      ],
      "metadata": {
        "id": "gqXttrbBuFMw"
      },
      "execution_count": 224,
      "outputs": []
    },
    {
      "cell_type": "markdown",
      "metadata": {
        "id": "E_eTa_-giI1D"
      },
      "source": [
        "# GridSearchCV for Logistic Regression"
      ]
    },
    {
      "cell_type": "code",
      "execution_count": null,
      "metadata": {
        "id": "QFJptg_aiI1D",
        "outputId": "9bec74bb-5686-4567-9d82-be88514d3932"
      },
      "outputs": [
        {
          "name": "stdout",
          "output_type": "stream",
          "text": [
            "Fitting 3 folds for each of 90 candidates, totalling 270 fits\n"
          ]
        },
        {
          "data": {
            "text/plain": [
              "GridSearchCV(cv=3, estimator=LogisticRegression(), n_jobs=-1,\n",
              "             param_grid={'C': [1e-05, 0.001, 0.009, 0.01, 0.09, 1, 5, 10, 25,\n",
              "                               100],\n",
              "                         'penalty': ['l1', 'l2', 'elasticnet'],\n",
              "                         'solver': ['lbfgs', 'saga', 'liblinear']},\n",
              "             scoring='f1_macro', verbose=10)"
            ]
          },
          "execution_count": 152,
          "metadata": {},
          "output_type": "execute_result"
        }
      ],
      "source": [
        "from sklearn.model_selection import GridSearchCV\n",
        "from sklearn import metrics\n",
        "\n",
        "penalty = ['l1','l2','elasticnet']\n",
        "C = [0.00001,0.001,.009,0.01,.09,1,5,10,25,100]\n",
        "solver = [ 'lbfgs','saga','liblinear' ]\n",
        "\n",
        "param_grid = {\n",
        "                'penalty' : penalty,\n",
        "                'C' : C,\n",
        "                'solver' : solver\n",
        "             }\n",
        "\n",
        "lrc = LogisticRegression()\n",
        "\n",
        "\n",
        "lr_gridcv = GridSearchCV(estimator=lrc , param_grid=param_grid , \n",
        "                        scoring='f1_macro',cv=3,verbose=10,\n",
        "                        n_jobs=-1)\n",
        "\n",
        "lr_gridcv.fit(train_X,train_y)"
      ]
    },
    {
      "cell_type": "code",
      "execution_count": null,
      "metadata": {
        "id": "WFbDRnENiI1D",
        "outputId": "53fec07d-bc33-4936-c54b-2ae93f92c1cd"
      },
      "outputs": [
        {
          "name": "stdout",
          "output_type": "stream",
          "text": [
            "{'C': 5, 'penalty': 'l2', 'solver': 'liblinear'}\n"
          ]
        }
      ],
      "source": [
        "print(lr_gridcv.best_params_)"
      ]
    },
    {
      "cell_type": "code",
      "execution_count": null,
      "metadata": {
        "id": "ZZBdJRjoiI1D",
        "outputId": "b26838d8-1939-4fbf-f389-42908073bb03"
      },
      "outputs": [
        {
          "name": "stdout",
          "output_type": "stream",
          "text": [
            "0.4126833889605713\n"
          ]
        }
      ],
      "source": [
        "print(lr_gridcv.best_score_)"
      ]
    },
    {
      "cell_type": "code",
      "execution_count": null,
      "metadata": {
        "id": "fmdDQ3eTiI1E",
        "outputId": "a27fb7d9-ab1d-4d9c-db9c-8ecb695be1d3"
      },
      "outputs": [
        {
          "name": "stdout",
          "output_type": "stream",
          "text": [
            "LogisticRegression(C=5, solver='liblinear')\n"
          ]
        }
      ],
      "source": [
        "print(lr_gridcv.best_estimator_)"
      ]
    },
    {
      "cell_type": "code",
      "execution_count": null,
      "metadata": {
        "id": "jUmYdXYoiI1E"
      },
      "outputs": [],
      "source": [
        "best_lr = lr_gridcv.best_estimator_"
      ]
    },
    {
      "cell_type": "code",
      "execution_count": null,
      "metadata": {
        "id": "Eok1Aw4_iI1E",
        "outputId": "33e82ca8-e20b-4f97-bdf1-1ee274740d8f"
      },
      "outputs": [
        {
          "name": "stdout",
          "output_type": "stream",
          "text": [
            "[[   17  4966]\n",
            " [   23 10947]]\n",
            "Accuracy Score 0.6872688522534947\n",
            "Classification report:               precision    recall  f1-score   support\n",
            "\n",
            "           0       0.42      0.00      0.01      4983\n",
            "           1       0.69      1.00      0.81     10970\n",
            "\n",
            "    accuracy                           0.69     15953\n",
            "   macro avg       0.56      0.50      0.41     15953\n",
            "weighted avg       0.61      0.69      0.56     15953\n",
            "\n",
            "f1 score 0.4105934484653709\n"
          ]
        }
      ],
      "source": [
        "from sklearn.metrics import accuracy_score\n",
        "\n",
        "y_pred = best_lr.predict(test_X)\n",
        "print(confusion_matrix(test_y,y_pred))\n",
        "print(\"Accuracy Score {}\".format(accuracy_score(test_y,y_pred)))\n",
        "print(\"Classification report: {}\".format(classification_report(test_y,y_pred)))\n",
        "print(\"f1 score {}\".format(f1_score(test_y,y_pred, average='macro')))"
      ]
    },
    {
      "cell_type": "code",
      "execution_count": null,
      "metadata": {
        "id": "kE8GOkAOiI1E",
        "outputId": "006a9427-0b85-4f4f-849a-4c82c509514c"
      },
      "outputs": [
        {
          "data": {
            "text/plain": [
              "10.801600089954727"
            ]
          },
          "execution_count": 158,
          "metadata": {},
          "output_type": "execute_result"
        }
      ],
      "source": [
        "from sklearn.metrics import log_loss\n",
        "\n",
        "log_loss(test_y, best_lr.predict(test_X))"
      ]
    },
    {
      "cell_type": "markdown",
      "metadata": {
        "id": "xDz1ps-9iI1F"
      },
      "source": [
        "# GridSearchCV for RandomForest"
      ]
    },
    {
      "cell_type": "code",
      "execution_count": null,
      "metadata": {
        "id": "yIF7VAD0iI1F",
        "outputId": "9bd675a8-e6af-4d0a-c482-b88894eeaa24"
      },
      "outputs": [
        {
          "name": "stdout",
          "output_type": "stream",
          "text": [
            "{'n_estimators': [10, 30, 50, 100, 300, 400, 500, 600, 700, 1000], 'max_features': ['auto', 'sqrt', 'log2'], 'max_depth': [5, 8, 15, 25, 30], 'min_samples_split': [2, 5, 10, 14], 'min_samples_leaf': [1, 2, 4, 6, 8], 'criterion': ['entropy', 'gini']}\n",
            "Fitting 3 folds for each of 6000 candidates, totalling 18000 fits\n"
          ]
        }
      ],
      "source": [
        "from sklearn.model_selection import GridSearchCV\n",
        "from sklearn import metrics\n",
        "\n",
        "n_estimators = [10,30,50,100,300, 400, 500, 600, 700,1000]\n",
        "max_features = ['auto', 'sqrt','log2']\n",
        "max_depth = [5, 8, 15, 25, 30]\n",
        "min_samples_split = [2, 5, 10, 14]\n",
        "min_samples_leaf = [1, 2, 4, 6, 8]\n",
        "\n",
        "param_grid = {'n_estimators': n_estimators,\n",
        "               'max_features': max_features,\n",
        "               'max_depth': max_depth,\n",
        "               'min_samples_split': min_samples_split,\n",
        "               'min_samples_leaf': min_samples_leaf,\n",
        "              'criterion':['entropy','gini']}\n",
        "print(param_grid)\n",
        "\n",
        "rfc = RandomForestClassifier()\n",
        "\n",
        "\n",
        "rf_gridcv = GridSearchCV(estimator=rfc , param_grid=param_grid , \n",
        "                        scoring='f1_macro',cv=3,verbose=10,\n",
        "                        n_jobs=-1)\n",
        "\n",
        "rf_gridcv.fit(train_X,train_y)"
      ]
    },
    {
      "cell_type": "code",
      "execution_count": null,
      "metadata": {
        "id": "2xfvrlftiI1F"
      },
      "outputs": [],
      "source": [
        "print(rf_gridcv.best_params_)"
      ]
    },
    {
      "cell_type": "code",
      "execution_count": null,
      "metadata": {
        "id": "JtloroBwiI1F"
      },
      "outputs": [],
      "source": [
        "print(rf_gridcv.best_score_)"
      ]
    },
    {
      "cell_type": "code",
      "execution_count": null,
      "metadata": {
        "id": "fMx-eKCsiI1G"
      },
      "outputs": [],
      "source": [
        "print(rf_gridcv.best_estimator_)"
      ]
    },
    {
      "cell_type": "code",
      "execution_count": null,
      "metadata": {
        "id": "g295dN7uiI1G"
      },
      "outputs": [],
      "source": [
        "best_rf = rf_gridcv.best_estimator_"
      ]
    },
    {
      "cell_type": "code",
      "execution_count": null,
      "metadata": {
        "id": "cI5LcMdsiI1G"
      },
      "outputs": [],
      "source": [
        "from sklearn.metrics import accuracy_score\n",
        "\n",
        "y_pred = best_rf.predict(test_X)\n",
        "print(confusion_matrix(test_y,y_pred))\n",
        "print(\"Accuracy Score {}\".format(accuracy_score(test_y,y_pred)))\n",
        "print(\"Classification report: {}\".format(classification_report(test_y,y_pred)))\n",
        "print(\"f1 score {}\".format(f1_score(test_y,y_pred, average='macro')))"
      ]
    },
    {
      "cell_type": "code",
      "execution_count": null,
      "metadata": {
        "id": "9AMRs91ciI1G"
      },
      "outputs": [],
      "source": [
        "from sklearn.metrics import log_loss\n",
        "\n",
        "log_loss(test_y, best_rf.predict(test_X))"
      ]
    },
    {
      "cell_type": "code",
      "execution_count": null,
      "metadata": {
        "id": "ljcGIBSOiI1G"
      },
      "outputs": [],
      "source": [
        ""
      ]
    },
    {
      "cell_type": "code",
      "execution_count": null,
      "metadata": {
        "id": "Ih1SGpZZiI1G"
      },
      "outputs": [],
      "source": [
        ""
      ]
    },
    {
      "cell_type": "code",
      "execution_count": null,
      "metadata": {
        "id": "BXyTfFepiI1G"
      },
      "outputs": [],
      "source": [
        ""
      ]
    },
    {
      "cell_type": "code",
      "execution_count": null,
      "metadata": {
        "id": "W2XeNbuciI1H",
        "outputId": "094732ad-7ab1-4976-9e1b-02336b098283"
      },
      "outputs": [
        {
          "name": "stdout",
          "output_type": "stream",
          "text": [
            "Fitting 2 folds for each of 5 candidates, totalling 10 fits\n"
          ]
        },
        {
          "data": {
            "text/plain": [
              "RandomizedSearchCV(cv=2, estimator=LogisticRegression(), n_iter=5, n_jobs=-1,\n",
              "                   param_distributions={'C': [0.001, 0.009, 0.01, 0.09, 1, 5,\n",
              "                                              10, 25, 100, 300, 1000, 10000],\n",
              "                                        'penalty': ['l1', 'l2', 'elasticnet'],\n",
              "                                        'solver': ['lbfgs', 'saga',\n",
              "                                                   'liblinear']},\n",
              "                   random_state=100, scoring='neg_log_loss', verbose=2)"
            ]
          },
          "execution_count": 131,
          "metadata": {},
          "output_type": "execute_result"
        }
      ],
      "source": [
        "import numpy as np\n",
        "from sklearn.model_selection import RandomizedSearchCV\n",
        "\n",
        "\n",
        "penalty = ['l1','l2','elasticnet']\n",
        "C = [0.00001,0.001,.009,0.01,.09,1,5,10,25,100]\n",
        "solver = [ 'lbfgs','saga','liblinear' ]\n",
        "\n",
        "param_grid = {\n",
        "                'penalty' : penalty,\n",
        "                'C' : C,\n",
        "                'solver' : solver\n",
        "             }\n",
        "\n",
        "lr_clf = LogisticRegression()\n",
        "\n",
        "lr_randomcv = RandomizedSearchCV(estimator=lr_clf,param_distributions=param_grid, scoring='neg_log_loss', n_iter=5,cv=2,verbose=2,\n",
        "                               random_state=100,n_jobs=-1)\n",
        "\n",
        "lr_randomcv.fit(train_X,train_y)"
      ]
    },
    {
      "cell_type": "code",
      "execution_count": null,
      "metadata": {
        "id": "XYwLrbeyiI1H",
        "outputId": "6a51524e-f9c7-4567-db0f-9f2e99084e7e"
      },
      "outputs": [
        {
          "data": {
            "text/plain": [
              "{'solver': 'liblinear', 'penalty': 'l2', 'C': 25}"
            ]
          },
          "execution_count": 132,
          "metadata": {},
          "output_type": "execute_result"
        }
      ],
      "source": [
        "lr_randomcv.best_params_"
      ]
    },
    {
      "cell_type": "code",
      "execution_count": null,
      "metadata": {
        "id": "xK6CGhMDiI1H",
        "outputId": "dc11b66b-fd33-442c-9391-960d8bf7aa2e"
      },
      "outputs": [
        {
          "data": {
            "text/plain": [
              "RandomizedSearchCV(cv=2, estimator=LogisticRegression(), n_iter=5, n_jobs=-1,\n",
              "                   param_distributions={'C': [0.001, 0.009, 0.01, 0.09, 1, 5,\n",
              "                                              10, 25, 100, 300, 1000, 10000],\n",
              "                                        'penalty': ['l1', 'l2', 'elasticnet'],\n",
              "                                        'solver': ['lbfgs', 'saga',\n",
              "                                                   'liblinear']},\n",
              "                   random_state=100, scoring='neg_log_loss', verbose=2)"
            ]
          },
          "execution_count": 133,
          "metadata": {},
          "output_type": "execute_result"
        }
      ],
      "source": [
        "lr_randomcv"
      ]
    },
    {
      "cell_type": "code",
      "execution_count": null,
      "metadata": {
        "id": "x1GrLUsoiI1H"
      },
      "outputs": [],
      "source": [
        "best_random_grid=lr_randomcv.best_estimator_"
      ]
    },
    {
      "cell_type": "code",
      "execution_count": null,
      "metadata": {
        "id": "wczYBUEtiI1H",
        "outputId": "05912291-cf16-4158-9e49-38c55b3811bb"
      },
      "outputs": [
        {
          "name": "stdout",
          "output_type": "stream",
          "text": [
            "[[   18  4965]\n",
            " [   23 10947]]\n",
            "Accuracy Score 0.6873315363881402\n",
            "Classification report:               precision    recall  f1-score   support\n",
            "\n",
            "           0       0.44      0.00      0.01      4983\n",
            "           1       0.69      1.00      0.81     10970\n",
            "\n",
            "    accuracy                           0.69     15953\n",
            "   macro avg       0.56      0.50      0.41     15953\n",
            "weighted avg       0.61      0.69      0.56     15953\n",
            "\n",
            "f1 score 0.41080696741645606\n"
          ]
        }
      ],
      "source": [
        "from sklearn.metrics import accuracy_score\n",
        "\n",
        "y_pred=best_random_grid.predict(test_X)\n",
        "print(confusion_matrix(test_y,y_pred))\n",
        "print(\"Accuracy Score {}\".format(accuracy_score(test_y,y_pred)))\n",
        "print(\"Classification report: {}\".format(classification_report(test_y,y_pred)))\n",
        "print(\"f1 score {}\".format(f1_score(test_y,y_pred, average='macro')))"
      ]
    },
    {
      "cell_type": "code",
      "execution_count": null,
      "metadata": {
        "id": "E637-vz0iI1H",
        "outputId": "cd02459c-6932-4798-8361-8aff95d6f720"
      },
      "outputs": [
        {
          "data": {
            "text/plain": [
              "10.799435006522625"
            ]
          },
          "execution_count": 136,
          "metadata": {},
          "output_type": "execute_result"
        }
      ],
      "source": [
        "from sklearn.metrics import log_loss\n",
        "\n",
        "log_loss(test_y, best_random_grid.predict(test_X))"
      ]
    },
    {
      "cell_type": "code",
      "execution_count": null,
      "metadata": {
        "id": "I0WyDLPBiI1I"
      },
      "outputs": [],
      "source": [
        "preds = best_random_grid.predict(X_test)"
      ]
    },
    {
      "cell_type": "code",
      "execution_count": null,
      "metadata": {
        "id": "rUyp-pwriI1I",
        "outputId": "74035a04-08f3-4e7a-a808-98d9dcc7305d"
      },
      "outputs": [
        {
          "data": {
            "text/plain": [
              "1    28166\n",
              "0      747\n",
              "dtype: int64"
            ]
          },
          "execution_count": 138,
          "metadata": {},
          "output_type": "execute_result"
        }
      ],
      "source": [
        "fin = pd.DataFrame(preds)\n",
        "\n",
        "fin.value_counts()"
      ]
    },
    {
      "cell_type": "markdown",
      "metadata": {
        "id": "qao6iJyfiI1I"
      },
      "source": [
        "# RandomSearchCV for RandomForest"
      ]
    },
    {
      "cell_type": "code",
      "execution_count": null,
      "metadata": {
        "id": "v0aqHZ8niI1I",
        "outputId": "728a51f0-db14-40e5-b3e8-39df91e17e11"
      },
      "outputs": [
        {
          "name": "stdout",
          "output_type": "stream",
          "text": [
            "[[ 4628   355]\n",
            " [  807 10163]]\n",
            "0.9271610355419043\n",
            "              precision    recall  f1-score   support\n",
            "\n",
            "           0       0.85      0.93      0.89      4983\n",
            "           1       0.97      0.93      0.95     10970\n",
            "\n",
            "    accuracy                           0.93     15953\n",
            "   macro avg       0.91      0.93      0.92     15953\n",
            "weighted avg       0.93      0.93      0.93     15953\n",
            "\n",
            "f1 score 0.9171927914299196\n"
          ]
        }
      ],
      "source": [
        "from sklearn.ensemble import RandomForestClassifier\n",
        "\n",
        "rf_classifier=RandomForestClassifier(n_estimators=10).fit(train_X,train_y)\n",
        "prediction=rf_classifier.predict(test_X)\n",
        "\n",
        "from sklearn.metrics import confusion_matrix,classification_report,accuracy_score\n",
        "\n",
        "print(confusion_matrix(test_y,prediction))\n",
        "print(accuracy_score(test_y,prediction))\n",
        "print(classification_report(test_y,prediction))\n",
        "print(\"f1 score {}\".format(f1_score(test_y,prediction, average='macro')))"
      ]
    },
    {
      "cell_type": "code",
      "execution_count": null,
      "metadata": {
        "id": "_luoX0QGiI1I",
        "outputId": "ad391d2d-78a9-43d2-91b3-7c9df0dbd2d4"
      },
      "outputs": [
        {
          "data": {
            "text/plain": [
              "2.5157864995909196"
            ]
          },
          "execution_count": 93,
          "metadata": {},
          "output_type": "execute_result"
        }
      ],
      "source": [
        "from sklearn.metrics import log_loss\n",
        "\n",
        "log_loss(test_y, rf_classifier.predict(test_X))"
      ]
    },
    {
      "cell_type": "code",
      "execution_count": null,
      "metadata": {
        "id": "7nzdEhn-iI1J",
        "outputId": "40536858-6543-42b9-f27a-7b9814496a8c"
      },
      "outputs": [
        {
          "name": "stdout",
          "output_type": "stream",
          "text": [
            "{'n_estimators': [300, 400, 500, 600, 700, 1000], 'max_features': ['auto', 'sqrt', 'log2'], 'max_depth': [5, 8, 15, 25, 30], 'min_samples_split': [2, 5, 10, 14], 'min_samples_leaf': [1, 2, 4, 6, 8], 'criterion': ['entropy', 'gini']}\n"
          ]
        }
      ],
      "source": [
        "import numpy as np\n",
        "from sklearn.model_selection import RandomizedSearchCV\n",
        "\n",
        "n_estimators = [300, 400, 500, 600, 700,1000]\n",
        "max_features = ['auto', 'sqrt','log2']\n",
        "max_depth = [5, 8, 15, 25, 30]\n",
        "min_samples_split = [2, 5, 10, 14]\n",
        "min_samples_leaf = [1, 2, 4, 6, 8]\n",
        "\n",
        "random_grid = {'n_estimators': n_estimators,\n",
        "               'max_features': max_features,\n",
        "               'max_depth': max_depth,\n",
        "               'min_samples_split': min_samples_split,\n",
        "               'min_samples_leaf': min_samples_leaf,\n",
        "              'criterion':['entropy','gini']}\n",
        "print(random_grid)"
      ]
    },
    {
      "cell_type": "code",
      "execution_count": null,
      "metadata": {
        "id": "KodoI9w3iI1J",
        "outputId": "7e222581-1134-4fbf-f404-0f735f50874b"
      },
      "outputs": [
        {
          "name": "stdout",
          "output_type": "stream",
          "text": [
            "Fitting 2 folds for each of 5 candidates, totalling 10 fits\n"
          ]
        },
        {
          "data": {
            "text/plain": [
              "RandomizedSearchCV(cv=2, estimator=RandomForestClassifier(), n_iter=5,\n",
              "                   n_jobs=-1,\n",
              "                   param_distributions={'criterion': ['entropy', 'gini'],\n",
              "                                        'max_depth': [5, 8, 15, 25, 30],\n",
              "                                        'max_features': ['auto', 'sqrt',\n",
              "                                                         'log2'],\n",
              "                                        'min_samples_leaf': [1, 2, 4, 6, 8],\n",
              "                                        'min_samples_split': [2, 5, 10, 14],\n",
              "                                        'n_estimators': [300, 400, 500, 600,\n",
              "                                                         700, 1000]},\n",
              "                   random_state=100, verbose=2)"
            ]
          },
          "execution_count": 95,
          "metadata": {},
          "output_type": "execute_result"
        }
      ],
      "source": [
        "rf=RandomForestClassifier()\n",
        "rf_randomcv=RandomizedSearchCV(estimator=rf,param_distributions=random_grid,n_iter=5,cv=2,verbose=2,\n",
        "                               random_state=100,n_jobs=-1)\n",
        "\n",
        "rf_randomcv.fit(train_X,train_y)"
      ]
    },
    {
      "cell_type": "code",
      "execution_count": null,
      "metadata": {
        "id": "vRsqPMG5iI1J",
        "outputId": "6c6dea1f-c780-49f3-a8f7-e3af17a137b3"
      },
      "outputs": [
        {
          "data": {
            "text/plain": [
              "{'n_estimators': 500,\n",
              " 'min_samples_split': 5,\n",
              " 'min_samples_leaf': 8,\n",
              " 'max_features': 'auto',\n",
              " 'max_depth': 30,\n",
              " 'criterion': 'entropy'}"
            ]
          },
          "execution_count": 96,
          "metadata": {},
          "output_type": "execute_result"
        }
      ],
      "source": [
        "rf_randomcv.best_params_"
      ]
    },
    {
      "cell_type": "code",
      "execution_count": null,
      "metadata": {
        "id": "RqwyMrgAiI1K",
        "outputId": "cd5bc920-a446-45cb-e739-32c942a5c5fa"
      },
      "outputs": [
        {
          "data": {
            "text/plain": [
              "RandomizedSearchCV(cv=2, estimator=RandomForestClassifier(), n_iter=5,\n",
              "                   n_jobs=-1,\n",
              "                   param_distributions={'criterion': ['entropy', 'gini'],\n",
              "                                        'max_depth': [5, 8, 15, 25, 30],\n",
              "                                        'max_features': ['auto', 'sqrt',\n",
              "                                                         'log2'],\n",
              "                                        'min_samples_leaf': [1, 2, 4, 6, 8],\n",
              "                                        'min_samples_split': [2, 5, 10, 14],\n",
              "                                        'n_estimators': [300, 400, 500, 600,\n",
              "                                                         700, 1000]},\n",
              "                   random_state=100, verbose=2)"
            ]
          },
          "execution_count": 97,
          "metadata": {},
          "output_type": "execute_result"
        }
      ],
      "source": [
        "rf_randomcv"
      ]
    },
    {
      "cell_type": "code",
      "execution_count": null,
      "metadata": {
        "id": "SOSS2voXiI1K"
      },
      "outputs": [],
      "source": [
        "best_random_grid=rf_randomcv.best_estimator_"
      ]
    },
    {
      "cell_type": "code",
      "execution_count": null,
      "metadata": {
        "id": "iuEeBX2ZiI1K",
        "outputId": "a8408e0e-b57a-4990-d9a8-4769965320ee"
      },
      "outputs": [
        {
          "name": "stdout",
          "output_type": "stream",
          "text": [
            "[[ 4718   265]\n",
            " [  792 10178]]\n",
            "Accuracy Score 0.9337428696796841\n",
            "Classification report:               precision    recall  f1-score   support\n",
            "\n",
            "           0       0.86      0.95      0.90      4983\n",
            "           1       0.97      0.93      0.95     10970\n",
            "\n",
            "    accuracy                           0.93     15953\n",
            "   macro avg       0.92      0.94      0.92     15953\n",
            "weighted avg       0.94      0.93      0.93     15953\n",
            "\n",
            "f1 score 0.9249518203374552\n"
          ]
        }
      ],
      "source": [
        "from sklearn.metrics import accuracy_score\n",
        "\n",
        "y_pred=best_random_grid.predict(test_X)\n",
        "\n",
        "print(confusion_matrix(test_y,y_pred))\n",
        "print(\"Accuracy Score {}\".format(accuracy_score(test_y,y_pred)))\n",
        "print(\"Classification report: {}\".format(classification_report(test_y,y_pred)))\n",
        "print(\"f1 score {}\".format(f1_score(test_y,y_pred, average='macro')))"
      ]
    },
    {
      "cell_type": "code",
      "execution_count": null,
      "metadata": {
        "id": "6VeK2zdJiI1K",
        "outputId": "2b8ace36-dd78-4f27-dcf4-d756e3690ef8"
      },
      "outputs": [
        {
          "data": {
            "text/plain": [
              "2.2884534910511882"
            ]
          },
          "execution_count": 100,
          "metadata": {},
          "output_type": "execute_result"
        }
      ],
      "source": [
        "from sklearn.metrics import log_loss\n",
        "\n",
        "log_loss(test_y, best_random_grid.predict(test_X))"
      ]
    },
    {
      "cell_type": "code",
      "execution_count": null,
      "metadata": {
        "id": "h9nLc5QNiI1K"
      },
      "outputs": [],
      "source": [
        "preds = best_random_grid.predict(X_test)"
      ]
    },
    {
      "cell_type": "code",
      "execution_count": null,
      "metadata": {
        "id": "0-KxchIfiI1K",
        "outputId": "4a699c1e-4abc-4af8-d02a-daadaa8ed12e"
      },
      "outputs": [
        {
          "data": {
            "text/plain": [
              "0    17906\n",
              "1    11007\n",
              "dtype: int64"
            ]
          },
          "execution_count": 102,
          "metadata": {},
          "output_type": "execute_result"
        }
      ],
      "source": [
        "fin2 = pd.DataFrame(preds)\n",
        "\n",
        "fin2.value_counts()"
      ]
    },
    {
      "cell_type": "markdown",
      "metadata": {
        "id": "LYGV8aJiiI1L"
      },
      "source": [
        "# RandomSearchCV for GradientBoost"
      ]
    },
    {
      "cell_type": "code",
      "execution_count": null,
      "metadata": {
        "id": "yMbwEyM9iI1M",
        "outputId": "49ddff92-395b-4a28-a413-44b5ec9a0ac6"
      },
      "outputs": [
        {
          "name": "stdout",
          "output_type": "stream",
          "text": [
            "[[4589  445]\n",
            " [1105 9880]]\n",
            "0.9032399026156439\n",
            "              precision    recall  f1-score   support\n",
            "\n",
            "           0       0.81      0.91      0.86      5034\n",
            "           1       0.96      0.90      0.93     10985\n",
            "\n",
            "    accuracy                           0.90     16019\n",
            "   macro avg       0.88      0.91      0.89     16019\n",
            "weighted avg       0.91      0.90      0.90     16019\n",
            "\n"
          ]
        }
      ],
      "source": [
        "from sklearn.ensemble import GradientBoostingClassifier\n",
        "\n",
        "gb_classifier = GradientBoostingClassifier(n_estimators=50, min_samples_split=40, min_samples_leaf=20, max_depth=8).fit(train_X,train_y)\n",
        "prediction = gb_classifier.predict(test_X)\n",
        "\n",
        "from sklearn.metrics import confusion_matrix,classification_report,accuracy_score\n",
        "\n",
        "print(confusion_matrix(test_y,prediction))\n",
        "print(accuracy_score(test_y,prediction))\n",
        "print(classification_report(test_y,prediction))"
      ]
    },
    {
      "cell_type": "code",
      "execution_count": null,
      "metadata": {
        "id": "hOPPabdqiI1M",
        "outputId": "1fee5e2f-7f02-402d-8024-41684e6185c8"
      },
      "outputs": [
        {
          "data": {
            "text/plain": [
              "3.341997579934328"
            ]
          },
          "execution_count": 284,
          "metadata": {},
          "output_type": "execute_result"
        }
      ],
      "source": [
        "from sklearn.metrics import log_loss\n",
        "\n",
        "log_loss(test_y, gb_classifier.predict(test_X))"
      ]
    },
    {
      "cell_type": "code",
      "execution_count": null,
      "metadata": {
        "id": "03isBeceiI1M"
      },
      "outputs": [],
      "source": [
        "from sklearn.model_selection import RandomizedSearchCV\n",
        "\n",
        "n_estimators = [300, 400, 500, 600, 700,1000]\n",
        "max_features = ['auto', 'sqrt','log2']\n",
        "max_depth = [5, 8, 15, 25, 30]\n",
        "min_samples_split = [2, 5, 10, 14]\n",
        "min_samples_leaf = [1, 2, 4, 6, 8]\n",
        "\n",
        "random_grid = {'n_estimators': n_estimators,\n",
        "               'max_features': max_features,\n",
        "               'max_depth': max_depth,\n",
        "               'min_samples_split': min_samples_split,\n",
        "               'min_samples_leaf': min_samples_leaf,\n",
        "                'loss':['deviance','exponential'],\n",
        "                'learning_rate' : [0.1,0.01,0.001]}\n",
        "print(random_grid)"
      ]
    },
    {
      "cell_type": "code",
      "execution_count": null,
      "metadata": {
        "id": "Jer_Z9N9iI1N"
      },
      "outputs": [],
      "source": [
        "gb=GradientBoostingClassifier()\n",
        "gb_randomcv=RandomizedSearchCV(estimator=gb,param_distributions=random_grid,n_iter=5,cv=2,verbose=2,\n",
        "                               random_state=100,n_jobs=-1)\n",
        "\n",
        "gb_randomcv.fit(train_X,train_y)"
      ]
    },
    {
      "cell_type": "code",
      "execution_count": null,
      "metadata": {
        "id": "sbRdu_O5iI1N"
      },
      "outputs": [],
      "source": [
        "gb_randomcv.best_params_"
      ]
    },
    {
      "cell_type": "code",
      "execution_count": null,
      "metadata": {
        "id": "3jw8KspTiI1N"
      },
      "outputs": [],
      "source": [
        "gb_randomcv"
      ]
    },
    {
      "cell_type": "code",
      "execution_count": null,
      "metadata": {
        "id": "wQYnMWr5iI1N"
      },
      "outputs": [],
      "source": [
        "best_random_grid=gb_randomcv.best_estimator_"
      ]
    },
    {
      "cell_type": "code",
      "execution_count": null,
      "metadata": {
        "id": "28ZLdHBQiI1N"
      },
      "outputs": [],
      "source": [
        "from sklearn.metrics import accuracy_score\n",
        "\n",
        "y_pred=best_random_grid.predict(test_X)\n",
        "\n",
        "print(confusion_matrix(test_y,y_pred))\n",
        "print(\"Accuracy Score {}\".format(accuracy_score(test_y,y_pred)))\n",
        "print(\"Classification report: {}\".format(classification_report(test_y,y_pred)))\n",
        "print(\"f1 score {}\".format(f1_score(test_y,y_pred, average='macro')))"
      ]
    },
    {
      "cell_type": "code",
      "execution_count": null,
      "metadata": {
        "id": "paQ0BWr5iI1N"
      },
      "outputs": [],
      "source": [
        "from sklearn.metrics import log_loss\n",
        "\n",
        "log_loss(test_y, best_random_grid.predict(test_X))"
      ]
    },
    {
      "cell_type": "code",
      "execution_count": null,
      "metadata": {
        "id": "tYzGgf77iI1N",
        "outputId": "f54389c3-8f03-4284-d439-9ac736fe0e1f"
      },
      "outputs": [
        {
          "data": {
            "text/plain": [
              "0    18322\n",
              "1    10591\n",
              "dtype: int64"
            ]
          },
          "execution_count": 278,
          "metadata": {},
          "output_type": "execute_result"
        }
      ],
      "source": [
        "preds = gb_classifier.predict(X_test)\n",
        "preds =  pd.DataFrame(preds)\n",
        "preds.value_counts()"
      ]
    },
    {
      "cell_type": "code",
      "execution_count": null,
      "metadata": {
        "id": "iCAIdLiBiI1O"
      },
      "outputs": [],
      "source": [
        "fin3 = pd.DataFrame(preds)\n",
        "\n",
        "fin3.value_counts()"
      ]
    },
    {
      "cell_type": "markdown",
      "metadata": {
        "id": "Ygg2c_ReiI1O"
      },
      "source": [
        "# RandomSearchCV for XGBoost"
      ]
    },
    {
      "cell_type": "code",
      "execution_count": null,
      "metadata": {
        "id": "PEsW-XGKiI1O",
        "outputId": "9393c61e-0481-465b-cfc3-38fb35664f21"
      },
      "outputs": [
        {
          "name": "stdout",
          "output_type": "stream",
          "text": [
            "[01:26:01] WARNING: C:/Users/Administrator/workspace/xgboost-win64_release_1.5.1/src/learner.cc:1115: Starting in XGBoost 1.3.0, the default evaluation metric used with the objective 'binary:logistic' was changed from 'error' to 'logloss'. Explicitly set eval_metric if you'd like to restore the old behavior.\n",
            "[[4346  637]\n",
            " [1328 9642]]\n",
            "0.8768256754215508\n",
            "              precision    recall  f1-score   support\n",
            "\n",
            "           0       0.77      0.87      0.82      4983\n",
            "           1       0.94      0.88      0.91     10970\n",
            "\n",
            "    accuracy                           0.88     15953\n",
            "   macro avg       0.85      0.88      0.86     15953\n",
            "weighted avg       0.88      0.88      0.88     15953\n",
            "\n"
          ]
        }
      ],
      "source": [
        "from xgboost import XGBClassifier\n",
        "\n",
        "xgb_classifier = XGBClassifier(n_estimators=10).fit(train_X,train_y)\n",
        "prediction = xgb_classifier.predict(test_X)\n",
        "\n",
        "from sklearn.metrics import confusion_matrix,classification_report,accuracy_score\n",
        "\n",
        "print(confusion_matrix(test_y,prediction))\n",
        "print(accuracy_score(test_y,prediction))\n",
        "print(classification_report(test_y,prediction))"
      ]
    },
    {
      "cell_type": "code",
      "execution_count": null,
      "metadata": {
        "id": "uL1pPmzRiI1O",
        "outputId": "6b71852a-7c2d-4194-b5ca-56eb3ff93700"
      },
      "outputs": [
        {
          "data": {
            "text/plain": [
              "4.254322381969694"
            ]
          },
          "execution_count": 106,
          "metadata": {},
          "output_type": "execute_result"
        }
      ],
      "source": [
        "from sklearn.metrics import log_loss\n",
        "\n",
        "log_loss(test_y, xgb_classifier.predict(test_X))"
      ]
    },
    {
      "cell_type": "code",
      "execution_count": null,
      "metadata": {
        "id": "CyDt3XE-iI1O"
      },
      "outputs": [],
      "source": [
        "preds = xgb_classifier.predict(X_test)\n",
        "\n",
        "preds = pd.DataFrame(preds)\n",
        "preds.to_csv('sub_xgb_final.csv')"
      ]
    },
    {
      "cell_type": "code",
      "execution_count": null,
      "metadata": {
        "id": "Citj-cuRiI1O"
      },
      "outputs": [],
      "source": [
        "from sklearn.model_selection import RandomizedSearchCV\n",
        "# Number of trees in random forest\n",
        "n_estimators = [300, 400, 500, 600, 700,1000]\n",
        "# Number of features to consider at every split\n",
        "#max_features = ['auto', 'sqrt','log2']\n",
        "# Maximum number of levels in tree\n",
        "max_depth = [5, 8, 15, 25, 30]\n",
        "# Minimum number of samples required to split a node\n",
        "min_samples_split = [2, 5, 10, 14]\n",
        "# Minimum number of samples required at each leaf node\n",
        "min_samples_leaf = [1, 2, 4, 6, 8]\n",
        "# Create the random grid\n",
        "random_grid = {'n_estimators': n_estimators,\n",
        "               'max_depth': max_depth,\n",
        "               'min_samples_split': min_samples_split,\n",
        "               'min_samples_leaf': min_samples_leaf,\n",
        "                'loss':['deviance','exponential'],\n",
        "                'learning_rate' : [0.1,0.01,0.001],\n",
        "                'min_child_weight': [1, 5, 10],\n",
        "                'gamma': [0.5, 1, 1.5, 2, 5],\n",
        "                'subsample': [0.6, 0.8, 1.0],\n",
        "                'colsample_bytree': [0.6, 0.8, 1.0]}\n",
        "print(random_grid)"
      ]
    },
    {
      "cell_type": "code",
      "execution_count": null,
      "metadata": {
        "id": "q8XtdKUSiI1O"
      },
      "outputs": [],
      "source": [
        "xgb=XGBClassifier()\n",
        "xgb_randomcv=RandomizedSearchCV(estimator=xgb,param_distributions=random_grid,n_iter=5,cv=2,verbose=2,\n",
        "                               random_state=100,n_jobs=-1)\n",
        "### fit the randomized model\n",
        "xgb_randomcv.fit(train_X,train_y)"
      ]
    },
    {
      "cell_type": "code",
      "execution_count": null,
      "metadata": {
        "id": "XvDZVIH3iI1P"
      },
      "outputs": [],
      "source": [
        "xgb_randomcv.best_params_"
      ]
    },
    {
      "cell_type": "code",
      "execution_count": null,
      "metadata": {
        "id": "6pvTTHj0iI1P"
      },
      "outputs": [],
      "source": [
        "xgb_randomcv"
      ]
    },
    {
      "cell_type": "code",
      "execution_count": null,
      "metadata": {
        "id": "tJm_fF3OiI1P"
      },
      "outputs": [],
      "source": [
        "best_random_grid=xgb_randomcv.best_estimator_"
      ]
    },
    {
      "cell_type": "code",
      "execution_count": null,
      "metadata": {
        "id": "nqRyY4X1iI1P"
      },
      "outputs": [],
      "source": [
        "from sklearn.metrics import accuracy_score\n",
        "y_pred=best_random_grid.predict(test_X)\n",
        "print(confusion_matrix(test_y,y_pred))\n",
        "print(\"Accuracy Score {}\".format(accuracy_score(test_y,y_pred)))\n",
        "print(\"Classification report: {}\".format(classification_report(test_y,y_pred)))\n",
        "print(\"f1 score {}\".format(f1_score(test_y,y_pred, average='macro')))"
      ]
    },
    {
      "cell_type": "code",
      "execution_count": null,
      "metadata": {
        "id": "oLVOlu7ciI1P"
      },
      "outputs": [],
      "source": [
        "fin5 = pd.DataFrame(y_pred)\n",
        "\n",
        "fin5.value_counts()"
      ]
    },
    {
      "cell_type": "markdown",
      "metadata": {
        "id": "7jk1Wsr_iI1P"
      },
      "source": [
        "# RandomsearchCV for AdaBoost using DTC as base estimator"
      ]
    },
    {
      "cell_type": "code",
      "execution_count": null,
      "metadata": {
        "id": "y2kLVBnXiI1P",
        "outputId": "7b9af52c-3f5e-4591-9d1a-569d64895473"
      },
      "outputs": [
        {
          "name": "stdout",
          "output_type": "stream",
          "text": [
            "[[4684  299]\n",
            " [1326 9644]]\n",
            "0.898138281201028\n",
            "              precision    recall  f1-score   support\n",
            "\n",
            "           0       0.78      0.94      0.85      4983\n",
            "           1       0.97      0.88      0.92     10970\n",
            "\n",
            "    accuracy                           0.90     15953\n",
            "   macro avg       0.87      0.91      0.89     15953\n",
            "weighted avg       0.91      0.90      0.90     15953\n",
            "\n"
          ]
        }
      ],
      "source": [
        "from sklearn.ensemble import AdaBoostClassifier\n",
        "\n",
        "agb_classifier = AdaBoostClassifier(n_estimators=300).fit(train_X,train_y)\n",
        "prediction = agb_classifier.predict(test_X)\n",
        "\n",
        "from sklearn.metrics import confusion_matrix,classification_report,accuracy_score\n",
        "\n",
        "print(confusion_matrix(test_y,prediction))\n",
        "print(accuracy_score(test_y,prediction))\n",
        "print(classification_report(test_y,prediction))"
      ]
    },
    {
      "cell_type": "code",
      "execution_count": null,
      "metadata": {
        "id": "EkR1h5ybiI1Q",
        "outputId": "cb855aad-6581-4bfe-f822-be5936913b95"
      },
      "outputs": [
        {
          "data": {
            "text/plain": [
              "3.5181941152987832"
            ]
          },
          "execution_count": 108,
          "metadata": {},
          "output_type": "execute_result"
        }
      ],
      "source": [
        "from sklearn.metrics import log_loss\n",
        "\n",
        "log_loss(test_y, agb_classifier.predict(test_X))"
      ]
    },
    {
      "cell_type": "code",
      "execution_count": null,
      "metadata": {
        "id": "NGDUqT_AiI1Q"
      },
      "outputs": [],
      "source": [
        "# from sklearn.tree import DecisionTreeClassifier\n",
        "\n",
        "# dt_classifier = DecisionTreeClassifier(class_weight={0:100.0,1:10.0}).fit(X_train_ns,y_train_ns)\n",
        "# prediction = dt_classifier.predict(X_test)\n",
        "\n",
        "# from sklearn.metrics import confusion_matrix,classification_report,accuracy_score\n",
        "\n",
        "# print(confusion_matrix(y_test,prediction))\n",
        "# print(accuracy_score(y_test,prediction))\n",
        "# print(classification_report(y_test,prediction))"
      ]
    },
    {
      "cell_type": "code",
      "execution_count": null,
      "metadata": {
        "id": "AbkmlMLQiI1Q"
      },
      "outputs": [],
      "source": [
        "from sklearn.model_selection import RandomizedSearchCV\n",
        "\n",
        "criterion = ['gini', 'entropy']\n",
        "max_depth = [2,4,6,8,10,12]\n",
        "max_depth = [5, 8, 15, 25, 30]\n",
        "min_samples_split = [2, 5, 10, 14]\n",
        "min_samples_leaf = [1, 2, 4, 6, 8]\n",
        "\n",
        "random_grid = {'max_depth': max_depth,\n",
        "               'min_samples_split': min_samples_split,\n",
        "               'min_samples_leaf': min_samples_leaf,\n",
        "               'criterion':criterion}\n",
        "print(random_grid)"
      ]
    },
    {
      "cell_type": "code",
      "execution_count": null,
      "metadata": {
        "id": "-fwc8IydiI1Q"
      },
      "outputs": [],
      "source": [
        "dtc=DecisionTreeClassifier(class_weight={0:2.3,1:1.0})\n",
        "dtc_randomcv=RandomizedSearchCV(estimator=dtc,param_distributions=random_grid,n_iter=5,cv=2,verbose=2,\n",
        "                               random_state=100,n_jobs=-1)\n",
        "\n",
        "dtc_randomcv.fit(train_X,train_y)"
      ]
    },
    {
      "cell_type": "code",
      "execution_count": null,
      "metadata": {
        "id": "VNdP1ln6iI1Q"
      },
      "outputs": [],
      "source": [
        "dtc_randomcv.best_params_"
      ]
    },
    {
      "cell_type": "code",
      "execution_count": null,
      "metadata": {
        "id": "rK7mi0SCiI1Q"
      },
      "outputs": [],
      "source": [
        "from sklearn.ensemble import AdaBoostClassifier\n",
        "\n",
        "\n",
        "random_grid = {\n",
        "    'n_estimators':[300,400,500,700,1000]\n",
        "}\n",
        "\n",
        "base = DecisionTreeClassifier( max_depth=30, criterion='gini', min_samples_split=2 ,min_samples_leaf=6 )\n",
        "\n",
        "ada_clf = AdaBoostClassifier( base_estimator=base )\n",
        "\n",
        "ada_randomcv = RandomizedSearchCV(estimator=ada_clf,param_distributions=random_grid,n_iter=5,cv=2,verbose=2,\n",
        "                               random_state=100,n_jobs=-1)\n",
        "\n",
        "ada_randomcv.fit(train_X,train_y)\n"
      ]
    },
    {
      "cell_type": "code",
      "execution_count": null,
      "metadata": {
        "id": "iq6OkJp5iI1R"
      },
      "outputs": [],
      "source": [
        "ada_randomcv"
      ]
    },
    {
      "cell_type": "code",
      "execution_count": null,
      "metadata": {
        "id": "pevwUxz4iI1R"
      },
      "outputs": [],
      "source": [
        "best_random_grid=ada_randomcv.best_estimator_"
      ]
    },
    {
      "cell_type": "code",
      "execution_count": null,
      "metadata": {
        "id": "jx81tu_BiI1R"
      },
      "outputs": [],
      "source": [
        "from sklearn.metrics import accuracy_score\n",
        "\n",
        "y_pred = best_random_grid.predict(test_X)\n",
        "\n",
        "print(confusion_matrix(test_y,y_pred))\n",
        "print(\"Accuracy Score {}\".format(accuracy_score(test_y,y_pred)))\n",
        "print(\"Classification report: {}\".format(classification_report(test_y,y_pred)))"
      ]
    },
    {
      "cell_type": "code",
      "execution_count": null,
      "metadata": {
        "id": "kqqfMwZZiI1R"
      },
      "outputs": [],
      "source": [
        "from sklearn.metrics import log_loss\n",
        "\n",
        "log_loss(test_y, best_random_grid.predict(test_X))"
      ]
    },
    {
      "cell_type": "code",
      "execution_count": null,
      "metadata": {
        "id": "CRwx0TxEiI1R"
      },
      "outputs": [],
      "source": [
        "fin4 = pd.DataFrame(y_pred)\n",
        "\n",
        "fin4.value_counts()"
      ]
    },
    {
      "cell_type": "code",
      "execution_count": null,
      "metadata": {
        "id": "jd9Q3qquiI1R"
      },
      "outputs": [],
      "source": [
        "fin2.to_csv('preds_rf_final.csv')\n",
        "fin3.to_csv('preds_gb_final.csv')\n",
        "fin4.to_csv('preds_ada_final.csv')"
      ]
    },
    {
      "cell_type": "code",
      "execution_count": null,
      "metadata": {
        "id": "VnYvnyzsiI1R"
      },
      "outputs": [],
      "source": [
        "fin5.to_csv('preds_xgb_final.csv')"
      ]
    },
    {
      "cell_type": "markdown",
      "metadata": {
        "id": "pyP_uh_tiI1S"
      },
      "source": [
        "# achieved high performance on gradient boosting classifier"
      ]
    },
    {
      "cell_type": "code",
      "execution_count": null,
      "metadata": {
        "id": "ezW0ttXqiI1S"
      },
      "outputs": [],
      "source": [
        "from sklearn.ensemble import GradientBoostingClassifier\n",
        "\n",
        "gb_classifier = GradientBoostingClassifier(n_estimators=10).fit(X_train_ns,y_train_ns)\n",
        "prediction = gb_classifier.predict(X_test)\n",
        "\n",
        "from sklearn.metrics import confusion_matrix,classification_report,accuracy_score\n",
        "\n",
        "print(confusion_matrix(y_test,prediction))\n",
        "print(accuracy_score(y_test,prediction))\n",
        "print(classification_report(y_test,prediction))"
      ]
    },
    {
      "cell_type": "code",
      "execution_count": null,
      "metadata": {
        "id": "cbZYzLsyiI1S"
      },
      "outputs": [],
      "source": [
        "from sklearn.model_selection import RandomizedSearchCV\n",
        "\n",
        "n_estimators = [300, 400, 500, 600, 700,1000]\n",
        "max_features = ['auto', 'sqrt','log2']\n",
        "max_depth = [5, 8, 15, 25, 30]\n",
        "min_samples_split = [2, 5, 10, 14]\n",
        "min_samples_leaf = [1, 2, 4, 6, 8]\n",
        "\n",
        "random_grid = {'n_estimators': n_estimators,\n",
        "               'max_features': max_features,\n",
        "               'max_depth': max_depth,\n",
        "               'min_samples_split': min_samples_split,\n",
        "               'min_samples_leaf': min_samples_leaf,\n",
        "                'loss':['deviance','exponential'],\n",
        "                'learning_rate' : [0.1,0.01,0.001]}\n",
        "print(random_grid)"
      ]
    },
    {
      "cell_type": "code",
      "execution_count": null,
      "metadata": {
        "id": "BYCAUriwiI1S"
      },
      "outputs": [],
      "source": [
        "gb=GradientBoostingClassifier()\n",
        "gb_randomcv=RandomizedSearchCV(estimator=gb,param_distributions=random_grid,n_iter=10,cv=3,verbose=2,\n",
        "                               random_state=100,n_jobs=-1)\n",
        "\n",
        "gb_randomcv.fit(X_train_ns,y_train_ns)"
      ]
    },
    {
      "cell_type": "code",
      "execution_count": null,
      "metadata": {
        "id": "jmMKkAywiI1S"
      },
      "outputs": [],
      "source": [
        "gb_randomcv.best_params_"
      ]
    },
    {
      "cell_type": "code",
      "execution_count": null,
      "metadata": {
        "id": "7_7lsI9giI1T"
      },
      "outputs": [],
      "source": [
        "gb_randomcv"
      ]
    },
    {
      "cell_type": "code",
      "execution_count": null,
      "metadata": {
        "id": "zMQWqopAiI1T"
      },
      "outputs": [],
      "source": [
        "best_random_grid=gb_randomcv.best_estimator_"
      ]
    },
    {
      "cell_type": "code",
      "execution_count": null,
      "metadata": {
        "id": "vp0o5cYKiI1T"
      },
      "outputs": [],
      "source": [
        "from sklearn.metrics import accuracy_score\n",
        "y_pred=best_random_grid.predict(X_test)\n",
        "print(confusion_matrix(y_test,y_pred))\n",
        "print(\"Accuracy Score {}\".format(accuracy_score(y_test,y_pred)))\n",
        "print(\"Classification report: {}\".format(classification_report(y_test,y_pred)))"
      ]
    },
    {
      "cell_type": "code",
      "execution_count": null,
      "metadata": {
        "id": "IMiSQYvIiI1T"
      },
      "outputs": [],
      "source": [
        "final = pd.DataFrame(y_pred)\n",
        "\n",
        "final.value_counts()"
      ]
    },
    {
      "cell_type": "code",
      "execution_count": null,
      "metadata": {
        "id": "3P1gRI6EiI1T"
      },
      "outputs": [],
      "source": [
        "final.to_csv('preds_gb_final2.csv')"
      ]
    },
    {
      "cell_type": "code",
      "execution_count": null,
      "metadata": {
        "id": "WZLUqRFNiI1U"
      },
      "outputs": [],
      "source": [
        ""
      ]
    },
    {
      "cell_type": "code",
      "execution_count": null,
      "metadata": {
        "id": "za669_ftiI1U"
      },
      "outputs": [],
      "source": [
        "fin2.to_csv('preds_rf_smoteenn_2.csv')"
      ]
    },
    {
      "cell_type": "code",
      "execution_count": null,
      "metadata": {
        "id": "8M0bdn0NiI1U"
      },
      "outputs": [],
      "source": [
        "fin3.to_csv('preds_gb.csv')"
      ]
    },
    {
      "cell_type": "code",
      "execution_count": null,
      "metadata": {
        "id": "_WtlK8ZMiI1V"
      },
      "outputs": [],
      "source": [
        "fin4.to_csv('preds_xgb.csv')"
      ]
    },
    {
      "cell_type": "code",
      "execution_count": null,
      "metadata": {
        "id": "OTAhPwcoiI1V"
      },
      "outputs": [],
      "source": [
        "fin6 = pd.DataFrame(y_pred)\n",
        "\n",
        "fin6.value_counts()"
      ]
    },
    {
      "cell_type": "code",
      "execution_count": null,
      "metadata": {
        "id": "KzUG6Q2JiI1V"
      },
      "outputs": [],
      "source": [
        "fin6.to_csv('preds_ada_cv.csv')"
      ]
    },
    {
      "cell_type": "code",
      "execution_count": null,
      "metadata": {
        "id": "q48IsbPxiI1V"
      },
      "outputs": [],
      "source": [
        ""
      ]
    },
    {
      "cell_type": "code",
      "execution_count": null,
      "metadata": {
        "id": "Jlv0loY0iI1V"
      },
      "outputs": [],
      "source": [
        "fin5 = pd.DataFrame(prediction)\n",
        "fin5.to_csv('preds_abclf.csv')"
      ]
    },
    {
      "cell_type": "code",
      "execution_count": null,
      "metadata": {
        "id": "9VWD0OxKiI1V"
      },
      "outputs": [],
      "source": [
        "fin.to_csv('my_predictions2.csv')"
      ]
    },
    {
      "cell_type": "code",
      "execution_count": null,
      "metadata": {
        "id": "pU_PBPy0iI1W"
      },
      "outputs": [],
      "source": [
        ""
      ]
    }
  ],
  "metadata": {
    "kernelspec": {
      "display_name": "Python 3",
      "language": "python",
      "name": "python3"
    },
    "colab": {
      "name": "loan_status_prediction.ipynb",
      "provenance": [],
      "collapsed_sections": [
        "E_eTa_-giI1D",
        "xDz1ps-9iI1F",
        "qao6iJyfiI1I",
        "LYGV8aJiiI1L",
        "Ygg2c_ReiI1O",
        "7jk1Wsr_iI1P",
        "pyP_uh_tiI1S"
      ]
    },
    "accelerator": "GPU"
  },
  "nbformat": 4,
  "nbformat_minor": 0
}