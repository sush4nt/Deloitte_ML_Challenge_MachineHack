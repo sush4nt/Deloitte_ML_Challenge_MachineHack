{
 "cells": [
  {
   "cell_type": "markdown",
   "metadata": {},
   "source": [
    "# Understanding Data"
   ]
  },
  {
   "cell_type": "code",
   "execution_count": 160,
   "metadata": {},
   "outputs": [],
   "source": [
    "import pandas as pd\n",
    "import numpy as np\n",
    "import seaborn as sns\n",
    "import matplotlib.pyplot as plt\n",
    "\n",
    "from sklearn.preprocessing import LabelEncoder, OrdinalEncoder, RobustScaler, StandardScaler, MinMaxScaler\n",
    "from sklearn.feature_selection import mutual_info_classif\n",
    "\n",
    "\n",
    "import warnings\n",
    "warnings.filterwarnings('ignore')"
   ]
  },
  {
   "cell_type": "code",
   "execution_count": 161,
   "metadata": {},
   "outputs": [
    {
     "data": {
      "text/html": [
       "<div>\n",
       "<style scoped>\n",
       "    .dataframe tbody tr th:only-of-type {\n",
       "        vertical-align: middle;\n",
       "    }\n",
       "\n",
       "    .dataframe tbody tr th {\n",
       "        vertical-align: top;\n",
       "    }\n",
       "\n",
       "    .dataframe thead th {\n",
       "        text-align: right;\n",
       "    }\n",
       "</style>\n",
       "<table border=\"1\" class=\"dataframe\">\n",
       "  <thead>\n",
       "    <tr style=\"text-align: right;\">\n",
       "      <th></th>\n",
       "      <th>ID</th>\n",
       "      <th>Loan Amount</th>\n",
       "      <th>Funded Amount</th>\n",
       "      <th>Funded Amount Investor</th>\n",
       "      <th>Term</th>\n",
       "      <th>Batch Enrolled</th>\n",
       "      <th>Interest Rate</th>\n",
       "      <th>Grade</th>\n",
       "      <th>Sub Grade</th>\n",
       "      <th>Employment Duration</th>\n",
       "      <th>...</th>\n",
       "      <th>Recoveries</th>\n",
       "      <th>Collection Recovery Fee</th>\n",
       "      <th>Collection 12 months Medical</th>\n",
       "      <th>Application Type</th>\n",
       "      <th>Last week Pay</th>\n",
       "      <th>Accounts Delinquent</th>\n",
       "      <th>Total Collection Amount</th>\n",
       "      <th>Total Current Balance</th>\n",
       "      <th>Total Revolving Credit Limit</th>\n",
       "      <th>Loan Status</th>\n",
       "    </tr>\n",
       "  </thead>\n",
       "  <tbody>\n",
       "    <tr>\n",
       "      <th>0</th>\n",
       "      <td>65087372</td>\n",
       "      <td>10000</td>\n",
       "      <td>32236</td>\n",
       "      <td>12329.36286</td>\n",
       "      <td>59</td>\n",
       "      <td>BAT2522922</td>\n",
       "      <td>11.135007</td>\n",
       "      <td>B</td>\n",
       "      <td>C4</td>\n",
       "      <td>MORTGAGE</td>\n",
       "      <td>...</td>\n",
       "      <td>2.498291</td>\n",
       "      <td>0.793724</td>\n",
       "      <td>0</td>\n",
       "      <td>INDIVIDUAL</td>\n",
       "      <td>49</td>\n",
       "      <td>0</td>\n",
       "      <td>31</td>\n",
       "      <td>311301</td>\n",
       "      <td>6619</td>\n",
       "      <td>0</td>\n",
       "    </tr>\n",
       "    <tr>\n",
       "      <th>1</th>\n",
       "      <td>1450153</td>\n",
       "      <td>3609</td>\n",
       "      <td>11940</td>\n",
       "      <td>12191.99692</td>\n",
       "      <td>59</td>\n",
       "      <td>BAT1586599</td>\n",
       "      <td>12.237563</td>\n",
       "      <td>C</td>\n",
       "      <td>D3</td>\n",
       "      <td>RENT</td>\n",
       "      <td>...</td>\n",
       "      <td>2.377215</td>\n",
       "      <td>0.974821</td>\n",
       "      <td>0</td>\n",
       "      <td>INDIVIDUAL</td>\n",
       "      <td>109</td>\n",
       "      <td>0</td>\n",
       "      <td>53</td>\n",
       "      <td>182610</td>\n",
       "      <td>20885</td>\n",
       "      <td>0</td>\n",
       "    </tr>\n",
       "    <tr>\n",
       "      <th>2</th>\n",
       "      <td>1969101</td>\n",
       "      <td>28276</td>\n",
       "      <td>9311</td>\n",
       "      <td>21603.22455</td>\n",
       "      <td>59</td>\n",
       "      <td>BAT2136391</td>\n",
       "      <td>12.545884</td>\n",
       "      <td>F</td>\n",
       "      <td>D4</td>\n",
       "      <td>MORTGAGE</td>\n",
       "      <td>...</td>\n",
       "      <td>4.316277</td>\n",
       "      <td>1.020075</td>\n",
       "      <td>0</td>\n",
       "      <td>INDIVIDUAL</td>\n",
       "      <td>66</td>\n",
       "      <td>0</td>\n",
       "      <td>34</td>\n",
       "      <td>89801</td>\n",
       "      <td>26155</td>\n",
       "      <td>0</td>\n",
       "    </tr>\n",
       "    <tr>\n",
       "      <th>3</th>\n",
       "      <td>6651430</td>\n",
       "      <td>11170</td>\n",
       "      <td>6954</td>\n",
       "      <td>17877.15585</td>\n",
       "      <td>59</td>\n",
       "      <td>BAT2428731</td>\n",
       "      <td>16.731201</td>\n",
       "      <td>C</td>\n",
       "      <td>C3</td>\n",
       "      <td>MORTGAGE</td>\n",
       "      <td>...</td>\n",
       "      <td>0.107020</td>\n",
       "      <td>0.749971</td>\n",
       "      <td>0</td>\n",
       "      <td>INDIVIDUAL</td>\n",
       "      <td>39</td>\n",
       "      <td>0</td>\n",
       "      <td>40</td>\n",
       "      <td>9189</td>\n",
       "      <td>60214</td>\n",
       "      <td>0</td>\n",
       "    </tr>\n",
       "    <tr>\n",
       "      <th>4</th>\n",
       "      <td>14354669</td>\n",
       "      <td>16890</td>\n",
       "      <td>13226</td>\n",
       "      <td>13539.92667</td>\n",
       "      <td>59</td>\n",
       "      <td>BAT5341619</td>\n",
       "      <td>15.008300</td>\n",
       "      <td>C</td>\n",
       "      <td>D4</td>\n",
       "      <td>MORTGAGE</td>\n",
       "      <td>...</td>\n",
       "      <td>1294.818751</td>\n",
       "      <td>0.368953</td>\n",
       "      <td>0</td>\n",
       "      <td>INDIVIDUAL</td>\n",
       "      <td>18</td>\n",
       "      <td>0</td>\n",
       "      <td>430</td>\n",
       "      <td>126029</td>\n",
       "      <td>22579</td>\n",
       "      <td>0</td>\n",
       "    </tr>\n",
       "  </tbody>\n",
       "</table>\n",
       "<p>5 rows × 35 columns</p>\n",
       "</div>"
      ],
      "text/plain": [
       "         ID  Loan Amount  Funded Amount  Funded Amount Investor  Term  \\\n",
       "0  65087372        10000          32236             12329.36286    59   \n",
       "1   1450153         3609          11940             12191.99692    59   \n",
       "2   1969101        28276           9311             21603.22455    59   \n",
       "3   6651430        11170           6954             17877.15585    59   \n",
       "4  14354669        16890          13226             13539.92667    59   \n",
       "\n",
       "  Batch Enrolled  Interest Rate Grade Sub Grade Employment Duration  ...  \\\n",
       "0     BAT2522922      11.135007     B        C4            MORTGAGE  ...   \n",
       "1     BAT1586599      12.237563     C        D3                RENT  ...   \n",
       "2     BAT2136391      12.545884     F        D4            MORTGAGE  ...   \n",
       "3     BAT2428731      16.731201     C        C3            MORTGAGE  ...   \n",
       "4     BAT5341619      15.008300     C        D4            MORTGAGE  ...   \n",
       "\n",
       "    Recoveries Collection Recovery Fee Collection 12 months Medical  \\\n",
       "0     2.498291                0.793724                            0   \n",
       "1     2.377215                0.974821                            0   \n",
       "2     4.316277                1.020075                            0   \n",
       "3     0.107020                0.749971                            0   \n",
       "4  1294.818751                0.368953                            0   \n",
       "\n",
       "  Application Type  Last week Pay  Accounts Delinquent  \\\n",
       "0       INDIVIDUAL             49                    0   \n",
       "1       INDIVIDUAL            109                    0   \n",
       "2       INDIVIDUAL             66                    0   \n",
       "3       INDIVIDUAL             39                    0   \n",
       "4       INDIVIDUAL             18                    0   \n",
       "\n",
       "   Total Collection Amount  Total Current Balance  \\\n",
       "0                       31                 311301   \n",
       "1                       53                 182610   \n",
       "2                       34                  89801   \n",
       "3                       40                   9189   \n",
       "4                      430                 126029   \n",
       "\n",
       "   Total Revolving Credit Limit  Loan Status  \n",
       "0                          6619            0  \n",
       "1                         20885            0  \n",
       "2                         26155            0  \n",
       "3                         60214            0  \n",
       "4                         22579            0  \n",
       "\n",
       "[5 rows x 35 columns]"
      ]
     },
     "execution_count": 161,
     "metadata": {},
     "output_type": "execute_result"
    }
   ],
   "source": [
    "train = pd.read_csv(r\"train.csv\")\n",
    "train.head()"
   ]
  },
  {
   "cell_type": "code",
   "execution_count": 162,
   "metadata": {},
   "outputs": [
    {
     "data": {
      "text/html": [
       "<div>\n",
       "<style scoped>\n",
       "    .dataframe tbody tr th:only-of-type {\n",
       "        vertical-align: middle;\n",
       "    }\n",
       "\n",
       "    .dataframe tbody tr th {\n",
       "        vertical-align: top;\n",
       "    }\n",
       "\n",
       "    .dataframe thead th {\n",
       "        text-align: right;\n",
       "    }\n",
       "</style>\n",
       "<table border=\"1\" class=\"dataframe\">\n",
       "  <thead>\n",
       "    <tr style=\"text-align: right;\">\n",
       "      <th></th>\n",
       "      <th>ID</th>\n",
       "      <th>Loan Amount</th>\n",
       "      <th>Funded Amount</th>\n",
       "      <th>Funded Amount Investor</th>\n",
       "      <th>Term</th>\n",
       "      <th>Batch Enrolled</th>\n",
       "      <th>Interest Rate</th>\n",
       "      <th>Grade</th>\n",
       "      <th>Sub Grade</th>\n",
       "      <th>Employment Duration</th>\n",
       "      <th>...</th>\n",
       "      <th>Recoveries</th>\n",
       "      <th>Collection Recovery Fee</th>\n",
       "      <th>Collection 12 months Medical</th>\n",
       "      <th>Application Type</th>\n",
       "      <th>Last week Pay</th>\n",
       "      <th>Accounts Delinquent</th>\n",
       "      <th>Total Collection Amount</th>\n",
       "      <th>Total Current Balance</th>\n",
       "      <th>Total Revolving Credit Limit</th>\n",
       "      <th>Loan Status</th>\n",
       "    </tr>\n",
       "  </thead>\n",
       "  <tbody>\n",
       "    <tr>\n",
       "      <th>0</th>\n",
       "      <td>56492997</td>\n",
       "      <td>17120</td>\n",
       "      <td>10365</td>\n",
       "      <td>16025.082690</td>\n",
       "      <td>59</td>\n",
       "      <td>BAT2575549</td>\n",
       "      <td>12.163926</td>\n",
       "      <td>A</td>\n",
       "      <td>D1</td>\n",
       "      <td>RENT</td>\n",
       "      <td>...</td>\n",
       "      <td>8.425776</td>\n",
       "      <td>0.731797</td>\n",
       "      <td>0</td>\n",
       "      <td>INDIVIDUAL</td>\n",
       "      <td>135</td>\n",
       "      <td>0</td>\n",
       "      <td>24</td>\n",
       "      <td>475442</td>\n",
       "      <td>4364</td>\n",
       "      <td>NaN</td>\n",
       "    </tr>\n",
       "    <tr>\n",
       "      <th>1</th>\n",
       "      <td>22540813</td>\n",
       "      <td>7133</td>\n",
       "      <td>11650</td>\n",
       "      <td>12615.795600</td>\n",
       "      <td>59</td>\n",
       "      <td>BAT2833642</td>\n",
       "      <td>6.564296</td>\n",
       "      <td>B</td>\n",
       "      <td>E3</td>\n",
       "      <td>MORTGAGE</td>\n",
       "      <td>...</td>\n",
       "      <td>6.157008</td>\n",
       "      <td>0.992918</td>\n",
       "      <td>0</td>\n",
       "      <td>INDIVIDUAL</td>\n",
       "      <td>56</td>\n",
       "      <td>0</td>\n",
       "      <td>1</td>\n",
       "      <td>72412</td>\n",
       "      <td>2573</td>\n",
       "      <td>NaN</td>\n",
       "    </tr>\n",
       "    <tr>\n",
       "      <th>2</th>\n",
       "      <td>9862181</td>\n",
       "      <td>25291</td>\n",
       "      <td>25825</td>\n",
       "      <td>11621.280830</td>\n",
       "      <td>59</td>\n",
       "      <td>BAT1761981</td>\n",
       "      <td>14.729900</td>\n",
       "      <td>A</td>\n",
       "      <td>C3</td>\n",
       "      <td>MORTGAGE</td>\n",
       "      <td>...</td>\n",
       "      <td>5.705077</td>\n",
       "      <td>0.281580</td>\n",
       "      <td>0</td>\n",
       "      <td>INDIVIDUAL</td>\n",
       "      <td>3</td>\n",
       "      <td>0</td>\n",
       "      <td>26</td>\n",
       "      <td>284825</td>\n",
       "      <td>19676</td>\n",
       "      <td>NaN</td>\n",
       "    </tr>\n",
       "    <tr>\n",
       "      <th>3</th>\n",
       "      <td>10097822</td>\n",
       "      <td>30781</td>\n",
       "      <td>9664</td>\n",
       "      <td>15375.823510</td>\n",
       "      <td>59</td>\n",
       "      <td>BAT5341619</td>\n",
       "      <td>10.523767</td>\n",
       "      <td>A</td>\n",
       "      <td>A2</td>\n",
       "      <td>RENT</td>\n",
       "      <td>...</td>\n",
       "      <td>2.469688</td>\n",
       "      <td>0.959162</td>\n",
       "      <td>0</td>\n",
       "      <td>INDIVIDUAL</td>\n",
       "      <td>21</td>\n",
       "      <td>0</td>\n",
       "      <td>32</td>\n",
       "      <td>40842</td>\n",
       "      <td>7226</td>\n",
       "      <td>NaN</td>\n",
       "    </tr>\n",
       "    <tr>\n",
       "      <th>4</th>\n",
       "      <td>47771809</td>\n",
       "      <td>8878</td>\n",
       "      <td>9419</td>\n",
       "      <td>7176.647582</td>\n",
       "      <td>58</td>\n",
       "      <td>BAT4694572</td>\n",
       "      <td>9.997013</td>\n",
       "      <td>C</td>\n",
       "      <td>B3</td>\n",
       "      <td>OWN</td>\n",
       "      <td>...</td>\n",
       "      <td>2.127835</td>\n",
       "      <td>0.402315</td>\n",
       "      <td>0</td>\n",
       "      <td>INDIVIDUAL</td>\n",
       "      <td>104</td>\n",
       "      <td>0</td>\n",
       "      <td>33</td>\n",
       "      <td>90825</td>\n",
       "      <td>26145</td>\n",
       "      <td>NaN</td>\n",
       "    </tr>\n",
       "  </tbody>\n",
       "</table>\n",
       "<p>5 rows × 35 columns</p>\n",
       "</div>"
      ],
      "text/plain": [
       "         ID  Loan Amount  Funded Amount  Funded Amount Investor  Term  \\\n",
       "0  56492997        17120          10365            16025.082690    59   \n",
       "1  22540813         7133          11650            12615.795600    59   \n",
       "2   9862181        25291          25825            11621.280830    59   \n",
       "3  10097822        30781           9664            15375.823510    59   \n",
       "4  47771809         8878           9419             7176.647582    58   \n",
       "\n",
       "  Batch Enrolled  Interest Rate Grade Sub Grade Employment Duration  ...  \\\n",
       "0     BAT2575549      12.163926     A        D1                RENT  ...   \n",
       "1     BAT2833642       6.564296     B        E3            MORTGAGE  ...   \n",
       "2     BAT1761981      14.729900     A        C3            MORTGAGE  ...   \n",
       "3     BAT5341619      10.523767     A        A2                RENT  ...   \n",
       "4     BAT4694572       9.997013     C        B3                 OWN  ...   \n",
       "\n",
       "   Recoveries Collection Recovery Fee Collection 12 months Medical  \\\n",
       "0    8.425776                0.731797                            0   \n",
       "1    6.157008                0.992918                            0   \n",
       "2    5.705077                0.281580                            0   \n",
       "3    2.469688                0.959162                            0   \n",
       "4    2.127835                0.402315                            0   \n",
       "\n",
       "  Application Type  Last week Pay  Accounts Delinquent  \\\n",
       "0       INDIVIDUAL            135                    0   \n",
       "1       INDIVIDUAL             56                    0   \n",
       "2       INDIVIDUAL              3                    0   \n",
       "3       INDIVIDUAL             21                    0   \n",
       "4       INDIVIDUAL            104                    0   \n",
       "\n",
       "   Total Collection Amount  Total Current Balance  \\\n",
       "0                       24                 475442   \n",
       "1                        1                  72412   \n",
       "2                       26                 284825   \n",
       "3                       32                  40842   \n",
       "4                       33                  90825   \n",
       "\n",
       "   Total Revolving Credit Limit  Loan Status  \n",
       "0                          4364          NaN  \n",
       "1                          2573          NaN  \n",
       "2                         19676          NaN  \n",
       "3                          7226          NaN  \n",
       "4                         26145          NaN  \n",
       "\n",
       "[5 rows x 35 columns]"
      ]
     },
     "execution_count": 162,
     "metadata": {},
     "output_type": "execute_result"
    }
   ],
   "source": [
    "test = pd.read_csv(r\"test.csv\")\n",
    "test.head()"
   ]
  },
  {
   "cell_type": "code",
   "execution_count": 163,
   "metadata": {},
   "outputs": [
    {
     "name": "stdout",
     "output_type": "stream",
     "text": [
      "(67463, 35)\n",
      "(28913, 35)\n"
     ]
    }
   ],
   "source": [
    "print(train.shape)\n",
    "print(test.shape)"
   ]
  },
  {
   "cell_type": "code",
   "execution_count": 164,
   "metadata": {},
   "outputs": [
    {
     "name": "stdout",
     "output_type": "stream",
     "text": [
      "<class 'pandas.core.frame.DataFrame'>\n",
      "RangeIndex: 67463 entries, 0 to 67462\n",
      "Data columns (total 35 columns):\n",
      " #   Column                        Non-Null Count  Dtype  \n",
      "---  ------                        --------------  -----  \n",
      " 0   ID                            67463 non-null  int64  \n",
      " 1   Loan Amount                   67463 non-null  int64  \n",
      " 2   Funded Amount                 67463 non-null  int64  \n",
      " 3   Funded Amount Investor        67463 non-null  float64\n",
      " 4   Term                          67463 non-null  int64  \n",
      " 5   Batch Enrolled                67463 non-null  object \n",
      " 6   Interest Rate                 67463 non-null  float64\n",
      " 7   Grade                         67463 non-null  object \n",
      " 8   Sub Grade                     67463 non-null  object \n",
      " 9   Employment Duration           67463 non-null  object \n",
      " 10  Home Ownership                67463 non-null  float64\n",
      " 11  Verification Status           67463 non-null  object \n",
      " 12  Payment Plan                  67463 non-null  object \n",
      " 13  Loan Title                    67463 non-null  object \n",
      " 14  Debit to Income               67463 non-null  float64\n",
      " 15  Delinquency - two years       67463 non-null  int64  \n",
      " 16  Inquires - six months         67463 non-null  int64  \n",
      " 17  Open Account                  67463 non-null  int64  \n",
      " 18  Public Record                 67463 non-null  int64  \n",
      " 19  Revolving Balance             67463 non-null  int64  \n",
      " 20  Revolving Utilities           67463 non-null  float64\n",
      " 21  Total Accounts                67463 non-null  int64  \n",
      " 22  Initial List Status           67463 non-null  object \n",
      " 23  Total Received Interest       67463 non-null  float64\n",
      " 24  Total Received Late Fee       67463 non-null  float64\n",
      " 25  Recoveries                    67463 non-null  float64\n",
      " 26  Collection Recovery Fee       67463 non-null  float64\n",
      " 27  Collection 12 months Medical  67463 non-null  int64  \n",
      " 28  Application Type              67463 non-null  object \n",
      " 29  Last week Pay                 67463 non-null  int64  \n",
      " 30  Accounts Delinquent           67463 non-null  int64  \n",
      " 31  Total Collection Amount       67463 non-null  int64  \n",
      " 32  Total Current Balance         67463 non-null  int64  \n",
      " 33  Total Revolving Credit Limit  67463 non-null  int64  \n",
      " 34  Loan Status                   67463 non-null  int64  \n",
      "dtypes: float64(9), int64(17), object(9)\n",
      "memory usage: 18.0+ MB\n"
     ]
    }
   ],
   "source": [
    "train.info()"
   ]
  },
  {
   "cell_type": "code",
   "execution_count": 165,
   "metadata": {},
   "outputs": [
    {
     "name": "stdout",
     "output_type": "stream",
     "text": [
      "ID                              0\n",
      "Loan Amount                     0\n",
      "Funded Amount                   0\n",
      "Funded Amount Investor          0\n",
      "Term                            0\n",
      "Batch Enrolled                  0\n",
      "Interest Rate                   0\n",
      "Grade                           0\n",
      "Sub Grade                       0\n",
      "Employment Duration             0\n",
      "Home Ownership                  0\n",
      "Verification Status             0\n",
      "Payment Plan                    0\n",
      "Loan Title                      0\n",
      "Debit to Income                 0\n",
      "Delinquency - two years         0\n",
      "Inquires - six months           0\n",
      "Open Account                    0\n",
      "Public Record                   0\n",
      "Revolving Balance               0\n",
      "Revolving Utilities             0\n",
      "Total Accounts                  0\n",
      "Initial List Status             0\n",
      "Total Received Interest         0\n",
      "Total Received Late Fee         0\n",
      "Recoveries                      0\n",
      "Collection Recovery Fee         0\n",
      "Collection 12 months Medical    0\n",
      "Application Type                0\n",
      "Last week Pay                   0\n",
      "Accounts Delinquent             0\n",
      "Total Collection Amount         0\n",
      "Total Current Balance           0\n",
      "Total Revolving Credit Limit    0\n",
      "Loan Status                     0\n",
      "dtype: int64\n",
      "************************************************************\n",
      "ID                                  0\n",
      "Loan Amount                         0\n",
      "Funded Amount                       0\n",
      "Funded Amount Investor              0\n",
      "Term                                0\n",
      "Batch Enrolled                      0\n",
      "Interest Rate                       0\n",
      "Grade                               0\n",
      "Sub Grade                           0\n",
      "Employment Duration                 0\n",
      "Home Ownership                      0\n",
      "Verification Status                 0\n",
      "Payment Plan                        0\n",
      "Loan Title                          0\n",
      "Debit to Income                     0\n",
      "Delinquency - two years             0\n",
      "Inquires - six months               0\n",
      "Open Account                        0\n",
      "Public Record                       0\n",
      "Revolving Balance                   0\n",
      "Revolving Utilities                 0\n",
      "Total Accounts                      0\n",
      "Initial List Status                 0\n",
      "Total Received Interest             0\n",
      "Total Received Late Fee             0\n",
      "Recoveries                          0\n",
      "Collection Recovery Fee             0\n",
      "Collection 12 months Medical        0\n",
      "Application Type                    0\n",
      "Last week Pay                       0\n",
      "Accounts Delinquent                 0\n",
      "Total Collection Amount             0\n",
      "Total Current Balance               0\n",
      "Total Revolving Credit Limit        0\n",
      "Loan Status                     28913\n",
      "dtype: int64\n"
     ]
    }
   ],
   "source": [
    "print(train.isnull().sum())\n",
    "print(\"*\"*60)\n",
    "print(test.isnull().sum())"
   ]
  },
  {
   "cell_type": "code",
   "execution_count": 166,
   "metadata": {},
   "outputs": [
    {
     "data": {
      "text/html": [
       "<div>\n",
       "<style scoped>\n",
       "    .dataframe tbody tr th:only-of-type {\n",
       "        vertical-align: middle;\n",
       "    }\n",
       "\n",
       "    .dataframe tbody tr th {\n",
       "        vertical-align: top;\n",
       "    }\n",
       "\n",
       "    .dataframe thead th {\n",
       "        text-align: right;\n",
       "    }\n",
       "</style>\n",
       "<table border=\"1\" class=\"dataframe\">\n",
       "  <thead>\n",
       "    <tr style=\"text-align: right;\">\n",
       "      <th></th>\n",
       "      <th>ID</th>\n",
       "      <th>Loan Amount</th>\n",
       "      <th>Funded Amount</th>\n",
       "      <th>Funded Amount Investor</th>\n",
       "      <th>Term</th>\n",
       "      <th>Batch Enrolled</th>\n",
       "      <th>Interest Rate</th>\n",
       "      <th>Grade</th>\n",
       "      <th>Sub Grade</th>\n",
       "      <th>Employment Duration</th>\n",
       "      <th>...</th>\n",
       "      <th>Recoveries</th>\n",
       "      <th>Collection Recovery Fee</th>\n",
       "      <th>Collection 12 months Medical</th>\n",
       "      <th>Application Type</th>\n",
       "      <th>Last week Pay</th>\n",
       "      <th>Accounts Delinquent</th>\n",
       "      <th>Total Collection Amount</th>\n",
       "      <th>Total Current Balance</th>\n",
       "      <th>Total Revolving Credit Limit</th>\n",
       "      <th>Loan Status</th>\n",
       "    </tr>\n",
       "  </thead>\n",
       "  <tbody>\n",
       "    <tr>\n",
       "      <th>0</th>\n",
       "      <td>56492997</td>\n",
       "      <td>17120</td>\n",
       "      <td>10365</td>\n",
       "      <td>16025.082690</td>\n",
       "      <td>59</td>\n",
       "      <td>BAT2575549</td>\n",
       "      <td>12.163926</td>\n",
       "      <td>A</td>\n",
       "      <td>D1</td>\n",
       "      <td>RENT</td>\n",
       "      <td>...</td>\n",
       "      <td>8.425776</td>\n",
       "      <td>0.731797</td>\n",
       "      <td>0</td>\n",
       "      <td>INDIVIDUAL</td>\n",
       "      <td>135</td>\n",
       "      <td>0</td>\n",
       "      <td>24</td>\n",
       "      <td>475442</td>\n",
       "      <td>4364</td>\n",
       "      <td>0</td>\n",
       "    </tr>\n",
       "    <tr>\n",
       "      <th>1</th>\n",
       "      <td>22540813</td>\n",
       "      <td>7133</td>\n",
       "      <td>11650</td>\n",
       "      <td>12615.795600</td>\n",
       "      <td>59</td>\n",
       "      <td>BAT2833642</td>\n",
       "      <td>6.564296</td>\n",
       "      <td>B</td>\n",
       "      <td>E3</td>\n",
       "      <td>MORTGAGE</td>\n",
       "      <td>...</td>\n",
       "      <td>6.157008</td>\n",
       "      <td>0.992918</td>\n",
       "      <td>0</td>\n",
       "      <td>INDIVIDUAL</td>\n",
       "      <td>56</td>\n",
       "      <td>0</td>\n",
       "      <td>1</td>\n",
       "      <td>72412</td>\n",
       "      <td>2573</td>\n",
       "      <td>0</td>\n",
       "    </tr>\n",
       "    <tr>\n",
       "      <th>2</th>\n",
       "      <td>9862181</td>\n",
       "      <td>25291</td>\n",
       "      <td>25825</td>\n",
       "      <td>11621.280830</td>\n",
       "      <td>59</td>\n",
       "      <td>BAT1761981</td>\n",
       "      <td>14.729900</td>\n",
       "      <td>A</td>\n",
       "      <td>C3</td>\n",
       "      <td>MORTGAGE</td>\n",
       "      <td>...</td>\n",
       "      <td>5.705077</td>\n",
       "      <td>0.281580</td>\n",
       "      <td>0</td>\n",
       "      <td>INDIVIDUAL</td>\n",
       "      <td>3</td>\n",
       "      <td>0</td>\n",
       "      <td>26</td>\n",
       "      <td>284825</td>\n",
       "      <td>19676</td>\n",
       "      <td>0</td>\n",
       "    </tr>\n",
       "    <tr>\n",
       "      <th>3</th>\n",
       "      <td>10097822</td>\n",
       "      <td>30781</td>\n",
       "      <td>9664</td>\n",
       "      <td>15375.823510</td>\n",
       "      <td>59</td>\n",
       "      <td>BAT5341619</td>\n",
       "      <td>10.523767</td>\n",
       "      <td>A</td>\n",
       "      <td>A2</td>\n",
       "      <td>RENT</td>\n",
       "      <td>...</td>\n",
       "      <td>2.469688</td>\n",
       "      <td>0.959162</td>\n",
       "      <td>0</td>\n",
       "      <td>INDIVIDUAL</td>\n",
       "      <td>21</td>\n",
       "      <td>0</td>\n",
       "      <td>32</td>\n",
       "      <td>40842</td>\n",
       "      <td>7226</td>\n",
       "      <td>0</td>\n",
       "    </tr>\n",
       "    <tr>\n",
       "      <th>4</th>\n",
       "      <td>47771809</td>\n",
       "      <td>8878</td>\n",
       "      <td>9419</td>\n",
       "      <td>7176.647582</td>\n",
       "      <td>58</td>\n",
       "      <td>BAT4694572</td>\n",
       "      <td>9.997013</td>\n",
       "      <td>C</td>\n",
       "      <td>B3</td>\n",
       "      <td>OWN</td>\n",
       "      <td>...</td>\n",
       "      <td>2.127835</td>\n",
       "      <td>0.402315</td>\n",
       "      <td>0</td>\n",
       "      <td>INDIVIDUAL</td>\n",
       "      <td>104</td>\n",
       "      <td>0</td>\n",
       "      <td>33</td>\n",
       "      <td>90825</td>\n",
       "      <td>26145</td>\n",
       "      <td>0</td>\n",
       "    </tr>\n",
       "    <tr>\n",
       "      <th>...</th>\n",
       "      <td>...</td>\n",
       "      <td>...</td>\n",
       "      <td>...</td>\n",
       "      <td>...</td>\n",
       "      <td>...</td>\n",
       "      <td>...</td>\n",
       "      <td>...</td>\n",
       "      <td>...</td>\n",
       "      <td>...</td>\n",
       "      <td>...</td>\n",
       "      <td>...</td>\n",
       "      <td>...</td>\n",
       "      <td>...</td>\n",
       "      <td>...</td>\n",
       "      <td>...</td>\n",
       "      <td>...</td>\n",
       "      <td>...</td>\n",
       "      <td>...</td>\n",
       "      <td>...</td>\n",
       "      <td>...</td>\n",
       "      <td>...</td>\n",
       "    </tr>\n",
       "    <tr>\n",
       "      <th>28908</th>\n",
       "      <td>11537800</td>\n",
       "      <td>35000</td>\n",
       "      <td>35000</td>\n",
       "      <td>35000.000000</td>\n",
       "      <td>60</td>\n",
       "      <td>BAT5629144</td>\n",
       "      <td>16.240000</td>\n",
       "      <td>C</td>\n",
       "      <td>C5</td>\n",
       "      <td>MORTGAGE</td>\n",
       "      <td>...</td>\n",
       "      <td>0.000000</td>\n",
       "      <td>0.000000</td>\n",
       "      <td>0</td>\n",
       "      <td>INDIVIDUAL</td>\n",
       "      <td>109</td>\n",
       "      <td>0</td>\n",
       "      <td>0</td>\n",
       "      <td>883984</td>\n",
       "      <td>114000</td>\n",
       "      <td>0</td>\n",
       "    </tr>\n",
       "    <tr>\n",
       "      <th>28909</th>\n",
       "      <td>11538258</td>\n",
       "      <td>25000</td>\n",
       "      <td>25000</td>\n",
       "      <td>25000.000000</td>\n",
       "      <td>60</td>\n",
       "      <td>BAT5629144</td>\n",
       "      <td>14.980000</td>\n",
       "      <td>C</td>\n",
       "      <td>C3</td>\n",
       "      <td>MORTGAGE</td>\n",
       "      <td>...</td>\n",
       "      <td>0.000000</td>\n",
       "      <td>0.000000</td>\n",
       "      <td>0</td>\n",
       "      <td>INDIVIDUAL</td>\n",
       "      <td>104</td>\n",
       "      <td>0</td>\n",
       "      <td>0</td>\n",
       "      <td>513925</td>\n",
       "      <td>51800</td>\n",
       "      <td>0</td>\n",
       "    </tr>\n",
       "    <tr>\n",
       "      <th>28910</th>\n",
       "      <td>13147685</td>\n",
       "      <td>30000</td>\n",
       "      <td>30000</td>\n",
       "      <td>29950.000000</td>\n",
       "      <td>60</td>\n",
       "      <td>BAT2136391</td>\n",
       "      <td>18.240000</td>\n",
       "      <td>D</td>\n",
       "      <td>D5</td>\n",
       "      <td>MORTGAGE</td>\n",
       "      <td>...</td>\n",
       "      <td>0.000000</td>\n",
       "      <td>0.000000</td>\n",
       "      <td>1</td>\n",
       "      <td>INDIVIDUAL</td>\n",
       "      <td>83</td>\n",
       "      <td>0</td>\n",
       "      <td>0</td>\n",
       "      <td>296294</td>\n",
       "      <td>65600</td>\n",
       "      <td>0</td>\n",
       "    </tr>\n",
       "    <tr>\n",
       "      <th>28911</th>\n",
       "      <td>13917689</td>\n",
       "      <td>25000</td>\n",
       "      <td>25000</td>\n",
       "      <td>24950.000000</td>\n",
       "      <td>60</td>\n",
       "      <td>BAT2136391</td>\n",
       "      <td>15.610000</td>\n",
       "      <td>D</td>\n",
       "      <td>D1</td>\n",
       "      <td>MORTGAGE</td>\n",
       "      <td>...</td>\n",
       "      <td>0.000000</td>\n",
       "      <td>0.000000</td>\n",
       "      <td>0</td>\n",
       "      <td>INDIVIDUAL</td>\n",
       "      <td>83</td>\n",
       "      <td>0</td>\n",
       "      <td>0</td>\n",
       "      <td>428723</td>\n",
       "      <td>30400</td>\n",
       "      <td>0</td>\n",
       "    </tr>\n",
       "    <tr>\n",
       "      <th>28912</th>\n",
       "      <td>10763026</td>\n",
       "      <td>24925</td>\n",
       "      <td>24925</td>\n",
       "      <td>24925.000000</td>\n",
       "      <td>60</td>\n",
       "      <td>BAT2575549</td>\n",
       "      <td>14.300000</td>\n",
       "      <td>C</td>\n",
       "      <td>C1</td>\n",
       "      <td>MORTGAGE</td>\n",
       "      <td>...</td>\n",
       "      <td>0.000000</td>\n",
       "      <td>0.000000</td>\n",
       "      <td>0</td>\n",
       "      <td>INDIVIDUAL</td>\n",
       "      <td>109</td>\n",
       "      <td>0</td>\n",
       "      <td>0</td>\n",
       "      <td>283758</td>\n",
       "      <td>62900</td>\n",
       "      <td>0</td>\n",
       "    </tr>\n",
       "  </tbody>\n",
       "</table>\n",
       "<p>28913 rows × 35 columns</p>\n",
       "</div>"
      ],
      "text/plain": [
       "             ID  Loan Amount  Funded Amount  Funded Amount Investor  Term  \\\n",
       "0      56492997        17120          10365            16025.082690    59   \n",
       "1      22540813         7133          11650            12615.795600    59   \n",
       "2       9862181        25291          25825            11621.280830    59   \n",
       "3      10097822        30781           9664            15375.823510    59   \n",
       "4      47771809         8878           9419             7176.647582    58   \n",
       "...         ...          ...            ...                     ...   ...   \n",
       "28908  11537800        35000          35000            35000.000000    60   \n",
       "28909  11538258        25000          25000            25000.000000    60   \n",
       "28910  13147685        30000          30000            29950.000000    60   \n",
       "28911  13917689        25000          25000            24950.000000    60   \n",
       "28912  10763026        24925          24925            24925.000000    60   \n",
       "\n",
       "      Batch Enrolled  Interest Rate Grade Sub Grade Employment Duration  ...  \\\n",
       "0         BAT2575549      12.163926     A        D1                RENT  ...   \n",
       "1         BAT2833642       6.564296     B        E3            MORTGAGE  ...   \n",
       "2         BAT1761981      14.729900     A        C3            MORTGAGE  ...   \n",
       "3         BAT5341619      10.523767     A        A2                RENT  ...   \n",
       "4         BAT4694572       9.997013     C        B3                 OWN  ...   \n",
       "...              ...            ...   ...       ...                 ...  ...   \n",
       "28908     BAT5629144      16.240000     C        C5            MORTGAGE  ...   \n",
       "28909     BAT5629144      14.980000     C        C3            MORTGAGE  ...   \n",
       "28910     BAT2136391      18.240000     D        D5            MORTGAGE  ...   \n",
       "28911     BAT2136391      15.610000     D        D1            MORTGAGE  ...   \n",
       "28912     BAT2575549      14.300000     C        C1            MORTGAGE  ...   \n",
       "\n",
       "       Recoveries Collection Recovery Fee Collection 12 months Medical  \\\n",
       "0        8.425776                0.731797                            0   \n",
       "1        6.157008                0.992918                            0   \n",
       "2        5.705077                0.281580                            0   \n",
       "3        2.469688                0.959162                            0   \n",
       "4        2.127835                0.402315                            0   \n",
       "...           ...                     ...                          ...   \n",
       "28908    0.000000                0.000000                            0   \n",
       "28909    0.000000                0.000000                            0   \n",
       "28910    0.000000                0.000000                            1   \n",
       "28911    0.000000                0.000000                            0   \n",
       "28912    0.000000                0.000000                            0   \n",
       "\n",
       "      Application Type  Last week Pay  Accounts Delinquent  \\\n",
       "0           INDIVIDUAL            135                    0   \n",
       "1           INDIVIDUAL             56                    0   \n",
       "2           INDIVIDUAL              3                    0   \n",
       "3           INDIVIDUAL             21                    0   \n",
       "4           INDIVIDUAL            104                    0   \n",
       "...                ...            ...                  ...   \n",
       "28908       INDIVIDUAL            109                    0   \n",
       "28909       INDIVIDUAL            104                    0   \n",
       "28910       INDIVIDUAL             83                    0   \n",
       "28911       INDIVIDUAL             83                    0   \n",
       "28912       INDIVIDUAL            109                    0   \n",
       "\n",
       "       Total Collection Amount  Total Current Balance  \\\n",
       "0                           24                 475442   \n",
       "1                            1                  72412   \n",
       "2                           26                 284825   \n",
       "3                           32                  40842   \n",
       "4                           33                  90825   \n",
       "...                        ...                    ...   \n",
       "28908                        0                 883984   \n",
       "28909                        0                 513925   \n",
       "28910                        0                 296294   \n",
       "28911                        0                 428723   \n",
       "28912                        0                 283758   \n",
       "\n",
       "       Total Revolving Credit Limit  Loan Status  \n",
       "0                              4364            0  \n",
       "1                              2573            0  \n",
       "2                             19676            0  \n",
       "3                              7226            0  \n",
       "4                             26145            0  \n",
       "...                             ...          ...  \n",
       "28908                        114000            0  \n",
       "28909                         51800            0  \n",
       "28910                         65600            0  \n",
       "28911                         30400            0  \n",
       "28912                         62900            0  \n",
       "\n",
       "[28913 rows x 35 columns]"
      ]
     },
     "execution_count": 166,
     "metadata": {},
     "output_type": "execute_result"
    }
   ],
   "source": [
    "test['Loan Status'] = 0\n",
    "test"
   ]
  },
  {
   "cell_type": "markdown",
   "metadata": {},
   "source": [
    "No more null values"
   ]
  },
  {
   "cell_type": "code",
   "execution_count": 167,
   "metadata": {},
   "outputs": [
    {
     "data": {
      "text/plain": [
       "0    61222\n",
       "1     6241\n",
       "Name: Loan Status, dtype: int64"
      ]
     },
     "execution_count": 167,
     "metadata": {},
     "output_type": "execute_result"
    }
   ],
   "source": [
    "train['Loan Status'].value_counts()"
   ]
  },
  {
   "cell_type": "markdown",
   "metadata": {},
   "source": [
    "# We have an imbalanced dataset. Before using the dataset for modelling, we will preprocess our train and test data."
   ]
  },
  {
   "cell_type": "code",
   "execution_count": 168,
   "metadata": {},
   "outputs": [],
   "source": [
    "#train"
   ]
  },
  {
   "cell_type": "markdown",
   "metadata": {},
   "source": [
    "# Data Processing"
   ]
  },
  {
   "cell_type": "code",
   "execution_count": 169,
   "metadata": {},
   "outputs": [
    {
     "name": "stdout",
     "output_type": "stream",
     "text": [
      "['Batch Enrolled', 'Grade', 'Sub Grade', 'Employment Duration', 'Verification Status', 'Payment Plan', 'Loan Title', 'Initial List Status', 'Application Type']\n",
      "['ID', 'Loan Amount', 'Funded Amount', 'Funded Amount Investor', 'Term', 'Interest Rate', 'Home Ownership', 'Debit to Income', 'Delinquency - two years', 'Inquires - six months', 'Open Account', 'Public Record', 'Revolving Balance', 'Revolving Utilities', 'Total Accounts', 'Total Received Interest', 'Total Received Late Fee', 'Recoveries', 'Collection Recovery Fee', 'Collection 12 months Medical', 'Last week Pay', 'Accounts Delinquent', 'Total Collection Amount', 'Total Current Balance', 'Total Revolving Credit Limit', 'Loan Status']\n"
     ]
    }
   ],
   "source": [
    "cols = train.columns\n",
    "cat_cols =[]\n",
    "num_cols =[]\n",
    "for col in cols:\n",
    "    if train[col].dtype=='object':\n",
    "        cat_cols.append(col)\n",
    "    else:\n",
    "        num_cols.append(col)\n",
    "print(cat_cols)\n",
    "print(num_cols)"
   ]
  },
  {
   "cell_type": "markdown",
   "metadata": {},
   "source": [
    "From list of categorical columns, we have to figure out : nominal, ordinal col types\n",
    "\n",
    "\n",
    "['Batch Enrolled', 'Grade', 'Sub Grade', 'Employment Duration', 'Verification Status', 'Payment Plan', 'Loan Title', 'Initial List Status', 'Application Type']"
   ]
  },
  {
   "cell_type": "code",
   "execution_count": 170,
   "metadata": {},
   "outputs": [],
   "source": [
    "nominal_cat_cols = []\n",
    "ordinal_cat_cols = []"
   ]
  },
  {
   "cell_type": "code",
   "execution_count": 171,
   "metadata": {},
   "outputs": [
    {
     "data": {
      "text/plain": [
       "BAT3873588    3626\n",
       "BAT1586599    3142\n",
       "BAT1104812    2996\n",
       "BAT2252229    2557\n",
       "BAT2803411    2425\n",
       "BAT1780517    2403\n",
       "BAT1184694    2298\n",
       "BAT2078974    2290\n",
       "BAT2575549    2257\n",
       "BAT4694572    2248\n",
       "BAT4271519    2054\n",
       "BAT2558388    1963\n",
       "BAT3193689    1864\n",
       "BAT1930365    1844\n",
       "BAT2136391    1790\n",
       "BAT2333412    1775\n",
       "BAT3726927    1774\n",
       "BAT4136152    1766\n",
       "BAT5341619    1717\n",
       "BAT5525466    1709\n",
       "BAT5489674    1677\n",
       "BAT5629144    1639\n",
       "BAT1766061    1461\n",
       "BAT2833642    1421\n",
       "BAT5924421    1404\n",
       "BAT2522922    1399\n",
       "BAT2428731    1398\n",
       "BAT4808022    1303\n",
       "BAT4351734    1140\n",
       "BAT5547201    1127\n",
       "BAT5714674    1105\n",
       "BAT3461431    1068\n",
       "BAT224923      895\n",
       "BAT1761981     894\n",
       "BAT4722912     887\n",
       "BAT2003848     842\n",
       "BAT1467036     802\n",
       "BAT5849876     768\n",
       "BAT3865626     728\n",
       "BAT5811547     711\n",
       "BAT1135695     296\n",
       "Name: Batch Enrolled, dtype: int64"
      ]
     },
     "execution_count": 171,
     "metadata": {},
     "output_type": "execute_result"
    }
   ],
   "source": [
    "nominal_cat_cols.append('Batch Enrolled')\n",
    "train[\"Batch Enrolled\"].value_counts()"
   ]
  },
  {
   "cell_type": "code",
   "execution_count": 172,
   "metadata": {},
   "outputs": [
    {
     "data": {
      "text/plain": [
       "C    19085\n",
       "B    18742\n",
       "A    12055\n",
       "D     8259\n",
       "E     6446\n",
       "F     2246\n",
       "G      630\n",
       "Name: Grade, dtype: int64"
      ]
     },
     "execution_count": 172,
     "metadata": {},
     "output_type": "execute_result"
    }
   ],
   "source": [
    "ordinal_cat_cols.append('Grade')\n",
    "train[\"Grade\"].value_counts()"
   ]
  },
  {
   "cell_type": "code",
   "execution_count": 173,
   "metadata": {},
   "outputs": [
    {
     "data": {
      "text/plain": [
       "B4    4462\n",
       "C1    4188\n",
       "B3    3999\n",
       "A5    3540\n",
       "B2    3520\n",
       "B5    3408\n",
       "D1    3304\n",
       "C4    3250\n",
       "C2    3219\n",
       "C3    3121\n",
       "B1    2924\n",
       "C5    2472\n",
       "A4    2264\n",
       "D4    2050\n",
       "D2    1963\n",
       "D5    1952\n",
       "A2    1837\n",
       "D3    1824\n",
       "E2    1746\n",
       "A3    1685\n",
       "A1    1364\n",
       "E3    1321\n",
       "E1    1298\n",
       "E4    1117\n",
       "F2     947\n",
       "F1     824\n",
       "E5     769\n",
       "F5     582\n",
       "F3     578\n",
       "G2     447\n",
       "F4     441\n",
       "G1     366\n",
       "G5     284\n",
       "G3     246\n",
       "G4     151\n",
       "Name: Sub Grade, dtype: int64"
      ]
     },
     "execution_count": 173,
     "metadata": {},
     "output_type": "execute_result"
    }
   ],
   "source": [
    "nominal_cat_cols.append('Sub Grade')\n",
    "train[\"Sub Grade\"].value_counts()"
   ]
  },
  {
   "cell_type": "code",
   "execution_count": 174,
   "metadata": {},
   "outputs": [
    {
     "data": {
      "text/plain": [
       "MORTGAGE    36351\n",
       "RENT        24150\n",
       "OWN          6962\n",
       "Name: Employment Duration, dtype: int64"
      ]
     },
     "execution_count": 174,
     "metadata": {},
     "output_type": "execute_result"
    }
   ],
   "source": [
    "ordinal_cat_cols.append('Employment Duration')\n",
    "train[\"Employment Duration\"].value_counts()"
   ]
  },
  {
   "cell_type": "code",
   "execution_count": 175,
   "metadata": {},
   "outputs": [
    {
     "data": {
      "text/plain": [
       "Source Verified    33036\n",
       "Verified           18078\n",
       "Not Verified       16349\n",
       "Name: Verification Status, dtype: int64"
      ]
     },
     "execution_count": 175,
     "metadata": {},
     "output_type": "execute_result"
    }
   ],
   "source": [
    "ordinal_cat_cols.append('Verification Status')\n",
    "train[\"Verification Status\"].value_counts()"
   ]
  },
  {
   "cell_type": "code",
   "execution_count": 176,
   "metadata": {},
   "outputs": [
    {
     "data": {
      "text/plain": [
       "n    67463\n",
       "Name: Payment Plan, dtype: int64"
      ]
     },
     "execution_count": 176,
     "metadata": {},
     "output_type": "execute_result"
    }
   ],
   "source": [
    "nominal_cat_cols.append('Payment Plan')\n",
    "train[\"Payment Plan\"].value_counts()"
   ]
  },
  {
   "cell_type": "code",
   "execution_count": 177,
   "metadata": {},
   "outputs": [
    {
     "name": "stdout",
     "output_type": "stream",
     "text": [
      "Credit card refinancing       30728\n",
      "Debt consolidation            24841\n",
      "Debt Consolidation             3544\n",
      "Other                          2455\n",
      "Home improvement               2211\n",
      "                              ...  \n",
      "Credit Card Refinance Loan        6\n",
      "Personal loan                     5\n",
      "Getting Ahead                     5\n",
      "bills                             4\n",
      "Credit                            4\n",
      "Name: Loan Title, Length: 109, dtype: int64\n",
      "---------------------------------------\n",
      "109\n"
     ]
    }
   ],
   "source": [
    "nominal_cat_cols.append('Loan Title')\n",
    "print(train[\"Loan Title\"].value_counts())\n",
    "print(\"---------------------------------------\")\n",
    "print(train[\"Loan Title\"].nunique())"
   ]
  },
  {
   "cell_type": "code",
   "execution_count": 178,
   "metadata": {},
   "outputs": [
    {
     "data": {
      "text/plain": [
       "w    36299\n",
       "f    31164\n",
       "Name: Initial List Status, dtype: int64"
      ]
     },
     "execution_count": 178,
     "metadata": {},
     "output_type": "execute_result"
    }
   ],
   "source": [
    "ordinal_cat_cols.append('Initial List Status')\n",
    "train[\"Initial List Status\"].value_counts()"
   ]
  },
  {
   "cell_type": "code",
   "execution_count": 179,
   "metadata": {},
   "outputs": [
    {
     "data": {
      "text/plain": [
       "INDIVIDUAL    67340\n",
       "JOINT           123\n",
       "Name: Application Type, dtype: int64"
      ]
     },
     "execution_count": 179,
     "metadata": {},
     "output_type": "execute_result"
    }
   ],
   "source": [
    "ordinal_cat_cols.append('Application Type')\n",
    "train[\"Application Type\"].value_counts()"
   ]
  },
  {
   "cell_type": "code",
   "execution_count": 180,
   "metadata": {},
   "outputs": [
    {
     "name": "stdout",
     "output_type": "stream",
     "text": [
      "['Batch Enrolled', 'Sub Grade', 'Payment Plan', 'Loan Title']\n",
      "['Grade', 'Employment Duration', 'Verification Status', 'Initial List Status', 'Application Type']\n"
     ]
    }
   ],
   "source": [
    "print(nominal_cat_cols)\n",
    "print(ordinal_cat_cols)"
   ]
  },
  {
   "cell_type": "code",
   "execution_count": 181,
   "metadata": {},
   "outputs": [
    {
     "name": "stdout",
     "output_type": "stream",
     "text": [
      "['Batch Enrolled', 'Sub Grade', 'Payment Plan', 'Loan Title']\n",
      "['Grade', 'Employment Duration', 'Verification Status', 'Initial List Status', 'Application Type']\n"
     ]
    }
   ],
   "source": [
    "print(nominal_cat_cols)\n",
    "print(ordinal_cat_cols)"
   ]
  },
  {
   "cell_type": "markdown",
   "metadata": {},
   "source": [
    "Next step, I will be converting ordinal dtype features to their mean label values and nominal dtype features would be label encoded"
   ]
  },
  {
   "cell_type": "code",
   "execution_count": 182,
   "metadata": {},
   "outputs": [
    {
     "name": "stdout",
     "output_type": "stream",
     "text": [
      "['Grade', 'Employment Duration', 'Verification Status', 'Initial List Status', 'Application Type']\n"
     ]
    }
   ],
   "source": [
    "print(ordinal_cat_cols)"
   ]
  },
  {
   "cell_type": "code",
   "execution_count": 183,
   "metadata": {},
   "outputs": [
    {
     "name": "stdout",
     "output_type": "stream",
     "text": [
      "{'B': 0, 'A': 1, 'C': 2, 'E': 3, 'D': 4, 'F': 5, 'G': 6}\n"
     ]
    }
   ],
   "source": [
    "g = (train[[\"Grade\", \"Loan Status\"]]\n",
    "        .groupby([\"Grade\"], as_index=False)\n",
    "        .mean()\n",
    "        .sort_values(by=\"Loan Status\", ascending=True)\n",
    ")['Grade']\n",
    "idx_g = g.index\n",
    "val_g = g.values\n",
    "g_labels = {k:i for i,k in enumerate(val_g,0)}\n",
    "print(g_labels)\n",
    "train[\"Grade\"] = train[\"Grade\"].map(g_labels)\n",
    "\n",
    "e = (train[[\"Employment Duration\", \"Loan Status\"]]\n",
    "        .groupby([\"Employment Duration\"], as_index=False)\n",
    "        .mean()\n",
    "        .sort_values(by=\"Loan Status\", ascending=True)\n",
    ")['Employment Duration']\n",
    "idx_e = e.index\n",
    "val_e = e.values\n",
    "e_labels = {k:i for i,k in enumerate(val_e,0)}\n",
    "train[\"Employment Duration\"] = train[\"Employment Duration\"].map(e_labels)\n",
    "\n",
    "\n",
    "v = (train[[\"Verification Status\", \"Loan Status\"]]\n",
    "        .groupby([\"Verification Status\"], as_index=False)\n",
    "        .mean()\n",
    "        .sort_values(by=\"Loan Status\", ascending=True)\n",
    ")['Verification Status']\n",
    "idx_v = v.index\n",
    "val_v = v.values\n",
    "v_labels = {k:i for i,k in enumerate(val_v,0)}\n",
    "train[\"Verification Status\"] = train[\"Verification Status\"].map(v_labels)\n",
    "\n",
    "\n",
    "l = (train[[\"Initial List Status\", \"Loan Status\"]]\n",
    "        .groupby([\"Initial List Status\"], as_index=False)\n",
    "        .mean()\n",
    "        .sort_values(by=\"Loan Status\", ascending=True)\n",
    ")['Initial List Status']\n",
    "idx_l = l.index\n",
    "val_l = l.values\n",
    "l_labels = {k:i for i,k in enumerate(val_l,0)}\n",
    "train[\"Initial List Status\"] = train[\"Initial List Status\"].map(l_labels)\n",
    "\n",
    "\n",
    "ap = (train[[\"Application Type\", \"Loan Status\"]]\n",
    "        .groupby([\"Application Type\"], as_index=False)\n",
    "        .mean()\n",
    "        .sort_values(by=\"Loan Status\", ascending=True)\n",
    ")['Application Type']\n",
    "idx_ap = ap.index\n",
    "val_ap = ap.values\n",
    "ap_labels = {k:i for i,k in enumerate(val_ap,0)}\n",
    "train[\"Application Type\"] = train[\"Application Type\"].map(ap_labels)\n",
    "\n",
    "\n",
    "\n",
    "#------------------------------TEST-------------------------------------------------------------------#\n",
    "\n",
    "\n",
    "\n",
    "\n",
    "g = (test[[\"Grade\", \"Loan Status\"]]\n",
    "        .groupby([\"Grade\"], as_index=False)\n",
    "        .mean()\n",
    "        .sort_values(by=\"Loan Status\", ascending=True)\n",
    ")['Grade']\n",
    "idx_g = g.index\n",
    "val_g = g.values\n",
    "g_labels = {k:i for i,k in enumerate(val_g,0)}\n",
    "test[\"Grade\"] = test[\"Grade\"].map(g_labels)\n",
    "\n",
    "e = (test[[\"Employment Duration\", \"Loan Status\"]]\n",
    "        .groupby([\"Employment Duration\"], as_index=False)\n",
    "        .mean()\n",
    "        .sort_values(by=\"Loan Status\", ascending=True)\n",
    ")['Employment Duration']\n",
    "idx_e = e.index\n",
    "val_e = e.values\n",
    "e_labels = {k:i for i,k in enumerate(val_e,0)}\n",
    "test[\"Employment Duration\"] = test[\"Employment Duration\"].map(e_labels)\n",
    "\n",
    "\n",
    "v = (test[[\"Verification Status\", \"Loan Status\"]]\n",
    "        .groupby([\"Verification Status\"], as_index=False)\n",
    "        .mean()\n",
    "        .sort_values(by=\"Loan Status\", ascending=True)\n",
    ")['Verification Status']\n",
    "idx_v = v.index\n",
    "val_v = v.values\n",
    "v_labels = {k:i for i,k in enumerate(val_v,0)}\n",
    "test[\"Verification Status\"] = test[\"Verification Status\"].map(v_labels)\n",
    "\n",
    "\n",
    "l = (test[[\"Initial List Status\", \"Loan Status\"]]\n",
    "        .groupby([\"Initial List Status\"], as_index=False)\n",
    "        .mean()\n",
    "        .sort_values(by=\"Loan Status\", ascending=True)\n",
    ")['Initial List Status']\n",
    "idx_l = l.index\n",
    "val_l = l.values\n",
    "l_labels = {k:i for i,k in enumerate(val_l,0)}\n",
    "test[\"Initial List Status\"] = test[\"Initial List Status\"].map(l_labels)\n",
    "\n",
    "\n",
    "ap = (test[[\"Application Type\", \"Loan Status\"]]\n",
    "        .groupby([\"Application Type\"], as_index=False)\n",
    "        .mean()\n",
    "        .sort_values(by=\"Loan Status\", ascending=True)\n",
    ")['Application Type']\n",
    "idx_ap = ap.index\n",
    "val_ap = ap.values\n",
    "ap_labels = {k:i for i,k in enumerate(val_ap,0)}\n",
    "test[\"Application Type\"] = test[\"Application Type\"].map(ap_labels)"
   ]
  },
  {
   "cell_type": "markdown",
   "metadata": {},
   "source": [
    "Label Encoding nominal feature set"
   ]
  },
  {
   "cell_type": "code",
   "execution_count": 184,
   "metadata": {},
   "outputs": [
    {
     "name": "stdout",
     "output_type": "stream",
     "text": [
      "['Batch Enrolled', 'Sub Grade', 'Payment Plan', 'Loan Title']\n"
     ]
    }
   ],
   "source": [
    "print(nominal_cat_cols)"
   ]
  },
  {
   "cell_type": "code",
   "execution_count": 185,
   "metadata": {},
   "outputs": [],
   "source": [
    "#Enocding nominal dtype features\n",
    "le = LabelEncoder()\n",
    "\n",
    "train['Batch Enrolled'] = le.fit_transform(train[\"Batch Enrolled\"])\n",
    "test[\"Batch Enrolled\"] = le.fit_transform(test[\"Batch Enrolled\"])\n",
    "\n",
    "train['Sub Grade'] = le.fit_transform(train[\"Sub Grade\"])\n",
    "test[\"Sub Grade\"] = le.fit_transform(test[\"Sub Grade\"])\n",
    "\n",
    "train['Payment Plan'] = le.fit_transform(train[\"Payment Plan\"])\n",
    "test[\"Payment Plan\"] = le.fit_transform(test[\"Payment Plan\"])\n",
    "\n",
    "train['Loan Title'] = le.fit_transform(train[\"Loan Title\"])\n",
    "test[\"Loan Title\"] = le.fit_transform(test[\"Loan Title\"])"
   ]
  },
  {
   "cell_type": "code",
   "execution_count": 186,
   "metadata": {},
   "outputs": [
    {
     "name": "stdout",
     "output_type": "stream",
     "text": [
      "<class 'pandas.core.frame.DataFrame'>\n",
      "RangeIndex: 67463 entries, 0 to 67462\n",
      "Data columns (total 35 columns):\n",
      " #   Column                        Non-Null Count  Dtype  \n",
      "---  ------                        --------------  -----  \n",
      " 0   ID                            67463 non-null  int64  \n",
      " 1   Loan Amount                   67463 non-null  int64  \n",
      " 2   Funded Amount                 67463 non-null  int64  \n",
      " 3   Funded Amount Investor        67463 non-null  float64\n",
      " 4   Term                          67463 non-null  int64  \n",
      " 5   Batch Enrolled                67463 non-null  int32  \n",
      " 6   Interest Rate                 67463 non-null  float64\n",
      " 7   Grade                         67463 non-null  int64  \n",
      " 8   Sub Grade                     67463 non-null  int32  \n",
      " 9   Employment Duration           67463 non-null  int64  \n",
      " 10  Home Ownership                67463 non-null  float64\n",
      " 11  Verification Status           67463 non-null  int64  \n",
      " 12  Payment Plan                  67463 non-null  int32  \n",
      " 13  Loan Title                    67463 non-null  int32  \n",
      " 14  Debit to Income               67463 non-null  float64\n",
      " 15  Delinquency - two years       67463 non-null  int64  \n",
      " 16  Inquires - six months         67463 non-null  int64  \n",
      " 17  Open Account                  67463 non-null  int64  \n",
      " 18  Public Record                 67463 non-null  int64  \n",
      " 19  Revolving Balance             67463 non-null  int64  \n",
      " 20  Revolving Utilities           67463 non-null  float64\n",
      " 21  Total Accounts                67463 non-null  int64  \n",
      " 22  Initial List Status           67463 non-null  int64  \n",
      " 23  Total Received Interest       67463 non-null  float64\n",
      " 24  Total Received Late Fee       67463 non-null  float64\n",
      " 25  Recoveries                    67463 non-null  float64\n",
      " 26  Collection Recovery Fee       67463 non-null  float64\n",
      " 27  Collection 12 months Medical  67463 non-null  int64  \n",
      " 28  Application Type              67463 non-null  int64  \n",
      " 29  Last week Pay                 67463 non-null  int64  \n",
      " 30  Accounts Delinquent           67463 non-null  int64  \n",
      " 31  Total Collection Amount       67463 non-null  int64  \n",
      " 32  Total Current Balance         67463 non-null  int64  \n",
      " 33  Total Revolving Credit Limit  67463 non-null  int64  \n",
      " 34  Loan Status                   67463 non-null  int64  \n",
      "dtypes: float64(9), int32(4), int64(22)\n",
      "memory usage: 17.0 MB\n"
     ]
    }
   ],
   "source": [
    "train.info()"
   ]
  },
  {
   "cell_type": "code",
   "execution_count": 187,
   "metadata": {},
   "outputs": [
    {
     "name": "stdout",
     "output_type": "stream",
     "text": [
      "<class 'pandas.core.frame.DataFrame'>\n",
      "RangeIndex: 28913 entries, 0 to 28912\n",
      "Data columns (total 35 columns):\n",
      " #   Column                        Non-Null Count  Dtype  \n",
      "---  ------                        --------------  -----  \n",
      " 0   ID                            28913 non-null  int64  \n",
      " 1   Loan Amount                   28913 non-null  int64  \n",
      " 2   Funded Amount                 28913 non-null  int64  \n",
      " 3   Funded Amount Investor        28913 non-null  float64\n",
      " 4   Term                          28913 non-null  int64  \n",
      " 5   Batch Enrolled                28913 non-null  int32  \n",
      " 6   Interest Rate                 28913 non-null  float64\n",
      " 7   Grade                         28913 non-null  int64  \n",
      " 8   Sub Grade                     28913 non-null  int32  \n",
      " 9   Employment Duration           28913 non-null  int64  \n",
      " 10  Home Ownership                28913 non-null  float64\n",
      " 11  Verification Status           28913 non-null  int64  \n",
      " 12  Payment Plan                  28913 non-null  int32  \n",
      " 13  Loan Title                    28913 non-null  int32  \n",
      " 14  Debit to Income               28913 non-null  float64\n",
      " 15  Delinquency - two years       28913 non-null  int64  \n",
      " 16  Inquires - six months         28913 non-null  int64  \n",
      " 17  Open Account                  28913 non-null  int64  \n",
      " 18  Public Record                 28913 non-null  int64  \n",
      " 19  Revolving Balance             28913 non-null  int64  \n",
      " 20  Revolving Utilities           28913 non-null  float64\n",
      " 21  Total Accounts                28913 non-null  int64  \n",
      " 22  Initial List Status           28913 non-null  int64  \n",
      " 23  Total Received Interest       28913 non-null  float64\n",
      " 24  Total Received Late Fee       28913 non-null  float64\n",
      " 25  Recoveries                    28913 non-null  float64\n",
      " 26  Collection Recovery Fee       28913 non-null  float64\n",
      " 27  Collection 12 months Medical  28913 non-null  int64  \n",
      " 28  Application Type              28913 non-null  int64  \n",
      " 29  Last week Pay                 28913 non-null  int64  \n",
      " 30  Accounts Delinquent           28913 non-null  int64  \n",
      " 31  Total Collection Amount       28913 non-null  int64  \n",
      " 32  Total Current Balance         28913 non-null  int64  \n",
      " 33  Total Revolving Credit Limit  28913 non-null  int64  \n",
      " 34  Loan Status                   28913 non-null  int64  \n",
      "dtypes: float64(9), int32(4), int64(22)\n",
      "memory usage: 7.3 MB\n"
     ]
    }
   ],
   "source": [
    "test.info()"
   ]
  },
  {
   "cell_type": "code",
   "execution_count": 188,
   "metadata": {},
   "outputs": [],
   "source": [
    "#test"
   ]
  },
  {
   "cell_type": "markdown",
   "metadata": {},
   "source": [
    "# Scaling our data"
   ]
  },
  {
   "cell_type": "code",
   "execution_count": 189,
   "metadata": {},
   "outputs": [
    {
     "name": "stdout",
     "output_type": "stream",
     "text": [
      "(67463, 34)\n",
      "(67463,)\n",
      "(28913, 34)\n"
     ]
    }
   ],
   "source": [
    "rscale = RobustScaler()\n",
    "\n",
    "\n",
    "X_train_bs = train.drop(columns=['Loan Status'])\n",
    "y_train = train['Loan Status']\n",
    "X_test_bs = test.drop(columns=['Loan Status'])\n",
    "#y_test = test['Loan Status']\n",
    "\n",
    "print(X_train_bs.shape)\n",
    "print(y_train.shape)\n",
    "print(X_test_bs.shape)\n",
    "#print(y_test.shape)\n",
    "\n",
    "X_train = pd.DataFrame( rscale.fit_transform(X_train_bs), columns = X_train_bs.columns )\n",
    "X_test = pd.DataFrame( rscale.fit_transform(X_test_bs), columns = X_test_bs.columns )"
   ]
  },
  {
   "cell_type": "code",
   "execution_count": 190,
   "metadata": {},
   "outputs": [
    {
     "data": {
      "text/html": [
       "<div>\n",
       "<style scoped>\n",
       "    .dataframe tbody tr th:only-of-type {\n",
       "        vertical-align: middle;\n",
       "    }\n",
       "\n",
       "    .dataframe tbody tr th {\n",
       "        vertical-align: top;\n",
       "    }\n",
       "\n",
       "    .dataframe thead th {\n",
       "        text-align: right;\n",
       "    }\n",
       "</style>\n",
       "<table border=\"1\" class=\"dataframe\">\n",
       "  <thead>\n",
       "    <tr style=\"text-align: right;\">\n",
       "      <th></th>\n",
       "      <th>ID</th>\n",
       "      <th>Loan Amount</th>\n",
       "      <th>Funded Amount</th>\n",
       "      <th>Funded Amount Investor</th>\n",
       "      <th>Term</th>\n",
       "      <th>Batch Enrolled</th>\n",
       "      <th>Interest Rate</th>\n",
       "      <th>Grade</th>\n",
       "      <th>Sub Grade</th>\n",
       "      <th>Employment Duration</th>\n",
       "      <th>...</th>\n",
       "      <th>Total Received Late Fee</th>\n",
       "      <th>Recoveries</th>\n",
       "      <th>Collection Recovery Fee</th>\n",
       "      <th>Collection 12 months Medical</th>\n",
       "      <th>Application Type</th>\n",
       "      <th>Last week Pay</th>\n",
       "      <th>Accounts Delinquent</th>\n",
       "      <th>Total Collection Amount</th>\n",
       "      <th>Total Current Balance</th>\n",
       "      <th>Total Revolving Credit Limit</th>\n",
       "    </tr>\n",
       "  </thead>\n",
       "  <tbody>\n",
       "    <tr>\n",
       "      <th>0</th>\n",
       "      <td>1.305072</td>\n",
       "      <td>-0.502150</td>\n",
       "      <td>1.532272</td>\n",
       "      <td>-0.058215</td>\n",
       "      <td>0.0</td>\n",
       "      <td>-0.157895</td>\n",
       "      <td>-0.049565</td>\n",
       "      <td>-0.666667</td>\n",
       "      <td>0.181818</td>\n",
       "      <td>0.0</td>\n",
       "      <td>...</td>\n",
       "      <td>1.155358</td>\n",
       "      <td>-0.221301</td>\n",
       "      <td>0.022855</td>\n",
       "      <td>0.0</td>\n",
       "      <td>0.0</td>\n",
       "      <td>-0.271429</td>\n",
       "      <td>0.0</td>\n",
       "      <td>-0.227273</td>\n",
       "      <td>1.083912</td>\n",
       "      <td>-0.421575</td>\n",
       "    </tr>\n",
       "    <tr>\n",
       "      <th>1</th>\n",
       "      <td>-0.455541</td>\n",
       "      <td>-1.030594</td>\n",
       "      <td>-0.087973</td>\n",
       "      <td>-0.075438</td>\n",
       "      <td>0.0</td>\n",
       "      <td>-0.789474</td>\n",
       "      <td>0.175612</td>\n",
       "      <td>0.000000</td>\n",
       "      <td>0.545455</td>\n",
       "      <td>1.0</td>\n",
       "      <td>...</td>\n",
       "      <td>-0.142138</td>\n",
       "      <td>-0.252963</td>\n",
       "      <td>0.327576</td>\n",
       "      <td>0.0</td>\n",
       "      <td>0.0</td>\n",
       "      <td>0.585714</td>\n",
       "      <td>0.0</td>\n",
       "      <td>0.772727</td>\n",
       "      <td>0.360913</td>\n",
       "      <td>0.173065</td>\n",
       "    </tr>\n",
       "    <tr>\n",
       "      <th>2</th>\n",
       "      <td>-0.441184</td>\n",
       "      <td>1.009013</td>\n",
       "      <td>-0.297849</td>\n",
       "      <td>1.104519</td>\n",
       "      <td>0.0</td>\n",
       "      <td>-0.421053</td>\n",
       "      <td>0.238582</td>\n",
       "      <td>1.000000</td>\n",
       "      <td>0.636364</td>\n",
       "      <td>0.0</td>\n",
       "      <td>...</td>\n",
       "      <td>369.021540</td>\n",
       "      <td>0.254126</td>\n",
       "      <td>0.403722</td>\n",
       "      <td>0.0</td>\n",
       "      <td>0.0</td>\n",
       "      <td>-0.028571</td>\n",
       "      <td>0.0</td>\n",
       "      <td>-0.090909</td>\n",
       "      <td>-0.160498</td>\n",
       "      <td>0.392731</td>\n",
       "    </tr>\n",
       "    <tr>\n",
       "      <th>3</th>\n",
       "      <td>-0.311640</td>\n",
       "      <td>-0.405408</td>\n",
       "      <td>-0.486010</td>\n",
       "      <td>0.637354</td>\n",
       "      <td>0.0</td>\n",
       "      <td>-0.210526</td>\n",
       "      <td>1.093358</td>\n",
       "      <td>0.000000</td>\n",
       "      <td>0.090909</td>\n",
       "      <td>0.0</td>\n",
       "      <td>...</td>\n",
       "      <td>0.014454</td>\n",
       "      <td>-0.846648</td>\n",
       "      <td>-0.050764</td>\n",
       "      <td>0.0</td>\n",
       "      <td>0.0</td>\n",
       "      <td>-0.414286</td>\n",
       "      <td>0.0</td>\n",
       "      <td>0.181818</td>\n",
       "      <td>-0.613385</td>\n",
       "      <td>1.812388</td>\n",
       "    </tr>\n",
       "    <tr>\n",
       "      <th>4</th>\n",
       "      <td>-0.098519</td>\n",
       "      <td>0.067554</td>\n",
       "      <td>0.014689</td>\n",
       "      <td>0.093562</td>\n",
       "      <td>0.0</td>\n",
       "      <td>0.684211</td>\n",
       "      <td>0.741486</td>\n",
       "      <td>0.000000</td>\n",
       "      <td>0.636364</td>\n",
       "      <td>0.0</td>\n",
       "      <td>...</td>\n",
       "      <td>379.421091</td>\n",
       "      <td>337.736628</td>\n",
       "      <td>-0.691879</td>\n",
       "      <td>0.0</td>\n",
       "      <td>0.0</td>\n",
       "      <td>-0.714286</td>\n",
       "      <td>0.0</td>\n",
       "      <td>17.909091</td>\n",
       "      <td>0.043035</td>\n",
       "      <td>0.243675</td>\n",
       "    </tr>\n",
       "    <tr>\n",
       "      <th>...</th>\n",
       "      <td>...</td>\n",
       "      <td>...</td>\n",
       "      <td>...</td>\n",
       "      <td>...</td>\n",
       "      <td>...</td>\n",
       "      <td>...</td>\n",
       "      <td>...</td>\n",
       "      <td>...</td>\n",
       "      <td>...</td>\n",
       "      <td>...</td>\n",
       "      <td>...</td>\n",
       "      <td>...</td>\n",
       "      <td>...</td>\n",
       "      <td>...</td>\n",
       "      <td>...</td>\n",
       "      <td>...</td>\n",
       "      <td>...</td>\n",
       "      <td>...</td>\n",
       "      <td>...</td>\n",
       "      <td>...</td>\n",
       "      <td>...</td>\n",
       "    </tr>\n",
       "    <tr>\n",
       "      <th>67458</th>\n",
       "      <td>-0.048436</td>\n",
       "      <td>-0.204399</td>\n",
       "      <td>-0.494472</td>\n",
       "      <td>0.047845</td>\n",
       "      <td>0.0</td>\n",
       "      <td>0.105263</td>\n",
       "      <td>-0.402100</td>\n",
       "      <td>0.000000</td>\n",
       "      <td>-0.727273</td>\n",
       "      <td>0.0</td>\n",
       "      <td>...</td>\n",
       "      <td>-0.392353</td>\n",
       "      <td>146.779196</td>\n",
       "      <td>0.143174</td>\n",
       "      <td>0.0</td>\n",
       "      <td>0.0</td>\n",
       "      <td>0.014286</td>\n",
       "      <td>0.0</td>\n",
       "      <td>0.545455</td>\n",
       "      <td>0.356221</td>\n",
       "      <td>0.732275</td>\n",
       "    </tr>\n",
       "    <tr>\n",
       "      <th>67459</th>\n",
       "      <td>0.477718</td>\n",
       "      <td>-0.640814</td>\n",
       "      <td>-0.159342</td>\n",
       "      <td>0.356546</td>\n",
       "      <td>0.0</td>\n",
       "      <td>-0.631579</td>\n",
       "      <td>-0.287067</td>\n",
       "      <td>0.000000</td>\n",
       "      <td>-0.363636</td>\n",
       "      <td>1.0</td>\n",
       "      <td>...</td>\n",
       "      <td>-0.321111</td>\n",
       "      <td>-0.347558</td>\n",
       "      <td>1.048664</td>\n",
       "      <td>0.0</td>\n",
       "      <td>0.0</td>\n",
       "      <td>-0.771429</td>\n",
       "      <td>0.0</td>\n",
       "      <td>0.045455</td>\n",
       "      <td>-0.537523</td>\n",
       "      <td>-0.334250</td>\n",
       "    </tr>\n",
       "    <tr>\n",
       "      <th>67460</th>\n",
       "      <td>-0.040939</td>\n",
       "      <td>-0.014553</td>\n",
       "      <td>1.586956</td>\n",
       "      <td>-0.058203</td>\n",
       "      <td>0.0</td>\n",
       "      <td>-0.736842</td>\n",
       "      <td>1.689664</td>\n",
       "      <td>-0.333333</td>\n",
       "      <td>1.454545</td>\n",
       "      <td>0.0</td>\n",
       "      <td>...</td>\n",
       "      <td>-0.299113</td>\n",
       "      <td>0.608949</td>\n",
       "      <td>1.391458</td>\n",
       "      <td>0.0</td>\n",
       "      <td>0.0</td>\n",
       "      <td>0.985714</td>\n",
       "      <td>0.0</td>\n",
       "      <td>-0.863636</td>\n",
       "      <td>0.328592</td>\n",
       "      <td>1.066942</td>\n",
       "    </tr>\n",
       "    <tr>\n",
       "      <th>67461</th>\n",
       "      <td>-0.349021</td>\n",
       "      <td>0.040847</td>\n",
       "      <td>-0.643995</td>\n",
       "      <td>1.073232</td>\n",
       "      <td>0.0</td>\n",
       "      <td>-0.263158</td>\n",
       "      <td>0.365861</td>\n",
       "      <td>0.666667</td>\n",
       "      <td>1.000000</td>\n",
       "      <td>2.0</td>\n",
       "      <td>...</td>\n",
       "      <td>0.612777</td>\n",
       "      <td>-0.571946</td>\n",
       "      <td>-0.963363</td>\n",
       "      <td>0.0</td>\n",
       "      <td>0.0</td>\n",
       "      <td>0.071429</td>\n",
       "      <td>0.0</td>\n",
       "      <td>1.136364</td>\n",
       "      <td>1.365031</td>\n",
       "      <td>0.931266</td>\n",
       "    </tr>\n",
       "    <tr>\n",
       "      <th>67462</th>\n",
       "      <td>1.314916</td>\n",
       "      <td>-0.059534</td>\n",
       "      <td>1.343791</td>\n",
       "      <td>0.177255</td>\n",
       "      <td>0.0</td>\n",
       "      <td>-0.578947</td>\n",
       "      <td>0.951096</td>\n",
       "      <td>-0.666667</td>\n",
       "      <td>0.363636</td>\n",
       "      <td>0.0</td>\n",
       "      <td>...</td>\n",
       "      <td>-0.841578</td>\n",
       "      <td>-0.389142</td>\n",
       "      <td>-0.696198</td>\n",
       "      <td>0.0</td>\n",
       "      <td>0.0</td>\n",
       "      <td>-0.200000</td>\n",
       "      <td>0.0</td>\n",
       "      <td>0.500000</td>\n",
       "      <td>0.441532</td>\n",
       "      <td>2.056063</td>\n",
       "    </tr>\n",
       "  </tbody>\n",
       "</table>\n",
       "<p>67463 rows × 34 columns</p>\n",
       "</div>"
      ],
      "text/plain": [
       "             ID  Loan Amount  Funded Amount  Funded Amount Investor  Term  \\\n",
       "0      1.305072    -0.502150       1.532272               -0.058215   0.0   \n",
       "1     -0.455541    -1.030594      -0.087973               -0.075438   0.0   \n",
       "2     -0.441184     1.009013      -0.297849                1.104519   0.0   \n",
       "3     -0.311640    -0.405408      -0.486010                0.637354   0.0   \n",
       "4     -0.098519     0.067554       0.014689                0.093562   0.0   \n",
       "...         ...          ...            ...                     ...   ...   \n",
       "67458 -0.048436    -0.204399      -0.494472                0.047845   0.0   \n",
       "67459  0.477718    -0.640814      -0.159342                0.356546   0.0   \n",
       "67460 -0.040939    -0.014553       1.586956               -0.058203   0.0   \n",
       "67461 -0.349021     0.040847      -0.643995                1.073232   0.0   \n",
       "67462  1.314916    -0.059534       1.343791                0.177255   0.0   \n",
       "\n",
       "       Batch Enrolled  Interest Rate     Grade  Sub Grade  \\\n",
       "0           -0.157895      -0.049565 -0.666667   0.181818   \n",
       "1           -0.789474       0.175612  0.000000   0.545455   \n",
       "2           -0.421053       0.238582  1.000000   0.636364   \n",
       "3           -0.210526       1.093358  0.000000   0.090909   \n",
       "4            0.684211       0.741486  0.000000   0.636364   \n",
       "...               ...            ...       ...        ...   \n",
       "67458        0.105263      -0.402100  0.000000  -0.727273   \n",
       "67459       -0.631579      -0.287067  0.000000  -0.363636   \n",
       "67460       -0.736842       1.689664 -0.333333   1.454545   \n",
       "67461       -0.263158       0.365861  0.666667   1.000000   \n",
       "67462       -0.578947       0.951096 -0.666667   0.363636   \n",
       "\n",
       "       Employment Duration  ...  Total Received Late Fee  Recoveries  \\\n",
       "0                      0.0  ...                 1.155358   -0.221301   \n",
       "1                      1.0  ...                -0.142138   -0.252963   \n",
       "2                      0.0  ...               369.021540    0.254126   \n",
       "3                      0.0  ...                 0.014454   -0.846648   \n",
       "4                      0.0  ...               379.421091  337.736628   \n",
       "...                    ...  ...                      ...         ...   \n",
       "67458                  0.0  ...                -0.392353  146.779196   \n",
       "67459                  1.0  ...                -0.321111   -0.347558   \n",
       "67460                  0.0  ...                -0.299113    0.608949   \n",
       "67461                  2.0  ...                 0.612777   -0.571946   \n",
       "67462                  0.0  ...                -0.841578   -0.389142   \n",
       "\n",
       "       Collection Recovery Fee  Collection 12 months Medical  \\\n",
       "0                     0.022855                           0.0   \n",
       "1                     0.327576                           0.0   \n",
       "2                     0.403722                           0.0   \n",
       "3                    -0.050764                           0.0   \n",
       "4                    -0.691879                           0.0   \n",
       "...                        ...                           ...   \n",
       "67458                 0.143174                           0.0   \n",
       "67459                 1.048664                           0.0   \n",
       "67460                 1.391458                           0.0   \n",
       "67461                -0.963363                           0.0   \n",
       "67462                -0.696198                           0.0   \n",
       "\n",
       "       Application Type  Last week Pay  Accounts Delinquent  \\\n",
       "0                   0.0      -0.271429                  0.0   \n",
       "1                   0.0       0.585714                  0.0   \n",
       "2                   0.0      -0.028571                  0.0   \n",
       "3                   0.0      -0.414286                  0.0   \n",
       "4                   0.0      -0.714286                  0.0   \n",
       "...                 ...            ...                  ...   \n",
       "67458               0.0       0.014286                  0.0   \n",
       "67459               0.0      -0.771429                  0.0   \n",
       "67460               0.0       0.985714                  0.0   \n",
       "67461               0.0       0.071429                  0.0   \n",
       "67462               0.0      -0.200000                  0.0   \n",
       "\n",
       "       Total Collection Amount  Total Current Balance  \\\n",
       "0                    -0.227273               1.083912   \n",
       "1                     0.772727               0.360913   \n",
       "2                    -0.090909              -0.160498   \n",
       "3                     0.181818              -0.613385   \n",
       "4                    17.909091               0.043035   \n",
       "...                        ...                    ...   \n",
       "67458                 0.545455               0.356221   \n",
       "67459                 0.045455              -0.537523   \n",
       "67460                -0.863636               0.328592   \n",
       "67461                 1.136364               1.365031   \n",
       "67462                 0.500000               0.441532   \n",
       "\n",
       "       Total Revolving Credit Limit  \n",
       "0                         -0.421575  \n",
       "1                          0.173065  \n",
       "2                          0.392731  \n",
       "3                          1.812388  \n",
       "4                          0.243675  \n",
       "...                             ...  \n",
       "67458                      0.732275  \n",
       "67459                     -0.334250  \n",
       "67460                      1.066942  \n",
       "67461                      0.931266  \n",
       "67462                      2.056063  \n",
       "\n",
       "[67463 rows x 34 columns]"
      ]
     },
     "execution_count": 190,
     "metadata": {},
     "output_type": "execute_result"
    }
   ],
   "source": [
    "X_train"
   ]
  },
  {
   "cell_type": "code",
   "execution_count": 191,
   "metadata": {},
   "outputs": [
    {
     "data": {
      "text/html": [
       "<div>\n",
       "<style scoped>\n",
       "    .dataframe tbody tr th:only-of-type {\n",
       "        vertical-align: middle;\n",
       "    }\n",
       "\n",
       "    .dataframe tbody tr th {\n",
       "        vertical-align: top;\n",
       "    }\n",
       "\n",
       "    .dataframe thead th {\n",
       "        text-align: right;\n",
       "    }\n",
       "</style>\n",
       "<table border=\"1\" class=\"dataframe\">\n",
       "  <thead>\n",
       "    <tr style=\"text-align: right;\">\n",
       "      <th></th>\n",
       "      <th>ID</th>\n",
       "      <th>Loan Amount</th>\n",
       "      <th>Funded Amount</th>\n",
       "      <th>Funded Amount Investor</th>\n",
       "      <th>Term</th>\n",
       "      <th>Batch Enrolled</th>\n",
       "      <th>Interest Rate</th>\n",
       "      <th>Grade</th>\n",
       "      <th>Sub Grade</th>\n",
       "      <th>Employment Duration</th>\n",
       "      <th>...</th>\n",
       "      <th>Total Received Late Fee</th>\n",
       "      <th>Recoveries</th>\n",
       "      <th>Collection Recovery Fee</th>\n",
       "      <th>Collection 12 months Medical</th>\n",
       "      <th>Application Type</th>\n",
       "      <th>Last week Pay</th>\n",
       "      <th>Accounts Delinquent</th>\n",
       "      <th>Total Collection Amount</th>\n",
       "      <th>Total Current Balance</th>\n",
       "      <th>Total Revolving Credit Limit</th>\n",
       "    </tr>\n",
       "  </thead>\n",
       "  <tbody>\n",
       "    <tr>\n",
       "      <th>0</th>\n",
       "      <td>0.757752</td>\n",
       "      <td>0.128000</td>\n",
       "      <td>-0.229054</td>\n",
       "      <td>0.324677</td>\n",
       "      <td>0.0</td>\n",
       "      <td>-0.055556</td>\n",
       "      <td>0.091084</td>\n",
       "      <td>-1.0</td>\n",
       "      <td>0.4</td>\n",
       "      <td>1.0</td>\n",
       "      <td>...</td>\n",
       "      <td>0.984379</td>\n",
       "      <td>1.357834</td>\n",
       "      <td>0.156121</td>\n",
       "      <td>0.0</td>\n",
       "      <td>0.0</td>\n",
       "      <td>1.136364</td>\n",
       "      <td>0.0</td>\n",
       "      <td>-0.146341</td>\n",
       "      <td>2.053319</td>\n",
       "      <td>-0.590340</td>\n",
       "    </tr>\n",
       "    <tr>\n",
       "      <th>1</th>\n",
       "      <td>-0.085027</td>\n",
       "      <td>-0.713011</td>\n",
       "      <td>-0.125232</td>\n",
       "      <td>-0.033030</td>\n",
       "      <td>0.0</td>\n",
       "      <td>0.055556</td>\n",
       "      <td>-0.982062</td>\n",
       "      <td>-0.5</td>\n",
       "      <td>1.1</td>\n",
       "      <td>0.0</td>\n",
       "      <td>...</td>\n",
       "      <td>0.218608</td>\n",
       "      <td>0.865713</td>\n",
       "      <td>0.424009</td>\n",
       "      <td>0.0</td>\n",
       "      <td>0.0</td>\n",
       "      <td>-0.060606</td>\n",
       "      <td>0.0</td>\n",
       "      <td>-0.707317</td>\n",
       "      <td>-0.206781</td>\n",
       "      <td>-0.663338</td>\n",
       "    </tr>\n",
       "    <tr>\n",
       "      <th>2</th>\n",
       "      <td>-0.399743</td>\n",
       "      <td>0.816084</td>\n",
       "      <td>1.020037</td>\n",
       "      <td>-0.137376</td>\n",
       "      <td>0.0</td>\n",
       "      <td>-0.777778</td>\n",
       "      <td>0.582843</td>\n",
       "      <td>-1.0</td>\n",
       "      <td>0.1</td>\n",
       "      <td>0.0</td>\n",
       "      <td>...</td>\n",
       "      <td>-0.100368</td>\n",
       "      <td>0.767684</td>\n",
       "      <td>-0.305764</td>\n",
       "      <td>0.0</td>\n",
       "      <td>0.0</td>\n",
       "      <td>-0.863636</td>\n",
       "      <td>0.0</td>\n",
       "      <td>-0.097561</td>\n",
       "      <td>0.984382</td>\n",
       "      <td>0.033748</td>\n",
       "    </tr>\n",
       "    <tr>\n",
       "      <th>3</th>\n",
       "      <td>-0.393894</td>\n",
       "      <td>1.278400</td>\n",
       "      <td>-0.285691</td>\n",
       "      <td>0.256556</td>\n",
       "      <td>0.0</td>\n",
       "      <td>0.722222</td>\n",
       "      <td>-0.223245</td>\n",
       "      <td>-1.0</td>\n",
       "      <td>-1.0</td>\n",
       "      <td>1.0</td>\n",
       "      <td>...</td>\n",
       "      <td>1.055846</td>\n",
       "      <td>0.065893</td>\n",
       "      <td>0.389379</td>\n",
       "      <td>0.0</td>\n",
       "      <td>0.0</td>\n",
       "      <td>-0.590909</td>\n",
       "      <td>0.0</td>\n",
       "      <td>0.048780</td>\n",
       "      <td>-0.383818</td>\n",
       "      <td>-0.473691</td>\n",
       "    </tr>\n",
       "    <tr>\n",
       "      <th>4</th>\n",
       "      <td>0.541270</td>\n",
       "      <td>-0.566063</td>\n",
       "      <td>-0.305486</td>\n",
       "      <td>-0.603712</td>\n",
       "      <td>-1.0</td>\n",
       "      <td>0.555556</td>\n",
       "      <td>-0.324196</td>\n",
       "      <td>0.0</td>\n",
       "      <td>-0.4</td>\n",
       "      <td>0.5</td>\n",
       "      <td>...</td>\n",
       "      <td>-0.286779</td>\n",
       "      <td>-0.008259</td>\n",
       "      <td>-0.181900</td>\n",
       "      <td>0.0</td>\n",
       "      <td>0.0</td>\n",
       "      <td>0.666667</td>\n",
       "      <td>0.0</td>\n",
       "      <td>0.073171</td>\n",
       "      <td>-0.103525</td>\n",
       "      <td>0.297412</td>\n",
       "    </tr>\n",
       "    <tr>\n",
       "      <th>...</th>\n",
       "      <td>...</td>\n",
       "      <td>...</td>\n",
       "      <td>...</td>\n",
       "      <td>...</td>\n",
       "      <td>...</td>\n",
       "      <td>...</td>\n",
       "      <td>...</td>\n",
       "      <td>...</td>\n",
       "      <td>...</td>\n",
       "      <td>...</td>\n",
       "      <td>...</td>\n",
       "      <td>...</td>\n",
       "      <td>...</td>\n",
       "      <td>...</td>\n",
       "      <td>...</td>\n",
       "      <td>...</td>\n",
       "      <td>...</td>\n",
       "      <td>...</td>\n",
       "      <td>...</td>\n",
       "      <td>...</td>\n",
       "      <td>...</td>\n",
       "    </tr>\n",
       "    <tr>\n",
       "      <th>28908</th>\n",
       "      <td>-0.358150</td>\n",
       "      <td>1.633684</td>\n",
       "      <td>1.761332</td>\n",
       "      <td>2.315550</td>\n",
       "      <td>1.0</td>\n",
       "      <td>0.944444</td>\n",
       "      <td>0.872247</td>\n",
       "      <td>0.0</td>\n",
       "      <td>0.3</td>\n",
       "      <td>0.0</td>\n",
       "      <td>...</td>\n",
       "      <td>-0.456220</td>\n",
       "      <td>-0.469809</td>\n",
       "      <td>-0.594642</td>\n",
       "      <td>0.0</td>\n",
       "      <td>0.0</td>\n",
       "      <td>0.742424</td>\n",
       "      <td>0.0</td>\n",
       "      <td>-0.731707</td>\n",
       "      <td>4.344328</td>\n",
       "      <td>3.878215</td>\n",
       "    </tr>\n",
       "    <tr>\n",
       "      <th>28909</th>\n",
       "      <td>-0.358139</td>\n",
       "      <td>0.791579</td>\n",
       "      <td>0.953381</td>\n",
       "      <td>1.266337</td>\n",
       "      <td>1.0</td>\n",
       "      <td>0.944444</td>\n",
       "      <td>0.630773</td>\n",
       "      <td>0.0</td>\n",
       "      <td>0.1</td>\n",
       "      <td>0.0</td>\n",
       "      <td>...</td>\n",
       "      <td>-0.456220</td>\n",
       "      <td>-0.469809</td>\n",
       "      <td>-0.594642</td>\n",
       "      <td>0.0</td>\n",
       "      <td>0.0</td>\n",
       "      <td>0.666667</td>\n",
       "      <td>0.0</td>\n",
       "      <td>-0.731707</td>\n",
       "      <td>2.269122</td>\n",
       "      <td>1.343061</td>\n",
       "    </tr>\n",
       "    <tr>\n",
       "      <th>28910</th>\n",
       "      <td>-0.318189</td>\n",
       "      <td>1.212632</td>\n",
       "      <td>1.357356</td>\n",
       "      <td>1.785698</td>\n",
       "      <td>1.0</td>\n",
       "      <td>-0.444444</td>\n",
       "      <td>1.255539</td>\n",
       "      <td>0.5</td>\n",
       "      <td>0.8</td>\n",
       "      <td>0.0</td>\n",
       "      <td>...</td>\n",
       "      <td>-0.456220</td>\n",
       "      <td>-0.469809</td>\n",
       "      <td>-0.594642</td>\n",
       "      <td>1.0</td>\n",
       "      <td>0.0</td>\n",
       "      <td>0.348485</td>\n",
       "      <td>0.0</td>\n",
       "      <td>-0.731707</td>\n",
       "      <td>1.048698</td>\n",
       "      <td>1.905523</td>\n",
       "    </tr>\n",
       "    <tr>\n",
       "      <th>28911</th>\n",
       "      <td>-0.299075</td>\n",
       "      <td>0.791579</td>\n",
       "      <td>0.953381</td>\n",
       "      <td>1.261091</td>\n",
       "      <td>1.0</td>\n",
       "      <td>-0.444444</td>\n",
       "      <td>0.751510</td>\n",
       "      <td>0.5</td>\n",
       "      <td>0.4</td>\n",
       "      <td>0.0</td>\n",
       "      <td>...</td>\n",
       "      <td>-0.456220</td>\n",
       "      <td>-0.469809</td>\n",
       "      <td>-0.594642</td>\n",
       "      <td>0.0</td>\n",
       "      <td>0.0</td>\n",
       "      <td>0.348485</td>\n",
       "      <td>0.0</td>\n",
       "      <td>-0.731707</td>\n",
       "      <td>1.791329</td>\n",
       "      <td>0.470838</td>\n",
       "    </tr>\n",
       "    <tr>\n",
       "      <th>28912</th>\n",
       "      <td>-0.377382</td>\n",
       "      <td>0.785263</td>\n",
       "      <td>0.947322</td>\n",
       "      <td>1.258468</td>\n",
       "      <td>1.0</td>\n",
       "      <td>-0.055556</td>\n",
       "      <td>0.500454</td>\n",
       "      <td>0.0</td>\n",
       "      <td>-0.1</td>\n",
       "      <td>0.0</td>\n",
       "      <td>...</td>\n",
       "      <td>-0.456220</td>\n",
       "      <td>-0.469809</td>\n",
       "      <td>-0.594642</td>\n",
       "      <td>0.0</td>\n",
       "      <td>0.0</td>\n",
       "      <td>0.742424</td>\n",
       "      <td>0.0</td>\n",
       "      <td>-0.731707</td>\n",
       "      <td>0.978399</td>\n",
       "      <td>1.795476</td>\n",
       "    </tr>\n",
       "  </tbody>\n",
       "</table>\n",
       "<p>28913 rows × 34 columns</p>\n",
       "</div>"
      ],
      "text/plain": [
       "             ID  Loan Amount  Funded Amount  Funded Amount Investor  Term  \\\n",
       "0      0.757752     0.128000      -0.229054                0.324677   0.0   \n",
       "1     -0.085027    -0.713011      -0.125232               -0.033030   0.0   \n",
       "2     -0.399743     0.816084       1.020037               -0.137376   0.0   \n",
       "3     -0.393894     1.278400      -0.285691                0.256556   0.0   \n",
       "4      0.541270    -0.566063      -0.305486               -0.603712  -1.0   \n",
       "...         ...          ...            ...                     ...   ...   \n",
       "28908 -0.358150     1.633684       1.761332                2.315550   1.0   \n",
       "28909 -0.358139     0.791579       0.953381                1.266337   1.0   \n",
       "28910 -0.318189     1.212632       1.357356                1.785698   1.0   \n",
       "28911 -0.299075     0.791579       0.953381                1.261091   1.0   \n",
       "28912 -0.377382     0.785263       0.947322                1.258468   1.0   \n",
       "\n",
       "       Batch Enrolled  Interest Rate  Grade  Sub Grade  Employment Duration  \\\n",
       "0           -0.055556       0.091084   -1.0        0.4                  1.0   \n",
       "1            0.055556      -0.982062   -0.5        1.1                  0.0   \n",
       "2           -0.777778       0.582843   -1.0        0.1                  0.0   \n",
       "3            0.722222      -0.223245   -1.0       -1.0                  1.0   \n",
       "4            0.555556      -0.324196    0.0       -0.4                  0.5   \n",
       "...               ...            ...    ...        ...                  ...   \n",
       "28908        0.944444       0.872247    0.0        0.3                  0.0   \n",
       "28909        0.944444       0.630773    0.0        0.1                  0.0   \n",
       "28910       -0.444444       1.255539    0.5        0.8                  0.0   \n",
       "28911       -0.444444       0.751510    0.5        0.4                  0.0   \n",
       "28912       -0.055556       0.500454    0.0       -0.1                  0.0   \n",
       "\n",
       "       ...  Total Received Late Fee  Recoveries  Collection Recovery Fee  \\\n",
       "0      ...                 0.984379    1.357834                 0.156121   \n",
       "1      ...                 0.218608    0.865713                 0.424009   \n",
       "2      ...                -0.100368    0.767684                -0.305764   \n",
       "3      ...                 1.055846    0.065893                 0.389379   \n",
       "4      ...                -0.286779   -0.008259                -0.181900   \n",
       "...    ...                      ...         ...                      ...   \n",
       "28908  ...                -0.456220   -0.469809                -0.594642   \n",
       "28909  ...                -0.456220   -0.469809                -0.594642   \n",
       "28910  ...                -0.456220   -0.469809                -0.594642   \n",
       "28911  ...                -0.456220   -0.469809                -0.594642   \n",
       "28912  ...                -0.456220   -0.469809                -0.594642   \n",
       "\n",
       "       Collection 12 months Medical  Application Type  Last week Pay  \\\n",
       "0                               0.0               0.0       1.136364   \n",
       "1                               0.0               0.0      -0.060606   \n",
       "2                               0.0               0.0      -0.863636   \n",
       "3                               0.0               0.0      -0.590909   \n",
       "4                               0.0               0.0       0.666667   \n",
       "...                             ...               ...            ...   \n",
       "28908                           0.0               0.0       0.742424   \n",
       "28909                           0.0               0.0       0.666667   \n",
       "28910                           1.0               0.0       0.348485   \n",
       "28911                           0.0               0.0       0.348485   \n",
       "28912                           0.0               0.0       0.742424   \n",
       "\n",
       "       Accounts Delinquent  Total Collection Amount  Total Current Balance  \\\n",
       "0                      0.0                -0.146341               2.053319   \n",
       "1                      0.0                -0.707317              -0.206781   \n",
       "2                      0.0                -0.097561               0.984382   \n",
       "3                      0.0                 0.048780              -0.383818   \n",
       "4                      0.0                 0.073171              -0.103525   \n",
       "...                    ...                      ...                    ...   \n",
       "28908                  0.0                -0.731707               4.344328   \n",
       "28909                  0.0                -0.731707               2.269122   \n",
       "28910                  0.0                -0.731707               1.048698   \n",
       "28911                  0.0                -0.731707               1.791329   \n",
       "28912                  0.0                -0.731707               0.978399   \n",
       "\n",
       "       Total Revolving Credit Limit  \n",
       "0                         -0.590340  \n",
       "1                         -0.663338  \n",
       "2                          0.033748  \n",
       "3                         -0.473691  \n",
       "4                          0.297412  \n",
       "...                             ...  \n",
       "28908                      3.878215  \n",
       "28909                      1.343061  \n",
       "28910                      1.905523  \n",
       "28911                      0.470838  \n",
       "28912                      1.795476  \n",
       "\n",
       "[28913 rows x 34 columns]"
      ]
     },
     "execution_count": 191,
     "metadata": {},
     "output_type": "execute_result"
    }
   ],
   "source": [
    "X_test"
   ]
  },
  {
   "cell_type": "code",
   "execution_count": 192,
   "metadata": {},
   "outputs": [
    {
     "data": {
      "image/png": "[encoded data removed]",
      "text/plain": [
       "<Figure size 1800x1080 with 2 Axes>"
      ]
     },
     "metadata": {
      "needs_background": "light"
     },
     "output_type": "display_data"
    }
   ],
   "source": [
    "plt.figure(figsize=(25,15))\n",
    "sns.heatmap(X_train.corr(), vmin=0.0, vmax=0.05)\n",
    "plt.show()"
   ]
  },
  {
   "cell_type": "markdown",
   "metadata": {},
   "source": [
    " \n",
    "    1 Funded Amount & Funded Amount Investor are correlated.\n",
    "    2.Grade & Sub Grade/ Employment Duration are correlated.\n",
    "    3.Total Accounts & Initial List Status are correlated.\n",
    "    4.Grade, Term, Employment Duration and Total Revolving Credit Limit are some of the influential features"
   ]
  },
  {
   "cell_type": "code",
   "execution_count": 193,
   "metadata": {},
   "outputs": [
    {
     "name": "stdout",
     "output_type": "stream",
     "text": [
      "(67463, 34)\n"
     ]
    }
   ],
   "source": [
    "print(X_train.shape)"
   ]
  },
  {
   "cell_type": "markdown",
   "metadata": {},
   "source": [
    "# Perform outlier removal (manual)"
   ]
  },
  {
   "cell_type": "code",
   "execution_count": 194,
   "metadata": {},
   "outputs": [],
   "source": [
    "# feature set : Term , Funded Amount Investor, \n",
    "# Grade, Employment Duration, Verification Status, \n",
    "# Initial List Status, Total Revolving Credit Limit\n",
    "\n",
    "# plt.figure(figsize=(4,4))\n",
    "# plt.boxplot( x=X_train['Term'], showmeans=True, meanline=True )\n",
    "\n",
    "# plt.figure(figsize=(4,4))\n",
    "# plt.boxplot( x=X_train['Funded Amount Investor'], showmeans=True, meanline=True )\n",
    "\n",
    "# percentile25 = X_train['Funded Amount Investor'].quantile(0.25)\n",
    "# percentile75 = X_train['Funded Amount Investor'].quantile(0.75)\n",
    "# iqr = percentile75 - percentile25\n",
    "\n",
    "\n",
    "# upper_limit = percentile75 + 1.5 * iqr\n",
    "# lower_limit = percentile25 - 1.5 * iqr\n",
    "\n",
    "\n",
    "# y_train = y_train.drop( X_train[ (X_train['Funded Amount Investor']>upper_limit) | (X_train['Funded Amount Investor']<lower_limit) ].index )\n",
    "# X_train = X_train.drop( X_train[ (X_train['Funded Amount Investor']>upper_limit) | (X_train['Funded Amount Investor']<lower_limit) ].index )\n",
    "\n",
    "# print(X_train.shape)\n",
    "# print(y_train.shape)\n",
    "# plt.figure(figsize=(4,4))\n",
    "# plt.boxplot( x=X_train['Funded Amount Investor'], showmeans=True, meanline=True )\n",
    "\n",
    "# plt.figure(figsize=(4,4))\n",
    "# plt.boxplot( x=X_train['Grade'], showmeans=True, meanline=True )\n",
    "\n",
    "# plt.figure(figsize=(4,4))\n",
    "# plt.boxplot( x=X_train['Employment Duration'], showmeans=True, meanline=True )\n",
    "\n",
    "# plt.figure(figsize=(4,4))\n",
    "# plt.boxplot( x=X_train['Verification Status'], showmeans=True, meanline=True )\n",
    "\n",
    "# plt.figure(figsize=(4,4))\n",
    "# plt.boxplot( x=X_train['Initial List Status'], showmeans=True, meanline=True )\n",
    "\n",
    "# plt.figure(figsize=(4,4))\n",
    "# plt.boxplot( x=X_train['Total Revolving Credit Limit'], showmeans=True, meanline=True )\n",
    "\n",
    "# percentile25 = X_train['Total Revolving Credit Limit'].quantile(0.25)\n",
    "# percentile75 = X_train['Total Revolving Credit Limit'].quantile(0.75)\n",
    "# iqr = percentile75 - percentile25\n",
    "\n",
    "\n",
    "# upper_limit = percentile75 + 1.5 * iqr\n",
    "# lower_limit = percentile25 - 1.5 * iqr\n",
    "\n",
    "\n",
    "\n",
    "# y_train = y_train.drop( X_train[ (X_train['Total Revolving Credit Limit']>upper_limit) | (X_train['Total Revolving Credit Limit']<lower_limit) ].index )\n",
    "# X_train = X_train.drop( X_train[ (X_train['Total Revolving Credit Limit']>upper_limit) | (X_train['Total Revolving Credit Limit']<lower_limit) ].index )\n",
    "\n",
    "# print(X_train.shape)\n",
    "# print(y_train.shape)\n",
    "# plt.figure(figsize=(4,4))\n",
    "# plt.boxplot( x=X_train['Total Revolving Credit Limit'], showmeans=True, meanline=True )"
   ]
  },
  {
   "cell_type": "markdown",
   "metadata": {},
   "source": [
    "Using Isolation Forest for outlier removal showed improved performance compared to manual outlier removal method."
   ]
  },
  {
   "cell_type": "code",
   "execution_count": 195,
   "metadata": {},
   "outputs": [
    {
     "name": "stdout",
     "output_type": "stream",
     "text": [
      "(60716, 34) (60716,)\n"
     ]
    }
   ],
   "source": [
    "from sklearn.ensemble import IsolationForest\n",
    "\n",
    "iso = IsolationForest(contamination=0.1)\n",
    "yhat = iso.fit_predict(X_train)\n",
    "\n",
    "mask = yhat != -1\n",
    "\n",
    "X_train = X_train[mask]\n",
    "y_train = y_train[mask]\n",
    "\n",
    "print(X_train.shape, y_train.shape)"
   ]
  },
  {
   "cell_type": "code",
   "execution_count": 196,
   "metadata": {},
   "outputs": [
    {
     "data": {
      "image/png": "[encoded data removed]",
      "text/plain": [
       "<Figure size 1800x1080 with 2 Axes>"
      ]
     },
     "metadata": {
      "needs_background": "light"
     },
     "output_type": "display_data"
    }
   ],
   "source": [
    "plt.figure(figsize=(25,15))\n",
    "sns.heatmap(X_train.corr(), vmin=0.0, vmax=0.05)\n",
    "plt.show()"
   ]
  },
  {
   "cell_type": "markdown",
   "metadata": {},
   "source": [
    "Looking for traces of multi-collinearity"
   ]
  },
  {
   "cell_type": "code",
   "execution_count": 197,
   "metadata": {},
   "outputs": [
    {
     "data": {
      "text/html": [
       "<div>\n",
       "<style scoped>\n",
       "    .dataframe tbody tr th:only-of-type {\n",
       "        vertical-align: middle;\n",
       "    }\n",
       "\n",
       "    .dataframe tbody tr th {\n",
       "        vertical-align: top;\n",
       "    }\n",
       "\n",
       "    .dataframe thead th {\n",
       "        text-align: right;\n",
       "    }\n",
       "</style>\n",
       "<table border=\"1\" class=\"dataframe\">\n",
       "  <thead>\n",
       "    <tr style=\"text-align: right;\">\n",
       "      <th></th>\n",
       "      <th>variables</th>\n",
       "      <th>VIF</th>\n",
       "    </tr>\n",
       "  </thead>\n",
       "  <tbody>\n",
       "    <tr>\n",
       "      <th>0</th>\n",
       "      <td>ID</td>\n",
       "      <td>1.088144</td>\n",
       "    </tr>\n",
       "    <tr>\n",
       "      <th>1</th>\n",
       "      <td>Loan Amount</td>\n",
       "      <td>1.007191</td>\n",
       "    </tr>\n",
       "    <tr>\n",
       "      <th>2</th>\n",
       "      <td>Funded Amount</td>\n",
       "      <td>1.076630</td>\n",
       "    </tr>\n",
       "    <tr>\n",
       "      <th>3</th>\n",
       "      <td>Funded Amount Investor</td>\n",
       "      <td>1.046923</td>\n",
       "    </tr>\n",
       "    <tr>\n",
       "      <th>4</th>\n",
       "      <td>Term</td>\n",
       "      <td>1.041490</td>\n",
       "    </tr>\n",
       "    <tr>\n",
       "      <th>5</th>\n",
       "      <td>Batch Enrolled</td>\n",
       "      <td>1.001588</td>\n",
       "    </tr>\n",
       "    <tr>\n",
       "      <th>6</th>\n",
       "      <td>Interest Rate</td>\n",
       "      <td>1.011297</td>\n",
       "    </tr>\n",
       "    <tr>\n",
       "      <th>7</th>\n",
       "      <td>Grade</td>\n",
       "      <td>1.027318</td>\n",
       "    </tr>\n",
       "    <tr>\n",
       "      <th>8</th>\n",
       "      <td>Sub Grade</td>\n",
       "      <td>1.011749</td>\n",
       "    </tr>\n",
       "    <tr>\n",
       "      <th>9</th>\n",
       "      <td>Employment Duration</td>\n",
       "      <td>1.471792</td>\n",
       "    </tr>\n",
       "    <tr>\n",
       "      <th>10</th>\n",
       "      <td>Home Ownership</td>\n",
       "      <td>1.036056</td>\n",
       "    </tr>\n",
       "    <tr>\n",
       "      <th>11</th>\n",
       "      <td>Verification Status</td>\n",
       "      <td>1.068266</td>\n",
       "    </tr>\n",
       "    <tr>\n",
       "      <th>12</th>\n",
       "      <td>Payment Plan</td>\n",
       "      <td>NaN</td>\n",
       "    </tr>\n",
       "    <tr>\n",
       "      <th>13</th>\n",
       "      <td>Loan Title</td>\n",
       "      <td>1.057812</td>\n",
       "    </tr>\n",
       "    <tr>\n",
       "      <th>14</th>\n",
       "      <td>Debit to Income</td>\n",
       "      <td>1.004749</td>\n",
       "    </tr>\n",
       "    <tr>\n",
       "      <th>15</th>\n",
       "      <td>Delinquency - two years</td>\n",
       "      <td>1.111837</td>\n",
       "    </tr>\n",
       "    <tr>\n",
       "      <th>16</th>\n",
       "      <td>Inquires - six months</td>\n",
       "      <td>1.050585</td>\n",
       "    </tr>\n",
       "    <tr>\n",
       "      <th>17</th>\n",
       "      <td>Open Account</td>\n",
       "      <td>1.025344</td>\n",
       "    </tr>\n",
       "    <tr>\n",
       "      <th>18</th>\n",
       "      <td>Public Record</td>\n",
       "      <td>1.029960</td>\n",
       "    </tr>\n",
       "    <tr>\n",
       "      <th>19</th>\n",
       "      <td>Revolving Balance</td>\n",
       "      <td>1.046747</td>\n",
       "    </tr>\n",
       "    <tr>\n",
       "      <th>20</th>\n",
       "      <td>Revolving Utilities</td>\n",
       "      <td>1.004806</td>\n",
       "    </tr>\n",
       "    <tr>\n",
       "      <th>21</th>\n",
       "      <td>Total Accounts</td>\n",
       "      <td>1.008724</td>\n",
       "    </tr>\n",
       "    <tr>\n",
       "      <th>22</th>\n",
       "      <td>Initial List Status</td>\n",
       "      <td>1.519481</td>\n",
       "    </tr>\n",
       "    <tr>\n",
       "      <th>23</th>\n",
       "      <td>Total Received Interest</td>\n",
       "      <td>1.075410</td>\n",
       "    </tr>\n",
       "    <tr>\n",
       "      <th>24</th>\n",
       "      <td>Total Received Late Fee</td>\n",
       "      <td>1.019150</td>\n",
       "    </tr>\n",
       "    <tr>\n",
       "      <th>25</th>\n",
       "      <td>Recoveries</td>\n",
       "      <td>1.009900</td>\n",
       "    </tr>\n",
       "    <tr>\n",
       "      <th>26</th>\n",
       "      <td>Collection Recovery Fee</td>\n",
       "      <td>1.004847</td>\n",
       "    </tr>\n",
       "    <tr>\n",
       "      <th>27</th>\n",
       "      <td>Collection 12 months Medical</td>\n",
       "      <td>1.006551</td>\n",
       "    </tr>\n",
       "    <tr>\n",
       "      <th>28</th>\n",
       "      <td>Application Type</td>\n",
       "      <td>1.001671</td>\n",
       "    </tr>\n",
       "    <tr>\n",
       "      <th>29</th>\n",
       "      <td>Last week Pay</td>\n",
       "      <td>1.004920</td>\n",
       "    </tr>\n",
       "    <tr>\n",
       "      <th>30</th>\n",
       "      <td>Accounts Delinquent</td>\n",
       "      <td>NaN</td>\n",
       "    </tr>\n",
       "    <tr>\n",
       "      <th>31</th>\n",
       "      <td>Total Collection Amount</td>\n",
       "      <td>1.015125</td>\n",
       "    </tr>\n",
       "    <tr>\n",
       "      <th>32</th>\n",
       "      <td>Total Current Balance</td>\n",
       "      <td>1.062590</td>\n",
       "    </tr>\n",
       "    <tr>\n",
       "      <th>33</th>\n",
       "      <td>Total Revolving Credit Limit</td>\n",
       "      <td>1.062425</td>\n",
       "    </tr>\n",
       "  </tbody>\n",
       "</table>\n",
       "</div>"
      ],
      "text/plain": [
       "                       variables       VIF\n",
       "0                             ID  1.088144\n",
       "1                    Loan Amount  1.007191\n",
       "2                  Funded Amount  1.076630\n",
       "3         Funded Amount Investor  1.046923\n",
       "4                           Term  1.041490\n",
       "5                 Batch Enrolled  1.001588\n",
       "6                  Interest Rate  1.011297\n",
       "7                          Grade  1.027318\n",
       "8                      Sub Grade  1.011749\n",
       "9            Employment Duration  1.471792\n",
       "10                Home Ownership  1.036056\n",
       "11           Verification Status  1.068266\n",
       "12                  Payment Plan       NaN\n",
       "13                    Loan Title  1.057812\n",
       "14               Debit to Income  1.004749\n",
       "15       Delinquency - two years  1.111837\n",
       "16         Inquires - six months  1.050585\n",
       "17                  Open Account  1.025344\n",
       "18                 Public Record  1.029960\n",
       "19             Revolving Balance  1.046747\n",
       "20           Revolving Utilities  1.004806\n",
       "21                Total Accounts  1.008724\n",
       "22           Initial List Status  1.519481\n",
       "23       Total Received Interest  1.075410\n",
       "24       Total Received Late Fee  1.019150\n",
       "25                    Recoveries  1.009900\n",
       "26       Collection Recovery Fee  1.004847\n",
       "27  Collection 12 months Medical  1.006551\n",
       "28              Application Type  1.001671\n",
       "29                 Last week Pay  1.004920\n",
       "30           Accounts Delinquent       NaN\n",
       "31       Total Collection Amount  1.015125\n",
       "32         Total Current Balance  1.062590\n",
       "33  Total Revolving Credit Limit  1.062425"
      ]
     },
     "execution_count": 197,
     "metadata": {},
     "output_type": "execute_result"
    }
   ],
   "source": [
    "from statsmodels.stats.outliers_influence import variance_inflation_factor\n",
    "\n",
    "def calc_vif(X):\n",
    "\n",
    "    # Calculating VIF\n",
    "    vif = pd.DataFrame()\n",
    "    vif[\"variables\"] = X.columns\n",
    "    vif[\"VIF\"] = [variance_inflation_factor(X.values, i) for i in range(X.shape[1])]\n",
    "\n",
    "    return(vif)\n",
    "\n",
    "calc_vif(X_train)"
   ]
  },
  {
   "cell_type": "markdown",
   "metadata": {},
   "source": [
    "None of the features have high VIF values"
   ]
  },
  {
   "cell_type": "markdown",
   "metadata": {},
   "source": [
    "Now, lets look at Information Gain"
   ]
  },
  {
   "cell_type": "markdown",
   "metadata": {},
   "source": [
    "I am using mutual_info_classif to realize information by each feature towards target variable"
   ]
  },
  {
   "cell_type": "code",
   "execution_count": 198,
   "metadata": {},
   "outputs": [
    {
     "data": {
      "text/plain": [
       "Initial List Status             0.004376\n",
       "Collection Recovery Fee         0.002528\n",
       "Employment Duration             0.002403\n",
       "Term                            0.002128\n",
       "Total Collection Amount         0.002017\n",
       "Verification Status             0.001294\n",
       "Loan Title                      0.001183\n",
       "Revolving Utilities             0.001065\n",
       "Recoveries                      0.001046\n",
       "Loan Amount                     0.000984\n",
       "Payment Plan                    0.000908\n",
       "Funded Amount Investor          0.000865\n",
       "Inquires - six months           0.000803\n",
       "Total Current Balance           0.000773\n",
       "Delinquency - two years         0.000617\n",
       "Home Ownership                  0.000576\n",
       "Funded Amount                   0.000340\n",
       "Total Accounts                  0.000319\n",
       "Last week Pay                   0.000226\n",
       "Debit to Income                 0.000199\n",
       "Total Received Interest         0.000171\n",
       "Public Record                   0.000161\n",
       "Grade                           0.000000\n",
       "Batch Enrolled                  0.000000\n",
       "Interest Rate                   0.000000\n",
       "Total Revolving Credit Limit    0.000000\n",
       "Sub Grade                       0.000000\n",
       "Open Account                    0.000000\n",
       "Revolving Balance               0.000000\n",
       "Total Received Late Fee         0.000000\n",
       "Collection 12 months Medical    0.000000\n",
       "Application Type                0.000000\n",
       "Accounts Delinquent             0.000000\n",
       "ID                              0.000000\n",
       "dtype: float64"
      ]
     },
     "execution_count": 198,
     "metadata": {},
     "output_type": "execute_result"
    }
   ],
   "source": [
    "from sklearn.feature_selection import SelectKBest, f_classif, chi2, mutual_info_classif\n",
    "\n",
    "mutual_info = mutual_info_classif(X_train, y_train, random_state=777)\n",
    "\n",
    "mutual_data=pd.Series(mutual_info,index=X_train.columns)\n",
    "mutual_data.sort_values(ascending=False)"
   ]
  },
  {
   "cell_type": "code",
   "execution_count": 199,
   "metadata": {},
   "outputs": [
    {
     "data": {
      "text/plain": [
       "['ID',\n",
       " 'Batch Enrolled',\n",
       " 'Interest Rate',\n",
       " 'Grade',\n",
       " 'Sub Grade',\n",
       " 'Open Account',\n",
       " 'Revolving Balance',\n",
       " 'Total Received Late Fee',\n",
       " 'Collection 12 months Medical',\n",
       " 'Application Type',\n",
       " 'Accounts Delinquent',\n",
       " 'Total Revolving Credit Limit']"
      ]
     },
     "execution_count": 199,
     "metadata": {},
     "output_type": "execute_result"
    }
   ],
   "source": [
    "cols_to_drop = mutual_data.loc[mutual_data==0.00].index\n",
    "list(cols_to_drop)"
   ]
  },
  {
   "cell_type": "code",
   "execution_count": 200,
   "metadata": {},
   "outputs": [],
   "source": [
    "X_train = X_train.drop( columns=list(cols_to_drop) )\n",
    "\n",
    "X_test = X_test.drop( columns=list(cols_to_drop) )"
   ]
  },
  {
   "cell_type": "code",
   "execution_count": 201,
   "metadata": {},
   "outputs": [
    {
     "name": "stdout",
     "output_type": "stream",
     "text": [
      "(60716, 22)\n",
      "(28913, 22)\n"
     ]
    }
   ],
   "source": [
    "print(X_train.shape)\n",
    "print(X_test.shape)"
   ]
  },
  {
   "cell_type": "code",
   "execution_count": 202,
   "metadata": {},
   "outputs": [
    {
     "name": "stdout",
     "output_type": "stream",
     "text": [
      "No Defaulters[0] 90.84 % of the dataset\n",
      "Defaulters[1] 9.16 % of the dataset\n"
     ]
    }
   ],
   "source": [
    "print('No Defaulters[0]', round(y_train.value_counts()[0]/len(y_train) * 100,2), '% of the dataset')\n",
    "print('Defaulters[1]', round(y_train.value_counts()[1]/len(y_train) * 100,2), '% of the dataset')"
   ]
  },
  {
   "cell_type": "markdown",
   "metadata": {},
   "source": [
    "Using dimensionality reduction techniques to visualize class distribution ( without sampling)"
   ]
  },
  {
   "cell_type": "code",
   "execution_count": 203,
   "metadata": {},
   "outputs": [],
   "source": [
    "# from sklearn.manifold import TSNE\n",
    "# from sklearn.decomposition import PCA, TruncatedSVD\n",
    "# import time\n",
    "\n",
    "# # New_df is from the random undersample data (fewer instances)\n",
    "# X = X_train\n",
    "# y = y_train\n",
    "\n",
    "\n",
    "# # T-SNE Implementation\n",
    "# t0 = time.time()\n",
    "# X_reduced_tsne = TSNE(n_components=2, random_state=42).fit_transform(X.values)\n",
    "# t1 = time.time()\n",
    "# print(\"T-SNE took {:.2} s\".format(t1 - t0))\n",
    "\n",
    "# # PCA Implementation\n",
    "# t0 = time.time()\n",
    "# X_reduced_pca = PCA(n_components=2, random_state=42).fit_transform(X.values)\n",
    "# t1 = time.time()\n",
    "# print(\"PCA took {:.2} s\".format(t1 - t0))\n",
    "\n",
    "# # TruncatedSVD\n",
    "# t0 = time.time()\n",
    "# X_reduced_svd = TruncatedSVD(n_components=2, algorithm='randomized', random_state=42).fit_transform(X.values)\n",
    "# t1 = time.time()\n",
    "# print(\"Truncated SVD took {:.2} s\".format(t1 - t0))"
   ]
  },
  {
   "cell_type": "code",
   "execution_count": 204,
   "metadata": {},
   "outputs": [],
   "source": [
    "# import matplotlib.patches as mpatches\n",
    "\n",
    "# f, (ax1, ax2, ax3) = plt.subplots(1, 3, figsize=(24,6))\n",
    "# # labels = ['No Fraud', 'Fraud']\n",
    "# f.suptitle('Clusters using Dimensionality Reduction to examine Loan Status Defaulters(No Sampling)', fontsize=14)\n",
    "\n",
    "\n",
    "# green_patch = mpatches.Patch(color='#00FF00', label='Default')\n",
    "# red_patch = mpatches.Patch(color='#ff0037', label='No Default')\n",
    "\n",
    "\n",
    "# # t-SNE scatter plot\n",
    "# ax1.scatter(X_reduced_tsne[:,0], X_reduced_tsne[:,1], c=(y == 0), cmap=plt.cm.prism, edgecolor='k', alpha=0.7, label='No Defaulter', linewidths=0.7)\n",
    "# ax1.scatter(X_reduced_tsne[:,0], X_reduced_tsne[:,1], c=(y == 1), cmap=plt.cm.prism, edgecolor='k', alpha=0.7, label='Defaulter', linewidths=0.7)\n",
    "# ax1.set_title('t-SNE', fontsize=14)\n",
    "\n",
    "# ax1.grid(True)\n",
    "\n",
    "# ax1.legend(handles=[green_patch, red_patch])\n",
    "\n",
    "\n",
    "# # PCA scatter plot\n",
    "# ax2.scatter(X_reduced_pca[:,0], X_reduced_pca[:,1], c=(y == 0), cmap=plt.cm.prism, edgecolor='k', alpha=0.7, label='No Defaulter', linewidths=0.7)\n",
    "# ax2.scatter(X_reduced_pca[:,0], X_reduced_pca[:,1], c=(y == 1), cmap=plt.cm.prism, edgecolor='k', alpha=0.7, label='Defaulter', linewidths=0.7)\n",
    "# ax2.set_title('PCA', fontsize=14)\n",
    "\n",
    "# ax2.grid(True)\n",
    "\n",
    "# ax2.legend(handles=[green_patch, red_patch])\n",
    "\n",
    "# # TruncatedSVD scatter plot\n",
    "# ax3.scatter(X_reduced_svd[:,0], X_reduced_svd[:,1], c=(y == 0), cmap=plt.cm.prism, edgecolor='k', alpha=0.7, label='No Defaulter', linewidths=0.7)\n",
    "# ax3.scatter(X_reduced_svd[:,0], X_reduced_svd[:,1], c=(y == 1), cmap=plt.cm.prism, edgecolor='k', alpha=0.7, label='Defaulter', linewidths=0.7)\n",
    "# ax3.set_title('Truncated SVD', fontsize=14)\n",
    "\n",
    "# ax3.grid(True)\n",
    "\n",
    "# ax3.legend(handles=[green_patch, red_patch])\n",
    "\n",
    "# plt.show()"
   ]
  },
  {
   "cell_type": "code",
   "execution_count": 205,
   "metadata": {},
   "outputs": [],
   "source": [
    "from sklearn.linear_model import LogisticRegression\n",
    "from sklearn.tree import DecisionTreeClassifier\n",
    "from sklearn.svm import SVC\n",
    "from sklearn.neighbors import KNeighborsClassifier\n",
    "from sklearn.ensemble import RandomForestClassifier\n",
    "from sklearn.ensemble import GradientBoostingClassifier\n",
    "from xgboost import XGBClassifier\n",
    "\n",
    "from sklearn.metrics import precision_score, recall_score, f1_score, roc_auc_score, accuracy_score, classification_report\n",
    "from sklearn.metrics import classification_report, confusion_matrix"
   ]
  },
  {
   "cell_type": "markdown",
   "metadata": {},
   "source": [
    "Model Performance on unsampled dataset"
   ]
  },
  {
   "cell_type": "code",
   "execution_count": 206,
   "metadata": {},
   "outputs": [],
   "source": [
    "# from sklearn.model_selection import StratifiedShuffleSplit\n",
    "# from sklearn.model_selection import StratifiedKFold\n",
    "# from sklearn.model_selection import train_test_split\n",
    "\n",
    "# skf = StratifiedShuffleSplit(n_splits=5, random_state=None)\n",
    "\n",
    "# for train_index, test_index in skf.split(X_train, y_train):\n",
    "#     print(\"Train:\", train_index, \"Test:\", test_index)\n",
    "#     original_Xtrain, original_Xtest = X_train.iloc[train_index], X_train.iloc[test_index]\n",
    "#     original_ytrain, original_ytest = y_train.iloc[train_index], y_train.iloc[test_index]\n",
    "    \n",
    "# # Turn into an array\n",
    "# original_Xtrain = original_Xtrain.values\n",
    "# original_Xtest = original_Xtest.values\n",
    "# original_ytrain = original_ytrain.values\n",
    "# original_ytest = original_ytest.values\n",
    "\n",
    "# # See if both the train and test label distribution are similarly distributed\n",
    "# train_unique_label, train_counts_label = np.unique(original_ytrain, return_counts=True)\n",
    "# test_unique_label, test_counts_label = np.unique(original_ytest, return_counts=True)\n",
    "# print('-' * 100)\n",
    "\n",
    "# print('Label Distributions: \\n')\n",
    "# print(train_counts_label/ len(original_ytrain))\n",
    "# print(test_counts_label/ len(original_ytest))"
   ]
  },
  {
   "cell_type": "code",
   "execution_count": 207,
   "metadata": {},
   "outputs": [],
   "source": [
    "# print(original_Xtrain.shape)\n",
    "# print(original_Xtest.shape)\n",
    "# print(original_ytrain.shape)\n",
    "# print(original_ytest.shape)"
   ]
  },
  {
   "cell_type": "code",
   "execution_count": 208,
   "metadata": {},
   "outputs": [
    {
     "data": {
      "text/plain": [
       "0    55156\n",
       "1     5560\n",
       "Name: Loan Status, dtype: int64"
      ]
     },
     "execution_count": 208,
     "metadata": {},
     "output_type": "execute_result"
    }
   ],
   "source": [
    "y_train.value_counts()"
   ]
  },
  {
   "cell_type": "code",
   "execution_count": 209,
   "metadata": {},
   "outputs": [],
   "source": [
    "# from sklearn.model_selection import cross_val_score\n",
    "\n",
    "# model = LogisticRegression(random_state=0)\n",
    "# model.fit(original_Xtrain, original_ytrain)\n",
    "# scores = cross_val_score( model, original_Xtrain, original_ytrain, cv=5 )\n",
    "# print( scores.mean() )"
   ]
  },
  {
   "cell_type": "code",
   "execution_count": 210,
   "metadata": {},
   "outputs": [],
   "source": [
    "# from sklearn.model_selection import GridSearchCV\n",
    "\n",
    "# log_reg_params = {\"penalty\": ['l1', 'l2'], 'C': [0.001, 0.01, 0.1, 1, 10, 100, 1000]}\n",
    "\n",
    "# grid_log = GridSearchCV( LogisticRegression(), param_grid = log_reg_params )\n",
    "# grid_log.fit(original_Xtrain, original_ytrain)\n",
    "\n",
    "# log_tuned = grid_log.best_estimator_\n",
    "\n",
    "# print(grid_log.best_params_)\n",
    "\n",
    "# scores = cross_val_score( log_tuned, original_Xtrain , original_ytrain, cv=5 )\n",
    "# print(scores.mean())"
   ]
  },
  {
   "cell_type": "code",
   "execution_count": 211,
   "metadata": {},
   "outputs": [],
   "source": [
    "# model1 = LogisticRegression(  C=0.001, penalty='l2' )\n",
    "# model1.fit(X_train, y_train)\n",
    "\n",
    "# y_preds1 = model1.predict(X_test)\n",
    "# print(confusion_matrix(y_test,y_preds1))\n",
    "# print(accuracy_score(y_test,y_preds1))\n",
    "# print(classification_report(y_test,y_preds1))"
   ]
  },
  {
   "cell_type": "code",
   "execution_count": 212,
   "metadata": {},
   "outputs": [],
   "source": [
    "# pd.DataFrame(y_preds1).value_counts()"
   ]
  },
  {
   "cell_type": "markdown",
   "metadata": {},
   "source": [
    "Clearly our dataset is imbalanced. I will create equally distributed correctly balanced dataset for our analysis and further processing using RandomUnderSampling and re=evaluate Performance"
   ]
  },
  {
   "cell_type": "code",
   "execution_count": 213,
   "metadata": {},
   "outputs": [],
   "source": [
    "# df = pd.concat( [ X_train, y_train ], axis=1 )\n",
    "# df = df.sample(frac=1)\n",
    "\n",
    "# default = df.loc[df['Loan Status']==1]\n",
    "# no_default = df.loc[df['Loan Status']==0][:6000]\n",
    "\n",
    "# new_df = pd.concat( [default, no_default] ).sample(frac=1, random_state=42)\n",
    "\n",
    "# new_df.head()"
   ]
  },
  {
   "cell_type": "code",
   "execution_count": 214,
   "metadata": {},
   "outputs": [],
   "source": [
    "# new_df['Loan Status'].value_counts()"
   ]
  },
  {
   "cell_type": "markdown",
   "metadata": {},
   "source": [
    "Evaluating performance (Undersampling)"
   ]
  },
  {
   "cell_type": "code",
   "execution_count": 215,
   "metadata": {},
   "outputs": [],
   "source": [
    "# y_train2 = new_df['Loan Status']\n",
    "# X_train2 = new_df.drop(columns=['Loan Status'])\n",
    "\n",
    "\n",
    "# model = LogisticRegression(random_state=0)\n",
    "# model.fit(X_train2, y_train2)\n",
    "# scores = cross_val_score( model, X_train2, y_train2, cv=5 )\n",
    "# print( scores.mean() )"
   ]
  },
  {
   "cell_type": "code",
   "execution_count": 216,
   "metadata": {},
   "outputs": [],
   "source": [
    "# from sklearn.model_selection import GridSearchCV\n",
    "\n",
    "# log_reg_params = {\"penalty\": ['l1', 'l2'], 'C': [0.001, 0.01, 0.1, 1, 10, 100, 1000]}\n",
    "\n",
    "# grid_log = GridSearchCV( LogisticRegression(), param_grid = log_reg_params )\n",
    "# grid_log.fit(X_train2, y_train2)\n",
    "\n",
    "# log_tuned = grid_log.best_estimator_\n",
    "\n",
    "# print(grid_log.best_params_)\n",
    "\n",
    "# scores = cross_val_score( log_tuned, X_train2 , y_train2, cv=5 )\n",
    "# print(scores.mean())"
   ]
  },
  {
   "cell_type": "code",
   "execution_count": 217,
   "metadata": {},
   "outputs": [],
   "source": [
    "# model2 = LogisticRegression(  C=0.001, penalty='l2' )\n",
    "# model2.fit(X_train2, y_train2)\n",
    "\n",
    "# y_preds2 = model2.predict(X_test)\n",
    "# print(confusion_matrix(y_test,y_preds2))\n",
    "# print(accuracy_score(y_test,y_preds2))\n",
    "# print(classification_report(y_test,y_preds2))"
   ]
  },
  {
   "cell_type": "code",
   "execution_count": 218,
   "metadata": {},
   "outputs": [],
   "source": [
    "# pd.DataFrame(y_preds2).value_counts()"
   ]
  },
  {
   "cell_type": "code",
   "execution_count": 219,
   "metadata": {},
   "outputs": [],
   "source": [
    "# from sklearn.manifold import TSNE\n",
    "# from sklearn.decomposition import PCA, TruncatedSVD\n",
    "# import time\n",
    "\n",
    "# # New_df is from the random undersample data (fewer instances)\n",
    "# X = X_train2\n",
    "# y = y_train2\n",
    "\n",
    "\n",
    "# # T-SNE Implementation\n",
    "# t0 = time.time()\n",
    "# X_reduced_tsne = TSNE(n_components=2, random_state=42).fit_transform(X.values)\n",
    "# t1 = time.time()\n",
    "# print(\"T-SNE took {:.2} s\".format(t1 - t0))\n",
    "\n",
    "# # PCA Implementation\n",
    "# t0 = time.time()\n",
    "# X_reduced_pca = PCA(n_components=2, random_state=42).fit_transform(X.values)\n",
    "# t1 = time.time()\n",
    "# print(\"PCA took {:.2} s\".format(t1 - t0))\n",
    "\n",
    "# # TruncatedSVD\n",
    "# t0 = time.time()\n",
    "# X_reduced_svd = TruncatedSVD(n_components=2, algorithm='randomized', random_state=42).fit_transform(X.values)\n",
    "# t1 = time.time()\n",
    "# print(\"Truncated SVD took {:.2} s\".format(t1 - t0))"
   ]
  },
  {
   "cell_type": "code",
   "execution_count": 220,
   "metadata": {},
   "outputs": [],
   "source": [
    "# import matplotlib.patches as mpatches\n",
    "\n",
    "# f, (ax1, ax2, ax3) = plt.subplots(1, 3, figsize=(24,6))\n",
    "# # labels = ['No Fraud', 'Fraud']\n",
    "# f.suptitle('Clusters using Dimensionality Reduction', fontsize=14)\n",
    "\n",
    "\n",
    "# blue_patch = mpatches.Patch(color='#00FF00', label='No Default')\n",
    "# red_patch = mpatches.Patch(color='#ff0037', label='Default')\n",
    "\n",
    "\n",
    "# # t-SNE scatter plot\n",
    "# ax1.scatter(X_reduced_tsne[:,0], X_reduced_tsne[:,1], c=(y == 0), cmap=plt.cm.prism, edgecolor='k', alpha=0.7, label='No Defaulter', linewidths=0.7)\n",
    "# ax1.scatter(X_reduced_tsne[:,0], X_reduced_tsne[:,1], c=(y == 1), cmap=plt.cm.prism, edgecolor='k', alpha=0.7, label='Defaulter', linewidths=0.7)\n",
    "# ax1.set_title('t-SNE', fontsize=14)\n",
    "\n",
    "# ax1.grid(True)\n",
    "\n",
    "# ax1.legend(handles=[blue_patch, red_patch])\n",
    "\n",
    "\n",
    "# # PCA scatter plot\n",
    "# ax2.scatter(X_reduced_pca[:,0], X_reduced_pca[:,1], c=(y == 0), cmap=plt.cm.prism, edgecolor='k', alpha=0.7, label='No Defaulter', linewidths=0.7)\n",
    "# ax2.scatter(X_reduced_pca[:,0], X_reduced_pca[:,1], c=(y == 1), cmap=plt.cm.prism, edgecolor='k', alpha=0.7, label='Defaulter', linewidths=0.7)\n",
    "# ax2.set_title('PCA', fontsize=14)\n",
    "\n",
    "# ax2.grid(True)\n",
    "\n",
    "# ax2.legend(handles=[blue_patch, red_patch])\n",
    "\n",
    "# # TruncatedSVD scatter plot\n",
    "# ax3.scatter(X_reduced_svd[:,0], X_reduced_svd[:,1], c=(y == 0), cmap=plt.cm.prism, edgecolor='k', alpha=0.7, label='No Defaulter', linewidths=0.7)\n",
    "# ax3.scatter(X_reduced_svd[:,0], X_reduced_svd[:,1], c=(y == 1), cmap=plt.cm.prism, edgecolor='k', alpha=0.7, label='Defaulter', linewidths=0.7)\n",
    "# ax3.set_title('Truncated SVD', fontsize=14)\n",
    "\n",
    "# ax3.grid(True)\n",
    "\n",
    "# ax3.legend(handles=[blue_patch, red_patch])\n",
    "\n",
    "# plt.show()"
   ]
  },
  {
   "cell_type": "markdown",
   "metadata": {},
   "source": [
    "Oversampling"
   ]
  },
  {
   "cell_type": "code",
   "execution_count": 221,
   "metadata": {},
   "outputs": [],
   "source": [
    "# from imblearn.over_sampling import SMOTE\n",
    "\n",
    "\n",
    "# print('Length of X (train): {} | Length of y (train): {}'.format(len(original_Xtrain), len(original_ytrain)))\n",
    "# print('Length of X (test): {} | Length of y (test): {}'.format(len(original_Xtest), len(original_ytest)))\n",
    "\n",
    "# os = SMOTE( sampling_strategy = 'minority' )\n",
    "\n",
    "# X_train3, y_train3 = os.fit_resample(X_train, y_train)\n",
    "\n",
    "# print(X_train3.shape)\n",
    "# print(y_train3.shape)\n",
    "\n",
    "# print(y_train3.value_counts())"
   ]
  },
  {
   "cell_type": "code",
   "execution_count": 222,
   "metadata": {},
   "outputs": [],
   "source": [
    "# model3 = LogisticRegression(  C=0.001, penalty='l2' )\n",
    "# model3.fit(X_train3, y_train3)\n",
    "\n",
    "# y_preds3 = model3.predict(X_test)\n",
    "# print(confusion_matrix(y_test,y_preds3))\n",
    "# print(accuracy_score(y_test,y_preds3))\n",
    "# print(classification_report(y_test,y_preds3))"
   ]
  },
  {
   "cell_type": "code",
   "execution_count": 223,
   "metadata": {},
   "outputs": [],
   "source": [
    "# pd.DataFrame(y_preds3).value_counts()"
   ]
  },
  {
   "cell_type": "code",
   "execution_count": 224,
   "metadata": {},
   "outputs": [],
   "source": [
    "# preds1 = pd.DataFrame(y_preds1, columns=['Loan Status'])\n",
    "# preds1.value_counts()"
   ]
  },
  {
   "cell_type": "code",
   "execution_count": 225,
   "metadata": {},
   "outputs": [],
   "source": [
    "# preds2 = pd.DataFrame(y_preds2, columns=['Loan Status'])\n",
    "# preds2.value_counts()"
   ]
  },
  {
   "cell_type": "code",
   "execution_count": 226,
   "metadata": {},
   "outputs": [],
   "source": [
    "# preds3 = pd.DataFrame(y_preds3, columns=['Loan Status'])\n",
    "# preds3.value_counts()"
   ]
  },
  {
   "cell_type": "code",
   "execution_count": 227,
   "metadata": {},
   "outputs": [],
   "source": [
    "# preds1.to_csv(\"predictions1.csv\", index=False)"
   ]
  },
  {
   "cell_type": "code",
   "execution_count": 228,
   "metadata": {},
   "outputs": [],
   "source": [
    "# preds2.to_csv(\"predictions2.csv\", index=False)"
   ]
  },
  {
   "cell_type": "code",
   "execution_count": 229,
   "metadata": {},
   "outputs": [],
   "source": [
    "# preds3.to_csv(\"predictions3.csv\", index=False)"
   ]
  },
  {
   "cell_type": "markdown",
   "metadata": {},
   "source": [
    "To improve classifier performance on imbalanced datset, I had implemented several sampling technioques"
   ]
  },
  {
   "cell_type": "markdown",
   "metadata": {},
   "source": [
    "Random Undersampling worsened the performance since it took away informative samples from majority class"
   ]
  },
  {
   "cell_type": "markdown",
   "metadata": {},
   "source": [
    "Oversampling techniques such as SMOTE seemed to do well. Improving on SMOTE Technique, I used SMOTETOmek and SMOTEENN to deal noisy samples around the decision boundary of our classifier model"
   ]
  },
  {
   "cell_type": "code",
   "execution_count": 230,
   "metadata": {},
   "outputs": [
    {
     "data": {
      "text/plain": [
       "Counter({0: 55156, 1: 5560})"
      ]
     },
     "execution_count": 230,
     "metadata": {},
     "output_type": "execute_result"
    }
   ],
   "source": [
    "from collections import Counter\n",
    "Counter(y_train)"
   ]
  },
  {
   "cell_type": "code",
   "execution_count": 231,
   "metadata": {},
   "outputs": [
    {
     "name": "stdout",
     "output_type": "stream",
     "text": [
      "The number of classes before fit Counter({0: 55156, 1: 5560})\n",
      "The number of classes after fit Counter({1: 54873, 0: 25219})\n"
     ]
    }
   ],
   "source": [
    "from imblearn.combine import SMOTETomek\n",
    "from imblearn.combine import SMOTEENN\n",
    "from imblearn.under_sampling import EditedNearestNeighbours\n",
    "from collections import Counter\n",
    "\n",
    "#os=SMOTETomek(0.75)\n",
    "os = SMOTEENN(enn=EditedNearestNeighbours(sampling_strategy='all'))\n",
    "\n",
    "X_train_ns,y_train_ns=os.fit_resample(X_train,y_train)\n",
    "print(\"The number of classes before fit {}\".format(Counter(y_train)))\n",
    "print(\"The number of classes after fit {}\".format(Counter(y_train_ns)))"
   ]
  },
  {
   "cell_type": "markdown",
   "metadata": {},
   "source": [
    "Dimensionality Reduction on sampled dataset"
   ]
  },
  {
   "cell_type": "code",
   "execution_count": 232,
   "metadata": {},
   "outputs": [],
   "source": [
    "# from sklearn.manifold import TSNE\n",
    "# from sklearn.decomposition import PCA, TruncatedSVD\n",
    "# import time\n",
    "\n",
    "# # New_df is from the random undersample data (fewer instances)\n",
    "# X = X_train_ns\n",
    "# y = y_train_ns\n",
    "\n",
    "\n",
    "# # T-SNE Implementation\n",
    "# t0 = time.time()\n",
    "# X_reduced_tsne = TSNE(n_components=2, random_state=42).fit_transform(X.values)\n",
    "# t1 = time.time()\n",
    "# print(\"T-SNE took {:.2} s\".format(t1 - t0))\n",
    "\n",
    "# # PCA Implementation\n",
    "# t0 = time.time()\n",
    "# X_reduced_pca = PCA(n_components=2, random_state=42).fit_transform(X.values)\n",
    "# t1 = time.time()\n",
    "# print(\"PCA took {:.2} s\".format(t1 - t0))\n",
    "\n",
    "# # TruncatedSVD\n",
    "# t0 = time.time()\n",
    "# X_reduced_svd = TruncatedSVD(n_components=2, algorithm='randomized', random_state=42).fit_transform(X.values)\n",
    "# t1 = time.time()\n",
    "# print(\"Truncated SVD took {:.2} s\".format(t1 - t0))"
   ]
  },
  {
   "cell_type": "code",
   "execution_count": 233,
   "metadata": {},
   "outputs": [],
   "source": [
    "# import matplotlib.patches as mpatches\n",
    "\n",
    "# f, (ax1, ax2, ax3) = plt.subplots(1, 3, figsize=(24,6))\n",
    "# # labels = ['No Fraud', 'Fraud']\n",
    "# f.suptitle('Clusters using Dimensionality Reduction to examine Loan Status Defaulters(with Sampling)', fontsize=14)\n",
    "\n",
    "\n",
    "# green_patch = mpatches.Patch(color='#00FF00', label='Default')\n",
    "# red_patch = mpatches.Patch(color='#ff0037', label='No Default')\n",
    "\n",
    "\n",
    "# # t-SNE scatter plot\n",
    "# ax1.scatter(X_reduced_tsne[:,0], X_reduced_tsne[:,1], c=(y == 0), cmap=plt.cm.prism, edgecolor='k', alpha=0.7, label='No Defaulter', linewidths=0.7)\n",
    "# ax1.scatter(X_reduced_tsne[:,0], X_reduced_tsne[:,1], c=(y == 1), cmap=plt.cm.prism, edgecolor='k', alpha=0.7, label='Defaulter', linewidths=0.7)\n",
    "# ax1.set_title('t-SNE', fontsize=14)\n",
    "\n",
    "# ax1.grid(True)\n",
    "\n",
    "# ax1.legend(handles=[green_patch, red_patch])\n",
    "\n",
    "\n",
    "# # PCA scatter plot\n",
    "# ax2.scatter(X_reduced_pca[:,0], X_reduced_pca[:,1], c=(y == 0), cmap=plt.cm.prism, edgecolor='k', alpha=0.7, label='No Defaulter', linewidths=0.7)\n",
    "# ax2.scatter(X_reduced_pca[:,0], X_reduced_pca[:,1], c=(y == 1), cmap=plt.cm.prism, edgecolor='k', alpha=0.7, label='Defaulter', linewidths=0.7)\n",
    "# ax2.set_title('PCA', fontsize=14)\n",
    "\n",
    "# ax2.grid(True)\n",
    "\n",
    "# ax2.legend(handles=[green_patch, red_patch])\n",
    "\n",
    "# # TruncatedSVD scatter plot\n",
    "# ax3.scatter(X_reduced_svd[:,0], X_reduced_svd[:,1], c=(y == 0), cmap=plt.cm.prism, edgecolor='k', alpha=0.7, label='No Defaulter', linewidths=0.7)\n",
    "# ax3.scatter(X_reduced_svd[:,0], X_reduced_svd[:,1], c=(y == 1), cmap=plt.cm.prism, edgecolor='k', alpha=0.7, label='Defaulter', linewidths=0.7)\n",
    "# ax3.set_title('Truncated SVD', fontsize=14)\n",
    "\n",
    "# ax3.grid(True)\n",
    "\n",
    "# ax3.legend(handles=[green_patch, red_patch])\n",
    "\n",
    "# plt.show()"
   ]
  },
  {
   "cell_type": "code",
   "execution_count": 234,
   "metadata": {},
   "outputs": [],
   "source": [
    "from sklearn.model_selection import train_test_split\n",
    "\n",
    "\n",
    "train_X, test_X, train_y, test_y = train_test_split(X_train_ns, y_train_ns, test_size=0.2, random_state=777)"
   ]
  },
  {
   "cell_type": "code",
   "execution_count": 235,
   "metadata": {},
   "outputs": [
    {
     "data": {
      "text/plain": [
       "(28913, 22)"
      ]
     },
     "execution_count": 235,
     "metadata": {},
     "output_type": "execute_result"
    }
   ],
   "source": [
    "X_test.shape"
   ]
  },
  {
   "cell_type": "code",
   "execution_count": 236,
   "metadata": {},
   "outputs": [
    {
     "name": "stdout",
     "output_type": "stream",
     "text": [
      "(64073, 22)\n",
      "(16019, 22)\n",
      "(64073,)\n",
      "(16019,)\n",
      "1    43888\n",
      "0    20185\n",
      "Name: Loan Status, dtype: int64\n",
      "-----------------------------\n",
      "1    10985\n",
      "0     5034\n",
      "Name: Loan Status, dtype: int64\n"
     ]
    }
   ],
   "source": [
    "print(train_X.shape)\n",
    "print(test_X.shape)\n",
    "print(train_y.shape)\n",
    "print(test_y.shape)\n",
    "\n",
    "print(train_y.value_counts())\n",
    "print(\"-----------------------------\")\n",
    "print(test_y.value_counts())"
   ]
  },
  {
   "cell_type": "markdown",
   "metadata": {},
   "source": [
    "# Modelling"
   ]
  },
  {
   "cell_type": "code",
   "execution_count": 264,
   "metadata": {},
   "outputs": [],
   "source": [
    "from sklearn.model_selection import train_test_split\n",
    "from sklearn.preprocessing import StandardScaler\n",
    "from sklearn.decomposition import PCA\n",
    "from sklearn.pipeline import Pipeline\n",
    "\n",
    "from sklearn.linear_model import LogisticRegression\n",
    "from sklearn.naive_bayes import GaussianNB\n",
    "from sklearn.tree import DecisionTreeClassifier\n",
    "from sklearn.ensemble import RandomForestClassifier\n",
    "from sklearn.ensemble import GradientBoostingClassifier\n",
    "from xgboost import XGBClassifier"
   ]
  },
  {
   "cell_type": "markdown",
   "metadata": {},
   "source": [
    "# 1. Logistic Regression"
   ]
  },
  {
   "cell_type": "code",
   "execution_count": 265,
   "metadata": {},
   "outputs": [
    {
     "name": "stdout",
     "output_type": "stream",
     "text": [
      "[[   12  5022]\n",
      " [   11 10974]]\n",
      "0.6858105999126037\n",
      "              precision    recall  f1-score   support\n",
      "\n",
      "           0       0.52      0.00      0.00      5034\n",
      "           1       0.69      1.00      0.81     10985\n",
      "\n",
      "    accuracy                           0.69     16019\n",
      "   macro avg       0.60      0.50      0.41     16019\n",
      "weighted avg       0.63      0.69      0.56     16019\n",
      "\n",
      "0.4091036107062999\n"
     ]
    }
   ],
   "source": [
    "lr = LogisticRegression(random_state=1234)\n",
    "lr.fit(train_X,train_y)\n",
    "\n",
    "y_pred = lr.predict(test_X)\n",
    "print(confusion_matrix(test_y,y_pred))\n",
    "print(accuracy_score(test_y,y_pred))\n",
    "print(classification_report(test_y,y_pred))\n",
    "print(f1_score(test_y, y_pred, average='macro'))"
   ]
  },
  {
   "cell_type": "code",
   "execution_count": 267,
   "metadata": {},
   "outputs": [
    {
     "data": {
      "text/plain": [
       "10.851968111235404"
      ]
     },
     "execution_count": 267,
     "metadata": {},
     "output_type": "execute_result"
    }
   ],
   "source": [
    "from sklearn.metrics import log_loss\n",
    "\n",
    "log_loss(test_y, lr.predict(test_X))"
   ]
  },
  {
   "cell_type": "markdown",
   "metadata": {},
   "source": [
    "# Naive Bayes"
   ]
  },
  {
   "cell_type": "code",
   "execution_count": 268,
   "metadata": {},
   "outputs": [
    {
     "name": "stdout",
     "output_type": "stream",
     "text": [
      "[[  659  4375]\n",
      " [  798 10187]]\n",
      "0.6770709782133716\n",
      "              precision    recall  f1-score   support\n",
      "\n",
      "           0       0.45      0.13      0.20      5034\n",
      "           1       0.70      0.93      0.80     10985\n",
      "\n",
      "    accuracy                           0.68     16019\n",
      "   macro avg       0.58      0.53      0.50     16019\n",
      "weighted avg       0.62      0.68      0.61     16019\n",
      "\n",
      "0.5002804241712362\n"
     ]
    }
   ],
   "source": [
    "gaussiannb = GaussianNB()\n",
    "gaussiannb.fit(train_X,train_y)\n",
    "\n",
    "y_pred = gaussiannb.predict(test_X)\n",
    "print(confusion_matrix(test_y,y_pred))\n",
    "print(accuracy_score(test_y,y_pred))\n",
    "print(classification_report(test_y,y_pred))\n",
    "print(f1_score(test_y, y_pred, average='macro'))"
   ]
  },
  {
   "cell_type": "code",
   "execution_count": 269,
   "metadata": {},
   "outputs": [
    {
     "data": {
      "text/plain": [
       "10.851968111235404"
      ]
     },
     "execution_count": 269,
     "metadata": {},
     "output_type": "execute_result"
    }
   ],
   "source": [
    "from sklearn.metrics import log_loss\n",
    "\n",
    "log_loss(test_y, lr.predict(test_X))"
   ]
  },
  {
   "cell_type": "markdown",
   "metadata": {},
   "source": [
    "# Ensemble Methods"
   ]
  },
  {
   "cell_type": "code",
   "execution_count": 260,
   "metadata": {},
   "outputs": [
    {
     "name": "stdout",
     "output_type": "stream",
     "text": [
      "[[ 2467  2567]\n",
      " [  671 10314]]\n",
      "0.7978650352706161\n",
      "              precision    recall  f1-score   support\n",
      "\n",
      "           0       0.79      0.49      0.60      5034\n",
      "           1       0.80      0.94      0.86     10985\n",
      "\n",
      "    accuracy                           0.80     16019\n",
      "   macro avg       0.79      0.71      0.73     16019\n",
      "weighted avg       0.80      0.80      0.78     16019\n",
      "\n",
      "0.7340473931810252\n"
     ]
    }
   ],
   "source": [
    "from sklearn.ensemble import RandomForestClassifier\n",
    "\n",
    "rf_classifier=RandomForestClassifier(n_estimators=5, min_samples_split=20, min_samples_leaf=10, max_depth=10)\n",
    "rf_classifier.fit(train_X,train_y)\n",
    "\n",
    "y_pred4 = rf_classifier.predict(test_X)\n",
    "print(confusion_matrix(test_y,y_pred4))\n",
    "print(accuracy_score(test_y,y_pred4))\n",
    "print(classification_report(test_y,y_pred4))\n",
    "print(f1_score(test_y, y_pred4, average='macro'))"
   ]
  },
  {
   "cell_type": "code",
   "execution_count": 261,
   "metadata": {},
   "outputs": [
    {
     "data": {
      "text/plain": [
       "6.981622481635815"
      ]
     },
     "execution_count": 261,
     "metadata": {},
     "output_type": "execute_result"
    }
   ],
   "source": [
    "from sklearn.metrics import log_loss\n",
    "\n",
    "log_loss(test_y, rf_classifier.predict(test_X))"
   ]
  },
  {
   "cell_type": "code",
   "execution_count": 262,
   "metadata": {},
   "outputs": [
    {
     "data": {
      "text/plain": [
       "1    18412\n",
       "0    10501\n",
       "dtype: int64"
      ]
     },
     "execution_count": 262,
     "metadata": {},
     "output_type": "execute_result"
    }
   ],
   "source": [
    "preds = rf_classifier.predict(X_test)\n",
    "preds = pd.DataFrame(preds)\n",
    "\n",
    "preds.value_counts()"
   ]
  },
  {
   "cell_type": "code",
   "execution_count": 263,
   "metadata": {},
   "outputs": [],
   "source": [
    "preds.to_csv('sub_rf_final.csv')"
   ]
  },
  {
   "cell_type": "code",
   "execution_count": 285,
   "metadata": {},
   "outputs": [
    {
     "name": "stdout",
     "output_type": "stream",
     "text": [
      "[[4550  484]\n",
      " [1097 9888]]\n",
      "0.9013047006679568\n",
      "              precision    recall  f1-score   support\n",
      "\n",
      "           0       0.81      0.90      0.85      5034\n",
      "           1       0.95      0.90      0.93     10985\n",
      "\n",
      "    accuracy                           0.90     16019\n",
      "   macro avg       0.88      0.90      0.89     16019\n",
      "weighted avg       0.91      0.90      0.90     16019\n",
      "\n",
      "0.8889764503263952\n"
     ]
    }
   ],
   "source": [
    "from sklearn.ensemble import GradientBoostingClassifier\n",
    "\n",
    "gb_classifier = GradientBoostingClassifier(n_estimators=50, min_samples_split=40, min_samples_leaf=20, max_depth=8).fit(train_X,train_y)\n",
    "prediction = gb_classifier.predict(test_X)\n",
    "\n",
    "from sklearn.metrics import confusion_matrix,classification_report,accuracy_score\n",
    "\n",
    "print(confusion_matrix(test_y,prediction))\n",
    "print(accuracy_score(test_y,prediction))\n",
    "print(classification_report(test_y,prediction))\n",
    "print(f1_score(test_y, prediction, average='macro'))"
   ]
  },
  {
   "cell_type": "code",
   "execution_count": 288,
   "metadata": {},
   "outputs": [
    {
     "data": {
      "text/plain": [
       "3.4088390339915104"
      ]
     },
     "execution_count": 288,
     "metadata": {},
     "output_type": "execute_result"
    }
   ],
   "source": [
    "from sklearn.metrics import log_loss\n",
    "\n",
    "log_loss(test_y, gb_classifier.predict(test_X))"
   ]
  },
  {
   "cell_type": "code",
   "execution_count": 289,
   "metadata": {},
   "outputs": [
    {
     "data": {
      "text/plain": [
       "0    22101\n",
       "1     6812\n",
       "dtype: int64"
      ]
     },
     "execution_count": 289,
     "metadata": {},
     "output_type": "execute_result"
    }
   ],
   "source": [
    "preds = gb_classifier.predict(X_test)\n",
    "preds = pd.DataFrame(preds)\n",
    "\n",
    "preds.value_counts()"
   ]
  },
  {
   "cell_type": "code",
   "execution_count": null,
   "metadata": {},
   "outputs": [],
   "source": []
  },
  {
   "cell_type": "code",
   "execution_count": null,
   "metadata": {},
   "outputs": [],
   "source": []
  },
  {
   "cell_type": "code",
   "execution_count": 83,
   "metadata": {},
   "outputs": [],
   "source": [
    "#y_train_ns.value_counts()"
   ]
  },
  {
   "cell_type": "markdown",
   "metadata": {},
   "source": [
    "# GridSearchCV for Logistic Regression"
   ]
  },
  {
   "cell_type": "code",
   "execution_count": 152,
   "metadata": {},
   "outputs": [
    {
     "name": "stdout",
     "output_type": "stream",
     "text": [
      "Fitting 3 folds for each of 90 candidates, totalling 270 fits\n"
     ]
    },
    {
     "data": {
      "text/plain": [
       "GridSearchCV(cv=3, estimator=LogisticRegression(), n_jobs=-1,\n",
       "             param_grid={'C': [1e-05, 0.001, 0.009, 0.01, 0.09, 1, 5, 10, 25,\n",
       "                               100],\n",
       "                         'penalty': ['l1', 'l2', 'elasticnet'],\n",
       "                         'solver': ['lbfgs', 'saga', 'liblinear']},\n",
       "             scoring='f1_macro', verbose=10)"
      ]
     },
     "execution_count": 152,
     "metadata": {},
     "output_type": "execute_result"
    }
   ],
   "source": [
    "from sklearn.model_selection import GridSearchCV\n",
    "from sklearn import metrics\n",
    "\n",
    "penalty = ['l1','l2','elasticnet']\n",
    "C = [0.00001,0.001,.009,0.01,.09,1,5,10,25,100]\n",
    "solver = [ 'lbfgs','saga','liblinear' ]\n",
    "\n",
    "param_grid = {\n",
    "                'penalty' : penalty,\n",
    "                'C' : C,\n",
    "                'solver' : solver\n",
    "             }\n",
    "\n",
    "lrc = LogisticRegression()\n",
    "\n",
    "\n",
    "lr_gridcv = GridSearchCV(estimator=lrc , param_grid=param_grid , \n",
    "                        scoring='f1_macro',cv=3,verbose=10,\n",
    "                        n_jobs=-1)\n",
    "\n",
    "lr_gridcv.fit(train_X,train_y)"
   ]
  },
  {
   "cell_type": "code",
   "execution_count": 153,
   "metadata": {},
   "outputs": [
    {
     "name": "stdout",
     "output_type": "stream",
     "text": [
      "{'C': 5, 'penalty': 'l2', 'solver': 'liblinear'}\n"
     ]
    }
   ],
   "source": [
    "print(lr_gridcv.best_params_)"
   ]
  },
  {
   "cell_type": "code",
   "execution_count": 154,
   "metadata": {},
   "outputs": [
    {
     "name": "stdout",
     "output_type": "stream",
     "text": [
      "0.4126833889605713\n"
     ]
    }
   ],
   "source": [
    "print(lr_gridcv.best_score_)"
   ]
  },
  {
   "cell_type": "code",
   "execution_count": 155,
   "metadata": {},
   "outputs": [
    {
     "name": "stdout",
     "output_type": "stream",
     "text": [
      "LogisticRegression(C=5, solver='liblinear')\n"
     ]
    }
   ],
   "source": [
    "print(lr_gridcv.best_estimator_)"
   ]
  },
  {
   "cell_type": "code",
   "execution_count": 156,
   "metadata": {},
   "outputs": [],
   "source": [
    "best_lr = lr_gridcv.best_estimator_"
   ]
  },
  {
   "cell_type": "code",
   "execution_count": 157,
   "metadata": {},
   "outputs": [
    {
     "name": "stdout",
     "output_type": "stream",
     "text": [
      "[[   17  4966]\n",
      " [   23 10947]]\n",
      "Accuracy Score 0.6872688522534947\n",
      "Classification report:               precision    recall  f1-score   support\n",
      "\n",
      "           0       0.42      0.00      0.01      4983\n",
      "           1       0.69      1.00      0.81     10970\n",
      "\n",
      "    accuracy                           0.69     15953\n",
      "   macro avg       0.56      0.50      0.41     15953\n",
      "weighted avg       0.61      0.69      0.56     15953\n",
      "\n",
      "f1 score 0.4105934484653709\n"
     ]
    }
   ],
   "source": [
    "from sklearn.metrics import accuracy_score\n",
    "\n",
    "y_pred = best_lr.predict(test_X)\n",
    "print(confusion_matrix(test_y,y_pred))\n",
    "print(\"Accuracy Score {}\".format(accuracy_score(test_y,y_pred)))\n",
    "print(\"Classification report: {}\".format(classification_report(test_y,y_pred)))\n",
    "print(\"f1 score {}\".format(f1_score(test_y,y_pred, average='macro')))"
   ]
  },
  {
   "cell_type": "code",
   "execution_count": 158,
   "metadata": {},
   "outputs": [
    {
     "data": {
      "text/plain": [
       "10.801600089954727"
      ]
     },
     "execution_count": 158,
     "metadata": {},
     "output_type": "execute_result"
    }
   ],
   "source": [
    "from sklearn.metrics import log_loss\n",
    "\n",
    "log_loss(test_y, best_lr.predict(test_X))"
   ]
  },
  {
   "cell_type": "markdown",
   "metadata": {},
   "source": [
    "# GridSearchCV for RandomForest"
   ]
  },
  {
   "cell_type": "code",
   "execution_count": null,
   "metadata": {},
   "outputs": [
    {
     "name": "stdout",
     "output_type": "stream",
     "text": [
      "{'n_estimators': [10, 30, 50, 100, 300, 400, 500, 600, 700, 1000], 'max_features': ['auto', 'sqrt', 'log2'], 'max_depth': [5, 8, 15, 25, 30], 'min_samples_split': [2, 5, 10, 14], 'min_samples_leaf': [1, 2, 4, 6, 8], 'criterion': ['entropy', 'gini']}\n",
      "Fitting 3 folds for each of 6000 candidates, totalling 18000 fits\n"
     ]
    }
   ],
   "source": [
    "from sklearn.model_selection import GridSearchCV\n",
    "from sklearn import metrics\n",
    "\n",
    "n_estimators = [10,30,50,100,300, 400, 500, 600, 700,1000]\n",
    "max_features = ['auto', 'sqrt','log2']\n",
    "max_depth = [5, 8, 15, 25, 30]\n",
    "min_samples_split = [2, 5, 10, 14]\n",
    "min_samples_leaf = [1, 2, 4, 6, 8]\n",
    "\n",
    "param_grid = {'n_estimators': n_estimators,\n",
    "               'max_features': max_features,\n",
    "               'max_depth': max_depth,\n",
    "               'min_samples_split': min_samples_split,\n",
    "               'min_samples_leaf': min_samples_leaf,\n",
    "              'criterion':['entropy','gini']}\n",
    "print(param_grid)\n",
    "\n",
    "rfc = RandomForestClassifier()\n",
    "\n",
    "\n",
    "rf_gridcv = GridSearchCV(estimator=rfc , param_grid=param_grid , \n",
    "                        scoring='f1_macro',cv=3,verbose=10,\n",
    "                        n_jobs=-1)\n",
    "\n",
    "rf_gridcv.fit(train_X,train_y)"
   ]
  },
  {
   "cell_type": "code",
   "execution_count": null,
   "metadata": {},
   "outputs": [],
   "source": [
    "print(rf_gridcv.best_params_)"
   ]
  },
  {
   "cell_type": "code",
   "execution_count": null,
   "metadata": {},
   "outputs": [],
   "source": [
    "print(rf_gridcv.best_score_)"
   ]
  },
  {
   "cell_type": "code",
   "execution_count": null,
   "metadata": {},
   "outputs": [],
   "source": [
    "print(rf_gridcv.best_estimator_)"
   ]
  },
  {
   "cell_type": "code",
   "execution_count": null,
   "metadata": {},
   "outputs": [],
   "source": [
    "best_rf = rf_gridcv.best_estimator_"
   ]
  },
  {
   "cell_type": "code",
   "execution_count": null,
   "metadata": {},
   "outputs": [],
   "source": [
    "from sklearn.metrics import accuracy_score\n",
    "\n",
    "y_pred = best_rf.predict(test_X)\n",
    "print(confusion_matrix(test_y,y_pred))\n",
    "print(\"Accuracy Score {}\".format(accuracy_score(test_y,y_pred)))\n",
    "print(\"Classification report: {}\".format(classification_report(test_y,y_pred)))\n",
    "print(\"f1 score {}\".format(f1_score(test_y,y_pred, average='macro')))"
   ]
  },
  {
   "cell_type": "code",
   "execution_count": null,
   "metadata": {},
   "outputs": [],
   "source": [
    "from sklearn.metrics import log_loss\n",
    "\n",
    "log_loss(test_y, best_rf.predict(test_X))"
   ]
  },
  {
   "cell_type": "code",
   "execution_count": null,
   "metadata": {},
   "outputs": [],
   "source": []
  },
  {
   "cell_type": "code",
   "execution_count": null,
   "metadata": {},
   "outputs": [],
   "source": []
  },
  {
   "cell_type": "code",
   "execution_count": null,
   "metadata": {},
   "outputs": [],
   "source": []
  },
  {
   "cell_type": "code",
   "execution_count": 131,
   "metadata": {},
   "outputs": [
    {
     "name": "stdout",
     "output_type": "stream",
     "text": [
      "Fitting 2 folds for each of 5 candidates, totalling 10 fits\n"
     ]
    },
    {
     "data": {
      "text/plain": [
       "RandomizedSearchCV(cv=2, estimator=LogisticRegression(), n_iter=5, n_jobs=-1,\n",
       "                   param_distributions={'C': [0.001, 0.009, 0.01, 0.09, 1, 5,\n",
       "                                              10, 25, 100, 300, 1000, 10000],\n",
       "                                        'penalty': ['l1', 'l2', 'elasticnet'],\n",
       "                                        'solver': ['lbfgs', 'saga',\n",
       "                                                   'liblinear']},\n",
       "                   random_state=100, scoring='neg_log_loss', verbose=2)"
      ]
     },
     "execution_count": 131,
     "metadata": {},
     "output_type": "execute_result"
    }
   ],
   "source": [
    "import numpy as np\n",
    "from sklearn.model_selection import RandomizedSearchCV\n",
    "\n",
    "\n",
    "penalty = ['l1','l2','elasticnet']\n",
    "C = [0.00001,0.001,.009,0.01,.09,1,5,10,25,100]\n",
    "solver = [ 'lbfgs','saga','liblinear' ]\n",
    "\n",
    "param_grid = {\n",
    "                'penalty' : penalty,\n",
    "                'C' : C,\n",
    "                'solver' : solver\n",
    "             }\n",
    "\n",
    "lr_clf = LogisticRegression()\n",
    "\n",
    "lr_randomcv = RandomizedSearchCV(estimator=lr_clf,param_distributions=param_grid, scoring='neg_log_loss', n_iter=5,cv=2,verbose=2,\n",
    "                               random_state=100,n_jobs=-1)\n",
    "\n",
    "lr_randomcv.fit(train_X,train_y)"
   ]
  },
  {
   "cell_type": "code",
   "execution_count": 132,
   "metadata": {},
   "outputs": [
    {
     "data": {
      "text/plain": [
       "{'solver': 'liblinear', 'penalty': 'l2', 'C': 25}"
      ]
     },
     "execution_count": 132,
     "metadata": {},
     "output_type": "execute_result"
    }
   ],
   "source": [
    "lr_randomcv.best_params_"
   ]
  },
  {
   "cell_type": "code",
   "execution_count": 133,
   "metadata": {},
   "outputs": [
    {
     "data": {
      "text/plain": [
       "RandomizedSearchCV(cv=2, estimator=LogisticRegression(), n_iter=5, n_jobs=-1,\n",
       "                   param_distributions={'C': [0.001, 0.009, 0.01, 0.09, 1, 5,\n",
       "                                              10, 25, 100, 300, 1000, 10000],\n",
       "                                        'penalty': ['l1', 'l2', 'elasticnet'],\n",
       "                                        'solver': ['lbfgs', 'saga',\n",
       "                                                   'liblinear']},\n",
       "                   random_state=100, scoring='neg_log_loss', verbose=2)"
      ]
     },
     "execution_count": 133,
     "metadata": {},
     "output_type": "execute_result"
    }
   ],
   "source": [
    "lr_randomcv"
   ]
  },
  {
   "cell_type": "code",
   "execution_count": 134,
   "metadata": {},
   "outputs": [],
   "source": [
    "best_random_grid=lr_randomcv.best_estimator_"
   ]
  },
  {
   "cell_type": "code",
   "execution_count": 135,
   "metadata": {},
   "outputs": [
    {
     "name": "stdout",
     "output_type": "stream",
     "text": [
      "[[   18  4965]\n",
      " [   23 10947]]\n",
      "Accuracy Score 0.6873315363881402\n",
      "Classification report:               precision    recall  f1-score   support\n",
      "\n",
      "           0       0.44      0.00      0.01      4983\n",
      "           1       0.69      1.00      0.81     10970\n",
      "\n",
      "    accuracy                           0.69     15953\n",
      "   macro avg       0.56      0.50      0.41     15953\n",
      "weighted avg       0.61      0.69      0.56     15953\n",
      "\n",
      "f1 score 0.41080696741645606\n"
     ]
    }
   ],
   "source": [
    "from sklearn.metrics import accuracy_score\n",
    "\n",
    "y_pred=best_random_grid.predict(test_X)\n",
    "print(confusion_matrix(test_y,y_pred))\n",
    "print(\"Accuracy Score {}\".format(accuracy_score(test_y,y_pred)))\n",
    "print(\"Classification report: {}\".format(classification_report(test_y,y_pred)))\n",
    "print(\"f1 score {}\".format(f1_score(test_y,y_pred, average='macro')))"
   ]
  },
  {
   "cell_type": "code",
   "execution_count": 136,
   "metadata": {},
   "outputs": [
    {
     "data": {
      "text/plain": [
       "10.799435006522625"
      ]
     },
     "execution_count": 136,
     "metadata": {},
     "output_type": "execute_result"
    }
   ],
   "source": [
    "from sklearn.metrics import log_loss\n",
    "\n",
    "log_loss(test_y, best_random_grid.predict(test_X))"
   ]
  },
  {
   "cell_type": "code",
   "execution_count": 137,
   "metadata": {},
   "outputs": [],
   "source": [
    "preds = best_random_grid.predict(X_test)"
   ]
  },
  {
   "cell_type": "code",
   "execution_count": 138,
   "metadata": {},
   "outputs": [
    {
     "data": {
      "text/plain": [
       "1    28166\n",
       "0      747\n",
       "dtype: int64"
      ]
     },
     "execution_count": 138,
     "metadata": {},
     "output_type": "execute_result"
    }
   ],
   "source": [
    "fin = pd.DataFrame(preds)\n",
    "\n",
    "fin.value_counts()"
   ]
  },
  {
   "cell_type": "markdown",
   "metadata": {},
   "source": [
    "# RandomSearchCV for RandomForest"
   ]
  },
  {
   "cell_type": "code",
   "execution_count": 92,
   "metadata": {},
   "outputs": [
    {
     "name": "stdout",
     "output_type": "stream",
     "text": [
      "[[ 4628   355]\n",
      " [  807 10163]]\n",
      "0.9271610355419043\n",
      "              precision    recall  f1-score   support\n",
      "\n",
      "           0       0.85      0.93      0.89      4983\n",
      "           1       0.97      0.93      0.95     10970\n",
      "\n",
      "    accuracy                           0.93     15953\n",
      "   macro avg       0.91      0.93      0.92     15953\n",
      "weighted avg       0.93      0.93      0.93     15953\n",
      "\n",
      "f1 score 0.9171927914299196\n"
     ]
    }
   ],
   "source": [
    "from sklearn.ensemble import RandomForestClassifier\n",
    "\n",
    "rf_classifier=RandomForestClassifier(n_estimators=10).fit(train_X,train_y)\n",
    "prediction=rf_classifier.predict(test_X)\n",
    "\n",
    "from sklearn.metrics import confusion_matrix,classification_report,accuracy_score\n",
    "\n",
    "print(confusion_matrix(test_y,prediction))\n",
    "print(accuracy_score(test_y,prediction))\n",
    "print(classification_report(test_y,prediction))\n",
    "print(\"f1 score {}\".format(f1_score(test_y,prediction, average='macro')))"
   ]
  },
  {
   "cell_type": "code",
   "execution_count": 93,
   "metadata": {},
   "outputs": [
    {
     "data": {
      "text/plain": [
       "2.5157864995909196"
      ]
     },
     "execution_count": 93,
     "metadata": {},
     "output_type": "execute_result"
    }
   ],
   "source": [
    "from sklearn.metrics import log_loss\n",
    "\n",
    "log_loss(test_y, rf_classifier.predict(test_X))"
   ]
  },
  {
   "cell_type": "code",
   "execution_count": 94,
   "metadata": {},
   "outputs": [
    {
     "name": "stdout",
     "output_type": "stream",
     "text": [
      "{'n_estimators': [300, 400, 500, 600, 700, 1000], 'max_features': ['auto', 'sqrt', 'log2'], 'max_depth': [5, 8, 15, 25, 30], 'min_samples_split': [2, 5, 10, 14], 'min_samples_leaf': [1, 2, 4, 6, 8], 'criterion': ['entropy', 'gini']}\n"
     ]
    }
   ],
   "source": [
    "import numpy as np\n",
    "from sklearn.model_selection import RandomizedSearchCV\n",
    "\n",
    "n_estimators = [300, 400, 500, 600, 700,1000]\n",
    "max_features = ['auto', 'sqrt','log2']\n",
    "max_depth = [5, 8, 15, 25, 30]\n",
    "min_samples_split = [2, 5, 10, 14]\n",
    "min_samples_leaf = [1, 2, 4, 6, 8]\n",
    "\n",
    "random_grid = {'n_estimators': n_estimators,\n",
    "               'max_features': max_features,\n",
    "               'max_depth': max_depth,\n",
    "               'min_samples_split': min_samples_split,\n",
    "               'min_samples_leaf': min_samples_leaf,\n",
    "              'criterion':['entropy','gini']}\n",
    "print(random_grid)"
   ]
  },
  {
   "cell_type": "code",
   "execution_count": 95,
   "metadata": {},
   "outputs": [
    {
     "name": "stdout",
     "output_type": "stream",
     "text": [
      "Fitting 2 folds for each of 5 candidates, totalling 10 fits\n"
     ]
    },
    {
     "data": {
      "text/plain": [
       "RandomizedSearchCV(cv=2, estimator=RandomForestClassifier(), n_iter=5,\n",
       "                   n_jobs=-1,\n",
       "                   param_distributions={'criterion': ['entropy', 'gini'],\n",
       "                                        'max_depth': [5, 8, 15, 25, 30],\n",
       "                                        'max_features': ['auto', 'sqrt',\n",
       "                                                         'log2'],\n",
       "                                        'min_samples_leaf': [1, 2, 4, 6, 8],\n",
       "                                        'min_samples_split': [2, 5, 10, 14],\n",
       "                                        'n_estimators': [300, 400, 500, 600,\n",
       "                                                         700, 1000]},\n",
       "                   random_state=100, verbose=2)"
      ]
     },
     "execution_count": 95,
     "metadata": {},
     "output_type": "execute_result"
    }
   ],
   "source": [
    "rf=RandomForestClassifier()\n",
    "rf_randomcv=RandomizedSearchCV(estimator=rf,param_distributions=random_grid,n_iter=5,cv=2,verbose=2,\n",
    "                               random_state=100,n_jobs=-1)\n",
    "\n",
    "rf_randomcv.fit(train_X,train_y)"
   ]
  },
  {
   "cell_type": "code",
   "execution_count": 96,
   "metadata": {},
   "outputs": [
    {
     "data": {
      "text/plain": [
       "{'n_estimators': 500,\n",
       " 'min_samples_split': 5,\n",
       " 'min_samples_leaf': 8,\n",
       " 'max_features': 'auto',\n",
       " 'max_depth': 30,\n",
       " 'criterion': 'entropy'}"
      ]
     },
     "execution_count": 96,
     "metadata": {},
     "output_type": "execute_result"
    }
   ],
   "source": [
    "rf_randomcv.best_params_"
   ]
  },
  {
   "cell_type": "code",
   "execution_count": 97,
   "metadata": {},
   "outputs": [
    {
     "data": {
      "text/plain": [
       "RandomizedSearchCV(cv=2, estimator=RandomForestClassifier(), n_iter=5,\n",
       "                   n_jobs=-1,\n",
       "                   param_distributions={'criterion': ['entropy', 'gini'],\n",
       "                                        'max_depth': [5, 8, 15, 25, 30],\n",
       "                                        'max_features': ['auto', 'sqrt',\n",
       "                                                         'log2'],\n",
       "                                        'min_samples_leaf': [1, 2, 4, 6, 8],\n",
       "                                        'min_samples_split': [2, 5, 10, 14],\n",
       "                                        'n_estimators': [300, 400, 500, 600,\n",
       "                                                         700, 1000]},\n",
       "                   random_state=100, verbose=2)"
      ]
     },
     "execution_count": 97,
     "metadata": {},
     "output_type": "execute_result"
    }
   ],
   "source": [
    "rf_randomcv"
   ]
  },
  {
   "cell_type": "code",
   "execution_count": 98,
   "metadata": {},
   "outputs": [],
   "source": [
    "best_random_grid=rf_randomcv.best_estimator_"
   ]
  },
  {
   "cell_type": "code",
   "execution_count": 99,
   "metadata": {},
   "outputs": [
    {
     "name": "stdout",
     "output_type": "stream",
     "text": [
      "[[ 4718   265]\n",
      " [  792 10178]]\n",
      "Accuracy Score 0.9337428696796841\n",
      "Classification report:               precision    recall  f1-score   support\n",
      "\n",
      "           0       0.86      0.95      0.90      4983\n",
      "           1       0.97      0.93      0.95     10970\n",
      "\n",
      "    accuracy                           0.93     15953\n",
      "   macro avg       0.92      0.94      0.92     15953\n",
      "weighted avg       0.94      0.93      0.93     15953\n",
      "\n",
      "f1 score 0.9249518203374552\n"
     ]
    }
   ],
   "source": [
    "from sklearn.metrics import accuracy_score\n",
    "\n",
    "y_pred=best_random_grid.predict(test_X)\n",
    "\n",
    "print(confusion_matrix(test_y,y_pred))\n",
    "print(\"Accuracy Score {}\".format(accuracy_score(test_y,y_pred)))\n",
    "print(\"Classification report: {}\".format(classification_report(test_y,y_pred)))\n",
    "print(\"f1 score {}\".format(f1_score(test_y,y_pred, average='macro')))"
   ]
  },
  {
   "cell_type": "code",
   "execution_count": 100,
   "metadata": {},
   "outputs": [
    {
     "data": {
      "text/plain": [
       "2.2884534910511882"
      ]
     },
     "execution_count": 100,
     "metadata": {},
     "output_type": "execute_result"
    }
   ],
   "source": [
    "from sklearn.metrics import log_loss\n",
    "\n",
    "log_loss(test_y, best_random_grid.predict(test_X))"
   ]
  },
  {
   "cell_type": "code",
   "execution_count": 101,
   "metadata": {},
   "outputs": [],
   "source": [
    "preds = best_random_grid.predict(X_test)"
   ]
  },
  {
   "cell_type": "code",
   "execution_count": 102,
   "metadata": {},
   "outputs": [
    {
     "data": {
      "text/plain": [
       "0    17906\n",
       "1    11007\n",
       "dtype: int64"
      ]
     },
     "execution_count": 102,
     "metadata": {},
     "output_type": "execute_result"
    }
   ],
   "source": [
    "fin2 = pd.DataFrame(preds)\n",
    "\n",
    "fin2.value_counts()"
   ]
  },
  {
   "cell_type": "markdown",
   "metadata": {},
   "source": [
    "# RandomSearchCV for GradientBoost"
   ]
  },
  {
   "cell_type": "code",
   "execution_count": 283,
   "metadata": {},
   "outputs": [
    {
     "name": "stdout",
     "output_type": "stream",
     "text": [
      "[[4589  445]\n",
      " [1105 9880]]\n",
      "0.9032399026156439\n",
      "              precision    recall  f1-score   support\n",
      "\n",
      "           0       0.81      0.91      0.86      5034\n",
      "           1       0.96      0.90      0.93     10985\n",
      "\n",
      "    accuracy                           0.90     16019\n",
      "   macro avg       0.88      0.91      0.89     16019\n",
      "weighted avg       0.91      0.90      0.90     16019\n",
      "\n"
     ]
    }
   ],
   "source": [
    "from sklearn.ensemble import GradientBoostingClassifier\n",
    "\n",
    "gb_classifier = GradientBoostingClassifier(n_estimators=50, min_samples_split=40, min_samples_leaf=20, max_depth=8).fit(train_X,train_y)\n",
    "prediction = gb_classifier.predict(test_X)\n",
    "\n",
    "from sklearn.metrics import confusion_matrix,classification_report,accuracy_score\n",
    "\n",
    "print(confusion_matrix(test_y,prediction))\n",
    "print(accuracy_score(test_y,prediction))\n",
    "print(classification_report(test_y,prediction))"
   ]
  },
  {
   "cell_type": "code",
   "execution_count": 284,
   "metadata": {},
   "outputs": [
    {
     "data": {
      "text/plain": [
       "3.341997579934328"
      ]
     },
     "execution_count": 284,
     "metadata": {},
     "output_type": "execute_result"
    }
   ],
   "source": [
    "from sklearn.metrics import log_loss\n",
    "\n",
    "log_loss(test_y, gb_classifier.predict(test_X))"
   ]
  },
  {
   "cell_type": "code",
   "execution_count": null,
   "metadata": {},
   "outputs": [],
   "source": [
    "from sklearn.model_selection import RandomizedSearchCV\n",
    "\n",
    "n_estimators = [300, 400, 500, 600, 700,1000]\n",
    "max_features = ['auto', 'sqrt','log2']\n",
    "max_depth = [5, 8, 15, 25, 30]\n",
    "min_samples_split = [2, 5, 10, 14]\n",
    "min_samples_leaf = [1, 2, 4, 6, 8]\n",
    "\n",
    "random_grid = {'n_estimators': n_estimators,\n",
    "               'max_features': max_features,\n",
    "               'max_depth': max_depth,\n",
    "               'min_samples_split': min_samples_split,\n",
    "               'min_samples_leaf': min_samples_leaf,\n",
    "                'loss':['deviance','exponential'],\n",
    "                'learning_rate' : [0.1,0.01,0.001]}\n",
    "print(random_grid)"
   ]
  },
  {
   "cell_type": "code",
   "execution_count": null,
   "metadata": {},
   "outputs": [],
   "source": [
    "gb=GradientBoostingClassifier()\n",
    "gb_randomcv=RandomizedSearchCV(estimator=gb,param_distributions=random_grid,n_iter=5,cv=2,verbose=2,\n",
    "                               random_state=100,n_jobs=-1)\n",
    "\n",
    "gb_randomcv.fit(train_X,train_y)"
   ]
  },
  {
   "cell_type": "code",
   "execution_count": null,
   "metadata": {},
   "outputs": [],
   "source": [
    "gb_randomcv.best_params_"
   ]
  },
  {
   "cell_type": "code",
   "execution_count": null,
   "metadata": {},
   "outputs": [],
   "source": [
    "gb_randomcv"
   ]
  },
  {
   "cell_type": "code",
   "execution_count": null,
   "metadata": {},
   "outputs": [],
   "source": [
    "best_random_grid=gb_randomcv.best_estimator_"
   ]
  },
  {
   "cell_type": "code",
   "execution_count": null,
   "metadata": {},
   "outputs": [],
   "source": [
    "from sklearn.metrics import accuracy_score\n",
    "\n",
    "y_pred=best_random_grid.predict(test_X)\n",
    "\n",
    "print(confusion_matrix(test_y,y_pred))\n",
    "print(\"Accuracy Score {}\".format(accuracy_score(test_y,y_pred)))\n",
    "print(\"Classification report: {}\".format(classification_report(test_y,y_pred)))\n",
    "print(\"f1 score {}\".format(f1_score(test_y,y_pred, average='macro')))"
   ]
  },
  {
   "cell_type": "code",
   "execution_count": null,
   "metadata": {},
   "outputs": [],
   "source": [
    "from sklearn.metrics import log_loss\n",
    "\n",
    "log_loss(test_y, best_random_grid.predict(test_X))"
   ]
  },
  {
   "cell_type": "code",
   "execution_count": 278,
   "metadata": {},
   "outputs": [
    {
     "data": {
      "text/plain": [
       "0    18322\n",
       "1    10591\n",
       "dtype: int64"
      ]
     },
     "execution_count": 278,
     "metadata": {},
     "output_type": "execute_result"
    }
   ],
   "source": [
    "preds = gb_classifier.predict(X_test)\n",
    "preds =  pd.DataFrame(preds)\n",
    "preds.value_counts()"
   ]
  },
  {
   "cell_type": "code",
   "execution_count": null,
   "metadata": {},
   "outputs": [],
   "source": [
    "fin3 = pd.DataFrame(preds)\n",
    "\n",
    "fin3.value_counts()"
   ]
  },
  {
   "cell_type": "markdown",
   "metadata": {},
   "source": [
    "# RandomSearchCV for XGBoost"
   ]
  },
  {
   "cell_type": "code",
   "execution_count": 105,
   "metadata": {},
   "outputs": [
    {
     "name": "stdout",
     "output_type": "stream",
     "text": [
      "[01:26:01] WARNING: C:/Users/Administrator/workspace/xgboost-win64_release_1.5.1/src/learner.cc:1115: Starting in XGBoost 1.3.0, the default evaluation metric used with the objective 'binary:logistic' was changed from 'error' to 'logloss'. Explicitly set eval_metric if you'd like to restore the old behavior.\n",
      "[[4346  637]\n",
      " [1328 9642]]\n",
      "0.8768256754215508\n",
      "              precision    recall  f1-score   support\n",
      "\n",
      "           0       0.77      0.87      0.82      4983\n",
      "           1       0.94      0.88      0.91     10970\n",
      "\n",
      "    accuracy                           0.88     15953\n",
      "   macro avg       0.85      0.88      0.86     15953\n",
      "weighted avg       0.88      0.88      0.88     15953\n",
      "\n"
     ]
    }
   ],
   "source": [
    "from xgboost import XGBClassifier\n",
    "\n",
    "xgb_classifier = XGBClassifier(n_estimators=10).fit(train_X,train_y)\n",
    "prediction = xgb_classifier.predict(test_X)\n",
    "\n",
    "from sklearn.metrics import confusion_matrix,classification_report,accuracy_score\n",
    "\n",
    "print(confusion_matrix(test_y,prediction))\n",
    "print(accuracy_score(test_y,prediction))\n",
    "print(classification_report(test_y,prediction))"
   ]
  },
  {
   "cell_type": "code",
   "execution_count": 106,
   "metadata": {},
   "outputs": [
    {
     "data": {
      "text/plain": [
       "4.254322381969694"
      ]
     },
     "execution_count": 106,
     "metadata": {},
     "output_type": "execute_result"
    }
   ],
   "source": [
    "from sklearn.metrics import log_loss\n",
    "\n",
    "log_loss(test_y, xgb_classifier.predict(test_X))"
   ]
  },
  {
   "cell_type": "code",
   "execution_count": null,
   "metadata": {},
   "outputs": [],
   "source": [
    "preds = xgb_classifier.predict(X_test)\n",
    "\n",
    "preds = pd.DataFrame(preds)\n",
    "preds.to_csv('sub_xgb_final.csv')"
   ]
  },
  {
   "cell_type": "code",
   "execution_count": null,
   "metadata": {},
   "outputs": [],
   "source": [
    "from sklearn.model_selection import RandomizedSearchCV\n",
    "# Number of trees in random forest\n",
    "n_estimators = [300, 400, 500, 600, 700,1000]\n",
    "# Number of features to consider at every split\n",
    "#max_features = ['auto', 'sqrt','log2']\n",
    "# Maximum number of levels in tree\n",
    "max_depth = [5, 8, 15, 25, 30]\n",
    "# Minimum number of samples required to split a node\n",
    "min_samples_split = [2, 5, 10, 14]\n",
    "# Minimum number of samples required at each leaf node\n",
    "min_samples_leaf = [1, 2, 4, 6, 8]\n",
    "# Create the random grid\n",
    "random_grid = {'n_estimators': n_estimators,\n",
    "               'max_depth': max_depth,\n",
    "               'min_samples_split': min_samples_split,\n",
    "               'min_samples_leaf': min_samples_leaf,\n",
    "                'loss':['deviance','exponential'],\n",
    "                'learning_rate' : [0.1,0.01,0.001],\n",
    "                'min_child_weight': [1, 5, 10],\n",
    "                'gamma': [0.5, 1, 1.5, 2, 5],\n",
    "                'subsample': [0.6, 0.8, 1.0],\n",
    "                'colsample_bytree': [0.6, 0.8, 1.0]}\n",
    "print(random_grid)"
   ]
  },
  {
   "cell_type": "code",
   "execution_count": null,
   "metadata": {},
   "outputs": [],
   "source": [
    "xgb=XGBClassifier()\n",
    "xgb_randomcv=RandomizedSearchCV(estimator=xgb,param_distributions=random_grid,n_iter=5,cv=2,verbose=2,\n",
    "                               random_state=100,n_jobs=-1)\n",
    "### fit the randomized model\n",
    "xgb_randomcv.fit(train_X,train_y)"
   ]
  },
  {
   "cell_type": "code",
   "execution_count": null,
   "metadata": {},
   "outputs": [],
   "source": [
    "xgb_randomcv.best_params_"
   ]
  },
  {
   "cell_type": "code",
   "execution_count": null,
   "metadata": {},
   "outputs": [],
   "source": [
    "xgb_randomcv"
   ]
  },
  {
   "cell_type": "code",
   "execution_count": null,
   "metadata": {},
   "outputs": [],
   "source": [
    "best_random_grid=xgb_randomcv.best_estimator_"
   ]
  },
  {
   "cell_type": "code",
   "execution_count": null,
   "metadata": {},
   "outputs": [],
   "source": [
    "from sklearn.metrics import accuracy_score\n",
    "y_pred=best_random_grid.predict(test_X)\n",
    "print(confusion_matrix(test_y,y_pred))\n",
    "print(\"Accuracy Score {}\".format(accuracy_score(test_y,y_pred)))\n",
    "print(\"Classification report: {}\".format(classification_report(test_y,y_pred)))\n",
    "print(\"f1 score {}\".format(f1_score(test_y,y_pred, average='macro')))"
   ]
  },
  {
   "cell_type": "code",
   "execution_count": null,
   "metadata": {},
   "outputs": [],
   "source": [
    "fin5 = pd.DataFrame(y_pred)\n",
    "\n",
    "fin5.value_counts()"
   ]
  },
  {
   "cell_type": "markdown",
   "metadata": {},
   "source": [
    "# RandomsearchCV for AdaBoost using DTC as base estimator"
   ]
  },
  {
   "cell_type": "code",
   "execution_count": 107,
   "metadata": {},
   "outputs": [
    {
     "name": "stdout",
     "output_type": "stream",
     "text": [
      "[[4684  299]\n",
      " [1326 9644]]\n",
      "0.898138281201028\n",
      "              precision    recall  f1-score   support\n",
      "\n",
      "           0       0.78      0.94      0.85      4983\n",
      "           1       0.97      0.88      0.92     10970\n",
      "\n",
      "    accuracy                           0.90     15953\n",
      "   macro avg       0.87      0.91      0.89     15953\n",
      "weighted avg       0.91      0.90      0.90     15953\n",
      "\n"
     ]
    }
   ],
   "source": [
    "from sklearn.ensemble import AdaBoostClassifier\n",
    "\n",
    "agb_classifier = AdaBoostClassifier(n_estimators=300).fit(train_X,train_y)\n",
    "prediction = agb_classifier.predict(test_X)\n",
    "\n",
    "from sklearn.metrics import confusion_matrix,classification_report,accuracy_score\n",
    "\n",
    "print(confusion_matrix(test_y,prediction))\n",
    "print(accuracy_score(test_y,prediction))\n",
    "print(classification_report(test_y,prediction))"
   ]
  },
  {
   "cell_type": "code",
   "execution_count": 108,
   "metadata": {},
   "outputs": [
    {
     "data": {
      "text/plain": [
       "3.5181941152987832"
      ]
     },
     "execution_count": 108,
     "metadata": {},
     "output_type": "execute_result"
    }
   ],
   "source": [
    "from sklearn.metrics import log_loss\n",
    "\n",
    "log_loss(test_y, agb_classifier.predict(test_X))"
   ]
  },
  {
   "cell_type": "code",
   "execution_count": null,
   "metadata": {},
   "outputs": [],
   "source": [
    "# from sklearn.tree import DecisionTreeClassifier\n",
    "\n",
    "# dt_classifier = DecisionTreeClassifier(class_weight={0:100.0,1:10.0}).fit(X_train_ns,y_train_ns)\n",
    "# prediction = dt_classifier.predict(X_test)\n",
    "\n",
    "# from sklearn.metrics import confusion_matrix,classification_report,accuracy_score\n",
    "\n",
    "# print(confusion_matrix(y_test,prediction))\n",
    "# print(accuracy_score(y_test,prediction))\n",
    "# print(classification_report(y_test,prediction))"
   ]
  },
  {
   "cell_type": "code",
   "execution_count": null,
   "metadata": {},
   "outputs": [],
   "source": [
    "from sklearn.model_selection import RandomizedSearchCV\n",
    "\n",
    "criterion = ['gini', 'entropy']\n",
    "max_depth = [2,4,6,8,10,12]\n",
    "max_depth = [5, 8, 15, 25, 30]\n",
    "min_samples_split = [2, 5, 10, 14]\n",
    "min_samples_leaf = [1, 2, 4, 6, 8]\n",
    "\n",
    "random_grid = {'max_depth': max_depth,\n",
    "               'min_samples_split': min_samples_split,\n",
    "               'min_samples_leaf': min_samples_leaf,\n",
    "               'criterion':criterion}\n",
    "print(random_grid)"
   ]
  },
  {
   "cell_type": "code",
   "execution_count": null,
   "metadata": {},
   "outputs": [],
   "source": [
    "dtc=DecisionTreeClassifier(class_weight={0:2.3,1:1.0})\n",
    "dtc_randomcv=RandomizedSearchCV(estimator=dtc,param_distributions=random_grid,n_iter=5,cv=2,verbose=2,\n",
    "                               random_state=100,n_jobs=-1)\n",
    "\n",
    "dtc_randomcv.fit(train_X,train_y)"
   ]
  },
  {
   "cell_type": "code",
   "execution_count": null,
   "metadata": {},
   "outputs": [],
   "source": [
    "dtc_randomcv.best_params_"
   ]
  },
  {
   "cell_type": "code",
   "execution_count": null,
   "metadata": {},
   "outputs": [],
   "source": [
    "from sklearn.ensemble import AdaBoostClassifier\n",
    "\n",
    "\n",
    "random_grid = {\n",
    "    'n_estimators':[300,400,500,700,1000]\n",
    "}\n",
    "\n",
    "base = DecisionTreeClassifier( max_depth=30, criterion='gini', min_samples_split=2 ,min_samples_leaf=6 )\n",
    "\n",
    "ada_clf = AdaBoostClassifier( base_estimator=base )\n",
    "\n",
    "ada_randomcv = RandomizedSearchCV(estimator=ada_clf,param_distributions=random_grid,n_iter=5,cv=2,verbose=2,\n",
    "                               random_state=100,n_jobs=-1)\n",
    "\n",
    "ada_randomcv.fit(train_X,train_y)\n"
   ]
  },
  {
   "cell_type": "code",
   "execution_count": null,
   "metadata": {},
   "outputs": [],
   "source": [
    "ada_randomcv"
   ]
  },
  {
   "cell_type": "code",
   "execution_count": null,
   "metadata": {},
   "outputs": [],
   "source": [
    "best_random_grid=ada_randomcv.best_estimator_"
   ]
  },
  {
   "cell_type": "code",
   "execution_count": null,
   "metadata": {},
   "outputs": [],
   "source": [
    "from sklearn.metrics import accuracy_score\n",
    "\n",
    "y_pred = best_random_grid.predict(test_X)\n",
    "\n",
    "print(confusion_matrix(test_y,y_pred))\n",
    "print(\"Accuracy Score {}\".format(accuracy_score(test_y,y_pred)))\n",
    "print(\"Classification report: {}\".format(classification_report(test_y,y_pred)))"
   ]
  },
  {
   "cell_type": "code",
   "execution_count": null,
   "metadata": {},
   "outputs": [],
   "source": [
    "from sklearn.metrics import log_loss\n",
    "\n",
    "log_loss(test_y, best_random_grid.predict(test_X))"
   ]
  },
  {
   "cell_type": "code",
   "execution_count": null,
   "metadata": {},
   "outputs": [],
   "source": [
    "fin4 = pd.DataFrame(y_pred)\n",
    "\n",
    "fin4.value_counts()"
   ]
  },
  {
   "cell_type": "code",
   "execution_count": null,
   "metadata": {},
   "outputs": [],
   "source": [
    "fin2.to_csv('preds_rf_final.csv')\n",
    "fin3.to_csv('preds_gb_final.csv')\n",
    "fin4.to_csv('preds_ada_final.csv')"
   ]
  },
  {
   "cell_type": "code",
   "execution_count": null,
   "metadata": {},
   "outputs": [],
   "source": [
    "fin5.to_csv('preds_xgb_final.csv')"
   ]
  },
  {
   "cell_type": "markdown",
   "metadata": {},
   "source": [
    "# achieved high performance on gradient boosting classifier"
   ]
  },
  {
   "cell_type": "code",
   "execution_count": null,
   "metadata": {},
   "outputs": [],
   "source": [
    "from sklearn.ensemble import GradientBoostingClassifier\n",
    "\n",
    "gb_classifier = GradientBoostingClassifier(n_estimators=10).fit(X_train_ns,y_train_ns)\n",
    "prediction = gb_classifier.predict(X_test)\n",
    "\n",
    "from sklearn.metrics import confusion_matrix,classification_report,accuracy_score\n",
    "\n",
    "print(confusion_matrix(y_test,prediction))\n",
    "print(accuracy_score(y_test,prediction))\n",
    "print(classification_report(y_test,prediction))"
   ]
  },
  {
   "cell_type": "code",
   "execution_count": null,
   "metadata": {},
   "outputs": [],
   "source": [
    "from sklearn.model_selection import RandomizedSearchCV\n",
    "\n",
    "n_estimators = [300, 400, 500, 600, 700,1000]\n",
    "max_features = ['auto', 'sqrt','log2']\n",
    "max_depth = [5, 8, 15, 25, 30]\n",
    "min_samples_split = [2, 5, 10, 14]\n",
    "min_samples_leaf = [1, 2, 4, 6, 8]\n",
    "\n",
    "random_grid = {'n_estimators': n_estimators,\n",
    "               'max_features': max_features,\n",
    "               'max_depth': max_depth,\n",
    "               'min_samples_split': min_samples_split,\n",
    "               'min_samples_leaf': min_samples_leaf,\n",
    "                'loss':['deviance','exponential'],\n",
    "                'learning_rate' : [0.1,0.01,0.001]}\n",
    "print(random_grid)"
   ]
  },
  {
   "cell_type": "code",
   "execution_count": null,
   "metadata": {},
   "outputs": [],
   "source": [
    "gb=GradientBoostingClassifier()\n",
    "gb_randomcv=RandomizedSearchCV(estimator=gb,param_distributions=random_grid,n_iter=10,cv=3,verbose=2,\n",
    "                               random_state=100,n_jobs=-1)\n",
    "\n",
    "gb_randomcv.fit(X_train_ns,y_train_ns)"
   ]
  },
  {
   "cell_type": "code",
   "execution_count": null,
   "metadata": {},
   "outputs": [],
   "source": [
    "gb_randomcv.best_params_"
   ]
  },
  {
   "cell_type": "code",
   "execution_count": null,
   "metadata": {},
   "outputs": [],
   "source": [
    "gb_randomcv"
   ]
  },
  {
   "cell_type": "code",
   "execution_count": null,
   "metadata": {},
   "outputs": [],
   "source": [
    "best_random_grid=gb_randomcv.best_estimator_"
   ]
  },
  {
   "cell_type": "code",
   "execution_count": null,
   "metadata": {},
   "outputs": [],
   "source": [
    "from sklearn.metrics import accuracy_score\n",
    "y_pred=best_random_grid.predict(X_test)\n",
    "print(confusion_matrix(y_test,y_pred))\n",
    "print(\"Accuracy Score {}\".format(accuracy_score(y_test,y_pred)))\n",
    "print(\"Classification report: {}\".format(classification_report(y_test,y_pred)))"
   ]
  },
  {
   "cell_type": "code",
   "execution_count": null,
   "metadata": {},
   "outputs": [],
   "source": [
    "final = pd.DataFrame(y_pred)\n",
    "\n",
    "final.value_counts()"
   ]
  },
  {
   "cell_type": "code",
   "execution_count": null,
   "metadata": {},
   "outputs": [],
   "source": [
    "final.to_csv('preds_gb_final2.csv')"
   ]
  },
  {
   "cell_type": "code",
   "execution_count": null,
   "metadata": {},
   "outputs": [],
   "source": []
  },
  {
   "cell_type": "code",
   "execution_count": null,
   "metadata": {},
   "outputs": [],
   "source": [
    "fin2.to_csv('preds_rf_smoteenn_2.csv')"
   ]
  },
  {
   "cell_type": "code",
   "execution_count": null,
   "metadata": {},
   "outputs": [],
   "source": [
    "fin3.to_csv('preds_gb.csv')"
   ]
  },
  {
   "cell_type": "code",
   "execution_count": null,
   "metadata": {},
   "outputs": [],
   "source": [
    "fin4.to_csv('preds_xgb.csv')"
   ]
  },
  {
   "cell_type": "code",
   "execution_count": null,
   "metadata": {},
   "outputs": [],
   "source": [
    "fin6 = pd.DataFrame(y_pred)\n",
    "\n",
    "fin6.value_counts()"
   ]
  },
  {
   "cell_type": "code",
   "execution_count": null,
   "metadata": {},
   "outputs": [],
   "source": [
    "fin6.to_csv('preds_ada_cv.csv')"
   ]
  },
  {
   "cell_type": "code",
   "execution_count": null,
   "metadata": {},
   "outputs": [],
   "source": []
  },
  {
   "cell_type": "code",
   "execution_count": null,
   "metadata": {},
   "outputs": [],
   "source": [
    "fin5 = pd.DataFrame(prediction)\n",
    "fin5.to_csv('preds_abclf.csv')"
   ]
  },
  {
   "cell_type": "code",
   "execution_count": null,
   "metadata": {},
   "outputs": [],
   "source": [
    "fin.to_csv('my_predictions2.csv')"
   ]
  },
  {
   "cell_type": "code",
   "execution_count": null,
   "metadata": {},
   "outputs": [],
   "source": []
  }
 ],
 "metadata": {
  "kernelspec": {
   "display_name": "Python 3",
   "language": "python",
   "name": "python3"
  }
 },
 "nbformat": 4,
 "nbformat_minor": 4
}
