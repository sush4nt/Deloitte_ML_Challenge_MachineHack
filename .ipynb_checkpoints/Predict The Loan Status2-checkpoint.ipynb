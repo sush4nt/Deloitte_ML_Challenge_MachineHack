{
 "cells": [
  {
   "cell_type": "markdown",
   "metadata": {},
   "source": [
    "#### Dataset Description\n",
    "Train.csv - 67463 rows x 35 columns (Includes target column as Loan Status) <br>\n",
    "Test.csv - 28913 rows x 34 columns(Includes target column as Loan Status) <br>\n",
    "Sample Submission.csv -  Please check the Evaluation section for more details on how to generate a valid submission. <br>\n"
   ]
  },
  {
   "cell_type": "code",
   "execution_count": 1,
   "metadata": {},
   "outputs": [],
   "source": [
    "from sklearn.datasets import load_iris\n",
    "from sklearn.model_selection import train_test_split\n",
    "from sklearn.preprocessing import StandardScaler\n",
    "from sklearn.decomposition import PCA\n",
    "from sklearn.pipeline import Pipeline\n",
    "from sklearn.linear_model import LogisticRegression\n",
    "from sklearn.tree import DecisionTreeClassifier\n",
    "from sklearn.ensemble import RandomForestClassifier"
   ]
  },
  {
   "cell_type": "code",
   "execution_count": 2,
   "metadata": {},
   "outputs": [],
   "source": [
    "# Suppressing Warnings\n",
    "import warnings\n",
    "warnings.filterwarnings('ignore')"
   ]
  },
  {
   "cell_type": "code",
   "execution_count": 3,
   "metadata": {},
   "outputs": [],
   "source": [
    "# Importing Pandas and NumPy\n",
    "import pandas as pd, numpy as np"
   ]
  },
  {
   "cell_type": "code",
   "execution_count": 4,
   "metadata": {},
   "outputs": [
    {
     "data": {
      "text/html": [
       "<div>\n",
       "<style scoped>\n",
       "    .dataframe tbody tr th:only-of-type {\n",
       "        vertical-align: middle;\n",
       "    }\n",
       "\n",
       "    .dataframe tbody tr th {\n",
       "        vertical-align: top;\n",
       "    }\n",
       "\n",
       "    .dataframe thead th {\n",
       "        text-align: right;\n",
       "    }\n",
       "</style>\n",
       "<table border=\"1\" class=\"dataframe\">\n",
       "  <thead>\n",
       "    <tr style=\"text-align: right;\">\n",
       "      <th></th>\n",
       "      <th>ID</th>\n",
       "      <th>Loan Amount</th>\n",
       "      <th>Funded Amount</th>\n",
       "      <th>Funded Amount Investor</th>\n",
       "      <th>Term</th>\n",
       "      <th>Batch Enrolled</th>\n",
       "      <th>Interest Rate</th>\n",
       "      <th>Grade</th>\n",
       "      <th>Sub Grade</th>\n",
       "      <th>Employment Duration</th>\n",
       "      <th>...</th>\n",
       "      <th>Recoveries</th>\n",
       "      <th>Collection Recovery Fee</th>\n",
       "      <th>Collection 12 months Medical</th>\n",
       "      <th>Application Type</th>\n",
       "      <th>Last week Pay</th>\n",
       "      <th>Accounts Delinquent</th>\n",
       "      <th>Total Collection Amount</th>\n",
       "      <th>Total Current Balance</th>\n",
       "      <th>Total Revolving Credit Limit</th>\n",
       "      <th>Loan Status</th>\n",
       "    </tr>\n",
       "  </thead>\n",
       "  <tbody>\n",
       "    <tr>\n",
       "      <th>0</th>\n",
       "      <td>65087372</td>\n",
       "      <td>10000</td>\n",
       "      <td>32236</td>\n",
       "      <td>12329.36286</td>\n",
       "      <td>59</td>\n",
       "      <td>BAT2522922</td>\n",
       "      <td>11.135007</td>\n",
       "      <td>B</td>\n",
       "      <td>C4</td>\n",
       "      <td>MORTGAGE</td>\n",
       "      <td>...</td>\n",
       "      <td>2.498291</td>\n",
       "      <td>0.793724</td>\n",
       "      <td>0</td>\n",
       "      <td>INDIVIDUAL</td>\n",
       "      <td>49</td>\n",
       "      <td>0</td>\n",
       "      <td>31</td>\n",
       "      <td>311301</td>\n",
       "      <td>6619</td>\n",
       "      <td>0</td>\n",
       "    </tr>\n",
       "    <tr>\n",
       "      <th>1</th>\n",
       "      <td>1450153</td>\n",
       "      <td>3609</td>\n",
       "      <td>11940</td>\n",
       "      <td>12191.99692</td>\n",
       "      <td>59</td>\n",
       "      <td>BAT1586599</td>\n",
       "      <td>12.237563</td>\n",
       "      <td>C</td>\n",
       "      <td>D3</td>\n",
       "      <td>RENT</td>\n",
       "      <td>...</td>\n",
       "      <td>2.377215</td>\n",
       "      <td>0.974821</td>\n",
       "      <td>0</td>\n",
       "      <td>INDIVIDUAL</td>\n",
       "      <td>109</td>\n",
       "      <td>0</td>\n",
       "      <td>53</td>\n",
       "      <td>182610</td>\n",
       "      <td>20885</td>\n",
       "      <td>0</td>\n",
       "    </tr>\n",
       "    <tr>\n",
       "      <th>2</th>\n",
       "      <td>1969101</td>\n",
       "      <td>28276</td>\n",
       "      <td>9311</td>\n",
       "      <td>21603.22455</td>\n",
       "      <td>59</td>\n",
       "      <td>BAT2136391</td>\n",
       "      <td>12.545884</td>\n",
       "      <td>F</td>\n",
       "      <td>D4</td>\n",
       "      <td>MORTGAGE</td>\n",
       "      <td>...</td>\n",
       "      <td>4.316277</td>\n",
       "      <td>1.020075</td>\n",
       "      <td>0</td>\n",
       "      <td>INDIVIDUAL</td>\n",
       "      <td>66</td>\n",
       "      <td>0</td>\n",
       "      <td>34</td>\n",
       "      <td>89801</td>\n",
       "      <td>26155</td>\n",
       "      <td>0</td>\n",
       "    </tr>\n",
       "    <tr>\n",
       "      <th>3</th>\n",
       "      <td>6651430</td>\n",
       "      <td>11170</td>\n",
       "      <td>6954</td>\n",
       "      <td>17877.15585</td>\n",
       "      <td>59</td>\n",
       "      <td>BAT2428731</td>\n",
       "      <td>16.731201</td>\n",
       "      <td>C</td>\n",
       "      <td>C3</td>\n",
       "      <td>MORTGAGE</td>\n",
       "      <td>...</td>\n",
       "      <td>0.107020</td>\n",
       "      <td>0.749971</td>\n",
       "      <td>0</td>\n",
       "      <td>INDIVIDUAL</td>\n",
       "      <td>39</td>\n",
       "      <td>0</td>\n",
       "      <td>40</td>\n",
       "      <td>9189</td>\n",
       "      <td>60214</td>\n",
       "      <td>0</td>\n",
       "    </tr>\n",
       "  </tbody>\n",
       "</table>\n",
       "<p>4 rows × 35 columns</p>\n",
       "</div>"
      ],
      "text/plain": [
       "         ID  Loan Amount  Funded Amount  Funded Amount Investor  Term  \\\n",
       "0  65087372        10000          32236             12329.36286    59   \n",
       "1   1450153         3609          11940             12191.99692    59   \n",
       "2   1969101        28276           9311             21603.22455    59   \n",
       "3   6651430        11170           6954             17877.15585    59   \n",
       "\n",
       "  Batch Enrolled  Interest Rate Grade Sub Grade Employment Duration  ...  \\\n",
       "0     BAT2522922      11.135007     B        C4            MORTGAGE  ...   \n",
       "1     BAT1586599      12.237563     C        D3                RENT  ...   \n",
       "2     BAT2136391      12.545884     F        D4            MORTGAGE  ...   \n",
       "3     BAT2428731      16.731201     C        C3            MORTGAGE  ...   \n",
       "\n",
       "   Recoveries Collection Recovery Fee Collection 12 months Medical  \\\n",
       "0    2.498291                0.793724                            0   \n",
       "1    2.377215                0.974821                            0   \n",
       "2    4.316277                1.020075                            0   \n",
       "3    0.107020                0.749971                            0   \n",
       "\n",
       "  Application Type  Last week Pay  Accounts Delinquent  \\\n",
       "0       INDIVIDUAL             49                    0   \n",
       "1       INDIVIDUAL            109                    0   \n",
       "2       INDIVIDUAL             66                    0   \n",
       "3       INDIVIDUAL             39                    0   \n",
       "\n",
       "   Total Collection Amount  Total Current Balance  \\\n",
       "0                       31                 311301   \n",
       "1                       53                 182610   \n",
       "2                       34                  89801   \n",
       "3                       40                   9189   \n",
       "\n",
       "   Total Revolving Credit Limit  Loan Status  \n",
       "0                          6619            0  \n",
       "1                         20885            0  \n",
       "2                         26155            0  \n",
       "3                         60214            0  \n",
       "\n",
       "[4 rows x 35 columns]"
      ]
     },
     "execution_count": 4,
     "metadata": {},
     "output_type": "execute_result"
    }
   ],
   "source": [
    "# Importing all datasets\n",
    "loan_train = pd.read_csv(\"C:/Users/HP/Desktop/DeloitteHackathon/train.csv\")\n",
    "loan_train.head(4)"
   ]
  },
  {
   "cell_type": "code",
   "execution_count": 5,
   "metadata": {},
   "outputs": [
    {
     "data": {
      "text/html": [
       "<div>\n",
       "<style scoped>\n",
       "    .dataframe tbody tr th:only-of-type {\n",
       "        vertical-align: middle;\n",
       "    }\n",
       "\n",
       "    .dataframe tbody tr th {\n",
       "        vertical-align: top;\n",
       "    }\n",
       "\n",
       "    .dataframe thead th {\n",
       "        text-align: right;\n",
       "    }\n",
       "</style>\n",
       "<table border=\"1\" class=\"dataframe\">\n",
       "  <thead>\n",
       "    <tr style=\"text-align: right;\">\n",
       "      <th></th>\n",
       "      <th>ID</th>\n",
       "      <th>Loan Amount</th>\n",
       "      <th>Funded Amount</th>\n",
       "      <th>Funded Amount Investor</th>\n",
       "      <th>Term</th>\n",
       "      <th>Batch Enrolled</th>\n",
       "      <th>Interest Rate</th>\n",
       "      <th>Grade</th>\n",
       "      <th>Sub Grade</th>\n",
       "      <th>Employment Duration</th>\n",
       "      <th>...</th>\n",
       "      <th>Recoveries</th>\n",
       "      <th>Collection Recovery Fee</th>\n",
       "      <th>Collection 12 months Medical</th>\n",
       "      <th>Application Type</th>\n",
       "      <th>Last week Pay</th>\n",
       "      <th>Accounts Delinquent</th>\n",
       "      <th>Total Collection Amount</th>\n",
       "      <th>Total Current Balance</th>\n",
       "      <th>Total Revolving Credit Limit</th>\n",
       "      <th>Loan Status</th>\n",
       "    </tr>\n",
       "  </thead>\n",
       "  <tbody>\n",
       "    <tr>\n",
       "      <th>0</th>\n",
       "      <td>56492997</td>\n",
       "      <td>17120</td>\n",
       "      <td>10365</td>\n",
       "      <td>16025.08269</td>\n",
       "      <td>59</td>\n",
       "      <td>BAT2575549</td>\n",
       "      <td>12.163926</td>\n",
       "      <td>A</td>\n",
       "      <td>D1</td>\n",
       "      <td>RENT</td>\n",
       "      <td>...</td>\n",
       "      <td>8.425776</td>\n",
       "      <td>0.731797</td>\n",
       "      <td>0</td>\n",
       "      <td>INDIVIDUAL</td>\n",
       "      <td>135</td>\n",
       "      <td>0</td>\n",
       "      <td>24</td>\n",
       "      <td>475442</td>\n",
       "      <td>4364</td>\n",
       "      <td>NaN</td>\n",
       "    </tr>\n",
       "    <tr>\n",
       "      <th>1</th>\n",
       "      <td>22540813</td>\n",
       "      <td>7133</td>\n",
       "      <td>11650</td>\n",
       "      <td>12615.79560</td>\n",
       "      <td>59</td>\n",
       "      <td>BAT2833642</td>\n",
       "      <td>6.564296</td>\n",
       "      <td>B</td>\n",
       "      <td>E3</td>\n",
       "      <td>MORTGAGE</td>\n",
       "      <td>...</td>\n",
       "      <td>6.157008</td>\n",
       "      <td>0.992918</td>\n",
       "      <td>0</td>\n",
       "      <td>INDIVIDUAL</td>\n",
       "      <td>56</td>\n",
       "      <td>0</td>\n",
       "      <td>1</td>\n",
       "      <td>72412</td>\n",
       "      <td>2573</td>\n",
       "      <td>NaN</td>\n",
       "    </tr>\n",
       "    <tr>\n",
       "      <th>2</th>\n",
       "      <td>9862181</td>\n",
       "      <td>25291</td>\n",
       "      <td>25825</td>\n",
       "      <td>11621.28083</td>\n",
       "      <td>59</td>\n",
       "      <td>BAT1761981</td>\n",
       "      <td>14.729900</td>\n",
       "      <td>A</td>\n",
       "      <td>C3</td>\n",
       "      <td>MORTGAGE</td>\n",
       "      <td>...</td>\n",
       "      <td>5.705077</td>\n",
       "      <td>0.281580</td>\n",
       "      <td>0</td>\n",
       "      <td>INDIVIDUAL</td>\n",
       "      <td>3</td>\n",
       "      <td>0</td>\n",
       "      <td>26</td>\n",
       "      <td>284825</td>\n",
       "      <td>19676</td>\n",
       "      <td>NaN</td>\n",
       "    </tr>\n",
       "    <tr>\n",
       "      <th>3</th>\n",
       "      <td>10097822</td>\n",
       "      <td>30781</td>\n",
       "      <td>9664</td>\n",
       "      <td>15375.82351</td>\n",
       "      <td>59</td>\n",
       "      <td>BAT5341619</td>\n",
       "      <td>10.523767</td>\n",
       "      <td>A</td>\n",
       "      <td>A2</td>\n",
       "      <td>RENT</td>\n",
       "      <td>...</td>\n",
       "      <td>2.469688</td>\n",
       "      <td>0.959162</td>\n",
       "      <td>0</td>\n",
       "      <td>INDIVIDUAL</td>\n",
       "      <td>21</td>\n",
       "      <td>0</td>\n",
       "      <td>32</td>\n",
       "      <td>40842</td>\n",
       "      <td>7226</td>\n",
       "      <td>NaN</td>\n",
       "    </tr>\n",
       "  </tbody>\n",
       "</table>\n",
       "<p>4 rows × 35 columns</p>\n",
       "</div>"
      ],
      "text/plain": [
       "         ID  Loan Amount  Funded Amount  Funded Amount Investor  Term  \\\n",
       "0  56492997        17120          10365             16025.08269    59   \n",
       "1  22540813         7133          11650             12615.79560    59   \n",
       "2   9862181        25291          25825             11621.28083    59   \n",
       "3  10097822        30781           9664             15375.82351    59   \n",
       "\n",
       "  Batch Enrolled  Interest Rate Grade Sub Grade Employment Duration  ...  \\\n",
       "0     BAT2575549      12.163926     A        D1                RENT  ...   \n",
       "1     BAT2833642       6.564296     B        E3            MORTGAGE  ...   \n",
       "2     BAT1761981      14.729900     A        C3            MORTGAGE  ...   \n",
       "3     BAT5341619      10.523767     A        A2                RENT  ...   \n",
       "\n",
       "   Recoveries Collection Recovery Fee Collection 12 months Medical  \\\n",
       "0    8.425776                0.731797                            0   \n",
       "1    6.157008                0.992918                            0   \n",
       "2    5.705077                0.281580                            0   \n",
       "3    2.469688                0.959162                            0   \n",
       "\n",
       "  Application Type  Last week Pay  Accounts Delinquent  \\\n",
       "0       INDIVIDUAL            135                    0   \n",
       "1       INDIVIDUAL             56                    0   \n",
       "2       INDIVIDUAL              3                    0   \n",
       "3       INDIVIDUAL             21                    0   \n",
       "\n",
       "   Total Collection Amount  Total Current Balance  \\\n",
       "0                       24                 475442   \n",
       "1                        1                  72412   \n",
       "2                       26                 284825   \n",
       "3                       32                  40842   \n",
       "\n",
       "   Total Revolving Credit Limit  Loan Status  \n",
       "0                          4364          NaN  \n",
       "1                          2573          NaN  \n",
       "2                         19676          NaN  \n",
       "3                          7226          NaN  \n",
       "\n",
       "[4 rows x 35 columns]"
      ]
     },
     "execution_count": 5,
     "metadata": {},
     "output_type": "execute_result"
    }
   ],
   "source": [
    "# Importing all datasets\n",
    "loan_test = pd.read_csv(\"C:/Users/HP/Desktop/DeloitteHackathon/test.csv\")\n",
    "loan_test.head(4)"
   ]
  },
  {
   "cell_type": "code",
   "execution_count": 6,
   "metadata": {},
   "outputs": [],
   "source": [
    "loan_test[\"Loan Status\"] = 0"
   ]
  },
  {
   "cell_type": "code",
   "execution_count": 7,
   "metadata": {},
   "outputs": [
    {
     "data": {
      "text/html": [
       "<div>\n",
       "<style scoped>\n",
       "    .dataframe tbody tr th:only-of-type {\n",
       "        vertical-align: middle;\n",
       "    }\n",
       "\n",
       "    .dataframe tbody tr th {\n",
       "        vertical-align: top;\n",
       "    }\n",
       "\n",
       "    .dataframe thead th {\n",
       "        text-align: right;\n",
       "    }\n",
       "</style>\n",
       "<table border=\"1\" class=\"dataframe\">\n",
       "  <thead>\n",
       "    <tr style=\"text-align: right;\">\n",
       "      <th></th>\n",
       "      <th>ID</th>\n",
       "      <th>Loan Amount</th>\n",
       "      <th>Funded Amount</th>\n",
       "      <th>Funded Amount Investor</th>\n",
       "      <th>Term</th>\n",
       "      <th>Batch Enrolled</th>\n",
       "      <th>Interest Rate</th>\n",
       "      <th>Grade</th>\n",
       "      <th>Sub Grade</th>\n",
       "      <th>Employment Duration</th>\n",
       "      <th>...</th>\n",
       "      <th>Recoveries</th>\n",
       "      <th>Collection Recovery Fee</th>\n",
       "      <th>Collection 12 months Medical</th>\n",
       "      <th>Application Type</th>\n",
       "      <th>Last week Pay</th>\n",
       "      <th>Accounts Delinquent</th>\n",
       "      <th>Total Collection Amount</th>\n",
       "      <th>Total Current Balance</th>\n",
       "      <th>Total Revolving Credit Limit</th>\n",
       "      <th>Loan Status</th>\n",
       "    </tr>\n",
       "  </thead>\n",
       "  <tbody>\n",
       "    <tr>\n",
       "      <th>0</th>\n",
       "      <td>56492997</td>\n",
       "      <td>17120</td>\n",
       "      <td>10365</td>\n",
       "      <td>16025.08269</td>\n",
       "      <td>59</td>\n",
       "      <td>BAT2575549</td>\n",
       "      <td>12.163926</td>\n",
       "      <td>A</td>\n",
       "      <td>D1</td>\n",
       "      <td>RENT</td>\n",
       "      <td>...</td>\n",
       "      <td>8.425776</td>\n",
       "      <td>0.731797</td>\n",
       "      <td>0</td>\n",
       "      <td>INDIVIDUAL</td>\n",
       "      <td>135</td>\n",
       "      <td>0</td>\n",
       "      <td>24</td>\n",
       "      <td>475442</td>\n",
       "      <td>4364</td>\n",
       "      <td>0</td>\n",
       "    </tr>\n",
       "    <tr>\n",
       "      <th>1</th>\n",
       "      <td>22540813</td>\n",
       "      <td>7133</td>\n",
       "      <td>11650</td>\n",
       "      <td>12615.79560</td>\n",
       "      <td>59</td>\n",
       "      <td>BAT2833642</td>\n",
       "      <td>6.564296</td>\n",
       "      <td>B</td>\n",
       "      <td>E3</td>\n",
       "      <td>MORTGAGE</td>\n",
       "      <td>...</td>\n",
       "      <td>6.157008</td>\n",
       "      <td>0.992918</td>\n",
       "      <td>0</td>\n",
       "      <td>INDIVIDUAL</td>\n",
       "      <td>56</td>\n",
       "      <td>0</td>\n",
       "      <td>1</td>\n",
       "      <td>72412</td>\n",
       "      <td>2573</td>\n",
       "      <td>0</td>\n",
       "    </tr>\n",
       "    <tr>\n",
       "      <th>2</th>\n",
       "      <td>9862181</td>\n",
       "      <td>25291</td>\n",
       "      <td>25825</td>\n",
       "      <td>11621.28083</td>\n",
       "      <td>59</td>\n",
       "      <td>BAT1761981</td>\n",
       "      <td>14.729900</td>\n",
       "      <td>A</td>\n",
       "      <td>C3</td>\n",
       "      <td>MORTGAGE</td>\n",
       "      <td>...</td>\n",
       "      <td>5.705077</td>\n",
       "      <td>0.281580</td>\n",
       "      <td>0</td>\n",
       "      <td>INDIVIDUAL</td>\n",
       "      <td>3</td>\n",
       "      <td>0</td>\n",
       "      <td>26</td>\n",
       "      <td>284825</td>\n",
       "      <td>19676</td>\n",
       "      <td>0</td>\n",
       "    </tr>\n",
       "    <tr>\n",
       "      <th>3</th>\n",
       "      <td>10097822</td>\n",
       "      <td>30781</td>\n",
       "      <td>9664</td>\n",
       "      <td>15375.82351</td>\n",
       "      <td>59</td>\n",
       "      <td>BAT5341619</td>\n",
       "      <td>10.523767</td>\n",
       "      <td>A</td>\n",
       "      <td>A2</td>\n",
       "      <td>RENT</td>\n",
       "      <td>...</td>\n",
       "      <td>2.469688</td>\n",
       "      <td>0.959162</td>\n",
       "      <td>0</td>\n",
       "      <td>INDIVIDUAL</td>\n",
       "      <td>21</td>\n",
       "      <td>0</td>\n",
       "      <td>32</td>\n",
       "      <td>40842</td>\n",
       "      <td>7226</td>\n",
       "      <td>0</td>\n",
       "    </tr>\n",
       "  </tbody>\n",
       "</table>\n",
       "<p>4 rows × 35 columns</p>\n",
       "</div>"
      ],
      "text/plain": [
       "         ID  Loan Amount  Funded Amount  Funded Amount Investor  Term  \\\n",
       "0  56492997        17120          10365             16025.08269    59   \n",
       "1  22540813         7133          11650             12615.79560    59   \n",
       "2   9862181        25291          25825             11621.28083    59   \n",
       "3  10097822        30781           9664             15375.82351    59   \n",
       "\n",
       "  Batch Enrolled  Interest Rate Grade Sub Grade Employment Duration  ...  \\\n",
       "0     BAT2575549      12.163926     A        D1                RENT  ...   \n",
       "1     BAT2833642       6.564296     B        E3            MORTGAGE  ...   \n",
       "2     BAT1761981      14.729900     A        C3            MORTGAGE  ...   \n",
       "3     BAT5341619      10.523767     A        A2                RENT  ...   \n",
       "\n",
       "   Recoveries Collection Recovery Fee Collection 12 months Medical  \\\n",
       "0    8.425776                0.731797                            0   \n",
       "1    6.157008                0.992918                            0   \n",
       "2    5.705077                0.281580                            0   \n",
       "3    2.469688                0.959162                            0   \n",
       "\n",
       "  Application Type  Last week Pay  Accounts Delinquent  \\\n",
       "0       INDIVIDUAL            135                    0   \n",
       "1       INDIVIDUAL             56                    0   \n",
       "2       INDIVIDUAL              3                    0   \n",
       "3       INDIVIDUAL             21                    0   \n",
       "\n",
       "   Total Collection Amount  Total Current Balance  \\\n",
       "0                       24                 475442   \n",
       "1                        1                  72412   \n",
       "2                       26                 284825   \n",
       "3                       32                  40842   \n",
       "\n",
       "   Total Revolving Credit Limit  Loan Status  \n",
       "0                          4364            0  \n",
       "1                          2573            0  \n",
       "2                         19676            0  \n",
       "3                          7226            0  \n",
       "\n",
       "[4 rows x 35 columns]"
      ]
     },
     "execution_count": 7,
     "metadata": {},
     "output_type": "execute_result"
    }
   ],
   "source": [
    "loan_test.head(4)"
   ]
  },
  {
   "cell_type": "markdown",
   "metadata": {},
   "source": [
    "### Feature Engineering "
   ]
  },
  {
   "cell_type": "code",
   "execution_count": 8,
   "metadata": {},
   "outputs": [
    {
     "data": {
      "text/plain": [
       "Index(['ID', 'Loan Amount', 'Funded Amount', 'Funded Amount Investor', 'Term',\n",
       "       'Batch Enrolled', 'Interest Rate', 'Grade', 'Sub Grade',\n",
       "       'Employment Duration', 'Home Ownership', 'Verification Status',\n",
       "       'Payment Plan', 'Loan Title', 'Debit to Income',\n",
       "       'Delinquency - two years', 'Inquires - six months', 'Open Account',\n",
       "       'Public Record', 'Revolving Balance', 'Revolving Utilities',\n",
       "       'Total Accounts', 'Initial List Status', 'Total Received Interest',\n",
       "       'Total Received Late Fee', 'Recoveries', 'Collection Recovery Fee',\n",
       "       'Collection 12 months Medical', 'Application Type', 'Last week Pay',\n",
       "       'Accounts Delinquent', 'Total Collection Amount',\n",
       "       'Total Current Balance', 'Total Revolving Credit Limit', 'Loan Status'],\n",
       "      dtype='object')"
      ]
     },
     "execution_count": 8,
     "metadata": {},
     "output_type": "execute_result"
    }
   ],
   "source": [
    "loan_train.columns"
   ]
  },
  {
   "cell_type": "code",
   "execution_count": 9,
   "metadata": {},
   "outputs": [
    {
     "data": {
      "text/plain": [
       "ID                                int64\n",
       "Loan Amount                       int64\n",
       "Funded Amount                     int64\n",
       "Funded Amount Investor          float64\n",
       "Term                              int64\n",
       "Batch Enrolled                   object\n",
       "Interest Rate                   float64\n",
       "Grade                            object\n",
       "Sub Grade                        object\n",
       "Employment Duration              object\n",
       "Home Ownership                  float64\n",
       "Verification Status              object\n",
       "Payment Plan                     object\n",
       "Loan Title                       object\n",
       "Debit to Income                 float64\n",
       "Delinquency - two years           int64\n",
       "Inquires - six months             int64\n",
       "Open Account                      int64\n",
       "Public Record                     int64\n",
       "Revolving Balance                 int64\n",
       "Revolving Utilities             float64\n",
       "Total Accounts                    int64\n",
       "Initial List Status              object\n",
       "Total Received Interest         float64\n",
       "Total Received Late Fee         float64\n",
       "Recoveries                      float64\n",
       "Collection Recovery Fee         float64\n",
       "Collection 12 months Medical      int64\n",
       "Application Type                 object\n",
       "Last week Pay                     int64\n",
       "Accounts Delinquent               int64\n",
       "Total Collection Amount           int64\n",
       "Total Current Balance             int64\n",
       "Total Revolving Credit Limit      int64\n",
       "Loan Status                       int64\n",
       "dtype: object"
      ]
     },
     "execution_count": 9,
     "metadata": {},
     "output_type": "execute_result"
    }
   ],
   "source": [
    "loan_train.dtypes"
   ]
  },
  {
   "cell_type": "markdown",
   "metadata": {},
   "source": [
    "### Checking the `missing values`"
   ]
  },
  {
   "cell_type": "code",
   "execution_count": 10,
   "metadata": {},
   "outputs": [
    {
     "data": {
      "text/plain": [
       "ID                              0\n",
       "Loan Amount                     0\n",
       "Funded Amount                   0\n",
       "Funded Amount Investor          0\n",
       "Term                            0\n",
       "Batch Enrolled                  0\n",
       "Interest Rate                   0\n",
       "Grade                           0\n",
       "Sub Grade                       0\n",
       "Employment Duration             0\n",
       "Home Ownership                  0\n",
       "Verification Status             0\n",
       "Payment Plan                    0\n",
       "Loan Title                      0\n",
       "Debit to Income                 0\n",
       "Delinquency - two years         0\n",
       "Inquires - six months           0\n",
       "Open Account                    0\n",
       "Public Record                   0\n",
       "Revolving Balance               0\n",
       "Revolving Utilities             0\n",
       "Total Accounts                  0\n",
       "Initial List Status             0\n",
       "Total Received Interest         0\n",
       "Total Received Late Fee         0\n",
       "Recoveries                      0\n",
       "Collection Recovery Fee         0\n",
       "Collection 12 months Medical    0\n",
       "Application Type                0\n",
       "Last week Pay                   0\n",
       "Accounts Delinquent             0\n",
       "Total Collection Amount         0\n",
       "Total Current Balance           0\n",
       "Total Revolving Credit Limit    0\n",
       "Loan Status                     0\n",
       "dtype: int64"
      ]
     },
     "execution_count": 10,
     "metadata": {},
     "output_type": "execute_result"
    }
   ],
   "source": [
    "loan_train.isnull().sum()"
   ]
  },
  {
   "cell_type": "markdown",
   "metadata": {},
   "source": [
    " - Please Note , there is no missing values in the dataset"
   ]
  },
  {
   "cell_type": "code",
   "execution_count": 11,
   "metadata": {},
   "outputs": [
    {
     "data": {
      "text/html": [
       "<div>\n",
       "<style scoped>\n",
       "    .dataframe tbody tr th:only-of-type {\n",
       "        vertical-align: middle;\n",
       "    }\n",
       "\n",
       "    .dataframe tbody tr th {\n",
       "        vertical-align: top;\n",
       "    }\n",
       "\n",
       "    .dataframe thead th {\n",
       "        text-align: right;\n",
       "    }\n",
       "</style>\n",
       "<table border=\"1\" class=\"dataframe\">\n",
       "  <thead>\n",
       "    <tr style=\"text-align: right;\">\n",
       "      <th></th>\n",
       "      <th>ID</th>\n",
       "      <th>Loan Amount</th>\n",
       "      <th>Funded Amount</th>\n",
       "      <th>Funded Amount Investor</th>\n",
       "      <th>Term</th>\n",
       "      <th>Batch Enrolled</th>\n",
       "      <th>Interest Rate</th>\n",
       "      <th>Grade</th>\n",
       "      <th>Sub Grade</th>\n",
       "      <th>Employment Duration</th>\n",
       "      <th>...</th>\n",
       "      <th>Recoveries</th>\n",
       "      <th>Collection Recovery Fee</th>\n",
       "      <th>Collection 12 months Medical</th>\n",
       "      <th>Application Type</th>\n",
       "      <th>Last week Pay</th>\n",
       "      <th>Accounts Delinquent</th>\n",
       "      <th>Total Collection Amount</th>\n",
       "      <th>Total Current Balance</th>\n",
       "      <th>Total Revolving Credit Limit</th>\n",
       "      <th>Loan Status</th>\n",
       "    </tr>\n",
       "  </thead>\n",
       "  <tbody>\n",
       "    <tr>\n",
       "      <th>0</th>\n",
       "      <td>65087372</td>\n",
       "      <td>10000</td>\n",
       "      <td>32236</td>\n",
       "      <td>12329.36286</td>\n",
       "      <td>59</td>\n",
       "      <td>BAT2522922</td>\n",
       "      <td>11.135007</td>\n",
       "      <td>B</td>\n",
       "      <td>C4</td>\n",
       "      <td>MORTGAGE</td>\n",
       "      <td>...</td>\n",
       "      <td>2.498291</td>\n",
       "      <td>0.793724</td>\n",
       "      <td>0</td>\n",
       "      <td>INDIVIDUAL</td>\n",
       "      <td>49</td>\n",
       "      <td>0</td>\n",
       "      <td>31</td>\n",
       "      <td>311301</td>\n",
       "      <td>6619</td>\n",
       "      <td>0</td>\n",
       "    </tr>\n",
       "    <tr>\n",
       "      <th>1</th>\n",
       "      <td>1450153</td>\n",
       "      <td>3609</td>\n",
       "      <td>11940</td>\n",
       "      <td>12191.99692</td>\n",
       "      <td>59</td>\n",
       "      <td>BAT1586599</td>\n",
       "      <td>12.237563</td>\n",
       "      <td>C</td>\n",
       "      <td>D3</td>\n",
       "      <td>RENT</td>\n",
       "      <td>...</td>\n",
       "      <td>2.377215</td>\n",
       "      <td>0.974821</td>\n",
       "      <td>0</td>\n",
       "      <td>INDIVIDUAL</td>\n",
       "      <td>109</td>\n",
       "      <td>0</td>\n",
       "      <td>53</td>\n",
       "      <td>182610</td>\n",
       "      <td>20885</td>\n",
       "      <td>0</td>\n",
       "    </tr>\n",
       "    <tr>\n",
       "      <th>2</th>\n",
       "      <td>1969101</td>\n",
       "      <td>28276</td>\n",
       "      <td>9311</td>\n",
       "      <td>21603.22455</td>\n",
       "      <td>59</td>\n",
       "      <td>BAT2136391</td>\n",
       "      <td>12.545884</td>\n",
       "      <td>F</td>\n",
       "      <td>D4</td>\n",
       "      <td>MORTGAGE</td>\n",
       "      <td>...</td>\n",
       "      <td>4.316277</td>\n",
       "      <td>1.020075</td>\n",
       "      <td>0</td>\n",
       "      <td>INDIVIDUAL</td>\n",
       "      <td>66</td>\n",
       "      <td>0</td>\n",
       "      <td>34</td>\n",
       "      <td>89801</td>\n",
       "      <td>26155</td>\n",
       "      <td>0</td>\n",
       "    </tr>\n",
       "  </tbody>\n",
       "</table>\n",
       "<p>3 rows × 35 columns</p>\n",
       "</div>"
      ],
      "text/plain": [
       "         ID  Loan Amount  Funded Amount  Funded Amount Investor  Term  \\\n",
       "0  65087372        10000          32236             12329.36286    59   \n",
       "1   1450153         3609          11940             12191.99692    59   \n",
       "2   1969101        28276           9311             21603.22455    59   \n",
       "\n",
       "  Batch Enrolled  Interest Rate Grade Sub Grade Employment Duration  ...  \\\n",
       "0     BAT2522922      11.135007     B        C4            MORTGAGE  ...   \n",
       "1     BAT1586599      12.237563     C        D3                RENT  ...   \n",
       "2     BAT2136391      12.545884     F        D4            MORTGAGE  ...   \n",
       "\n",
       "   Recoveries Collection Recovery Fee Collection 12 months Medical  \\\n",
       "0    2.498291                0.793724                            0   \n",
       "1    2.377215                0.974821                            0   \n",
       "2    4.316277                1.020075                            0   \n",
       "\n",
       "  Application Type  Last week Pay  Accounts Delinquent  \\\n",
       "0       INDIVIDUAL             49                    0   \n",
       "1       INDIVIDUAL            109                    0   \n",
       "2       INDIVIDUAL             66                    0   \n",
       "\n",
       "   Total Collection Amount  Total Current Balance  \\\n",
       "0                       31                 311301   \n",
       "1                       53                 182610   \n",
       "2                       34                  89801   \n",
       "\n",
       "   Total Revolving Credit Limit  Loan Status  \n",
       "0                          6619            0  \n",
       "1                         20885            0  \n",
       "2                         26155            0  \n",
       "\n",
       "[3 rows x 35 columns]"
      ]
     },
     "execution_count": 11,
     "metadata": {},
     "output_type": "execute_result"
    }
   ],
   "source": [
    "loan_train.head(3)"
   ]
  },
  {
   "cell_type": "code",
   "execution_count": 12,
   "metadata": {},
   "outputs": [],
   "source": [
    "### Checking the categorical values in 'Object Format'"
   ]
  },
  {
   "cell_type": "code",
   "execution_count": 13,
   "metadata": {},
   "outputs": [
    {
     "data": {
      "text/plain": [
       "C    19085\n",
       "B    18742\n",
       "A    12055\n",
       "D     8259\n",
       "E     6446\n",
       "F     2246\n",
       "G      630\n",
       "Name: Grade, dtype: int64"
      ]
     },
     "execution_count": 13,
     "metadata": {},
     "output_type": "execute_result"
    }
   ],
   "source": [
    "loan_train.Grade.value_counts()"
   ]
  },
  {
   "cell_type": "code",
   "execution_count": 14,
   "metadata": {},
   "outputs": [
    {
     "data": {
      "text/plain": [
       "MORTGAGE    36351\n",
       "RENT        24150\n",
       "OWN          6962\n",
       "Name: Employment Duration, dtype: int64"
      ]
     },
     "execution_count": 14,
     "metadata": {},
     "output_type": "execute_result"
    }
   ],
   "source": [
    "loan_train[\"Employment Duration\"].value_counts()"
   ]
  },
  {
   "cell_type": "code",
   "execution_count": 15,
   "metadata": {},
   "outputs": [
    {
     "data": {
      "text/plain": [
       "INDIVIDUAL    67340\n",
       "JOINT           123\n",
       "Name: Application Type, dtype: int64"
      ]
     },
     "execution_count": 15,
     "metadata": {},
     "output_type": "execute_result"
    }
   ],
   "source": [
    "loan_train[\"Application Type\"].value_counts()"
   ]
  },
  {
   "cell_type": "code",
   "execution_count": 16,
   "metadata": {},
   "outputs": [
    {
     "data": {
      "text/plain": [
       "Source Verified    33036\n",
       "Verified           18078\n",
       "Not Verified       16349\n",
       "Name: Verification Status, dtype: int64"
      ]
     },
     "execution_count": 16,
     "metadata": {},
     "output_type": "execute_result"
    }
   ],
   "source": [
    "loan_train[\"Verification Status\"].value_counts()"
   ]
  },
  {
   "cell_type": "code",
   "execution_count": 17,
   "metadata": {},
   "outputs": [
    {
     "data": {
      "text/plain": [
       "n    67463\n",
       "Name: Payment Plan, dtype: int64"
      ]
     },
     "execution_count": 17,
     "metadata": {},
     "output_type": "execute_result"
    }
   ],
   "source": [
    "loan_train[\"Payment Plan\"].value_counts()"
   ]
  },
  {
   "cell_type": "markdown",
   "metadata": {},
   "source": [
    "#### Mean Encoding "
   ]
  },
  {
   "cell_type": "markdown",
   "metadata": {},
   "source": [
    "#### Grade"
   ]
  },
  {
   "cell_type": "code",
   "execution_count": 18,
   "metadata": {},
   "outputs": [
    {
     "data": {
      "text/plain": [
       "Index(['B', 'A', 'C', 'E', 'D', 'F', 'G'], dtype='object', name='Grade')"
      ]
     },
     "execution_count": 18,
     "metadata": {},
     "output_type": "execute_result"
    }
   ],
   "source": [
    "mean_labels=loan_train.groupby(['Grade'])['Loan Status'].mean().sort_values().index\n",
    "mean_labels"
   ]
  },
  {
   "cell_type": "code",
   "execution_count": 19,
   "metadata": {},
   "outputs": [
    {
     "data": {
      "text/plain": [
       "<enumerate at 0x238da8be980>"
      ]
     },
     "execution_count": 19,
     "metadata": {},
     "output_type": "execute_result"
    }
   ],
   "source": [
    "enumerate(mean_labels,0)"
   ]
  },
  {
   "cell_type": "code",
   "execution_count": 20,
   "metadata": {},
   "outputs": [
    {
     "data": {
      "text/plain": [
       "{'B': 0, 'A': 1, 'C': 2, 'E': 3, 'D': 4, 'F': 5, 'G': 6}"
      ]
     },
     "execution_count": 20,
     "metadata": {},
     "output_type": "execute_result"
    }
   ],
   "source": [
    "mean_labels2={k:i for i,k in enumerate(mean_labels,0)}\n",
    "mean_labels2"
   ]
  },
  {
   "cell_type": "code",
   "execution_count": 21,
   "metadata": {},
   "outputs": [
    {
     "data": {
      "text/html": [
       "<div>\n",
       "<style scoped>\n",
       "    .dataframe tbody tr th:only-of-type {\n",
       "        vertical-align: middle;\n",
       "    }\n",
       "\n",
       "    .dataframe tbody tr th {\n",
       "        vertical-align: top;\n",
       "    }\n",
       "\n",
       "    .dataframe thead th {\n",
       "        text-align: right;\n",
       "    }\n",
       "</style>\n",
       "<table border=\"1\" class=\"dataframe\">\n",
       "  <thead>\n",
       "    <tr style=\"text-align: right;\">\n",
       "      <th></th>\n",
       "      <th>ID</th>\n",
       "      <th>Loan Amount</th>\n",
       "      <th>Funded Amount</th>\n",
       "      <th>Funded Amount Investor</th>\n",
       "      <th>Term</th>\n",
       "      <th>Batch Enrolled</th>\n",
       "      <th>Interest Rate</th>\n",
       "      <th>Grade</th>\n",
       "      <th>Sub Grade</th>\n",
       "      <th>Employment Duration</th>\n",
       "      <th>...</th>\n",
       "      <th>Collection Recovery Fee</th>\n",
       "      <th>Collection 12 months Medical</th>\n",
       "      <th>Application Type</th>\n",
       "      <th>Last week Pay</th>\n",
       "      <th>Accounts Delinquent</th>\n",
       "      <th>Total Collection Amount</th>\n",
       "      <th>Total Current Balance</th>\n",
       "      <th>Total Revolving Credit Limit</th>\n",
       "      <th>Loan Status</th>\n",
       "      <th>Grade_mean_labels</th>\n",
       "    </tr>\n",
       "  </thead>\n",
       "  <tbody>\n",
       "    <tr>\n",
       "      <th>0</th>\n",
       "      <td>65087372</td>\n",
       "      <td>10000</td>\n",
       "      <td>32236</td>\n",
       "      <td>12329.36286</td>\n",
       "      <td>59</td>\n",
       "      <td>BAT2522922</td>\n",
       "      <td>11.135007</td>\n",
       "      <td>B</td>\n",
       "      <td>C4</td>\n",
       "      <td>MORTGAGE</td>\n",
       "      <td>...</td>\n",
       "      <td>0.793724</td>\n",
       "      <td>0</td>\n",
       "      <td>INDIVIDUAL</td>\n",
       "      <td>49</td>\n",
       "      <td>0</td>\n",
       "      <td>31</td>\n",
       "      <td>311301</td>\n",
       "      <td>6619</td>\n",
       "      <td>0</td>\n",
       "      <td>0</td>\n",
       "    </tr>\n",
       "    <tr>\n",
       "      <th>1</th>\n",
       "      <td>1450153</td>\n",
       "      <td>3609</td>\n",
       "      <td>11940</td>\n",
       "      <td>12191.99692</td>\n",
       "      <td>59</td>\n",
       "      <td>BAT1586599</td>\n",
       "      <td>12.237563</td>\n",
       "      <td>C</td>\n",
       "      <td>D3</td>\n",
       "      <td>RENT</td>\n",
       "      <td>...</td>\n",
       "      <td>0.974821</td>\n",
       "      <td>0</td>\n",
       "      <td>INDIVIDUAL</td>\n",
       "      <td>109</td>\n",
       "      <td>0</td>\n",
       "      <td>53</td>\n",
       "      <td>182610</td>\n",
       "      <td>20885</td>\n",
       "      <td>0</td>\n",
       "      <td>2</td>\n",
       "    </tr>\n",
       "    <tr>\n",
       "      <th>2</th>\n",
       "      <td>1969101</td>\n",
       "      <td>28276</td>\n",
       "      <td>9311</td>\n",
       "      <td>21603.22455</td>\n",
       "      <td>59</td>\n",
       "      <td>BAT2136391</td>\n",
       "      <td>12.545884</td>\n",
       "      <td>F</td>\n",
       "      <td>D4</td>\n",
       "      <td>MORTGAGE</td>\n",
       "      <td>...</td>\n",
       "      <td>1.020075</td>\n",
       "      <td>0</td>\n",
       "      <td>INDIVIDUAL</td>\n",
       "      <td>66</td>\n",
       "      <td>0</td>\n",
       "      <td>34</td>\n",
       "      <td>89801</td>\n",
       "      <td>26155</td>\n",
       "      <td>0</td>\n",
       "      <td>5</td>\n",
       "    </tr>\n",
       "    <tr>\n",
       "      <th>3</th>\n",
       "      <td>6651430</td>\n",
       "      <td>11170</td>\n",
       "      <td>6954</td>\n",
       "      <td>17877.15585</td>\n",
       "      <td>59</td>\n",
       "      <td>BAT2428731</td>\n",
       "      <td>16.731201</td>\n",
       "      <td>C</td>\n",
       "      <td>C3</td>\n",
       "      <td>MORTGAGE</td>\n",
       "      <td>...</td>\n",
       "      <td>0.749971</td>\n",
       "      <td>0</td>\n",
       "      <td>INDIVIDUAL</td>\n",
       "      <td>39</td>\n",
       "      <td>0</td>\n",
       "      <td>40</td>\n",
       "      <td>9189</td>\n",
       "      <td>60214</td>\n",
       "      <td>0</td>\n",
       "      <td>2</td>\n",
       "    </tr>\n",
       "    <tr>\n",
       "      <th>4</th>\n",
       "      <td>14354669</td>\n",
       "      <td>16890</td>\n",
       "      <td>13226</td>\n",
       "      <td>13539.92667</td>\n",
       "      <td>59</td>\n",
       "      <td>BAT5341619</td>\n",
       "      <td>15.008300</td>\n",
       "      <td>C</td>\n",
       "      <td>D4</td>\n",
       "      <td>MORTGAGE</td>\n",
       "      <td>...</td>\n",
       "      <td>0.368953</td>\n",
       "      <td>0</td>\n",
       "      <td>INDIVIDUAL</td>\n",
       "      <td>18</td>\n",
       "      <td>0</td>\n",
       "      <td>430</td>\n",
       "      <td>126029</td>\n",
       "      <td>22579</td>\n",
       "      <td>0</td>\n",
       "      <td>2</td>\n",
       "    </tr>\n",
       "  </tbody>\n",
       "</table>\n",
       "<p>5 rows × 36 columns</p>\n",
       "</div>"
      ],
      "text/plain": [
       "         ID  Loan Amount  Funded Amount  Funded Amount Investor  Term  \\\n",
       "0  65087372        10000          32236             12329.36286    59   \n",
       "1   1450153         3609          11940             12191.99692    59   \n",
       "2   1969101        28276           9311             21603.22455    59   \n",
       "3   6651430        11170           6954             17877.15585    59   \n",
       "4  14354669        16890          13226             13539.92667    59   \n",
       "\n",
       "  Batch Enrolled  Interest Rate Grade Sub Grade Employment Duration  ...  \\\n",
       "0     BAT2522922      11.135007     B        C4            MORTGAGE  ...   \n",
       "1     BAT1586599      12.237563     C        D3                RENT  ...   \n",
       "2     BAT2136391      12.545884     F        D4            MORTGAGE  ...   \n",
       "3     BAT2428731      16.731201     C        C3            MORTGAGE  ...   \n",
       "4     BAT5341619      15.008300     C        D4            MORTGAGE  ...   \n",
       "\n",
       "   Collection Recovery Fee Collection 12 months Medical Application Type  \\\n",
       "0                 0.793724                            0       INDIVIDUAL   \n",
       "1                 0.974821                            0       INDIVIDUAL   \n",
       "2                 1.020075                            0       INDIVIDUAL   \n",
       "3                 0.749971                            0       INDIVIDUAL   \n",
       "4                 0.368953                            0       INDIVIDUAL   \n",
       "\n",
       "  Last week Pay  Accounts Delinquent  Total Collection Amount  \\\n",
       "0            49                    0                       31   \n",
       "1           109                    0                       53   \n",
       "2            66                    0                       34   \n",
       "3            39                    0                       40   \n",
       "4            18                    0                      430   \n",
       "\n",
       "   Total Current Balance  Total Revolving Credit Limit  Loan Status  \\\n",
       "0                 311301                          6619            0   \n",
       "1                 182610                         20885            0   \n",
       "2                  89801                         26155            0   \n",
       "3                   9189                         60214            0   \n",
       "4                 126029                         22579            0   \n",
       "\n",
       "   Grade_mean_labels  \n",
       "0                  0  \n",
       "1                  2  \n",
       "2                  5  \n",
       "3                  2  \n",
       "4                  2  \n",
       "\n",
       "[5 rows x 36 columns]"
      ]
     },
     "execution_count": 21,
     "metadata": {},
     "output_type": "execute_result"
    }
   ],
   "source": [
    "loan_train['Grade_mean_labels']=loan_train['Grade'].map(mean_labels2)\n",
    "loan_train.head()"
   ]
  },
  {
   "cell_type": "code",
   "execution_count": 22,
   "metadata": {},
   "outputs": [],
   "source": [
    "loan_train = loan_train.drop(columns=\"Grade\")"
   ]
  },
  {
   "cell_type": "code",
   "execution_count": 23,
   "metadata": {},
   "outputs": [
    {
     "data": {
      "text/plain": [
       "(67463, 35)"
      ]
     },
     "execution_count": 23,
     "metadata": {},
     "output_type": "execute_result"
    }
   ],
   "source": [
    "loan_train.shape"
   ]
  },
  {
   "cell_type": "markdown",
   "metadata": {},
   "source": [
    "#### Employment Duration "
   ]
  },
  {
   "cell_type": "code",
   "execution_count": 24,
   "metadata": {},
   "outputs": [
    {
     "data": {
      "text/plain": [
       "Index(['MORTGAGE', 'RENT', 'OWN'], dtype='object', name='Employment Duration')"
      ]
     },
     "execution_count": 24,
     "metadata": {},
     "output_type": "execute_result"
    }
   ],
   "source": [
    "mean_labels=loan_train.groupby(['Employment Duration'])['Loan Status'].mean().sort_values().index\n",
    "mean_labels"
   ]
  },
  {
   "cell_type": "code",
   "execution_count": 25,
   "metadata": {},
   "outputs": [
    {
     "data": {
      "text/plain": [
       "<enumerate at 0x238da8a6100>"
      ]
     },
     "execution_count": 25,
     "metadata": {},
     "output_type": "execute_result"
    }
   ],
   "source": [
    "enumerate(mean_labels,0)"
   ]
  },
  {
   "cell_type": "code",
   "execution_count": 26,
   "metadata": {},
   "outputs": [
    {
     "data": {
      "text/plain": [
       "{'MORTGAGE': 0, 'RENT': 1, 'OWN': 2}"
      ]
     },
     "execution_count": 26,
     "metadata": {},
     "output_type": "execute_result"
    }
   ],
   "source": [
    "mean_labels2={k:i for i,k in enumerate(mean_labels,0)}\n",
    "mean_labels2"
   ]
  },
  {
   "cell_type": "code",
   "execution_count": 27,
   "metadata": {},
   "outputs": [],
   "source": [
    "loan_train['Employment Duration_ordinal_labels']=loan_train['Employment Duration'].map(mean_labels2)"
   ]
  },
  {
   "cell_type": "code",
   "execution_count": 28,
   "metadata": {},
   "outputs": [],
   "source": [
    "loan_train  = loan_train.drop(columns=\"Employment Duration\")"
   ]
  },
  {
   "cell_type": "markdown",
   "metadata": {},
   "source": [
    "#### Application Type"
   ]
  },
  {
   "cell_type": "code",
   "execution_count": 29,
   "metadata": {},
   "outputs": [
    {
     "data": {
      "text/plain": [
       "Index(['JOINT', 'INDIVIDUAL'], dtype='object', name='Application Type')"
      ]
     },
     "execution_count": 29,
     "metadata": {},
     "output_type": "execute_result"
    }
   ],
   "source": [
    "mean_labels=loan_train.groupby(['Application Type'])['Loan Status'].mean().sort_values().index\n",
    "mean_labels"
   ]
  },
  {
   "cell_type": "code",
   "execution_count": 30,
   "metadata": {},
   "outputs": [
    {
     "data": {
      "text/plain": [
       "<enumerate at 0x238da8ba500>"
      ]
     },
     "execution_count": 30,
     "metadata": {},
     "output_type": "execute_result"
    }
   ],
   "source": [
    "enumerate(mean_labels,0)"
   ]
  },
  {
   "cell_type": "code",
   "execution_count": 31,
   "metadata": {},
   "outputs": [
    {
     "data": {
      "text/plain": [
       "{'JOINT': 0, 'INDIVIDUAL': 1}"
      ]
     },
     "execution_count": 31,
     "metadata": {},
     "output_type": "execute_result"
    }
   ],
   "source": [
    "mean_labels2={k:i for i,k in enumerate(mean_labels,0)}\n",
    "mean_labels2"
   ]
  },
  {
   "cell_type": "code",
   "execution_count": 32,
   "metadata": {},
   "outputs": [],
   "source": [
    "loan_train['Application Type_mean_labels']=loan_train['Application Type'].map(mean_labels2)"
   ]
  },
  {
   "cell_type": "code",
   "execution_count": 33,
   "metadata": {},
   "outputs": [],
   "source": [
    "loan_train = loan_train.drop(columns=\"Application Type\")"
   ]
  },
  {
   "cell_type": "markdown",
   "metadata": {},
   "source": [
    "#### Verification Status"
   ]
  },
  {
   "cell_type": "code",
   "execution_count": 34,
   "metadata": {},
   "outputs": [
    {
     "data": {
      "text/plain": [
       "Index(['Verified', 'Not Verified', 'Source Verified'], dtype='object', name='Verification Status')"
      ]
     },
     "execution_count": 34,
     "metadata": {},
     "output_type": "execute_result"
    }
   ],
   "source": [
    "mean_labels=loan_train.groupby(['Verification Status'])['Loan Status'].mean().sort_values().index\n",
    "mean_labels"
   ]
  },
  {
   "cell_type": "code",
   "execution_count": 35,
   "metadata": {},
   "outputs": [
    {
     "data": {
      "text/plain": [
       "<enumerate at 0x238db0b9800>"
      ]
     },
     "execution_count": 35,
     "metadata": {},
     "output_type": "execute_result"
    }
   ],
   "source": [
    "enumerate(mean_labels,0)"
   ]
  },
  {
   "cell_type": "code",
   "execution_count": 36,
   "metadata": {},
   "outputs": [
    {
     "data": {
      "text/plain": [
       "{'Verified': 0, 'Not Verified': 1, 'Source Verified': 2}"
      ]
     },
     "execution_count": 36,
     "metadata": {},
     "output_type": "execute_result"
    }
   ],
   "source": [
    "mean_labels2={k:i for i,k in enumerate(mean_labels,0)}\n",
    "mean_labels2"
   ]
  },
  {
   "cell_type": "code",
   "execution_count": 37,
   "metadata": {},
   "outputs": [],
   "source": [
    "loan_train['Verification Status_mean_labels']=loan_train['Verification Status'].map(mean_labels2)"
   ]
  },
  {
   "cell_type": "code",
   "execution_count": 38,
   "metadata": {},
   "outputs": [],
   "source": [
    "loan_train = loan_train.drop(columns=\"Verification Status\")"
   ]
  },
  {
   "cell_type": "markdown",
   "metadata": {},
   "source": [
    "###### Payment Plan"
   ]
  },
  {
   "cell_type": "code",
   "execution_count": 39,
   "metadata": {},
   "outputs": [
    {
     "data": {
      "text/plain": [
       "Index(['n'], dtype='object', name='Payment Plan')"
      ]
     },
     "execution_count": 39,
     "metadata": {},
     "output_type": "execute_result"
    }
   ],
   "source": [
    "mean_labels=loan_train.groupby(['Payment Plan'])['Loan Status'].mean().sort_values().index\n",
    "mean_labels"
   ]
  },
  {
   "cell_type": "code",
   "execution_count": 40,
   "metadata": {},
   "outputs": [
    {
     "data": {
      "text/plain": [
       "<enumerate at 0x238db0c4380>"
      ]
     },
     "execution_count": 40,
     "metadata": {},
     "output_type": "execute_result"
    }
   ],
   "source": [
    "enumerate(mean_labels,0)"
   ]
  },
  {
   "cell_type": "code",
   "execution_count": 41,
   "metadata": {},
   "outputs": [
    {
     "data": {
      "text/plain": [
       "{'n': 0}"
      ]
     },
     "execution_count": 41,
     "metadata": {},
     "output_type": "execute_result"
    }
   ],
   "source": [
    "mean_labels2={k:i for i,k in enumerate(mean_labels,0)}\n",
    "mean_labels2"
   ]
  },
  {
   "cell_type": "code",
   "execution_count": 42,
   "metadata": {},
   "outputs": [],
   "source": [
    "loan_train['Payment Plan_mean_labels']=loan_train['Payment Plan'].map(mean_labels2)"
   ]
  },
  {
   "cell_type": "code",
   "execution_count": 43,
   "metadata": {},
   "outputs": [],
   "source": [
    "loan_train = loan_train.drop(columns=\"Payment Plan\")"
   ]
  },
  {
   "cell_type": "markdown",
   "metadata": {},
   "source": [
    "### Similarly for the test dataset"
   ]
  },
  {
   "cell_type": "code",
   "execution_count": 44,
   "metadata": {},
   "outputs": [
    {
     "data": {
      "text/plain": [
       "Index(['ID', 'Loan Amount', 'Funded Amount', 'Funded Amount Investor', 'Term',\n",
       "       'Batch Enrolled', 'Interest Rate', 'Grade', 'Sub Grade',\n",
       "       'Employment Duration', 'Home Ownership', 'Verification Status',\n",
       "       'Payment Plan', 'Loan Title', 'Debit to Income',\n",
       "       'Delinquency - two years', 'Inquires - six months', 'Open Account',\n",
       "       'Public Record', 'Revolving Balance', 'Revolving Utilities',\n",
       "       'Total Accounts', 'Initial List Status', 'Total Received Interest',\n",
       "       'Total Received Late Fee', 'Recoveries', 'Collection Recovery Fee',\n",
       "       'Collection 12 months Medical', 'Application Type', 'Last week Pay',\n",
       "       'Accounts Delinquent', 'Total Collection Amount',\n",
       "       'Total Current Balance', 'Total Revolving Credit Limit', 'Loan Status'],\n",
       "      dtype='object')"
      ]
     },
     "execution_count": 44,
     "metadata": {},
     "output_type": "execute_result"
    }
   ],
   "source": [
    "loan_test.columns"
   ]
  },
  {
   "cell_type": "markdown",
   "metadata": {},
   "source": [
    "#### Grade"
   ]
  },
  {
   "cell_type": "code",
   "execution_count": 45,
   "metadata": {},
   "outputs": [
    {
     "data": {
      "text/plain": [
       "Index(['A', 'B', 'C', 'D', 'E', 'F', 'G'], dtype='object', name='Grade')"
      ]
     },
     "execution_count": 45,
     "metadata": {},
     "output_type": "execute_result"
    }
   ],
   "source": [
    "mean_labels=loan_test.groupby(['Grade'])['Loan Status'].mean().sort_values().index\n",
    "mean_labels"
   ]
  },
  {
   "cell_type": "code",
   "execution_count": 46,
   "metadata": {},
   "outputs": [
    {
     "data": {
      "text/plain": [
       "<enumerate at 0x238db0b92c0>"
      ]
     },
     "execution_count": 46,
     "metadata": {},
     "output_type": "execute_result"
    }
   ],
   "source": [
    "enumerate(mean_labels,0)"
   ]
  },
  {
   "cell_type": "code",
   "execution_count": 47,
   "metadata": {},
   "outputs": [
    {
     "data": {
      "text/plain": [
       "{'A': 0, 'B': 1, 'C': 2, 'D': 3, 'E': 4, 'F': 5, 'G': 6}"
      ]
     },
     "execution_count": 47,
     "metadata": {},
     "output_type": "execute_result"
    }
   ],
   "source": [
    "mean_labels2={k:i for i,k in enumerate(mean_labels,0)}\n",
    "mean_labels2"
   ]
  },
  {
   "cell_type": "code",
   "execution_count": 48,
   "metadata": {},
   "outputs": [],
   "source": [
    "loan_test['Grade_mean_labels']=loan_test['Grade'].map(mean_labels2)"
   ]
  },
  {
   "cell_type": "code",
   "execution_count": 49,
   "metadata": {},
   "outputs": [],
   "source": [
    "loan_test = loan_test.drop(columns=\"Grade\")"
   ]
  },
  {
   "cell_type": "markdown",
   "metadata": {},
   "source": [
    "#### Employment Duration "
   ]
  },
  {
   "cell_type": "code",
   "execution_count": 50,
   "metadata": {},
   "outputs": [
    {
     "data": {
      "text/plain": [
       "Index(['MORTGAGE', 'OWN', 'RENT'], dtype='object', name='Employment Duration')"
      ]
     },
     "execution_count": 50,
     "metadata": {},
     "output_type": "execute_result"
    }
   ],
   "source": [
    "mean_labels=loan_test.groupby(['Employment Duration'])['Loan Status'].mean().sort_values().index\n",
    "mean_labels"
   ]
  },
  {
   "cell_type": "code",
   "execution_count": 51,
   "metadata": {},
   "outputs": [
    {
     "data": {
      "text/plain": [
       "<enumerate at 0x238db0c5cc0>"
      ]
     },
     "execution_count": 51,
     "metadata": {},
     "output_type": "execute_result"
    }
   ],
   "source": [
    "enumerate(mean_labels,0)"
   ]
  },
  {
   "cell_type": "code",
   "execution_count": 52,
   "metadata": {},
   "outputs": [
    {
     "data": {
      "text/plain": [
       "{'MORTGAGE': 0, 'OWN': 1, 'RENT': 2}"
      ]
     },
     "execution_count": 52,
     "metadata": {},
     "output_type": "execute_result"
    }
   ],
   "source": [
    "mean_labels2={k:i for i,k in enumerate(mean_labels,0)}\n",
    "mean_labels2"
   ]
  },
  {
   "cell_type": "code",
   "execution_count": 53,
   "metadata": {},
   "outputs": [],
   "source": [
    "loan_test['Employment Duration_mean_labels']=loan_test['Employment Duration'].map(mean_labels2)"
   ]
  },
  {
   "cell_type": "code",
   "execution_count": 54,
   "metadata": {},
   "outputs": [],
   "source": [
    "loan_test = loan_test.drop(columns=\"Employment Duration\")"
   ]
  },
  {
   "cell_type": "markdown",
   "metadata": {},
   "source": [
    "#### Application Type"
   ]
  },
  {
   "cell_type": "code",
   "execution_count": 55,
   "metadata": {},
   "outputs": [
    {
     "data": {
      "text/plain": [
       "Index(['INDIVIDUAL', 'JOINT'], dtype='object', name='Application Type')"
      ]
     },
     "execution_count": 55,
     "metadata": {},
     "output_type": "execute_result"
    }
   ],
   "source": [
    "mean_labels=loan_test.groupby(['Application Type'])['Loan Status'].mean().sort_values().index\n",
    "mean_labels"
   ]
  },
  {
   "cell_type": "code",
   "execution_count": 56,
   "metadata": {},
   "outputs": [
    {
     "data": {
      "text/plain": [
       "<enumerate at 0x238da8ba340>"
      ]
     },
     "execution_count": 56,
     "metadata": {},
     "output_type": "execute_result"
    }
   ],
   "source": [
    "enumerate(mean_labels,0)"
   ]
  },
  {
   "cell_type": "code",
   "execution_count": 57,
   "metadata": {},
   "outputs": [
    {
     "data": {
      "text/plain": [
       "{'INDIVIDUAL': 0, 'JOINT': 1}"
      ]
     },
     "execution_count": 57,
     "metadata": {},
     "output_type": "execute_result"
    }
   ],
   "source": [
    "mean_labels2={k:i for i,k in enumerate(mean_labels,0)}\n",
    "mean_labels2"
   ]
  },
  {
   "cell_type": "code",
   "execution_count": 58,
   "metadata": {},
   "outputs": [],
   "source": [
    "loan_test['Application Type_mean_labels']=loan_test['Application Type'].map(mean_labels2)"
   ]
  },
  {
   "cell_type": "code",
   "execution_count": 59,
   "metadata": {},
   "outputs": [],
   "source": [
    "loan_test = loan_test.drop(columns=\"Application Type\")"
   ]
  },
  {
   "cell_type": "markdown",
   "metadata": {},
   "source": [
    "#### Verification Status"
   ]
  },
  {
   "cell_type": "code",
   "execution_count": 60,
   "metadata": {},
   "outputs": [
    {
     "data": {
      "text/plain": [
       "Index(['Not Verified', 'Source Verified', 'Verified'], dtype='object', name='Verification Status')"
      ]
     },
     "execution_count": 60,
     "metadata": {},
     "output_type": "execute_result"
    }
   ],
   "source": [
    "mean_labels=loan_test.groupby(['Verification Status'])['Loan Status'].mean().sort_values().index\n",
    "mean_labels"
   ]
  },
  {
   "cell_type": "code",
   "execution_count": 61,
   "metadata": {},
   "outputs": [
    {
     "data": {
      "text/plain": [
       "<enumerate at 0x238db0d6080>"
      ]
     },
     "execution_count": 61,
     "metadata": {},
     "output_type": "execute_result"
    }
   ],
   "source": [
    "enumerate(mean_labels,0)"
   ]
  },
  {
   "cell_type": "code",
   "execution_count": 62,
   "metadata": {},
   "outputs": [
    {
     "data": {
      "text/plain": [
       "{'Not Verified': 0, 'Source Verified': 1, 'Verified': 2}"
      ]
     },
     "execution_count": 62,
     "metadata": {},
     "output_type": "execute_result"
    }
   ],
   "source": [
    "mean_labels2={k:i for i,k in enumerate(mean_labels,0)}\n",
    "mean_labels2"
   ]
  },
  {
   "cell_type": "code",
   "execution_count": 63,
   "metadata": {},
   "outputs": [],
   "source": [
    "loan_test['Verification Status_mean_labels']=loan_test['Verification Status'].map(mean_labels2)"
   ]
  },
  {
   "cell_type": "code",
   "execution_count": 64,
   "metadata": {},
   "outputs": [],
   "source": [
    "loan_test = loan_test.drop(columns=\"Verification Status\")"
   ]
  },
  {
   "cell_type": "markdown",
   "metadata": {},
   "source": [
    "###### Payment Plan"
   ]
  },
  {
   "cell_type": "code",
   "execution_count": 65,
   "metadata": {},
   "outputs": [
    {
     "data": {
      "text/plain": [
       "Index(['n'], dtype='object', name='Payment Plan')"
      ]
     },
     "execution_count": 65,
     "metadata": {},
     "output_type": "execute_result"
    }
   ],
   "source": [
    "mean_labels=loan_test.groupby(['Payment Plan'])['Loan Status'].mean().sort_values().index\n",
    "mean_labels"
   ]
  },
  {
   "cell_type": "code",
   "execution_count": 66,
   "metadata": {},
   "outputs": [
    {
     "data": {
      "text/plain": [
       "<enumerate at 0x238db0d8080>"
      ]
     },
     "execution_count": 66,
     "metadata": {},
     "output_type": "execute_result"
    }
   ],
   "source": [
    "enumerate(mean_labels,0)"
   ]
  },
  {
   "cell_type": "code",
   "execution_count": 67,
   "metadata": {},
   "outputs": [
    {
     "data": {
      "text/plain": [
       "{'n': 0}"
      ]
     },
     "execution_count": 67,
     "metadata": {},
     "output_type": "execute_result"
    }
   ],
   "source": [
    "mean_labels2={k:i for i,k in enumerate(mean_labels,0)}\n",
    "mean_labels2"
   ]
  },
  {
   "cell_type": "code",
   "execution_count": 68,
   "metadata": {},
   "outputs": [],
   "source": [
    "loan_test['Payment Plan_mean_labels']=loan_test['Payment Plan'].map(mean_labels2)"
   ]
  },
  {
   "cell_type": "code",
   "execution_count": 69,
   "metadata": {},
   "outputs": [],
   "source": [
    "loan_test = loan_test.drop(columns=\"Payment Plan\")"
   ]
  },
  {
   "cell_type": "markdown",
   "metadata": {},
   "source": [
    "#### Label Encoding For Train And Test Dataset"
   ]
  },
  {
   "cell_type": "code",
   "execution_count": 70,
   "metadata": {},
   "outputs": [
    {
     "data": {
      "text/plain": [
       "array([16,  4, 11, 15, 32, 29, 31, 17, 10, 13, 14, 39, 20, 19, 34, 37,  9,\n",
       "       30, 25,  7, 27, 38,  2, 26, 21,  3, 18, 28,  0, 40,  8,  6, 33, 24,\n",
       "       36, 35, 12, 23, 22,  5,  1])"
      ]
     },
     "execution_count": 70,
     "metadata": {},
     "output_type": "execute_result"
    }
   ],
   "source": [
    "from sklearn import preprocessing\n",
    " \n",
    "# label_encoder object knows how to understand word labels.\n",
    "label_encoder = preprocessing.LabelEncoder()\n",
    " \n",
    "# Encode labels in Rest Object Columns.\n",
    "loan_train['Batch Enrolled']= label_encoder.fit_transform(loan_train['Batch Enrolled'])\n",
    " \n",
    "loan_train['Batch Enrolled'].unique()"
   ]
  },
  {
   "cell_type": "code",
   "execution_count": 71,
   "metadata": {},
   "outputs": [],
   "source": [
    "loan_train['Sub Grade']= label_encoder.fit_transform(loan_train['Sub Grade'])"
   ]
  },
  {
   "cell_type": "code",
   "execution_count": 72,
   "metadata": {},
   "outputs": [],
   "source": [
    "loan_train['Loan Title']= label_encoder.fit_transform(loan_train['Loan Title'])"
   ]
  },
  {
   "cell_type": "code",
   "execution_count": 73,
   "metadata": {},
   "outputs": [],
   "source": [
    "loan_train['Initial List Status']= label_encoder.fit_transform(loan_train['Initial List Status'])"
   ]
  },
  {
   "cell_type": "markdown",
   "metadata": {},
   "source": [
    "#### Similarly For Test Dataset"
   ]
  },
  {
   "cell_type": "code",
   "execution_count": 74,
   "metadata": {},
   "outputs": [],
   "source": [
    "loan_test['Batch Enrolled']= label_encoder.fit_transform(loan_test['Batch Enrolled'])"
   ]
  },
  {
   "cell_type": "code",
   "execution_count": 75,
   "metadata": {},
   "outputs": [],
   "source": [
    "loan_test['Sub Grade']= label_encoder.fit_transform(loan_test['Sub Grade'])"
   ]
  },
  {
   "cell_type": "code",
   "execution_count": 76,
   "metadata": {},
   "outputs": [],
   "source": [
    "loan_test['Loan Title']= label_encoder.fit_transform(loan_test['Loan Title'])"
   ]
  },
  {
   "cell_type": "code",
   "execution_count": 77,
   "metadata": {},
   "outputs": [],
   "source": [
    "loan_test['Initial List Status']= label_encoder.fit_transform(loan_test['Initial List Status'])"
   ]
  },
  {
   "cell_type": "code",
   "execution_count": 78,
   "metadata": {},
   "outputs": [],
   "source": [
    "### Checking the dtypes for the dataset"
   ]
  },
  {
   "cell_type": "code",
   "execution_count": 79,
   "metadata": {},
   "outputs": [
    {
     "data": {
      "text/plain": [
       "ID                                      int64\n",
       "Loan Amount                             int64\n",
       "Funded Amount                           int64\n",
       "Funded Amount Investor                float64\n",
       "Term                                    int64\n",
       "Batch Enrolled                          int32\n",
       "Interest Rate                         float64\n",
       "Sub Grade                               int32\n",
       "Home Ownership                        float64\n",
       "Loan Title                              int32\n",
       "Debit to Income                       float64\n",
       "Delinquency - two years                 int64\n",
       "Inquires - six months                   int64\n",
       "Open Account                            int64\n",
       "Public Record                           int64\n",
       "Revolving Balance                       int64\n",
       "Revolving Utilities                   float64\n",
       "Total Accounts                          int64\n",
       "Initial List Status                     int32\n",
       "Total Received Interest               float64\n",
       "Total Received Late Fee               float64\n",
       "Recoveries                            float64\n",
       "Collection Recovery Fee               float64\n",
       "Collection 12 months Medical            int64\n",
       "Last week Pay                           int64\n",
       "Accounts Delinquent                     int64\n",
       "Total Collection Amount                 int64\n",
       "Total Current Balance                   int64\n",
       "Total Revolving Credit Limit            int64\n",
       "Loan Status                             int64\n",
       "Grade_mean_labels                       int64\n",
       "Employment Duration_ordinal_labels      int64\n",
       "Application Type_mean_labels            int64\n",
       "Verification Status_mean_labels         int64\n",
       "Payment Plan_mean_labels                int64\n",
       "dtype: object"
      ]
     },
     "execution_count": 79,
     "metadata": {},
     "output_type": "execute_result"
    }
   ],
   "source": [
    "loan_train.dtypes"
   ]
  },
  {
   "cell_type": "code",
   "execution_count": 80,
   "metadata": {},
   "outputs": [],
   "source": [
    "X_train = loan_train.drop(columns=\"Loan Status\")"
   ]
  },
  {
   "cell_type": "code",
   "execution_count": 81,
   "metadata": {},
   "outputs": [],
   "source": [
    "y_train = loan_train[\"Loan Status\"]"
   ]
  },
  {
   "cell_type": "code",
   "execution_count": 82,
   "metadata": {},
   "outputs": [],
   "source": [
    "X_test = loan_test.drop(columns=\"Loan Status\")"
   ]
  },
  {
   "cell_type": "code",
   "execution_count": 83,
   "metadata": {},
   "outputs": [],
   "source": [
    "y_test = loan_test[\"Loan Status\"]"
   ]
  },
  {
   "cell_type": "markdown",
   "metadata": {},
   "source": [
    "##### Dimensions "
   ]
  },
  {
   "cell_type": "code",
   "execution_count": 84,
   "metadata": {},
   "outputs": [
    {
     "data": {
      "text/plain": [
       "(67463, 34)"
      ]
     },
     "execution_count": 84,
     "metadata": {},
     "output_type": "execute_result"
    }
   ],
   "source": [
    "X_train.shape"
   ]
  },
  {
   "cell_type": "code",
   "execution_count": 85,
   "metadata": {},
   "outputs": [
    {
     "data": {
      "text/plain": [
       "(28913, 34)"
      ]
     },
     "execution_count": 85,
     "metadata": {},
     "output_type": "execute_result"
    }
   ],
   "source": [
    "X_test.shape"
   ]
  },
  {
   "cell_type": "code",
   "execution_count": 86,
   "metadata": {},
   "outputs": [
    {
     "data": {
      "text/plain": [
       "(67463,)"
      ]
     },
     "execution_count": 86,
     "metadata": {},
     "output_type": "execute_result"
    }
   ],
   "source": [
    "y_train.shape"
   ]
  },
  {
   "cell_type": "code",
   "execution_count": 87,
   "metadata": {},
   "outputs": [
    {
     "data": {
      "text/plain": [
       "(28913,)"
      ]
     },
     "execution_count": 87,
     "metadata": {},
     "output_type": "execute_result"
    }
   ],
   "source": [
    "y_test.shape"
   ]
  },
  {
   "cell_type": "markdown",
   "metadata": {},
   "source": [
    "# Scaling And Normalizarion "
   ]
  },
  {
   "cell_type": "markdown",
   "metadata": {},
   "source": [
    "##### Robust Scaler\n",
    "It is used to scale the feature to median and quantiles\n",
    "Scaling using median and quantiles consists of substracting the median to all the observations, and then dividing by the interquantile difference. The interquantile difference is the difference between the 75th and 25th quantile:\n",
    "\n",
    "IQR = 75th quantile - 25th quantile\n",
    "\n",
    "X_scaled = (X - X.median) / IQR"
   ]
  },
  {
   "cell_type": "code",
   "execution_count": 88,
   "metadata": {},
   "outputs": [
    {
     "data": {
      "text/html": [
       "<div>\n",
       "<style scoped>\n",
       "    .dataframe tbody tr th:only-of-type {\n",
       "        vertical-align: middle;\n",
       "    }\n",
       "\n",
       "    .dataframe tbody tr th {\n",
       "        vertical-align: top;\n",
       "    }\n",
       "\n",
       "    .dataframe thead th {\n",
       "        text-align: right;\n",
       "    }\n",
       "</style>\n",
       "<table border=\"1\" class=\"dataframe\">\n",
       "  <thead>\n",
       "    <tr style=\"text-align: right;\">\n",
       "      <th></th>\n",
       "      <th>ID</th>\n",
       "      <th>Loan Amount</th>\n",
       "      <th>Funded Amount</th>\n",
       "      <th>Funded Amount Investor</th>\n",
       "      <th>Term</th>\n",
       "      <th>Batch Enrolled</th>\n",
       "      <th>Interest Rate</th>\n",
       "      <th>Sub Grade</th>\n",
       "      <th>Home Ownership</th>\n",
       "      <th>Loan Title</th>\n",
       "      <th>...</th>\n",
       "      <th>Last week Pay</th>\n",
       "      <th>Accounts Delinquent</th>\n",
       "      <th>Total Collection Amount</th>\n",
       "      <th>Total Current Balance</th>\n",
       "      <th>Total Revolving Credit Limit</th>\n",
       "      <th>Grade_mean_labels</th>\n",
       "      <th>Employment Duration_ordinal_labels</th>\n",
       "      <th>Application Type_mean_labels</th>\n",
       "      <th>Verification Status_mean_labels</th>\n",
       "      <th>Payment Plan_mean_labels</th>\n",
       "    </tr>\n",
       "  </thead>\n",
       "  <tbody>\n",
       "    <tr>\n",
       "      <th>0</th>\n",
       "      <td>1.305072</td>\n",
       "      <td>-0.502150</td>\n",
       "      <td>1.532272</td>\n",
       "      <td>-0.058215</td>\n",
       "      <td>0.0</td>\n",
       "      <td>-0.157895</td>\n",
       "      <td>-0.049565</td>\n",
       "      <td>0.181818</td>\n",
       "      <td>2.492479</td>\n",
       "      <td>0.000000</td>\n",
       "      <td>...</td>\n",
       "      <td>-0.271429</td>\n",
       "      <td>0.0</td>\n",
       "      <td>-0.227273</td>\n",
       "      <td>1.083912</td>\n",
       "      <td>-0.421575</td>\n",
       "      <td>-0.666667</td>\n",
       "      <td>0.0</td>\n",
       "      <td>0.0</td>\n",
       "      <td>0.0</td>\n",
       "      <td>0.0</td>\n",
       "    </tr>\n",
       "    <tr>\n",
       "      <th>1</th>\n",
       "      <td>-0.455541</td>\n",
       "      <td>-1.030594</td>\n",
       "      <td>-0.087973</td>\n",
       "      <td>-0.075438</td>\n",
       "      <td>0.0</td>\n",
       "      <td>-0.789474</td>\n",
       "      <td>0.175612</td>\n",
       "      <td>0.545455</td>\n",
       "      <td>-0.687154</td>\n",
       "      <td>0.636364</td>\n",
       "      <td>...</td>\n",
       "      <td>0.585714</td>\n",
       "      <td>0.0</td>\n",
       "      <td>0.772727</td>\n",
       "      <td>0.360913</td>\n",
       "      <td>0.173065</td>\n",
       "      <td>0.000000</td>\n",
       "      <td>1.0</td>\n",
       "      <td>0.0</td>\n",
       "      <td>0.5</td>\n",
       "      <td>0.0</td>\n",
       "    </tr>\n",
       "    <tr>\n",
       "      <th>2</th>\n",
       "      <td>-0.441184</td>\n",
       "      <td>1.009013</td>\n",
       "      <td>-0.297849</td>\n",
       "      <td>1.104519</td>\n",
       "      <td>0.0</td>\n",
       "      <td>-0.421053</td>\n",
       "      <td>0.238582</td>\n",
       "      <td>0.636364</td>\n",
       "      <td>0.516400</td>\n",
       "      <td>0.000000</td>\n",
       "      <td>...</td>\n",
       "      <td>-0.028571</td>\n",
       "      <td>0.0</td>\n",
       "      <td>-0.090909</td>\n",
       "      <td>-0.160498</td>\n",
       "      <td>0.392731</td>\n",
       "      <td>1.000000</td>\n",
       "      <td>0.0</td>\n",
       "      <td>0.0</td>\n",
       "      <td>0.5</td>\n",
       "      <td>0.0</td>\n",
       "    </tr>\n",
       "    <tr>\n",
       "      <th>3</th>\n",
       "      <td>-0.311640</td>\n",
       "      <td>-0.405408</td>\n",
       "      <td>-0.486010</td>\n",
       "      <td>0.637354</td>\n",
       "      <td>0.0</td>\n",
       "      <td>-0.210526</td>\n",
       "      <td>1.093358</td>\n",
       "      <td>0.090909</td>\n",
       "      <td>0.907235</td>\n",
       "      <td>0.636364</td>\n",
       "      <td>...</td>\n",
       "      <td>-0.414286</td>\n",
       "      <td>0.0</td>\n",
       "      <td>0.181818</td>\n",
       "      <td>-0.613385</td>\n",
       "      <td>1.812388</td>\n",
       "      <td>0.000000</td>\n",
       "      <td>0.0</td>\n",
       "      <td>0.0</td>\n",
       "      <td>0.5</td>\n",
       "      <td>0.0</td>\n",
       "    </tr>\n",
       "    <tr>\n",
       "      <th>4</th>\n",
       "      <td>-0.098519</td>\n",
       "      <td>0.067554</td>\n",
       "      <td>0.014689</td>\n",
       "      <td>0.093562</td>\n",
       "      <td>0.0</td>\n",
       "      <td>0.684211</td>\n",
       "      <td>0.741486</td>\n",
       "      <td>0.636364</td>\n",
       "      <td>-0.584649</td>\n",
       "      <td>-0.363636</td>\n",
       "      <td>...</td>\n",
       "      <td>-0.714286</td>\n",
       "      <td>0.0</td>\n",
       "      <td>17.909091</td>\n",
       "      <td>0.043035</td>\n",
       "      <td>0.243675</td>\n",
       "      <td>0.000000</td>\n",
       "      <td>0.0</td>\n",
       "      <td>0.0</td>\n",
       "      <td>0.5</td>\n",
       "      <td>0.0</td>\n",
       "    </tr>\n",
       "  </tbody>\n",
       "</table>\n",
       "<p>5 rows × 34 columns</p>\n",
       "</div>"
      ],
      "text/plain": [
       "         ID  Loan Amount  Funded Amount  Funded Amount Investor  Term  \\\n",
       "0  1.305072    -0.502150       1.532272               -0.058215   0.0   \n",
       "1 -0.455541    -1.030594      -0.087973               -0.075438   0.0   \n",
       "2 -0.441184     1.009013      -0.297849                1.104519   0.0   \n",
       "3 -0.311640    -0.405408      -0.486010                0.637354   0.0   \n",
       "4 -0.098519     0.067554       0.014689                0.093562   0.0   \n",
       "\n",
       "   Batch Enrolled  Interest Rate  Sub Grade  Home Ownership  Loan Title  ...  \\\n",
       "0       -0.157895      -0.049565   0.181818        2.492479    0.000000  ...   \n",
       "1       -0.789474       0.175612   0.545455       -0.687154    0.636364  ...   \n",
       "2       -0.421053       0.238582   0.636364        0.516400    0.000000  ...   \n",
       "3       -0.210526       1.093358   0.090909        0.907235    0.636364  ...   \n",
       "4        0.684211       0.741486   0.636364       -0.584649   -0.363636  ...   \n",
       "\n",
       "   Last week Pay  Accounts Delinquent  Total Collection Amount  \\\n",
       "0      -0.271429                  0.0                -0.227273   \n",
       "1       0.585714                  0.0                 0.772727   \n",
       "2      -0.028571                  0.0                -0.090909   \n",
       "3      -0.414286                  0.0                 0.181818   \n",
       "4      -0.714286                  0.0                17.909091   \n",
       "\n",
       "   Total Current Balance  Total Revolving Credit Limit  Grade_mean_labels  \\\n",
       "0               1.083912                     -0.421575          -0.666667   \n",
       "1               0.360913                      0.173065           0.000000   \n",
       "2              -0.160498                      0.392731           1.000000   \n",
       "3              -0.613385                      1.812388           0.000000   \n",
       "4               0.043035                      0.243675           0.000000   \n",
       "\n",
       "   Employment Duration_ordinal_labels  Application Type_mean_labels  \\\n",
       "0                                 0.0                           0.0   \n",
       "1                                 1.0                           0.0   \n",
       "2                                 0.0                           0.0   \n",
       "3                                 0.0                           0.0   \n",
       "4                                 0.0                           0.0   \n",
       "\n",
       "   Verification Status_mean_labels  Payment Plan_mean_labels  \n",
       "0                              0.0                       0.0  \n",
       "1                              0.5                       0.0  \n",
       "2                              0.5                       0.0  \n",
       "3                              0.5                       0.0  \n",
       "4                              0.5                       0.0  \n",
       "\n",
       "[5 rows x 34 columns]"
      ]
     },
     "execution_count": 88,
     "metadata": {},
     "output_type": "execute_result"
    }
   ],
   "source": [
    "from sklearn.preprocessing import RobustScaler\n",
    "scaler=RobustScaler()\n",
    "X_train=pd.DataFrame(scaler.fit_transform(X_train),columns=X_train.columns)\n",
    "X_train.head()"
   ]
  },
  {
   "cell_type": "code",
   "execution_count": 89,
   "metadata": {},
   "outputs": [
    {
     "data": {
      "text/html": [
       "<div>\n",
       "<style scoped>\n",
       "    .dataframe tbody tr th:only-of-type {\n",
       "        vertical-align: middle;\n",
       "    }\n",
       "\n",
       "    .dataframe tbody tr th {\n",
       "        vertical-align: top;\n",
       "    }\n",
       "\n",
       "    .dataframe thead th {\n",
       "        text-align: right;\n",
       "    }\n",
       "</style>\n",
       "<table border=\"1\" class=\"dataframe\">\n",
       "  <thead>\n",
       "    <tr style=\"text-align: right;\">\n",
       "      <th></th>\n",
       "      <th>ID</th>\n",
       "      <th>Loan Amount</th>\n",
       "      <th>Funded Amount</th>\n",
       "      <th>Funded Amount Investor</th>\n",
       "      <th>Term</th>\n",
       "      <th>Batch Enrolled</th>\n",
       "      <th>Interest Rate</th>\n",
       "      <th>Sub Grade</th>\n",
       "      <th>Home Ownership</th>\n",
       "      <th>Loan Title</th>\n",
       "      <th>...</th>\n",
       "      <th>Last week Pay</th>\n",
       "      <th>Accounts Delinquent</th>\n",
       "      <th>Total Collection Amount</th>\n",
       "      <th>Total Current Balance</th>\n",
       "      <th>Total Revolving Credit Limit</th>\n",
       "      <th>Grade_mean_labels</th>\n",
       "      <th>Employment Duration_mean_labels</th>\n",
       "      <th>Application Type_mean_labels</th>\n",
       "      <th>Verification Status_mean_labels</th>\n",
       "      <th>Payment Plan_mean_labels</th>\n",
       "    </tr>\n",
       "  </thead>\n",
       "  <tbody>\n",
       "    <tr>\n",
       "      <th>0</th>\n",
       "      <td>0.757752</td>\n",
       "      <td>0.128000</td>\n",
       "      <td>-0.229054</td>\n",
       "      <td>0.324677</td>\n",
       "      <td>0.0</td>\n",
       "      <td>-0.055556</td>\n",
       "      <td>0.091084</td>\n",
       "      <td>0.4</td>\n",
       "      <td>0.172564</td>\n",
       "      <td>1.000000</td>\n",
       "      <td>...</td>\n",
       "      <td>1.136364</td>\n",
       "      <td>0.0</td>\n",
       "      <td>-0.146341</td>\n",
       "      <td>2.053319</td>\n",
       "      <td>-0.590340</td>\n",
       "      <td>-1.0</td>\n",
       "      <td>1.0</td>\n",
       "      <td>0.0</td>\n",
       "      <td>0.0</td>\n",
       "      <td>0.0</td>\n",
       "    </tr>\n",
       "    <tr>\n",
       "      <th>1</th>\n",
       "      <td>-0.085027</td>\n",
       "      <td>-0.713011</td>\n",
       "      <td>-0.125232</td>\n",
       "      <td>-0.033030</td>\n",
       "      <td>0.0</td>\n",
       "      <td>0.055556</td>\n",
       "      <td>-0.982062</td>\n",
       "      <td>1.1</td>\n",
       "      <td>-0.702040</td>\n",
       "      <td>-1.000000</td>\n",
       "      <td>...</td>\n",
       "      <td>-0.060606</td>\n",
       "      <td>0.0</td>\n",
       "      <td>-0.707317</td>\n",
       "      <td>-0.206781</td>\n",
       "      <td>-0.663338</td>\n",
       "      <td>-0.5</td>\n",
       "      <td>0.0</td>\n",
       "      <td>0.0</td>\n",
       "      <td>0.0</td>\n",
       "      <td>0.0</td>\n",
       "    </tr>\n",
       "    <tr>\n",
       "      <th>2</th>\n",
       "      <td>-0.399743</td>\n",
       "      <td>0.816084</td>\n",
       "      <td>1.020037</td>\n",
       "      <td>-0.137376</td>\n",
       "      <td>0.0</td>\n",
       "      <td>-0.777778</td>\n",
       "      <td>0.582843</td>\n",
       "      <td>0.1</td>\n",
       "      <td>-0.401386</td>\n",
       "      <td>0.000000</td>\n",
       "      <td>...</td>\n",
       "      <td>-0.863636</td>\n",
       "      <td>0.0</td>\n",
       "      <td>-0.097561</td>\n",
       "      <td>0.984382</td>\n",
       "      <td>0.033748</td>\n",
       "      <td>-1.0</td>\n",
       "      <td>0.0</td>\n",
       "      <td>0.0</td>\n",
       "      <td>0.0</td>\n",
       "      <td>0.0</td>\n",
       "    </tr>\n",
       "    <tr>\n",
       "      <th>3</th>\n",
       "      <td>-0.393894</td>\n",
       "      <td>1.278400</td>\n",
       "      <td>-0.285691</td>\n",
       "      <td>0.256556</td>\n",
       "      <td>0.0</td>\n",
       "      <td>0.722222</td>\n",
       "      <td>-0.223245</td>\n",
       "      <td>-1.0</td>\n",
       "      <td>-0.000600</td>\n",
       "      <td>-0.636364</td>\n",
       "      <td>...</td>\n",
       "      <td>-0.590909</td>\n",
       "      <td>0.0</td>\n",
       "      <td>0.048780</td>\n",
       "      <td>-0.383818</td>\n",
       "      <td>-0.473691</td>\n",
       "      <td>-1.0</td>\n",
       "      <td>1.0</td>\n",
       "      <td>0.0</td>\n",
       "      <td>0.5</td>\n",
       "      <td>0.0</td>\n",
       "    </tr>\n",
       "    <tr>\n",
       "      <th>4</th>\n",
       "      <td>0.541270</td>\n",
       "      <td>-0.566063</td>\n",
       "      <td>-0.305486</td>\n",
       "      <td>-0.603712</td>\n",
       "      <td>-1.0</td>\n",
       "      <td>0.555556</td>\n",
       "      <td>-0.324196</td>\n",
       "      <td>-0.4</td>\n",
       "      <td>0.516302</td>\n",
       "      <td>0.000000</td>\n",
       "      <td>...</td>\n",
       "      <td>0.666667</td>\n",
       "      <td>0.0</td>\n",
       "      <td>0.073171</td>\n",
       "      <td>-0.103525</td>\n",
       "      <td>0.297412</td>\n",
       "      <td>0.0</td>\n",
       "      <td>0.5</td>\n",
       "      <td>0.0</td>\n",
       "      <td>0.5</td>\n",
       "      <td>0.0</td>\n",
       "    </tr>\n",
       "  </tbody>\n",
       "</table>\n",
       "<p>5 rows × 34 columns</p>\n",
       "</div>"
      ],
      "text/plain": [
       "         ID  Loan Amount  Funded Amount  Funded Amount Investor  Term  \\\n",
       "0  0.757752     0.128000      -0.229054                0.324677   0.0   \n",
       "1 -0.085027    -0.713011      -0.125232               -0.033030   0.0   \n",
       "2 -0.399743     0.816084       1.020037               -0.137376   0.0   \n",
       "3 -0.393894     1.278400      -0.285691                0.256556   0.0   \n",
       "4  0.541270    -0.566063      -0.305486               -0.603712  -1.0   \n",
       "\n",
       "   Batch Enrolled  Interest Rate  Sub Grade  Home Ownership  Loan Title  ...  \\\n",
       "0       -0.055556       0.091084        0.4        0.172564    1.000000  ...   \n",
       "1        0.055556      -0.982062        1.1       -0.702040   -1.000000  ...   \n",
       "2       -0.777778       0.582843        0.1       -0.401386    0.000000  ...   \n",
       "3        0.722222      -0.223245       -1.0       -0.000600   -0.636364  ...   \n",
       "4        0.555556      -0.324196       -0.4        0.516302    0.000000  ...   \n",
       "\n",
       "   Last week Pay  Accounts Delinquent  Total Collection Amount  \\\n",
       "0       1.136364                  0.0                -0.146341   \n",
       "1      -0.060606                  0.0                -0.707317   \n",
       "2      -0.863636                  0.0                -0.097561   \n",
       "3      -0.590909                  0.0                 0.048780   \n",
       "4       0.666667                  0.0                 0.073171   \n",
       "\n",
       "   Total Current Balance  Total Revolving Credit Limit  Grade_mean_labels  \\\n",
       "0               2.053319                     -0.590340               -1.0   \n",
       "1              -0.206781                     -0.663338               -0.5   \n",
       "2               0.984382                      0.033748               -1.0   \n",
       "3              -0.383818                     -0.473691               -1.0   \n",
       "4              -0.103525                      0.297412                0.0   \n",
       "\n",
       "   Employment Duration_mean_labels  Application Type_mean_labels  \\\n",
       "0                              1.0                           0.0   \n",
       "1                              0.0                           0.0   \n",
       "2                              0.0                           0.0   \n",
       "3                              1.0                           0.0   \n",
       "4                              0.5                           0.0   \n",
       "\n",
       "   Verification Status_mean_labels  Payment Plan_mean_labels  \n",
       "0                              0.0                       0.0  \n",
       "1                              0.0                       0.0  \n",
       "2                              0.0                       0.0  \n",
       "3                              0.5                       0.0  \n",
       "4                              0.5                       0.0  \n",
       "\n",
       "[5 rows x 34 columns]"
      ]
     },
     "execution_count": 89,
     "metadata": {},
     "output_type": "execute_result"
    }
   ],
   "source": [
    "from sklearn.preprocessing import RobustScaler\n",
    "scaler=RobustScaler()\n",
    "X_test=pd.DataFrame(scaler.fit_transform(X_test),columns=X_test.columns)\n",
    "X_test.head()"
   ]
  },
  {
   "cell_type": "markdown",
   "metadata": {},
   "source": [
    "##### DISTRIBUTION OF THE `COLUMNS` "
   ]
  },
  {
   "cell_type": "code",
   "execution_count": 90,
   "metadata": {},
   "outputs": [],
   "source": [
    "import matplotlib.pyplot as plt"
   ]
  },
  {
   "cell_type": "code",
   "execution_count": 91,
   "metadata": {},
   "outputs": [
    {
     "data": {
      "image/png": "[encoded data removed]",
      "text/plain": [
       "<Figure size 1296x360 with 6 Axes>"
      ]
     },
     "metadata": {
      "needs_background": "light"
     },
     "output_type": "display_data"
    }
   ],
   "source": [
    "plt.figure(figsize=(18,5))\n",
    "plt.subplot(1,6,1)\n",
    "plt.hist(X_train['Loan Amount'],bins=20)\n",
    "plt.subplot(1,6,2)\n",
    "plt.hist(X_train['Funded Amount'],bins=20)\n",
    "plt.subplot(1,6,3)\n",
    "plt.hist(X_train['Funded Amount Investor'],bins=20)\n",
    "plt.subplot(1,6,4)\n",
    "plt.hist(X_train['Batch Enrolled'],bins=20)\n",
    "plt.subplot(1,6,5)\n",
    "plt.hist(X_train['Interest Rate'],bins=20)\n",
    "plt.subplot(1,6,6)\n",
    "plt.hist(X_train['Home Ownership'],bins=20)\n",
    "plt.show()"
   ]
  },
  {
   "cell_type": "markdown",
   "metadata": {},
   "source": [
    "### Checking For `Outliers`"
   ]
  },
  {
   "cell_type": "markdown",
   "metadata": {},
   "source": [
    "##### Outlier Treatment"
   ]
  },
  {
   "cell_type": "markdown",
   "metadata": {},
   "source": [
    "Perhaps the most important hyperparameter in the model is the “contamination” argument, which is used to help estimate the number of outliers in the dataset. This is a value between 0.0 and 0.5 and by default is set to 0.1."
   ]
  },
  {
   "cell_type": "markdown",
   "metadata": {},
   "source": [
    "##### Isolation Forest"
   ]
  },
  {
   "cell_type": "markdown",
   "metadata": {},
   "source": [
    "`Isolation Forest`, or iForest for short, is a tree-based anomaly detection algorithm.\n",
    "\n",
    "It is based on modeling the normal data in such a way as to isolate anomalies that are both few in number and different in the feature space.\n",
    "\n",
    "for reference,\n",
    "https://machinelearningmastery.com/model-based-outlier-detection-and-removal-in-python/\n"
   ]
  },
  {
   "cell_type": "code",
   "execution_count": 92,
   "metadata": {},
   "outputs": [],
   "source": [
    "from pandas import read_csv\n",
    "from sklearn.model_selection import train_test_split\n",
    "from sklearn.linear_model import LinearRegression\n",
    "from sklearn.ensemble import IsolationForest\n",
    "from sklearn.metrics import mean_absolute_error"
   ]
  },
  {
   "cell_type": "code",
   "execution_count": 93,
   "metadata": {},
   "outputs": [],
   "source": [
    "# identify outliers in the training dataset\n",
    "iso = IsolationForest(contamination=0.1)\n",
    "yhat = iso.fit_predict(X_train)"
   ]
  },
  {
   "cell_type": "code",
   "execution_count": 94,
   "metadata": {},
   "outputs": [],
   "source": [
    "# select all rows that are not outliers\n",
    "mask = yhat != -1"
   ]
  },
  {
   "cell_type": "code",
   "execution_count": 95,
   "metadata": {},
   "outputs": [],
   "source": [
    "X_train = X_train[mask]"
   ]
  },
  {
   "cell_type": "code",
   "execution_count": 96,
   "metadata": {},
   "outputs": [],
   "source": [
    "y_train = y_train[mask]"
   ]
  },
  {
   "cell_type": "code",
   "execution_count": 97,
   "metadata": {},
   "outputs": [
    {
     "name": "stdout",
     "output_type": "stream",
     "text": [
      "(60716, 34) (60716,)\n"
     ]
    }
   ],
   "source": [
    "# summarize the shape of the updated training dataset\n",
    "print(X_train.shape, y_train.shape)"
   ]
  },
  {
   "cell_type": "markdown",
   "metadata": {},
   "source": [
    "## FEATURE SELECTION "
   ]
  },
  {
   "cell_type": "markdown",
   "metadata": {},
   "source": [
    "#### Univariate Selection"
   ]
  },
  {
   "cell_type": "code",
   "execution_count": 98,
   "metadata": {},
   "outputs": [],
   "source": [
    "from sklearn.feature_selection import SelectKBest\n",
    "from sklearn.feature_selection import chi2"
   ]
  },
  {
   "cell_type": "code",
   "execution_count": 99,
   "metadata": {},
   "outputs": [
    {
     "data": {
      "text/plain": [
       "ExtraTreesClassifier()"
      ]
     },
     "execution_count": 99,
     "metadata": {},
     "output_type": "execute_result"
    }
   ],
   "source": [
    "from sklearn.ensemble import ExtraTreesClassifier\n",
    "import matplotlib.pyplot as plt\n",
    "model=ExtraTreesClassifier()\n",
    "model.fit(X_train,y_train)"
   ]
  },
  {
   "cell_type": "code",
   "execution_count": 100,
   "metadata": {},
   "outputs": [
    {
     "name": "stdout",
     "output_type": "stream",
     "text": [
      "[0.03937542 0.04011131 0.03968639 0.04000567 0.02029885 0.03805072\n",
      " 0.03989636 0.03910917 0.0400127  0.03281468 0.03919773 0.02183959\n",
      " 0.0122026  0.03866308 0.0093381  0.0387571  0.03950061 0.0400132\n",
      " 0.00643159 0.03949879 0.03959763 0.03905889 0.03838411 0.00273068\n",
      " 0.03948908 0.         0.03889596 0.03977498 0.0389762  0.02977274\n",
      " 0.01586816 0.00050741 0.02214051 0.        ]\n"
     ]
    }
   ],
   "source": [
    "print(model.feature_importances_)"
   ]
  },
  {
   "cell_type": "code",
   "execution_count": 101,
   "metadata": {},
   "outputs": [
    {
     "data": {
      "image/png": "[encoded data removed]",
      "text/plain": [
       "<Figure size 1080x720 with 1 Axes>"
      ]
     },
     "metadata": {
      "needs_background": "light"
     },
     "output_type": "display_data"
    }
   ],
   "source": [
    "plt.figure(figsize = [15,10])\n",
    "ranked_features=pd.Series(model.feature_importances_,index=X_train.columns)\n",
    "ranked_features.nlargest(20).plot(kind='barh')\n",
    "plt.show()"
   ]
  },
  {
   "cell_type": "markdown",
   "metadata": {},
   "source": [
    "### Importance Of The Features Wrt, `Label/Target Variable`"
   ]
  },
  {
   "cell_type": "code",
   "execution_count": 102,
   "metadata": {},
   "outputs": [
    {
     "data": {
      "text/plain": [
       "Loan Amount                     0.040111\n",
       "Total Accounts                  0.040013\n",
       "Home Ownership                  0.040013\n",
       "Funded Amount Investor          0.040006\n",
       "Interest Rate                   0.039896\n",
       "Total Current Balance           0.039775\n",
       "Funded Amount                   0.039686\n",
       "Total Received Late Fee         0.039598\n",
       "Revolving Utilities             0.039501\n",
       "Total Received Interest         0.039499\n",
       "Last week Pay                   0.039489\n",
       "ID                              0.039375\n",
       "Debit to Income                 0.039198\n",
       "Sub Grade                       0.039109\n",
       "Recoveries                      0.039059\n",
       "Total Revolving Credit Limit    0.038976\n",
       "Total Collection Amount         0.038896\n",
       "Revolving Balance               0.038757\n",
       "Open Account                    0.038663\n",
       "Collection Recovery Fee         0.038384\n",
       "dtype: float64"
      ]
     },
     "execution_count": 102,
     "metadata": {},
     "output_type": "execute_result"
    }
   ],
   "source": [
    "ranked_features.nlargest(20, keep='all')"
   ]
  },
  {
   "cell_type": "markdown",
   "metadata": {},
   "source": [
    "### Correlation - To Check `Multicollinearity`"
   ]
  },
  {
   "cell_type": "code",
   "execution_count": 103,
   "metadata": {},
   "outputs": [
    {
     "data": {
      "text/html": [
       "<div>\n",
       "<style scoped>\n",
       "    .dataframe tbody tr th:only-of-type {\n",
       "        vertical-align: middle;\n",
       "    }\n",
       "\n",
       "    .dataframe tbody tr th {\n",
       "        vertical-align: top;\n",
       "    }\n",
       "\n",
       "    .dataframe thead th {\n",
       "        text-align: right;\n",
       "    }\n",
       "</style>\n",
       "<table border=\"1\" class=\"dataframe\">\n",
       "  <thead>\n",
       "    <tr style=\"text-align: right;\">\n",
       "      <th></th>\n",
       "      <th>ID</th>\n",
       "      <th>Loan Amount</th>\n",
       "      <th>Funded Amount</th>\n",
       "      <th>Funded Amount Investor</th>\n",
       "      <th>Term</th>\n",
       "      <th>Batch Enrolled</th>\n",
       "      <th>Interest Rate</th>\n",
       "      <th>Sub Grade</th>\n",
       "      <th>Home Ownership</th>\n",
       "      <th>Loan Title</th>\n",
       "      <th>...</th>\n",
       "      <th>Last week Pay</th>\n",
       "      <th>Accounts Delinquent</th>\n",
       "      <th>Total Collection Amount</th>\n",
       "      <th>Total Current Balance</th>\n",
       "      <th>Total Revolving Credit Limit</th>\n",
       "      <th>Grade_mean_labels</th>\n",
       "      <th>Employment Duration_ordinal_labels</th>\n",
       "      <th>Application Type_mean_labels</th>\n",
       "      <th>Verification Status_mean_labels</th>\n",
       "      <th>Payment Plan_mean_labels</th>\n",
       "    </tr>\n",
       "  </thead>\n",
       "  <tbody>\n",
       "    <tr>\n",
       "      <th>ID</th>\n",
       "      <td>1.000000</td>\n",
       "      <td>-0.000948</td>\n",
       "      <td>-0.006969</td>\n",
       "      <td>0.001428</td>\n",
       "      <td>0.009144</td>\n",
       "      <td>0.003232</td>\n",
       "      <td>0.003852</td>\n",
       "      <td>0.009118</td>\n",
       "      <td>-0.005638</td>\n",
       "      <td>-0.000255</td>\n",
       "      <td>...</td>\n",
       "      <td>0.003796</td>\n",
       "      <td>NaN</td>\n",
       "      <td>-0.006096</td>\n",
       "      <td>-0.005282</td>\n",
       "      <td>-0.004371</td>\n",
       "      <td>-0.002963</td>\n",
       "      <td>0.000283</td>\n",
       "      <td>-0.001080</td>\n",
       "      <td>0.008893</td>\n",
       "      <td>NaN</td>\n",
       "    </tr>\n",
       "    <tr>\n",
       "      <th>Loan Amount</th>\n",
       "      <td>-0.000948</td>\n",
       "      <td>1.000000</td>\n",
       "      <td>-0.003853</td>\n",
       "      <td>0.002887</td>\n",
       "      <td>0.007561</td>\n",
       "      <td>0.002774</td>\n",
       "      <td>-0.003646</td>\n",
       "      <td>-0.004497</td>\n",
       "      <td>0.014885</td>\n",
       "      <td>-0.003773</td>\n",
       "      <td>...</td>\n",
       "      <td>-0.000448</td>\n",
       "      <td>NaN</td>\n",
       "      <td>-0.005853</td>\n",
       "      <td>-0.007103</td>\n",
       "      <td>0.003160</td>\n",
       "      <td>-0.029361</td>\n",
       "      <td>-0.027753</td>\n",
       "      <td>-0.006492</td>\n",
       "      <td>-0.018001</td>\n",
       "      <td>NaN</td>\n",
       "    </tr>\n",
       "    <tr>\n",
       "      <th>Funded Amount</th>\n",
       "      <td>-0.006969</td>\n",
       "      <td>-0.003853</td>\n",
       "      <td>1.000000</td>\n",
       "      <td>0.007926</td>\n",
       "      <td>0.003991</td>\n",
       "      <td>0.003445</td>\n",
       "      <td>-0.000165</td>\n",
       "      <td>0.001734</td>\n",
       "      <td>-0.006300</td>\n",
       "      <td>-0.000352</td>\n",
       "      <td>...</td>\n",
       "      <td>-0.003404</td>\n",
       "      <td>NaN</td>\n",
       "      <td>-0.007570</td>\n",
       "      <td>-0.004601</td>\n",
       "      <td>0.003905</td>\n",
       "      <td>-0.006204</td>\n",
       "      <td>0.010956</td>\n",
       "      <td>-0.005018</td>\n",
       "      <td>-0.003758</td>\n",
       "      <td>NaN</td>\n",
       "    </tr>\n",
       "    <tr>\n",
       "      <th>Funded Amount Investor</th>\n",
       "      <td>0.001428</td>\n",
       "      <td>0.002887</td>\n",
       "      <td>0.007926</td>\n",
       "      <td>1.000000</td>\n",
       "      <td>0.010837</td>\n",
       "      <td>-0.001192</td>\n",
       "      <td>-0.006965</td>\n",
       "      <td>-0.004299</td>\n",
       "      <td>-0.004740</td>\n",
       "      <td>-0.002448</td>\n",
       "      <td>...</td>\n",
       "      <td>-0.001566</td>\n",
       "      <td>NaN</td>\n",
       "      <td>-0.013128</td>\n",
       "      <td>-0.002577</td>\n",
       "      <td>-0.002613</td>\n",
       "      <td>0.003038</td>\n",
       "      <td>-0.015944</td>\n",
       "      <td>-0.002064</td>\n",
       "      <td>-0.005343</td>\n",
       "      <td>NaN</td>\n",
       "    </tr>\n",
       "    <tr>\n",
       "      <th>Term</th>\n",
       "      <td>0.009144</td>\n",
       "      <td>0.007561</td>\n",
       "      <td>0.003991</td>\n",
       "      <td>0.010837</td>\n",
       "      <td>1.000000</td>\n",
       "      <td>0.004566</td>\n",
       "      <td>0.005200</td>\n",
       "      <td>0.004641</td>\n",
       "      <td>0.009688</td>\n",
       "      <td>0.009960</td>\n",
       "      <td>...</td>\n",
       "      <td>0.008574</td>\n",
       "      <td>NaN</td>\n",
       "      <td>0.012842</td>\n",
       "      <td>0.004375</td>\n",
       "      <td>0.010790</td>\n",
       "      <td>0.012612</td>\n",
       "      <td>0.004100</td>\n",
       "      <td>-0.001673</td>\n",
       "      <td>-0.001908</td>\n",
       "      <td>NaN</td>\n",
       "    </tr>\n",
       "    <tr>\n",
       "      <th>Batch Enrolled</th>\n",
       "      <td>0.003232</td>\n",
       "      <td>0.002774</td>\n",
       "      <td>0.003445</td>\n",
       "      <td>-0.001192</td>\n",
       "      <td>0.004566</td>\n",
       "      <td>1.000000</td>\n",
       "      <td>-0.002686</td>\n",
       "      <td>-0.000046</td>\n",
       "      <td>-0.003147</td>\n",
       "      <td>-0.005339</td>\n",
       "      <td>...</td>\n",
       "      <td>-0.005153</td>\n",
       "      <td>NaN</td>\n",
       "      <td>-0.002441</td>\n",
       "      <td>-0.007699</td>\n",
       "      <td>-0.002005</td>\n",
       "      <td>0.006694</td>\n",
       "      <td>-0.016463</td>\n",
       "      <td>0.001381</td>\n",
       "      <td>0.005683</td>\n",
       "      <td>NaN</td>\n",
       "    </tr>\n",
       "    <tr>\n",
       "      <th>Interest Rate</th>\n",
       "      <td>0.003852</td>\n",
       "      <td>-0.003646</td>\n",
       "      <td>-0.000165</td>\n",
       "      <td>-0.006965</td>\n",
       "      <td>0.005200</td>\n",
       "      <td>-0.002686</td>\n",
       "      <td>1.000000</td>\n",
       "      <td>-0.000520</td>\n",
       "      <td>0.001056</td>\n",
       "      <td>0.000449</td>\n",
       "      <td>...</td>\n",
       "      <td>-0.012395</td>\n",
       "      <td>NaN</td>\n",
       "      <td>-0.009307</td>\n",
       "      <td>-0.003416</td>\n",
       "      <td>0.009208</td>\n",
       "      <td>0.009416</td>\n",
       "      <td>0.010937</td>\n",
       "      <td>0.001900</td>\n",
       "      <td>0.002535</td>\n",
       "      <td>NaN</td>\n",
       "    </tr>\n",
       "    <tr>\n",
       "      <th>Sub Grade</th>\n",
       "      <td>0.009118</td>\n",
       "      <td>-0.004497</td>\n",
       "      <td>0.001734</td>\n",
       "      <td>-0.004299</td>\n",
       "      <td>0.004641</td>\n",
       "      <td>-0.000046</td>\n",
       "      <td>-0.000520</td>\n",
       "      <td>1.000000</td>\n",
       "      <td>0.001734</td>\n",
       "      <td>-0.004242</td>\n",
       "      <td>...</td>\n",
       "      <td>0.006459</td>\n",
       "      <td>NaN</td>\n",
       "      <td>-0.006124</td>\n",
       "      <td>0.002169</td>\n",
       "      <td>-0.000338</td>\n",
       "      <td>0.019061</td>\n",
       "      <td>-0.001081</td>\n",
       "      <td>0.001899</td>\n",
       "      <td>0.009975</td>\n",
       "      <td>NaN</td>\n",
       "    </tr>\n",
       "    <tr>\n",
       "      <th>Home Ownership</th>\n",
       "      <td>-0.005638</td>\n",
       "      <td>0.014885</td>\n",
       "      <td>-0.006300</td>\n",
       "      <td>-0.004740</td>\n",
       "      <td>0.009688</td>\n",
       "      <td>-0.003147</td>\n",
       "      <td>0.001056</td>\n",
       "      <td>0.001734</td>\n",
       "      <td>1.000000</td>\n",
       "      <td>-0.000777</td>\n",
       "      <td>...</td>\n",
       "      <td>-0.005594</td>\n",
       "      <td>NaN</td>\n",
       "      <td>-0.005745</td>\n",
       "      <td>0.001859</td>\n",
       "      <td>0.000934</td>\n",
       "      <td>0.008316</td>\n",
       "      <td>-0.025303</td>\n",
       "      <td>0.001548</td>\n",
       "      <td>-0.010575</td>\n",
       "      <td>NaN</td>\n",
       "    </tr>\n",
       "    <tr>\n",
       "      <th>Loan Title</th>\n",
       "      <td>-0.000255</td>\n",
       "      <td>-0.003773</td>\n",
       "      <td>-0.000352</td>\n",
       "      <td>-0.002448</td>\n",
       "      <td>0.009960</td>\n",
       "      <td>-0.005339</td>\n",
       "      <td>0.000449</td>\n",
       "      <td>-0.004242</td>\n",
       "      <td>-0.000777</td>\n",
       "      <td>1.000000</td>\n",
       "      <td>...</td>\n",
       "      <td>0.007087</td>\n",
       "      <td>NaN</td>\n",
       "      <td>-0.003909</td>\n",
       "      <td>-0.002363</td>\n",
       "      <td>-0.007875</td>\n",
       "      <td>0.003409</td>\n",
       "      <td>-0.005638</td>\n",
       "      <td>-0.000912</td>\n",
       "      <td>0.006569</td>\n",
       "      <td>NaN</td>\n",
       "    </tr>\n",
       "    <tr>\n",
       "      <th>Debit to Income</th>\n",
       "      <td>-0.009512</td>\n",
       "      <td>0.008491</td>\n",
       "      <td>0.003678</td>\n",
       "      <td>0.001293</td>\n",
       "      <td>0.001500</td>\n",
       "      <td>0.005726</td>\n",
       "      <td>-0.008870</td>\n",
       "      <td>-0.010213</td>\n",
       "      <td>0.023898</td>\n",
       "      <td>0.008297</td>\n",
       "      <td>...</td>\n",
       "      <td>0.009681</td>\n",
       "      <td>NaN</td>\n",
       "      <td>-0.000149</td>\n",
       "      <td>-0.012379</td>\n",
       "      <td>-0.005972</td>\n",
       "      <td>-0.015632</td>\n",
       "      <td>-0.004591</td>\n",
       "      <td>0.008540</td>\n",
       "      <td>-0.011744</td>\n",
       "      <td>NaN</td>\n",
       "    </tr>\n",
       "    <tr>\n",
       "      <th>Delinquency - two years</th>\n",
       "      <td>0.002094</td>\n",
       "      <td>0.000955</td>\n",
       "      <td>0.003493</td>\n",
       "      <td>-0.005897</td>\n",
       "      <td>0.015026</td>\n",
       "      <td>-0.007381</td>\n",
       "      <td>-0.003098</td>\n",
       "      <td>-0.003990</td>\n",
       "      <td>-0.013308</td>\n",
       "      <td>-0.006810</td>\n",
       "      <td>...</td>\n",
       "      <td>0.000451</td>\n",
       "      <td>NaN</td>\n",
       "      <td>-0.011288</td>\n",
       "      <td>-0.004734</td>\n",
       "      <td>-0.005894</td>\n",
       "      <td>-0.004927</td>\n",
       "      <td>-0.020731</td>\n",
       "      <td>0.002042</td>\n",
       "      <td>-0.003495</td>\n",
       "      <td>NaN</td>\n",
       "    </tr>\n",
       "    <tr>\n",
       "      <th>Inquires - six months</th>\n",
       "      <td>-0.011446</td>\n",
       "      <td>0.004429</td>\n",
       "      <td>-0.006251</td>\n",
       "      <td>-0.010520</td>\n",
       "      <td>0.021133</td>\n",
       "      <td>-0.005371</td>\n",
       "      <td>-0.001553</td>\n",
       "      <td>-0.008504</td>\n",
       "      <td>-0.009359</td>\n",
       "      <td>-0.009758</td>\n",
       "      <td>...</td>\n",
       "      <td>-0.004745</td>\n",
       "      <td>NaN</td>\n",
       "      <td>-0.017904</td>\n",
       "      <td>-0.005209</td>\n",
       "      <td>-0.016428</td>\n",
       "      <td>-0.011277</td>\n",
       "      <td>-0.014353</td>\n",
       "      <td>-0.005712</td>\n",
       "      <td>0.004504</td>\n",
       "      <td>NaN</td>\n",
       "    </tr>\n",
       "    <tr>\n",
       "      <th>Open Account</th>\n",
       "      <td>-0.004110</td>\n",
       "      <td>0.006735</td>\n",
       "      <td>0.004264</td>\n",
       "      <td>-0.010025</td>\n",
       "      <td>0.022084</td>\n",
       "      <td>0.004400</td>\n",
       "      <td>-0.005501</td>\n",
       "      <td>-0.011687</td>\n",
       "      <td>0.003292</td>\n",
       "      <td>-0.002761</td>\n",
       "      <td>...</td>\n",
       "      <td>-0.016768</td>\n",
       "      <td>NaN</td>\n",
       "      <td>-0.018741</td>\n",
       "      <td>-0.007242</td>\n",
       "      <td>-0.001884</td>\n",
       "      <td>-0.031098</td>\n",
       "      <td>-0.019807</td>\n",
       "      <td>0.000783</td>\n",
       "      <td>0.007619</td>\n",
       "      <td>NaN</td>\n",
       "    </tr>\n",
       "    <tr>\n",
       "      <th>Public Record</th>\n",
       "      <td>0.003140</td>\n",
       "      <td>-0.005727</td>\n",
       "      <td>-0.000055</td>\n",
       "      <td>-0.006918</td>\n",
       "      <td>0.018495</td>\n",
       "      <td>-0.001887</td>\n",
       "      <td>0.000226</td>\n",
       "      <td>0.000143</td>\n",
       "      <td>-0.008181</td>\n",
       "      <td>-0.001377</td>\n",
       "      <td>...</td>\n",
       "      <td>-0.002772</td>\n",
       "      <td>NaN</td>\n",
       "      <td>-0.012363</td>\n",
       "      <td>-0.004471</td>\n",
       "      <td>-0.001698</td>\n",
       "      <td>0.006970</td>\n",
       "      <td>-0.008762</td>\n",
       "      <td>0.000838</td>\n",
       "      <td>0.009997</td>\n",
       "      <td>NaN</td>\n",
       "    </tr>\n",
       "    <tr>\n",
       "      <th>Revolving Balance</th>\n",
       "      <td>0.002704</td>\n",
       "      <td>-0.003954</td>\n",
       "      <td>-0.010182</td>\n",
       "      <td>-0.018716</td>\n",
       "      <td>0.016808</td>\n",
       "      <td>-0.001713</td>\n",
       "      <td>0.011559</td>\n",
       "      <td>-0.004595</td>\n",
       "      <td>0.009028</td>\n",
       "      <td>-0.007642</td>\n",
       "      <td>...</td>\n",
       "      <td>-0.015215</td>\n",
       "      <td>NaN</td>\n",
       "      <td>-0.009836</td>\n",
       "      <td>-0.016173</td>\n",
       "      <td>0.012347</td>\n",
       "      <td>0.015042</td>\n",
       "      <td>-0.010370</td>\n",
       "      <td>-0.002600</td>\n",
       "      <td>0.014278</td>\n",
       "      <td>NaN</td>\n",
       "    </tr>\n",
       "    <tr>\n",
       "      <th>Revolving Utilities</th>\n",
       "      <td>0.000317</td>\n",
       "      <td>0.015662</td>\n",
       "      <td>0.006243</td>\n",
       "      <td>-0.005339</td>\n",
       "      <td>-0.001599</td>\n",
       "      <td>0.001727</td>\n",
       "      <td>0.001222</td>\n",
       "      <td>-0.008098</td>\n",
       "      <td>-0.007487</td>\n",
       "      <td>-0.002614</td>\n",
       "      <td>...</td>\n",
       "      <td>0.007792</td>\n",
       "      <td>NaN</td>\n",
       "      <td>0.005827</td>\n",
       "      <td>-0.020455</td>\n",
       "      <td>-0.013303</td>\n",
       "      <td>-0.032303</td>\n",
       "      <td>-0.013447</td>\n",
       "      <td>-0.004878</td>\n",
       "      <td>0.001910</td>\n",
       "      <td>NaN</td>\n",
       "    </tr>\n",
       "    <tr>\n",
       "      <th>Total Accounts</th>\n",
       "      <td>0.002677</td>\n",
       "      <td>-0.001488</td>\n",
       "      <td>0.009163</td>\n",
       "      <td>0.000862</td>\n",
       "      <td>0.007607</td>\n",
       "      <td>0.005867</td>\n",
       "      <td>0.005391</td>\n",
       "      <td>-0.001379</td>\n",
       "      <td>0.019903</td>\n",
       "      <td>-0.006161</td>\n",
       "      <td>...</td>\n",
       "      <td>0.013070</td>\n",
       "      <td>NaN</td>\n",
       "      <td>-0.003497</td>\n",
       "      <td>-0.008164</td>\n",
       "      <td>0.031291</td>\n",
       "      <td>-0.008816</td>\n",
       "      <td>0.008535</td>\n",
       "      <td>0.002017</td>\n",
       "      <td>-0.011715</td>\n",
       "      <td>NaN</td>\n",
       "    </tr>\n",
       "    <tr>\n",
       "      <th>Initial List Status</th>\n",
       "      <td>0.003721</td>\n",
       "      <td>0.002636</td>\n",
       "      <td>-0.005243</td>\n",
       "      <td>0.009010</td>\n",
       "      <td>-0.000717</td>\n",
       "      <td>0.014554</td>\n",
       "      <td>0.004132</td>\n",
       "      <td>-0.003767</td>\n",
       "      <td>0.022547</td>\n",
       "      <td>-0.007093</td>\n",
       "      <td>...</td>\n",
       "      <td>-0.010039</td>\n",
       "      <td>NaN</td>\n",
       "      <td>-0.000267</td>\n",
       "      <td>-0.021758</td>\n",
       "      <td>-0.016056</td>\n",
       "      <td>-0.052314</td>\n",
       "      <td>-0.092259</td>\n",
       "      <td>-0.008445</td>\n",
       "      <td>-0.025925</td>\n",
       "      <td>NaN</td>\n",
       "    </tr>\n",
       "    <tr>\n",
       "      <th>Total Received Interest</th>\n",
       "      <td>-0.007078</td>\n",
       "      <td>-0.004143</td>\n",
       "      <td>-0.000614</td>\n",
       "      <td>-0.008078</td>\n",
       "      <td>0.011665</td>\n",
       "      <td>-0.003108</td>\n",
       "      <td>0.000151</td>\n",
       "      <td>-0.004470</td>\n",
       "      <td>-0.017643</td>\n",
       "      <td>-0.009322</td>\n",
       "      <td>...</td>\n",
       "      <td>-0.005454</td>\n",
       "      <td>NaN</td>\n",
       "      <td>-0.009451</td>\n",
       "      <td>-0.001979</td>\n",
       "      <td>0.002698</td>\n",
       "      <td>0.006423</td>\n",
       "      <td>-0.003266</td>\n",
       "      <td>0.004440</td>\n",
       "      <td>0.000024</td>\n",
       "      <td>NaN</td>\n",
       "    </tr>\n",
       "    <tr>\n",
       "      <th>Total Received Late Fee</th>\n",
       "      <td>0.009433</td>\n",
       "      <td>-0.001635</td>\n",
       "      <td>-0.001410</td>\n",
       "      <td>-0.008143</td>\n",
       "      <td>0.016265</td>\n",
       "      <td>0.002157</td>\n",
       "      <td>0.001043</td>\n",
       "      <td>-0.001041</td>\n",
       "      <td>-0.009829</td>\n",
       "      <td>-0.000984</td>\n",
       "      <td>...</td>\n",
       "      <td>-0.002460</td>\n",
       "      <td>NaN</td>\n",
       "      <td>-0.013217</td>\n",
       "      <td>-0.001705</td>\n",
       "      <td>-0.008835</td>\n",
       "      <td>-0.003981</td>\n",
       "      <td>-0.014102</td>\n",
       "      <td>-0.002116</td>\n",
       "      <td>0.006905</td>\n",
       "      <td>NaN</td>\n",
       "    </tr>\n",
       "    <tr>\n",
       "      <th>Recoveries</th>\n",
       "      <td>-0.009031</td>\n",
       "      <td>0.000042</td>\n",
       "      <td>-0.001707</td>\n",
       "      <td>-0.002503</td>\n",
       "      <td>0.010083</td>\n",
       "      <td>-0.001908</td>\n",
       "      <td>0.002251</td>\n",
       "      <td>-0.014682</td>\n",
       "      <td>-0.007563</td>\n",
       "      <td>-0.007432</td>\n",
       "      <td>...</td>\n",
       "      <td>-0.004294</td>\n",
       "      <td>NaN</td>\n",
       "      <td>-0.005322</td>\n",
       "      <td>-0.007361</td>\n",
       "      <td>-0.017365</td>\n",
       "      <td>0.004913</td>\n",
       "      <td>-0.010386</td>\n",
       "      <td>-0.000191</td>\n",
       "      <td>0.005955</td>\n",
       "      <td>NaN</td>\n",
       "    </tr>\n",
       "    <tr>\n",
       "      <th>Collection Recovery Fee</th>\n",
       "      <td>-0.005222</td>\n",
       "      <td>-0.008012</td>\n",
       "      <td>-0.001477</td>\n",
       "      <td>-0.010434</td>\n",
       "      <td>0.010287</td>\n",
       "      <td>0.000237</td>\n",
       "      <td>-0.007736</td>\n",
       "      <td>-0.007113</td>\n",
       "      <td>-0.006911</td>\n",
       "      <td>-0.006174</td>\n",
       "      <td>...</td>\n",
       "      <td>-0.000116</td>\n",
       "      <td>NaN</td>\n",
       "      <td>-0.008252</td>\n",
       "      <td>-0.012145</td>\n",
       "      <td>0.002058</td>\n",
       "      <td>0.002407</td>\n",
       "      <td>0.007023</td>\n",
       "      <td>-0.005901</td>\n",
       "      <td>0.009991</td>\n",
       "      <td>NaN</td>\n",
       "    </tr>\n",
       "    <tr>\n",
       "      <th>Collection 12 months Medical</th>\n",
       "      <td>-0.008547</td>\n",
       "      <td>-0.001044</td>\n",
       "      <td>-0.005724</td>\n",
       "      <td>-0.005918</td>\n",
       "      <td>0.012850</td>\n",
       "      <td>-0.009166</td>\n",
       "      <td>-0.009810</td>\n",
       "      <td>0.002114</td>\n",
       "      <td>-0.014844</td>\n",
       "      <td>0.004759</td>\n",
       "      <td>...</td>\n",
       "      <td>0.003247</td>\n",
       "      <td>NaN</td>\n",
       "      <td>-0.010596</td>\n",
       "      <td>-0.006576</td>\n",
       "      <td>-0.013787</td>\n",
       "      <td>-0.008377</td>\n",
       "      <td>-0.006282</td>\n",
       "      <td>-0.003689</td>\n",
       "      <td>0.010303</td>\n",
       "      <td>NaN</td>\n",
       "    </tr>\n",
       "    <tr>\n",
       "      <th>Last week Pay</th>\n",
       "      <td>0.003796</td>\n",
       "      <td>-0.000448</td>\n",
       "      <td>-0.003404</td>\n",
       "      <td>-0.001566</td>\n",
       "      <td>0.008574</td>\n",
       "      <td>-0.005153</td>\n",
       "      <td>-0.012395</td>\n",
       "      <td>0.006459</td>\n",
       "      <td>-0.005594</td>\n",
       "      <td>0.007087</td>\n",
       "      <td>...</td>\n",
       "      <td>1.000000</td>\n",
       "      <td>NaN</td>\n",
       "      <td>0.001743</td>\n",
       "      <td>-0.001107</td>\n",
       "      <td>-0.005945</td>\n",
       "      <td>0.002801</td>\n",
       "      <td>0.017815</td>\n",
       "      <td>-0.001129</td>\n",
       "      <td>-0.008984</td>\n",
       "      <td>NaN</td>\n",
       "    </tr>\n",
       "    <tr>\n",
       "      <th>Accounts Delinquent</th>\n",
       "      <td>NaN</td>\n",
       "      <td>NaN</td>\n",
       "      <td>NaN</td>\n",
       "      <td>NaN</td>\n",
       "      <td>NaN</td>\n",
       "      <td>NaN</td>\n",
       "      <td>NaN</td>\n",
       "      <td>NaN</td>\n",
       "      <td>NaN</td>\n",
       "      <td>NaN</td>\n",
       "      <td>...</td>\n",
       "      <td>NaN</td>\n",
       "      <td>NaN</td>\n",
       "      <td>NaN</td>\n",
       "      <td>NaN</td>\n",
       "      <td>NaN</td>\n",
       "      <td>NaN</td>\n",
       "      <td>NaN</td>\n",
       "      <td>NaN</td>\n",
       "      <td>NaN</td>\n",
       "      <td>NaN</td>\n",
       "    </tr>\n",
       "    <tr>\n",
       "      <th>Total Collection Amount</th>\n",
       "      <td>-0.006096</td>\n",
       "      <td>-0.005853</td>\n",
       "      <td>-0.007570</td>\n",
       "      <td>-0.013128</td>\n",
       "      <td>0.012842</td>\n",
       "      <td>-0.002441</td>\n",
       "      <td>-0.009307</td>\n",
       "      <td>-0.006124</td>\n",
       "      <td>-0.005745</td>\n",
       "      <td>-0.003909</td>\n",
       "      <td>...</td>\n",
       "      <td>0.001743</td>\n",
       "      <td>NaN</td>\n",
       "      <td>1.000000</td>\n",
       "      <td>-0.006411</td>\n",
       "      <td>-0.008459</td>\n",
       "      <td>-0.000492</td>\n",
       "      <td>-0.015188</td>\n",
       "      <td>-0.003325</td>\n",
       "      <td>0.009055</td>\n",
       "      <td>NaN</td>\n",
       "    </tr>\n",
       "    <tr>\n",
       "      <th>Total Current Balance</th>\n",
       "      <td>-0.005282</td>\n",
       "      <td>-0.007103</td>\n",
       "      <td>-0.004601</td>\n",
       "      <td>-0.002577</td>\n",
       "      <td>0.004375</td>\n",
       "      <td>-0.007699</td>\n",
       "      <td>-0.003416</td>\n",
       "      <td>0.002169</td>\n",
       "      <td>0.001859</td>\n",
       "      <td>-0.002363</td>\n",
       "      <td>...</td>\n",
       "      <td>-0.001107</td>\n",
       "      <td>NaN</td>\n",
       "      <td>-0.006411</td>\n",
       "      <td>1.000000</td>\n",
       "      <td>0.001667</td>\n",
       "      <td>0.024810</td>\n",
       "      <td>0.032929</td>\n",
       "      <td>-0.006531</td>\n",
       "      <td>0.015715</td>\n",
       "      <td>NaN</td>\n",
       "    </tr>\n",
       "    <tr>\n",
       "      <th>Total Revolving Credit Limit</th>\n",
       "      <td>-0.004371</td>\n",
       "      <td>0.003160</td>\n",
       "      <td>0.003905</td>\n",
       "      <td>-0.002613</td>\n",
       "      <td>0.010790</td>\n",
       "      <td>-0.002005</td>\n",
       "      <td>0.009208</td>\n",
       "      <td>-0.000338</td>\n",
       "      <td>0.000934</td>\n",
       "      <td>-0.007875</td>\n",
       "      <td>...</td>\n",
       "      <td>-0.005945</td>\n",
       "      <td>NaN</td>\n",
       "      <td>-0.008459</td>\n",
       "      <td>0.001667</td>\n",
       "      <td>1.000000</td>\n",
       "      <td>0.018708</td>\n",
       "      <td>-0.004039</td>\n",
       "      <td>-0.001539</td>\n",
       "      <td>-0.000212</td>\n",
       "      <td>NaN</td>\n",
       "    </tr>\n",
       "    <tr>\n",
       "      <th>Grade_mean_labels</th>\n",
       "      <td>-0.002963</td>\n",
       "      <td>-0.029361</td>\n",
       "      <td>-0.006204</td>\n",
       "      <td>0.003038</td>\n",
       "      <td>0.012612</td>\n",
       "      <td>0.006694</td>\n",
       "      <td>0.009416</td>\n",
       "      <td>0.019061</td>\n",
       "      <td>0.008316</td>\n",
       "      <td>0.003409</td>\n",
       "      <td>...</td>\n",
       "      <td>0.002801</td>\n",
       "      <td>NaN</td>\n",
       "      <td>-0.000492</td>\n",
       "      <td>0.024810</td>\n",
       "      <td>0.018708</td>\n",
       "      <td>1.000000</td>\n",
       "      <td>0.072264</td>\n",
       "      <td>-0.011518</td>\n",
       "      <td>0.032254</td>\n",
       "      <td>NaN</td>\n",
       "    </tr>\n",
       "    <tr>\n",
       "      <th>Employment Duration_ordinal_labels</th>\n",
       "      <td>0.000283</td>\n",
       "      <td>-0.027753</td>\n",
       "      <td>0.010956</td>\n",
       "      <td>-0.015944</td>\n",
       "      <td>0.004100</td>\n",
       "      <td>-0.016463</td>\n",
       "      <td>0.010937</td>\n",
       "      <td>-0.001081</td>\n",
       "      <td>-0.025303</td>\n",
       "      <td>-0.005638</td>\n",
       "      <td>...</td>\n",
       "      <td>0.017815</td>\n",
       "      <td>NaN</td>\n",
       "      <td>-0.015188</td>\n",
       "      <td>0.032929</td>\n",
       "      <td>-0.004039</td>\n",
       "      <td>0.072264</td>\n",
       "      <td>1.000000</td>\n",
       "      <td>-0.000713</td>\n",
       "      <td>0.020291</td>\n",
       "      <td>NaN</td>\n",
       "    </tr>\n",
       "    <tr>\n",
       "      <th>Application Type_mean_labels</th>\n",
       "      <td>-0.001080</td>\n",
       "      <td>-0.006492</td>\n",
       "      <td>-0.005018</td>\n",
       "      <td>-0.002064</td>\n",
       "      <td>-0.001673</td>\n",
       "      <td>0.001381</td>\n",
       "      <td>0.001900</td>\n",
       "      <td>0.001899</td>\n",
       "      <td>0.001548</td>\n",
       "      <td>-0.000912</td>\n",
       "      <td>...</td>\n",
       "      <td>-0.001129</td>\n",
       "      <td>NaN</td>\n",
       "      <td>-0.003325</td>\n",
       "      <td>-0.006531</td>\n",
       "      <td>-0.001539</td>\n",
       "      <td>-0.011518</td>\n",
       "      <td>-0.000713</td>\n",
       "      <td>1.000000</td>\n",
       "      <td>0.002993</td>\n",
       "      <td>NaN</td>\n",
       "    </tr>\n",
       "    <tr>\n",
       "      <th>Verification Status_mean_labels</th>\n",
       "      <td>0.008893</td>\n",
       "      <td>-0.018001</td>\n",
       "      <td>-0.003758</td>\n",
       "      <td>-0.005343</td>\n",
       "      <td>-0.001908</td>\n",
       "      <td>0.005683</td>\n",
       "      <td>0.002535</td>\n",
       "      <td>0.009975</td>\n",
       "      <td>-0.010575</td>\n",
       "      <td>0.006569</td>\n",
       "      <td>...</td>\n",
       "      <td>-0.008984</td>\n",
       "      <td>NaN</td>\n",
       "      <td>0.009055</td>\n",
       "      <td>0.015715</td>\n",
       "      <td>-0.000212</td>\n",
       "      <td>0.032254</td>\n",
       "      <td>0.020291</td>\n",
       "      <td>0.002993</td>\n",
       "      <td>1.000000</td>\n",
       "      <td>NaN</td>\n",
       "    </tr>\n",
       "    <tr>\n",
       "      <th>Payment Plan_mean_labels</th>\n",
       "      <td>NaN</td>\n",
       "      <td>NaN</td>\n",
       "      <td>NaN</td>\n",
       "      <td>NaN</td>\n",
       "      <td>NaN</td>\n",
       "      <td>NaN</td>\n",
       "      <td>NaN</td>\n",
       "      <td>NaN</td>\n",
       "      <td>NaN</td>\n",
       "      <td>NaN</td>\n",
       "      <td>...</td>\n",
       "      <td>NaN</td>\n",
       "      <td>NaN</td>\n",
       "      <td>NaN</td>\n",
       "      <td>NaN</td>\n",
       "      <td>NaN</td>\n",
       "      <td>NaN</td>\n",
       "      <td>NaN</td>\n",
       "      <td>NaN</td>\n",
       "      <td>NaN</td>\n",
       "      <td>NaN</td>\n",
       "    </tr>\n",
       "  </tbody>\n",
       "</table>\n",
       "<p>34 rows × 34 columns</p>\n",
       "</div>"
      ],
      "text/plain": [
       "                                          ID  Loan Amount  Funded Amount  \\\n",
       "ID                                  1.000000    -0.000948      -0.006969   \n",
       "Loan Amount                        -0.000948     1.000000      -0.003853   \n",
       "Funded Amount                      -0.006969    -0.003853       1.000000   \n",
       "Funded Amount Investor              0.001428     0.002887       0.007926   \n",
       "Term                                0.009144     0.007561       0.003991   \n",
       "Batch Enrolled                      0.003232     0.002774       0.003445   \n",
       "Interest Rate                       0.003852    -0.003646      -0.000165   \n",
       "Sub Grade                           0.009118    -0.004497       0.001734   \n",
       "Home Ownership                     -0.005638     0.014885      -0.006300   \n",
       "Loan Title                         -0.000255    -0.003773      -0.000352   \n",
       "Debit to Income                    -0.009512     0.008491       0.003678   \n",
       "Delinquency - two years             0.002094     0.000955       0.003493   \n",
       "Inquires - six months              -0.011446     0.004429      -0.006251   \n",
       "Open Account                       -0.004110     0.006735       0.004264   \n",
       "Public Record                       0.003140    -0.005727      -0.000055   \n",
       "Revolving Balance                   0.002704    -0.003954      -0.010182   \n",
       "Revolving Utilities                 0.000317     0.015662       0.006243   \n",
       "Total Accounts                      0.002677    -0.001488       0.009163   \n",
       "Initial List Status                 0.003721     0.002636      -0.005243   \n",
       "Total Received Interest            -0.007078    -0.004143      -0.000614   \n",
       "Total Received Late Fee             0.009433    -0.001635      -0.001410   \n",
       "Recoveries                         -0.009031     0.000042      -0.001707   \n",
       "Collection Recovery Fee            -0.005222    -0.008012      -0.001477   \n",
       "Collection 12 months Medical       -0.008547    -0.001044      -0.005724   \n",
       "Last week Pay                       0.003796    -0.000448      -0.003404   \n",
       "Accounts Delinquent                      NaN          NaN            NaN   \n",
       "Total Collection Amount            -0.006096    -0.005853      -0.007570   \n",
       "Total Current Balance              -0.005282    -0.007103      -0.004601   \n",
       "Total Revolving Credit Limit       -0.004371     0.003160       0.003905   \n",
       "Grade_mean_labels                  -0.002963    -0.029361      -0.006204   \n",
       "Employment Duration_ordinal_labels  0.000283    -0.027753       0.010956   \n",
       "Application Type_mean_labels       -0.001080    -0.006492      -0.005018   \n",
       "Verification Status_mean_labels     0.008893    -0.018001      -0.003758   \n",
       "Payment Plan_mean_labels                 NaN          NaN            NaN   \n",
       "\n",
       "                                    Funded Amount Investor      Term  \\\n",
       "ID                                                0.001428  0.009144   \n",
       "Loan Amount                                       0.002887  0.007561   \n",
       "Funded Amount                                     0.007926  0.003991   \n",
       "Funded Amount Investor                            1.000000  0.010837   \n",
       "Term                                              0.010837  1.000000   \n",
       "Batch Enrolled                                   -0.001192  0.004566   \n",
       "Interest Rate                                    -0.006965  0.005200   \n",
       "Sub Grade                                        -0.004299  0.004641   \n",
       "Home Ownership                                   -0.004740  0.009688   \n",
       "Loan Title                                       -0.002448  0.009960   \n",
       "Debit to Income                                   0.001293  0.001500   \n",
       "Delinquency - two years                          -0.005897  0.015026   \n",
       "Inquires - six months                            -0.010520  0.021133   \n",
       "Open Account                                     -0.010025  0.022084   \n",
       "Public Record                                    -0.006918  0.018495   \n",
       "Revolving Balance                                -0.018716  0.016808   \n",
       "Revolving Utilities                              -0.005339 -0.001599   \n",
       "Total Accounts                                    0.000862  0.007607   \n",
       "Initial List Status                               0.009010 -0.000717   \n",
       "Total Received Interest                          -0.008078  0.011665   \n",
       "Total Received Late Fee                          -0.008143  0.016265   \n",
       "Recoveries                                       -0.002503  0.010083   \n",
       "Collection Recovery Fee                          -0.010434  0.010287   \n",
       "Collection 12 months Medical                     -0.005918  0.012850   \n",
       "Last week Pay                                    -0.001566  0.008574   \n",
       "Accounts Delinquent                                    NaN       NaN   \n",
       "Total Collection Amount                          -0.013128  0.012842   \n",
       "Total Current Balance                            -0.002577  0.004375   \n",
       "Total Revolving Credit Limit                     -0.002613  0.010790   \n",
       "Grade_mean_labels                                 0.003038  0.012612   \n",
       "Employment Duration_ordinal_labels               -0.015944  0.004100   \n",
       "Application Type_mean_labels                     -0.002064 -0.001673   \n",
       "Verification Status_mean_labels                  -0.005343 -0.001908   \n",
       "Payment Plan_mean_labels                               NaN       NaN   \n",
       "\n",
       "                                    Batch Enrolled  Interest Rate  Sub Grade  \\\n",
       "ID                                        0.003232       0.003852   0.009118   \n",
       "Loan Amount                               0.002774      -0.003646  -0.004497   \n",
       "Funded Amount                             0.003445      -0.000165   0.001734   \n",
       "Funded Amount Investor                   -0.001192      -0.006965  -0.004299   \n",
       "Term                                      0.004566       0.005200   0.004641   \n",
       "Batch Enrolled                            1.000000      -0.002686  -0.000046   \n",
       "Interest Rate                            -0.002686       1.000000  -0.000520   \n",
       "Sub Grade                                -0.000046      -0.000520   1.000000   \n",
       "Home Ownership                           -0.003147       0.001056   0.001734   \n",
       "Loan Title                               -0.005339       0.000449  -0.004242   \n",
       "Debit to Income                           0.005726      -0.008870  -0.010213   \n",
       "Delinquency - two years                  -0.007381      -0.003098  -0.003990   \n",
       "Inquires - six months                    -0.005371      -0.001553  -0.008504   \n",
       "Open Account                              0.004400      -0.005501  -0.011687   \n",
       "Public Record                            -0.001887       0.000226   0.000143   \n",
       "Revolving Balance                        -0.001713       0.011559  -0.004595   \n",
       "Revolving Utilities                       0.001727       0.001222  -0.008098   \n",
       "Total Accounts                            0.005867       0.005391  -0.001379   \n",
       "Initial List Status                       0.014554       0.004132  -0.003767   \n",
       "Total Received Interest                  -0.003108       0.000151  -0.004470   \n",
       "Total Received Late Fee                   0.002157       0.001043  -0.001041   \n",
       "Recoveries                               -0.001908       0.002251  -0.014682   \n",
       "Collection Recovery Fee                   0.000237      -0.007736  -0.007113   \n",
       "Collection 12 months Medical             -0.009166      -0.009810   0.002114   \n",
       "Last week Pay                            -0.005153      -0.012395   0.006459   \n",
       "Accounts Delinquent                            NaN            NaN        NaN   \n",
       "Total Collection Amount                  -0.002441      -0.009307  -0.006124   \n",
       "Total Current Balance                    -0.007699      -0.003416   0.002169   \n",
       "Total Revolving Credit Limit             -0.002005       0.009208  -0.000338   \n",
       "Grade_mean_labels                         0.006694       0.009416   0.019061   \n",
       "Employment Duration_ordinal_labels       -0.016463       0.010937  -0.001081   \n",
       "Application Type_mean_labels              0.001381       0.001900   0.001899   \n",
       "Verification Status_mean_labels           0.005683       0.002535   0.009975   \n",
       "Payment Plan_mean_labels                       NaN            NaN        NaN   \n",
       "\n",
       "                                    Home Ownership  Loan Title  ...  \\\n",
       "ID                                       -0.005638   -0.000255  ...   \n",
       "Loan Amount                               0.014885   -0.003773  ...   \n",
       "Funded Amount                            -0.006300   -0.000352  ...   \n",
       "Funded Amount Investor                   -0.004740   -0.002448  ...   \n",
       "Term                                      0.009688    0.009960  ...   \n",
       "Batch Enrolled                           -0.003147   -0.005339  ...   \n",
       "Interest Rate                             0.001056    0.000449  ...   \n",
       "Sub Grade                                 0.001734   -0.004242  ...   \n",
       "Home Ownership                            1.000000   -0.000777  ...   \n",
       "Loan Title                               -0.000777    1.000000  ...   \n",
       "Debit to Income                           0.023898    0.008297  ...   \n",
       "Delinquency - two years                  -0.013308   -0.006810  ...   \n",
       "Inquires - six months                    -0.009359   -0.009758  ...   \n",
       "Open Account                              0.003292   -0.002761  ...   \n",
       "Public Record                            -0.008181   -0.001377  ...   \n",
       "Revolving Balance                         0.009028   -0.007642  ...   \n",
       "Revolving Utilities                      -0.007487   -0.002614  ...   \n",
       "Total Accounts                            0.019903   -0.006161  ...   \n",
       "Initial List Status                       0.022547   -0.007093  ...   \n",
       "Total Received Interest                  -0.017643   -0.009322  ...   \n",
       "Total Received Late Fee                  -0.009829   -0.000984  ...   \n",
       "Recoveries                               -0.007563   -0.007432  ...   \n",
       "Collection Recovery Fee                  -0.006911   -0.006174  ...   \n",
       "Collection 12 months Medical             -0.014844    0.004759  ...   \n",
       "Last week Pay                            -0.005594    0.007087  ...   \n",
       "Accounts Delinquent                            NaN         NaN  ...   \n",
       "Total Collection Amount                  -0.005745   -0.003909  ...   \n",
       "Total Current Balance                     0.001859   -0.002363  ...   \n",
       "Total Revolving Credit Limit              0.000934   -0.007875  ...   \n",
       "Grade_mean_labels                         0.008316    0.003409  ...   \n",
       "Employment Duration_ordinal_labels       -0.025303   -0.005638  ...   \n",
       "Application Type_mean_labels              0.001548   -0.000912  ...   \n",
       "Verification Status_mean_labels          -0.010575    0.006569  ...   \n",
       "Payment Plan_mean_labels                       NaN         NaN  ...   \n",
       "\n",
       "                                    Last week Pay  Accounts Delinquent  \\\n",
       "ID                                       0.003796                  NaN   \n",
       "Loan Amount                             -0.000448                  NaN   \n",
       "Funded Amount                           -0.003404                  NaN   \n",
       "Funded Amount Investor                  -0.001566                  NaN   \n",
       "Term                                     0.008574                  NaN   \n",
       "Batch Enrolled                          -0.005153                  NaN   \n",
       "Interest Rate                           -0.012395                  NaN   \n",
       "Sub Grade                                0.006459                  NaN   \n",
       "Home Ownership                          -0.005594                  NaN   \n",
       "Loan Title                               0.007087                  NaN   \n",
       "Debit to Income                          0.009681                  NaN   \n",
       "Delinquency - two years                  0.000451                  NaN   \n",
       "Inquires - six months                   -0.004745                  NaN   \n",
       "Open Account                            -0.016768                  NaN   \n",
       "Public Record                           -0.002772                  NaN   \n",
       "Revolving Balance                       -0.015215                  NaN   \n",
       "Revolving Utilities                      0.007792                  NaN   \n",
       "Total Accounts                           0.013070                  NaN   \n",
       "Initial List Status                     -0.010039                  NaN   \n",
       "Total Received Interest                 -0.005454                  NaN   \n",
       "Total Received Late Fee                 -0.002460                  NaN   \n",
       "Recoveries                              -0.004294                  NaN   \n",
       "Collection Recovery Fee                 -0.000116                  NaN   \n",
       "Collection 12 months Medical             0.003247                  NaN   \n",
       "Last week Pay                            1.000000                  NaN   \n",
       "Accounts Delinquent                           NaN                  NaN   \n",
       "Total Collection Amount                  0.001743                  NaN   \n",
       "Total Current Balance                   -0.001107                  NaN   \n",
       "Total Revolving Credit Limit            -0.005945                  NaN   \n",
       "Grade_mean_labels                        0.002801                  NaN   \n",
       "Employment Duration_ordinal_labels       0.017815                  NaN   \n",
       "Application Type_mean_labels            -0.001129                  NaN   \n",
       "Verification Status_mean_labels         -0.008984                  NaN   \n",
       "Payment Plan_mean_labels                      NaN                  NaN   \n",
       "\n",
       "                                    Total Collection Amount  \\\n",
       "ID                                                -0.006096   \n",
       "Loan Amount                                       -0.005853   \n",
       "Funded Amount                                     -0.007570   \n",
       "Funded Amount Investor                            -0.013128   \n",
       "Term                                               0.012842   \n",
       "Batch Enrolled                                    -0.002441   \n",
       "Interest Rate                                     -0.009307   \n",
       "Sub Grade                                         -0.006124   \n",
       "Home Ownership                                    -0.005745   \n",
       "Loan Title                                        -0.003909   \n",
       "Debit to Income                                   -0.000149   \n",
       "Delinquency - two years                           -0.011288   \n",
       "Inquires - six months                             -0.017904   \n",
       "Open Account                                      -0.018741   \n",
       "Public Record                                     -0.012363   \n",
       "Revolving Balance                                 -0.009836   \n",
       "Revolving Utilities                                0.005827   \n",
       "Total Accounts                                    -0.003497   \n",
       "Initial List Status                               -0.000267   \n",
       "Total Received Interest                           -0.009451   \n",
       "Total Received Late Fee                           -0.013217   \n",
       "Recoveries                                        -0.005322   \n",
       "Collection Recovery Fee                           -0.008252   \n",
       "Collection 12 months Medical                      -0.010596   \n",
       "Last week Pay                                      0.001743   \n",
       "Accounts Delinquent                                     NaN   \n",
       "Total Collection Amount                            1.000000   \n",
       "Total Current Balance                             -0.006411   \n",
       "Total Revolving Credit Limit                      -0.008459   \n",
       "Grade_mean_labels                                 -0.000492   \n",
       "Employment Duration_ordinal_labels                -0.015188   \n",
       "Application Type_mean_labels                      -0.003325   \n",
       "Verification Status_mean_labels                    0.009055   \n",
       "Payment Plan_mean_labels                                NaN   \n",
       "\n",
       "                                    Total Current Balance  \\\n",
       "ID                                              -0.005282   \n",
       "Loan Amount                                     -0.007103   \n",
       "Funded Amount                                   -0.004601   \n",
       "Funded Amount Investor                          -0.002577   \n",
       "Term                                             0.004375   \n",
       "Batch Enrolled                                  -0.007699   \n",
       "Interest Rate                                   -0.003416   \n",
       "Sub Grade                                        0.002169   \n",
       "Home Ownership                                   0.001859   \n",
       "Loan Title                                      -0.002363   \n",
       "Debit to Income                                 -0.012379   \n",
       "Delinquency - two years                         -0.004734   \n",
       "Inquires - six months                           -0.005209   \n",
       "Open Account                                    -0.007242   \n",
       "Public Record                                   -0.004471   \n",
       "Revolving Balance                               -0.016173   \n",
       "Revolving Utilities                             -0.020455   \n",
       "Total Accounts                                  -0.008164   \n",
       "Initial List Status                             -0.021758   \n",
       "Total Received Interest                         -0.001979   \n",
       "Total Received Late Fee                         -0.001705   \n",
       "Recoveries                                      -0.007361   \n",
       "Collection Recovery Fee                         -0.012145   \n",
       "Collection 12 months Medical                    -0.006576   \n",
       "Last week Pay                                   -0.001107   \n",
       "Accounts Delinquent                                   NaN   \n",
       "Total Collection Amount                         -0.006411   \n",
       "Total Current Balance                            1.000000   \n",
       "Total Revolving Credit Limit                     0.001667   \n",
       "Grade_mean_labels                                0.024810   \n",
       "Employment Duration_ordinal_labels               0.032929   \n",
       "Application Type_mean_labels                    -0.006531   \n",
       "Verification Status_mean_labels                  0.015715   \n",
       "Payment Plan_mean_labels                              NaN   \n",
       "\n",
       "                                    Total Revolving Credit Limit  \\\n",
       "ID                                                     -0.004371   \n",
       "Loan Amount                                             0.003160   \n",
       "Funded Amount                                           0.003905   \n",
       "Funded Amount Investor                                 -0.002613   \n",
       "Term                                                    0.010790   \n",
       "Batch Enrolled                                         -0.002005   \n",
       "Interest Rate                                           0.009208   \n",
       "Sub Grade                                              -0.000338   \n",
       "Home Ownership                                          0.000934   \n",
       "Loan Title                                             -0.007875   \n",
       "Debit to Income                                        -0.005972   \n",
       "Delinquency - two years                                -0.005894   \n",
       "Inquires - six months                                  -0.016428   \n",
       "Open Account                                           -0.001884   \n",
       "Public Record                                          -0.001698   \n",
       "Revolving Balance                                       0.012347   \n",
       "Revolving Utilities                                    -0.013303   \n",
       "Total Accounts                                          0.031291   \n",
       "Initial List Status                                    -0.016056   \n",
       "Total Received Interest                                 0.002698   \n",
       "Total Received Late Fee                                -0.008835   \n",
       "Recoveries                                             -0.017365   \n",
       "Collection Recovery Fee                                 0.002058   \n",
       "Collection 12 months Medical                           -0.013787   \n",
       "Last week Pay                                          -0.005945   \n",
       "Accounts Delinquent                                          NaN   \n",
       "Total Collection Amount                                -0.008459   \n",
       "Total Current Balance                                   0.001667   \n",
       "Total Revolving Credit Limit                            1.000000   \n",
       "Grade_mean_labels                                       0.018708   \n",
       "Employment Duration_ordinal_labels                     -0.004039   \n",
       "Application Type_mean_labels                           -0.001539   \n",
       "Verification Status_mean_labels                        -0.000212   \n",
       "Payment Plan_mean_labels                                     NaN   \n",
       "\n",
       "                                    Grade_mean_labels  \\\n",
       "ID                                          -0.002963   \n",
       "Loan Amount                                 -0.029361   \n",
       "Funded Amount                               -0.006204   \n",
       "Funded Amount Investor                       0.003038   \n",
       "Term                                         0.012612   \n",
       "Batch Enrolled                               0.006694   \n",
       "Interest Rate                                0.009416   \n",
       "Sub Grade                                    0.019061   \n",
       "Home Ownership                               0.008316   \n",
       "Loan Title                                   0.003409   \n",
       "Debit to Income                             -0.015632   \n",
       "Delinquency - two years                     -0.004927   \n",
       "Inquires - six months                       -0.011277   \n",
       "Open Account                                -0.031098   \n",
       "Public Record                                0.006970   \n",
       "Revolving Balance                            0.015042   \n",
       "Revolving Utilities                         -0.032303   \n",
       "Total Accounts                              -0.008816   \n",
       "Initial List Status                         -0.052314   \n",
       "Total Received Interest                      0.006423   \n",
       "Total Received Late Fee                     -0.003981   \n",
       "Recoveries                                   0.004913   \n",
       "Collection Recovery Fee                      0.002407   \n",
       "Collection 12 months Medical                -0.008377   \n",
       "Last week Pay                                0.002801   \n",
       "Accounts Delinquent                               NaN   \n",
       "Total Collection Amount                     -0.000492   \n",
       "Total Current Balance                        0.024810   \n",
       "Total Revolving Credit Limit                 0.018708   \n",
       "Grade_mean_labels                            1.000000   \n",
       "Employment Duration_ordinal_labels           0.072264   \n",
       "Application Type_mean_labels                -0.011518   \n",
       "Verification Status_mean_labels              0.032254   \n",
       "Payment Plan_mean_labels                          NaN   \n",
       "\n",
       "                                    Employment Duration_ordinal_labels  \\\n",
       "ID                                                            0.000283   \n",
       "Loan Amount                                                  -0.027753   \n",
       "Funded Amount                                                 0.010956   \n",
       "Funded Amount Investor                                       -0.015944   \n",
       "Term                                                          0.004100   \n",
       "Batch Enrolled                                               -0.016463   \n",
       "Interest Rate                                                 0.010937   \n",
       "Sub Grade                                                    -0.001081   \n",
       "Home Ownership                                               -0.025303   \n",
       "Loan Title                                                   -0.005638   \n",
       "Debit to Income                                              -0.004591   \n",
       "Delinquency - two years                                      -0.020731   \n",
       "Inquires - six months                                        -0.014353   \n",
       "Open Account                                                 -0.019807   \n",
       "Public Record                                                -0.008762   \n",
       "Revolving Balance                                            -0.010370   \n",
       "Revolving Utilities                                          -0.013447   \n",
       "Total Accounts                                                0.008535   \n",
       "Initial List Status                                          -0.092259   \n",
       "Total Received Interest                                      -0.003266   \n",
       "Total Received Late Fee                                      -0.014102   \n",
       "Recoveries                                                   -0.010386   \n",
       "Collection Recovery Fee                                       0.007023   \n",
       "Collection 12 months Medical                                 -0.006282   \n",
       "Last week Pay                                                 0.017815   \n",
       "Accounts Delinquent                                                NaN   \n",
       "Total Collection Amount                                      -0.015188   \n",
       "Total Current Balance                                         0.032929   \n",
       "Total Revolving Credit Limit                                 -0.004039   \n",
       "Grade_mean_labels                                             0.072264   \n",
       "Employment Duration_ordinal_labels                            1.000000   \n",
       "Application Type_mean_labels                                 -0.000713   \n",
       "Verification Status_mean_labels                               0.020291   \n",
       "Payment Plan_mean_labels                                           NaN   \n",
       "\n",
       "                                    Application Type_mean_labels  \\\n",
       "ID                                                     -0.001080   \n",
       "Loan Amount                                            -0.006492   \n",
       "Funded Amount                                          -0.005018   \n",
       "Funded Amount Investor                                 -0.002064   \n",
       "Term                                                   -0.001673   \n",
       "Batch Enrolled                                          0.001381   \n",
       "Interest Rate                                           0.001900   \n",
       "Sub Grade                                               0.001899   \n",
       "Home Ownership                                          0.001548   \n",
       "Loan Title                                             -0.000912   \n",
       "Debit to Income                                         0.008540   \n",
       "Delinquency - two years                                 0.002042   \n",
       "Inquires - six months                                  -0.005712   \n",
       "Open Account                                            0.000783   \n",
       "Public Record                                           0.000838   \n",
       "Revolving Balance                                      -0.002600   \n",
       "Revolving Utilities                                    -0.004878   \n",
       "Total Accounts                                          0.002017   \n",
       "Initial List Status                                    -0.008445   \n",
       "Total Received Interest                                 0.004440   \n",
       "Total Received Late Fee                                -0.002116   \n",
       "Recoveries                                             -0.000191   \n",
       "Collection Recovery Fee                                -0.005901   \n",
       "Collection 12 months Medical                           -0.003689   \n",
       "Last week Pay                                          -0.001129   \n",
       "Accounts Delinquent                                          NaN   \n",
       "Total Collection Amount                                -0.003325   \n",
       "Total Current Balance                                  -0.006531   \n",
       "Total Revolving Credit Limit                           -0.001539   \n",
       "Grade_mean_labels                                      -0.011518   \n",
       "Employment Duration_ordinal_labels                     -0.000713   \n",
       "Application Type_mean_labels                            1.000000   \n",
       "Verification Status_mean_labels                         0.002993   \n",
       "Payment Plan_mean_labels                                     NaN   \n",
       "\n",
       "                                    Verification Status_mean_labels  \\\n",
       "ID                                                         0.008893   \n",
       "Loan Amount                                               -0.018001   \n",
       "Funded Amount                                             -0.003758   \n",
       "Funded Amount Investor                                    -0.005343   \n",
       "Term                                                      -0.001908   \n",
       "Batch Enrolled                                             0.005683   \n",
       "Interest Rate                                              0.002535   \n",
       "Sub Grade                                                  0.009975   \n",
       "Home Ownership                                            -0.010575   \n",
       "Loan Title                                                 0.006569   \n",
       "Debit to Income                                           -0.011744   \n",
       "Delinquency - two years                                   -0.003495   \n",
       "Inquires - six months                                      0.004504   \n",
       "Open Account                                               0.007619   \n",
       "Public Record                                              0.009997   \n",
       "Revolving Balance                                          0.014278   \n",
       "Revolving Utilities                                        0.001910   \n",
       "Total Accounts                                            -0.011715   \n",
       "Initial List Status                                       -0.025925   \n",
       "Total Received Interest                                    0.000024   \n",
       "Total Received Late Fee                                    0.006905   \n",
       "Recoveries                                                 0.005955   \n",
       "Collection Recovery Fee                                    0.009991   \n",
       "Collection 12 months Medical                               0.010303   \n",
       "Last week Pay                                             -0.008984   \n",
       "Accounts Delinquent                                             NaN   \n",
       "Total Collection Amount                                    0.009055   \n",
       "Total Current Balance                                      0.015715   \n",
       "Total Revolving Credit Limit                              -0.000212   \n",
       "Grade_mean_labels                                          0.032254   \n",
       "Employment Duration_ordinal_labels                         0.020291   \n",
       "Application Type_mean_labels                               0.002993   \n",
       "Verification Status_mean_labels                            1.000000   \n",
       "Payment Plan_mean_labels                                        NaN   \n",
       "\n",
       "                                    Payment Plan_mean_labels  \n",
       "ID                                                       NaN  \n",
       "Loan Amount                                              NaN  \n",
       "Funded Amount                                            NaN  \n",
       "Funded Amount Investor                                   NaN  \n",
       "Term                                                     NaN  \n",
       "Batch Enrolled                                           NaN  \n",
       "Interest Rate                                            NaN  \n",
       "Sub Grade                                                NaN  \n",
       "Home Ownership                                           NaN  \n",
       "Loan Title                                               NaN  \n",
       "Debit to Income                                          NaN  \n",
       "Delinquency - two years                                  NaN  \n",
       "Inquires - six months                                    NaN  \n",
       "Open Account                                             NaN  \n",
       "Public Record                                            NaN  \n",
       "Revolving Balance                                        NaN  \n",
       "Revolving Utilities                                      NaN  \n",
       "Total Accounts                                           NaN  \n",
       "Initial List Status                                      NaN  \n",
       "Total Received Interest                                  NaN  \n",
       "Total Received Late Fee                                  NaN  \n",
       "Recoveries                                               NaN  \n",
       "Collection Recovery Fee                                  NaN  \n",
       "Collection 12 months Medical                             NaN  \n",
       "Last week Pay                                            NaN  \n",
       "Accounts Delinquent                                      NaN  \n",
       "Total Collection Amount                                  NaN  \n",
       "Total Current Balance                                    NaN  \n",
       "Total Revolving Credit Limit                             NaN  \n",
       "Grade_mean_labels                                        NaN  \n",
       "Employment Duration_ordinal_labels                       NaN  \n",
       "Application Type_mean_labels                             NaN  \n",
       "Verification Status_mean_labels                          NaN  \n",
       "Payment Plan_mean_labels                                 NaN  \n",
       "\n",
       "[34 rows x 34 columns]"
      ]
     },
     "execution_count": 103,
     "metadata": {},
     "output_type": "execute_result"
    }
   ],
   "source": [
    "X_train.corr()"
   ]
  },
  {
   "cell_type": "code",
   "execution_count": 104,
   "metadata": {},
   "outputs": [
    {
     "data": {
      "text/plain": [
       "<AxesSubplot:>"
      ]
     },
     "execution_count": 104,
     "metadata": {},
     "output_type": "execute_result"
    },
    {
     "data": {
      "image/png": "[encoded data removed]",
      "text/plain": [
       "<Figure size 2160x1080 with 2 Axes>"
      ]
     },
     "metadata": {
      "needs_background": "light"
     },
     "output_type": "display_data"
    }
   ],
   "source": [
    "import seaborn as sns\n",
    "corr=X_train.corr()\n",
    "top_features=corr.index\n",
    "plt.figure(figsize=(30,15))\n",
    "sns.heatmap(X_train[top_features].corr(),annot=True)\n"
   ]
  },
  {
   "cell_type": "markdown",
   "metadata": {},
   "source": [
    "### Reduction Of `Multi Collinearity`"
   ]
  },
  {
   "cell_type": "code",
   "execution_count": 105,
   "metadata": {},
   "outputs": [],
   "source": [
    "threshold=0.6"
   ]
  },
  {
   "cell_type": "code",
   "execution_count": 106,
   "metadata": {},
   "outputs": [],
   "source": [
    "# find and remove correlated features\n",
    "def correlation(dataset, threshold):\n",
    "    col_corr = set()  # Set of all the names of correlated columns\n",
    "    corr_matrix = dataset.corr()\n",
    "    for i in range(len(corr_matrix.columns)):\n",
    "        for j in range(i):\n",
    "            if abs(corr_matrix.iloc[i, j]) > threshold: # we are interested in absolute coeff value\n",
    "                colname = corr_matrix.columns[i]  # getting the name of column\n",
    "                col_corr.add(colname)\n",
    "    return col_corr"
   ]
  },
  {
   "cell_type": "code",
   "execution_count": 107,
   "metadata": {},
   "outputs": [
    {
     "data": {
      "text/plain": [
       "set()"
      ]
     },
     "execution_count": 107,
     "metadata": {},
     "output_type": "execute_result"
    }
   ],
   "source": [
    "correlation(X_train,threshold)"
   ]
  },
  {
   "cell_type": "markdown",
   "metadata": {},
   "source": [
    "#### Information Gain"
   ]
  },
  {
   "cell_type": "code",
   "execution_count": 108,
   "metadata": {},
   "outputs": [],
   "source": [
    "from sklearn.feature_selection import mutual_info_classif"
   ]
  },
  {
   "cell_type": "code",
   "execution_count": 109,
   "metadata": {},
   "outputs": [],
   "source": [
    "mutual_info=mutual_info_classif(X_train,y_train)"
   ]
  },
  {
   "cell_type": "code",
   "execution_count": 110,
   "metadata": {},
   "outputs": [
    {
     "data": {
      "text/plain": [
       "Initial List Status                   0.004675\n",
       "Loan Title                            0.002512\n",
       "Collection Recovery Fee               0.002265\n",
       "Employment Duration_ordinal_labels    0.002231\n",
       "Sub Grade                             0.001800\n",
       "Loan Amount                           0.001715\n",
       "Funded Amount Investor                0.001135\n",
       "Public Record                         0.000992\n",
       "Revolving Utilities                   0.000952\n",
       "Total Accounts                        0.000846\n",
       "Recoveries                            0.000752\n",
       "Total Received Interest               0.000585\n",
       "Term                                  0.000557\n",
       "Verification Status_mean_labels       0.000507\n",
       "Accounts Delinquent                   0.000470\n",
       "Batch Enrolled                        0.000343\n",
       "Total Collection Amount               0.000306\n",
       "Inquires - six months                 0.000275\n",
       "Grade_mean_labels                     0.000200\n",
       "Last week Pay                         0.000160\n",
       "Funded Amount                         0.000141\n",
       "Delinquency - two years               0.000079\n",
       "Total Revolving Credit Limit          0.000000\n",
       "Total Current Balance                 0.000000\n",
       "Application Type_mean_labels          0.000000\n",
       "ID                                    0.000000\n",
       "Collection 12 months Medical          0.000000\n",
       "Total Received Late Fee               0.000000\n",
       "Revolving Balance                     0.000000\n",
       "Open Account                          0.000000\n",
       "Debit to Income                       0.000000\n",
       "Home Ownership                        0.000000\n",
       "Interest Rate                         0.000000\n",
       "Payment Plan_mean_labels              0.000000\n",
       "dtype: float64"
      ]
     },
     "execution_count": 110,
     "metadata": {},
     "output_type": "execute_result"
    }
   ],
   "source": [
    "mutual_data=pd.Series(mutual_info,index=X_train.columns)\n",
    "mutual_data.sort_values(ascending=False)"
   ]
  },
  {
   "cell_type": "markdown",
   "metadata": {},
   "source": [
    "From the above Information, <br>\n",
    "We will be `ignorning` the feature variable with No `Information Gain` <br>\n",
    "<br>\n",
    "'Debit to Income','Interest Rate','Grade_mean_labels','Total Revolving Credit Limit','Accounts Delinquent','Application Type_mean_labels','Total Collection Amount','ID','Last week Pay','Collection 12 months Medical','Total Received Late Fee','Public Record','Inquires - six months','Home Ownership','Batch Enrolled','Funded Amount','Payment Plan_mean_labels'\n",
    "<br>"
   ]
  },
  {
   "cell_type": "code",
   "execution_count": 111,
   "metadata": {},
   "outputs": [],
   "source": [
    "X_train = X_train.drop(columns = ['ID','Accounts Delinquent','Total Collection Amount','Grade_mean_labels','Application Type_mean_labels','Total Revolving Credit Limit','Total Accounts','Total Received Late Fee','Public Record','Open Account','Inquires - six months','Delinquency - two years','Debit to Income','Home Ownership','Sub Grade','Interest Rate','Payment Plan_mean_labels'])"
   ]
  },
  {
   "cell_type": "code",
   "execution_count": 112,
   "metadata": {},
   "outputs": [],
   "source": [
    "X_test = X_test.drop(columns = ['ID','Accounts Delinquent','Total Collection Amount','Grade_mean_labels','Application Type_mean_labels','Total Revolving Credit Limit','Total Accounts','Total Received Late Fee','Public Record','Open Account','Inquires - six months','Delinquency - two years','Debit to Income','Home Ownership','Sub Grade','Interest Rate','Payment Plan_mean_labels'])"
   ]
  },
  {
   "cell_type": "markdown",
   "metadata": {},
   "source": [
    "#### Final Dimensions - After Evaluation the Criteria For `Information Gain`"
   ]
  },
  {
   "cell_type": "code",
   "execution_count": 113,
   "metadata": {},
   "outputs": [
    {
     "data": {
      "text/plain": [
       "(60716, 17)"
      ]
     },
     "execution_count": 113,
     "metadata": {},
     "output_type": "execute_result"
    }
   ],
   "source": [
    "X_train.shape"
   ]
  },
  {
   "cell_type": "code",
   "execution_count": 114,
   "metadata": {},
   "outputs": [
    {
     "data": {
      "text/plain": [
       "(28913, 17)"
      ]
     },
     "execution_count": 114,
     "metadata": {},
     "output_type": "execute_result"
    }
   ],
   "source": [
    "X_test.shape"
   ]
  },
  {
   "cell_type": "markdown",
   "metadata": {},
   "source": [
    "### Checking If the Dataset is balanced or not"
   ]
  },
  {
   "cell_type": "code",
   "execution_count": 115,
   "metadata": {},
   "outputs": [
    {
     "data": {
      "text/plain": [
       "0    55169\n",
       "1     5547\n",
       "Name: Loan Status, dtype: int64"
      ]
     },
     "execution_count": 115,
     "metadata": {},
     "output_type": "execute_result"
    }
   ],
   "source": [
    "y_train.value_counts()"
   ]
  },
  {
   "cell_type": "code",
   "execution_count": 116,
   "metadata": {},
   "outputs": [
    {
     "data": {
      "text/plain": [
       "Text(0, 0.5, 'Frequency')"
      ]
     },
     "execution_count": 116,
     "metadata": {},
     "output_type": "execute_result"
    },
    {
     "data": {
      "image/png": "[encoded data removed]",
      "text/plain": [
       "<Figure size 432x288 with 1 Axes>"
      ]
     },
     "metadata": {
      "needs_background": "light"
     },
     "output_type": "display_data"
    }
   ],
   "source": [
    "count_classes = pd.value_counts(loan_train['Loan Status'], sort = True)\n",
    "\n",
    "count_classes.plot(kind = 'bar', rot=0)\n",
    "\n",
    "plt.title(\"Transaction Class Distribution\")\n",
    "\n",
    "#plt.xticks(range(2), LABELS)\n",
    "\n",
    "plt.xlabel(\"y_train\")\n",
    "\n",
    "plt.ylabel(\"Frequency\")"
   ]
  },
  {
   "cell_type": "code",
   "execution_count": 117,
   "metadata": {},
   "outputs": [],
   "source": [
    "from sklearn.tree import DecisionTreeClassifier\n",
    "from sklearn.metrics import precision_score\n",
    "from sklearn.metrics import recall_score\n",
    "from sklearn.metrics import f1_score\n",
    "from sklearn.metrics import accuracy_score\n",
    "from sklearn.metrics import roc_curve, auc, roc_auc_score\n",
    "import matplotlib.pyplot as plt\n",
    "from sklearn.decomposition import PCA\n",
    "from sklearn.metrics import classification_report\n",
    "from scikitplot.metrics import plot_roc\n",
    "from scikitplot.metrics import plot_precision_recall\n",
    "from scikitplot.metrics import plot_cumulative_gain\n",
    "from scikitplot.metrics import plot_lift_curve\n",
    "from numpy import argmax\n",
    "import numpy as np\n",
    "def build_and_test(X_tr, X_te, y_tr, y_te, class_weight=None, threshold=False):\n",
    "    \n",
    "    # Build and Plot PCA\n",
    "    pca = PCA(n_components=2)\n",
    "    pca.fit(np.array(X_tr))\n",
    "    X_pca = pca.transform(np.array(X_tr))\n",
    "    plt.scatter(X_pca[:, 0], X_pca[:, 1], c=y_tr, cmap=plt.cm.prism, edgecolor='k', alpha=0.7)\n",
    "    plt.show()\n",
    "    \n",
    "    # Build and fit the model\n",
    "    if class_weight:\n",
    "        model = DecisionTreeClassifier(class_weight=class_weight)\n",
    "    else:\n",
    "        model = DecisionTreeClassifier()\n",
    "    model.fit(X_tr, y_tr)\n",
    "    \n",
    "    # Test the model\n",
    "    y_pred = model.predict(X_te)\n",
    "    print('Precision score %s' % precision_score(y_te, y_pred))\n",
    "    print('Recall score %s' % recall_score(y_te, y_pred))\n",
    "    print('F1-score score %s' % f1_score(y_te, y_pred))\n",
    "    print('Accuracy score %s' % accuracy_score(y_te, y_pred))\n",
    "    \n",
    "    y_score = model.predict_proba(X_te)\n",
    "    fpr0, tpr0, thresholds = roc_curve(y_te, y_score[:, 1])\n",
    "    roc_auc0 = auc(fpr0, tpr0)\n",
    "    \n",
    "    # Calculate the best threshold\n",
    "    best_threshold = None\n",
    "    if threshold:\n",
    "        J = tpr0 - fpr0\n",
    "        ix = argmax(J) # take the value which maximizes the J variable\n",
    "        best_threshold = thresholds[ix]\n",
    "        # adjust score according to threshold.\n",
    "        y_score = np.array([[1, y[1]] if y[0] >= best_threshold else [0, y[1]] for y in y_score])\n",
    "        \n",
    "    \n",
    "\n",
    "    \n",
    "    # Print a classification report\n",
    "    print(classification_report(y_te,y_pred))\n",
    "    return roc_auc0,fpr0,tpr0, best_threshold"
   ]
  },
  {
   "cell_type": "code",
   "execution_count": 118,
   "metadata": {},
   "outputs": [
    {
     "data": {
      "image/png": "[encoded data removed]",
      "text/plain": [
       "<Figure size 432x288 with 1 Axes>"
      ]
     },
     "metadata": {
      "needs_background": "light"
     },
     "output_type": "display_data"
    },
    {
     "name": "stdout",
     "output_type": "stream",
     "text": [
      "Precision score 0.0\n",
      "Recall score 0.0\n",
      "F1-score score 0.0\n",
      "Accuracy score 0.864732127416733\n",
      "              precision    recall  f1-score   support\n",
      "\n",
      "           0       1.00      0.86      0.93     28913\n",
      "           1       0.00      0.00      0.00         0\n",
      "\n",
      "    accuracy                           0.86     28913\n",
      "   macro avg       0.50      0.43      0.46     28913\n",
      "weighted avg       1.00      0.86      0.93     28913\n",
      "\n"
     ]
    }
   ],
   "source": [
    "roc_auc_imb,fpr_imb,tpr_imb, _ = build_and_test(X_train, X_test, y_train, y_test)"
   ]
  },
  {
   "cell_type": "code",
   "execution_count": 119,
   "metadata": {},
   "outputs": [],
   "source": [
    "from collections import Counter"
   ]
  },
  {
   "cell_type": "markdown",
   "metadata": {},
   "source": [
    "#### SMOTETomek"
   ]
  },
  {
   "cell_type": "markdown",
   "metadata": {},
   "source": [
    "class imblearn.combine.SMOTETomek(*, sampling_strategy='auto', random_state=None, smote=None, tomek=None, n_jobs=None)[source]\n",
    "Over-sampling using SMOTE and cleaning using Tomek links.\n",
    "\n",
    "Combine over- and under-sampling using SMOTE and Tomek links.\n",
    "\n",
    "Read more in the User Guide."
   ]
  },
  {
   "cell_type": "code",
   "execution_count": 120,
   "metadata": {},
   "outputs": [],
   "source": [
    "from imblearn.combine import SMOTETomek"
   ]
  },
  {
   "cell_type": "code",
   "execution_count": 121,
   "metadata": {},
   "outputs": [
    {
     "data": {
      "text/plain": [
       "Counter({0: 55169, 1: 5547})"
      ]
     },
     "execution_count": 121,
     "metadata": {},
     "output_type": "execute_result"
    }
   ],
   "source": [
    "from collections import Counter\n",
    "Counter(y_train)"
   ]
  },
  {
   "cell_type": "code",
   "execution_count": 122,
   "metadata": {},
   "outputs": [
    {
     "name": "stdout",
     "output_type": "stream",
     "text": [
      "The number of classes before fit Counter({0: 55169, 1: 5547})\n",
      "The number of classes after fit Counter({0: 55115, 1: 41322})\n"
     ]
    }
   ],
   "source": [
    "os=SMOTETomek(0.75)\n",
    "X_train_ns,y_train_ns=os.fit_resample(X_train,y_train)\n",
    "print(\"The number of classes before fit {}\".format(Counter(y_train)))\n",
    "print(\"The number of classes after fit {}\".format(Counter(y_train_ns)))"
   ]
  },
  {
   "cell_type": "code",
   "execution_count": 123,
   "metadata": {},
   "outputs": [
    {
     "data": {
      "image/png": "[encoded data removed]",
      "text/plain": [
       "<Figure size 432x288 with 1 Axes>"
      ]
     },
     "metadata": {
      "needs_background": "light"
     },
     "output_type": "display_data"
    },
    {
     "name": "stdout",
     "output_type": "stream",
     "text": [
      "Precision score 0.0\n",
      "Recall score 0.0\n",
      "F1-score score 0.0\n",
      "Accuracy score 0.8259606405423167\n",
      "              precision    recall  f1-score   support\n",
      "\n",
      "           0       1.00      0.83      0.90     28913\n",
      "           1       0.00      0.00      0.00         0\n",
      "\n",
      "    accuracy                           0.83     28913\n",
      "   macro avg       0.50      0.41      0.45     28913\n",
      "weighted avg       1.00      0.83      0.90     28913\n",
      "\n"
     ]
    }
   ],
   "source": [
    "roc_auc_ros,fpr_ros,tpr_ros, _ = build_and_test(X_train_ns, X_test, y_train_ns, y_test)"
   ]
  },
  {
   "cell_type": "code",
   "execution_count": 124,
   "metadata": {},
   "outputs": [
    {
     "data": {
      "text/plain": [
       "RandomForestClassifier()"
      ]
     },
     "execution_count": 124,
     "metadata": {},
     "output_type": "execute_result"
    }
   ],
   "source": [
    "from sklearn.ensemble import RandomForestClassifier\n",
    "classifier=RandomForestClassifier()\n",
    "classifier.fit(X_train_ns,y_train_ns)"
   ]
  },
  {
   "cell_type": "code",
   "execution_count": 125,
   "metadata": {},
   "outputs": [
    {
     "name": "stdout",
     "output_type": "stream",
     "text": [
      "[[27635  1278]\n",
      " [    0     0]]\n",
      "0.9557984297720749\n",
      "              precision    recall  f1-score   support\n",
      "\n",
      "           0       1.00      0.96      0.98     28913\n",
      "           1       0.00      0.00      0.00         0\n",
      "\n",
      "    accuracy                           0.96     28913\n",
      "   macro avg       0.50      0.48      0.49     28913\n",
      "weighted avg       1.00      0.96      0.98     28913\n",
      "\n"
     ]
    }
   ],
   "source": [
    "from sklearn.metrics import confusion_matrix,classification_report,accuracy_score\n",
    "y_pred=classifier.predict(X_test)\n",
    "print(confusion_matrix(y_test,y_pred))\n",
    "print(accuracy_score(y_test,y_pred))\n",
    "print(classification_report(y_test,y_pred))"
   ]
  },
  {
   "cell_type": "markdown",
   "metadata": {},
   "source": [
    "## PIPELINE CREATION TO CHECK WHICH MODEL WORKS BETTER"
   ]
  },
  {
   "cell_type": "code",
   "execution_count": 126,
   "metadata": {},
   "outputs": [],
   "source": [
    "## Pipelines Creation\n",
    "## 1. Data Preprocessing by using Standard Scaler\n",
    "## 2. Reduce Dimension using PCA\n",
    "## 3. Apply  Classifier"
   ]
  },
  {
   "cell_type": "code",
   "execution_count": 127,
   "metadata": {},
   "outputs": [],
   "source": [
    "from sklearn.datasets import load_iris\n",
    "from sklearn.model_selection import train_test_split\n",
    "from sklearn.preprocessing import StandardScaler\n",
    "from sklearn.decomposition import PCA\n",
    "from sklearn.pipeline import Pipeline\n",
    "from sklearn.linear_model import LogisticRegression\n",
    "from sklearn.tree import DecisionTreeClassifier\n",
    "from sklearn.ensemble import RandomForestClassifier\n",
    "from sklearn.ensemble import GradientBoostingClassifier\n",
    "from xgboost import XGBClassifier"
   ]
  },
  {
   "cell_type": "code",
   "execution_count": 128,
   "metadata": {},
   "outputs": [],
   "source": [
    "pipeline_lr=Pipeline([('scalar1',RobustScaler()),\n",
    "                     ('pca1',PCA(n_components=2)),\n",
    "                     ('lr_classifier',LogisticRegression(random_state=0))])"
   ]
  },
  {
   "cell_type": "code",
   "execution_count": 129,
   "metadata": {},
   "outputs": [],
   "source": [
    "pipeline_dt=Pipeline([('scalar2',RobustScaler()),\n",
    "                     ('pca2',PCA(n_components=2)),\n",
    "                     ('dt_classifier',DecisionTreeClassifier())])"
   ]
  },
  {
   "cell_type": "code",
   "execution_count": 130,
   "metadata": {},
   "outputs": [],
   "source": [
    "pipeline_randomforest=Pipeline([('scalar3',RobustScaler()),\n",
    "                     ('pca3',PCA(n_components=2)),\n",
    "                     ('rf_classifier',RandomForestClassifier())])"
   ]
  },
  {
   "cell_type": "code",
   "execution_count": 131,
   "metadata": {},
   "outputs": [],
   "source": [
    "pipeline_gradient_boost=Pipeline([('scalar4',RobustScaler()),\n",
    "                     ('pca4',PCA(n_components=2)),\n",
    "                     ('gb_classifier',GradientBoostingClassifier())])"
   ]
  },
  {
   "cell_type": "code",
   "execution_count": 132,
   "metadata": {},
   "outputs": [],
   "source": [
    "pipeline_XGboost=Pipeline([('scalar5',RobustScaler()),\n",
    "                          ('pca5',PCA(n_components=2)),\n",
    "                          ('xgb_classifier',XGBClassifier())])"
   ]
  },
  {
   "cell_type": "code",
   "execution_count": 133,
   "metadata": {},
   "outputs": [],
   "source": [
    "## LEts make the list of pipelines\n",
    "pipelines = [pipeline_lr, pipeline_dt, pipeline_randomforest,pipeline_gradient_boost,pipeline_XGboost]"
   ]
  },
  {
   "cell_type": "code",
   "execution_count": 134,
   "metadata": {},
   "outputs": [],
   "source": [
    "best_accuracy=0.0\n",
    "best_classifier=0\n",
    "best_pipeline=\"\""
   ]
  },
  {
   "cell_type": "code",
   "execution_count": 135,
   "metadata": {},
   "outputs": [
    {
     "name": "stdout",
     "output_type": "stream",
     "text": [
      "[22:42:39] WARNING: C:/Users/Administrator/workspace/xgboost-win64_release_1.4.0/src/learner.cc:1095: Starting in XGBoost 1.3.0, the default evaluation metric used with the objective 'binary:logistic' was changed from 'error' to 'logloss'. Explicitly set eval_metric if you'd like to restore the old behavior.\n"
     ]
    }
   ],
   "source": [
    "# Dictionary of pipelines and classifier types for ease of reference\n",
    "pipe_dict = {0: 'Logistic Regression', 1: 'Decision Tree', 2: 'RandomForest', 3: 'Gradient Boost', 4: 'Extreme Gradient Boost'}\n",
    "\n",
    "# Fit the pipelines\n",
    "for pipe in pipelines:\n",
    "\tpipe.fit(X_train_ns, y_train_ns)"
   ]
  },
  {
   "cell_type": "code",
   "execution_count": 136,
   "metadata": {},
   "outputs": [
    {
     "name": "stdout",
     "output_type": "stream",
     "text": [
      "Logistic Regression Test Accuracy: 1.0\n",
      "Decision Tree Test Accuracy: 0.5891121640784422\n",
      "RandomForest Test Accuracy: 0.5391000587970809\n",
      "Gradient Boost Test Accuracy: 0.9965759347006536\n",
      "Extreme Gradient Boost Test Accuracy: 0.9134299450074361\n"
     ]
    }
   ],
   "source": [
    "for i,model in enumerate(pipelines):\n",
    "    print(\"{} Test Accuracy: {}\".format(pipe_dict[i],model.score(X_test,y_test)))"
   ]
  },
  {
   "cell_type": "code",
   "execution_count": 137,
   "metadata": {},
   "outputs": [
    {
     "name": "stdout",
     "output_type": "stream",
     "text": [
      "Classifier with best accuracy:Logistic Regression\n"
     ]
    }
   ],
   "source": [
    "for i,model in enumerate(pipelines):\n",
    "    if model.score(X_test,y_test)>best_accuracy:\n",
    "        best_accuracy=model.score(X_test,y_test)\n",
    "        best_pipeline=model\n",
    "        best_classifier=i\n",
    "print('Classifier with best accuracy:{}'.format(pipe_dict[best_classifier]))"
   ]
  },
  {
   "cell_type": "code",
   "execution_count": 138,
   "metadata": {},
   "outputs": [
    {
     "data": {
      "text/plain": [
       "0    55115\n",
       "1    41322\n",
       "Name: Loan Status, dtype: int64"
      ]
     },
     "execution_count": 138,
     "metadata": {},
     "output_type": "execute_result"
    }
   ],
   "source": [
    "y_train_ns.value_counts()"
   ]
  },
  {
   "cell_type": "code",
   "execution_count": 139,
   "metadata": {},
   "outputs": [],
   "source": [
    "from sklearn.ensemble import RandomForestClassifier\n",
    "rf_classifier=RandomForestClassifier(n_estimators=10).fit(X_train_ns,y_train_ns)\n",
    "prediction=rf_classifier.predict(X_test)"
   ]
  },
  {
   "cell_type": "code",
   "execution_count": 140,
   "metadata": {},
   "outputs": [
    {
     "data": {
      "text/plain": [
       "array([0, 0, 0, ..., 0, 0, 0], dtype=int64)"
      ]
     },
     "execution_count": 140,
     "metadata": {},
     "output_type": "execute_result"
    }
   ],
   "source": [
    "prediction"
   ]
  },
  {
   "cell_type": "code",
   "execution_count": 141,
   "metadata": {},
   "outputs": [
    {
     "name": "stdout",
     "output_type": "stream",
     "text": [
      "[[27828  1085]\n",
      " [    0     0]]\n",
      "0.9624736277798914\n",
      "              precision    recall  f1-score   support\n",
      "\n",
      "           0       1.00      0.96      0.98     28913\n",
      "           1       0.00      0.00      0.00         0\n",
      "\n",
      "    accuracy                           0.96     28913\n",
      "   macro avg       0.50      0.48      0.49     28913\n",
      "weighted avg       1.00      0.96      0.98     28913\n",
      "\n"
     ]
    }
   ],
   "source": [
    "from sklearn.metrics import confusion_matrix,classification_report,accuracy_score\n",
    "print(confusion_matrix(y_test,prediction))\n",
    "print(accuracy_score(y_test,prediction))\n",
    "print(classification_report(y_test,prediction))"
   ]
  },
  {
   "cell_type": "markdown",
   "metadata": {},
   "source": [
    "### Manual Hyperparameter Tuning"
   ]
  },
  {
   "cell_type": "code",
   "execution_count": 142,
   "metadata": {},
   "outputs": [
    {
     "name": "stdout",
     "output_type": "stream",
     "text": [
      "[[27849  1064]\n",
      " [    0     0]]\n",
      "0.9631999446615709\n",
      "              precision    recall  f1-score   support\n",
      "\n",
      "           0       1.00      0.96      0.98     28913\n",
      "           1       0.00      0.00      0.00         0\n",
      "\n",
      "    accuracy                           0.96     28913\n",
      "   macro avg       0.50      0.48      0.49     28913\n",
      "weighted avg       1.00      0.96      0.98     28913\n",
      "\n"
     ]
    }
   ],
   "source": [
    "### Manual Hyperparameter Tuning\n",
    "model=RandomForestClassifier(n_estimators=300,criterion='entropy',\n",
    "                             max_features='sqrt',min_samples_leaf=10,random_state=100).fit(X_train_ns,y_train_ns)\n",
    "predictions=model.predict(X_test)\n",
    "print(confusion_matrix(y_test,predictions))\n",
    "print(accuracy_score(y_test,predictions))\n",
    "print(classification_report(y_test,predictions))"
   ]
  },
  {
   "cell_type": "markdown",
   "metadata": {},
   "source": [
    "#### Validation Curve"
   ]
  },
  {
   "cell_type": "markdown",
   "metadata": {},
   "source": [
    "##### n_estimator "
   ]
  },
  {
   "cell_type": "code",
   "execution_count": 143,
   "metadata": {},
   "outputs": [
    {
     "data": {
      "image/png": "[encoded data removed]",
      "text/plain": [
       "<Figure size 576x396 with 1 Axes>"
      ]
     },
     "metadata": {},
     "output_type": "display_data"
    },
    {
     "name": "stdout",
     "output_type": "stream",
     "text": [
      "ValidationCurve(ax=<AxesSubplot:title={'center':'Validation Curve for RandomForestClassifier'}, xlabel='n_estimators', ylabel='score'>,\n",
      "                cv=10,\n",
      "                estimator=RandomForestClassifier(criterion='entropy',\n",
      "                                                 max_features='sqrt',\n",
      "                                                 min_samples_leaf=10,\n",
      "                                                 n_estimators=300,\n",
      "                                                 random_state=100),\n",
      "                n_jobs=-1, param_name='n_estimators',\n",
      "                param_range=array([ 1,  2,  3,  4,  5,  6,  7,  8,  9, 10]),\n",
      "                scoring='accuracy')\n"
     ]
    }
   ],
   "source": [
    "from yellowbrick.model_selection import validation_curve \n",
    "print(validation_curve(model, X_train_ns, y_train_ns, param_name=\"n_estimators\", n_jobs=-1,param_range=np.arange(1, 11), cv=10, scoring=\"accuracy\"))"
   ]
  },
  {
   "cell_type": "code",
   "execution_count": 144,
   "metadata": {},
   "outputs": [],
   "source": [
    "### Randomized Search Grid View "
   ]
  },
  {
   "cell_type": "code",
   "execution_count": 145,
   "metadata": {},
   "outputs": [
    {
     "name": "stdout",
     "output_type": "stream",
     "text": [
      "{'n_estimators': [300, 400, 500, 600, 700], 'max_features': ['auto', 'sqrt', 'log2'], 'max_depth': [5, 8, 15, 25, 30], 'min_samples_split': [2, 5, 10, 14], 'min_samples_leaf': [1, 2, 4, 6, 8], 'criterion': ['entropy', 'gini']}\n"
     ]
    }
   ],
   "source": [
    "import numpy as np\n",
    "from sklearn.model_selection import RandomizedSearchCV\n",
    "# Number of trees in random forest\n",
    "n_estimators = [300, 400, 500, 600, 700]\n",
    "# Number of features to consider at every split\n",
    "max_features = ['auto', 'sqrt','log2']\n",
    "# Maximum number of levels in tree\n",
    "max_depth = [5, 8, 15, 25, 30]\n",
    "# Minimum number of samples required to split a node\n",
    "min_samples_split = [2, 5, 10, 14]\n",
    "# Minimum number of samples required at each leaf node\n",
    "min_samples_leaf = [1, 2, 4, 6, 8]\n",
    "# Create the random grid\n",
    "random_grid = {'n_estimators': n_estimators,\n",
    "               'max_features': max_features,\n",
    "               'max_depth': max_depth,\n",
    "               'min_samples_split': min_samples_split,\n",
    "               'min_samples_leaf': min_samples_leaf,\n",
    "              'criterion':['entropy','gini']}\n",
    "print(random_grid)"
   ]
  },
  {
   "cell_type": "code",
   "execution_count": 146,
   "metadata": {},
   "outputs": [
    {
     "name": "stdout",
     "output_type": "stream",
     "text": [
      "Fitting 2 folds for each of 1 candidates, totalling 2 fits\n"
     ]
    },
    {
     "name": "stderr",
     "output_type": "stream",
     "text": [
      "[Parallel(n_jobs=-1)]: Using backend LokyBackend with 4 concurrent workers.\n",
      "[Parallel(n_jobs=-1)]: Done   2 out of   2 | elapsed:  1.0min finished\n"
     ]
    },
    {
     "data": {
      "text/plain": [
       "RandomizedSearchCV(cv=2, estimator=RandomForestClassifier(), n_iter=1,\n",
       "                   n_jobs=-1,\n",
       "                   param_distributions={'criterion': ['entropy', 'gini'],\n",
       "                                        'max_depth': [5, 8, 15, 25, 30],\n",
       "                                        'max_features': ['auto', 'sqrt',\n",
       "                                                         'log2'],\n",
       "                                        'min_samples_leaf': [1, 2, 4, 6, 8],\n",
       "                                        'min_samples_split': [2, 5, 10, 14],\n",
       "                                        'n_estimators': [300, 400, 500, 600,\n",
       "                                                         700]},\n",
       "                   random_state=100, verbose=2)"
      ]
     },
     "execution_count": 146,
     "metadata": {},
     "output_type": "execute_result"
    }
   ],
   "source": [
    "rf=RandomForestClassifier()\n",
    "rf_randomcv=RandomizedSearchCV(estimator=rf,param_distributions=random_grid,n_iter=1,cv=2,verbose=2,\n",
    "                               random_state=100,n_jobs=-1)\n",
    "### fit the randomized model\n",
    "rf_randomcv.fit(X_train_ns,y_train_ns)"
   ]
  },
  {
   "cell_type": "code",
   "execution_count": 147,
   "metadata": {},
   "outputs": [
    {
     "data": {
      "text/plain": [
       "{'n_estimators': 700,\n",
       " 'min_samples_split': 2,\n",
       " 'min_samples_leaf': 4,\n",
       " 'max_features': 'auto',\n",
       " 'max_depth': 5,\n",
       " 'criterion': 'gini'}"
      ]
     },
     "execution_count": 147,
     "metadata": {},
     "output_type": "execute_result"
    }
   ],
   "source": [
    "rf_randomcv.best_params_"
   ]
  },
  {
   "cell_type": "code",
   "execution_count": 148,
   "metadata": {},
   "outputs": [
    {
     "data": {
      "text/plain": [
       "RandomizedSearchCV(cv=2, estimator=RandomForestClassifier(), n_iter=1,\n",
       "                   n_jobs=-1,\n",
       "                   param_distributions={'criterion': ['entropy', 'gini'],\n",
       "                                        'max_depth': [5, 8, 15, 25, 30],\n",
       "                                        'max_features': ['auto', 'sqrt',\n",
       "                                                         'log2'],\n",
       "                                        'min_samples_leaf': [1, 2, 4, 6, 8],\n",
       "                                        'min_samples_split': [2, 5, 10, 14],\n",
       "                                        'n_estimators': [300, 400, 500, 600,\n",
       "                                                         700]},\n",
       "                   random_state=100, verbose=2)"
      ]
     },
     "execution_count": 148,
     "metadata": {},
     "output_type": "execute_result"
    }
   ],
   "source": [
    "rf_randomcv"
   ]
  },
  {
   "cell_type": "code",
   "execution_count": 149,
   "metadata": {},
   "outputs": [],
   "source": [
    "best_random_grid=rf_randomcv.best_estimator_"
   ]
  },
  {
   "cell_type": "code",
   "execution_count": 150,
   "metadata": {},
   "outputs": [
    {
     "name": "stdout",
     "output_type": "stream",
     "text": [
      "[[28604   309]\n",
      " [    0     0]]\n",
      "Accuracy Score 0.9893127658838585\n",
      "Classification report:               precision    recall  f1-score   support\n",
      "\n",
      "           0       1.00      0.99      0.99     28913\n",
      "           1       0.00      0.00      0.00         0\n",
      "\n",
      "    accuracy                           0.99     28913\n",
      "   macro avg       0.50      0.49      0.50     28913\n",
      "weighted avg       1.00      0.99      0.99     28913\n",
      "\n"
     ]
    }
   ],
   "source": [
    "from sklearn.metrics import accuracy_score\n",
    "y_pred=best_random_grid.predict(X_test)\n",
    "print(confusion_matrix(y_test,y_pred))\n",
    "print(\"Accuracy Score {}\".format(accuracy_score(y_test,y_pred)))\n",
    "print(\"Classification report: {}\".format(classification_report(y_test,y_pred)))"
   ]
  },
  {
   "cell_type": "code",
   "execution_count": 151,
   "metadata": {},
   "outputs": [],
   "source": [
    "# Converting y_pred to a dataframe which is an array\n",
    "y_pred_2 = pd.DataFrame(y_pred)"
   ]
  },
  {
   "cell_type": "code",
   "execution_count": 152,
   "metadata": {},
   "outputs": [
    {
     "data": {
      "text/plain": [
       "0    28604\n",
       "1      309\n",
       "dtype: int64"
      ]
     },
     "execution_count": 152,
     "metadata": {},
     "output_type": "execute_result"
    }
   ],
   "source": [
    "y_pred_2.value_counts()"
   ]
  },
  {
   "cell_type": "code",
   "execution_count": 153,
   "metadata": {},
   "outputs": [],
   "source": [
    "y_pred_2.to_csv('C:/Users/HP/Desktop/DeloitteHackathon/my_submission_file.csv', index=False)"
   ]
  },
  {
   "cell_type": "markdown",
   "metadata": {},
   "source": [
    "### Dimensions"
   ]
  },
  {
   "cell_type": "code",
   "execution_count": 154,
   "metadata": {},
   "outputs": [
    {
     "data": {
      "text/plain": [
       "(96437, 17)"
      ]
     },
     "execution_count": 154,
     "metadata": {},
     "output_type": "execute_result"
    }
   ],
   "source": [
    "X_train_ns.shape"
   ]
  },
  {
   "cell_type": "code",
   "execution_count": 155,
   "metadata": {},
   "outputs": [
    {
     "data": {
      "text/plain": [
       "(96437,)"
      ]
     },
     "execution_count": 155,
     "metadata": {},
     "output_type": "execute_result"
    }
   ],
   "source": [
    "y_train_ns.shape"
   ]
  },
  {
   "cell_type": "code",
   "execution_count": 156,
   "metadata": {},
   "outputs": [
    {
     "data": {
      "text/plain": [
       "(28913, 17)"
      ]
     },
     "execution_count": 156,
     "metadata": {},
     "output_type": "execute_result"
    }
   ],
   "source": [
    "X_test.shape"
   ]
  },
  {
   "cell_type": "code",
   "execution_count": 157,
   "metadata": {},
   "outputs": [
    {
     "data": {
      "text/plain": [
       "(28913,)"
      ]
     },
     "execution_count": 157,
     "metadata": {},
     "output_type": "execute_result"
    }
   ],
   "source": [
    "y_test.shape"
   ]
  },
  {
   "cell_type": "markdown",
   "metadata": {},
   "source": [
    "#### Checking With ANN Model as Well "
   ]
  },
  {
   "cell_type": "code",
   "execution_count": 158,
   "metadata": {},
   "outputs": [],
   "source": [
    "import pandas as pd\n",
    "import numpy as np \n",
    "import itertools\n",
    "from sklearn import metrics\n",
    "from sklearn.metrics import confusion_matrix\n",
    "from tensorflow.keras.preprocessing.image import ImageDataGenerator, img_to_array, load_img \n",
    "from tensorflow.keras.models import Sequential\n",
    "from tensorflow.keras.layers import Conv2D,Flatten,Dropout,Dense\n",
    "from tensorflow.keras.optimizers import Adam\n",
    "from tensorflow import keras\n",
    "from tensorflow.keras import layers"
   ]
  },
  {
   "cell_type": "code",
   "execution_count": 159,
   "metadata": {},
   "outputs": [],
   "source": [
    "import tensorflow as tf\n",
    "from tensorflow import keras\n",
    "import numpy as np"
   ]
  },
  {
   "cell_type": "code",
   "execution_count": 160,
   "metadata": {},
   "outputs": [],
   "source": [
    "import keras\n",
    "from keras.models import Sequential\n",
    "from keras.layers import Dense\n",
    "from keras.layers import LeakyReLU,PReLU,ELU\n",
    "from keras.layers import Dropout"
   ]
  },
  {
   "cell_type": "code",
   "execution_count": 161,
   "metadata": {},
   "outputs": [],
   "source": [
    "# initialising sequential model and adding layers to it\n",
    "# Adding the input layer and the first hidden layer\n",
    "# Initialising the ANN\n",
    "model = Sequential()\n",
    "model.add(Dense(1000, input_dim=17, activation='relu'))\n",
    "model.add(Dense(500, activation='relu'))\n",
    "model.add(Dense(500, activation='LeakyReLU'))\n",
    "# Adding the output layer\n",
    "model.add(Dense(1, activation='sigmoid'))   # this is output layer - should have as many neurons as there are outputs to the classification problem.\n"
   ]
  },
  {
   "cell_type": "code",
   "execution_count": 162,
   "metadata": {},
   "outputs": [],
   "source": [
    "# Compiling the ANN\n",
    "model.compile(optimizer = 'adam', loss = 'binary_crossentropy', metrics = ['accuracy'])\n"
   ]
  },
  {
   "cell_type": "code",
   "execution_count": 163,
   "metadata": {},
   "outputs": [
    {
     "name": "stdout",
     "output_type": "stream",
     "text": [
      "Model: \"sequential\"\n",
      "_________________________________________________________________\n",
      "Layer (type)                 Output Shape              Param #   \n",
      "=================================================================\n",
      "dense (Dense)                (None, 1000)              18000     \n",
      "_________________________________________________________________\n",
      "dense_1 (Dense)              (None, 500)               500500    \n",
      "_________________________________________________________________\n",
      "dense_2 (Dense)              (None, 500)               250500    \n",
      "_________________________________________________________________\n",
      "dense_3 (Dense)              (None, 1)                 501       \n",
      "=================================================================\n",
      "Total params: 769,501\n",
      "Trainable params: 769,501\n",
      "Non-trainable params: 0\n",
      "_________________________________________________________________\n"
     ]
    }
   ],
   "source": [
    "model.summary()"
   ]
  },
  {
   "cell_type": "code",
   "execution_count": 164,
   "metadata": {},
   "outputs": [
    {
     "name": "stdout",
     "output_type": "stream",
     "text": [
      "Epoch 1/250\n",
      "772/772 [==============================] - 11s 13ms/step - loss: 0.6032 - accuracy: 0.7134 - val_loss: 1.1581 - val_accuracy: 9.3322e-04\n",
      "Epoch 2/250\n",
      "772/772 [==============================] - 10s 12ms/step - loss: 0.5689 - accuracy: 0.7186 - val_loss: 1.0600 - val_accuracy: 0.1479\n",
      "Epoch 3/250\n",
      "772/772 [==============================] - 9s 12ms/step - loss: 0.5300 - accuracy: 0.7425 - val_loss: 0.9993 - val_accuracy: 0.3142\n",
      "Epoch 4/250\n",
      "772/772 [==============================] - 10s 12ms/step - loss: 0.4749 - accuracy: 0.7809 - val_loss: 0.9566 - val_accuracy: 0.4109\n",
      "Epoch 5/250\n",
      "772/772 [==============================] - 10s 13ms/step - loss: 0.4074 - accuracy: 0.8191 - val_loss: 0.7232 - val_accuracy: 0.6121\n",
      "Epoch 6/250\n",
      "772/772 [==============================] - 9s 12ms/step - loss: 0.3355 - accuracy: 0.8570 - val_loss: 0.4898 - val_accuracy: 0.7498\n",
      "Epoch 7/250\n",
      "772/772 [==============================] - 10s 12ms/step - loss: 0.2720 - accuracy: 0.8889 - val_loss: 0.4356 - val_accuracy: 0.7855\n",
      "Epoch 8/250\n",
      "772/772 [==============================] - 9s 12ms/step - loss: 0.2215 - accuracy: 0.9105 - val_loss: 0.3532 - val_accuracy: 0.8360\n",
      "Epoch 9/250\n",
      "772/772 [==============================] - 10s 12ms/step - loss: 0.1840 - accuracy: 0.9276 - val_loss: 0.3200 - val_accuracy: 0.8461\n",
      "Epoch 10/250\n",
      "772/772 [==============================] - 10s 13ms/step - loss: 0.1555 - accuracy: 0.9385 - val_loss: 0.2420 - val_accuracy: 0.8815\n",
      "Epoch 11/250\n",
      "772/772 [==============================] - 10s 12ms/step - loss: 0.1329 - accuracy: 0.9483 - val_loss: 0.2051 - val_accuracy: 0.8960\n",
      "Epoch 12/250\n",
      "772/772 [==============================] - 11s 14ms/step - loss: 0.1167 - accuracy: 0.9552 - val_loss: 0.2473 - val_accuracy: 0.8797\n",
      "Epoch 13/250\n",
      "772/772 [==============================] - 11s 14ms/step - loss: 0.1040 - accuracy: 0.9589 - val_loss: 0.1889 - val_accuracy: 0.9069\n",
      "Epoch 14/250\n",
      "772/772 [==============================] - 11s 14ms/step - loss: 0.0954 - accuracy: 0.9625 - val_loss: 0.2118 - val_accuracy: 0.9016\n",
      "Epoch 15/250\n",
      "772/772 [==============================] - 11s 14ms/step - loss: 0.0893 - accuracy: 0.9652 - val_loss: 0.1678 - val_accuracy: 0.9188\n",
      "Epoch 16/250\n",
      "772/772 [==============================] - 11s 14ms/step - loss: 0.0810 - accuracy: 0.9682 - val_loss: 0.1807 - val_accuracy: 0.9130\n",
      "Epoch 17/250\n",
      "772/772 [==============================] - 11s 14ms/step - loss: 0.0765 - accuracy: 0.9699 - val_loss: 0.2025 - val_accuracy: 0.9029\n",
      "Epoch 18/250\n",
      "772/772 [==============================] - 11s 14ms/step - loss: 0.0741 - accuracy: 0.9707 - val_loss: 0.2331 - val_accuracy: 0.8968\n",
      "Epoch 19/250\n",
      "772/772 [==============================] - 11s 14ms/step - loss: 0.0675 - accuracy: 0.9734 - val_loss: 0.1229 - val_accuracy: 0.9346\n",
      "Epoch 20/250\n",
      "772/772 [==============================] - 11s 14ms/step - loss: 0.0681 - accuracy: 0.9735 - val_loss: 0.1589 - val_accuracy: 0.9218\n",
      "Epoch 21/250\n",
      "772/772 [==============================] - 11s 15ms/step - loss: 0.0659 - accuracy: 0.9736 - val_loss: 0.1877 - val_accuracy: 0.9135\n",
      "Epoch 22/250\n",
      "772/772 [==============================] - 11s 14ms/step - loss: 0.0611 - accuracy: 0.9756 - val_loss: 0.1828 - val_accuracy: 0.9127\n",
      "Epoch 23/250\n",
      "772/772 [==============================] - 11s 14ms/step - loss: 0.0608 - accuracy: 0.9758 - val_loss: 0.1341 - val_accuracy: 0.9285\n",
      "Epoch 24/250\n",
      "772/772 [==============================] - 11s 14ms/step - loss: 0.0589 - accuracy: 0.9769 - val_loss: 0.1563 - val_accuracy: 0.9243\n",
      "Epoch 25/250\n",
      "772/772 [==============================] - 11s 14ms/step - loss: 0.0575 - accuracy: 0.9773 - val_loss: 0.2336 - val_accuracy: 0.9013\n",
      "Epoch 26/250\n",
      "772/772 [==============================] - 11s 14ms/step - loss: 0.0548 - accuracy: 0.9780 - val_loss: 0.1302 - val_accuracy: 0.9316\n",
      "Epoch 27/250\n",
      "772/772 [==============================] - 11s 14ms/step - loss: 0.0544 - accuracy: 0.9782 - val_loss: 0.1744 - val_accuracy: 0.9187\n",
      "Epoch 28/250\n",
      "772/772 [==============================] - 11s 14ms/step - loss: 0.0556 - accuracy: 0.9775 - val_loss: 0.1648 - val_accuracy: 0.9235\n",
      "Epoch 29/250\n",
      "772/772 [==============================] - 11s 14ms/step - loss: 0.0522 - accuracy: 0.9793 - val_loss: 0.1249 - val_accuracy: 0.9345\n",
      "Epoch 30/250\n",
      "772/772 [==============================] - 11s 14ms/step - loss: 0.0504 - accuracy: 0.9797 - val_loss: 0.1701 - val_accuracy: 0.9229\n",
      "Epoch 31/250\n",
      "772/772 [==============================] - 11s 14ms/step - loss: 0.0490 - accuracy: 0.9807 - val_loss: 0.1619 - val_accuracy: 0.9241\n",
      "Epoch 32/250\n",
      "772/772 [==============================] - 12s 15ms/step - loss: 0.0468 - accuracy: 0.9811 - val_loss: 0.1584 - val_accuracy: 0.9265\n",
      "Epoch 33/250\n",
      "772/772 [==============================] - 11s 14ms/step - loss: 0.0502 - accuracy: 0.9796 - val_loss: 0.1402 - val_accuracy: 0.9334\n",
      "Epoch 34/250\n",
      "772/772 [==============================] - 11s 14ms/step - loss: 0.0473 - accuracy: 0.9813 - val_loss: 0.1383 - val_accuracy: 0.9310\n",
      "Epoch 35/250\n",
      "772/772 [==============================] - 11s 15ms/step - loss: 0.0472 - accuracy: 0.9812 - val_loss: 0.1736 - val_accuracy: 0.9219\n",
      "Epoch 36/250\n",
      "772/772 [==============================] - 11s 14ms/step - loss: 0.0467 - accuracy: 0.9814 - val_loss: 0.1735 - val_accuracy: 0.9207\n",
      "Epoch 37/250\n",
      "772/772 [==============================] - 11s 14ms/step - loss: 0.0454 - accuracy: 0.9817 - val_loss: 0.1197 - val_accuracy: 0.9383\n",
      "Epoch 38/250\n",
      "772/772 [==============================] - 11s 15ms/step - loss: 0.0461 - accuracy: 0.9816 - val_loss: 0.1357 - val_accuracy: 0.9363\n",
      "Epoch 39/250\n",
      "772/772 [==============================] - 11s 14ms/step - loss: 0.0425 - accuracy: 0.9827 - val_loss: 0.1619 - val_accuracy: 0.9274\n",
      "Epoch 40/250\n",
      "772/772 [==============================] - 11s 14ms/step - loss: 0.0453 - accuracy: 0.9822 - val_loss: 0.1563 - val_accuracy: 0.9258\n",
      "Epoch 41/250\n",
      "772/772 [==============================] - 11s 15ms/step - loss: 0.0415 - accuracy: 0.9834 - val_loss: 0.1248 - val_accuracy: 0.9392\n",
      "Epoch 42/250\n",
      "772/772 [==============================] - 12s 15ms/step - loss: 0.0429 - accuracy: 0.9826 - val_loss: 0.1246 - val_accuracy: 0.9370\n",
      "Epoch 43/250\n",
      "772/772 [==============================] - 11s 14ms/step - loss: 0.0428 - accuracy: 0.9833 - val_loss: 0.1285 - val_accuracy: 0.9365\n",
      "Epoch 44/250\n",
      "772/772 [==============================] - 11s 14ms/step - loss: 0.0438 - accuracy: 0.9832 - val_loss: 0.1551 - val_accuracy: 0.9283\n",
      "Epoch 45/250\n",
      "772/772 [==============================] - 11s 15ms/step - loss: 0.0415 - accuracy: 0.9832 - val_loss: 0.1834 - val_accuracy: 0.9227\n",
      "Epoch 46/250\n",
      "772/772 [==============================] - 11s 14ms/step - loss: 0.0395 - accuracy: 0.9839 - val_loss: 0.1197 - val_accuracy: 0.9395\n",
      "Epoch 47/250\n",
      "772/772 [==============================] - 11s 14ms/step - loss: 0.0409 - accuracy: 0.9838 - val_loss: 0.1289 - val_accuracy: 0.9382\n",
      "Epoch 48/250\n",
      "772/772 [==============================] - 11s 15ms/step - loss: 0.0385 - accuracy: 0.9847 - val_loss: 0.1352 - val_accuracy: 0.9334\n",
      "Epoch 49/250\n",
      "772/772 [==============================] - 12s 15ms/step - loss: 0.0413 - accuracy: 0.9836 - val_loss: 0.1257 - val_accuracy: 0.9393\n",
      "Epoch 50/250\n",
      "772/772 [==============================] - 11s 15ms/step - loss: 0.0394 - accuracy: 0.9836 - val_loss: 0.0930 - val_accuracy: 0.9468\n",
      "Epoch 51/250\n",
      "772/772 [==============================] - 12s 16ms/step - loss: 0.0398 - accuracy: 0.9842 - val_loss: 0.1518 - val_accuracy: 0.9315\n",
      "Epoch 52/250\n",
      "772/772 [==============================] - 12s 16ms/step - loss: 0.0372 - accuracy: 0.9849 - val_loss: 0.1132 - val_accuracy: 0.9436\n",
      "Epoch 53/250\n",
      "772/772 [==============================] - 12s 15ms/step - loss: 0.0380 - accuracy: 0.9848 - val_loss: 0.1162 - val_accuracy: 0.9406\n",
      "Epoch 54/250\n",
      "772/772 [==============================] - 12s 15ms/step - loss: 0.0372 - accuracy: 0.9846 - val_loss: 0.1181 - val_accuracy: 0.9418\n",
      "Epoch 55/250\n",
      "772/772 [==============================] - 12s 15ms/step - loss: 0.0386 - accuracy: 0.9842 - val_loss: 0.1267 - val_accuracy: 0.9364\n",
      "Epoch 56/250\n",
      "772/772 [==============================] - 11s 15ms/step - loss: 0.0376 - accuracy: 0.9845 - val_loss: 0.1163 - val_accuracy: 0.9421\n",
      "Epoch 57/250\n",
      "772/772 [==============================] - 11s 15ms/step - loss: 0.0352 - accuracy: 0.9853 - val_loss: 0.1059 - val_accuracy: 0.9430\n",
      "Epoch 58/250\n",
      "772/772 [==============================] - 12s 15ms/step - loss: 0.0375 - accuracy: 0.9848 - val_loss: 0.1143 - val_accuracy: 0.9419\n",
      "Epoch 59/250\n",
      "772/772 [==============================] - 13s 17ms/step - loss: 0.0372 - accuracy: 0.9844 - val_loss: 0.1118 - val_accuracy: 0.9422\n",
      "Epoch 60/250\n",
      "772/772 [==============================] - 12s 15ms/step - loss: 0.0362 - accuracy: 0.9850 - val_loss: 0.1648 - val_accuracy: 0.9282\n",
      "Epoch 61/250\n",
      "772/772 [==============================] - 11s 15ms/step - loss: 0.0341 - accuracy: 0.9859 - val_loss: 0.1209 - val_accuracy: 0.9408\n",
      "Epoch 62/250\n",
      "772/772 [==============================] - 11s 15ms/step - loss: 0.0373 - accuracy: 0.9848 - val_loss: 0.1612 - val_accuracy: 0.9255\n",
      "Epoch 63/250\n",
      "772/772 [==============================] - 12s 16ms/step - loss: 0.0358 - accuracy: 0.9852 - val_loss: 0.1371 - val_accuracy: 0.9369\n",
      "Epoch 64/250\n",
      "772/772 [==============================] - 11s 14ms/step - loss: 0.0377 - accuracy: 0.9854 - val_loss: 0.1041 - val_accuracy: 0.9438\n",
      "Epoch 65/250\n",
      "772/772 [==============================] - 11s 15ms/step - loss: 0.0359 - accuracy: 0.9851 - val_loss: 0.1168 - val_accuracy: 0.9406\n",
      "Epoch 66/250\n",
      "772/772 [==============================] - 11s 15ms/step - loss: 0.0348 - accuracy: 0.9855 - val_loss: 0.1258 - val_accuracy: 0.9393\n",
      "Epoch 67/250\n",
      "772/772 [==============================] - 11s 14ms/step - loss: 0.0346 - accuracy: 0.9853 - val_loss: 0.0978 - val_accuracy: 0.9472\n",
      "Epoch 68/250\n",
      "772/772 [==============================] - 11s 15ms/step - loss: 0.0348 - accuracy: 0.9852 - val_loss: 0.1084 - val_accuracy: 0.9455\n",
      "Epoch 69/250\n",
      "772/772 [==============================] - 11s 15ms/step - loss: 0.0351 - accuracy: 0.9854 - val_loss: 0.1237 - val_accuracy: 0.9398\n",
      "Epoch 70/250\n",
      "772/772 [==============================] - 11s 15ms/step - loss: 0.0330 - accuracy: 0.9860 - val_loss: 0.1352 - val_accuracy: 0.9339\n",
      "Epoch 71/250\n",
      "772/772 [==============================] - 11s 15ms/step - loss: 0.0344 - accuracy: 0.9860 - val_loss: 0.1070 - val_accuracy: 0.9440\n",
      "Epoch 72/250\n",
      "772/772 [==============================] - 11s 14ms/step - loss: 0.0326 - accuracy: 0.9859 - val_loss: 0.1692 - val_accuracy: 0.9260\n",
      "Epoch 73/250\n",
      "772/772 [==============================] - 11s 15ms/step - loss: 0.0352 - accuracy: 0.9855 - val_loss: 0.1215 - val_accuracy: 0.9387\n",
      "Epoch 74/250\n",
      "772/772 [==============================] - 12s 15ms/step - loss: 0.0325 - accuracy: 0.9863 - val_loss: 0.1106 - val_accuracy: 0.9441\n",
      "Epoch 75/250\n",
      "772/772 [==============================] - 11s 15ms/step - loss: 0.0323 - accuracy: 0.9864 - val_loss: 0.0953 - val_accuracy: 0.9471\n",
      "Epoch 76/250\n",
      "772/772 [==============================] - 13s 17ms/step - loss: 0.0333 - accuracy: 0.9860 - val_loss: 0.1076 - val_accuracy: 0.9457\n",
      "Epoch 77/250\n",
      "772/772 [==============================] - 14s 18ms/step - loss: 0.0334 - accuracy: 0.9859 - val_loss: 0.1098 - val_accuracy: 0.9415\n",
      "Epoch 78/250\n",
      "772/772 [==============================] - 12s 16ms/step - loss: 0.0335 - accuracy: 0.9858 - val_loss: 0.1454 - val_accuracy: 0.9380\n",
      "Epoch 79/250\n",
      "772/772 [==============================] - 12s 15ms/step - loss: 0.0331 - accuracy: 0.9862 - val_loss: 0.1621 - val_accuracy: 0.9325\n",
      "Epoch 80/250\n",
      "772/772 [==============================] - 14s 19ms/step - loss: 0.0304 - accuracy: 0.9871 - val_loss: 0.1284 - val_accuracy: 0.9411\n",
      "Epoch 81/250\n",
      "772/772 [==============================] - 13s 16ms/step - loss: 0.0349 - accuracy: 0.9853 - val_loss: 0.1391 - val_accuracy: 0.9353\n",
      "Epoch 82/250\n",
      "772/772 [==============================] - 13s 16ms/step - loss: 0.0345 - accuracy: 0.9859 - val_loss: 0.1356 - val_accuracy: 0.9380\n",
      "Epoch 83/250\n",
      "772/772 [==============================] - 12s 16ms/step - loss: 0.0318 - accuracy: 0.9864 - val_loss: 0.0997 - val_accuracy: 0.9453\n",
      "Epoch 84/250\n",
      "772/772 [==============================] - 11s 14ms/step - loss: 0.0311 - accuracy: 0.9868 - val_loss: 0.1489 - val_accuracy: 0.9321\n",
      "Epoch 85/250\n",
      "772/772 [==============================] - 11s 15ms/step - loss: 0.0306 - accuracy: 0.9869 - val_loss: 0.1277 - val_accuracy: 0.9386\n",
      "Epoch 86/250\n",
      "772/772 [==============================] - 11s 15ms/step - loss: 0.0345 - accuracy: 0.9857 - val_loss: 0.1104 - val_accuracy: 0.9432\n",
      "Epoch 87/250\n",
      "772/772 [==============================] - 11s 14ms/step - loss: 0.0310 - accuracy: 0.9868 - val_loss: 0.1023 - val_accuracy: 0.9472\n",
      "Epoch 88/250\n",
      "772/772 [==============================] - 11s 14ms/step - loss: 0.0297 - accuracy: 0.9873 - val_loss: 0.1182 - val_accuracy: 0.9453\n",
      "Epoch 89/250\n",
      "772/772 [==============================] - 12s 15ms/step - loss: 0.0326 - accuracy: 0.9862 - val_loss: 0.1353 - val_accuracy: 0.9372\n",
      "Epoch 90/250\n",
      "772/772 [==============================] - 11s 15ms/step - loss: 0.0331 - accuracy: 0.9858 - val_loss: 0.1100 - val_accuracy: 0.9440\n",
      "Epoch 91/250\n",
      "772/772 [==============================] - 11s 14ms/step - loss: 0.0309 - accuracy: 0.9869 - val_loss: 0.1351 - val_accuracy: 0.9389\n",
      "Epoch 92/250\n",
      "772/772 [==============================] - 11s 14ms/step - loss: 0.0340 - accuracy: 0.9863 - val_loss: 0.1288 - val_accuracy: 0.9379\n",
      "Epoch 93/250\n",
      "772/772 [==============================] - 11s 15ms/step - loss: 0.0297 - accuracy: 0.9869 - val_loss: 0.1082 - val_accuracy: 0.9459\n",
      "Epoch 94/250\n",
      "772/772 [==============================] - 11s 15ms/step - loss: 0.0330 - accuracy: 0.9860 - val_loss: 0.1297 - val_accuracy: 0.9359\n",
      "Epoch 95/250\n",
      "772/772 [==============================] - 11s 14ms/step - loss: 0.0299 - accuracy: 0.9870 - val_loss: 0.1489 - val_accuracy: 0.9360\n",
      "Epoch 96/250\n",
      "772/772 [==============================] - 11s 15ms/step - loss: 0.0312 - accuracy: 0.9868 - val_loss: 0.1151 - val_accuracy: 0.9427\n",
      "Epoch 97/250\n",
      "772/772 [==============================] - 11s 14ms/step - loss: 0.0298 - accuracy: 0.9873 - val_loss: 0.1130 - val_accuracy: 0.9457\n",
      "Epoch 98/250\n",
      "772/772 [==============================] - 11s 14ms/step - loss: 0.0319 - accuracy: 0.9865 - val_loss: 0.1165 - val_accuracy: 0.9443\n",
      "Epoch 99/250\n",
      "772/772 [==============================] - 11s 15ms/step - loss: 0.0296 - accuracy: 0.9875 - val_loss: 0.1247 - val_accuracy: 0.9388\n",
      "Epoch 100/250\n",
      "772/772 [==============================] - 12s 15ms/step - loss: 0.0313 - accuracy: 0.9869 - val_loss: 0.1358 - val_accuracy: 0.9384\n",
      "Epoch 101/250\n",
      "772/772 [==============================] - 12s 15ms/step - loss: 0.0370 - accuracy: 0.9864 - val_loss: 0.1120 - val_accuracy: 0.9445\n",
      "Epoch 102/250\n",
      "772/772 [==============================] - 11s 15ms/step - loss: 0.0314 - accuracy: 0.9866 - val_loss: 0.1212 - val_accuracy: 0.9418\n",
      "Epoch 103/250\n",
      "772/772 [==============================] - 11s 15ms/step - loss: 0.0301 - accuracy: 0.9870 - val_loss: 0.1128 - val_accuracy: 0.9449\n",
      "Epoch 104/250\n",
      "772/772 [==============================] - 12s 15ms/step - loss: 0.0302 - accuracy: 0.9869 - val_loss: 0.1241 - val_accuracy: 0.9413\n",
      "Epoch 105/250\n",
      "772/772 [==============================] - 11s 14ms/step - loss: 0.0298 - accuracy: 0.9870 - val_loss: 0.1326 - val_accuracy: 0.9378\n",
      "Epoch 106/250\n",
      "772/772 [==============================] - 11s 15ms/step - loss: 0.0305 - accuracy: 0.9871 - val_loss: 0.1299 - val_accuracy: 0.9409\n",
      "Epoch 107/250\n",
      "772/772 [==============================] - 11s 15ms/step - loss: 0.0324 - accuracy: 0.9867 - val_loss: 0.1083 - val_accuracy: 0.9446\n",
      "Epoch 108/250\n",
      "772/772 [==============================] - 11s 15ms/step - loss: 0.0295 - accuracy: 0.9871 - val_loss: 0.1221 - val_accuracy: 0.9414\n",
      "Epoch 109/250\n",
      "772/772 [==============================] - 11s 15ms/step - loss: 0.0307 - accuracy: 0.9869 - val_loss: 0.1129 - val_accuracy: 0.9446\n",
      "Epoch 110/250\n",
      "772/772 [==============================] - 12s 15ms/step - loss: 0.0272 - accuracy: 0.9880 - val_loss: 0.1508 - val_accuracy: 0.9339\n",
      "Epoch 111/250\n",
      "772/772 [==============================] - 12s 15ms/step - loss: 0.0305 - accuracy: 0.9869 - val_loss: 0.1067 - val_accuracy: 0.9441\n",
      "Epoch 112/250\n",
      "772/772 [==============================] - 11s 15ms/step - loss: 0.0375 - accuracy: 0.9860 - val_loss: 0.1448 - val_accuracy: 0.9347\n",
      "Epoch 113/250\n"
     ]
    },
    {
     "name": "stdout",
     "output_type": "stream",
     "text": [
      "772/772 [==============================] - 11s 15ms/step - loss: 0.0314 - accuracy: 0.9867 - val_loss: 0.1364 - val_accuracy: 0.9375\n",
      "Epoch 114/250\n",
      "772/772 [==============================] - 11s 15ms/step - loss: 0.0291 - accuracy: 0.9875 - val_loss: 0.1263 - val_accuracy: 0.9400\n",
      "Epoch 115/250\n",
      "772/772 [==============================] - 11s 15ms/step - loss: 0.0290 - accuracy: 0.9874 - val_loss: 0.1093 - val_accuracy: 0.9447\n",
      "Epoch 116/250\n",
      "772/772 [==============================] - 11s 15ms/step - loss: 0.0302 - accuracy: 0.9871 - val_loss: 0.1207 - val_accuracy: 0.9397\n",
      "Epoch 117/250\n",
      "772/772 [==============================] - 12s 15ms/step - loss: 0.0290 - accuracy: 0.9874 - val_loss: 0.1317 - val_accuracy: 0.9401\n",
      "Epoch 118/250\n",
      "772/772 [==============================] - 11s 15ms/step - loss: 0.0270 - accuracy: 0.9882 - val_loss: 0.1079 - val_accuracy: 0.9451\n",
      "Epoch 119/250\n",
      "772/772 [==============================] - 11s 14ms/step - loss: 0.0301 - accuracy: 0.9868 - val_loss: 0.1300 - val_accuracy: 0.9417\n",
      "Epoch 120/250\n",
      "772/772 [==============================] - 11s 15ms/step - loss: 0.0303 - accuracy: 0.9872 - val_loss: 0.1087 - val_accuracy: 0.9452\n",
      "Epoch 121/250\n",
      "772/772 [==============================] - 12s 15ms/step - loss: 0.0283 - accuracy: 0.9877 - val_loss: 0.1205 - val_accuracy: 0.9431\n",
      "Epoch 122/250\n",
      "772/772 [==============================] - 11s 14ms/step - loss: 0.0316 - accuracy: 0.9867 - val_loss: 0.1055 - val_accuracy: 0.9452\n",
      "Epoch 123/250\n",
      "772/772 [==============================] - 11s 15ms/step - loss: 0.0291 - accuracy: 0.9872 - val_loss: 0.1108 - val_accuracy: 0.9455\n",
      "Epoch 124/250\n",
      "772/772 [==============================] - 11s 15ms/step - loss: 0.0350 - accuracy: 0.9869 - val_loss: 0.1162 - val_accuracy: 0.9426\n",
      "Epoch 125/250\n",
      "772/772 [==============================] - 11s 14ms/step - loss: 0.0298 - accuracy: 0.9871 - val_loss: 0.1025 - val_accuracy: 0.9465\n",
      "Epoch 126/250\n",
      "772/772 [==============================] - 12s 15ms/step - loss: 0.0282 - accuracy: 0.9876 - val_loss: 0.1129 - val_accuracy: 0.9433\n",
      "Epoch 127/250\n",
      "772/772 [==============================] - 12s 15ms/step - loss: 0.0271 - accuracy: 0.9880 - val_loss: 0.1436 - val_accuracy: 0.9383\n",
      "Epoch 128/250\n",
      "772/772 [==============================] - 12s 15ms/step - loss: 0.0285 - accuracy: 0.9876 - val_loss: 0.1191 - val_accuracy: 0.9429\n",
      "Epoch 129/250\n",
      "772/772 [==============================] - 12s 15ms/step - loss: 0.0305 - accuracy: 0.9872 - val_loss: 0.1207 - val_accuracy: 0.9410\n",
      "Epoch 130/250\n",
      "772/772 [==============================] - 11s 15ms/step - loss: 0.0300 - accuracy: 0.9871 - val_loss: 0.1125 - val_accuracy: 0.9433\n",
      "Epoch 131/250\n",
      "772/772 [==============================] - 11s 15ms/step - loss: 0.0279 - accuracy: 0.9877 - val_loss: 0.1163 - val_accuracy: 0.9441\n",
      "Epoch 132/250\n",
      "772/772 [==============================] - 12s 15ms/step - loss: 0.0296 - accuracy: 0.9875 - val_loss: 0.1231 - val_accuracy: 0.9430\n",
      "Epoch 133/250\n",
      "772/772 [==============================] - 11s 14ms/step - loss: 0.0294 - accuracy: 0.9875 - val_loss: 0.1139 - val_accuracy: 0.9453\n",
      "Epoch 134/250\n",
      "772/772 [==============================] - 12s 15ms/step - loss: 0.0298 - accuracy: 0.9871 - val_loss: 0.1225 - val_accuracy: 0.9423\n",
      "Epoch 135/250\n",
      "772/772 [==============================] - 11s 15ms/step - loss: 0.0276 - accuracy: 0.9879 - val_loss: 0.1230 - val_accuracy: 0.9422\n",
      "Epoch 136/250\n",
      "772/772 [==============================] - 11s 14ms/step - loss: 0.0295 - accuracy: 0.9872 - val_loss: 0.1010 - val_accuracy: 0.9474\n",
      "Epoch 137/250\n",
      "772/772 [==============================] - 12s 15ms/step - loss: 0.0300 - accuracy: 0.9873 - val_loss: 0.0979 - val_accuracy: 0.9478\n",
      "Epoch 138/250\n",
      "772/772 [==============================] - 12s 15ms/step - loss: 0.0266 - accuracy: 0.9882 - val_loss: 0.1272 - val_accuracy: 0.9420\n",
      "Epoch 139/250\n",
      "772/772 [==============================] - 11s 15ms/step - loss: 0.0297 - accuracy: 0.9874 - val_loss: 0.1094 - val_accuracy: 0.9449\n",
      "Epoch 140/250\n",
      "772/772 [==============================] - 12s 15ms/step - loss: 0.0295 - accuracy: 0.9872 - val_loss: 0.1233 - val_accuracy: 0.9408\n",
      "Epoch 141/250\n",
      "772/772 [==============================] - 12s 15ms/step - loss: 0.0278 - accuracy: 0.9878 - val_loss: 0.1431 - val_accuracy: 0.9387\n",
      "Epoch 142/250\n",
      "772/772 [==============================] - 12s 15ms/step - loss: 0.0274 - accuracy: 0.9880 - val_loss: 0.0971 - val_accuracy: 0.9483\n",
      "Epoch 143/250\n",
      "772/772 [==============================] - 11s 15ms/step - loss: 0.0300 - accuracy: 0.9872 - val_loss: 0.1376 - val_accuracy: 0.9390\n",
      "Epoch 144/250\n",
      "772/772 [==============================] - 12s 15ms/step - loss: 0.0258 - accuracy: 0.9884 - val_loss: 0.1154 - val_accuracy: 0.9449\n",
      "Epoch 145/250\n",
      "772/772 [==============================] - 12s 15ms/step - loss: 0.0272 - accuracy: 0.9882 - val_loss: 0.1231 - val_accuracy: 0.9417\n",
      "Epoch 146/250\n",
      "772/772 [==============================] - 12s 16ms/step - loss: 0.0319 - accuracy: 0.9865 - val_loss: 0.1281 - val_accuracy: 0.9417\n",
      "Epoch 147/250\n",
      "772/772 [==============================] - 12s 15ms/step - loss: 0.0293 - accuracy: 0.9871 - val_loss: 0.1210 - val_accuracy: 0.9417\n",
      "Epoch 148/250\n",
      "772/772 [==============================] - 12s 15ms/step - loss: 0.0268 - accuracy: 0.9880 - val_loss: 0.1297 - val_accuracy: 0.9425\n",
      "Epoch 149/250\n",
      "772/772 [==============================] - 12s 15ms/step - loss: 0.0332 - accuracy: 0.9875 - val_loss: 0.1250 - val_accuracy: 0.9421\n",
      "Epoch 150/250\n",
      "772/772 [==============================] - 11s 15ms/step - loss: 0.0342 - accuracy: 0.9858 - val_loss: 0.1431 - val_accuracy: 0.9352\n",
      "Epoch 151/250\n",
      "772/772 [==============================] - 11s 15ms/step - loss: 0.0283 - accuracy: 0.9880 - val_loss: 0.1153 - val_accuracy: 0.9419\n",
      "Epoch 152/250\n",
      "772/772 [==============================] - 12s 15ms/step - loss: 0.0245 - accuracy: 0.9888 - val_loss: 0.1128 - val_accuracy: 0.9459\n",
      "Epoch 153/250\n",
      "772/772 [==============================] - 12s 15ms/step - loss: 0.0268 - accuracy: 0.9882 - val_loss: 0.1057 - val_accuracy: 0.9473\n",
      "Epoch 154/250\n",
      "772/772 [==============================] - 11s 15ms/step - loss: 0.0306 - accuracy: 0.9869 - val_loss: 0.1240 - val_accuracy: 0.9391\n",
      "Epoch 155/250\n",
      "772/772 [==============================] - 12s 15ms/step - loss: 0.0273 - accuracy: 0.9881 - val_loss: 0.1155 - val_accuracy: 0.9407\n",
      "Epoch 156/250\n",
      "772/772 [==============================] - 12s 15ms/step - loss: 0.0279 - accuracy: 0.9879 - val_loss: 0.1170 - val_accuracy: 0.9445\n",
      "Epoch 157/250\n",
      "772/772 [==============================] - 12s 15ms/step - loss: 0.0291 - accuracy: 0.9876 - val_loss: 0.1179 - val_accuracy: 0.9418\n",
      "Epoch 158/250\n",
      "772/772 [==============================] - 11s 15ms/step - loss: 0.0277 - accuracy: 0.9877 - val_loss: 0.1288 - val_accuracy: 0.9420\n",
      "Epoch 159/250\n",
      "772/772 [==============================] - 12s 15ms/step - loss: 0.0272 - accuracy: 0.9880 - val_loss: 0.1099 - val_accuracy: 0.9447\n",
      "Epoch 160/250\n",
      "772/772 [==============================] - 12s 15ms/step - loss: 0.0314 - accuracy: 0.9873 - val_loss: 0.1279 - val_accuracy: 0.9411\n",
      "Epoch 161/250\n",
      "772/772 [==============================] - 12s 15ms/step - loss: 0.0290 - accuracy: 0.9879 - val_loss: 0.1066 - val_accuracy: 0.9442\n",
      "Epoch 162/250\n",
      "772/772 [==============================] - 11s 14ms/step - loss: 0.0273 - accuracy: 0.9880 - val_loss: 0.1068 - val_accuracy: 0.9457\n",
      "Epoch 163/250\n",
      "772/772 [==============================] - 12s 15ms/step - loss: 0.0267 - accuracy: 0.9880 - val_loss: 0.1198 - val_accuracy: 0.9425\n",
      "Epoch 164/250\n",
      "772/772 [==============================] - 12s 15ms/step - loss: 0.0286 - accuracy: 0.9878 - val_loss: 0.1208 - val_accuracy: 0.9422\n",
      "Epoch 165/250\n",
      "772/772 [==============================] - 11s 15ms/step - loss: 0.0270 - accuracy: 0.9881 - val_loss: 0.1250 - val_accuracy: 0.9410\n",
      "Epoch 166/250\n",
      "772/772 [==============================] - 12s 15ms/step - loss: 0.0287 - accuracy: 0.9877 - val_loss: 0.1220 - val_accuracy: 0.9422\n",
      "Epoch 167/250\n",
      "772/772 [==============================] - 12s 15ms/step - loss: 0.0278 - accuracy: 0.9879 - val_loss: 0.1128 - val_accuracy: 0.9440\n",
      "Epoch 168/250\n",
      "772/772 [==============================] - 11s 15ms/step - loss: 0.0270 - accuracy: 0.9882 - val_loss: 0.1153 - val_accuracy: 0.9420\n",
      "Epoch 169/250\n",
      "772/772 [==============================] - 11s 15ms/step - loss: 0.0486 - accuracy: 0.9865 - val_loss: 0.0939 - val_accuracy: 0.9485\n",
      "Epoch 170/250\n",
      "772/772 [==============================] - 11s 15ms/step - loss: 0.0294 - accuracy: 0.9873 - val_loss: 0.1025 - val_accuracy: 0.9482\n",
      "Epoch 171/250\n",
      "772/772 [==============================] - 11s 15ms/step - loss: 0.0256 - accuracy: 0.9885 - val_loss: 0.1021 - val_accuracy: 0.9489\n",
      "Epoch 172/250\n",
      "772/772 [==============================] - 11s 14ms/step - loss: 0.0256 - accuracy: 0.9887 - val_loss: 0.1152 - val_accuracy: 0.9447\n",
      "Epoch 173/250\n",
      "772/772 [==============================] - 11s 15ms/step - loss: 0.0301 - accuracy: 0.9870 - val_loss: 0.1327 - val_accuracy: 0.9378\n",
      "Epoch 174/250\n",
      "772/772 [==============================] - 11s 15ms/step - loss: 0.0281 - accuracy: 0.9879 - val_loss: 0.1117 - val_accuracy: 0.9433\n",
      "Epoch 175/250\n",
      "772/772 [==============================] - 11s 14ms/step - loss: 0.0269 - accuracy: 0.9882 - val_loss: 0.1129 - val_accuracy: 0.9454\n",
      "Epoch 176/250\n",
      "772/772 [==============================] - 11s 15ms/step - loss: 0.0255 - accuracy: 0.9886 - val_loss: 0.1241 - val_accuracy: 0.9427\n",
      "Epoch 177/250\n",
      "772/772 [==============================] - 12s 15ms/step - loss: 0.0368 - accuracy: 0.9864 - val_loss: 0.1484 - val_accuracy: 0.9379\n",
      "Epoch 178/250\n",
      "772/772 [==============================] - 12s 15ms/step - loss: 0.0292 - accuracy: 0.9873 - val_loss: 0.1253 - val_accuracy: 0.9422\n",
      "Epoch 179/250\n",
      "772/772 [==============================] - 10s 12ms/step - loss: 0.0249 - accuracy: 0.9886 - val_loss: 0.1378 - val_accuracy: 0.9419\n",
      "Epoch 180/250\n",
      "772/772 [==============================] - 11s 14ms/step - loss: 0.0258 - accuracy: 0.9886 - val_loss: 0.1463 - val_accuracy: 0.9394\n",
      "Epoch 181/250\n",
      "772/772 [==============================] - 12s 15ms/step - loss: 0.0294 - accuracy: 0.9874 - val_loss: 0.1355 - val_accuracy: 0.9386\n",
      "Epoch 182/250\n",
      "772/772 [==============================] - 11s 14ms/step - loss: 0.0288 - accuracy: 0.9878 - val_loss: 0.1375 - val_accuracy: 0.9387\n",
      "Epoch 183/250\n",
      "772/772 [==============================] - 12s 15ms/step - loss: 0.0267 - accuracy: 0.9883 - val_loss: 0.1050 - val_accuracy: 0.9467\n",
      "Epoch 184/250\n",
      "772/772 [==============================] - 11s 15ms/step - loss: 0.0265 - accuracy: 0.9881 - val_loss: 0.1123 - val_accuracy: 0.9447\n",
      "Epoch 185/250\n",
      "772/772 [==============================] - 11s 15ms/step - loss: 0.0285 - accuracy: 0.9881 - val_loss: 0.1078 - val_accuracy: 0.9402\n",
      "Epoch 186/250\n",
      "772/772 [==============================] - 11s 15ms/step - loss: 0.0283 - accuracy: 0.9877 - val_loss: 0.1014 - val_accuracy: 0.9458\n",
      "Epoch 187/250\n",
      "772/772 [==============================] - 12s 15ms/step - loss: 0.0269 - accuracy: 0.9881 - val_loss: 0.1085 - val_accuracy: 0.9469\n",
      "Epoch 188/250\n",
      "772/772 [==============================] - 11s 15ms/step - loss: 0.0269 - accuracy: 0.9882 - val_loss: 0.1290 - val_accuracy: 0.9411\n",
      "Epoch 189/250\n",
      "772/772 [==============================] - 11s 14ms/step - loss: 0.0266 - accuracy: 0.9882 - val_loss: 0.1158 - val_accuracy: 0.9462\n",
      "Epoch 190/250\n",
      "772/772 [==============================] - 12s 15ms/step - loss: 0.0270 - accuracy: 0.9880 - val_loss: 0.1019 - val_accuracy: 0.9469\n",
      "Epoch 191/250\n",
      "772/772 [==============================] - 11s 15ms/step - loss: 0.0285 - accuracy: 0.9879 - val_loss: 0.1069 - val_accuracy: 0.9477\n",
      "Epoch 192/250\n",
      "772/772 [==============================] - 11s 14ms/step - loss: 0.0269 - accuracy: 0.9880 - val_loss: 0.1032 - val_accuracy: 0.9445\n",
      "Epoch 193/250\n",
      "772/772 [==============================] - 11s 15ms/step - loss: 0.0266 - accuracy: 0.9882 - val_loss: 0.1237 - val_accuracy: 0.9426\n",
      "Epoch 194/250\n",
      "772/772 [==============================] - 11s 15ms/step - loss: 0.0278 - accuracy: 0.9882 - val_loss: 0.0936 - val_accuracy: 0.9500\n",
      "Epoch 195/250\n",
      "772/772 [==============================] - 11s 15ms/step - loss: 0.0282 - accuracy: 0.9877 - val_loss: 0.0778 - val_accuracy: 0.9527\n",
      "Epoch 196/250\n",
      "772/772 [==============================] - 11s 15ms/step - loss: 0.0280 - accuracy: 0.9878 - val_loss: 0.0965 - val_accuracy: 0.9501\n",
      "Epoch 197/250\n",
      "772/772 [==============================] - 12s 15ms/step - loss: 0.0272 - accuracy: 0.9880 - val_loss: 0.1143 - val_accuracy: 0.9456\n",
      "Epoch 198/250\n",
      "772/772 [==============================] - 12s 15ms/step - loss: 0.0261 - accuracy: 0.9886 - val_loss: 0.1087 - val_accuracy: 0.9455\n",
      "Epoch 199/250\n",
      "772/772 [==============================] - 12s 15ms/step - loss: 0.0238 - accuracy: 0.9890 - val_loss: 0.1359 - val_accuracy: 0.9406\n",
      "Epoch 200/250\n",
      "772/772 [==============================] - 11s 15ms/step - loss: 0.0270 - accuracy: 0.9882 - val_loss: 0.1077 - val_accuracy: 0.9453\n",
      "Epoch 201/250\n",
      "772/772 [==============================] - 12s 15ms/step - loss: 0.0302 - accuracy: 0.9877 - val_loss: 0.1311 - val_accuracy: 0.9393\n",
      "Epoch 202/250\n",
      "772/772 [==============================] - 11s 15ms/step - loss: 0.0273 - accuracy: 0.9879 - val_loss: 0.1354 - val_accuracy: 0.9395\n",
      "Epoch 203/250\n",
      "772/772 [==============================] - 11s 15ms/step - loss: 0.0262 - accuracy: 0.9884 - val_loss: 0.1477 - val_accuracy: 0.9369\n",
      "Epoch 204/250\n",
      "772/772 [==============================] - 11s 15ms/step - loss: 0.0277 - accuracy: 0.9878 - val_loss: 0.1188 - val_accuracy: 0.9417\n",
      "Epoch 205/250\n",
      "772/772 [==============================] - 11s 15ms/step - loss: 0.0273 - accuracy: 0.9881 - val_loss: 0.1028 - val_accuracy: 0.9457\n",
      "Epoch 206/250\n",
      "772/772 [==============================] - 11s 15ms/step - loss: 0.0260 - accuracy: 0.9886 - val_loss: 0.1011 - val_accuracy: 0.9488\n",
      "Epoch 207/250\n",
      "772/772 [==============================] - 11s 15ms/step - loss: 0.0267 - accuracy: 0.9883 - val_loss: 0.1291 - val_accuracy: 0.9400\n",
      "Epoch 208/250\n",
      "772/772 [==============================] - 12s 15ms/step - loss: 0.0252 - accuracy: 0.9887 - val_loss: 0.1010 - val_accuracy: 0.9470\n",
      "Epoch 209/250\n",
      "772/772 [==============================] - 12s 15ms/step - loss: 0.0284 - accuracy: 0.9876 - val_loss: 0.1102 - val_accuracy: 0.9461\n",
      "Epoch 210/250\n",
      "772/772 [==============================] - 11s 14ms/step - loss: 0.0304 - accuracy: 0.9874 - val_loss: 0.1111 - val_accuracy: 0.9444\n",
      "Epoch 211/250\n",
      "772/772 [==============================] - 12s 15ms/step - loss: 0.0278 - accuracy: 0.9880 - val_loss: 0.1066 - val_accuracy: 0.9464\n",
      "Epoch 212/250\n",
      "772/772 [==============================] - 11s 15ms/step - loss: 0.0269 - accuracy: 0.9882 - val_loss: 0.1240 - val_accuracy: 0.9429\n",
      "Epoch 213/250\n",
      "772/772 [==============================] - 11s 14ms/step - loss: 0.0255 - accuracy: 0.9886 - val_loss: 0.1060 - val_accuracy: 0.9468\n",
      "Epoch 214/250\n",
      "772/772 [==============================] - 11s 14ms/step - loss: 0.0297 - accuracy: 0.9883 - val_loss: 0.1239 - val_accuracy: 0.9327\n",
      "Epoch 215/250\n",
      "772/772 [==============================] - 11s 15ms/step - loss: 0.0278 - accuracy: 0.9878 - val_loss: 0.0999 - val_accuracy: 0.9446\n",
      "Epoch 216/250\n",
      "772/772 [==============================] - 11s 15ms/step - loss: 0.0257 - accuracy: 0.9887 - val_loss: 0.0943 - val_accuracy: 0.9502\n",
      "Epoch 217/250\n",
      "772/772 [==============================] - 12s 15ms/step - loss: 0.0264 - accuracy: 0.9881 - val_loss: 0.0990 - val_accuracy: 0.9487\n",
      "Epoch 218/250\n",
      "772/772 [==============================] - 11s 15ms/step - loss: 0.0269 - accuracy: 0.9882 - val_loss: 0.1347 - val_accuracy: 0.9398\n",
      "Epoch 219/250\n",
      "772/772 [==============================] - 11s 15ms/step - loss: 0.0262 - accuracy: 0.9884 - val_loss: 0.1231 - val_accuracy: 0.9427\n",
      "Epoch 220/250\n",
      "772/772 [==============================] - 11s 14ms/step - loss: 0.0297 - accuracy: 0.9882 - val_loss: 0.1158 - val_accuracy: 0.9423\n",
      "Epoch 221/250\n",
      "772/772 [==============================] - 11s 15ms/step - loss: 0.0280 - accuracy: 0.9881 - val_loss: 0.1143 - val_accuracy: 0.9429\n",
      "Epoch 222/250\n",
      "772/772 [==============================] - 11s 15ms/step - loss: 0.0263 - accuracy: 0.9882 - val_loss: 0.1205 - val_accuracy: 0.9410\n",
      "Epoch 223/250\n"
     ]
    },
    {
     "name": "stdout",
     "output_type": "stream",
     "text": [
      "772/772 [==============================] - 11s 14ms/step - loss: 0.0268 - accuracy: 0.9882 - val_loss: 0.1129 - val_accuracy: 0.9440\n",
      "Epoch 224/250\n",
      "772/772 [==============================] - 11s 14ms/step - loss: 0.0252 - accuracy: 0.9887 - val_loss: 0.0949 - val_accuracy: 0.9498\n",
      "Epoch 225/250\n",
      "772/772 [==============================] - 11s 14ms/step - loss: 0.0261 - accuracy: 0.9885 - val_loss: 0.0945 - val_accuracy: 0.9491\n",
      "Epoch 226/250\n",
      "772/772 [==============================] - 11s 14ms/step - loss: 0.0268 - accuracy: 0.9882 - val_loss: 0.1542 - val_accuracy: 0.9335\n",
      "Epoch 227/250\n",
      "772/772 [==============================] - 11s 14ms/step - loss: 0.0286 - accuracy: 0.9879 - val_loss: 0.1097 - val_accuracy: 0.9436\n",
      "Epoch 228/250\n",
      "772/772 [==============================] - 11s 14ms/step - loss: 0.0294 - accuracy: 0.9877 - val_loss: 0.1304 - val_accuracy: 0.9428\n",
      "Epoch 229/250\n",
      "772/772 [==============================] - 11s 14ms/step - loss: 0.0257 - accuracy: 0.9886 - val_loss: 0.1036 - val_accuracy: 0.9472\n",
      "Epoch 230/250\n",
      "772/772 [==============================] - 11s 14ms/step - loss: 0.0249 - accuracy: 0.9889 - val_loss: 0.0935 - val_accuracy: 0.9497\n",
      "Epoch 231/250\n",
      "772/772 [==============================] - 12s 15ms/step - loss: 0.0253 - accuracy: 0.9888 - val_loss: 0.1064 - val_accuracy: 0.9460\n",
      "Epoch 232/250\n",
      "772/772 [==============================] - 11s 14ms/step - loss: 0.0281 - accuracy: 0.9878 - val_loss: 0.1263 - val_accuracy: 0.9388\n",
      "Epoch 233/250\n",
      "772/772 [==============================] - 11s 14ms/step - loss: 0.0273 - accuracy: 0.9879 - val_loss: 0.1263 - val_accuracy: 0.9440\n",
      "Epoch 234/250\n",
      "772/772 [==============================] - 12s 15ms/step - loss: 0.0313 - accuracy: 0.9883 - val_loss: 0.1545 - val_accuracy: 0.9362\n",
      "Epoch 235/250\n",
      "772/772 [==============================] - 11s 15ms/step - loss: 0.0271 - accuracy: 0.9881 - val_loss: 0.1324 - val_accuracy: 0.9398\n",
      "Epoch 236/250\n",
      "772/772 [==============================] - 11s 14ms/step - loss: 0.0262 - accuracy: 0.9884 - val_loss: 0.1142 - val_accuracy: 0.9457\n",
      "Epoch 237/250\n",
      "772/772 [==============================] - 11s 14ms/step - loss: 0.0257 - accuracy: 0.9886 - val_loss: 0.1107 - val_accuracy: 0.9418\n",
      "Epoch 238/250\n",
      "772/772 [==============================] - 11s 15ms/step - loss: 0.0269 - accuracy: 0.9881 - val_loss: 0.1977 - val_accuracy: 0.9279\n",
      "Epoch 239/250\n",
      "772/772 [==============================] - 11s 14ms/step - loss: 0.0273 - accuracy: 0.9880 - val_loss: 0.1564 - val_accuracy: 0.9338\n",
      "Epoch 240/250\n",
      "772/772 [==============================] - 11s 15ms/step - loss: 0.0269 - accuracy: 0.9882 - val_loss: 0.1094 - val_accuracy: 0.9469\n",
      "Epoch 241/250\n",
      "772/772 [==============================] - 11s 15ms/step - loss: 0.0250 - accuracy: 0.9887 - val_loss: 0.1330 - val_accuracy: 0.9411\n",
      "Epoch 242/250\n",
      "772/772 [==============================] - 11s 15ms/step - loss: 0.0259 - accuracy: 0.9883 - val_loss: 0.1165 - val_accuracy: 0.9463\n",
      "Epoch 243/250\n",
      "772/772 [==============================] - 11s 14ms/step - loss: 0.0274 - accuracy: 0.9882 - val_loss: 0.1261 - val_accuracy: 0.9351\n",
      "Epoch 244/250\n",
      "772/772 [==============================] - 11s 15ms/step - loss: 0.0274 - accuracy: 0.9882 - val_loss: 0.1327 - val_accuracy: 0.9404\n",
      "Epoch 245/250\n",
      "772/772 [==============================] - 11s 15ms/step - loss: 0.0259 - accuracy: 0.9884 - val_loss: 0.1487 - val_accuracy: 0.9406\n",
      "Epoch 246/250\n",
      "772/772 [==============================] - 11s 14ms/step - loss: 0.0267 - accuracy: 0.9884 - val_loss: 0.0959 - val_accuracy: 0.9471\n",
      "Epoch 247/250\n",
      "772/772 [==============================] - 11s 15ms/step - loss: 0.0254 - accuracy: 0.9887 - val_loss: 0.1031 - val_accuracy: 0.9489\n",
      "Epoch 248/250\n",
      "772/772 [==============================] - 11s 15ms/step - loss: 0.0247 - accuracy: 0.9887 - val_loss: 0.1143 - val_accuracy: 0.9464\n",
      "Epoch 249/250\n",
      "772/772 [==============================] - 11s 15ms/step - loss: 0.0272 - accuracy: 0.9882 - val_loss: 0.1646 - val_accuracy: 0.9369\n",
      "Epoch 250/250\n",
      "772/772 [==============================] - 12s 15ms/step - loss: 0.0292 - accuracy: 0.9876 - val_loss: 0.1941 - val_accuracy: 0.9301\n"
     ]
    },
    {
     "data": {
      "text/plain": [
       "<keras.callbacks.History at 0x238a053a610>"
      ]
     },
     "execution_count": 164,
     "metadata": {},
     "output_type": "execute_result"
    }
   ],
   "source": [
    "model.fit(X_train_ns, y_train_ns, epochs=250, batch_size=100, validation_split=0.2, verbose=1)"
   ]
  },
  {
   "cell_type": "code",
   "execution_count": 165,
   "metadata": {},
   "outputs": [
    {
     "name": "stdout",
     "output_type": "stream",
     "text": [
      "904/904 [==============================] - 4s 4ms/step - loss: 0.3067 - accuracy: 0.9702\n",
      "[0.30670690536499023, 0.9701864123344421]\n"
     ]
    }
   ],
   "source": [
    "accuracy = model.evaluate(X_test, y_test)\n",
    "print(accuracy)"
   ]
  },
  {
   "cell_type": "code",
   "execution_count": 166,
   "metadata": {},
   "outputs": [],
   "source": [
    "y_pred_ann = model.predict(X_test)"
   ]
  },
  {
   "cell_type": "code",
   "execution_count": 167,
   "metadata": {},
   "outputs": [],
   "source": [
    "y_pred_ann = (y_pred_ann > 0.5)"
   ]
  },
  {
   "cell_type": "code",
   "execution_count": 168,
   "metadata": {},
   "outputs": [],
   "source": [
    "y_pred_ann = [int(val) for val in y_pred_ann]"
   ]
  },
  {
   "cell_type": "code",
   "execution_count": 169,
   "metadata": {},
   "outputs": [],
   "source": [
    "# Making the Confusion Matrix\n",
    "from sklearn.metrics import confusion_matrix\n",
    "cm = confusion_matrix(y_test, y_pred_ann)"
   ]
  },
  {
   "cell_type": "code",
   "execution_count": 170,
   "metadata": {},
   "outputs": [
    {
     "name": "stdout",
     "output_type": "stream",
     "text": [
      "Accuracy Score 0.9701864213329644\n",
      "Classification report:               precision    recall  f1-score   support\n",
      "\n",
      "           0       1.00      0.97      0.98     28913\n",
      "           1       0.00      0.00      0.00         0\n",
      "\n",
      "    accuracy                           0.97     28913\n",
      "   macro avg       0.50      0.49      0.49     28913\n",
      "weighted avg       1.00      0.97      0.98     28913\n",
      "\n"
     ]
    }
   ],
   "source": [
    "\n",
    "# Calculate the Accuracy\n",
    "from sklearn.metrics import accuracy_score\n",
    "print(\"Accuracy Score {}\".format(accuracy_score(y_test,y_pred_ann)))\n",
    "print(\"Classification report: {}\".format(classification_report(y_test,y_pred_ann)))\n"
   ]
  },
  {
   "cell_type": "code",
   "execution_count": 171,
   "metadata": {},
   "outputs": [
    {
     "name": "stdout",
     "output_type": "stream",
     "text": [
      "0.9701864213329644\n"
     ]
    }
   ],
   "source": [
    "print(accuracy_score(y_test,y_pred_ann))"
   ]
  },
  {
   "cell_type": "code",
   "execution_count": 172,
   "metadata": {},
   "outputs": [],
   "source": [
    "# Converting y_pred to a dataframe which is an array\n",
    "y_pred_2_ann = pd.DataFrame(y_pred_ann)"
   ]
  },
  {
   "cell_type": "code",
   "execution_count": 173,
   "metadata": {},
   "outputs": [
    {
     "data": {
      "text/plain": [
       "0    28051\n",
       "1      862\n",
       "dtype: int64"
      ]
     },
     "execution_count": 173,
     "metadata": {},
     "output_type": "execute_result"
    }
   ],
   "source": [
    "y_pred_2_ann.value_counts()"
   ]
  },
  {
   "cell_type": "code",
   "execution_count": 174,
   "metadata": {},
   "outputs": [],
   "source": [
    "y_pred_2_ann.to_csv('C:/Users/HP/Desktop/DeloitteHackathon/my_submission_file.csv', index=False)"
   ]
  },
  {
   "cell_type": "code",
   "execution_count": null,
   "metadata": {},
   "outputs": [],
   "source": []
  }
 ],
 "metadata": {
  "kernelspec": {
   "display_name": "Python 3",
   "language": "python",
   "name": "python3"
  },
  "language_info": {
   "codemirror_mode": {
    "name": "ipython",
    "version": 3
   },
   "file_extension": ".py",
   "mimetype": "text/x-python",
   "name": "python",
   "nbconvert_exporter": "python",
   "pygments_lexer": "ipython3",
   "version": "3.8.5"
  }
 },
 "nbformat": 4,
 "nbformat_minor": 5
}
