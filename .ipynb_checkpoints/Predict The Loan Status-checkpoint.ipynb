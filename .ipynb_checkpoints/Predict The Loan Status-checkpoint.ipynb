{
 "cells": [
  {
   "cell_type": "markdown",
   "metadata": {},
   "source": [
    "#### Dataset Description\n",
    "Train.csv - 67463 rows x 35 columns (Includes target column as Loan Status) <br>\n",
    "Test.csv - 28913 rows x 34 columns(Includes target column as Loan Status) <br>\n",
    "Sample Submission.csv -  Please check the Evaluation section for more details on how to generate a valid submission. <br>\n"
   ]
  },
  {
   "cell_type": "code",
   "execution_count": 1,
   "metadata": {},
   "outputs": [],
   "source": [
    "from sklearn.datasets import load_iris\n",
    "from sklearn.model_selection import train_test_split\n",
    "from sklearn.preprocessing import StandardScaler\n",
    "from sklearn.decomposition import PCA\n",
    "from sklearn.pipeline import Pipeline\n",
    "from sklearn.linear_model import LogisticRegression\n",
    "from sklearn.tree import DecisionTreeClassifier\n",
    "from sklearn.ensemble import RandomForestClassifier"
   ]
  },
  {
   "cell_type": "code",
   "execution_count": 2,
   "metadata": {},
   "outputs": [],
   "source": [
    "# Suppressing Warnings\n",
    "import warnings\n",
    "warnings.filterwarnings('ignore')"
   ]
  },
  {
   "cell_type": "code",
   "execution_count": 3,
   "metadata": {},
   "outputs": [],
   "source": [
    "# Importing Pandas and NumPy\n",
    "import pandas as pd, numpy as np"
   ]
  },
  {
   "cell_type": "code",
   "execution_count": 4,
   "metadata": {},
   "outputs": [
    {
     "data": {
      "text/html": [
       "<div>\n",
       "<style scoped>\n",
       "    .dataframe tbody tr th:only-of-type {\n",
       "        vertical-align: middle;\n",
       "    }\n",
       "\n",
       "    .dataframe tbody tr th {\n",
       "        vertical-align: top;\n",
       "    }\n",
       "\n",
       "    .dataframe thead th {\n",
       "        text-align: right;\n",
       "    }\n",
       "</style>\n",
       "<table border=\"1\" class=\"dataframe\">\n",
       "  <thead>\n",
       "    <tr style=\"text-align: right;\">\n",
       "      <th></th>\n",
       "      <th>ID</th>\n",
       "      <th>Loan Amount</th>\n",
       "      <th>Funded Amount</th>\n",
       "      <th>Funded Amount Investor</th>\n",
       "      <th>Term</th>\n",
       "      <th>Batch Enrolled</th>\n",
       "      <th>Interest Rate</th>\n",
       "      <th>Grade</th>\n",
       "      <th>Sub Grade</th>\n",
       "      <th>Employment Duration</th>\n",
       "      <th>...</th>\n",
       "      <th>Recoveries</th>\n",
       "      <th>Collection Recovery Fee</th>\n",
       "      <th>Collection 12 months Medical</th>\n",
       "      <th>Application Type</th>\n",
       "      <th>Last week Pay</th>\n",
       "      <th>Accounts Delinquent</th>\n",
       "      <th>Total Collection Amount</th>\n",
       "      <th>Total Current Balance</th>\n",
       "      <th>Total Revolving Credit Limit</th>\n",
       "      <th>Loan Status</th>\n",
       "    </tr>\n",
       "  </thead>\n",
       "  <tbody>\n",
       "    <tr>\n",
       "      <th>0</th>\n",
       "      <td>65087372</td>\n",
       "      <td>10000</td>\n",
       "      <td>32236</td>\n",
       "      <td>12329.36286</td>\n",
       "      <td>59</td>\n",
       "      <td>BAT2522922</td>\n",
       "      <td>11.135007</td>\n",
       "      <td>B</td>\n",
       "      <td>C4</td>\n",
       "      <td>MORTGAGE</td>\n",
       "      <td>...</td>\n",
       "      <td>2.498291</td>\n",
       "      <td>0.793724</td>\n",
       "      <td>0</td>\n",
       "      <td>INDIVIDUAL</td>\n",
       "      <td>49</td>\n",
       "      <td>0</td>\n",
       "      <td>31</td>\n",
       "      <td>311301</td>\n",
       "      <td>6619</td>\n",
       "      <td>0</td>\n",
       "    </tr>\n",
       "    <tr>\n",
       "      <th>1</th>\n",
       "      <td>1450153</td>\n",
       "      <td>3609</td>\n",
       "      <td>11940</td>\n",
       "      <td>12191.99692</td>\n",
       "      <td>59</td>\n",
       "      <td>BAT1586599</td>\n",
       "      <td>12.237563</td>\n",
       "      <td>C</td>\n",
       "      <td>D3</td>\n",
       "      <td>RENT</td>\n",
       "      <td>...</td>\n",
       "      <td>2.377215</td>\n",
       "      <td>0.974821</td>\n",
       "      <td>0</td>\n",
       "      <td>INDIVIDUAL</td>\n",
       "      <td>109</td>\n",
       "      <td>0</td>\n",
       "      <td>53</td>\n",
       "      <td>182610</td>\n",
       "      <td>20885</td>\n",
       "      <td>0</td>\n",
       "    </tr>\n",
       "    <tr>\n",
       "      <th>2</th>\n",
       "      <td>1969101</td>\n",
       "      <td>28276</td>\n",
       "      <td>9311</td>\n",
       "      <td>21603.22455</td>\n",
       "      <td>59</td>\n",
       "      <td>BAT2136391</td>\n",
       "      <td>12.545884</td>\n",
       "      <td>F</td>\n",
       "      <td>D4</td>\n",
       "      <td>MORTGAGE</td>\n",
       "      <td>...</td>\n",
       "      <td>4.316277</td>\n",
       "      <td>1.020075</td>\n",
       "      <td>0</td>\n",
       "      <td>INDIVIDUAL</td>\n",
       "      <td>66</td>\n",
       "      <td>0</td>\n",
       "      <td>34</td>\n",
       "      <td>89801</td>\n",
       "      <td>26155</td>\n",
       "      <td>0</td>\n",
       "    </tr>\n",
       "    <tr>\n",
       "      <th>3</th>\n",
       "      <td>6651430</td>\n",
       "      <td>11170</td>\n",
       "      <td>6954</td>\n",
       "      <td>17877.15585</td>\n",
       "      <td>59</td>\n",
       "      <td>BAT2428731</td>\n",
       "      <td>16.731201</td>\n",
       "      <td>C</td>\n",
       "      <td>C3</td>\n",
       "      <td>MORTGAGE</td>\n",
       "      <td>...</td>\n",
       "      <td>0.107020</td>\n",
       "      <td>0.749971</td>\n",
       "      <td>0</td>\n",
       "      <td>INDIVIDUAL</td>\n",
       "      <td>39</td>\n",
       "      <td>0</td>\n",
       "      <td>40</td>\n",
       "      <td>9189</td>\n",
       "      <td>60214</td>\n",
       "      <td>0</td>\n",
       "    </tr>\n",
       "  </tbody>\n",
       "</table>\n",
       "<p>4 rows × 35 columns</p>\n",
       "</div>"
      ],
      "text/plain": [
       "         ID  Loan Amount  Funded Amount  Funded Amount Investor  Term  \\\n",
       "0  65087372        10000          32236             12329.36286    59   \n",
       "1   1450153         3609          11940             12191.99692    59   \n",
       "2   1969101        28276           9311             21603.22455    59   \n",
       "3   6651430        11170           6954             17877.15585    59   \n",
       "\n",
       "  Batch Enrolled  Interest Rate Grade Sub Grade Employment Duration  ...  \\\n",
       "0     BAT2522922      11.135007     B        C4            MORTGAGE  ...   \n",
       "1     BAT1586599      12.237563     C        D3                RENT  ...   \n",
       "2     BAT2136391      12.545884     F        D4            MORTGAGE  ...   \n",
       "3     BAT2428731      16.731201     C        C3            MORTGAGE  ...   \n",
       "\n",
       "   Recoveries Collection Recovery Fee Collection 12 months Medical  \\\n",
       "0    2.498291                0.793724                            0   \n",
       "1    2.377215                0.974821                            0   \n",
       "2    4.316277                1.020075                            0   \n",
       "3    0.107020                0.749971                            0   \n",
       "\n",
       "  Application Type  Last week Pay  Accounts Delinquent  \\\n",
       "0       INDIVIDUAL             49                    0   \n",
       "1       INDIVIDUAL            109                    0   \n",
       "2       INDIVIDUAL             66                    0   \n",
       "3       INDIVIDUAL             39                    0   \n",
       "\n",
       "   Total Collection Amount  Total Current Balance  \\\n",
       "0                       31                 311301   \n",
       "1                       53                 182610   \n",
       "2                       34                  89801   \n",
       "3                       40                   9189   \n",
       "\n",
       "   Total Revolving Credit Limit  Loan Status  \n",
       "0                          6619            0  \n",
       "1                         20885            0  \n",
       "2                         26155            0  \n",
       "3                         60214            0  \n",
       "\n",
       "[4 rows x 35 columns]"
      ]
     },
     "execution_count": 4,
     "metadata": {},
     "output_type": "execute_result"
    }
   ],
   "source": [
    "# Importing all datasets\n",
    "loan_train = pd.read_csv(r\"train.csv\")\n",
    "loan_train.head(4)"
   ]
  },
  {
   "cell_type": "code",
   "execution_count": 6,
   "metadata": {},
   "outputs": [
    {
     "data": {
      "text/html": [
       "<div>\n",
       "<style scoped>\n",
       "    .dataframe tbody tr th:only-of-type {\n",
       "        vertical-align: middle;\n",
       "    }\n",
       "\n",
       "    .dataframe tbody tr th {\n",
       "        vertical-align: top;\n",
       "    }\n",
       "\n",
       "    .dataframe thead th {\n",
       "        text-align: right;\n",
       "    }\n",
       "</style>\n",
       "<table border=\"1\" class=\"dataframe\">\n",
       "  <thead>\n",
       "    <tr style=\"text-align: right;\">\n",
       "      <th></th>\n",
       "      <th>ID</th>\n",
       "      <th>Loan Amount</th>\n",
       "      <th>Funded Amount</th>\n",
       "      <th>Funded Amount Investor</th>\n",
       "      <th>Term</th>\n",
       "      <th>Batch Enrolled</th>\n",
       "      <th>Interest Rate</th>\n",
       "      <th>Grade</th>\n",
       "      <th>Sub Grade</th>\n",
       "      <th>Employment Duration</th>\n",
       "      <th>...</th>\n",
       "      <th>Recoveries</th>\n",
       "      <th>Collection Recovery Fee</th>\n",
       "      <th>Collection 12 months Medical</th>\n",
       "      <th>Application Type</th>\n",
       "      <th>Last week Pay</th>\n",
       "      <th>Accounts Delinquent</th>\n",
       "      <th>Total Collection Amount</th>\n",
       "      <th>Total Current Balance</th>\n",
       "      <th>Total Revolving Credit Limit</th>\n",
       "      <th>Loan Status</th>\n",
       "    </tr>\n",
       "  </thead>\n",
       "  <tbody>\n",
       "    <tr>\n",
       "      <th>0</th>\n",
       "      <td>56492997</td>\n",
       "      <td>17120</td>\n",
       "      <td>10365</td>\n",
       "      <td>16025.08269</td>\n",
       "      <td>59</td>\n",
       "      <td>BAT2575549</td>\n",
       "      <td>12.163926</td>\n",
       "      <td>A</td>\n",
       "      <td>D1</td>\n",
       "      <td>RENT</td>\n",
       "      <td>...</td>\n",
       "      <td>8.425776</td>\n",
       "      <td>0.731797</td>\n",
       "      <td>0</td>\n",
       "      <td>INDIVIDUAL</td>\n",
       "      <td>135</td>\n",
       "      <td>0</td>\n",
       "      <td>24</td>\n",
       "      <td>475442</td>\n",
       "      <td>4364</td>\n",
       "      <td>NaN</td>\n",
       "    </tr>\n",
       "    <tr>\n",
       "      <th>1</th>\n",
       "      <td>22540813</td>\n",
       "      <td>7133</td>\n",
       "      <td>11650</td>\n",
       "      <td>12615.79560</td>\n",
       "      <td>59</td>\n",
       "      <td>BAT2833642</td>\n",
       "      <td>6.564296</td>\n",
       "      <td>B</td>\n",
       "      <td>E3</td>\n",
       "      <td>MORTGAGE</td>\n",
       "      <td>...</td>\n",
       "      <td>6.157008</td>\n",
       "      <td>0.992918</td>\n",
       "      <td>0</td>\n",
       "      <td>INDIVIDUAL</td>\n",
       "      <td>56</td>\n",
       "      <td>0</td>\n",
       "      <td>1</td>\n",
       "      <td>72412</td>\n",
       "      <td>2573</td>\n",
       "      <td>NaN</td>\n",
       "    </tr>\n",
       "    <tr>\n",
       "      <th>2</th>\n",
       "      <td>9862181</td>\n",
       "      <td>25291</td>\n",
       "      <td>25825</td>\n",
       "      <td>11621.28083</td>\n",
       "      <td>59</td>\n",
       "      <td>BAT1761981</td>\n",
       "      <td>14.729900</td>\n",
       "      <td>A</td>\n",
       "      <td>C3</td>\n",
       "      <td>MORTGAGE</td>\n",
       "      <td>...</td>\n",
       "      <td>5.705077</td>\n",
       "      <td>0.281580</td>\n",
       "      <td>0</td>\n",
       "      <td>INDIVIDUAL</td>\n",
       "      <td>3</td>\n",
       "      <td>0</td>\n",
       "      <td>26</td>\n",
       "      <td>284825</td>\n",
       "      <td>19676</td>\n",
       "      <td>NaN</td>\n",
       "    </tr>\n",
       "    <tr>\n",
       "      <th>3</th>\n",
       "      <td>10097822</td>\n",
       "      <td>30781</td>\n",
       "      <td>9664</td>\n",
       "      <td>15375.82351</td>\n",
       "      <td>59</td>\n",
       "      <td>BAT5341619</td>\n",
       "      <td>10.523767</td>\n",
       "      <td>A</td>\n",
       "      <td>A2</td>\n",
       "      <td>RENT</td>\n",
       "      <td>...</td>\n",
       "      <td>2.469688</td>\n",
       "      <td>0.959162</td>\n",
       "      <td>0</td>\n",
       "      <td>INDIVIDUAL</td>\n",
       "      <td>21</td>\n",
       "      <td>0</td>\n",
       "      <td>32</td>\n",
       "      <td>40842</td>\n",
       "      <td>7226</td>\n",
       "      <td>NaN</td>\n",
       "    </tr>\n",
       "  </tbody>\n",
       "</table>\n",
       "<p>4 rows × 35 columns</p>\n",
       "</div>"
      ],
      "text/plain": [
       "         ID  Loan Amount  Funded Amount  Funded Amount Investor  Term  \\\n",
       "0  56492997        17120          10365             16025.08269    59   \n",
       "1  22540813         7133          11650             12615.79560    59   \n",
       "2   9862181        25291          25825             11621.28083    59   \n",
       "3  10097822        30781           9664             15375.82351    59   \n",
       "\n",
       "  Batch Enrolled  Interest Rate Grade Sub Grade Employment Duration  ...  \\\n",
       "0     BAT2575549      12.163926     A        D1                RENT  ...   \n",
       "1     BAT2833642       6.564296     B        E3            MORTGAGE  ...   \n",
       "2     BAT1761981      14.729900     A        C3            MORTGAGE  ...   \n",
       "3     BAT5341619      10.523767     A        A2                RENT  ...   \n",
       "\n",
       "   Recoveries Collection Recovery Fee Collection 12 months Medical  \\\n",
       "0    8.425776                0.731797                            0   \n",
       "1    6.157008                0.992918                            0   \n",
       "2    5.705077                0.281580                            0   \n",
       "3    2.469688                0.959162                            0   \n",
       "\n",
       "  Application Type  Last week Pay  Accounts Delinquent  \\\n",
       "0       INDIVIDUAL            135                    0   \n",
       "1       INDIVIDUAL             56                    0   \n",
       "2       INDIVIDUAL              3                    0   \n",
       "3       INDIVIDUAL             21                    0   \n",
       "\n",
       "   Total Collection Amount  Total Current Balance  \\\n",
       "0                       24                 475442   \n",
       "1                        1                  72412   \n",
       "2                       26                 284825   \n",
       "3                       32                  40842   \n",
       "\n",
       "   Total Revolving Credit Limit  Loan Status  \n",
       "0                          4364          NaN  \n",
       "1                          2573          NaN  \n",
       "2                         19676          NaN  \n",
       "3                          7226          NaN  \n",
       "\n",
       "[4 rows x 35 columns]"
      ]
     },
     "execution_count": 6,
     "metadata": {},
     "output_type": "execute_result"
    }
   ],
   "source": [
    "# Importing all datasets\n",
    "loan_test = pd.read_csv(r\"test.csv\")\n",
    "loan_test.head(4)"
   ]
  },
  {
   "cell_type": "code",
   "execution_count": 7,
   "metadata": {},
   "outputs": [],
   "source": [
    "loan_test[\"Loan Status\"] = 0"
   ]
  },
  {
   "cell_type": "code",
   "execution_count": 8,
   "metadata": {},
   "outputs": [
    {
     "data": {
      "text/html": [
       "<div>\n",
       "<style scoped>\n",
       "    .dataframe tbody tr th:only-of-type {\n",
       "        vertical-align: middle;\n",
       "    }\n",
       "\n",
       "    .dataframe tbody tr th {\n",
       "        vertical-align: top;\n",
       "    }\n",
       "\n",
       "    .dataframe thead th {\n",
       "        text-align: right;\n",
       "    }\n",
       "</style>\n",
       "<table border=\"1\" class=\"dataframe\">\n",
       "  <thead>\n",
       "    <tr style=\"text-align: right;\">\n",
       "      <th></th>\n",
       "      <th>ID</th>\n",
       "      <th>Loan Amount</th>\n",
       "      <th>Funded Amount</th>\n",
       "      <th>Funded Amount Investor</th>\n",
       "      <th>Term</th>\n",
       "      <th>Batch Enrolled</th>\n",
       "      <th>Interest Rate</th>\n",
       "      <th>Grade</th>\n",
       "      <th>Sub Grade</th>\n",
       "      <th>Employment Duration</th>\n",
       "      <th>...</th>\n",
       "      <th>Recoveries</th>\n",
       "      <th>Collection Recovery Fee</th>\n",
       "      <th>Collection 12 months Medical</th>\n",
       "      <th>Application Type</th>\n",
       "      <th>Last week Pay</th>\n",
       "      <th>Accounts Delinquent</th>\n",
       "      <th>Total Collection Amount</th>\n",
       "      <th>Total Current Balance</th>\n",
       "      <th>Total Revolving Credit Limit</th>\n",
       "      <th>Loan Status</th>\n",
       "    </tr>\n",
       "  </thead>\n",
       "  <tbody>\n",
       "    <tr>\n",
       "      <th>0</th>\n",
       "      <td>56492997</td>\n",
       "      <td>17120</td>\n",
       "      <td>10365</td>\n",
       "      <td>16025.08269</td>\n",
       "      <td>59</td>\n",
       "      <td>BAT2575549</td>\n",
       "      <td>12.163926</td>\n",
       "      <td>A</td>\n",
       "      <td>D1</td>\n",
       "      <td>RENT</td>\n",
       "      <td>...</td>\n",
       "      <td>8.425776</td>\n",
       "      <td>0.731797</td>\n",
       "      <td>0</td>\n",
       "      <td>INDIVIDUAL</td>\n",
       "      <td>135</td>\n",
       "      <td>0</td>\n",
       "      <td>24</td>\n",
       "      <td>475442</td>\n",
       "      <td>4364</td>\n",
       "      <td>0</td>\n",
       "    </tr>\n",
       "    <tr>\n",
       "      <th>1</th>\n",
       "      <td>22540813</td>\n",
       "      <td>7133</td>\n",
       "      <td>11650</td>\n",
       "      <td>12615.79560</td>\n",
       "      <td>59</td>\n",
       "      <td>BAT2833642</td>\n",
       "      <td>6.564296</td>\n",
       "      <td>B</td>\n",
       "      <td>E3</td>\n",
       "      <td>MORTGAGE</td>\n",
       "      <td>...</td>\n",
       "      <td>6.157008</td>\n",
       "      <td>0.992918</td>\n",
       "      <td>0</td>\n",
       "      <td>INDIVIDUAL</td>\n",
       "      <td>56</td>\n",
       "      <td>0</td>\n",
       "      <td>1</td>\n",
       "      <td>72412</td>\n",
       "      <td>2573</td>\n",
       "      <td>0</td>\n",
       "    </tr>\n",
       "    <tr>\n",
       "      <th>2</th>\n",
       "      <td>9862181</td>\n",
       "      <td>25291</td>\n",
       "      <td>25825</td>\n",
       "      <td>11621.28083</td>\n",
       "      <td>59</td>\n",
       "      <td>BAT1761981</td>\n",
       "      <td>14.729900</td>\n",
       "      <td>A</td>\n",
       "      <td>C3</td>\n",
       "      <td>MORTGAGE</td>\n",
       "      <td>...</td>\n",
       "      <td>5.705077</td>\n",
       "      <td>0.281580</td>\n",
       "      <td>0</td>\n",
       "      <td>INDIVIDUAL</td>\n",
       "      <td>3</td>\n",
       "      <td>0</td>\n",
       "      <td>26</td>\n",
       "      <td>284825</td>\n",
       "      <td>19676</td>\n",
       "      <td>0</td>\n",
       "    </tr>\n",
       "    <tr>\n",
       "      <th>3</th>\n",
       "      <td>10097822</td>\n",
       "      <td>30781</td>\n",
       "      <td>9664</td>\n",
       "      <td>15375.82351</td>\n",
       "      <td>59</td>\n",
       "      <td>BAT5341619</td>\n",
       "      <td>10.523767</td>\n",
       "      <td>A</td>\n",
       "      <td>A2</td>\n",
       "      <td>RENT</td>\n",
       "      <td>...</td>\n",
       "      <td>2.469688</td>\n",
       "      <td>0.959162</td>\n",
       "      <td>0</td>\n",
       "      <td>INDIVIDUAL</td>\n",
       "      <td>21</td>\n",
       "      <td>0</td>\n",
       "      <td>32</td>\n",
       "      <td>40842</td>\n",
       "      <td>7226</td>\n",
       "      <td>0</td>\n",
       "    </tr>\n",
       "  </tbody>\n",
       "</table>\n",
       "<p>4 rows × 35 columns</p>\n",
       "</div>"
      ],
      "text/plain": [
       "         ID  Loan Amount  Funded Amount  Funded Amount Investor  Term  \\\n",
       "0  56492997        17120          10365             16025.08269    59   \n",
       "1  22540813         7133          11650             12615.79560    59   \n",
       "2   9862181        25291          25825             11621.28083    59   \n",
       "3  10097822        30781           9664             15375.82351    59   \n",
       "\n",
       "  Batch Enrolled  Interest Rate Grade Sub Grade Employment Duration  ...  \\\n",
       "0     BAT2575549      12.163926     A        D1                RENT  ...   \n",
       "1     BAT2833642       6.564296     B        E3            MORTGAGE  ...   \n",
       "2     BAT1761981      14.729900     A        C3            MORTGAGE  ...   \n",
       "3     BAT5341619      10.523767     A        A2                RENT  ...   \n",
       "\n",
       "   Recoveries Collection Recovery Fee Collection 12 months Medical  \\\n",
       "0    8.425776                0.731797                            0   \n",
       "1    6.157008                0.992918                            0   \n",
       "2    5.705077                0.281580                            0   \n",
       "3    2.469688                0.959162                            0   \n",
       "\n",
       "  Application Type  Last week Pay  Accounts Delinquent  \\\n",
       "0       INDIVIDUAL            135                    0   \n",
       "1       INDIVIDUAL             56                    0   \n",
       "2       INDIVIDUAL              3                    0   \n",
       "3       INDIVIDUAL             21                    0   \n",
       "\n",
       "   Total Collection Amount  Total Current Balance  \\\n",
       "0                       24                 475442   \n",
       "1                        1                  72412   \n",
       "2                       26                 284825   \n",
       "3                       32                  40842   \n",
       "\n",
       "   Total Revolving Credit Limit  Loan Status  \n",
       "0                          4364            0  \n",
       "1                          2573            0  \n",
       "2                         19676            0  \n",
       "3                          7226            0  \n",
       "\n",
       "[4 rows x 35 columns]"
      ]
     },
     "execution_count": 8,
     "metadata": {},
     "output_type": "execute_result"
    }
   ],
   "source": [
    "loan_test.head(4)"
   ]
  },
  {
   "cell_type": "markdown",
   "metadata": {},
   "source": [
    "### Feature Engineering "
   ]
  },
  {
   "cell_type": "code",
   "execution_count": 9,
   "metadata": {},
   "outputs": [
    {
     "data": {
      "text/plain": [
       "Index(['ID', 'Loan Amount', 'Funded Amount', 'Funded Amount Investor', 'Term',\n",
       "       'Batch Enrolled', 'Interest Rate', 'Grade', 'Sub Grade',\n",
       "       'Employment Duration', 'Home Ownership', 'Verification Status',\n",
       "       'Payment Plan', 'Loan Title', 'Debit to Income',\n",
       "       'Delinquency - two years', 'Inquires - six months', 'Open Account',\n",
       "       'Public Record', 'Revolving Balance', 'Revolving Utilities',\n",
       "       'Total Accounts', 'Initial List Status', 'Total Received Interest',\n",
       "       'Total Received Late Fee', 'Recoveries', 'Collection Recovery Fee',\n",
       "       'Collection 12 months Medical', 'Application Type', 'Last week Pay',\n",
       "       'Accounts Delinquent', 'Total Collection Amount',\n",
       "       'Total Current Balance', 'Total Revolving Credit Limit', 'Loan Status'],\n",
       "      dtype='object')"
      ]
     },
     "execution_count": 9,
     "metadata": {},
     "output_type": "execute_result"
    }
   ],
   "source": [
    "loan_train.columns"
   ]
  },
  {
   "cell_type": "code",
   "execution_count": 10,
   "metadata": {},
   "outputs": [
    {
     "data": {
      "text/plain": [
       "ID                                int64\n",
       "Loan Amount                       int64\n",
       "Funded Amount                     int64\n",
       "Funded Amount Investor          float64\n",
       "Term                              int64\n",
       "Batch Enrolled                   object\n",
       "Interest Rate                   float64\n",
       "Grade                            object\n",
       "Sub Grade                        object\n",
       "Employment Duration              object\n",
       "Home Ownership                  float64\n",
       "Verification Status              object\n",
       "Payment Plan                     object\n",
       "Loan Title                       object\n",
       "Debit to Income                 float64\n",
       "Delinquency - two years           int64\n",
       "Inquires - six months             int64\n",
       "Open Account                      int64\n",
       "Public Record                     int64\n",
       "Revolving Balance                 int64\n",
       "Revolving Utilities             float64\n",
       "Total Accounts                    int64\n",
       "Initial List Status              object\n",
       "Total Received Interest         float64\n",
       "Total Received Late Fee         float64\n",
       "Recoveries                      float64\n",
       "Collection Recovery Fee         float64\n",
       "Collection 12 months Medical      int64\n",
       "Application Type                 object\n",
       "Last week Pay                     int64\n",
       "Accounts Delinquent               int64\n",
       "Total Collection Amount           int64\n",
       "Total Current Balance             int64\n",
       "Total Revolving Credit Limit      int64\n",
       "Loan Status                       int64\n",
       "dtype: object"
      ]
     },
     "execution_count": 10,
     "metadata": {},
     "output_type": "execute_result"
    }
   ],
   "source": [
    "loan_train.dtypes"
   ]
  },
  {
   "cell_type": "markdown",
   "metadata": {},
   "source": [
    "### Checking the `missing values`"
   ]
  },
  {
   "cell_type": "code",
   "execution_count": 11,
   "metadata": {},
   "outputs": [
    {
     "data": {
      "text/plain": [
       "ID                              0\n",
       "Loan Amount                     0\n",
       "Funded Amount                   0\n",
       "Funded Amount Investor          0\n",
       "Term                            0\n",
       "Batch Enrolled                  0\n",
       "Interest Rate                   0\n",
       "Grade                           0\n",
       "Sub Grade                       0\n",
       "Employment Duration             0\n",
       "Home Ownership                  0\n",
       "Verification Status             0\n",
       "Payment Plan                    0\n",
       "Loan Title                      0\n",
       "Debit to Income                 0\n",
       "Delinquency - two years         0\n",
       "Inquires - six months           0\n",
       "Open Account                    0\n",
       "Public Record                   0\n",
       "Revolving Balance               0\n",
       "Revolving Utilities             0\n",
       "Total Accounts                  0\n",
       "Initial List Status             0\n",
       "Total Received Interest         0\n",
       "Total Received Late Fee         0\n",
       "Recoveries                      0\n",
       "Collection Recovery Fee         0\n",
       "Collection 12 months Medical    0\n",
       "Application Type                0\n",
       "Last week Pay                   0\n",
       "Accounts Delinquent             0\n",
       "Total Collection Amount         0\n",
       "Total Current Balance           0\n",
       "Total Revolving Credit Limit    0\n",
       "Loan Status                     0\n",
       "dtype: int64"
      ]
     },
     "execution_count": 11,
     "metadata": {},
     "output_type": "execute_result"
    }
   ],
   "source": [
    "loan_train.isnull().sum()"
   ]
  },
  {
   "cell_type": "markdown",
   "metadata": {},
   "source": [
    " - Please Note , there is no missing values in the dataset"
   ]
  },
  {
   "cell_type": "code",
   "execution_count": 12,
   "metadata": {},
   "outputs": [
    {
     "data": {
      "text/html": [
       "<div>\n",
       "<style scoped>\n",
       "    .dataframe tbody tr th:only-of-type {\n",
       "        vertical-align: middle;\n",
       "    }\n",
       "\n",
       "    .dataframe tbody tr th {\n",
       "        vertical-align: top;\n",
       "    }\n",
       "\n",
       "    .dataframe thead th {\n",
       "        text-align: right;\n",
       "    }\n",
       "</style>\n",
       "<table border=\"1\" class=\"dataframe\">\n",
       "  <thead>\n",
       "    <tr style=\"text-align: right;\">\n",
       "      <th></th>\n",
       "      <th>ID</th>\n",
       "      <th>Loan Amount</th>\n",
       "      <th>Funded Amount</th>\n",
       "      <th>Funded Amount Investor</th>\n",
       "      <th>Term</th>\n",
       "      <th>Batch Enrolled</th>\n",
       "      <th>Interest Rate</th>\n",
       "      <th>Grade</th>\n",
       "      <th>Sub Grade</th>\n",
       "      <th>Employment Duration</th>\n",
       "      <th>...</th>\n",
       "      <th>Recoveries</th>\n",
       "      <th>Collection Recovery Fee</th>\n",
       "      <th>Collection 12 months Medical</th>\n",
       "      <th>Application Type</th>\n",
       "      <th>Last week Pay</th>\n",
       "      <th>Accounts Delinquent</th>\n",
       "      <th>Total Collection Amount</th>\n",
       "      <th>Total Current Balance</th>\n",
       "      <th>Total Revolving Credit Limit</th>\n",
       "      <th>Loan Status</th>\n",
       "    </tr>\n",
       "  </thead>\n",
       "  <tbody>\n",
       "    <tr>\n",
       "      <th>0</th>\n",
       "      <td>65087372</td>\n",
       "      <td>10000</td>\n",
       "      <td>32236</td>\n",
       "      <td>12329.36286</td>\n",
       "      <td>59</td>\n",
       "      <td>BAT2522922</td>\n",
       "      <td>11.135007</td>\n",
       "      <td>B</td>\n",
       "      <td>C4</td>\n",
       "      <td>MORTGAGE</td>\n",
       "      <td>...</td>\n",
       "      <td>2.498291</td>\n",
       "      <td>0.793724</td>\n",
       "      <td>0</td>\n",
       "      <td>INDIVIDUAL</td>\n",
       "      <td>49</td>\n",
       "      <td>0</td>\n",
       "      <td>31</td>\n",
       "      <td>311301</td>\n",
       "      <td>6619</td>\n",
       "      <td>0</td>\n",
       "    </tr>\n",
       "    <tr>\n",
       "      <th>1</th>\n",
       "      <td>1450153</td>\n",
       "      <td>3609</td>\n",
       "      <td>11940</td>\n",
       "      <td>12191.99692</td>\n",
       "      <td>59</td>\n",
       "      <td>BAT1586599</td>\n",
       "      <td>12.237563</td>\n",
       "      <td>C</td>\n",
       "      <td>D3</td>\n",
       "      <td>RENT</td>\n",
       "      <td>...</td>\n",
       "      <td>2.377215</td>\n",
       "      <td>0.974821</td>\n",
       "      <td>0</td>\n",
       "      <td>INDIVIDUAL</td>\n",
       "      <td>109</td>\n",
       "      <td>0</td>\n",
       "      <td>53</td>\n",
       "      <td>182610</td>\n",
       "      <td>20885</td>\n",
       "      <td>0</td>\n",
       "    </tr>\n",
       "    <tr>\n",
       "      <th>2</th>\n",
       "      <td>1969101</td>\n",
       "      <td>28276</td>\n",
       "      <td>9311</td>\n",
       "      <td>21603.22455</td>\n",
       "      <td>59</td>\n",
       "      <td>BAT2136391</td>\n",
       "      <td>12.545884</td>\n",
       "      <td>F</td>\n",
       "      <td>D4</td>\n",
       "      <td>MORTGAGE</td>\n",
       "      <td>...</td>\n",
       "      <td>4.316277</td>\n",
       "      <td>1.020075</td>\n",
       "      <td>0</td>\n",
       "      <td>INDIVIDUAL</td>\n",
       "      <td>66</td>\n",
       "      <td>0</td>\n",
       "      <td>34</td>\n",
       "      <td>89801</td>\n",
       "      <td>26155</td>\n",
       "      <td>0</td>\n",
       "    </tr>\n",
       "  </tbody>\n",
       "</table>\n",
       "<p>3 rows × 35 columns</p>\n",
       "</div>"
      ],
      "text/plain": [
       "         ID  Loan Amount  Funded Amount  Funded Amount Investor  Term  \\\n",
       "0  65087372        10000          32236             12329.36286    59   \n",
       "1   1450153         3609          11940             12191.99692    59   \n",
       "2   1969101        28276           9311             21603.22455    59   \n",
       "\n",
       "  Batch Enrolled  Interest Rate Grade Sub Grade Employment Duration  ...  \\\n",
       "0     BAT2522922      11.135007     B        C4            MORTGAGE  ...   \n",
       "1     BAT1586599      12.237563     C        D3                RENT  ...   \n",
       "2     BAT2136391      12.545884     F        D4            MORTGAGE  ...   \n",
       "\n",
       "   Recoveries Collection Recovery Fee Collection 12 months Medical  \\\n",
       "0    2.498291                0.793724                            0   \n",
       "1    2.377215                0.974821                            0   \n",
       "2    4.316277                1.020075                            0   \n",
       "\n",
       "  Application Type  Last week Pay  Accounts Delinquent  \\\n",
       "0       INDIVIDUAL             49                    0   \n",
       "1       INDIVIDUAL            109                    0   \n",
       "2       INDIVIDUAL             66                    0   \n",
       "\n",
       "   Total Collection Amount  Total Current Balance  \\\n",
       "0                       31                 311301   \n",
       "1                       53                 182610   \n",
       "2                       34                  89801   \n",
       "\n",
       "   Total Revolving Credit Limit  Loan Status  \n",
       "0                          6619            0  \n",
       "1                         20885            0  \n",
       "2                         26155            0  \n",
       "\n",
       "[3 rows x 35 columns]"
      ]
     },
     "execution_count": 12,
     "metadata": {},
     "output_type": "execute_result"
    }
   ],
   "source": [
    "loan_train.head(3)"
   ]
  },
  {
   "cell_type": "code",
   "execution_count": 13,
   "metadata": {},
   "outputs": [],
   "source": [
    "### Checking the categorical values in 'Object Format'"
   ]
  },
  {
   "cell_type": "code",
   "execution_count": 14,
   "metadata": {},
   "outputs": [
    {
     "data": {
      "text/plain": [
       "C    19085\n",
       "B    18742\n",
       "A    12055\n",
       "D     8259\n",
       "E     6446\n",
       "F     2246\n",
       "G      630\n",
       "Name: Grade, dtype: int64"
      ]
     },
     "execution_count": 14,
     "metadata": {},
     "output_type": "execute_result"
    }
   ],
   "source": [
    "loan_train.Grade.value_counts()"
   ]
  },
  {
   "cell_type": "code",
   "execution_count": 15,
   "metadata": {},
   "outputs": [
    {
     "data": {
      "text/plain": [
       "MORTGAGE    36351\n",
       "RENT        24150\n",
       "OWN          6962\n",
       "Name: Employment Duration, dtype: int64"
      ]
     },
     "execution_count": 15,
     "metadata": {},
     "output_type": "execute_result"
    }
   ],
   "source": [
    "loan_train[\"Employment Duration\"].value_counts()"
   ]
  },
  {
   "cell_type": "code",
   "execution_count": 16,
   "metadata": {},
   "outputs": [
    {
     "data": {
      "text/plain": [
       "INDIVIDUAL    67340\n",
       "JOINT           123\n",
       "Name: Application Type, dtype: int64"
      ]
     },
     "execution_count": 16,
     "metadata": {},
     "output_type": "execute_result"
    }
   ],
   "source": [
    "loan_train[\"Application Type\"].value_counts()"
   ]
  },
  {
   "cell_type": "code",
   "execution_count": 17,
   "metadata": {},
   "outputs": [
    {
     "data": {
      "text/plain": [
       "Source Verified    33036\n",
       "Verified           18078\n",
       "Not Verified       16349\n",
       "Name: Verification Status, dtype: int64"
      ]
     },
     "execution_count": 17,
     "metadata": {},
     "output_type": "execute_result"
    }
   ],
   "source": [
    "loan_train[\"Verification Status\"].value_counts()"
   ]
  },
  {
   "cell_type": "code",
   "execution_count": 18,
   "metadata": {},
   "outputs": [
    {
     "data": {
      "text/plain": [
       "n    67463\n",
       "Name: Payment Plan, dtype: int64"
      ]
     },
     "execution_count": 18,
     "metadata": {},
     "output_type": "execute_result"
    }
   ],
   "source": [
    "loan_train[\"Payment Plan\"].value_counts()"
   ]
  },
  {
   "cell_type": "markdown",
   "metadata": {},
   "source": [
    "#### Mean Encoding "
   ]
  },
  {
   "cell_type": "markdown",
   "metadata": {},
   "source": [
    "#### Grade"
   ]
  },
  {
   "cell_type": "code",
   "execution_count": 19,
   "metadata": {},
   "outputs": [
    {
     "data": {
      "text/plain": [
       "Index(['B', 'A', 'C', 'E', 'D', 'F', 'G'], dtype='object', name='Grade')"
      ]
     },
     "execution_count": 19,
     "metadata": {},
     "output_type": "execute_result"
    }
   ],
   "source": [
    "mean_labels=loan_train.groupby(['Grade'])['Loan Status'].mean().sort_values().index\n",
    "mean_labels"
   ]
  },
  {
   "cell_type": "code",
   "execution_count": 20,
   "metadata": {},
   "outputs": [
    {
     "data": {
      "text/plain": [
       "<enumerate at 0x1b46d311740>"
      ]
     },
     "execution_count": 20,
     "metadata": {},
     "output_type": "execute_result"
    }
   ],
   "source": [
    "enumerate(mean_labels,0)"
   ]
  },
  {
   "cell_type": "code",
   "execution_count": 21,
   "metadata": {},
   "outputs": [
    {
     "data": {
      "text/plain": [
       "{'B': 0, 'A': 1, 'C': 2, 'E': 3, 'D': 4, 'F': 5, 'G': 6}"
      ]
     },
     "execution_count": 21,
     "metadata": {},
     "output_type": "execute_result"
    }
   ],
   "source": [
    "mean_labels2={k:i for i,k in enumerate(mean_labels,0)}\n",
    "mean_labels2"
   ]
  },
  {
   "cell_type": "code",
   "execution_count": 22,
   "metadata": {},
   "outputs": [
    {
     "data": {
      "text/html": [
       "<div>\n",
       "<style scoped>\n",
       "    .dataframe tbody tr th:only-of-type {\n",
       "        vertical-align: middle;\n",
       "    }\n",
       "\n",
       "    .dataframe tbody tr th {\n",
       "        vertical-align: top;\n",
       "    }\n",
       "\n",
       "    .dataframe thead th {\n",
       "        text-align: right;\n",
       "    }\n",
       "</style>\n",
       "<table border=\"1\" class=\"dataframe\">\n",
       "  <thead>\n",
       "    <tr style=\"text-align: right;\">\n",
       "      <th></th>\n",
       "      <th>ID</th>\n",
       "      <th>Loan Amount</th>\n",
       "      <th>Funded Amount</th>\n",
       "      <th>Funded Amount Investor</th>\n",
       "      <th>Term</th>\n",
       "      <th>Batch Enrolled</th>\n",
       "      <th>Interest Rate</th>\n",
       "      <th>Grade</th>\n",
       "      <th>Sub Grade</th>\n",
       "      <th>Employment Duration</th>\n",
       "      <th>...</th>\n",
       "      <th>Collection Recovery Fee</th>\n",
       "      <th>Collection 12 months Medical</th>\n",
       "      <th>Application Type</th>\n",
       "      <th>Last week Pay</th>\n",
       "      <th>Accounts Delinquent</th>\n",
       "      <th>Total Collection Amount</th>\n",
       "      <th>Total Current Balance</th>\n",
       "      <th>Total Revolving Credit Limit</th>\n",
       "      <th>Loan Status</th>\n",
       "      <th>Grade_mean_labels</th>\n",
       "    </tr>\n",
       "  </thead>\n",
       "  <tbody>\n",
       "    <tr>\n",
       "      <th>0</th>\n",
       "      <td>65087372</td>\n",
       "      <td>10000</td>\n",
       "      <td>32236</td>\n",
       "      <td>12329.36286</td>\n",
       "      <td>59</td>\n",
       "      <td>BAT2522922</td>\n",
       "      <td>11.135007</td>\n",
       "      <td>B</td>\n",
       "      <td>C4</td>\n",
       "      <td>MORTGAGE</td>\n",
       "      <td>...</td>\n",
       "      <td>0.793724</td>\n",
       "      <td>0</td>\n",
       "      <td>INDIVIDUAL</td>\n",
       "      <td>49</td>\n",
       "      <td>0</td>\n",
       "      <td>31</td>\n",
       "      <td>311301</td>\n",
       "      <td>6619</td>\n",
       "      <td>0</td>\n",
       "      <td>0</td>\n",
       "    </tr>\n",
       "    <tr>\n",
       "      <th>1</th>\n",
       "      <td>1450153</td>\n",
       "      <td>3609</td>\n",
       "      <td>11940</td>\n",
       "      <td>12191.99692</td>\n",
       "      <td>59</td>\n",
       "      <td>BAT1586599</td>\n",
       "      <td>12.237563</td>\n",
       "      <td>C</td>\n",
       "      <td>D3</td>\n",
       "      <td>RENT</td>\n",
       "      <td>...</td>\n",
       "      <td>0.974821</td>\n",
       "      <td>0</td>\n",
       "      <td>INDIVIDUAL</td>\n",
       "      <td>109</td>\n",
       "      <td>0</td>\n",
       "      <td>53</td>\n",
       "      <td>182610</td>\n",
       "      <td>20885</td>\n",
       "      <td>0</td>\n",
       "      <td>2</td>\n",
       "    </tr>\n",
       "    <tr>\n",
       "      <th>2</th>\n",
       "      <td>1969101</td>\n",
       "      <td>28276</td>\n",
       "      <td>9311</td>\n",
       "      <td>21603.22455</td>\n",
       "      <td>59</td>\n",
       "      <td>BAT2136391</td>\n",
       "      <td>12.545884</td>\n",
       "      <td>F</td>\n",
       "      <td>D4</td>\n",
       "      <td>MORTGAGE</td>\n",
       "      <td>...</td>\n",
       "      <td>1.020075</td>\n",
       "      <td>0</td>\n",
       "      <td>INDIVIDUAL</td>\n",
       "      <td>66</td>\n",
       "      <td>0</td>\n",
       "      <td>34</td>\n",
       "      <td>89801</td>\n",
       "      <td>26155</td>\n",
       "      <td>0</td>\n",
       "      <td>5</td>\n",
       "    </tr>\n",
       "    <tr>\n",
       "      <th>3</th>\n",
       "      <td>6651430</td>\n",
       "      <td>11170</td>\n",
       "      <td>6954</td>\n",
       "      <td>17877.15585</td>\n",
       "      <td>59</td>\n",
       "      <td>BAT2428731</td>\n",
       "      <td>16.731201</td>\n",
       "      <td>C</td>\n",
       "      <td>C3</td>\n",
       "      <td>MORTGAGE</td>\n",
       "      <td>...</td>\n",
       "      <td>0.749971</td>\n",
       "      <td>0</td>\n",
       "      <td>INDIVIDUAL</td>\n",
       "      <td>39</td>\n",
       "      <td>0</td>\n",
       "      <td>40</td>\n",
       "      <td>9189</td>\n",
       "      <td>60214</td>\n",
       "      <td>0</td>\n",
       "      <td>2</td>\n",
       "    </tr>\n",
       "    <tr>\n",
       "      <th>4</th>\n",
       "      <td>14354669</td>\n",
       "      <td>16890</td>\n",
       "      <td>13226</td>\n",
       "      <td>13539.92667</td>\n",
       "      <td>59</td>\n",
       "      <td>BAT5341619</td>\n",
       "      <td>15.008300</td>\n",
       "      <td>C</td>\n",
       "      <td>D4</td>\n",
       "      <td>MORTGAGE</td>\n",
       "      <td>...</td>\n",
       "      <td>0.368953</td>\n",
       "      <td>0</td>\n",
       "      <td>INDIVIDUAL</td>\n",
       "      <td>18</td>\n",
       "      <td>0</td>\n",
       "      <td>430</td>\n",
       "      <td>126029</td>\n",
       "      <td>22579</td>\n",
       "      <td>0</td>\n",
       "      <td>2</td>\n",
       "    </tr>\n",
       "  </tbody>\n",
       "</table>\n",
       "<p>5 rows × 36 columns</p>\n",
       "</div>"
      ],
      "text/plain": [
       "         ID  Loan Amount  Funded Amount  Funded Amount Investor  Term  \\\n",
       "0  65087372        10000          32236             12329.36286    59   \n",
       "1   1450153         3609          11940             12191.99692    59   \n",
       "2   1969101        28276           9311             21603.22455    59   \n",
       "3   6651430        11170           6954             17877.15585    59   \n",
       "4  14354669        16890          13226             13539.92667    59   \n",
       "\n",
       "  Batch Enrolled  Interest Rate Grade Sub Grade Employment Duration  ...  \\\n",
       "0     BAT2522922      11.135007     B        C4            MORTGAGE  ...   \n",
       "1     BAT1586599      12.237563     C        D3                RENT  ...   \n",
       "2     BAT2136391      12.545884     F        D4            MORTGAGE  ...   \n",
       "3     BAT2428731      16.731201     C        C3            MORTGAGE  ...   \n",
       "4     BAT5341619      15.008300     C        D4            MORTGAGE  ...   \n",
       "\n",
       "   Collection Recovery Fee Collection 12 months Medical Application Type  \\\n",
       "0                 0.793724                            0       INDIVIDUAL   \n",
       "1                 0.974821                            0       INDIVIDUAL   \n",
       "2                 1.020075                            0       INDIVIDUAL   \n",
       "3                 0.749971                            0       INDIVIDUAL   \n",
       "4                 0.368953                            0       INDIVIDUAL   \n",
       "\n",
       "  Last week Pay  Accounts Delinquent  Total Collection Amount  \\\n",
       "0            49                    0                       31   \n",
       "1           109                    0                       53   \n",
       "2            66                    0                       34   \n",
       "3            39                    0                       40   \n",
       "4            18                    0                      430   \n",
       "\n",
       "   Total Current Balance  Total Revolving Credit Limit  Loan Status  \\\n",
       "0                 311301                          6619            0   \n",
       "1                 182610                         20885            0   \n",
       "2                  89801                         26155            0   \n",
       "3                   9189                         60214            0   \n",
       "4                 126029                         22579            0   \n",
       "\n",
       "   Grade_mean_labels  \n",
       "0                  0  \n",
       "1                  2  \n",
       "2                  5  \n",
       "3                  2  \n",
       "4                  2  \n",
       "\n",
       "[5 rows x 36 columns]"
      ]
     },
     "execution_count": 22,
     "metadata": {},
     "output_type": "execute_result"
    }
   ],
   "source": [
    "loan_train['Grade_mean_labels']=loan_train['Grade'].map(mean_labels2)\n",
    "loan_train.head()"
   ]
  },
  {
   "cell_type": "code",
   "execution_count": 23,
   "metadata": {},
   "outputs": [],
   "source": [
    "loan_train = loan_train.drop(columns=\"Grade\")"
   ]
  },
  {
   "cell_type": "code",
   "execution_count": 24,
   "metadata": {},
   "outputs": [
    {
     "data": {
      "text/plain": [
       "(67463, 35)"
      ]
     },
     "execution_count": 24,
     "metadata": {},
     "output_type": "execute_result"
    }
   ],
   "source": [
    "loan_train.shape"
   ]
  },
  {
   "cell_type": "markdown",
   "metadata": {},
   "source": [
    "#### Employment Duration "
   ]
  },
  {
   "cell_type": "code",
   "execution_count": 25,
   "metadata": {},
   "outputs": [
    {
     "data": {
      "text/plain": [
       "Index(['MORTGAGE', 'RENT', 'OWN'], dtype='object', name='Employment Duration')"
      ]
     },
     "execution_count": 25,
     "metadata": {},
     "output_type": "execute_result"
    }
   ],
   "source": [
    "mean_labels=loan_train.groupby(['Employment Duration'])['Loan Status'].mean().sort_values().index\n",
    "mean_labels"
   ]
  },
  {
   "cell_type": "code",
   "execution_count": 26,
   "metadata": {},
   "outputs": [
    {
     "data": {
      "text/plain": [
       "<enumerate at 0x1b46d2f1300>"
      ]
     },
     "execution_count": 26,
     "metadata": {},
     "output_type": "execute_result"
    }
   ],
   "source": [
    "enumerate(mean_labels,0)"
   ]
  },
  {
   "cell_type": "code",
   "execution_count": 27,
   "metadata": {},
   "outputs": [
    {
     "data": {
      "text/plain": [
       "{'MORTGAGE': 0, 'RENT': 1, 'OWN': 2}"
      ]
     },
     "execution_count": 27,
     "metadata": {},
     "output_type": "execute_result"
    }
   ],
   "source": [
    "mean_labels2={k:i for i,k in enumerate(mean_labels,0)}\n",
    "mean_labels2"
   ]
  },
  {
   "cell_type": "code",
   "execution_count": 28,
   "metadata": {},
   "outputs": [],
   "source": [
    "loan_train['Employment Duration_ordinal_labels']=loan_train['Employment Duration'].map(mean_labels2)"
   ]
  },
  {
   "cell_type": "code",
   "execution_count": 29,
   "metadata": {},
   "outputs": [],
   "source": [
    "loan_train  = loan_train.drop(columns=\"Employment Duration\")"
   ]
  },
  {
   "cell_type": "markdown",
   "metadata": {},
   "source": [
    "#### Application Type"
   ]
  },
  {
   "cell_type": "code",
   "execution_count": 30,
   "metadata": {},
   "outputs": [
    {
     "data": {
      "text/plain": [
       "Index(['JOINT', 'INDIVIDUAL'], dtype='object', name='Application Type')"
      ]
     },
     "execution_count": 30,
     "metadata": {},
     "output_type": "execute_result"
    }
   ],
   "source": [
    "mean_labels=loan_train.groupby(['Application Type'])['Loan Status'].mean().sort_values().index\n",
    "mean_labels"
   ]
  },
  {
   "cell_type": "code",
   "execution_count": 31,
   "metadata": {},
   "outputs": [
    {
     "data": {
      "text/plain": [
       "<enumerate at 0x1b46db07480>"
      ]
     },
     "execution_count": 31,
     "metadata": {},
     "output_type": "execute_result"
    }
   ],
   "source": [
    "enumerate(mean_labels,0)"
   ]
  },
  {
   "cell_type": "code",
   "execution_count": 32,
   "metadata": {},
   "outputs": [
    {
     "data": {
      "text/plain": [
       "{'JOINT': 0, 'INDIVIDUAL': 1}"
      ]
     },
     "execution_count": 32,
     "metadata": {},
     "output_type": "execute_result"
    }
   ],
   "source": [
    "mean_labels2={k:i for i,k in enumerate(mean_labels,0)}\n",
    "mean_labels2"
   ]
  },
  {
   "cell_type": "code",
   "execution_count": 33,
   "metadata": {},
   "outputs": [],
   "source": [
    "loan_train['Application Type_mean_labels']=loan_train['Application Type'].map(mean_labels2)"
   ]
  },
  {
   "cell_type": "code",
   "execution_count": 34,
   "metadata": {},
   "outputs": [],
   "source": [
    "loan_train = loan_train.drop(columns=\"Application Type\")"
   ]
  },
  {
   "cell_type": "markdown",
   "metadata": {},
   "source": [
    "#### Verification Status"
   ]
  },
  {
   "cell_type": "code",
   "execution_count": 35,
   "metadata": {},
   "outputs": [
    {
     "data": {
      "text/plain": [
       "Index(['Verified', 'Not Verified', 'Source Verified'], dtype='object', name='Verification Status')"
      ]
     },
     "execution_count": 35,
     "metadata": {},
     "output_type": "execute_result"
    }
   ],
   "source": [
    "mean_labels=loan_train.groupby(['Verification Status'])['Loan Status'].mean().sort_values().index\n",
    "mean_labels"
   ]
  },
  {
   "cell_type": "code",
   "execution_count": 36,
   "metadata": {},
   "outputs": [
    {
     "data": {
      "text/plain": [
       "<enumerate at 0x1b46db0c3c0>"
      ]
     },
     "execution_count": 36,
     "metadata": {},
     "output_type": "execute_result"
    }
   ],
   "source": [
    "enumerate(mean_labels,0)"
   ]
  },
  {
   "cell_type": "code",
   "execution_count": 37,
   "metadata": {},
   "outputs": [
    {
     "data": {
      "text/plain": [
       "{'Verified': 0, 'Not Verified': 1, 'Source Verified': 2}"
      ]
     },
     "execution_count": 37,
     "metadata": {},
     "output_type": "execute_result"
    }
   ],
   "source": [
    "mean_labels2={k:i for i,k in enumerate(mean_labels,0)}\n",
    "mean_labels2"
   ]
  },
  {
   "cell_type": "code",
   "execution_count": 38,
   "metadata": {},
   "outputs": [],
   "source": [
    "loan_train['Verification Status_mean_labels']=loan_train['Verification Status'].map(mean_labels2)"
   ]
  },
  {
   "cell_type": "code",
   "execution_count": 39,
   "metadata": {},
   "outputs": [],
   "source": [
    "loan_train = loan_train.drop(columns=\"Verification Status\")"
   ]
  },
  {
   "cell_type": "markdown",
   "metadata": {},
   "source": [
    "###### Payment Plan"
   ]
  },
  {
   "cell_type": "code",
   "execution_count": 40,
   "metadata": {},
   "outputs": [
    {
     "data": {
      "text/plain": [
       "Index(['n'], dtype='object', name='Payment Plan')"
      ]
     },
     "execution_count": 40,
     "metadata": {},
     "output_type": "execute_result"
    }
   ],
   "source": [
    "mean_labels=loan_train.groupby(['Payment Plan'])['Loan Status'].mean().sort_values().index\n",
    "mean_labels"
   ]
  },
  {
   "cell_type": "code",
   "execution_count": 41,
   "metadata": {},
   "outputs": [
    {
     "data": {
      "text/plain": [
       "<enumerate at 0x1b46db12b80>"
      ]
     },
     "execution_count": 41,
     "metadata": {},
     "output_type": "execute_result"
    }
   ],
   "source": [
    "enumerate(mean_labels,0)"
   ]
  },
  {
   "cell_type": "code",
   "execution_count": 42,
   "metadata": {},
   "outputs": [
    {
     "data": {
      "text/plain": [
       "{'n': 0}"
      ]
     },
     "execution_count": 42,
     "metadata": {},
     "output_type": "execute_result"
    }
   ],
   "source": [
    "mean_labels2={k:i for i,k in enumerate(mean_labels,0)}\n",
    "mean_labels2"
   ]
  },
  {
   "cell_type": "code",
   "execution_count": 43,
   "metadata": {},
   "outputs": [],
   "source": [
    "loan_train['Payment Plan_mean_labels']=loan_train['Payment Plan'].map(mean_labels2)"
   ]
  },
  {
   "cell_type": "code",
   "execution_count": 44,
   "metadata": {},
   "outputs": [],
   "source": [
    "loan_train = loan_train.drop(columns=\"Payment Plan\")"
   ]
  },
  {
   "cell_type": "markdown",
   "metadata": {},
   "source": [
    "### Similarly for the test dataset"
   ]
  },
  {
   "cell_type": "code",
   "execution_count": 45,
   "metadata": {},
   "outputs": [
    {
     "data": {
      "text/plain": [
       "Index(['ID', 'Loan Amount', 'Funded Amount', 'Funded Amount Investor', 'Term',\n",
       "       'Batch Enrolled', 'Interest Rate', 'Grade', 'Sub Grade',\n",
       "       'Employment Duration', 'Home Ownership', 'Verification Status',\n",
       "       'Payment Plan', 'Loan Title', 'Debit to Income',\n",
       "       'Delinquency - two years', 'Inquires - six months', 'Open Account',\n",
       "       'Public Record', 'Revolving Balance', 'Revolving Utilities',\n",
       "       'Total Accounts', 'Initial List Status', 'Total Received Interest',\n",
       "       'Total Received Late Fee', 'Recoveries', 'Collection Recovery Fee',\n",
       "       'Collection 12 months Medical', 'Application Type', 'Last week Pay',\n",
       "       'Accounts Delinquent', 'Total Collection Amount',\n",
       "       'Total Current Balance', 'Total Revolving Credit Limit', 'Loan Status'],\n",
       "      dtype='object')"
      ]
     },
     "execution_count": 45,
     "metadata": {},
     "output_type": "execute_result"
    }
   ],
   "source": [
    "loan_test.columns"
   ]
  },
  {
   "cell_type": "markdown",
   "metadata": {},
   "source": [
    "#### Grade"
   ]
  },
  {
   "cell_type": "code",
   "execution_count": 46,
   "metadata": {},
   "outputs": [
    {
     "data": {
      "text/plain": [
       "Index(['A', 'B', 'C', 'D', 'E', 'F', 'G'], dtype='object', name='Grade')"
      ]
     },
     "execution_count": 46,
     "metadata": {},
     "output_type": "execute_result"
    }
   ],
   "source": [
    "mean_labels=loan_test.groupby(['Grade'])['Loan Status'].mean().sort_values().index\n",
    "mean_labels"
   ]
  },
  {
   "cell_type": "code",
   "execution_count": 47,
   "metadata": {},
   "outputs": [
    {
     "data": {
      "text/plain": [
       "<enumerate at 0x1b46db19780>"
      ]
     },
     "execution_count": 47,
     "metadata": {},
     "output_type": "execute_result"
    }
   ],
   "source": [
    "enumerate(mean_labels,0)"
   ]
  },
  {
   "cell_type": "code",
   "execution_count": 48,
   "metadata": {},
   "outputs": [
    {
     "data": {
      "text/plain": [
       "{'A': 0, 'B': 1, 'C': 2, 'D': 3, 'E': 4, 'F': 5, 'G': 6}"
      ]
     },
     "execution_count": 48,
     "metadata": {},
     "output_type": "execute_result"
    }
   ],
   "source": [
    "mean_labels2={k:i for i,k in enumerate(mean_labels,0)}\n",
    "mean_labels2"
   ]
  },
  {
   "cell_type": "code",
   "execution_count": 49,
   "metadata": {},
   "outputs": [],
   "source": [
    "loan_test['Grade_mean_labels']=loan_test['Grade'].map(mean_labels2)"
   ]
  },
  {
   "cell_type": "code",
   "execution_count": 50,
   "metadata": {},
   "outputs": [],
   "source": [
    "loan_test = loan_test.drop(columns=\"Grade\")"
   ]
  },
  {
   "cell_type": "markdown",
   "metadata": {},
   "source": [
    "#### Employment Duration "
   ]
  },
  {
   "cell_type": "code",
   "execution_count": 51,
   "metadata": {},
   "outputs": [
    {
     "data": {
      "text/plain": [
       "Index(['MORTGAGE', 'OWN', 'RENT'], dtype='object', name='Employment Duration')"
      ]
     },
     "execution_count": 51,
     "metadata": {},
     "output_type": "execute_result"
    }
   ],
   "source": [
    "mean_labels=loan_test.groupby(['Employment Duration'])['Loan Status'].mean().sort_values().index\n",
    "mean_labels"
   ]
  },
  {
   "cell_type": "code",
   "execution_count": 52,
   "metadata": {},
   "outputs": [
    {
     "data": {
      "text/plain": [
       "<enumerate at 0x1b46db142c0>"
      ]
     },
     "execution_count": 52,
     "metadata": {},
     "output_type": "execute_result"
    }
   ],
   "source": [
    "enumerate(mean_labels,0)"
   ]
  },
  {
   "cell_type": "code",
   "execution_count": 53,
   "metadata": {},
   "outputs": [
    {
     "data": {
      "text/plain": [
       "{'MORTGAGE': 0, 'OWN': 1, 'RENT': 2}"
      ]
     },
     "execution_count": 53,
     "metadata": {},
     "output_type": "execute_result"
    }
   ],
   "source": [
    "mean_labels2={k:i for i,k in enumerate(mean_labels,0)}\n",
    "mean_labels2"
   ]
  },
  {
   "cell_type": "code",
   "execution_count": 54,
   "metadata": {},
   "outputs": [],
   "source": [
    "loan_test['Employment Duration_mean_labels']=loan_test['Employment Duration'].map(mean_labels2)"
   ]
  },
  {
   "cell_type": "code",
   "execution_count": 55,
   "metadata": {},
   "outputs": [],
   "source": [
    "loan_test = loan_test.drop(columns=\"Employment Duration\")"
   ]
  },
  {
   "cell_type": "markdown",
   "metadata": {},
   "source": [
    "#### Application Type"
   ]
  },
  {
   "cell_type": "code",
   "execution_count": 56,
   "metadata": {},
   "outputs": [
    {
     "data": {
      "text/plain": [
       "Index(['INDIVIDUAL', 'JOINT'], dtype='object', name='Application Type')"
      ]
     },
     "execution_count": 56,
     "metadata": {},
     "output_type": "execute_result"
    }
   ],
   "source": [
    "mean_labels=loan_test.groupby(['Application Type'])['Loan Status'].mean().sort_values().index\n",
    "mean_labels"
   ]
  },
  {
   "cell_type": "code",
   "execution_count": 57,
   "metadata": {},
   "outputs": [
    {
     "data": {
      "text/plain": [
       "<enumerate at 0x1b46db0c900>"
      ]
     },
     "execution_count": 57,
     "metadata": {},
     "output_type": "execute_result"
    }
   ],
   "source": [
    "enumerate(mean_labels,0)"
   ]
  },
  {
   "cell_type": "code",
   "execution_count": 58,
   "metadata": {},
   "outputs": [
    {
     "data": {
      "text/plain": [
       "{'INDIVIDUAL': 0, 'JOINT': 1}"
      ]
     },
     "execution_count": 58,
     "metadata": {},
     "output_type": "execute_result"
    }
   ],
   "source": [
    "mean_labels2={k:i for i,k in enumerate(mean_labels,0)}\n",
    "mean_labels2"
   ]
  },
  {
   "cell_type": "code",
   "execution_count": 59,
   "metadata": {},
   "outputs": [],
   "source": [
    "loan_test['Application Type_mean_labels']=loan_test['Application Type'].map(mean_labels2)"
   ]
  },
  {
   "cell_type": "code",
   "execution_count": 60,
   "metadata": {},
   "outputs": [],
   "source": [
    "loan_test = loan_test.drop(columns=\"Application Type\")"
   ]
  },
  {
   "cell_type": "markdown",
   "metadata": {},
   "source": [
    "#### Verification Status"
   ]
  },
  {
   "cell_type": "code",
   "execution_count": 61,
   "metadata": {},
   "outputs": [
    {
     "data": {
      "text/plain": [
       "Index(['Not Verified', 'Source Verified', 'Verified'], dtype='object', name='Verification Status')"
      ]
     },
     "execution_count": 61,
     "metadata": {},
     "output_type": "execute_result"
    }
   ],
   "source": [
    "mean_labels=loan_test.groupby(['Verification Status'])['Loan Status'].mean().sort_values().index\n",
    "mean_labels"
   ]
  },
  {
   "cell_type": "code",
   "execution_count": 62,
   "metadata": {},
   "outputs": [
    {
     "data": {
      "text/plain": [
       "<enumerate at 0x1b46d30cb00>"
      ]
     },
     "execution_count": 62,
     "metadata": {},
     "output_type": "execute_result"
    }
   ],
   "source": [
    "enumerate(mean_labels,0)"
   ]
  },
  {
   "cell_type": "code",
   "execution_count": 63,
   "metadata": {},
   "outputs": [
    {
     "data": {
      "text/plain": [
       "{'Not Verified': 0, 'Source Verified': 1, 'Verified': 2}"
      ]
     },
     "execution_count": 63,
     "metadata": {},
     "output_type": "execute_result"
    }
   ],
   "source": [
    "mean_labels2={k:i for i,k in enumerate(mean_labels,0)}\n",
    "mean_labels2"
   ]
  },
  {
   "cell_type": "code",
   "execution_count": 64,
   "metadata": {},
   "outputs": [],
   "source": [
    "loan_test['Verification Status_mean_labels']=loan_test['Verification Status'].map(mean_labels2)"
   ]
  },
  {
   "cell_type": "code",
   "execution_count": 65,
   "metadata": {},
   "outputs": [],
   "source": [
    "loan_test = loan_test.drop(columns=\"Verification Status\")"
   ]
  },
  {
   "cell_type": "markdown",
   "metadata": {},
   "source": [
    "###### Payment Plan"
   ]
  },
  {
   "cell_type": "code",
   "execution_count": 66,
   "metadata": {},
   "outputs": [
    {
     "data": {
      "text/plain": [
       "Index(['n'], dtype='object', name='Payment Plan')"
      ]
     },
     "execution_count": 66,
     "metadata": {},
     "output_type": "execute_result"
    }
   ],
   "source": [
    "mean_labels=loan_test.groupby(['Payment Plan'])['Loan Status'].mean().sort_values().index\n",
    "mean_labels"
   ]
  },
  {
   "cell_type": "code",
   "execution_count": 67,
   "metadata": {},
   "outputs": [
    {
     "data": {
      "text/plain": [
       "<enumerate at 0x1b46d2dcb00>"
      ]
     },
     "execution_count": 67,
     "metadata": {},
     "output_type": "execute_result"
    }
   ],
   "source": [
    "enumerate(mean_labels,0)"
   ]
  },
  {
   "cell_type": "code",
   "execution_count": 68,
   "metadata": {},
   "outputs": [
    {
     "data": {
      "text/plain": [
       "{'n': 0}"
      ]
     },
     "execution_count": 68,
     "metadata": {},
     "output_type": "execute_result"
    }
   ],
   "source": [
    "mean_labels2={k:i for i,k in enumerate(mean_labels,0)}\n",
    "mean_labels2"
   ]
  },
  {
   "cell_type": "code",
   "execution_count": 69,
   "metadata": {},
   "outputs": [],
   "source": [
    "loan_test['Payment Plan_mean_labels']=loan_test['Payment Plan'].map(mean_labels2)"
   ]
  },
  {
   "cell_type": "code",
   "execution_count": 70,
   "metadata": {},
   "outputs": [],
   "source": [
    "loan_test = loan_test.drop(columns=\"Payment Plan\")"
   ]
  },
  {
   "cell_type": "markdown",
   "metadata": {},
   "source": [
    "#### Label Encoding For Train And Test Dataset"
   ]
  },
  {
   "cell_type": "code",
   "execution_count": 71,
   "metadata": {},
   "outputs": [
    {
     "data": {
      "text/plain": [
       "array([16,  4, 11, 15, 32, 29, 31, 17, 10, 13, 14, 39, 20, 19, 34, 37,  9,\n",
       "       30, 25,  7, 27, 38,  2, 26, 21,  3, 18, 28,  0, 40,  8,  6, 33, 24,\n",
       "       36, 35, 12, 23, 22,  5,  1])"
      ]
     },
     "execution_count": 71,
     "metadata": {},
     "output_type": "execute_result"
    }
   ],
   "source": [
    "from sklearn import preprocessing\n",
    " \n",
    "# label_encoder object knows how to understand word labels.\n",
    "label_encoder = preprocessing.LabelEncoder()\n",
    " \n",
    "# Encode labels in Rest Object Columns.\n",
    "loan_train['Batch Enrolled']= label_encoder.fit_transform(loan_train['Batch Enrolled'])\n",
    " \n",
    "loan_train['Batch Enrolled'].unique()"
   ]
  },
  {
   "cell_type": "code",
   "execution_count": 72,
   "metadata": {},
   "outputs": [],
   "source": [
    "loan_train['Sub Grade']= label_encoder.fit_transform(loan_train['Sub Grade'])"
   ]
  },
  {
   "cell_type": "code",
   "execution_count": 73,
   "metadata": {},
   "outputs": [],
   "source": [
    "loan_train['Loan Title']= label_encoder.fit_transform(loan_train['Loan Title'])"
   ]
  },
  {
   "cell_type": "code",
   "execution_count": 74,
   "metadata": {},
   "outputs": [],
   "source": [
    "loan_train['Initial List Status']= label_encoder.fit_transform(loan_train['Initial List Status'])"
   ]
  },
  {
   "cell_type": "markdown",
   "metadata": {},
   "source": [
    "#### Similarly For Test Dataset"
   ]
  },
  {
   "cell_type": "code",
   "execution_count": 75,
   "metadata": {},
   "outputs": [],
   "source": [
    "loan_test['Batch Enrolled']= label_encoder.fit_transform(loan_test['Batch Enrolled'])"
   ]
  },
  {
   "cell_type": "code",
   "execution_count": 76,
   "metadata": {},
   "outputs": [],
   "source": [
    "loan_test['Sub Grade']= label_encoder.fit_transform(loan_test['Sub Grade'])"
   ]
  },
  {
   "cell_type": "code",
   "execution_count": 77,
   "metadata": {},
   "outputs": [],
   "source": [
    "loan_test['Loan Title']= label_encoder.fit_transform(loan_test['Loan Title'])"
   ]
  },
  {
   "cell_type": "code",
   "execution_count": 78,
   "metadata": {},
   "outputs": [],
   "source": [
    "loan_test['Initial List Status']= label_encoder.fit_transform(loan_test['Initial List Status'])"
   ]
  },
  {
   "cell_type": "code",
   "execution_count": 79,
   "metadata": {},
   "outputs": [],
   "source": [
    "### Checking the dtypes for the dataset"
   ]
  },
  {
   "cell_type": "code",
   "execution_count": 80,
   "metadata": {},
   "outputs": [
    {
     "data": {
      "text/plain": [
       "ID                                      int64\n",
       "Loan Amount                             int64\n",
       "Funded Amount                           int64\n",
       "Funded Amount Investor                float64\n",
       "Term                                    int64\n",
       "Batch Enrolled                          int32\n",
       "Interest Rate                         float64\n",
       "Sub Grade                               int32\n",
       "Home Ownership                        float64\n",
       "Loan Title                              int32\n",
       "Debit to Income                       float64\n",
       "Delinquency - two years                 int64\n",
       "Inquires - six months                   int64\n",
       "Open Account                            int64\n",
       "Public Record                           int64\n",
       "Revolving Balance                       int64\n",
       "Revolving Utilities                   float64\n",
       "Total Accounts                          int64\n",
       "Initial List Status                     int32\n",
       "Total Received Interest               float64\n",
       "Total Received Late Fee               float64\n",
       "Recoveries                            float64\n",
       "Collection Recovery Fee               float64\n",
       "Collection 12 months Medical            int64\n",
       "Last week Pay                           int64\n",
       "Accounts Delinquent                     int64\n",
       "Total Collection Amount                 int64\n",
       "Total Current Balance                   int64\n",
       "Total Revolving Credit Limit            int64\n",
       "Loan Status                             int64\n",
       "Grade_mean_labels                       int64\n",
       "Employment Duration_ordinal_labels      int64\n",
       "Application Type_mean_labels            int64\n",
       "Verification Status_mean_labels         int64\n",
       "Payment Plan_mean_labels                int64\n",
       "dtype: object"
      ]
     },
     "execution_count": 80,
     "metadata": {},
     "output_type": "execute_result"
    }
   ],
   "source": [
    "loan_train.dtypes"
   ]
  },
  {
   "cell_type": "code",
   "execution_count": 81,
   "metadata": {},
   "outputs": [],
   "source": [
    "X_train = loan_train.drop(columns=\"Loan Status\")"
   ]
  },
  {
   "cell_type": "code",
   "execution_count": 82,
   "metadata": {},
   "outputs": [],
   "source": [
    "y_train = loan_train[\"Loan Status\"]"
   ]
  },
  {
   "cell_type": "code",
   "execution_count": 83,
   "metadata": {},
   "outputs": [],
   "source": [
    "X_test = loan_test.drop(columns=\"Loan Status\")"
   ]
  },
  {
   "cell_type": "code",
   "execution_count": 84,
   "metadata": {},
   "outputs": [],
   "source": [
    "y_test = loan_test[\"Loan Status\"]"
   ]
  },
  {
   "cell_type": "markdown",
   "metadata": {},
   "source": [
    "##### Dimensions "
   ]
  },
  {
   "cell_type": "code",
   "execution_count": 85,
   "metadata": {},
   "outputs": [
    {
     "data": {
      "text/plain": [
       "(67463, 34)"
      ]
     },
     "execution_count": 85,
     "metadata": {},
     "output_type": "execute_result"
    }
   ],
   "source": [
    "X_train.shape"
   ]
  },
  {
   "cell_type": "code",
   "execution_count": 86,
   "metadata": {},
   "outputs": [
    {
     "data": {
      "text/plain": [
       "(28913, 34)"
      ]
     },
     "execution_count": 86,
     "metadata": {},
     "output_type": "execute_result"
    }
   ],
   "source": [
    "X_test.shape"
   ]
  },
  {
   "cell_type": "code",
   "execution_count": 87,
   "metadata": {},
   "outputs": [
    {
     "data": {
      "text/plain": [
       "(67463,)"
      ]
     },
     "execution_count": 87,
     "metadata": {},
     "output_type": "execute_result"
    }
   ],
   "source": [
    "y_train.shape"
   ]
  },
  {
   "cell_type": "code",
   "execution_count": 88,
   "metadata": {},
   "outputs": [
    {
     "data": {
      "text/plain": [
       "(28913,)"
      ]
     },
     "execution_count": 88,
     "metadata": {},
     "output_type": "execute_result"
    }
   ],
   "source": [
    "y_test.shape"
   ]
  },
  {
   "cell_type": "markdown",
   "metadata": {},
   "source": [
    "# Scaling And Normalizarion "
   ]
  },
  {
   "cell_type": "markdown",
   "metadata": {},
   "source": [
    "##### Robust Scaler\n",
    "It is used to scale the feature to median and quantiles\n",
    "Scaling using median and quantiles consists of substracting the median to all the observations, and then dividing by the interquantile difference. The interquantile difference is the difference between the 75th and 25th quantile:\n",
    "\n",
    "IQR = 75th quantile - 25th quantile\n",
    "\n",
    "X_scaled = (X - X.median) / IQR"
   ]
  },
  {
   "cell_type": "code",
   "execution_count": 89,
   "metadata": {},
   "outputs": [
    {
     "data": {
      "text/html": [
       "<div>\n",
       "<style scoped>\n",
       "    .dataframe tbody tr th:only-of-type {\n",
       "        vertical-align: middle;\n",
       "    }\n",
       "\n",
       "    .dataframe tbody tr th {\n",
       "        vertical-align: top;\n",
       "    }\n",
       "\n",
       "    .dataframe thead th {\n",
       "        text-align: right;\n",
       "    }\n",
       "</style>\n",
       "<table border=\"1\" class=\"dataframe\">\n",
       "  <thead>\n",
       "    <tr style=\"text-align: right;\">\n",
       "      <th></th>\n",
       "      <th>ID</th>\n",
       "      <th>Loan Amount</th>\n",
       "      <th>Funded Amount</th>\n",
       "      <th>Funded Amount Investor</th>\n",
       "      <th>Term</th>\n",
       "      <th>Batch Enrolled</th>\n",
       "      <th>Interest Rate</th>\n",
       "      <th>Sub Grade</th>\n",
       "      <th>Home Ownership</th>\n",
       "      <th>Loan Title</th>\n",
       "      <th>...</th>\n",
       "      <th>Last week Pay</th>\n",
       "      <th>Accounts Delinquent</th>\n",
       "      <th>Total Collection Amount</th>\n",
       "      <th>Total Current Balance</th>\n",
       "      <th>Total Revolving Credit Limit</th>\n",
       "      <th>Grade_mean_labels</th>\n",
       "      <th>Employment Duration_ordinal_labels</th>\n",
       "      <th>Application Type_mean_labels</th>\n",
       "      <th>Verification Status_mean_labels</th>\n",
       "      <th>Payment Plan_mean_labels</th>\n",
       "    </tr>\n",
       "  </thead>\n",
       "  <tbody>\n",
       "    <tr>\n",
       "      <th>0</th>\n",
       "      <td>1.305072</td>\n",
       "      <td>-0.502150</td>\n",
       "      <td>1.532272</td>\n",
       "      <td>-0.058215</td>\n",
       "      <td>0.0</td>\n",
       "      <td>-0.157895</td>\n",
       "      <td>-0.049565</td>\n",
       "      <td>0.181818</td>\n",
       "      <td>2.492479</td>\n",
       "      <td>0.000000</td>\n",
       "      <td>...</td>\n",
       "      <td>-0.271429</td>\n",
       "      <td>0.0</td>\n",
       "      <td>-0.227273</td>\n",
       "      <td>1.083912</td>\n",
       "      <td>-0.421575</td>\n",
       "      <td>-0.666667</td>\n",
       "      <td>0.0</td>\n",
       "      <td>0.0</td>\n",
       "      <td>0.0</td>\n",
       "      <td>0.0</td>\n",
       "    </tr>\n",
       "    <tr>\n",
       "      <th>1</th>\n",
       "      <td>-0.455541</td>\n",
       "      <td>-1.030594</td>\n",
       "      <td>-0.087973</td>\n",
       "      <td>-0.075438</td>\n",
       "      <td>0.0</td>\n",
       "      <td>-0.789474</td>\n",
       "      <td>0.175612</td>\n",
       "      <td>0.545455</td>\n",
       "      <td>-0.687154</td>\n",
       "      <td>0.636364</td>\n",
       "      <td>...</td>\n",
       "      <td>0.585714</td>\n",
       "      <td>0.0</td>\n",
       "      <td>0.772727</td>\n",
       "      <td>0.360913</td>\n",
       "      <td>0.173065</td>\n",
       "      <td>0.000000</td>\n",
       "      <td>1.0</td>\n",
       "      <td>0.0</td>\n",
       "      <td>0.5</td>\n",
       "      <td>0.0</td>\n",
       "    </tr>\n",
       "    <tr>\n",
       "      <th>2</th>\n",
       "      <td>-0.441184</td>\n",
       "      <td>1.009013</td>\n",
       "      <td>-0.297849</td>\n",
       "      <td>1.104519</td>\n",
       "      <td>0.0</td>\n",
       "      <td>-0.421053</td>\n",
       "      <td>0.238582</td>\n",
       "      <td>0.636364</td>\n",
       "      <td>0.516400</td>\n",
       "      <td>0.000000</td>\n",
       "      <td>...</td>\n",
       "      <td>-0.028571</td>\n",
       "      <td>0.0</td>\n",
       "      <td>-0.090909</td>\n",
       "      <td>-0.160498</td>\n",
       "      <td>0.392731</td>\n",
       "      <td>1.000000</td>\n",
       "      <td>0.0</td>\n",
       "      <td>0.0</td>\n",
       "      <td>0.5</td>\n",
       "      <td>0.0</td>\n",
       "    </tr>\n",
       "    <tr>\n",
       "      <th>3</th>\n",
       "      <td>-0.311640</td>\n",
       "      <td>-0.405408</td>\n",
       "      <td>-0.486010</td>\n",
       "      <td>0.637354</td>\n",
       "      <td>0.0</td>\n",
       "      <td>-0.210526</td>\n",
       "      <td>1.093358</td>\n",
       "      <td>0.090909</td>\n",
       "      <td>0.907235</td>\n",
       "      <td>0.636364</td>\n",
       "      <td>...</td>\n",
       "      <td>-0.414286</td>\n",
       "      <td>0.0</td>\n",
       "      <td>0.181818</td>\n",
       "      <td>-0.613385</td>\n",
       "      <td>1.812388</td>\n",
       "      <td>0.000000</td>\n",
       "      <td>0.0</td>\n",
       "      <td>0.0</td>\n",
       "      <td>0.5</td>\n",
       "      <td>0.0</td>\n",
       "    </tr>\n",
       "    <tr>\n",
       "      <th>4</th>\n",
       "      <td>-0.098519</td>\n",
       "      <td>0.067554</td>\n",
       "      <td>0.014689</td>\n",
       "      <td>0.093562</td>\n",
       "      <td>0.0</td>\n",
       "      <td>0.684211</td>\n",
       "      <td>0.741486</td>\n",
       "      <td>0.636364</td>\n",
       "      <td>-0.584649</td>\n",
       "      <td>-0.363636</td>\n",
       "      <td>...</td>\n",
       "      <td>-0.714286</td>\n",
       "      <td>0.0</td>\n",
       "      <td>17.909091</td>\n",
       "      <td>0.043035</td>\n",
       "      <td>0.243675</td>\n",
       "      <td>0.000000</td>\n",
       "      <td>0.0</td>\n",
       "      <td>0.0</td>\n",
       "      <td>0.5</td>\n",
       "      <td>0.0</td>\n",
       "    </tr>\n",
       "  </tbody>\n",
       "</table>\n",
       "<p>5 rows × 34 columns</p>\n",
       "</div>"
      ],
      "text/plain": [
       "         ID  Loan Amount  Funded Amount  Funded Amount Investor  Term  \\\n",
       "0  1.305072    -0.502150       1.532272               -0.058215   0.0   \n",
       "1 -0.455541    -1.030594      -0.087973               -0.075438   0.0   \n",
       "2 -0.441184     1.009013      -0.297849                1.104519   0.0   \n",
       "3 -0.311640    -0.405408      -0.486010                0.637354   0.0   \n",
       "4 -0.098519     0.067554       0.014689                0.093562   0.0   \n",
       "\n",
       "   Batch Enrolled  Interest Rate  Sub Grade  Home Ownership  Loan Title  ...  \\\n",
       "0       -0.157895      -0.049565   0.181818        2.492479    0.000000  ...   \n",
       "1       -0.789474       0.175612   0.545455       -0.687154    0.636364  ...   \n",
       "2       -0.421053       0.238582   0.636364        0.516400    0.000000  ...   \n",
       "3       -0.210526       1.093358   0.090909        0.907235    0.636364  ...   \n",
       "4        0.684211       0.741486   0.636364       -0.584649   -0.363636  ...   \n",
       "\n",
       "   Last week Pay  Accounts Delinquent  Total Collection Amount  \\\n",
       "0      -0.271429                  0.0                -0.227273   \n",
       "1       0.585714                  0.0                 0.772727   \n",
       "2      -0.028571                  0.0                -0.090909   \n",
       "3      -0.414286                  0.0                 0.181818   \n",
       "4      -0.714286                  0.0                17.909091   \n",
       "\n",
       "   Total Current Balance  Total Revolving Credit Limit  Grade_mean_labels  \\\n",
       "0               1.083912                     -0.421575          -0.666667   \n",
       "1               0.360913                      0.173065           0.000000   \n",
       "2              -0.160498                      0.392731           1.000000   \n",
       "3              -0.613385                      1.812388           0.000000   \n",
       "4               0.043035                      0.243675           0.000000   \n",
       "\n",
       "   Employment Duration_ordinal_labels  Application Type_mean_labels  \\\n",
       "0                                 0.0                           0.0   \n",
       "1                                 1.0                           0.0   \n",
       "2                                 0.0                           0.0   \n",
       "3                                 0.0                           0.0   \n",
       "4                                 0.0                           0.0   \n",
       "\n",
       "   Verification Status_mean_labels  Payment Plan_mean_labels  \n",
       "0                              0.0                       0.0  \n",
       "1                              0.5                       0.0  \n",
       "2                              0.5                       0.0  \n",
       "3                              0.5                       0.0  \n",
       "4                              0.5                       0.0  \n",
       "\n",
       "[5 rows x 34 columns]"
      ]
     },
     "execution_count": 89,
     "metadata": {},
     "output_type": "execute_result"
    }
   ],
   "source": [
    "from sklearn.preprocessing import RobustScaler\n",
    "scaler=RobustScaler()\n",
    "X_train=pd.DataFrame(scaler.fit_transform(X_train),columns=X_train.columns)\n",
    "X_train.head()"
   ]
  },
  {
   "cell_type": "code",
   "execution_count": 90,
   "metadata": {},
   "outputs": [
    {
     "data": {
      "text/html": [
       "<div>\n",
       "<style scoped>\n",
       "    .dataframe tbody tr th:only-of-type {\n",
       "        vertical-align: middle;\n",
       "    }\n",
       "\n",
       "    .dataframe tbody tr th {\n",
       "        vertical-align: top;\n",
       "    }\n",
       "\n",
       "    .dataframe thead th {\n",
       "        text-align: right;\n",
       "    }\n",
       "</style>\n",
       "<table border=\"1\" class=\"dataframe\">\n",
       "  <thead>\n",
       "    <tr style=\"text-align: right;\">\n",
       "      <th></th>\n",
       "      <th>ID</th>\n",
       "      <th>Loan Amount</th>\n",
       "      <th>Funded Amount</th>\n",
       "      <th>Funded Amount Investor</th>\n",
       "      <th>Term</th>\n",
       "      <th>Batch Enrolled</th>\n",
       "      <th>Interest Rate</th>\n",
       "      <th>Sub Grade</th>\n",
       "      <th>Home Ownership</th>\n",
       "      <th>Loan Title</th>\n",
       "      <th>...</th>\n",
       "      <th>Last week Pay</th>\n",
       "      <th>Accounts Delinquent</th>\n",
       "      <th>Total Collection Amount</th>\n",
       "      <th>Total Current Balance</th>\n",
       "      <th>Total Revolving Credit Limit</th>\n",
       "      <th>Grade_mean_labels</th>\n",
       "      <th>Employment Duration_mean_labels</th>\n",
       "      <th>Application Type_mean_labels</th>\n",
       "      <th>Verification Status_mean_labels</th>\n",
       "      <th>Payment Plan_mean_labels</th>\n",
       "    </tr>\n",
       "  </thead>\n",
       "  <tbody>\n",
       "    <tr>\n",
       "      <th>0</th>\n",
       "      <td>0.757752</td>\n",
       "      <td>0.128000</td>\n",
       "      <td>-0.229054</td>\n",
       "      <td>0.324677</td>\n",
       "      <td>0.0</td>\n",
       "      <td>-0.055556</td>\n",
       "      <td>0.091084</td>\n",
       "      <td>0.4</td>\n",
       "      <td>0.172564</td>\n",
       "      <td>1.000000</td>\n",
       "      <td>...</td>\n",
       "      <td>1.136364</td>\n",
       "      <td>0.0</td>\n",
       "      <td>-0.146341</td>\n",
       "      <td>2.053319</td>\n",
       "      <td>-0.590340</td>\n",
       "      <td>-1.0</td>\n",
       "      <td>1.0</td>\n",
       "      <td>0.0</td>\n",
       "      <td>0.0</td>\n",
       "      <td>0.0</td>\n",
       "    </tr>\n",
       "    <tr>\n",
       "      <th>1</th>\n",
       "      <td>-0.085027</td>\n",
       "      <td>-0.713011</td>\n",
       "      <td>-0.125232</td>\n",
       "      <td>-0.033030</td>\n",
       "      <td>0.0</td>\n",
       "      <td>0.055556</td>\n",
       "      <td>-0.982062</td>\n",
       "      <td>1.1</td>\n",
       "      <td>-0.702040</td>\n",
       "      <td>-1.000000</td>\n",
       "      <td>...</td>\n",
       "      <td>-0.060606</td>\n",
       "      <td>0.0</td>\n",
       "      <td>-0.707317</td>\n",
       "      <td>-0.206781</td>\n",
       "      <td>-0.663338</td>\n",
       "      <td>-0.5</td>\n",
       "      <td>0.0</td>\n",
       "      <td>0.0</td>\n",
       "      <td>0.0</td>\n",
       "      <td>0.0</td>\n",
       "    </tr>\n",
       "    <tr>\n",
       "      <th>2</th>\n",
       "      <td>-0.399743</td>\n",
       "      <td>0.816084</td>\n",
       "      <td>1.020037</td>\n",
       "      <td>-0.137376</td>\n",
       "      <td>0.0</td>\n",
       "      <td>-0.777778</td>\n",
       "      <td>0.582843</td>\n",
       "      <td>0.1</td>\n",
       "      <td>-0.401386</td>\n",
       "      <td>0.000000</td>\n",
       "      <td>...</td>\n",
       "      <td>-0.863636</td>\n",
       "      <td>0.0</td>\n",
       "      <td>-0.097561</td>\n",
       "      <td>0.984382</td>\n",
       "      <td>0.033748</td>\n",
       "      <td>-1.0</td>\n",
       "      <td>0.0</td>\n",
       "      <td>0.0</td>\n",
       "      <td>0.0</td>\n",
       "      <td>0.0</td>\n",
       "    </tr>\n",
       "    <tr>\n",
       "      <th>3</th>\n",
       "      <td>-0.393894</td>\n",
       "      <td>1.278400</td>\n",
       "      <td>-0.285691</td>\n",
       "      <td>0.256556</td>\n",
       "      <td>0.0</td>\n",
       "      <td>0.722222</td>\n",
       "      <td>-0.223245</td>\n",
       "      <td>-1.0</td>\n",
       "      <td>-0.000600</td>\n",
       "      <td>-0.636364</td>\n",
       "      <td>...</td>\n",
       "      <td>-0.590909</td>\n",
       "      <td>0.0</td>\n",
       "      <td>0.048780</td>\n",
       "      <td>-0.383818</td>\n",
       "      <td>-0.473691</td>\n",
       "      <td>-1.0</td>\n",
       "      <td>1.0</td>\n",
       "      <td>0.0</td>\n",
       "      <td>0.5</td>\n",
       "      <td>0.0</td>\n",
       "    </tr>\n",
       "    <tr>\n",
       "      <th>4</th>\n",
       "      <td>0.541270</td>\n",
       "      <td>-0.566063</td>\n",
       "      <td>-0.305486</td>\n",
       "      <td>-0.603712</td>\n",
       "      <td>-1.0</td>\n",
       "      <td>0.555556</td>\n",
       "      <td>-0.324196</td>\n",
       "      <td>-0.4</td>\n",
       "      <td>0.516302</td>\n",
       "      <td>0.000000</td>\n",
       "      <td>...</td>\n",
       "      <td>0.666667</td>\n",
       "      <td>0.0</td>\n",
       "      <td>0.073171</td>\n",
       "      <td>-0.103525</td>\n",
       "      <td>0.297412</td>\n",
       "      <td>0.0</td>\n",
       "      <td>0.5</td>\n",
       "      <td>0.0</td>\n",
       "      <td>0.5</td>\n",
       "      <td>0.0</td>\n",
       "    </tr>\n",
       "  </tbody>\n",
       "</table>\n",
       "<p>5 rows × 34 columns</p>\n",
       "</div>"
      ],
      "text/plain": [
       "         ID  Loan Amount  Funded Amount  Funded Amount Investor  Term  \\\n",
       "0  0.757752     0.128000      -0.229054                0.324677   0.0   \n",
       "1 -0.085027    -0.713011      -0.125232               -0.033030   0.0   \n",
       "2 -0.399743     0.816084       1.020037               -0.137376   0.0   \n",
       "3 -0.393894     1.278400      -0.285691                0.256556   0.0   \n",
       "4  0.541270    -0.566063      -0.305486               -0.603712  -1.0   \n",
       "\n",
       "   Batch Enrolled  Interest Rate  Sub Grade  Home Ownership  Loan Title  ...  \\\n",
       "0       -0.055556       0.091084        0.4        0.172564    1.000000  ...   \n",
       "1        0.055556      -0.982062        1.1       -0.702040   -1.000000  ...   \n",
       "2       -0.777778       0.582843        0.1       -0.401386    0.000000  ...   \n",
       "3        0.722222      -0.223245       -1.0       -0.000600   -0.636364  ...   \n",
       "4        0.555556      -0.324196       -0.4        0.516302    0.000000  ...   \n",
       "\n",
       "   Last week Pay  Accounts Delinquent  Total Collection Amount  \\\n",
       "0       1.136364                  0.0                -0.146341   \n",
       "1      -0.060606                  0.0                -0.707317   \n",
       "2      -0.863636                  0.0                -0.097561   \n",
       "3      -0.590909                  0.0                 0.048780   \n",
       "4       0.666667                  0.0                 0.073171   \n",
       "\n",
       "   Total Current Balance  Total Revolving Credit Limit  Grade_mean_labels  \\\n",
       "0               2.053319                     -0.590340               -1.0   \n",
       "1              -0.206781                     -0.663338               -0.5   \n",
       "2               0.984382                      0.033748               -1.0   \n",
       "3              -0.383818                     -0.473691               -1.0   \n",
       "4              -0.103525                      0.297412                0.0   \n",
       "\n",
       "   Employment Duration_mean_labels  Application Type_mean_labels  \\\n",
       "0                              1.0                           0.0   \n",
       "1                              0.0                           0.0   \n",
       "2                              0.0                           0.0   \n",
       "3                              1.0                           0.0   \n",
       "4                              0.5                           0.0   \n",
       "\n",
       "   Verification Status_mean_labels  Payment Plan_mean_labels  \n",
       "0                              0.0                       0.0  \n",
       "1                              0.0                       0.0  \n",
       "2                              0.0                       0.0  \n",
       "3                              0.5                       0.0  \n",
       "4                              0.5                       0.0  \n",
       "\n",
       "[5 rows x 34 columns]"
      ]
     },
     "execution_count": 90,
     "metadata": {},
     "output_type": "execute_result"
    }
   ],
   "source": [
    "from sklearn.preprocessing import RobustScaler\n",
    "scaler=RobustScaler()\n",
    "X_test=pd.DataFrame(scaler.fit_transform(X_test),columns=X_test.columns)\n",
    "X_test.head()"
   ]
  },
  {
   "cell_type": "markdown",
   "metadata": {},
   "source": [
    "##### DISTRIBUTION OF THE `COLUMNS` "
   ]
  },
  {
   "cell_type": "code",
   "execution_count": 91,
   "metadata": {},
   "outputs": [],
   "source": [
    "import matplotlib.pyplot as plt"
   ]
  },
  {
   "cell_type": "code",
   "execution_count": 92,
   "metadata": {},
   "outputs": [
    {
     "data": {
      "image/png": "[encoded data removed]",
      "text/plain": [
       "<Figure size 1296x360 with 6 Axes>"
      ]
     },
     "metadata": {
      "needs_background": "light"
     },
     "output_type": "display_data"
    }
   ],
   "source": [
    "plt.figure(figsize=(18,5))\n",
    "plt.subplot(1,6,1)\n",
    "plt.hist(X_train['Loan Amount'],bins=20)\n",
    "plt.subplot(1,6,2)\n",
    "plt.hist(X_train['Funded Amount'],bins=20)\n",
    "plt.subplot(1,6,3)\n",
    "plt.hist(X_train['Funded Amount Investor'],bins=20)\n",
    "plt.subplot(1,6,4)\n",
    "plt.hist(X_train['Batch Enrolled'],bins=20)\n",
    "plt.subplot(1,6,5)\n",
    "plt.hist(X_train['Interest Rate'],bins=20)\n",
    "plt.subplot(1,6,6)\n",
    "plt.hist(X_train['Home Ownership'],bins=20)\n",
    "plt.show()"
   ]
  },
  {
   "cell_type": "markdown",
   "metadata": {},
   "source": [
    "### Checking For `Outliers`"
   ]
  },
  {
   "cell_type": "markdown",
   "metadata": {},
   "source": [
    "##### Outlier Treatment"
   ]
  },
  {
   "cell_type": "markdown",
   "metadata": {},
   "source": [
    "Perhaps the most important hyperparameter in the model is the “contamination” argument, which is used to help estimate the number of outliers in the dataset. This is a value between 0.0 and 0.5 and by default is set to 0.1."
   ]
  },
  {
   "cell_type": "markdown",
   "metadata": {},
   "source": [
    "##### Isolation Forest"
   ]
  },
  {
   "cell_type": "markdown",
   "metadata": {},
   "source": [
    "`Isolation Forest`, or iForest for short, is a tree-based anomaly detection algorithm.\n",
    "\n",
    "It is based on modeling the normal data in such a way as to isolate anomalies that are both few in number and different in the feature space.\n",
    "\n",
    "for reference,\n",
    "https://machinelearningmastery.com/model-based-outlier-detection-and-removal-in-python/\n"
   ]
  },
  {
   "cell_type": "code",
   "execution_count": 93,
   "metadata": {},
   "outputs": [],
   "source": [
    "from pandas import read_csv\n",
    "from sklearn.model_selection import train_test_split\n",
    "from sklearn.linear_model import LinearRegression\n",
    "from sklearn.ensemble import IsolationForest\n",
    "from sklearn.metrics import mean_absolute_error"
   ]
  },
  {
   "cell_type": "code",
   "execution_count": 94,
   "metadata": {},
   "outputs": [],
   "source": [
    "# identify outliers in the training dataset\n",
    "iso = IsolationForest(contamination=0.1)\n",
    "yhat = iso.fit_predict(X_train)"
   ]
  },
  {
   "cell_type": "code",
   "execution_count": 95,
   "metadata": {},
   "outputs": [],
   "source": [
    "# select all rows that are not outliers\n",
    "mask = yhat != -1"
   ]
  },
  {
   "cell_type": "code",
   "execution_count": 98,
   "metadata": {},
   "outputs": [
    {
     "data": {
      "text/plain": [
       "array([ 1,  1,  1, ..., -1,  1,  1])"
      ]
     },
     "execution_count": 98,
     "metadata": {},
     "output_type": "execute_result"
    }
   ],
   "source": [
    "yhat"
   ]
  },
  {
   "cell_type": "code",
   "execution_count": 99,
   "metadata": {},
   "outputs": [],
   "source": [
    "X_train = X_train[mask]"
   ]
  },
  {
   "cell_type": "code",
   "execution_count": 100,
   "metadata": {},
   "outputs": [],
   "source": [
    "y_train = y_train[mask]"
   ]
  },
  {
   "cell_type": "code",
   "execution_count": 101,
   "metadata": {},
   "outputs": [
    {
     "name": "stdout",
     "output_type": "stream",
     "text": [
      "(60716, 34) (60716,)\n"
     ]
    }
   ],
   "source": [
    "# summarize the shape of the updated training dataset\n",
    "print(X_train.shape, y_train.shape)"
   ]
  },
  {
   "cell_type": "code",
   "execution_count": 103,
   "metadata": {},
   "outputs": [],
   "source": [
    "# X_train"
   ]
  },
  {
   "cell_type": "markdown",
   "metadata": {},
   "source": [
    "## FEATURE SELECTION "
   ]
  },
  {
   "cell_type": "markdown",
   "metadata": {},
   "source": [
    "#### Univariate Selection"
   ]
  },
  {
   "cell_type": "code",
   "execution_count": 104,
   "metadata": {},
   "outputs": [],
   "source": [
    "from sklearn.feature_selection import SelectKBest\n",
    "from sklearn.feature_selection import chi2"
   ]
  },
  {
   "cell_type": "code",
   "execution_count": 105,
   "metadata": {},
   "outputs": [
    {
     "data": {
      "text/plain": [
       "ExtraTreesClassifier()"
      ]
     },
     "execution_count": 105,
     "metadata": {},
     "output_type": "execute_result"
    }
   ],
   "source": [
    "from sklearn.ensemble import ExtraTreesClassifier\n",
    "import matplotlib.pyplot as plt\n",
    "model=ExtraTreesClassifier()\n",
    "model.fit(X_train,y_train)"
   ]
  },
  {
   "cell_type": "code",
   "execution_count": 106,
   "metadata": {},
   "outputs": [
    {
     "name": "stdout",
     "output_type": "stream",
     "text": [
      "[0.03918977 0.0395768  0.03938488 0.03976678 0.01988309 0.03877105\n",
      " 0.03957872 0.03906354 0.03996586 0.0333959  0.03931022 0.02208436\n",
      " 0.01244046 0.03903719 0.00864419 0.03910248 0.03964077 0.0401766\n",
      " 0.00594758 0.03932283 0.03949337 0.03912849 0.03862986 0.00278984\n",
      " 0.03948041 0.         0.03915725 0.04003764 0.03923886 0.03056043\n",
      " 0.01410488 0.00043277 0.02266313 0.        ]\n"
     ]
    }
   ],
   "source": [
    "print(model.feature_importances_)\n"
   ]
  },
  {
   "cell_type": "code",
   "execution_count": 107,
   "metadata": {},
   "outputs": [
    {
     "data": {
      "image/png": "[encoded data removed]",
      "text/plain": [
       "<Figure size 1080x720 with 1 Axes>"
      ]
     },
     "metadata": {
      "needs_background": "light"
     },
     "output_type": "display_data"
    }
   ],
   "source": [
    "plt.figure(figsize = [15,10])\n",
    "ranked_features=pd.Series(model.feature_importances_,index=X_train.columns)\n",
    "ranked_features.nlargest(20).plot(kind='barh')\n",
    "plt.show()"
   ]
  },
  {
   "cell_type": "markdown",
   "metadata": {},
   "source": [
    "### Importance Of The Features Wrt, `Label/Target Variable`"
   ]
  },
  {
   "cell_type": "code",
   "execution_count": 108,
   "metadata": {},
   "outputs": [
    {
     "data": {
      "text/plain": [
       "Total Accounts                  0.040177\n",
       "Total Current Balance           0.040038\n",
       "Home Ownership                  0.039966\n",
       "Funded Amount Investor          0.039767\n",
       "Revolving Utilities             0.039641\n",
       "Interest Rate                   0.039579\n",
       "Loan Amount                     0.039577\n",
       "Total Received Late Fee         0.039493\n",
       "Last week Pay                   0.039480\n",
       "Funded Amount                   0.039385\n",
       "Total Received Interest         0.039323\n",
       "Debit to Income                 0.039310\n",
       "Total Revolving Credit Limit    0.039239\n",
       "ID                              0.039190\n",
       "Total Collection Amount         0.039157\n",
       "Recoveries                      0.039128\n",
       "Revolving Balance               0.039102\n",
       "Sub Grade                       0.039064\n",
       "Open Account                    0.039037\n",
       "Batch Enrolled                  0.038771\n",
       "dtype: float64"
      ]
     },
     "execution_count": 108,
     "metadata": {},
     "output_type": "execute_result"
    }
   ],
   "source": [
    "ranked_features.nlargest(20, keep='all')"
   ]
  },
  {
   "cell_type": "markdown",
   "metadata": {},
   "source": [
    "### Correlation - To Check `Multicollinearity`"
   ]
  },
  {
   "cell_type": "code",
   "execution_count": 109,
   "metadata": {},
   "outputs": [
    {
     "data": {
      "text/html": [
       "<div>\n",
       "<style scoped>\n",
       "    .dataframe tbody tr th:only-of-type {\n",
       "        vertical-align: middle;\n",
       "    }\n",
       "\n",
       "    .dataframe tbody tr th {\n",
       "        vertical-align: top;\n",
       "    }\n",
       "\n",
       "    .dataframe thead th {\n",
       "        text-align: right;\n",
       "    }\n",
       "</style>\n",
       "<table border=\"1\" class=\"dataframe\">\n",
       "  <thead>\n",
       "    <tr style=\"text-align: right;\">\n",
       "      <th></th>\n",
       "      <th>ID</th>\n",
       "      <th>Loan Amount</th>\n",
       "      <th>Funded Amount</th>\n",
       "      <th>Funded Amount Investor</th>\n",
       "      <th>Term</th>\n",
       "      <th>Batch Enrolled</th>\n",
       "      <th>Interest Rate</th>\n",
       "      <th>Sub Grade</th>\n",
       "      <th>Home Ownership</th>\n",
       "      <th>Loan Title</th>\n",
       "      <th>...</th>\n",
       "      <th>Last week Pay</th>\n",
       "      <th>Accounts Delinquent</th>\n",
       "      <th>Total Collection Amount</th>\n",
       "      <th>Total Current Balance</th>\n",
       "      <th>Total Revolving Credit Limit</th>\n",
       "      <th>Grade_mean_labels</th>\n",
       "      <th>Employment Duration_ordinal_labels</th>\n",
       "      <th>Application Type_mean_labels</th>\n",
       "      <th>Verification Status_mean_labels</th>\n",
       "      <th>Payment Plan_mean_labels</th>\n",
       "    </tr>\n",
       "  </thead>\n",
       "  <tbody>\n",
       "    <tr>\n",
       "      <th>ID</th>\n",
       "      <td>1.000000</td>\n",
       "      <td>-0.003415</td>\n",
       "      <td>-0.008377</td>\n",
       "      <td>-0.004251</td>\n",
       "      <td>0.005346</td>\n",
       "      <td>0.005690</td>\n",
       "      <td>0.002891</td>\n",
       "      <td>0.008712</td>\n",
       "      <td>-0.006638</td>\n",
       "      <td>0.000910</td>\n",
       "      <td>...</td>\n",
       "      <td>0.001111</td>\n",
       "      <td>NaN</td>\n",
       "      <td>-0.001994</td>\n",
       "      <td>-0.006960</td>\n",
       "      <td>-0.003634</td>\n",
       "      <td>-0.002763</td>\n",
       "      <td>0.001108</td>\n",
       "      <td>-0.002386</td>\n",
       "      <td>0.007647</td>\n",
       "      <td>NaN</td>\n",
       "    </tr>\n",
       "    <tr>\n",
       "      <th>Loan Amount</th>\n",
       "      <td>-0.003415</td>\n",
       "      <td>1.000000</td>\n",
       "      <td>-0.004405</td>\n",
       "      <td>0.003306</td>\n",
       "      <td>0.004159</td>\n",
       "      <td>0.000086</td>\n",
       "      <td>-0.004428</td>\n",
       "      <td>-0.003809</td>\n",
       "      <td>0.010680</td>\n",
       "      <td>-0.002541</td>\n",
       "      <td>...</td>\n",
       "      <td>-0.001721</td>\n",
       "      <td>NaN</td>\n",
       "      <td>-0.004810</td>\n",
       "      <td>-0.006410</td>\n",
       "      <td>0.005127</td>\n",
       "      <td>-0.034148</td>\n",
       "      <td>-0.025070</td>\n",
       "      <td>-0.006519</td>\n",
       "      <td>-0.014471</td>\n",
       "      <td>NaN</td>\n",
       "    </tr>\n",
       "    <tr>\n",
       "      <th>Funded Amount</th>\n",
       "      <td>-0.008377</td>\n",
       "      <td>-0.004405</td>\n",
       "      <td>1.000000</td>\n",
       "      <td>0.008194</td>\n",
       "      <td>0.009767</td>\n",
       "      <td>0.001890</td>\n",
       "      <td>-0.001125</td>\n",
       "      <td>0.000200</td>\n",
       "      <td>-0.011631</td>\n",
       "      <td>0.000216</td>\n",
       "      <td>...</td>\n",
       "      <td>-0.002606</td>\n",
       "      <td>NaN</td>\n",
       "      <td>-0.016952</td>\n",
       "      <td>-0.004012</td>\n",
       "      <td>0.002168</td>\n",
       "      <td>-0.006928</td>\n",
       "      <td>0.014151</td>\n",
       "      <td>-0.003957</td>\n",
       "      <td>-0.001309</td>\n",
       "      <td>NaN</td>\n",
       "    </tr>\n",
       "    <tr>\n",
       "      <th>Funded Amount Investor</th>\n",
       "      <td>-0.004251</td>\n",
       "      <td>0.003306</td>\n",
       "      <td>0.008194</td>\n",
       "      <td>1.000000</td>\n",
       "      <td>0.008418</td>\n",
       "      <td>0.002319</td>\n",
       "      <td>-0.007588</td>\n",
       "      <td>-0.002659</td>\n",
       "      <td>-0.004271</td>\n",
       "      <td>-0.001239</td>\n",
       "      <td>...</td>\n",
       "      <td>0.002505</td>\n",
       "      <td>NaN</td>\n",
       "      <td>-0.009777</td>\n",
       "      <td>-0.002444</td>\n",
       "      <td>-0.005286</td>\n",
       "      <td>0.005263</td>\n",
       "      <td>-0.012218</td>\n",
       "      <td>-0.006559</td>\n",
       "      <td>-0.002197</td>\n",
       "      <td>NaN</td>\n",
       "    </tr>\n",
       "    <tr>\n",
       "      <th>Term</th>\n",
       "      <td>0.005346</td>\n",
       "      <td>0.004159</td>\n",
       "      <td>0.009767</td>\n",
       "      <td>0.008418</td>\n",
       "      <td>1.000000</td>\n",
       "      <td>-0.003601</td>\n",
       "      <td>0.006941</td>\n",
       "      <td>0.003931</td>\n",
       "      <td>-0.001017</td>\n",
       "      <td>0.004409</td>\n",
       "      <td>...</td>\n",
       "      <td>0.006462</td>\n",
       "      <td>NaN</td>\n",
       "      <td>0.011811</td>\n",
       "      <td>0.006324</td>\n",
       "      <td>0.007704</td>\n",
       "      <td>0.010808</td>\n",
       "      <td>-0.000758</td>\n",
       "      <td>0.002211</td>\n",
       "      <td>-0.001131</td>\n",
       "      <td>NaN</td>\n",
       "    </tr>\n",
       "    <tr>\n",
       "      <th>Batch Enrolled</th>\n",
       "      <td>0.005690</td>\n",
       "      <td>0.000086</td>\n",
       "      <td>0.001890</td>\n",
       "      <td>0.002319</td>\n",
       "      <td>-0.003601</td>\n",
       "      <td>1.000000</td>\n",
       "      <td>0.000386</td>\n",
       "      <td>0.001598</td>\n",
       "      <td>0.002371</td>\n",
       "      <td>-0.003854</td>\n",
       "      <td>...</td>\n",
       "      <td>-0.003972</td>\n",
       "      <td>NaN</td>\n",
       "      <td>0.010022</td>\n",
       "      <td>-0.008661</td>\n",
       "      <td>-0.000366</td>\n",
       "      <td>0.007736</td>\n",
       "      <td>-0.008541</td>\n",
       "      <td>0.001920</td>\n",
       "      <td>0.002495</td>\n",
       "      <td>NaN</td>\n",
       "    </tr>\n",
       "    <tr>\n",
       "      <th>Interest Rate</th>\n",
       "      <td>0.002891</td>\n",
       "      <td>-0.004428</td>\n",
       "      <td>-0.001125</td>\n",
       "      <td>-0.007588</td>\n",
       "      <td>0.006941</td>\n",
       "      <td>0.000386</td>\n",
       "      <td>1.000000</td>\n",
       "      <td>-0.001911</td>\n",
       "      <td>-0.000707</td>\n",
       "      <td>-0.001585</td>\n",
       "      <td>...</td>\n",
       "      <td>-0.010599</td>\n",
       "      <td>NaN</td>\n",
       "      <td>-0.005452</td>\n",
       "      <td>-0.005739</td>\n",
       "      <td>0.011030</td>\n",
       "      <td>0.008060</td>\n",
       "      <td>0.010911</td>\n",
       "      <td>0.001187</td>\n",
       "      <td>0.001977</td>\n",
       "      <td>NaN</td>\n",
       "    </tr>\n",
       "    <tr>\n",
       "      <th>Sub Grade</th>\n",
       "      <td>0.008712</td>\n",
       "      <td>-0.003809</td>\n",
       "      <td>0.000200</td>\n",
       "      <td>-0.002659</td>\n",
       "      <td>0.003931</td>\n",
       "      <td>0.001598</td>\n",
       "      <td>-0.001911</td>\n",
       "      <td>1.000000</td>\n",
       "      <td>0.003426</td>\n",
       "      <td>-0.001506</td>\n",
       "      <td>...</td>\n",
       "      <td>0.005887</td>\n",
       "      <td>NaN</td>\n",
       "      <td>-0.011944</td>\n",
       "      <td>0.003228</td>\n",
       "      <td>-0.002159</td>\n",
       "      <td>0.021946</td>\n",
       "      <td>0.001316</td>\n",
       "      <td>-0.000170</td>\n",
       "      <td>0.007489</td>\n",
       "      <td>NaN</td>\n",
       "    </tr>\n",
       "    <tr>\n",
       "      <th>Home Ownership</th>\n",
       "      <td>-0.006638</td>\n",
       "      <td>0.010680</td>\n",
       "      <td>-0.011631</td>\n",
       "      <td>-0.004271</td>\n",
       "      <td>-0.001017</td>\n",
       "      <td>0.002371</td>\n",
       "      <td>-0.000707</td>\n",
       "      <td>0.003426</td>\n",
       "      <td>1.000000</td>\n",
       "      <td>0.002075</td>\n",
       "      <td>...</td>\n",
       "      <td>-0.000989</td>\n",
       "      <td>NaN</td>\n",
       "      <td>-0.010765</td>\n",
       "      <td>0.000698</td>\n",
       "      <td>-0.002805</td>\n",
       "      <td>0.013167</td>\n",
       "      <td>-0.025223</td>\n",
       "      <td>0.000202</td>\n",
       "      <td>-0.011434</td>\n",
       "      <td>NaN</td>\n",
       "    </tr>\n",
       "    <tr>\n",
       "      <th>Loan Title</th>\n",
       "      <td>0.000910</td>\n",
       "      <td>-0.002541</td>\n",
       "      <td>0.000216</td>\n",
       "      <td>-0.001239</td>\n",
       "      <td>0.004409</td>\n",
       "      <td>-0.003854</td>\n",
       "      <td>-0.001585</td>\n",
       "      <td>-0.001506</td>\n",
       "      <td>0.002075</td>\n",
       "      <td>1.000000</td>\n",
       "      <td>...</td>\n",
       "      <td>0.010212</td>\n",
       "      <td>NaN</td>\n",
       "      <td>-0.001102</td>\n",
       "      <td>-0.002512</td>\n",
       "      <td>-0.003676</td>\n",
       "      <td>0.004312</td>\n",
       "      <td>-0.001248</td>\n",
       "      <td>-0.003957</td>\n",
       "      <td>0.005358</td>\n",
       "      <td>NaN</td>\n",
       "    </tr>\n",
       "    <tr>\n",
       "      <th>Debit to Income</th>\n",
       "      <td>-0.011737</td>\n",
       "      <td>0.007597</td>\n",
       "      <td>-0.000690</td>\n",
       "      <td>-0.002336</td>\n",
       "      <td>0.006549</td>\n",
       "      <td>0.003992</td>\n",
       "      <td>-0.009183</td>\n",
       "      <td>-0.010848</td>\n",
       "      <td>0.022042</td>\n",
       "      <td>0.003681</td>\n",
       "      <td>...</td>\n",
       "      <td>0.007173</td>\n",
       "      <td>NaN</td>\n",
       "      <td>-0.000079</td>\n",
       "      <td>-0.012288</td>\n",
       "      <td>-0.007022</td>\n",
       "      <td>-0.017358</td>\n",
       "      <td>-0.008431</td>\n",
       "      <td>0.005020</td>\n",
       "      <td>-0.009650</td>\n",
       "      <td>NaN</td>\n",
       "    </tr>\n",
       "    <tr>\n",
       "      <th>Delinquency - two years</th>\n",
       "      <td>0.002008</td>\n",
       "      <td>-0.002962</td>\n",
       "      <td>0.001209</td>\n",
       "      <td>-0.004599</td>\n",
       "      <td>0.011772</td>\n",
       "      <td>0.003631</td>\n",
       "      <td>-0.002858</td>\n",
       "      <td>-0.001230</td>\n",
       "      <td>-0.017262</td>\n",
       "      <td>0.000175</td>\n",
       "      <td>...</td>\n",
       "      <td>0.001151</td>\n",
       "      <td>NaN</td>\n",
       "      <td>-0.006194</td>\n",
       "      <td>-0.010703</td>\n",
       "      <td>-0.004881</td>\n",
       "      <td>-0.003056</td>\n",
       "      <td>-0.024655</td>\n",
       "      <td>-0.001139</td>\n",
       "      <td>0.000294</td>\n",
       "      <td>NaN</td>\n",
       "    </tr>\n",
       "    <tr>\n",
       "      <th>Inquires - six months</th>\n",
       "      <td>-0.012777</td>\n",
       "      <td>0.004663</td>\n",
       "      <td>-0.007330</td>\n",
       "      <td>-0.013054</td>\n",
       "      <td>0.016596</td>\n",
       "      <td>0.004264</td>\n",
       "      <td>0.002592</td>\n",
       "      <td>-0.016010</td>\n",
       "      <td>-0.008480</td>\n",
       "      <td>-0.001946</td>\n",
       "      <td>...</td>\n",
       "      <td>-0.005766</td>\n",
       "      <td>NaN</td>\n",
       "      <td>-0.012748</td>\n",
       "      <td>-0.009319</td>\n",
       "      <td>-0.010385</td>\n",
       "      <td>-0.010717</td>\n",
       "      <td>-0.002541</td>\n",
       "      <td>-0.000025</td>\n",
       "      <td>-0.000425</td>\n",
       "      <td>NaN</td>\n",
       "    </tr>\n",
       "    <tr>\n",
       "      <th>Open Account</th>\n",
       "      <td>-0.004960</td>\n",
       "      <td>0.007459</td>\n",
       "      <td>0.000913</td>\n",
       "      <td>-0.010780</td>\n",
       "      <td>0.022520</td>\n",
       "      <td>0.006044</td>\n",
       "      <td>-0.007341</td>\n",
       "      <td>-0.010427</td>\n",
       "      <td>0.000911</td>\n",
       "      <td>-0.000371</td>\n",
       "      <td>...</td>\n",
       "      <td>-0.015777</td>\n",
       "      <td>NaN</td>\n",
       "      <td>-0.010858</td>\n",
       "      <td>-0.006271</td>\n",
       "      <td>-0.002990</td>\n",
       "      <td>-0.032754</td>\n",
       "      <td>-0.025773</td>\n",
       "      <td>0.005704</td>\n",
       "      <td>0.005697</td>\n",
       "      <td>NaN</td>\n",
       "    </tr>\n",
       "    <tr>\n",
       "      <th>Public Record</th>\n",
       "      <td>-0.004730</td>\n",
       "      <td>-0.008442</td>\n",
       "      <td>-0.001607</td>\n",
       "      <td>-0.009632</td>\n",
       "      <td>0.019193</td>\n",
       "      <td>0.004696</td>\n",
       "      <td>-0.003876</td>\n",
       "      <td>-0.004248</td>\n",
       "      <td>-0.006897</td>\n",
       "      <td>0.000163</td>\n",
       "      <td>...</td>\n",
       "      <td>-0.004597</td>\n",
       "      <td>NaN</td>\n",
       "      <td>-0.015718</td>\n",
       "      <td>-0.009186</td>\n",
       "      <td>-0.002250</td>\n",
       "      <td>0.013017</td>\n",
       "      <td>-0.000631</td>\n",
       "      <td>0.003425</td>\n",
       "      <td>0.012082</td>\n",
       "      <td>NaN</td>\n",
       "    </tr>\n",
       "    <tr>\n",
       "      <th>Revolving Balance</th>\n",
       "      <td>-0.001839</td>\n",
       "      <td>-0.001132</td>\n",
       "      <td>-0.008179</td>\n",
       "      <td>-0.017345</td>\n",
       "      <td>0.015226</td>\n",
       "      <td>0.005359</td>\n",
       "      <td>0.010979</td>\n",
       "      <td>-0.007894</td>\n",
       "      <td>0.009068</td>\n",
       "      <td>-0.006281</td>\n",
       "      <td>...</td>\n",
       "      <td>-0.011534</td>\n",
       "      <td>NaN</td>\n",
       "      <td>-0.009992</td>\n",
       "      <td>-0.018975</td>\n",
       "      <td>0.010241</td>\n",
       "      <td>0.012668</td>\n",
       "      <td>-0.015375</td>\n",
       "      <td>0.001718</td>\n",
       "      <td>0.011251</td>\n",
       "      <td>NaN</td>\n",
       "    </tr>\n",
       "    <tr>\n",
       "      <th>Revolving Utilities</th>\n",
       "      <td>0.003230</td>\n",
       "      <td>0.015310</td>\n",
       "      <td>0.007126</td>\n",
       "      <td>-0.002814</td>\n",
       "      <td>-0.006694</td>\n",
       "      <td>0.000396</td>\n",
       "      <td>0.004866</td>\n",
       "      <td>-0.003665</td>\n",
       "      <td>-0.000053</td>\n",
       "      <td>-0.002691</td>\n",
       "      <td>...</td>\n",
       "      <td>0.008688</td>\n",
       "      <td>NaN</td>\n",
       "      <td>0.005801</td>\n",
       "      <td>-0.018525</td>\n",
       "      <td>-0.011687</td>\n",
       "      <td>-0.031147</td>\n",
       "      <td>-0.010498</td>\n",
       "      <td>-0.003417</td>\n",
       "      <td>-0.000614</td>\n",
       "      <td>NaN</td>\n",
       "    </tr>\n",
       "    <tr>\n",
       "      <th>Total Accounts</th>\n",
       "      <td>0.000577</td>\n",
       "      <td>0.000508</td>\n",
       "      <td>0.010024</td>\n",
       "      <td>0.002216</td>\n",
       "      <td>0.007253</td>\n",
       "      <td>0.004625</td>\n",
       "      <td>0.005241</td>\n",
       "      <td>-0.001883</td>\n",
       "      <td>0.019567</td>\n",
       "      <td>-0.002590</td>\n",
       "      <td>...</td>\n",
       "      <td>0.015682</td>\n",
       "      <td>NaN</td>\n",
       "      <td>-0.004292</td>\n",
       "      <td>-0.007779</td>\n",
       "      <td>0.030173</td>\n",
       "      <td>-0.011290</td>\n",
       "      <td>0.006809</td>\n",
       "      <td>0.003091</td>\n",
       "      <td>-0.012259</td>\n",
       "      <td>NaN</td>\n",
       "    </tr>\n",
       "    <tr>\n",
       "      <th>Initial List Status</th>\n",
       "      <td>0.001042</td>\n",
       "      <td>0.000184</td>\n",
       "      <td>-0.002870</td>\n",
       "      <td>0.011739</td>\n",
       "      <td>-0.000762</td>\n",
       "      <td>0.015509</td>\n",
       "      <td>0.002167</td>\n",
       "      <td>-0.004752</td>\n",
       "      <td>0.022287</td>\n",
       "      <td>-0.003814</td>\n",
       "      <td>...</td>\n",
       "      <td>-0.009834</td>\n",
       "      <td>NaN</td>\n",
       "      <td>-0.001641</td>\n",
       "      <td>-0.021779</td>\n",
       "      <td>-0.019429</td>\n",
       "      <td>-0.051498</td>\n",
       "      <td>-0.092635</td>\n",
       "      <td>-0.007440</td>\n",
       "      <td>-0.027108</td>\n",
       "      <td>NaN</td>\n",
       "    </tr>\n",
       "    <tr>\n",
       "      <th>Total Received Interest</th>\n",
       "      <td>-0.006598</td>\n",
       "      <td>-0.003079</td>\n",
       "      <td>-0.000739</td>\n",
       "      <td>-0.004180</td>\n",
       "      <td>0.008886</td>\n",
       "      <td>0.000756</td>\n",
       "      <td>0.000975</td>\n",
       "      <td>-0.000232</td>\n",
       "      <td>-0.017884</td>\n",
       "      <td>-0.004703</td>\n",
       "      <td>...</td>\n",
       "      <td>0.000567</td>\n",
       "      <td>NaN</td>\n",
       "      <td>-0.006839</td>\n",
       "      <td>-0.001756</td>\n",
       "      <td>0.008143</td>\n",
       "      <td>0.008337</td>\n",
       "      <td>0.006682</td>\n",
       "      <td>-0.001301</td>\n",
       "      <td>-0.002126</td>\n",
       "      <td>NaN</td>\n",
       "    </tr>\n",
       "    <tr>\n",
       "      <th>Total Received Late Fee</th>\n",
       "      <td>0.006453</td>\n",
       "      <td>-0.004553</td>\n",
       "      <td>-0.009590</td>\n",
       "      <td>-0.011728</td>\n",
       "      <td>0.014862</td>\n",
       "      <td>0.002769</td>\n",
       "      <td>-0.000923</td>\n",
       "      <td>-0.008930</td>\n",
       "      <td>-0.003832</td>\n",
       "      <td>-0.000723</td>\n",
       "      <td>...</td>\n",
       "      <td>0.002109</td>\n",
       "      <td>NaN</td>\n",
       "      <td>-0.013628</td>\n",
       "      <td>-0.013624</td>\n",
       "      <td>-0.008611</td>\n",
       "      <td>-0.000168</td>\n",
       "      <td>-0.024769</td>\n",
       "      <td>0.000115</td>\n",
       "      <td>0.011865</td>\n",
       "      <td>NaN</td>\n",
       "    </tr>\n",
       "    <tr>\n",
       "      <th>Recoveries</th>\n",
       "      <td>-0.005709</td>\n",
       "      <td>-0.003991</td>\n",
       "      <td>-0.008556</td>\n",
       "      <td>-0.010922</td>\n",
       "      <td>0.011607</td>\n",
       "      <td>0.005266</td>\n",
       "      <td>0.003143</td>\n",
       "      <td>-0.010386</td>\n",
       "      <td>-0.006153</td>\n",
       "      <td>-0.003195</td>\n",
       "      <td>...</td>\n",
       "      <td>-0.009984</td>\n",
       "      <td>NaN</td>\n",
       "      <td>-0.004379</td>\n",
       "      <td>-0.009250</td>\n",
       "      <td>-0.010118</td>\n",
       "      <td>0.009514</td>\n",
       "      <td>-0.015951</td>\n",
       "      <td>0.001150</td>\n",
       "      <td>-0.008183</td>\n",
       "      <td>NaN</td>\n",
       "    </tr>\n",
       "    <tr>\n",
       "      <th>Collection Recovery Fee</th>\n",
       "      <td>-0.007901</td>\n",
       "      <td>0.004258</td>\n",
       "      <td>0.002084</td>\n",
       "      <td>-0.010640</td>\n",
       "      <td>0.012758</td>\n",
       "      <td>0.006534</td>\n",
       "      <td>-0.007211</td>\n",
       "      <td>-0.002988</td>\n",
       "      <td>-0.008796</td>\n",
       "      <td>-0.002913</td>\n",
       "      <td>...</td>\n",
       "      <td>0.004452</td>\n",
       "      <td>NaN</td>\n",
       "      <td>-0.010382</td>\n",
       "      <td>-0.010381</td>\n",
       "      <td>-0.002105</td>\n",
       "      <td>0.005949</td>\n",
       "      <td>0.008627</td>\n",
       "      <td>0.002321</td>\n",
       "      <td>0.012401</td>\n",
       "      <td>NaN</td>\n",
       "    </tr>\n",
       "    <tr>\n",
       "      <th>Collection 12 months Medical</th>\n",
       "      <td>-0.008272</td>\n",
       "      <td>-0.009801</td>\n",
       "      <td>-0.006733</td>\n",
       "      <td>-0.004257</td>\n",
       "      <td>0.013791</td>\n",
       "      <td>0.004096</td>\n",
       "      <td>-0.013293</td>\n",
       "      <td>-0.000813</td>\n",
       "      <td>-0.010348</td>\n",
       "      <td>0.000667</td>\n",
       "      <td>...</td>\n",
       "      <td>0.007579</td>\n",
       "      <td>NaN</td>\n",
       "      <td>-0.008929</td>\n",
       "      <td>-0.006092</td>\n",
       "      <td>-0.013936</td>\n",
       "      <td>-0.006210</td>\n",
       "      <td>-0.002024</td>\n",
       "      <td>-0.003234</td>\n",
       "      <td>0.007964</td>\n",
       "      <td>NaN</td>\n",
       "    </tr>\n",
       "    <tr>\n",
       "      <th>Last week Pay</th>\n",
       "      <td>0.001111</td>\n",
       "      <td>-0.001721</td>\n",
       "      <td>-0.002606</td>\n",
       "      <td>0.002505</td>\n",
       "      <td>0.006462</td>\n",
       "      <td>-0.003972</td>\n",
       "      <td>-0.010599</td>\n",
       "      <td>0.005887</td>\n",
       "      <td>-0.000989</td>\n",
       "      <td>0.010212</td>\n",
       "      <td>...</td>\n",
       "      <td>1.000000</td>\n",
       "      <td>NaN</td>\n",
       "      <td>-0.003892</td>\n",
       "      <td>0.000054</td>\n",
       "      <td>-0.001198</td>\n",
       "      <td>0.002386</td>\n",
       "      <td>0.018809</td>\n",
       "      <td>-0.002177</td>\n",
       "      <td>-0.009562</td>\n",
       "      <td>NaN</td>\n",
       "    </tr>\n",
       "    <tr>\n",
       "      <th>Accounts Delinquent</th>\n",
       "      <td>NaN</td>\n",
       "      <td>NaN</td>\n",
       "      <td>NaN</td>\n",
       "      <td>NaN</td>\n",
       "      <td>NaN</td>\n",
       "      <td>NaN</td>\n",
       "      <td>NaN</td>\n",
       "      <td>NaN</td>\n",
       "      <td>NaN</td>\n",
       "      <td>NaN</td>\n",
       "      <td>...</td>\n",
       "      <td>NaN</td>\n",
       "      <td>NaN</td>\n",
       "      <td>NaN</td>\n",
       "      <td>NaN</td>\n",
       "      <td>NaN</td>\n",
       "      <td>NaN</td>\n",
       "      <td>NaN</td>\n",
       "      <td>NaN</td>\n",
       "      <td>NaN</td>\n",
       "      <td>NaN</td>\n",
       "    </tr>\n",
       "    <tr>\n",
       "      <th>Total Collection Amount</th>\n",
       "      <td>-0.001994</td>\n",
       "      <td>-0.004810</td>\n",
       "      <td>-0.016952</td>\n",
       "      <td>-0.009777</td>\n",
       "      <td>0.011811</td>\n",
       "      <td>0.010022</td>\n",
       "      <td>-0.005452</td>\n",
       "      <td>-0.011944</td>\n",
       "      <td>-0.010765</td>\n",
       "      <td>-0.001102</td>\n",
       "      <td>...</td>\n",
       "      <td>-0.003892</td>\n",
       "      <td>NaN</td>\n",
       "      <td>1.000000</td>\n",
       "      <td>-0.006597</td>\n",
       "      <td>-0.007853</td>\n",
       "      <td>-0.001986</td>\n",
       "      <td>-0.013737</td>\n",
       "      <td>-0.005411</td>\n",
       "      <td>0.002962</td>\n",
       "      <td>NaN</td>\n",
       "    </tr>\n",
       "    <tr>\n",
       "      <th>Total Current Balance</th>\n",
       "      <td>-0.006960</td>\n",
       "      <td>-0.006410</td>\n",
       "      <td>-0.004012</td>\n",
       "      <td>-0.002444</td>\n",
       "      <td>0.006324</td>\n",
       "      <td>-0.008661</td>\n",
       "      <td>-0.005739</td>\n",
       "      <td>0.003228</td>\n",
       "      <td>0.000698</td>\n",
       "      <td>-0.002512</td>\n",
       "      <td>...</td>\n",
       "      <td>0.000054</td>\n",
       "      <td>NaN</td>\n",
       "      <td>-0.006597</td>\n",
       "      <td>1.000000</td>\n",
       "      <td>0.001662</td>\n",
       "      <td>0.021832</td>\n",
       "      <td>0.031855</td>\n",
       "      <td>-0.001207</td>\n",
       "      <td>0.018033</td>\n",
       "      <td>NaN</td>\n",
       "    </tr>\n",
       "    <tr>\n",
       "      <th>Total Revolving Credit Limit</th>\n",
       "      <td>-0.003634</td>\n",
       "      <td>0.005127</td>\n",
       "      <td>0.002168</td>\n",
       "      <td>-0.005286</td>\n",
       "      <td>0.007704</td>\n",
       "      <td>-0.000366</td>\n",
       "      <td>0.011030</td>\n",
       "      <td>-0.002159</td>\n",
       "      <td>-0.002805</td>\n",
       "      <td>-0.003676</td>\n",
       "      <td>...</td>\n",
       "      <td>-0.001198</td>\n",
       "      <td>NaN</td>\n",
       "      <td>-0.007853</td>\n",
       "      <td>0.001662</td>\n",
       "      <td>1.000000</td>\n",
       "      <td>0.020969</td>\n",
       "      <td>0.002850</td>\n",
       "      <td>-0.000841</td>\n",
       "      <td>0.001865</td>\n",
       "      <td>NaN</td>\n",
       "    </tr>\n",
       "    <tr>\n",
       "      <th>Grade_mean_labels</th>\n",
       "      <td>-0.002763</td>\n",
       "      <td>-0.034148</td>\n",
       "      <td>-0.006928</td>\n",
       "      <td>0.005263</td>\n",
       "      <td>0.010808</td>\n",
       "      <td>0.007736</td>\n",
       "      <td>0.008060</td>\n",
       "      <td>0.021946</td>\n",
       "      <td>0.013167</td>\n",
       "      <td>0.004312</td>\n",
       "      <td>...</td>\n",
       "      <td>0.002386</td>\n",
       "      <td>NaN</td>\n",
       "      <td>-0.001986</td>\n",
       "      <td>0.021832</td>\n",
       "      <td>0.020969</td>\n",
       "      <td>1.000000</td>\n",
       "      <td>0.076976</td>\n",
       "      <td>-0.009655</td>\n",
       "      <td>0.028928</td>\n",
       "      <td>NaN</td>\n",
       "    </tr>\n",
       "    <tr>\n",
       "      <th>Employment Duration_ordinal_labels</th>\n",
       "      <td>0.001108</td>\n",
       "      <td>-0.025070</td>\n",
       "      <td>0.014151</td>\n",
       "      <td>-0.012218</td>\n",
       "      <td>-0.000758</td>\n",
       "      <td>-0.008541</td>\n",
       "      <td>0.010911</td>\n",
       "      <td>0.001316</td>\n",
       "      <td>-0.025223</td>\n",
       "      <td>-0.001248</td>\n",
       "      <td>...</td>\n",
       "      <td>0.018809</td>\n",
       "      <td>NaN</td>\n",
       "      <td>-0.013737</td>\n",
       "      <td>0.031855</td>\n",
       "      <td>0.002850</td>\n",
       "      <td>0.076976</td>\n",
       "      <td>1.000000</td>\n",
       "      <td>-0.000306</td>\n",
       "      <td>0.022235</td>\n",
       "      <td>NaN</td>\n",
       "    </tr>\n",
       "    <tr>\n",
       "      <th>Application Type_mean_labels</th>\n",
       "      <td>-0.002386</td>\n",
       "      <td>-0.006519</td>\n",
       "      <td>-0.003957</td>\n",
       "      <td>-0.006559</td>\n",
       "      <td>0.002211</td>\n",
       "      <td>0.001920</td>\n",
       "      <td>0.001187</td>\n",
       "      <td>-0.000170</td>\n",
       "      <td>0.000202</td>\n",
       "      <td>-0.003957</td>\n",
       "      <td>...</td>\n",
       "      <td>-0.002177</td>\n",
       "      <td>NaN</td>\n",
       "      <td>-0.005411</td>\n",
       "      <td>-0.001207</td>\n",
       "      <td>-0.000841</td>\n",
       "      <td>-0.009655</td>\n",
       "      <td>-0.000306</td>\n",
       "      <td>1.000000</td>\n",
       "      <td>0.007957</td>\n",
       "      <td>NaN</td>\n",
       "    </tr>\n",
       "    <tr>\n",
       "      <th>Verification Status_mean_labels</th>\n",
       "      <td>0.007647</td>\n",
       "      <td>-0.014471</td>\n",
       "      <td>-0.001309</td>\n",
       "      <td>-0.002197</td>\n",
       "      <td>-0.001131</td>\n",
       "      <td>0.002495</td>\n",
       "      <td>0.001977</td>\n",
       "      <td>0.007489</td>\n",
       "      <td>-0.011434</td>\n",
       "      <td>0.005358</td>\n",
       "      <td>...</td>\n",
       "      <td>-0.009562</td>\n",
       "      <td>NaN</td>\n",
       "      <td>0.002962</td>\n",
       "      <td>0.018033</td>\n",
       "      <td>0.001865</td>\n",
       "      <td>0.028928</td>\n",
       "      <td>0.022235</td>\n",
       "      <td>0.007957</td>\n",
       "      <td>1.000000</td>\n",
       "      <td>NaN</td>\n",
       "    </tr>\n",
       "    <tr>\n",
       "      <th>Payment Plan_mean_labels</th>\n",
       "      <td>NaN</td>\n",
       "      <td>NaN</td>\n",
       "      <td>NaN</td>\n",
       "      <td>NaN</td>\n",
       "      <td>NaN</td>\n",
       "      <td>NaN</td>\n",
       "      <td>NaN</td>\n",
       "      <td>NaN</td>\n",
       "      <td>NaN</td>\n",
       "      <td>NaN</td>\n",
       "      <td>...</td>\n",
       "      <td>NaN</td>\n",
       "      <td>NaN</td>\n",
       "      <td>NaN</td>\n",
       "      <td>NaN</td>\n",
       "      <td>NaN</td>\n",
       "      <td>NaN</td>\n",
       "      <td>NaN</td>\n",
       "      <td>NaN</td>\n",
       "      <td>NaN</td>\n",
       "      <td>NaN</td>\n",
       "    </tr>\n",
       "  </tbody>\n",
       "</table>\n",
       "<p>34 rows × 34 columns</p>\n",
       "</div>"
      ],
      "text/plain": [
       "                                          ID  Loan Amount  Funded Amount  \\\n",
       "ID                                  1.000000    -0.003415      -0.008377   \n",
       "Loan Amount                        -0.003415     1.000000      -0.004405   \n",
       "Funded Amount                      -0.008377    -0.004405       1.000000   \n",
       "Funded Amount Investor             -0.004251     0.003306       0.008194   \n",
       "Term                                0.005346     0.004159       0.009767   \n",
       "Batch Enrolled                      0.005690     0.000086       0.001890   \n",
       "Interest Rate                       0.002891    -0.004428      -0.001125   \n",
       "Sub Grade                           0.008712    -0.003809       0.000200   \n",
       "Home Ownership                     -0.006638     0.010680      -0.011631   \n",
       "Loan Title                          0.000910    -0.002541       0.000216   \n",
       "Debit to Income                    -0.011737     0.007597      -0.000690   \n",
       "Delinquency - two years             0.002008    -0.002962       0.001209   \n",
       "Inquires - six months              -0.012777     0.004663      -0.007330   \n",
       "Open Account                       -0.004960     0.007459       0.000913   \n",
       "Public Record                      -0.004730    -0.008442      -0.001607   \n",
       "Revolving Balance                  -0.001839    -0.001132      -0.008179   \n",
       "Revolving Utilities                 0.003230     0.015310       0.007126   \n",
       "Total Accounts                      0.000577     0.000508       0.010024   \n",
       "Initial List Status                 0.001042     0.000184      -0.002870   \n",
       "Total Received Interest            -0.006598    -0.003079      -0.000739   \n",
       "Total Received Late Fee             0.006453    -0.004553      -0.009590   \n",
       "Recoveries                         -0.005709    -0.003991      -0.008556   \n",
       "Collection Recovery Fee            -0.007901     0.004258       0.002084   \n",
       "Collection 12 months Medical       -0.008272    -0.009801      -0.006733   \n",
       "Last week Pay                       0.001111    -0.001721      -0.002606   \n",
       "Accounts Delinquent                      NaN          NaN            NaN   \n",
       "Total Collection Amount            -0.001994    -0.004810      -0.016952   \n",
       "Total Current Balance              -0.006960    -0.006410      -0.004012   \n",
       "Total Revolving Credit Limit       -0.003634     0.005127       0.002168   \n",
       "Grade_mean_labels                  -0.002763    -0.034148      -0.006928   \n",
       "Employment Duration_ordinal_labels  0.001108    -0.025070       0.014151   \n",
       "Application Type_mean_labels       -0.002386    -0.006519      -0.003957   \n",
       "Verification Status_mean_labels     0.007647    -0.014471      -0.001309   \n",
       "Payment Plan_mean_labels                 NaN          NaN            NaN   \n",
       "\n",
       "                                    Funded Amount Investor      Term  \\\n",
       "ID                                               -0.004251  0.005346   \n",
       "Loan Amount                                       0.003306  0.004159   \n",
       "Funded Amount                                     0.008194  0.009767   \n",
       "Funded Amount Investor                            1.000000  0.008418   \n",
       "Term                                              0.008418  1.000000   \n",
       "Batch Enrolled                                    0.002319 -0.003601   \n",
       "Interest Rate                                    -0.007588  0.006941   \n",
       "Sub Grade                                        -0.002659  0.003931   \n",
       "Home Ownership                                   -0.004271 -0.001017   \n",
       "Loan Title                                       -0.001239  0.004409   \n",
       "Debit to Income                                  -0.002336  0.006549   \n",
       "Delinquency - two years                          -0.004599  0.011772   \n",
       "Inquires - six months                            -0.013054  0.016596   \n",
       "Open Account                                     -0.010780  0.022520   \n",
       "Public Record                                    -0.009632  0.019193   \n",
       "Revolving Balance                                -0.017345  0.015226   \n",
       "Revolving Utilities                              -0.002814 -0.006694   \n",
       "Total Accounts                                    0.002216  0.007253   \n",
       "Initial List Status                               0.011739 -0.000762   \n",
       "Total Received Interest                          -0.004180  0.008886   \n",
       "Total Received Late Fee                          -0.011728  0.014862   \n",
       "Recoveries                                       -0.010922  0.011607   \n",
       "Collection Recovery Fee                          -0.010640  0.012758   \n",
       "Collection 12 months Medical                     -0.004257  0.013791   \n",
       "Last week Pay                                     0.002505  0.006462   \n",
       "Accounts Delinquent                                    NaN       NaN   \n",
       "Total Collection Amount                          -0.009777  0.011811   \n",
       "Total Current Balance                            -0.002444  0.006324   \n",
       "Total Revolving Credit Limit                     -0.005286  0.007704   \n",
       "Grade_mean_labels                                 0.005263  0.010808   \n",
       "Employment Duration_ordinal_labels               -0.012218 -0.000758   \n",
       "Application Type_mean_labels                     -0.006559  0.002211   \n",
       "Verification Status_mean_labels                  -0.002197 -0.001131   \n",
       "Payment Plan_mean_labels                               NaN       NaN   \n",
       "\n",
       "                                    Batch Enrolled  Interest Rate  Sub Grade  \\\n",
       "ID                                        0.005690       0.002891   0.008712   \n",
       "Loan Amount                               0.000086      -0.004428  -0.003809   \n",
       "Funded Amount                             0.001890      -0.001125   0.000200   \n",
       "Funded Amount Investor                    0.002319      -0.007588  -0.002659   \n",
       "Term                                     -0.003601       0.006941   0.003931   \n",
       "Batch Enrolled                            1.000000       0.000386   0.001598   \n",
       "Interest Rate                             0.000386       1.000000  -0.001911   \n",
       "Sub Grade                                 0.001598      -0.001911   1.000000   \n",
       "Home Ownership                            0.002371      -0.000707   0.003426   \n",
       "Loan Title                               -0.003854      -0.001585  -0.001506   \n",
       "Debit to Income                           0.003992      -0.009183  -0.010848   \n",
       "Delinquency - two years                   0.003631      -0.002858  -0.001230   \n",
       "Inquires - six months                     0.004264       0.002592  -0.016010   \n",
       "Open Account                              0.006044      -0.007341  -0.010427   \n",
       "Public Record                             0.004696      -0.003876  -0.004248   \n",
       "Revolving Balance                         0.005359       0.010979  -0.007894   \n",
       "Revolving Utilities                       0.000396       0.004866  -0.003665   \n",
       "Total Accounts                            0.004625       0.005241  -0.001883   \n",
       "Initial List Status                       0.015509       0.002167  -0.004752   \n",
       "Total Received Interest                   0.000756       0.000975  -0.000232   \n",
       "Total Received Late Fee                   0.002769      -0.000923  -0.008930   \n",
       "Recoveries                                0.005266       0.003143  -0.010386   \n",
       "Collection Recovery Fee                   0.006534      -0.007211  -0.002988   \n",
       "Collection 12 months Medical              0.004096      -0.013293  -0.000813   \n",
       "Last week Pay                            -0.003972      -0.010599   0.005887   \n",
       "Accounts Delinquent                            NaN            NaN        NaN   \n",
       "Total Collection Amount                   0.010022      -0.005452  -0.011944   \n",
       "Total Current Balance                    -0.008661      -0.005739   0.003228   \n",
       "Total Revolving Credit Limit             -0.000366       0.011030  -0.002159   \n",
       "Grade_mean_labels                         0.007736       0.008060   0.021946   \n",
       "Employment Duration_ordinal_labels       -0.008541       0.010911   0.001316   \n",
       "Application Type_mean_labels              0.001920       0.001187  -0.000170   \n",
       "Verification Status_mean_labels           0.002495       0.001977   0.007489   \n",
       "Payment Plan_mean_labels                       NaN            NaN        NaN   \n",
       "\n",
       "                                    Home Ownership  Loan Title  ...  \\\n",
       "ID                                       -0.006638    0.000910  ...   \n",
       "Loan Amount                               0.010680   -0.002541  ...   \n",
       "Funded Amount                            -0.011631    0.000216  ...   \n",
       "Funded Amount Investor                   -0.004271   -0.001239  ...   \n",
       "Term                                     -0.001017    0.004409  ...   \n",
       "Batch Enrolled                            0.002371   -0.003854  ...   \n",
       "Interest Rate                            -0.000707   -0.001585  ...   \n",
       "Sub Grade                                 0.003426   -0.001506  ...   \n",
       "Home Ownership                            1.000000    0.002075  ...   \n",
       "Loan Title                                0.002075    1.000000  ...   \n",
       "Debit to Income                           0.022042    0.003681  ...   \n",
       "Delinquency - two years                  -0.017262    0.000175  ...   \n",
       "Inquires - six months                    -0.008480   -0.001946  ...   \n",
       "Open Account                              0.000911   -0.000371  ...   \n",
       "Public Record                            -0.006897    0.000163  ...   \n",
       "Revolving Balance                         0.009068   -0.006281  ...   \n",
       "Revolving Utilities                      -0.000053   -0.002691  ...   \n",
       "Total Accounts                            0.019567   -0.002590  ...   \n",
       "Initial List Status                       0.022287   -0.003814  ...   \n",
       "Total Received Interest                  -0.017884   -0.004703  ...   \n",
       "Total Received Late Fee                  -0.003832   -0.000723  ...   \n",
       "Recoveries                               -0.006153   -0.003195  ...   \n",
       "Collection Recovery Fee                  -0.008796   -0.002913  ...   \n",
       "Collection 12 months Medical             -0.010348    0.000667  ...   \n",
       "Last week Pay                            -0.000989    0.010212  ...   \n",
       "Accounts Delinquent                            NaN         NaN  ...   \n",
       "Total Collection Amount                  -0.010765   -0.001102  ...   \n",
       "Total Current Balance                     0.000698   -0.002512  ...   \n",
       "Total Revolving Credit Limit             -0.002805   -0.003676  ...   \n",
       "Grade_mean_labels                         0.013167    0.004312  ...   \n",
       "Employment Duration_ordinal_labels       -0.025223   -0.001248  ...   \n",
       "Application Type_mean_labels              0.000202   -0.003957  ...   \n",
       "Verification Status_mean_labels          -0.011434    0.005358  ...   \n",
       "Payment Plan_mean_labels                       NaN         NaN  ...   \n",
       "\n",
       "                                    Last week Pay  Accounts Delinquent  \\\n",
       "ID                                       0.001111                  NaN   \n",
       "Loan Amount                             -0.001721                  NaN   \n",
       "Funded Amount                           -0.002606                  NaN   \n",
       "Funded Amount Investor                   0.002505                  NaN   \n",
       "Term                                     0.006462                  NaN   \n",
       "Batch Enrolled                          -0.003972                  NaN   \n",
       "Interest Rate                           -0.010599                  NaN   \n",
       "Sub Grade                                0.005887                  NaN   \n",
       "Home Ownership                          -0.000989                  NaN   \n",
       "Loan Title                               0.010212                  NaN   \n",
       "Debit to Income                          0.007173                  NaN   \n",
       "Delinquency - two years                  0.001151                  NaN   \n",
       "Inquires - six months                   -0.005766                  NaN   \n",
       "Open Account                            -0.015777                  NaN   \n",
       "Public Record                           -0.004597                  NaN   \n",
       "Revolving Balance                       -0.011534                  NaN   \n",
       "Revolving Utilities                      0.008688                  NaN   \n",
       "Total Accounts                           0.015682                  NaN   \n",
       "Initial List Status                     -0.009834                  NaN   \n",
       "Total Received Interest                  0.000567                  NaN   \n",
       "Total Received Late Fee                  0.002109                  NaN   \n",
       "Recoveries                              -0.009984                  NaN   \n",
       "Collection Recovery Fee                  0.004452                  NaN   \n",
       "Collection 12 months Medical             0.007579                  NaN   \n",
       "Last week Pay                            1.000000                  NaN   \n",
       "Accounts Delinquent                           NaN                  NaN   \n",
       "Total Collection Amount                 -0.003892                  NaN   \n",
       "Total Current Balance                    0.000054                  NaN   \n",
       "Total Revolving Credit Limit            -0.001198                  NaN   \n",
       "Grade_mean_labels                        0.002386                  NaN   \n",
       "Employment Duration_ordinal_labels       0.018809                  NaN   \n",
       "Application Type_mean_labels            -0.002177                  NaN   \n",
       "Verification Status_mean_labels         -0.009562                  NaN   \n",
       "Payment Plan_mean_labels                      NaN                  NaN   \n",
       "\n",
       "                                    Total Collection Amount  \\\n",
       "ID                                                -0.001994   \n",
       "Loan Amount                                       -0.004810   \n",
       "Funded Amount                                     -0.016952   \n",
       "Funded Amount Investor                            -0.009777   \n",
       "Term                                               0.011811   \n",
       "Batch Enrolled                                     0.010022   \n",
       "Interest Rate                                     -0.005452   \n",
       "Sub Grade                                         -0.011944   \n",
       "Home Ownership                                    -0.010765   \n",
       "Loan Title                                        -0.001102   \n",
       "Debit to Income                                   -0.000079   \n",
       "Delinquency - two years                           -0.006194   \n",
       "Inquires - six months                             -0.012748   \n",
       "Open Account                                      -0.010858   \n",
       "Public Record                                     -0.015718   \n",
       "Revolving Balance                                 -0.009992   \n",
       "Revolving Utilities                                0.005801   \n",
       "Total Accounts                                    -0.004292   \n",
       "Initial List Status                               -0.001641   \n",
       "Total Received Interest                           -0.006839   \n",
       "Total Received Late Fee                           -0.013628   \n",
       "Recoveries                                        -0.004379   \n",
       "Collection Recovery Fee                           -0.010382   \n",
       "Collection 12 months Medical                      -0.008929   \n",
       "Last week Pay                                     -0.003892   \n",
       "Accounts Delinquent                                     NaN   \n",
       "Total Collection Amount                            1.000000   \n",
       "Total Current Balance                             -0.006597   \n",
       "Total Revolving Credit Limit                      -0.007853   \n",
       "Grade_mean_labels                                 -0.001986   \n",
       "Employment Duration_ordinal_labels                -0.013737   \n",
       "Application Type_mean_labels                      -0.005411   \n",
       "Verification Status_mean_labels                    0.002962   \n",
       "Payment Plan_mean_labels                                NaN   \n",
       "\n",
       "                                    Total Current Balance  \\\n",
       "ID                                              -0.006960   \n",
       "Loan Amount                                     -0.006410   \n",
       "Funded Amount                                   -0.004012   \n",
       "Funded Amount Investor                          -0.002444   \n",
       "Term                                             0.006324   \n",
       "Batch Enrolled                                  -0.008661   \n",
       "Interest Rate                                   -0.005739   \n",
       "Sub Grade                                        0.003228   \n",
       "Home Ownership                                   0.000698   \n",
       "Loan Title                                      -0.002512   \n",
       "Debit to Income                                 -0.012288   \n",
       "Delinquency - two years                         -0.010703   \n",
       "Inquires - six months                           -0.009319   \n",
       "Open Account                                    -0.006271   \n",
       "Public Record                                   -0.009186   \n",
       "Revolving Balance                               -0.018975   \n",
       "Revolving Utilities                             -0.018525   \n",
       "Total Accounts                                  -0.007779   \n",
       "Initial List Status                             -0.021779   \n",
       "Total Received Interest                         -0.001756   \n",
       "Total Received Late Fee                         -0.013624   \n",
       "Recoveries                                      -0.009250   \n",
       "Collection Recovery Fee                         -0.010381   \n",
       "Collection 12 months Medical                    -0.006092   \n",
       "Last week Pay                                    0.000054   \n",
       "Accounts Delinquent                                   NaN   \n",
       "Total Collection Amount                         -0.006597   \n",
       "Total Current Balance                            1.000000   \n",
       "Total Revolving Credit Limit                     0.001662   \n",
       "Grade_mean_labels                                0.021832   \n",
       "Employment Duration_ordinal_labels               0.031855   \n",
       "Application Type_mean_labels                    -0.001207   \n",
       "Verification Status_mean_labels                  0.018033   \n",
       "Payment Plan_mean_labels                              NaN   \n",
       "\n",
       "                                    Total Revolving Credit Limit  \\\n",
       "ID                                                     -0.003634   \n",
       "Loan Amount                                             0.005127   \n",
       "Funded Amount                                           0.002168   \n",
       "Funded Amount Investor                                 -0.005286   \n",
       "Term                                                    0.007704   \n",
       "Batch Enrolled                                         -0.000366   \n",
       "Interest Rate                                           0.011030   \n",
       "Sub Grade                                              -0.002159   \n",
       "Home Ownership                                         -0.002805   \n",
       "Loan Title                                             -0.003676   \n",
       "Debit to Income                                        -0.007022   \n",
       "Delinquency - two years                                -0.004881   \n",
       "Inquires - six months                                  -0.010385   \n",
       "Open Account                                           -0.002990   \n",
       "Public Record                                          -0.002250   \n",
       "Revolving Balance                                       0.010241   \n",
       "Revolving Utilities                                    -0.011687   \n",
       "Total Accounts                                          0.030173   \n",
       "Initial List Status                                    -0.019429   \n",
       "Total Received Interest                                 0.008143   \n",
       "Total Received Late Fee                                -0.008611   \n",
       "Recoveries                                             -0.010118   \n",
       "Collection Recovery Fee                                -0.002105   \n",
       "Collection 12 months Medical                           -0.013936   \n",
       "Last week Pay                                          -0.001198   \n",
       "Accounts Delinquent                                          NaN   \n",
       "Total Collection Amount                                -0.007853   \n",
       "Total Current Balance                                   0.001662   \n",
       "Total Revolving Credit Limit                            1.000000   \n",
       "Grade_mean_labels                                       0.020969   \n",
       "Employment Duration_ordinal_labels                      0.002850   \n",
       "Application Type_mean_labels                           -0.000841   \n",
       "Verification Status_mean_labels                         0.001865   \n",
       "Payment Plan_mean_labels                                     NaN   \n",
       "\n",
       "                                    Grade_mean_labels  \\\n",
       "ID                                          -0.002763   \n",
       "Loan Amount                                 -0.034148   \n",
       "Funded Amount                               -0.006928   \n",
       "Funded Amount Investor                       0.005263   \n",
       "Term                                         0.010808   \n",
       "Batch Enrolled                               0.007736   \n",
       "Interest Rate                                0.008060   \n",
       "Sub Grade                                    0.021946   \n",
       "Home Ownership                               0.013167   \n",
       "Loan Title                                   0.004312   \n",
       "Debit to Income                             -0.017358   \n",
       "Delinquency - two years                     -0.003056   \n",
       "Inquires - six months                       -0.010717   \n",
       "Open Account                                -0.032754   \n",
       "Public Record                                0.013017   \n",
       "Revolving Balance                            0.012668   \n",
       "Revolving Utilities                         -0.031147   \n",
       "Total Accounts                              -0.011290   \n",
       "Initial List Status                         -0.051498   \n",
       "Total Received Interest                      0.008337   \n",
       "Total Received Late Fee                     -0.000168   \n",
       "Recoveries                                   0.009514   \n",
       "Collection Recovery Fee                      0.005949   \n",
       "Collection 12 months Medical                -0.006210   \n",
       "Last week Pay                                0.002386   \n",
       "Accounts Delinquent                               NaN   \n",
       "Total Collection Amount                     -0.001986   \n",
       "Total Current Balance                        0.021832   \n",
       "Total Revolving Credit Limit                 0.020969   \n",
       "Grade_mean_labels                            1.000000   \n",
       "Employment Duration_ordinal_labels           0.076976   \n",
       "Application Type_mean_labels                -0.009655   \n",
       "Verification Status_mean_labels              0.028928   \n",
       "Payment Plan_mean_labels                          NaN   \n",
       "\n",
       "                                    Employment Duration_ordinal_labels  \\\n",
       "ID                                                            0.001108   \n",
       "Loan Amount                                                  -0.025070   \n",
       "Funded Amount                                                 0.014151   \n",
       "Funded Amount Investor                                       -0.012218   \n",
       "Term                                                         -0.000758   \n",
       "Batch Enrolled                                               -0.008541   \n",
       "Interest Rate                                                 0.010911   \n",
       "Sub Grade                                                     0.001316   \n",
       "Home Ownership                                               -0.025223   \n",
       "Loan Title                                                   -0.001248   \n",
       "Debit to Income                                              -0.008431   \n",
       "Delinquency - two years                                      -0.024655   \n",
       "Inquires - six months                                        -0.002541   \n",
       "Open Account                                                 -0.025773   \n",
       "Public Record                                                -0.000631   \n",
       "Revolving Balance                                            -0.015375   \n",
       "Revolving Utilities                                          -0.010498   \n",
       "Total Accounts                                                0.006809   \n",
       "Initial List Status                                          -0.092635   \n",
       "Total Received Interest                                       0.006682   \n",
       "Total Received Late Fee                                      -0.024769   \n",
       "Recoveries                                                   -0.015951   \n",
       "Collection Recovery Fee                                       0.008627   \n",
       "Collection 12 months Medical                                 -0.002024   \n",
       "Last week Pay                                                 0.018809   \n",
       "Accounts Delinquent                                                NaN   \n",
       "Total Collection Amount                                      -0.013737   \n",
       "Total Current Balance                                         0.031855   \n",
       "Total Revolving Credit Limit                                  0.002850   \n",
       "Grade_mean_labels                                             0.076976   \n",
       "Employment Duration_ordinal_labels                            1.000000   \n",
       "Application Type_mean_labels                                 -0.000306   \n",
       "Verification Status_mean_labels                               0.022235   \n",
       "Payment Plan_mean_labels                                           NaN   \n",
       "\n",
       "                                    Application Type_mean_labels  \\\n",
       "ID                                                     -0.002386   \n",
       "Loan Amount                                            -0.006519   \n",
       "Funded Amount                                          -0.003957   \n",
       "Funded Amount Investor                                 -0.006559   \n",
       "Term                                                    0.002211   \n",
       "Batch Enrolled                                          0.001920   \n",
       "Interest Rate                                           0.001187   \n",
       "Sub Grade                                              -0.000170   \n",
       "Home Ownership                                          0.000202   \n",
       "Loan Title                                             -0.003957   \n",
       "Debit to Income                                         0.005020   \n",
       "Delinquency - two years                                -0.001139   \n",
       "Inquires - six months                                  -0.000025   \n",
       "Open Account                                            0.005704   \n",
       "Public Record                                           0.003425   \n",
       "Revolving Balance                                       0.001718   \n",
       "Revolving Utilities                                    -0.003417   \n",
       "Total Accounts                                          0.003091   \n",
       "Initial List Status                                    -0.007440   \n",
       "Total Received Interest                                -0.001301   \n",
       "Total Received Late Fee                                 0.000115   \n",
       "Recoveries                                              0.001150   \n",
       "Collection Recovery Fee                                 0.002321   \n",
       "Collection 12 months Medical                           -0.003234   \n",
       "Last week Pay                                          -0.002177   \n",
       "Accounts Delinquent                                          NaN   \n",
       "Total Collection Amount                                -0.005411   \n",
       "Total Current Balance                                  -0.001207   \n",
       "Total Revolving Credit Limit                           -0.000841   \n",
       "Grade_mean_labels                                      -0.009655   \n",
       "Employment Duration_ordinal_labels                     -0.000306   \n",
       "Application Type_mean_labels                            1.000000   \n",
       "Verification Status_mean_labels                         0.007957   \n",
       "Payment Plan_mean_labels                                     NaN   \n",
       "\n",
       "                                    Verification Status_mean_labels  \\\n",
       "ID                                                         0.007647   \n",
       "Loan Amount                                               -0.014471   \n",
       "Funded Amount                                             -0.001309   \n",
       "Funded Amount Investor                                    -0.002197   \n",
       "Term                                                      -0.001131   \n",
       "Batch Enrolled                                             0.002495   \n",
       "Interest Rate                                              0.001977   \n",
       "Sub Grade                                                  0.007489   \n",
       "Home Ownership                                            -0.011434   \n",
       "Loan Title                                                 0.005358   \n",
       "Debit to Income                                           -0.009650   \n",
       "Delinquency - two years                                    0.000294   \n",
       "Inquires - six months                                     -0.000425   \n",
       "Open Account                                               0.005697   \n",
       "Public Record                                              0.012082   \n",
       "Revolving Balance                                          0.011251   \n",
       "Revolving Utilities                                       -0.000614   \n",
       "Total Accounts                                            -0.012259   \n",
       "Initial List Status                                       -0.027108   \n",
       "Total Received Interest                                   -0.002126   \n",
       "Total Received Late Fee                                    0.011865   \n",
       "Recoveries                                                -0.008183   \n",
       "Collection Recovery Fee                                    0.012401   \n",
       "Collection 12 months Medical                               0.007964   \n",
       "Last week Pay                                             -0.009562   \n",
       "Accounts Delinquent                                             NaN   \n",
       "Total Collection Amount                                    0.002962   \n",
       "Total Current Balance                                      0.018033   \n",
       "Total Revolving Credit Limit                               0.001865   \n",
       "Grade_mean_labels                                          0.028928   \n",
       "Employment Duration_ordinal_labels                         0.022235   \n",
       "Application Type_mean_labels                               0.007957   \n",
       "Verification Status_mean_labels                            1.000000   \n",
       "Payment Plan_mean_labels                                        NaN   \n",
       "\n",
       "                                    Payment Plan_mean_labels  \n",
       "ID                                                       NaN  \n",
       "Loan Amount                                              NaN  \n",
       "Funded Amount                                            NaN  \n",
       "Funded Amount Investor                                   NaN  \n",
       "Term                                                     NaN  \n",
       "Batch Enrolled                                           NaN  \n",
       "Interest Rate                                            NaN  \n",
       "Sub Grade                                                NaN  \n",
       "Home Ownership                                           NaN  \n",
       "Loan Title                                               NaN  \n",
       "Debit to Income                                          NaN  \n",
       "Delinquency - two years                                  NaN  \n",
       "Inquires - six months                                    NaN  \n",
       "Open Account                                             NaN  \n",
       "Public Record                                            NaN  \n",
       "Revolving Balance                                        NaN  \n",
       "Revolving Utilities                                      NaN  \n",
       "Total Accounts                                           NaN  \n",
       "Initial List Status                                      NaN  \n",
       "Total Received Interest                                  NaN  \n",
       "Total Received Late Fee                                  NaN  \n",
       "Recoveries                                               NaN  \n",
       "Collection Recovery Fee                                  NaN  \n",
       "Collection 12 months Medical                             NaN  \n",
       "Last week Pay                                            NaN  \n",
       "Accounts Delinquent                                      NaN  \n",
       "Total Collection Amount                                  NaN  \n",
       "Total Current Balance                                    NaN  \n",
       "Total Revolving Credit Limit                             NaN  \n",
       "Grade_mean_labels                                        NaN  \n",
       "Employment Duration_ordinal_labels                       NaN  \n",
       "Application Type_mean_labels                             NaN  \n",
       "Verification Status_mean_labels                          NaN  \n",
       "Payment Plan_mean_labels                                 NaN  \n",
       "\n",
       "[34 rows x 34 columns]"
      ]
     },
     "execution_count": 109,
     "metadata": {},
     "output_type": "execute_result"
    }
   ],
   "source": [
    "X_train.corr()"
   ]
  },
  {
   "cell_type": "code",
   "execution_count": 110,
   "metadata": {},
   "outputs": [
    {
     "data": {
      "text/plain": [
       "<AxesSubplot:>"
      ]
     },
     "execution_count": 110,
     "metadata": {},
     "output_type": "execute_result"
    },
    {
     "data": {
      "image/png": "[encoded data removed]",
      "text/plain": [
       "<Figure size 2160x1080 with 2 Axes>"
      ]
     },
     "metadata": {
      "needs_background": "light"
     },
     "output_type": "display_data"
    }
   ],
   "source": [
    "import seaborn as sns\n",
    "corr=X_train.corr()\n",
    "top_features=corr.index\n",
    "plt.figure(figsize=(30,15))\n",
    "sns.heatmap(X_train[top_features].corr(),annot=True)\n"
   ]
  },
  {
   "cell_type": "markdown",
   "metadata": {},
   "source": [
    "### Reduction Of `Multi Collinearity`"
   ]
  },
  {
   "cell_type": "code",
   "execution_count": 111,
   "metadata": {},
   "outputs": [],
   "source": [
    "threshold=0.6"
   ]
  },
  {
   "cell_type": "code",
   "execution_count": 112,
   "metadata": {},
   "outputs": [],
   "source": [
    "# find and remove correlated features\n",
    "def correlation(dataset, threshold):\n",
    "    col_corr = set()  # Set of all the names of correlated columns\n",
    "    corr_matrix = dataset.corr()\n",
    "    for i in range(len(corr_matrix.columns)):\n",
    "        for j in range(i):\n",
    "            if abs(corr_matrix.iloc[i, j]) > threshold: # we are interested in absolute coeff value\n",
    "                colname = corr_matrix.columns[i]  # getting the name of column\n",
    "                col_corr.add(colname)\n",
    "    return col_corr"
   ]
  },
  {
   "cell_type": "code",
   "execution_count": 113,
   "metadata": {},
   "outputs": [
    {
     "data": {
      "text/plain": [
       "set()"
      ]
     },
     "execution_count": 113,
     "metadata": {},
     "output_type": "execute_result"
    }
   ],
   "source": [
    "correlation(X_train,threshold)"
   ]
  },
  {
   "cell_type": "markdown",
   "metadata": {},
   "source": [
    "#### Information Gain"
   ]
  },
  {
   "cell_type": "code",
   "execution_count": 114,
   "metadata": {},
   "outputs": [],
   "source": [
    "from sklearn.feature_selection import mutual_info_classif"
   ]
  },
  {
   "cell_type": "code",
   "execution_count": 115,
   "metadata": {},
   "outputs": [],
   "source": [
    "mutual_info=mutual_info_classif(X_train,y_train)"
   ]
  },
  {
   "cell_type": "code",
   "execution_count": 116,
   "metadata": {},
   "outputs": [
    {
     "data": {
      "text/plain": [
       "Collection Recovery Fee               0.002512\n",
       "Verification Status_mean_labels       0.002105\n",
       "Employment Duration_ordinal_labels    0.002092\n",
       "Loan Title                            0.001776\n",
       "Initial List Status                   0.001748\n",
       "Loan Amount                           0.001642\n",
       "Grade_mean_labels                     0.001528\n",
       "Public Record                         0.001513\n",
       "Funded Amount Investor                0.001362\n",
       "Revolving Balance                     0.001071\n",
       "Revolving Utilities                   0.001052\n",
       "Recoveries                            0.001037\n",
       "Total Current Balance                 0.000709\n",
       "Total Collection Amount               0.000681\n",
       "Last week Pay                         0.000545\n",
       "Total Received Interest               0.000472\n",
       "Term                                  0.000338\n",
       "Debit to Income                       0.000279\n",
       "Batch Enrolled                        0.000243\n",
       "Open Account                          0.000040\n",
       "Total Revolving Credit Limit          0.000011\n",
       "Home Ownership                        0.000000\n",
       "Funded Amount                         0.000000\n",
       "Interest Rate                         0.000000\n",
       "Sub Grade                             0.000000\n",
       "Payment Plan_mean_labels              0.000000\n",
       "Delinquency - two years               0.000000\n",
       "Inquires - six months                 0.000000\n",
       "Total Accounts                        0.000000\n",
       "Total Received Late Fee               0.000000\n",
       "Collection 12 months Medical          0.000000\n",
       "Accounts Delinquent                   0.000000\n",
       "Application Type_mean_labels          0.000000\n",
       "ID                                    0.000000\n",
       "dtype: float64"
      ]
     },
     "execution_count": 116,
     "metadata": {},
     "output_type": "execute_result"
    }
   ],
   "source": [
    "mutual_data=pd.Series(mutual_info,index=X_train.columns)\n",
    "mutual_data.sort_values(ascending=False)"
   ]
  },
  {
   "cell_type": "markdown",
   "metadata": {},
   "source": [
    "From the above Information, <br>\n",
    "We will be `ignorning` the feature variable with No `Information Gain` <br>\n",
    "\n",
    "- Payment Plan_mean_labels         <br>\n",
    "- Home Ownership          <br>\n",
    "- Debit to Income        <br>\n",
    "- Delinquency - two years        <br>\n",
    "- Revolving Balance       <br>\n",
    "- Total Received Late Fee        <br>\n",
    "- Last week Pay  <br>\n",
    "- Total Accounts <br>\n",
    "- ID <br>\n",
    "- Application Type_mean_labels <br>\n",
    "- Total Collection Amount <br>\n",
    "- Total Revolving Credit Limit <br>"
   ]
  },
  {
   "cell_type": "code",
   "execution_count": 117,
   "metadata": {},
   "outputs": [],
   "source": [
    "X_train = X_train.drop(columns = ['Payment Plan_mean_labels', 'Home Ownership', 'Debit to Income', 'Delinquency - two years', 'Revolving Balance', 'Total Received Late Fee', 'Last week Pay', 'Total Accounts', 'ID', 'Application Type_mean_labels', 'Total Collection Amount', 'Total Revolving Credit Limit'])"
   ]
  },
  {
   "cell_type": "code",
   "execution_count": 118,
   "metadata": {},
   "outputs": [],
   "source": [
    "X_test = X_test.drop(columns = ['Payment Plan_mean_labels', 'Home Ownership', 'Debit to Income', 'Delinquency - two years', 'Revolving Balance', 'Total Received Late Fee', 'Last week Pay', 'Total Accounts', 'ID', 'Application Type_mean_labels', 'Total Collection Amount', 'Total Revolving Credit Limit'])"
   ]
  },
  {
   "cell_type": "markdown",
   "metadata": {},
   "source": [
    "#### Final Dimensions - After Evaluation the Criteria For `Information Gain`"
   ]
  },
  {
   "cell_type": "code",
   "execution_count": 119,
   "metadata": {},
   "outputs": [
    {
     "data": {
      "text/plain": [
       "(60716, 22)"
      ]
     },
     "execution_count": 119,
     "metadata": {},
     "output_type": "execute_result"
    }
   ],
   "source": [
    "X_train.shape"
   ]
  },
  {
   "cell_type": "code",
   "execution_count": 120,
   "metadata": {},
   "outputs": [
    {
     "data": {
      "text/plain": [
       "(28913, 22)"
      ]
     },
     "execution_count": 120,
     "metadata": {},
     "output_type": "execute_result"
    }
   ],
   "source": [
    "X_test.shape"
   ]
  },
  {
   "cell_type": "markdown",
   "metadata": {},
   "source": [
    "### Checking If the Dataset is balanced or not"
   ]
  },
  {
   "cell_type": "code",
   "execution_count": 121,
   "metadata": {},
   "outputs": [
    {
     "data": {
      "text/plain": [
       "0    55163\n",
       "1     5553\n",
       "Name: Loan Status, dtype: int64"
      ]
     },
     "execution_count": 121,
     "metadata": {},
     "output_type": "execute_result"
    }
   ],
   "source": [
    "y_train.value_counts()"
   ]
  },
  {
   "cell_type": "code",
   "execution_count": 122,
   "metadata": {},
   "outputs": [
    {
     "data": {
      "text/plain": [
       "Text(0, 0.5, 'Frequency')"
      ]
     },
     "execution_count": 122,
     "metadata": {},
     "output_type": "execute_result"
    },
    {
     "data": {
      "image/png": "[encoded data removed]",
      "text/plain": [
       "<Figure size 432x288 with 1 Axes>"
      ]
     },
     "metadata": {
      "needs_background": "light"
     },
     "output_type": "display_data"
    }
   ],
   "source": [
    "count_classes = pd.value_counts(loan_train['Loan Status'], sort = True)\n",
    "\n",
    "count_classes.plot(kind = 'bar', rot=0)\n",
    "\n",
    "plt.title(\"Transaction Class Distribution\")\n",
    "\n",
    "#plt.xticks(range(2), LABELS)\n",
    "\n",
    "plt.xlabel(\"y_train\")\n",
    "\n",
    "plt.ylabel(\"Frequency\")"
   ]
  },
  {
   "cell_type": "markdown",
   "metadata": {},
   "source": [
    "#### SMOTETomek"
   ]
  },
  {
   "cell_type": "markdown",
   "metadata": {},
   "source": [
    "class imblearn.combine.SMOTETomek(*, sampling_strategy='auto', random_state=None, smote=None, tomek=None, n_jobs=None)[source]\n",
    "Over-sampling using SMOTE and cleaning using Tomek links.\n",
    "\n",
    "Combine over- and under-sampling using SMOTE and Tomek links.\n",
    "\n",
    "Read more in the User Guide."
   ]
  },
  {
   "cell_type": "code",
   "execution_count": 117,
   "metadata": {},
   "outputs": [],
   "source": [
    "from imblearn.combine import SMOTETomek"
   ]
  },
  {
   "cell_type": "code",
   "execution_count": 118,
   "metadata": {},
   "outputs": [
    {
     "data": {
      "text/plain": [
       "Counter({0: 55201, 1: 5515})"
      ]
     },
     "execution_count": 118,
     "metadata": {},
     "output_type": "execute_result"
    }
   ],
   "source": [
    "from collections import Counter\n",
    "Counter(y_train)"
   ]
  },
  {
   "cell_type": "code",
   "execution_count": 119,
   "metadata": {},
   "outputs": [
    {
     "name": "stdout",
     "output_type": "stream",
     "text": [
      "The number of classes before fit Counter({0: 55201, 1: 5515})\n",
      "The number of classes after fit Counter({0: 55161, 1: 41360})\n"
     ]
    }
   ],
   "source": [
    "os=SMOTETomek(0.75)\n",
    "X_train_ns,y_train_ns=os.fit_resample(X_train,y_train)\n",
    "print(\"The number of classes before fit {}\".format(Counter(y_train)))\n",
    "print(\"The number of classes after fit {}\".format(Counter(y_train_ns)))"
   ]
  },
  {
   "cell_type": "code",
   "execution_count": 120,
   "metadata": {},
   "outputs": [
    {
     "data": {
      "text/plain": [
       "RandomForestClassifier()"
      ]
     },
     "execution_count": 120,
     "metadata": {},
     "output_type": "execute_result"
    }
   ],
   "source": [
    "from sklearn.ensemble import RandomForestClassifier\n",
    "classifier=RandomForestClassifier()\n",
    "classifier.fit(X_train_ns,y_train_ns)"
   ]
  },
  {
   "cell_type": "code",
   "execution_count": 121,
   "metadata": {},
   "outputs": [
    {
     "name": "stdout",
     "output_type": "stream",
     "text": [
      "[[20400  8513]\n",
      " [    0     0]]\n",
      "0.7055649707743922\n",
      "              precision    recall  f1-score   support\n",
      "\n",
      "           0       1.00      0.71      0.83     28913\n",
      "           1       0.00      0.00      0.00         0\n",
      "\n",
      "    accuracy                           0.71     28913\n",
      "   macro avg       0.50      0.35      0.41     28913\n",
      "weighted avg       1.00      0.71      0.83     28913\n",
      "\n"
     ]
    }
   ],
   "source": [
    "from sklearn.metrics import confusion_matrix,classification_report,accuracy_score\n",
    "y_pred=classifier.predict(X_test)\n",
    "print(confusion_matrix(y_test,y_pred))\n",
    "print(accuracy_score(y_test,y_pred))\n",
    "print(classification_report(y_test,y_pred))"
   ]
  },
  {
   "cell_type": "markdown",
   "metadata": {},
   "source": [
    "## PIPELINE CREATION TO CHECK WHICH MODEL WORKS BETTER"
   ]
  },
  {
   "cell_type": "code",
   "execution_count": 122,
   "metadata": {},
   "outputs": [],
   "source": [
    "## Pipelines Creation\n",
    "## 1. Data Preprocessing by using Standard Scaler\n",
    "## 2. Reduce Dimension using PCA\n",
    "## 3. Apply  Classifier"
   ]
  },
  {
   "cell_type": "code",
   "execution_count": 123,
   "metadata": {},
   "outputs": [],
   "source": [
    "from sklearn.datasets import load_iris\n",
    "from sklearn.model_selection import train_test_split\n",
    "from sklearn.preprocessing import StandardScaler\n",
    "from sklearn.decomposition import PCA\n",
    "from sklearn.pipeline import Pipeline\n",
    "from sklearn.linear_model import LogisticRegression\n",
    "from sklearn.tree import DecisionTreeClassifier\n",
    "from sklearn.ensemble import RandomForestClassifier\n",
    "from sklearn.ensemble import GradientBoostingClassifier\n",
    "from xgboost import XGBClassifier"
   ]
  },
  {
   "cell_type": "code",
   "execution_count": 124,
   "metadata": {},
   "outputs": [],
   "source": [
    "pipeline_lr=Pipeline([('scalar1',RobustScaler()),\n",
    "                     ('pca1',PCA(n_components=2)),\n",
    "                     ('lr_classifier',LogisticRegression(random_state=0))])"
   ]
  },
  {
   "cell_type": "code",
   "execution_count": 125,
   "metadata": {},
   "outputs": [],
   "source": [
    "pipeline_dt=Pipeline([('scalar2',RobustScaler()),\n",
    "                     ('pca2',PCA(n_components=2)),\n",
    "                     ('dt_classifier',DecisionTreeClassifier())])"
   ]
  },
  {
   "cell_type": "code",
   "execution_count": 126,
   "metadata": {},
   "outputs": [],
   "source": [
    "pipeline_randomforest=Pipeline([('scalar3',RobustScaler()),\n",
    "                     ('pca3',PCA(n_components=2)),\n",
    "                     ('rf_classifier',RandomForestClassifier())])"
   ]
  },
  {
   "cell_type": "code",
   "execution_count": 127,
   "metadata": {},
   "outputs": [],
   "source": [
    "pipeline_gradient_boost=Pipeline([('scalar4',RobustScaler()),\n",
    "                     ('pca4',PCA(n_components=2)),\n",
    "                     ('gb_classifier',GradientBoostingClassifier())])"
   ]
  },
  {
   "cell_type": "code",
   "execution_count": 128,
   "metadata": {},
   "outputs": [],
   "source": [
    "pipeline_XGboost=Pipeline([('scalar5',RobustScaler()),\n",
    "                          ('pca5',PCA(n_components=2)),\n",
    "                          ('xgb_classifier',XGBClassifier())])"
   ]
  },
  {
   "cell_type": "code",
   "execution_count": 129,
   "metadata": {},
   "outputs": [],
   "source": [
    "## LEts make the list of pipelines\n",
    "pipelines = [pipeline_lr, pipeline_dt, pipeline_randomforest,pipeline_gradient_boost,pipeline_XGboost]"
   ]
  },
  {
   "cell_type": "code",
   "execution_count": 130,
   "metadata": {},
   "outputs": [],
   "source": [
    "best_accuracy=0.0\n",
    "best_classifier=0\n",
    "best_pipeline=\"\""
   ]
  },
  {
   "cell_type": "code",
   "execution_count": 131,
   "metadata": {},
   "outputs": [
    {
     "name": "stdout",
     "output_type": "stream",
     "text": [
      "[12:03:52] WARNING: C:/Users/Administrator/workspace/xgboost-win64_release_1.4.0/src/learner.cc:1095: Starting in XGBoost 1.3.0, the default evaluation metric used with the objective 'binary:logistic' was changed from 'error' to 'logloss'. Explicitly set eval_metric if you'd like to restore the old behavior.\n"
     ]
    }
   ],
   "source": [
    "# Dictionary of pipelines and classifier types for ease of reference\n",
    "pipe_dict = {0: 'Logistic Regression', 1: 'Decision Tree', 2: 'RandomForest', 3: 'Gradient Boost', 4: 'Extreme Gradient Boost'}\n",
    "\n",
    "# Fit the pipelines\n",
    "for pipe in pipelines:\n",
    "\tpipe.fit(X_train_ns, y_train_ns)"
   ]
  },
  {
   "cell_type": "code",
   "execution_count": 132,
   "metadata": {},
   "outputs": [
    {
     "name": "stdout",
     "output_type": "stream",
     "text": [
      "Logistic Regression Test Accuracy: 1.0\n",
      "Decision Tree Test Accuracy: 0.6204821360633626\n",
      "RandomForest Test Accuracy: 0.7115484384187044\n",
      "Gradient Boost Test Accuracy: 0.9959533773734998\n",
      "Extreme Gradient Boost Test Accuracy: 0.9087261785356068\n"
     ]
    }
   ],
   "source": [
    "for i,model in enumerate(pipelines):\n",
    "    print(\"{} Test Accuracy: {}\".format(pipe_dict[i],model.score(X_test,y_test)))"
   ]
  },
  {
   "cell_type": "code",
   "execution_count": 133,
   "metadata": {},
   "outputs": [
    {
     "name": "stdout",
     "output_type": "stream",
     "text": [
      "Classifier with best accuracy:Logistic Regression\n"
     ]
    }
   ],
   "source": [
    "for i,model in enumerate(pipelines):\n",
    "    if model.score(X_test,y_test)>best_accuracy:\n",
    "        best_accuracy=model.score(X_test,y_test)\n",
    "        best_pipeline=model\n",
    "        best_classifier=i\n",
    "print('Classifier with best accuracy:{}'.format(pipe_dict[best_classifier]))"
   ]
  },
  {
   "cell_type": "code",
   "execution_count": 134,
   "metadata": {},
   "outputs": [
    {
     "data": {
      "text/plain": [
       "0    55161\n",
       "1    41360\n",
       "Name: Loan Status, dtype: int64"
      ]
     },
     "execution_count": 134,
     "metadata": {},
     "output_type": "execute_result"
    }
   ],
   "source": [
    "y_train_ns.value_counts()"
   ]
  },
  {
   "cell_type": "markdown",
   "metadata": {},
   "source": [
    "### Let's Use Logistic Regression"
   ]
  },
  {
   "cell_type": "code",
   "execution_count": 135,
   "metadata": {},
   "outputs": [
    {
     "name": "stdout",
     "output_type": "stream",
     "text": [
      "[[28771   142]\n",
      " [    0     0]]\n",
      "0.9950887144191194\n",
      "              precision    recall  f1-score   support\n",
      "\n",
      "           0       1.00      1.00      1.00     28913\n",
      "           1       0.00      0.00      0.00         0\n",
      "\n",
      "    accuracy                           1.00     28913\n",
      "   macro avg       0.50      0.50      0.50     28913\n",
      "weighted avg       1.00      1.00      1.00     28913\n",
      "\n"
     ]
    }
   ],
   "source": [
    "### Manual Hyperparameter Tuning\n",
    "\n",
    "model=LogisticRegression(penalty='l2',solver='liblinear',max_iter=100).fit(X_train_ns,y_train_ns)\n",
    "predictions=model.predict(X_test)\n",
    "print(confusion_matrix(y_test,predictions))\n",
    "print(accuracy_score(y_test,predictions))\n",
    "print(classification_report(y_test,predictions))"
   ]
  },
  {
   "cell_type": "markdown",
   "metadata": {},
   "source": [
    "##### Randomized Search Cv"
   ]
  },
  {
   "cell_type": "code",
   "execution_count": 136,
   "metadata": {},
   "outputs": [
    {
     "name": "stdout",
     "output_type": "stream",
     "text": [
      "{'penalty': ['l1', 'l2', 'elasticnet', 'none'], 'C': array([1.00000000e-04, 2.63665090e-04, 6.95192796e-04, 1.83298071e-03,\n",
      "       4.83293024e-03, 1.27427499e-02, 3.35981829e-02, 8.85866790e-02,\n",
      "       2.33572147e-01, 6.15848211e-01, 1.62377674e+00, 4.28133240e+00,\n",
      "       1.12883789e+01, 2.97635144e+01, 7.84759970e+01, 2.06913808e+02,\n",
      "       5.45559478e+02, 1.43844989e+03, 3.79269019e+03, 1.00000000e+04]), 'solver': ['lbfgs', 'newton-cg', 'liblinear', 'sag', 'saga'], 'max_iter': [100, 1000, 2500, 5000]}\n"
     ]
    }
   ],
   "source": [
    "import numpy as np\n",
    "from sklearn.model_selection import RandomizedSearchCV\n",
    "# Number of features to consider at every split\n",
    "penalty = ['l1', 'l2', 'elasticnet', 'none']\n",
    "# Maximum number of levels in tree\n",
    "C=np.logspace(-4, 4, 20)\n",
    "# Minimum number of samples required to split a node\n",
    "solver=['lbfgs','newton-cg','liblinear','sag','saga']\n",
    "# Minimum number of samples required at each leaf node\n",
    "max_iter=[100, 1000,2500, 5000]\n",
    "# Create the random grid\n",
    "random_grid = {'penalty': penalty,\n",
    "               'C': C,\n",
    "               'solver': solver,\n",
    "               'max_iter': max_iter}\n",
    "print(random_grid)"
   ]
  },
  {
   "cell_type": "code",
   "execution_count": 137,
   "metadata": {},
   "outputs": [
    {
     "name": "stdout",
     "output_type": "stream",
     "text": [
      "Fitting 3 folds for each of 10 candidates, totalling 30 fits\n"
     ]
    },
    {
     "name": "stderr",
     "output_type": "stream",
     "text": [
      "[Parallel(n_jobs=-1)]: Using backend LokyBackend with 4 concurrent workers.\n",
      "[Parallel(n_jobs=-1)]: Done  30 out of  30 | elapsed:  7.2min finished\n"
     ]
    },
    {
     "data": {
      "text/plain": [
       "RandomizedSearchCV(cv=3, estimator=LogisticRegression(), n_jobs=-1,\n",
       "                   param_distributions={'C': array([1.00000000e-04, 2.63665090e-04, 6.95192796e-04, 1.83298071e-03,\n",
       "       4.83293024e-03, 1.27427499e-02, 3.35981829e-02, 8.85866790e-02,\n",
       "       2.33572147e-01, 6.15848211e-01, 1.62377674e+00, 4.28133240e+00,\n",
       "       1.12883789e+01, 2.97635144e+01, 7.84759970e+01, 2.06913808e+02,\n",
       "       5.45559478e+02, 1.43844989e+03, 3.79269019e+03, 1.00000000e+04]),\n",
       "                                        'max_iter': [100, 1000, 2500, 5000],\n",
       "                                        'penalty': ['l1', 'l2', 'elasticnet',\n",
       "                                                    'none'],\n",
       "                                        'solver': ['lbfgs', 'newton-cg',\n",
       "                                                   'liblinear', 'sag',\n",
       "                                                   'saga']},\n",
       "                   random_state=100, verbose=2)"
      ]
     },
     "execution_count": 137,
     "metadata": {},
     "output_type": "execute_result"
    }
   ],
   "source": [
    "rf=LogisticRegression()\n",
    "rf_randomcv=RandomizedSearchCV(estimator=rf,param_distributions=random_grid,cv=3,verbose=2,\n",
    "                               random_state=100,n_jobs=-1)\n",
    "### fit the randomized model\n",
    "rf_randomcv.fit(X_train_ns,y_train_ns)"
   ]
  },
  {
   "cell_type": "code",
   "execution_count": 138,
   "metadata": {},
   "outputs": [
    {
     "data": {
      "text/plain": [
       "{'solver': 'saga', 'penalty': 'l1', 'max_iter': 1000, 'C': 10000.0}"
      ]
     },
     "execution_count": 138,
     "metadata": {},
     "output_type": "execute_result"
    }
   ],
   "source": [
    "rf_randomcv.best_params_"
   ]
  },
  {
   "cell_type": "code",
   "execution_count": 139,
   "metadata": {},
   "outputs": [
    {
     "data": {
      "text/plain": [
       "RandomizedSearchCV(cv=3, estimator=LogisticRegression(), n_jobs=-1,\n",
       "                   param_distributions={'C': array([1.00000000e-04, 2.63665090e-04, 6.95192796e-04, 1.83298071e-03,\n",
       "       4.83293024e-03, 1.27427499e-02, 3.35981829e-02, 8.85866790e-02,\n",
       "       2.33572147e-01, 6.15848211e-01, 1.62377674e+00, 4.28133240e+00,\n",
       "       1.12883789e+01, 2.97635144e+01, 7.84759970e+01, 2.06913808e+02,\n",
       "       5.45559478e+02, 1.43844989e+03, 3.79269019e+03, 1.00000000e+04]),\n",
       "                                        'max_iter': [100, 1000, 2500, 5000],\n",
       "                                        'penalty': ['l1', 'l2', 'elasticnet',\n",
       "                                                    'none'],\n",
       "                                        'solver': ['lbfgs', 'newton-cg',\n",
       "                                                   'liblinear', 'sag',\n",
       "                                                   'saga']},\n",
       "                   random_state=100, verbose=2)"
      ]
     },
     "execution_count": 139,
     "metadata": {},
     "output_type": "execute_result"
    }
   ],
   "source": [
    "rf_randomcv"
   ]
  },
  {
   "cell_type": "code",
   "execution_count": 140,
   "metadata": {},
   "outputs": [],
   "source": [
    "best_random_grid=rf_randomcv.best_estimator_"
   ]
  },
  {
   "cell_type": "code",
   "execution_count": 141,
   "metadata": {},
   "outputs": [
    {
     "name": "stdout",
     "output_type": "stream",
     "text": [
      "[[28796   117]\n",
      " [    0     0]]\n",
      "Accuracy Score 0.9959533773734998\n",
      "Classification report:               precision    recall  f1-score   support\n",
      "\n",
      "           0       1.00      1.00      1.00     28913\n",
      "           1       0.00      0.00      0.00         0\n",
      "\n",
      "    accuracy                           1.00     28913\n",
      "   macro avg       0.50      0.50      0.50     28913\n",
      "weighted avg       1.00      1.00      1.00     28913\n",
      "\n"
     ]
    }
   ],
   "source": [
    "from sklearn.metrics import accuracy_score\n",
    "y_pred=best_random_grid.predict(X_test)\n",
    "print(confusion_matrix(y_test,y_pred))\n",
    "print(\"Accuracy Score {}\".format(accuracy_score(y_test,y_pred)))\n",
    "print(\"Classification report: {}\".format(classification_report(y_test,y_pred)))"
   ]
  },
  {
   "cell_type": "code",
   "execution_count": 142,
   "metadata": {},
   "outputs": [
    {
     "name": "stdout",
     "output_type": "stream",
     "text": [
      "[[28796   117]\n",
      " [    0     0]]\n"
     ]
    }
   ],
   "source": [
    "# Confusion matrix \n",
    "from sklearn import metrics\n",
    "confusion = metrics.confusion_matrix(y_test, y_pred)\n",
    "print(confusion)"
   ]
  },
  {
   "cell_type": "markdown",
   "metadata": {},
   "source": [
    "#### GridSearch CV"
   ]
  },
  {
   "cell_type": "code",
   "execution_count": 190,
   "metadata": {},
   "outputs": [
    {
     "data": {
      "text/plain": [
       "{'solver': 'saga', 'penalty': 'l1', 'max_iter': 1000, 'C': 10000.0}"
      ]
     },
     "execution_count": 190,
     "metadata": {},
     "output_type": "execute_result"
    }
   ],
   "source": [
    "rf_randomcv.best_params_"
   ]
  },
  {
   "cell_type": "code",
   "execution_count": 191,
   "metadata": {},
   "outputs": [
    {
     "name": "stdout",
     "output_type": "stream",
     "text": [
      "{'solver': ['saga'], 'penalty': ['l1'], 'max_iter': [1000, 1200, 1400], 'C': [9999.8, 9999.9, 10000.0, 10000.1, 10000.2]}\n"
     ]
    }
   ],
   "source": [
    "from sklearn.model_selection import GridSearchCV\n",
    "\n",
    "param_grid = {\n",
    "    'solver': [rf_randomcv.best_params_['solver']],\n",
    "    'penalty': [rf_randomcv.best_params_['penalty']],\n",
    "    'max_iter': [rf_randomcv.best_params_['max_iter'], \n",
    "                         rf_randomcv.best_params_['max_iter']+200, \n",
    "                         rf_randomcv.best_params_['max_iter'] + 400],\n",
    "    'C': [rf_randomcv.best_params_['C'] - 0.2,\n",
    "                          rf_randomcv.best_params_['C'] - 0.1,\n",
    "                          rf_randomcv.best_params_['C'], \n",
    "                          rf_randomcv.best_params_['C'] + 0.1,\n",
    "                          rf_randomcv.best_params_['C'] + 0.2]\n",
    "}\n",
    "\n",
    "print(param_grid)"
   ]
  },
  {
   "cell_type": "code",
   "execution_count": 192,
   "metadata": {},
   "outputs": [
    {
     "name": "stdout",
     "output_type": "stream",
     "text": [
      "Fitting 10 folds for each of 15 candidates, totalling 150 fits\n"
     ]
    },
    {
     "name": "stderr",
     "output_type": "stream",
     "text": [
      "[Parallel(n_jobs=-1)]: Using backend LokyBackend with 4 concurrent workers.\n",
      "[Parallel(n_jobs=-1)]: Done  33 tasks      | elapsed: 18.7min\n",
      "[Parallel(n_jobs=-1)]: Done 150 out of 150 | elapsed: 80.4min finished\n"
     ]
    },
    {
     "data": {
      "text/plain": [
       "GridSearchCV(cv=10, estimator=LogisticRegression(), n_jobs=-1,\n",
       "             param_grid={'C': [9999.8, 9999.9, 10000.0, 10000.1, 10000.2],\n",
       "                         'max_iter': [1000, 1200, 1400], 'penalty': ['l1'],\n",
       "                         'solver': ['saga']},\n",
       "             verbose=2)"
      ]
     },
     "execution_count": 192,
     "metadata": {},
     "output_type": "execute_result"
    }
   ],
   "source": [
    "#### Fit the grid_search to the data\n",
    "dt=LogisticRegression()\n",
    "grid_search=GridSearchCV(estimator=dt,param_grid=param_grid,cv=10,n_jobs=-1,verbose=2)\n",
    "grid_search.fit(X_train_ns,y_train_ns)"
   ]
  },
  {
   "cell_type": "code",
   "execution_count": 193,
   "metadata": {},
   "outputs": [
    {
     "data": {
      "text/plain": [
       "LogisticRegression(C=9999.8, max_iter=1000, penalty='l1', solver='saga')"
      ]
     },
     "execution_count": 193,
     "metadata": {},
     "output_type": "execute_result"
    }
   ],
   "source": [
    "grid_search.best_estimator_"
   ]
  },
  {
   "cell_type": "code",
   "execution_count": 194,
   "metadata": {},
   "outputs": [],
   "source": [
    "best_grid=grid_search.best_estimator_"
   ]
  },
  {
   "cell_type": "code",
   "execution_count": 195,
   "metadata": {},
   "outputs": [
    {
     "data": {
      "text/plain": [
       "LogisticRegression(C=9999.8, max_iter=1000, penalty='l1', solver='saga')"
      ]
     },
     "execution_count": 195,
     "metadata": {},
     "output_type": "execute_result"
    }
   ],
   "source": [
    "best_grid"
   ]
  },
  {
   "cell_type": "code",
   "execution_count": 196,
   "metadata": {},
   "outputs": [
    {
     "name": "stdout",
     "output_type": "stream",
     "text": [
      "[[28796   117]\n",
      " [    0     0]]\n",
      "Accuracy Score 0.9959533773734998\n",
      "Classification report:               precision    recall  f1-score   support\n",
      "\n",
      "           0       1.00      1.00      1.00     28913\n",
      "           1       0.00      0.00      0.00         0\n",
      "\n",
      "    accuracy                           1.00     28913\n",
      "   macro avg       0.50      0.50      0.50     28913\n",
      "weighted avg       1.00      1.00      1.00     28913\n",
      "\n"
     ]
    }
   ],
   "source": [
    "y_pred=best_grid.predict(X_test)\n",
    "print(confusion_matrix(y_test,y_pred))\n",
    "print(\"Accuracy Score {}\".format(accuracy_score(y_test,y_pred)))\n",
    "print(\"Classification report: {}\".format(classification_report(y_test,y_pred)))"
   ]
  },
  {
   "cell_type": "code",
   "execution_count": 197,
   "metadata": {},
   "outputs": [],
   "source": [
    "# Converting y_pred to a dataframe which is an array\n",
    "y_pred_2 = pd.DataFrame(y_pred)"
   ]
  },
  {
   "cell_type": "code",
   "execution_count": 198,
   "metadata": {},
   "outputs": [
    {
     "data": {
      "text/plain": [
       "0    28796\n",
       "1      117\n",
       "dtype: int64"
      ]
     },
     "execution_count": 198,
     "metadata": {},
     "output_type": "execute_result"
    }
   ],
   "source": [
    "y_pred_2.value_counts()"
   ]
  },
  {
   "cell_type": "code",
   "execution_count": 199,
   "metadata": {},
   "outputs": [
    {
     "data": {
      "text/plain": [
       "<Figure size 360x360 with 0 Axes>"
      ]
     },
     "metadata": {},
     "output_type": "display_data"
    },
    {
     "data": {
      "image/png": "[encoded data removed]",
      "text/plain": [
       "<Figure size 360x360 with 1 Axes>"
      ]
     },
     "metadata": {
      "needs_background": "light"
     },
     "output_type": "display_data"
    }
   ],
   "source": [
    "#\n",
    "# Print the confusion matrix using Matplotlib\n",
    "#\n",
    "plt.figure(figsize = [5,5])\n",
    "fig, ax = plt.subplots(figsize=(5, 5))\n",
    "ax.matshow(confusion, cmap=plt.cm.Reds, alpha=0.3)\n",
    "for i in range(confusion.shape[0]):\n",
    "    for j in range(confusion.shape[1]):\n",
    "        ax.text(x=j, y=i,s=confusion[i, j], va='center', ha='center', size='xx-large')\n",
    " \n",
    "plt.xlabel('Predictions', fontsize=18)\n",
    "plt.ylabel('Actuals', fontsize=18)\n",
    "plt.title('Confusion Matrix', fontsize=18)\n",
    "plt.show()"
   ]
  },
  {
   "cell_type": "markdown",
   "metadata": {},
   "source": [
    "### Evaluation To Check If the Model Is Over Or Under Fitting \n",
    "### 1. As we can see the accuracy for train and test data is near about , so there is issues. Also , we did resampling previously"
   ]
  },
  {
   "cell_type": "code",
   "execution_count": 200,
   "metadata": {},
   "outputs": [
    {
     "name": "stdout",
     "output_type": "stream",
     "text": [
      "0.9959533773734998\n"
     ]
    }
   ],
   "source": [
    "# Let's check the overall accuracy.\n",
    "print(metrics.accuracy_score(y_test, y_pred))"
   ]
  },
  {
   "cell_type": "code",
   "execution_count": 201,
   "metadata": {},
   "outputs": [],
   "source": [
    "y_pred2=best_random_grid.predict(X_train)"
   ]
  },
  {
   "cell_type": "code",
   "execution_count": 202,
   "metadata": {},
   "outputs": [
    {
     "name": "stdout",
     "output_type": "stream",
     "text": [
      "0.904341524474603\n"
     ]
    }
   ],
   "source": [
    "# Let's check the overall accuracy.\n",
    "print(metrics.accuracy_score(y_train, y_pred2))"
   ]
  },
  {
   "cell_type": "code",
   "execution_count": 208,
   "metadata": {},
   "outputs": [
    {
     "data": {
      "text/html": [
       "<div>\n",
       "<style scoped>\n",
       "    .dataframe tbody tr th:only-of-type {\n",
       "        vertical-align: middle;\n",
       "    }\n",
       "\n",
       "    .dataframe tbody tr th {\n",
       "        vertical-align: top;\n",
       "    }\n",
       "\n",
       "    .dataframe thead th {\n",
       "        text-align: right;\n",
       "    }\n",
       "</style>\n",
       "<table border=\"1\" class=\"dataframe\">\n",
       "  <thead>\n",
       "    <tr style=\"text-align: right;\">\n",
       "      <th></th>\n",
       "      <th>0</th>\n",
       "    </tr>\n",
       "  </thead>\n",
       "  <tbody>\n",
       "    <tr>\n",
       "      <th>0</th>\n",
       "      <td>0</td>\n",
       "    </tr>\n",
       "    <tr>\n",
       "      <th>1</th>\n",
       "      <td>0</td>\n",
       "    </tr>\n",
       "    <tr>\n",
       "      <th>2</th>\n",
       "      <td>0</td>\n",
       "    </tr>\n",
       "    <tr>\n",
       "      <th>3</th>\n",
       "      <td>0</td>\n",
       "    </tr>\n",
       "    <tr>\n",
       "      <th>4</th>\n",
       "      <td>0</td>\n",
       "    </tr>\n",
       "  </tbody>\n",
       "</table>\n",
       "</div>"
      ],
      "text/plain": [
       "   0\n",
       "0  0\n",
       "1  0\n",
       "2  0\n",
       "3  0\n",
       "4  0"
      ]
     },
     "execution_count": 208,
     "metadata": {},
     "output_type": "execute_result"
    }
   ],
   "source": [
    "# Let's see the head\n",
    "y_pred_2.head()"
   ]
  },
  {
   "cell_type": "code",
   "execution_count": 209,
   "metadata": {},
   "outputs": [
    {
     "data": {
      "text/plain": [
       "0    28796\n",
       "1      117\n",
       "dtype: int64"
      ]
     },
     "execution_count": 209,
     "metadata": {},
     "output_type": "execute_result"
    }
   ],
   "source": [
    "y_pred_2.value_counts()"
   ]
  },
  {
   "cell_type": "code",
   "execution_count": 211,
   "metadata": {},
   "outputs": [],
   "source": [
    "y_pred_final = y_pred_2.rename(columns={0:\"Loan Status\"})"
   ]
  },
  {
   "cell_type": "code",
   "execution_count": 212,
   "metadata": {},
   "outputs": [],
   "source": [
    "y_pred_final.to_csv('C:/Users/HP/Desktop/DeloitteHackathon/my_submission_file.csv', index=False)"
   ]
  },
  {
   "cell_type": "code",
   "execution_count": null,
   "metadata": {},
   "outputs": [],
   "source": []
  }
 ],
 "metadata": {
  "kernelspec": {
   "display_name": "Python 3",
   "language": "python",
   "name": "python3"
  },
  "language_info": {
   "codemirror_mode": {
    "name": "ipython",
    "version": 3
   },
   "file_extension": ".py",
   "mimetype": "text/x-python",
   "name": "python",
   "nbconvert_exporter": "python",
   "pygments_lexer": "ipython3",
   "version": "3.8.5"
  }
 },
 "nbformat": 4,
 "nbformat_minor": 5
}
