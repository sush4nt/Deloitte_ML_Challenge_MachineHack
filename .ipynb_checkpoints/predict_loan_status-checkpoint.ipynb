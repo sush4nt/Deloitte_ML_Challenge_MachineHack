{
 "cells": [
  {
   "cell_type": "code",
   "execution_count": 1,
   "metadata": {},
   "outputs": [],
   "source": [
    "import pandas as pd\n",
    "import numpy as np\n",
    "import seaborn as sns\n",
    "import matplotlib.pyplot as plt\n",
    "\n",
    "from sklearn.preprocessing import LabelEncoder, OrdinalEncoder, RobustScaler, StandardScaler, MinMaxScaler\n",
    "from sklearn.feature_selection import mutual_info_classif\n",
    "\n",
    "\n",
    "import warnings\n",
    "warnings.filterwarnings('ignore')"
   ]
  },
  {
   "cell_type": "code",
   "execution_count": 2,
   "metadata": {},
   "outputs": [
    {
     "data": {
      "text/html": [
       "<div>\n",
       "<style scoped>\n",
       "    .dataframe tbody tr th:only-of-type {\n",
       "        vertical-align: middle;\n",
       "    }\n",
       "\n",
       "    .dataframe tbody tr th {\n",
       "        vertical-align: top;\n",
       "    }\n",
       "\n",
       "    .dataframe thead th {\n",
       "        text-align: right;\n",
       "    }\n",
       "</style>\n",
       "<table border=\"1\" class=\"dataframe\">\n",
       "  <thead>\n",
       "    <tr style=\"text-align: right;\">\n",
       "      <th></th>\n",
       "      <th>ID</th>\n",
       "      <th>Loan Amount</th>\n",
       "      <th>Funded Amount</th>\n",
       "      <th>Funded Amount Investor</th>\n",
       "      <th>Term</th>\n",
       "      <th>Batch Enrolled</th>\n",
       "      <th>Interest Rate</th>\n",
       "      <th>Grade</th>\n",
       "      <th>Sub Grade</th>\n",
       "      <th>Employment Duration</th>\n",
       "      <th>...</th>\n",
       "      <th>Recoveries</th>\n",
       "      <th>Collection Recovery Fee</th>\n",
       "      <th>Collection 12 months Medical</th>\n",
       "      <th>Application Type</th>\n",
       "      <th>Last week Pay</th>\n",
       "      <th>Accounts Delinquent</th>\n",
       "      <th>Total Collection Amount</th>\n",
       "      <th>Total Current Balance</th>\n",
       "      <th>Total Revolving Credit Limit</th>\n",
       "      <th>Loan Status</th>\n",
       "    </tr>\n",
       "  </thead>\n",
       "  <tbody>\n",
       "    <tr>\n",
       "      <th>0</th>\n",
       "      <td>65087372</td>\n",
       "      <td>10000</td>\n",
       "      <td>32236</td>\n",
       "      <td>12329.36286</td>\n",
       "      <td>59</td>\n",
       "      <td>BAT2522922</td>\n",
       "      <td>11.135007</td>\n",
       "      <td>B</td>\n",
       "      <td>C4</td>\n",
       "      <td>MORTGAGE</td>\n",
       "      <td>...</td>\n",
       "      <td>2.498291</td>\n",
       "      <td>0.793724</td>\n",
       "      <td>0</td>\n",
       "      <td>INDIVIDUAL</td>\n",
       "      <td>49</td>\n",
       "      <td>0</td>\n",
       "      <td>31</td>\n",
       "      <td>311301</td>\n",
       "      <td>6619</td>\n",
       "      <td>0</td>\n",
       "    </tr>\n",
       "    <tr>\n",
       "      <th>1</th>\n",
       "      <td>1450153</td>\n",
       "      <td>3609</td>\n",
       "      <td>11940</td>\n",
       "      <td>12191.99692</td>\n",
       "      <td>59</td>\n",
       "      <td>BAT1586599</td>\n",
       "      <td>12.237563</td>\n",
       "      <td>C</td>\n",
       "      <td>D3</td>\n",
       "      <td>RENT</td>\n",
       "      <td>...</td>\n",
       "      <td>2.377215</td>\n",
       "      <td>0.974821</td>\n",
       "      <td>0</td>\n",
       "      <td>INDIVIDUAL</td>\n",
       "      <td>109</td>\n",
       "      <td>0</td>\n",
       "      <td>53</td>\n",
       "      <td>182610</td>\n",
       "      <td>20885</td>\n",
       "      <td>0</td>\n",
       "    </tr>\n",
       "    <tr>\n",
       "      <th>2</th>\n",
       "      <td>1969101</td>\n",
       "      <td>28276</td>\n",
       "      <td>9311</td>\n",
       "      <td>21603.22455</td>\n",
       "      <td>59</td>\n",
       "      <td>BAT2136391</td>\n",
       "      <td>12.545884</td>\n",
       "      <td>F</td>\n",
       "      <td>D4</td>\n",
       "      <td>MORTGAGE</td>\n",
       "      <td>...</td>\n",
       "      <td>4.316277</td>\n",
       "      <td>1.020075</td>\n",
       "      <td>0</td>\n",
       "      <td>INDIVIDUAL</td>\n",
       "      <td>66</td>\n",
       "      <td>0</td>\n",
       "      <td>34</td>\n",
       "      <td>89801</td>\n",
       "      <td>26155</td>\n",
       "      <td>0</td>\n",
       "    </tr>\n",
       "    <tr>\n",
       "      <th>3</th>\n",
       "      <td>6651430</td>\n",
       "      <td>11170</td>\n",
       "      <td>6954</td>\n",
       "      <td>17877.15585</td>\n",
       "      <td>59</td>\n",
       "      <td>BAT2428731</td>\n",
       "      <td>16.731201</td>\n",
       "      <td>C</td>\n",
       "      <td>C3</td>\n",
       "      <td>MORTGAGE</td>\n",
       "      <td>...</td>\n",
       "      <td>0.107020</td>\n",
       "      <td>0.749971</td>\n",
       "      <td>0</td>\n",
       "      <td>INDIVIDUAL</td>\n",
       "      <td>39</td>\n",
       "      <td>0</td>\n",
       "      <td>40</td>\n",
       "      <td>9189</td>\n",
       "      <td>60214</td>\n",
       "      <td>0</td>\n",
       "    </tr>\n",
       "    <tr>\n",
       "      <th>4</th>\n",
       "      <td>14354669</td>\n",
       "      <td>16890</td>\n",
       "      <td>13226</td>\n",
       "      <td>13539.92667</td>\n",
       "      <td>59</td>\n",
       "      <td>BAT5341619</td>\n",
       "      <td>15.008300</td>\n",
       "      <td>C</td>\n",
       "      <td>D4</td>\n",
       "      <td>MORTGAGE</td>\n",
       "      <td>...</td>\n",
       "      <td>1294.818751</td>\n",
       "      <td>0.368953</td>\n",
       "      <td>0</td>\n",
       "      <td>INDIVIDUAL</td>\n",
       "      <td>18</td>\n",
       "      <td>0</td>\n",
       "      <td>430</td>\n",
       "      <td>126029</td>\n",
       "      <td>22579</td>\n",
       "      <td>0</td>\n",
       "    </tr>\n",
       "  </tbody>\n",
       "</table>\n",
       "<p>5 rows × 35 columns</p>\n",
       "</div>"
      ],
      "text/plain": [
       "         ID  Loan Amount  Funded Amount  Funded Amount Investor  Term  \\\n",
       "0  65087372        10000          32236             12329.36286    59   \n",
       "1   1450153         3609          11940             12191.99692    59   \n",
       "2   1969101        28276           9311             21603.22455    59   \n",
       "3   6651430        11170           6954             17877.15585    59   \n",
       "4  14354669        16890          13226             13539.92667    59   \n",
       "\n",
       "  Batch Enrolled  Interest Rate Grade Sub Grade Employment Duration  ...  \\\n",
       "0     BAT2522922      11.135007     B        C4            MORTGAGE  ...   \n",
       "1     BAT1586599      12.237563     C        D3                RENT  ...   \n",
       "2     BAT2136391      12.545884     F        D4            MORTGAGE  ...   \n",
       "3     BAT2428731      16.731201     C        C3            MORTGAGE  ...   \n",
       "4     BAT5341619      15.008300     C        D4            MORTGAGE  ...   \n",
       "\n",
       "    Recoveries Collection Recovery Fee Collection 12 months Medical  \\\n",
       "0     2.498291                0.793724                            0   \n",
       "1     2.377215                0.974821                            0   \n",
       "2     4.316277                1.020075                            0   \n",
       "3     0.107020                0.749971                            0   \n",
       "4  1294.818751                0.368953                            0   \n",
       "\n",
       "  Application Type  Last week Pay  Accounts Delinquent  \\\n",
       "0       INDIVIDUAL             49                    0   \n",
       "1       INDIVIDUAL            109                    0   \n",
       "2       INDIVIDUAL             66                    0   \n",
       "3       INDIVIDUAL             39                    0   \n",
       "4       INDIVIDUAL             18                    0   \n",
       "\n",
       "   Total Collection Amount  Total Current Balance  \\\n",
       "0                       31                 311301   \n",
       "1                       53                 182610   \n",
       "2                       34                  89801   \n",
       "3                       40                   9189   \n",
       "4                      430                 126029   \n",
       "\n",
       "   Total Revolving Credit Limit  Loan Status  \n",
       "0                          6619            0  \n",
       "1                         20885            0  \n",
       "2                         26155            0  \n",
       "3                         60214            0  \n",
       "4                         22579            0  \n",
       "\n",
       "[5 rows x 35 columns]"
      ]
     },
     "execution_count": 2,
     "metadata": {},
     "output_type": "execute_result"
    }
   ],
   "source": [
    "train = pd.read_csv(r\"train.csv\")\n",
    "train.head()"
   ]
  },
  {
   "cell_type": "code",
   "execution_count": 3,
   "metadata": {},
   "outputs": [
    {
     "data": {
      "text/html": [
       "<div>\n",
       "<style scoped>\n",
       "    .dataframe tbody tr th:only-of-type {\n",
       "        vertical-align: middle;\n",
       "    }\n",
       "\n",
       "    .dataframe tbody tr th {\n",
       "        vertical-align: top;\n",
       "    }\n",
       "\n",
       "    .dataframe thead th {\n",
       "        text-align: right;\n",
       "    }\n",
       "</style>\n",
       "<table border=\"1\" class=\"dataframe\">\n",
       "  <thead>\n",
       "    <tr style=\"text-align: right;\">\n",
       "      <th></th>\n",
       "      <th>ID</th>\n",
       "      <th>Loan Amount</th>\n",
       "      <th>Funded Amount</th>\n",
       "      <th>Funded Amount Investor</th>\n",
       "      <th>Term</th>\n",
       "      <th>Batch Enrolled</th>\n",
       "      <th>Interest Rate</th>\n",
       "      <th>Grade</th>\n",
       "      <th>Sub Grade</th>\n",
       "      <th>Employment Duration</th>\n",
       "      <th>...</th>\n",
       "      <th>Recoveries</th>\n",
       "      <th>Collection Recovery Fee</th>\n",
       "      <th>Collection 12 months Medical</th>\n",
       "      <th>Application Type</th>\n",
       "      <th>Last week Pay</th>\n",
       "      <th>Accounts Delinquent</th>\n",
       "      <th>Total Collection Amount</th>\n",
       "      <th>Total Current Balance</th>\n",
       "      <th>Total Revolving Credit Limit</th>\n",
       "      <th>Loan Status</th>\n",
       "    </tr>\n",
       "  </thead>\n",
       "  <tbody>\n",
       "    <tr>\n",
       "      <th>0</th>\n",
       "      <td>56492997</td>\n",
       "      <td>17120</td>\n",
       "      <td>10365</td>\n",
       "      <td>16025.082690</td>\n",
       "      <td>59</td>\n",
       "      <td>BAT2575549</td>\n",
       "      <td>12.163926</td>\n",
       "      <td>A</td>\n",
       "      <td>D1</td>\n",
       "      <td>RENT</td>\n",
       "      <td>...</td>\n",
       "      <td>8.425776</td>\n",
       "      <td>0.731797</td>\n",
       "      <td>0</td>\n",
       "      <td>INDIVIDUAL</td>\n",
       "      <td>135</td>\n",
       "      <td>0</td>\n",
       "      <td>24</td>\n",
       "      <td>475442</td>\n",
       "      <td>4364</td>\n",
       "      <td>NaN</td>\n",
       "    </tr>\n",
       "    <tr>\n",
       "      <th>1</th>\n",
       "      <td>22540813</td>\n",
       "      <td>7133</td>\n",
       "      <td>11650</td>\n",
       "      <td>12615.795600</td>\n",
       "      <td>59</td>\n",
       "      <td>BAT2833642</td>\n",
       "      <td>6.564296</td>\n",
       "      <td>B</td>\n",
       "      <td>E3</td>\n",
       "      <td>MORTGAGE</td>\n",
       "      <td>...</td>\n",
       "      <td>6.157008</td>\n",
       "      <td>0.992918</td>\n",
       "      <td>0</td>\n",
       "      <td>INDIVIDUAL</td>\n",
       "      <td>56</td>\n",
       "      <td>0</td>\n",
       "      <td>1</td>\n",
       "      <td>72412</td>\n",
       "      <td>2573</td>\n",
       "      <td>NaN</td>\n",
       "    </tr>\n",
       "    <tr>\n",
       "      <th>2</th>\n",
       "      <td>9862181</td>\n",
       "      <td>25291</td>\n",
       "      <td>25825</td>\n",
       "      <td>11621.280830</td>\n",
       "      <td>59</td>\n",
       "      <td>BAT1761981</td>\n",
       "      <td>14.729900</td>\n",
       "      <td>A</td>\n",
       "      <td>C3</td>\n",
       "      <td>MORTGAGE</td>\n",
       "      <td>...</td>\n",
       "      <td>5.705077</td>\n",
       "      <td>0.281580</td>\n",
       "      <td>0</td>\n",
       "      <td>INDIVIDUAL</td>\n",
       "      <td>3</td>\n",
       "      <td>0</td>\n",
       "      <td>26</td>\n",
       "      <td>284825</td>\n",
       "      <td>19676</td>\n",
       "      <td>NaN</td>\n",
       "    </tr>\n",
       "    <tr>\n",
       "      <th>3</th>\n",
       "      <td>10097822</td>\n",
       "      <td>30781</td>\n",
       "      <td>9664</td>\n",
       "      <td>15375.823510</td>\n",
       "      <td>59</td>\n",
       "      <td>BAT5341619</td>\n",
       "      <td>10.523767</td>\n",
       "      <td>A</td>\n",
       "      <td>A2</td>\n",
       "      <td>RENT</td>\n",
       "      <td>...</td>\n",
       "      <td>2.469688</td>\n",
       "      <td>0.959162</td>\n",
       "      <td>0</td>\n",
       "      <td>INDIVIDUAL</td>\n",
       "      <td>21</td>\n",
       "      <td>0</td>\n",
       "      <td>32</td>\n",
       "      <td>40842</td>\n",
       "      <td>7226</td>\n",
       "      <td>NaN</td>\n",
       "    </tr>\n",
       "    <tr>\n",
       "      <th>4</th>\n",
       "      <td>47771809</td>\n",
       "      <td>8878</td>\n",
       "      <td>9419</td>\n",
       "      <td>7176.647582</td>\n",
       "      <td>58</td>\n",
       "      <td>BAT4694572</td>\n",
       "      <td>9.997013</td>\n",
       "      <td>C</td>\n",
       "      <td>B3</td>\n",
       "      <td>OWN</td>\n",
       "      <td>...</td>\n",
       "      <td>2.127835</td>\n",
       "      <td>0.402315</td>\n",
       "      <td>0</td>\n",
       "      <td>INDIVIDUAL</td>\n",
       "      <td>104</td>\n",
       "      <td>0</td>\n",
       "      <td>33</td>\n",
       "      <td>90825</td>\n",
       "      <td>26145</td>\n",
       "      <td>NaN</td>\n",
       "    </tr>\n",
       "  </tbody>\n",
       "</table>\n",
       "<p>5 rows × 35 columns</p>\n",
       "</div>"
      ],
      "text/plain": [
       "         ID  Loan Amount  Funded Amount  Funded Amount Investor  Term  \\\n",
       "0  56492997        17120          10365            16025.082690    59   \n",
       "1  22540813         7133          11650            12615.795600    59   \n",
       "2   9862181        25291          25825            11621.280830    59   \n",
       "3  10097822        30781           9664            15375.823510    59   \n",
       "4  47771809         8878           9419             7176.647582    58   \n",
       "\n",
       "  Batch Enrolled  Interest Rate Grade Sub Grade Employment Duration  ...  \\\n",
       "0     BAT2575549      12.163926     A        D1                RENT  ...   \n",
       "1     BAT2833642       6.564296     B        E3            MORTGAGE  ...   \n",
       "2     BAT1761981      14.729900     A        C3            MORTGAGE  ...   \n",
       "3     BAT5341619      10.523767     A        A2                RENT  ...   \n",
       "4     BAT4694572       9.997013     C        B3                 OWN  ...   \n",
       "\n",
       "   Recoveries Collection Recovery Fee Collection 12 months Medical  \\\n",
       "0    8.425776                0.731797                            0   \n",
       "1    6.157008                0.992918                            0   \n",
       "2    5.705077                0.281580                            0   \n",
       "3    2.469688                0.959162                            0   \n",
       "4    2.127835                0.402315                            0   \n",
       "\n",
       "  Application Type  Last week Pay  Accounts Delinquent  \\\n",
       "0       INDIVIDUAL            135                    0   \n",
       "1       INDIVIDUAL             56                    0   \n",
       "2       INDIVIDUAL              3                    0   \n",
       "3       INDIVIDUAL             21                    0   \n",
       "4       INDIVIDUAL            104                    0   \n",
       "\n",
       "   Total Collection Amount  Total Current Balance  \\\n",
       "0                       24                 475442   \n",
       "1                        1                  72412   \n",
       "2                       26                 284825   \n",
       "3                       32                  40842   \n",
       "4                       33                  90825   \n",
       "\n",
       "   Total Revolving Credit Limit  Loan Status  \n",
       "0                          4364          NaN  \n",
       "1                          2573          NaN  \n",
       "2                         19676          NaN  \n",
       "3                          7226          NaN  \n",
       "4                         26145          NaN  \n",
       "\n",
       "[5 rows x 35 columns]"
      ]
     },
     "execution_count": 3,
     "metadata": {},
     "output_type": "execute_result"
    }
   ],
   "source": [
    "test = pd.read_csv(r\"test.csv\")\n",
    "test.head()"
   ]
  },
  {
   "cell_type": "code",
   "execution_count": 4,
   "metadata": {},
   "outputs": [
    {
     "name": "stdout",
     "output_type": "stream",
     "text": [
      "(67463, 35)\n",
      "(28913, 35)\n"
     ]
    }
   ],
   "source": [
    "print(train.shape)\n",
    "print(test.shape)"
   ]
  },
  {
   "cell_type": "code",
   "execution_count": 5,
   "metadata": {},
   "outputs": [
    {
     "name": "stdout",
     "output_type": "stream",
     "text": [
      "<class 'pandas.core.frame.DataFrame'>\n",
      "RangeIndex: 67463 entries, 0 to 67462\n",
      "Data columns (total 35 columns):\n",
      " #   Column                        Non-Null Count  Dtype  \n",
      "---  ------                        --------------  -----  \n",
      " 0   ID                            67463 non-null  int64  \n",
      " 1   Loan Amount                   67463 non-null  int64  \n",
      " 2   Funded Amount                 67463 non-null  int64  \n",
      " 3   Funded Amount Investor        67463 non-null  float64\n",
      " 4   Term                          67463 non-null  int64  \n",
      " 5   Batch Enrolled                67463 non-null  object \n",
      " 6   Interest Rate                 67463 non-null  float64\n",
      " 7   Grade                         67463 non-null  object \n",
      " 8   Sub Grade                     67463 non-null  object \n",
      " 9   Employment Duration           67463 non-null  object \n",
      " 10  Home Ownership                67463 non-null  float64\n",
      " 11  Verification Status           67463 non-null  object \n",
      " 12  Payment Plan                  67463 non-null  object \n",
      " 13  Loan Title                    67463 non-null  object \n",
      " 14  Debit to Income               67463 non-null  float64\n",
      " 15  Delinquency - two years       67463 non-null  int64  \n",
      " 16  Inquires - six months         67463 non-null  int64  \n",
      " 17  Open Account                  67463 non-null  int64  \n",
      " 18  Public Record                 67463 non-null  int64  \n",
      " 19  Revolving Balance             67463 non-null  int64  \n",
      " 20  Revolving Utilities           67463 non-null  float64\n",
      " 21  Total Accounts                67463 non-null  int64  \n",
      " 22  Initial List Status           67463 non-null  object \n",
      " 23  Total Received Interest       67463 non-null  float64\n",
      " 24  Total Received Late Fee       67463 non-null  float64\n",
      " 25  Recoveries                    67463 non-null  float64\n",
      " 26  Collection Recovery Fee       67463 non-null  float64\n",
      " 27  Collection 12 months Medical  67463 non-null  int64  \n",
      " 28  Application Type              67463 non-null  object \n",
      " 29  Last week Pay                 67463 non-null  int64  \n",
      " 30  Accounts Delinquent           67463 non-null  int64  \n",
      " 31  Total Collection Amount       67463 non-null  int64  \n",
      " 32  Total Current Balance         67463 non-null  int64  \n",
      " 33  Total Revolving Credit Limit  67463 non-null  int64  \n",
      " 34  Loan Status                   67463 non-null  int64  \n",
      "dtypes: float64(9), int64(17), object(9)\n",
      "memory usage: 18.0+ MB\n"
     ]
    }
   ],
   "source": [
    "train.info()"
   ]
  },
  {
   "cell_type": "code",
   "execution_count": 6,
   "metadata": {},
   "outputs": [
    {
     "data": {
      "text/plain": [
       "Index(['ID', 'Loan Amount', 'Funded Amount', 'Funded Amount Investor', 'Term',\n",
       "       'Batch Enrolled', 'Interest Rate', 'Grade', 'Sub Grade',\n",
       "       'Employment Duration', 'Home Ownership', 'Verification Status',\n",
       "       'Payment Plan', 'Loan Title', 'Debit to Income',\n",
       "       'Delinquency - two years', 'Inquires - six months', 'Open Account',\n",
       "       'Public Record', 'Revolving Balance', 'Revolving Utilities',\n",
       "       'Total Accounts', 'Initial List Status', 'Total Received Interest',\n",
       "       'Total Received Late Fee', 'Recoveries', 'Collection Recovery Fee',\n",
       "       'Collection 12 months Medical', 'Application Type', 'Last week Pay',\n",
       "       'Accounts Delinquent', 'Total Collection Amount',\n",
       "       'Total Current Balance', 'Total Revolving Credit Limit', 'Loan Status'],\n",
       "      dtype='object')"
      ]
     },
     "execution_count": 6,
     "metadata": {},
     "output_type": "execute_result"
    }
   ],
   "source": [
    "train.columns"
   ]
  },
  {
   "cell_type": "code",
   "execution_count": 7,
   "metadata": {},
   "outputs": [],
   "source": [
    "# glance at columns values\n",
    "#train['Recoveries']"
   ]
  },
  {
   "cell_type": "code",
   "execution_count": 8,
   "metadata": {},
   "outputs": [
    {
     "name": "stdout",
     "output_type": "stream",
     "text": [
      "ID                              0\n",
      "Loan Amount                     0\n",
      "Funded Amount                   0\n",
      "Funded Amount Investor          0\n",
      "Term                            0\n",
      "Batch Enrolled                  0\n",
      "Interest Rate                   0\n",
      "Grade                           0\n",
      "Sub Grade                       0\n",
      "Employment Duration             0\n",
      "Home Ownership                  0\n",
      "Verification Status             0\n",
      "Payment Plan                    0\n",
      "Loan Title                      0\n",
      "Debit to Income                 0\n",
      "Delinquency - two years         0\n",
      "Inquires - six months           0\n",
      "Open Account                    0\n",
      "Public Record                   0\n",
      "Revolving Balance               0\n",
      "Revolving Utilities             0\n",
      "Total Accounts                  0\n",
      "Initial List Status             0\n",
      "Total Received Interest         0\n",
      "Total Received Late Fee         0\n",
      "Recoveries                      0\n",
      "Collection Recovery Fee         0\n",
      "Collection 12 months Medical    0\n",
      "Application Type                0\n",
      "Last week Pay                   0\n",
      "Accounts Delinquent             0\n",
      "Total Collection Amount         0\n",
      "Total Current Balance           0\n",
      "Total Revolving Credit Limit    0\n",
      "Loan Status                     0\n",
      "dtype: int64\n",
      "************************************************************\n",
      "ID                                  0\n",
      "Loan Amount                         0\n",
      "Funded Amount                       0\n",
      "Funded Amount Investor              0\n",
      "Term                                0\n",
      "Batch Enrolled                      0\n",
      "Interest Rate                       0\n",
      "Grade                               0\n",
      "Sub Grade                           0\n",
      "Employment Duration                 0\n",
      "Home Ownership                      0\n",
      "Verification Status                 0\n",
      "Payment Plan                        0\n",
      "Loan Title                          0\n",
      "Debit to Income                     0\n",
      "Delinquency - two years             0\n",
      "Inquires - six months               0\n",
      "Open Account                        0\n",
      "Public Record                       0\n",
      "Revolving Balance                   0\n",
      "Revolving Utilities                 0\n",
      "Total Accounts                      0\n",
      "Initial List Status                 0\n",
      "Total Received Interest             0\n",
      "Total Received Late Fee             0\n",
      "Recoveries                          0\n",
      "Collection Recovery Fee             0\n",
      "Collection 12 months Medical        0\n",
      "Application Type                    0\n",
      "Last week Pay                       0\n",
      "Accounts Delinquent                 0\n",
      "Total Collection Amount             0\n",
      "Total Current Balance               0\n",
      "Total Revolving Credit Limit        0\n",
      "Loan Status                     28913\n",
      "dtype: int64\n"
     ]
    }
   ],
   "source": [
    "print(train.isnull().sum())\n",
    "print(\"*\"*60)\n",
    "print(test.isnull().sum())"
   ]
  },
  {
   "cell_type": "code",
   "execution_count": 9,
   "metadata": {},
   "outputs": [
    {
     "data": {
      "text/html": [
       "<div>\n",
       "<style scoped>\n",
       "    .dataframe tbody tr th:only-of-type {\n",
       "        vertical-align: middle;\n",
       "    }\n",
       "\n",
       "    .dataframe tbody tr th {\n",
       "        vertical-align: top;\n",
       "    }\n",
       "\n",
       "    .dataframe thead th {\n",
       "        text-align: right;\n",
       "    }\n",
       "</style>\n",
       "<table border=\"1\" class=\"dataframe\">\n",
       "  <thead>\n",
       "    <tr style=\"text-align: right;\">\n",
       "      <th></th>\n",
       "      <th>ID</th>\n",
       "      <th>Loan Amount</th>\n",
       "      <th>Funded Amount</th>\n",
       "      <th>Funded Amount Investor</th>\n",
       "      <th>Term</th>\n",
       "      <th>Batch Enrolled</th>\n",
       "      <th>Interest Rate</th>\n",
       "      <th>Grade</th>\n",
       "      <th>Sub Grade</th>\n",
       "      <th>Employment Duration</th>\n",
       "      <th>...</th>\n",
       "      <th>Recoveries</th>\n",
       "      <th>Collection Recovery Fee</th>\n",
       "      <th>Collection 12 months Medical</th>\n",
       "      <th>Application Type</th>\n",
       "      <th>Last week Pay</th>\n",
       "      <th>Accounts Delinquent</th>\n",
       "      <th>Total Collection Amount</th>\n",
       "      <th>Total Current Balance</th>\n",
       "      <th>Total Revolving Credit Limit</th>\n",
       "      <th>Loan Status</th>\n",
       "    </tr>\n",
       "  </thead>\n",
       "  <tbody>\n",
       "    <tr>\n",
       "      <th>0</th>\n",
       "      <td>56492997</td>\n",
       "      <td>17120</td>\n",
       "      <td>10365</td>\n",
       "      <td>16025.082690</td>\n",
       "      <td>59</td>\n",
       "      <td>BAT2575549</td>\n",
       "      <td>12.163926</td>\n",
       "      <td>A</td>\n",
       "      <td>D1</td>\n",
       "      <td>RENT</td>\n",
       "      <td>...</td>\n",
       "      <td>8.425776</td>\n",
       "      <td>0.731797</td>\n",
       "      <td>0</td>\n",
       "      <td>INDIVIDUAL</td>\n",
       "      <td>135</td>\n",
       "      <td>0</td>\n",
       "      <td>24</td>\n",
       "      <td>475442</td>\n",
       "      <td>4364</td>\n",
       "      <td>0</td>\n",
       "    </tr>\n",
       "    <tr>\n",
       "      <th>1</th>\n",
       "      <td>22540813</td>\n",
       "      <td>7133</td>\n",
       "      <td>11650</td>\n",
       "      <td>12615.795600</td>\n",
       "      <td>59</td>\n",
       "      <td>BAT2833642</td>\n",
       "      <td>6.564296</td>\n",
       "      <td>B</td>\n",
       "      <td>E3</td>\n",
       "      <td>MORTGAGE</td>\n",
       "      <td>...</td>\n",
       "      <td>6.157008</td>\n",
       "      <td>0.992918</td>\n",
       "      <td>0</td>\n",
       "      <td>INDIVIDUAL</td>\n",
       "      <td>56</td>\n",
       "      <td>0</td>\n",
       "      <td>1</td>\n",
       "      <td>72412</td>\n",
       "      <td>2573</td>\n",
       "      <td>0</td>\n",
       "    </tr>\n",
       "    <tr>\n",
       "      <th>2</th>\n",
       "      <td>9862181</td>\n",
       "      <td>25291</td>\n",
       "      <td>25825</td>\n",
       "      <td>11621.280830</td>\n",
       "      <td>59</td>\n",
       "      <td>BAT1761981</td>\n",
       "      <td>14.729900</td>\n",
       "      <td>A</td>\n",
       "      <td>C3</td>\n",
       "      <td>MORTGAGE</td>\n",
       "      <td>...</td>\n",
       "      <td>5.705077</td>\n",
       "      <td>0.281580</td>\n",
       "      <td>0</td>\n",
       "      <td>INDIVIDUAL</td>\n",
       "      <td>3</td>\n",
       "      <td>0</td>\n",
       "      <td>26</td>\n",
       "      <td>284825</td>\n",
       "      <td>19676</td>\n",
       "      <td>0</td>\n",
       "    </tr>\n",
       "    <tr>\n",
       "      <th>3</th>\n",
       "      <td>10097822</td>\n",
       "      <td>30781</td>\n",
       "      <td>9664</td>\n",
       "      <td>15375.823510</td>\n",
       "      <td>59</td>\n",
       "      <td>BAT5341619</td>\n",
       "      <td>10.523767</td>\n",
       "      <td>A</td>\n",
       "      <td>A2</td>\n",
       "      <td>RENT</td>\n",
       "      <td>...</td>\n",
       "      <td>2.469688</td>\n",
       "      <td>0.959162</td>\n",
       "      <td>0</td>\n",
       "      <td>INDIVIDUAL</td>\n",
       "      <td>21</td>\n",
       "      <td>0</td>\n",
       "      <td>32</td>\n",
       "      <td>40842</td>\n",
       "      <td>7226</td>\n",
       "      <td>0</td>\n",
       "    </tr>\n",
       "    <tr>\n",
       "      <th>4</th>\n",
       "      <td>47771809</td>\n",
       "      <td>8878</td>\n",
       "      <td>9419</td>\n",
       "      <td>7176.647582</td>\n",
       "      <td>58</td>\n",
       "      <td>BAT4694572</td>\n",
       "      <td>9.997013</td>\n",
       "      <td>C</td>\n",
       "      <td>B3</td>\n",
       "      <td>OWN</td>\n",
       "      <td>...</td>\n",
       "      <td>2.127835</td>\n",
       "      <td>0.402315</td>\n",
       "      <td>0</td>\n",
       "      <td>INDIVIDUAL</td>\n",
       "      <td>104</td>\n",
       "      <td>0</td>\n",
       "      <td>33</td>\n",
       "      <td>90825</td>\n",
       "      <td>26145</td>\n",
       "      <td>0</td>\n",
       "    </tr>\n",
       "    <tr>\n",
       "      <th>...</th>\n",
       "      <td>...</td>\n",
       "      <td>...</td>\n",
       "      <td>...</td>\n",
       "      <td>...</td>\n",
       "      <td>...</td>\n",
       "      <td>...</td>\n",
       "      <td>...</td>\n",
       "      <td>...</td>\n",
       "      <td>...</td>\n",
       "      <td>...</td>\n",
       "      <td>...</td>\n",
       "      <td>...</td>\n",
       "      <td>...</td>\n",
       "      <td>...</td>\n",
       "      <td>...</td>\n",
       "      <td>...</td>\n",
       "      <td>...</td>\n",
       "      <td>...</td>\n",
       "      <td>...</td>\n",
       "      <td>...</td>\n",
       "      <td>...</td>\n",
       "    </tr>\n",
       "    <tr>\n",
       "      <th>28908</th>\n",
       "      <td>11537800</td>\n",
       "      <td>35000</td>\n",
       "      <td>35000</td>\n",
       "      <td>35000.000000</td>\n",
       "      <td>60</td>\n",
       "      <td>BAT5629144</td>\n",
       "      <td>16.240000</td>\n",
       "      <td>C</td>\n",
       "      <td>C5</td>\n",
       "      <td>MORTGAGE</td>\n",
       "      <td>...</td>\n",
       "      <td>0.000000</td>\n",
       "      <td>0.000000</td>\n",
       "      <td>0</td>\n",
       "      <td>INDIVIDUAL</td>\n",
       "      <td>109</td>\n",
       "      <td>0</td>\n",
       "      <td>0</td>\n",
       "      <td>883984</td>\n",
       "      <td>114000</td>\n",
       "      <td>0</td>\n",
       "    </tr>\n",
       "    <tr>\n",
       "      <th>28909</th>\n",
       "      <td>11538258</td>\n",
       "      <td>25000</td>\n",
       "      <td>25000</td>\n",
       "      <td>25000.000000</td>\n",
       "      <td>60</td>\n",
       "      <td>BAT5629144</td>\n",
       "      <td>14.980000</td>\n",
       "      <td>C</td>\n",
       "      <td>C3</td>\n",
       "      <td>MORTGAGE</td>\n",
       "      <td>...</td>\n",
       "      <td>0.000000</td>\n",
       "      <td>0.000000</td>\n",
       "      <td>0</td>\n",
       "      <td>INDIVIDUAL</td>\n",
       "      <td>104</td>\n",
       "      <td>0</td>\n",
       "      <td>0</td>\n",
       "      <td>513925</td>\n",
       "      <td>51800</td>\n",
       "      <td>0</td>\n",
       "    </tr>\n",
       "    <tr>\n",
       "      <th>28910</th>\n",
       "      <td>13147685</td>\n",
       "      <td>30000</td>\n",
       "      <td>30000</td>\n",
       "      <td>29950.000000</td>\n",
       "      <td>60</td>\n",
       "      <td>BAT2136391</td>\n",
       "      <td>18.240000</td>\n",
       "      <td>D</td>\n",
       "      <td>D5</td>\n",
       "      <td>MORTGAGE</td>\n",
       "      <td>...</td>\n",
       "      <td>0.000000</td>\n",
       "      <td>0.000000</td>\n",
       "      <td>1</td>\n",
       "      <td>INDIVIDUAL</td>\n",
       "      <td>83</td>\n",
       "      <td>0</td>\n",
       "      <td>0</td>\n",
       "      <td>296294</td>\n",
       "      <td>65600</td>\n",
       "      <td>0</td>\n",
       "    </tr>\n",
       "    <tr>\n",
       "      <th>28911</th>\n",
       "      <td>13917689</td>\n",
       "      <td>25000</td>\n",
       "      <td>25000</td>\n",
       "      <td>24950.000000</td>\n",
       "      <td>60</td>\n",
       "      <td>BAT2136391</td>\n",
       "      <td>15.610000</td>\n",
       "      <td>D</td>\n",
       "      <td>D1</td>\n",
       "      <td>MORTGAGE</td>\n",
       "      <td>...</td>\n",
       "      <td>0.000000</td>\n",
       "      <td>0.000000</td>\n",
       "      <td>0</td>\n",
       "      <td>INDIVIDUAL</td>\n",
       "      <td>83</td>\n",
       "      <td>0</td>\n",
       "      <td>0</td>\n",
       "      <td>428723</td>\n",
       "      <td>30400</td>\n",
       "      <td>0</td>\n",
       "    </tr>\n",
       "    <tr>\n",
       "      <th>28912</th>\n",
       "      <td>10763026</td>\n",
       "      <td>24925</td>\n",
       "      <td>24925</td>\n",
       "      <td>24925.000000</td>\n",
       "      <td>60</td>\n",
       "      <td>BAT2575549</td>\n",
       "      <td>14.300000</td>\n",
       "      <td>C</td>\n",
       "      <td>C1</td>\n",
       "      <td>MORTGAGE</td>\n",
       "      <td>...</td>\n",
       "      <td>0.000000</td>\n",
       "      <td>0.000000</td>\n",
       "      <td>0</td>\n",
       "      <td>INDIVIDUAL</td>\n",
       "      <td>109</td>\n",
       "      <td>0</td>\n",
       "      <td>0</td>\n",
       "      <td>283758</td>\n",
       "      <td>62900</td>\n",
       "      <td>0</td>\n",
       "    </tr>\n",
       "  </tbody>\n",
       "</table>\n",
       "<p>28913 rows × 35 columns</p>\n",
       "</div>"
      ],
      "text/plain": [
       "             ID  Loan Amount  Funded Amount  Funded Amount Investor  Term  \\\n",
       "0      56492997        17120          10365            16025.082690    59   \n",
       "1      22540813         7133          11650            12615.795600    59   \n",
       "2       9862181        25291          25825            11621.280830    59   \n",
       "3      10097822        30781           9664            15375.823510    59   \n",
       "4      47771809         8878           9419             7176.647582    58   \n",
       "...         ...          ...            ...                     ...   ...   \n",
       "28908  11537800        35000          35000            35000.000000    60   \n",
       "28909  11538258        25000          25000            25000.000000    60   \n",
       "28910  13147685        30000          30000            29950.000000    60   \n",
       "28911  13917689        25000          25000            24950.000000    60   \n",
       "28912  10763026        24925          24925            24925.000000    60   \n",
       "\n",
       "      Batch Enrolled  Interest Rate Grade Sub Grade Employment Duration  ...  \\\n",
       "0         BAT2575549      12.163926     A        D1                RENT  ...   \n",
       "1         BAT2833642       6.564296     B        E3            MORTGAGE  ...   \n",
       "2         BAT1761981      14.729900     A        C3            MORTGAGE  ...   \n",
       "3         BAT5341619      10.523767     A        A2                RENT  ...   \n",
       "4         BAT4694572       9.997013     C        B3                 OWN  ...   \n",
       "...              ...            ...   ...       ...                 ...  ...   \n",
       "28908     BAT5629144      16.240000     C        C5            MORTGAGE  ...   \n",
       "28909     BAT5629144      14.980000     C        C3            MORTGAGE  ...   \n",
       "28910     BAT2136391      18.240000     D        D5            MORTGAGE  ...   \n",
       "28911     BAT2136391      15.610000     D        D1            MORTGAGE  ...   \n",
       "28912     BAT2575549      14.300000     C        C1            MORTGAGE  ...   \n",
       "\n",
       "       Recoveries Collection Recovery Fee Collection 12 months Medical  \\\n",
       "0        8.425776                0.731797                            0   \n",
       "1        6.157008                0.992918                            0   \n",
       "2        5.705077                0.281580                            0   \n",
       "3        2.469688                0.959162                            0   \n",
       "4        2.127835                0.402315                            0   \n",
       "...           ...                     ...                          ...   \n",
       "28908    0.000000                0.000000                            0   \n",
       "28909    0.000000                0.000000                            0   \n",
       "28910    0.000000                0.000000                            1   \n",
       "28911    0.000000                0.000000                            0   \n",
       "28912    0.000000                0.000000                            0   \n",
       "\n",
       "      Application Type  Last week Pay  Accounts Delinquent  \\\n",
       "0           INDIVIDUAL            135                    0   \n",
       "1           INDIVIDUAL             56                    0   \n",
       "2           INDIVIDUAL              3                    0   \n",
       "3           INDIVIDUAL             21                    0   \n",
       "4           INDIVIDUAL            104                    0   \n",
       "...                ...            ...                  ...   \n",
       "28908       INDIVIDUAL            109                    0   \n",
       "28909       INDIVIDUAL            104                    0   \n",
       "28910       INDIVIDUAL             83                    0   \n",
       "28911       INDIVIDUAL             83                    0   \n",
       "28912       INDIVIDUAL            109                    0   \n",
       "\n",
       "       Total Collection Amount  Total Current Balance  \\\n",
       "0                           24                 475442   \n",
       "1                            1                  72412   \n",
       "2                           26                 284825   \n",
       "3                           32                  40842   \n",
       "4                           33                  90825   \n",
       "...                        ...                    ...   \n",
       "28908                        0                 883984   \n",
       "28909                        0                 513925   \n",
       "28910                        0                 296294   \n",
       "28911                        0                 428723   \n",
       "28912                        0                 283758   \n",
       "\n",
       "       Total Revolving Credit Limit  Loan Status  \n",
       "0                              4364            0  \n",
       "1                              2573            0  \n",
       "2                             19676            0  \n",
       "3                              7226            0  \n",
       "4                             26145            0  \n",
       "...                             ...          ...  \n",
       "28908                        114000            0  \n",
       "28909                         51800            0  \n",
       "28910                         65600            0  \n",
       "28911                         30400            0  \n",
       "28912                         62900            0  \n",
       "\n",
       "[28913 rows x 35 columns]"
      ]
     },
     "execution_count": 9,
     "metadata": {},
     "output_type": "execute_result"
    }
   ],
   "source": [
    "test['Loan Status'] = 0\n",
    "test"
   ]
  },
  {
   "cell_type": "code",
   "execution_count": 10,
   "metadata": {},
   "outputs": [],
   "source": [
    "# No null values present in both train and test datasets"
   ]
  },
  {
   "cell_type": "code",
   "execution_count": 11,
   "metadata": {},
   "outputs": [
    {
     "data": {
      "text/plain": [
       "0    61222\n",
       "1     6241\n",
       "Name: Loan Status, dtype: int64"
      ]
     },
     "execution_count": 11,
     "metadata": {},
     "output_type": "execute_result"
    }
   ],
   "source": [
    "train['Loan Status'].value_counts()"
   ]
  },
  {
   "cell_type": "code",
   "execution_count": 12,
   "metadata": {},
   "outputs": [
    {
     "data": {
      "text/plain": [
       "<AxesSubplot:xlabel='Loan Status', ylabel='Count'>"
      ]
     },
     "execution_count": 12,
     "metadata": {},
     "output_type": "execute_result"
    },
    {
     "data": {
      "image/png": "[encoded data removed]",
      "text/plain": [
       "<Figure size 432x288 with 1 Axes>"
      ]
     },
     "metadata": {
      "needs_background": "light"
     },
     "output_type": "display_data"
    }
   ],
   "source": [
    "sns.histplot(x= train[\"Loan Status\"])"
   ]
  },
  {
   "cell_type": "code",
   "execution_count": 13,
   "metadata": {},
   "outputs": [
    {
     "name": "stdout",
     "output_type": "stream",
     "text": [
      "<class 'pandas.core.frame.DataFrame'>\n",
      "RangeIndex: 67463 entries, 0 to 67462\n",
      "Data columns (total 35 columns):\n",
      " #   Column                        Non-Null Count  Dtype  \n",
      "---  ------                        --------------  -----  \n",
      " 0   ID                            67463 non-null  int64  \n",
      " 1   Loan Amount                   67463 non-null  int64  \n",
      " 2   Funded Amount                 67463 non-null  int64  \n",
      " 3   Funded Amount Investor        67463 non-null  float64\n",
      " 4   Term                          67463 non-null  int64  \n",
      " 5   Batch Enrolled                67463 non-null  object \n",
      " 6   Interest Rate                 67463 non-null  float64\n",
      " 7   Grade                         67463 non-null  object \n",
      " 8   Sub Grade                     67463 non-null  object \n",
      " 9   Employment Duration           67463 non-null  object \n",
      " 10  Home Ownership                67463 non-null  float64\n",
      " 11  Verification Status           67463 non-null  object \n",
      " 12  Payment Plan                  67463 non-null  object \n",
      " 13  Loan Title                    67463 non-null  object \n",
      " 14  Debit to Income               67463 non-null  float64\n",
      " 15  Delinquency - two years       67463 non-null  int64  \n",
      " 16  Inquires - six months         67463 non-null  int64  \n",
      " 17  Open Account                  67463 non-null  int64  \n",
      " 18  Public Record                 67463 non-null  int64  \n",
      " 19  Revolving Balance             67463 non-null  int64  \n",
      " 20  Revolving Utilities           67463 non-null  float64\n",
      " 21  Total Accounts                67463 non-null  int64  \n",
      " 22  Initial List Status           67463 non-null  object \n",
      " 23  Total Received Interest       67463 non-null  float64\n",
      " 24  Total Received Late Fee       67463 non-null  float64\n",
      " 25  Recoveries                    67463 non-null  float64\n",
      " 26  Collection Recovery Fee       67463 non-null  float64\n",
      " 27  Collection 12 months Medical  67463 non-null  int64  \n",
      " 28  Application Type              67463 non-null  object \n",
      " 29  Last week Pay                 67463 non-null  int64  \n",
      " 30  Accounts Delinquent           67463 non-null  int64  \n",
      " 31  Total Collection Amount       67463 non-null  int64  \n",
      " 32  Total Current Balance         67463 non-null  int64  \n",
      " 33  Total Revolving Credit Limit  67463 non-null  int64  \n",
      " 34  Loan Status                   67463 non-null  int64  \n",
      "dtypes: float64(9), int64(17), object(9)\n",
      "memory usage: 18.0+ MB\n"
     ]
    }
   ],
   "source": [
    "train.info()"
   ]
  },
  {
   "cell_type": "markdown",
   "metadata": {},
   "source": [
    "# Feature Relation with Target Variable"
   ]
  },
  {
   "cell_type": "markdown",
   "metadata": {},
   "source": [
    "Looking at feature with dtype=='object'"
   ]
  },
  {
   "cell_type": "code",
   "execution_count": 14,
   "metadata": {},
   "outputs": [
    {
     "data": {
      "text/plain": [
       "BAT3873588    3626\n",
       "BAT1586599    3142\n",
       "BAT1104812    2996\n",
       "BAT2252229    2557\n",
       "BAT2803411    2425\n",
       "BAT1780517    2403\n",
       "BAT1184694    2298\n",
       "BAT2078974    2290\n",
       "BAT2575549    2257\n",
       "BAT4694572    2248\n",
       "BAT4271519    2054\n",
       "BAT2558388    1963\n",
       "BAT3193689    1864\n",
       "BAT1930365    1844\n",
       "BAT2136391    1790\n",
       "BAT2333412    1775\n",
       "BAT3726927    1774\n",
       "BAT4136152    1766\n",
       "BAT5341619    1717\n",
       "BAT5525466    1709\n",
       "BAT5489674    1677\n",
       "BAT5629144    1639\n",
       "BAT1766061    1461\n",
       "BAT2833642    1421\n",
       "BAT5924421    1404\n",
       "BAT2522922    1399\n",
       "BAT2428731    1398\n",
       "BAT4808022    1303\n",
       "BAT4351734    1140\n",
       "BAT5547201    1127\n",
       "BAT5714674    1105\n",
       "BAT3461431    1068\n",
       "BAT224923      895\n",
       "BAT1761981     894\n",
       "BAT4722912     887\n",
       "BAT2003848     842\n",
       "BAT1467036     802\n",
       "BAT5849876     768\n",
       "BAT3865626     728\n",
       "BAT5811547     711\n",
       "BAT1135695     296\n",
       "Name: Batch Enrolled, dtype: int64"
      ]
     },
     "execution_count": 14,
     "metadata": {},
     "output_type": "execute_result"
    }
   ],
   "source": [
    "train[\"Batch Enrolled\"].value_counts()"
   ]
  },
  {
   "cell_type": "code",
   "execution_count": 20,
   "metadata": {},
   "outputs": [
    {
     "data": {
      "text/plain": [
       "(array([ 0,  1,  2,  3,  4,  5,  6,  7,  8,  9, 10, 11, 12, 13, 14, 15, 16,\n",
       "        17, 18, 19, 20, 21, 22, 23, 24, 25, 26, 27, 28, 29, 30, 31, 32, 33,\n",
       "        34, 35, 36, 37, 38, 39, 40]),\n",
       " [Text(0, 0, 'BAT2522922'),\n",
       "  Text(1, 0, 'BAT1586599'),\n",
       "  Text(2, 0, 'BAT2136391'),\n",
       "  Text(3, 0, 'BAT2428731'),\n",
       "  Text(4, 0, 'BAT5341619'),\n",
       "  Text(5, 0, 'BAT4694572'),\n",
       "  Text(6, 0, 'BAT4808022'),\n",
       "  Text(7, 0, 'BAT2558388'),\n",
       "  Text(8, 0, 'BAT2078974'),\n",
       "  Text(9, 0, 'BAT2252229'),\n",
       "  Text(10, 0, 'BAT2333412'),\n",
       "  Text(11, 0, 'BAT5849876'),\n",
       "  Text(12, 0, 'BAT2833642'),\n",
       "  Text(13, 0, 'BAT2803411'),\n",
       "  Text(14, 0, 'BAT5525466'),\n",
       "  Text(15, 0, 'BAT5714674'),\n",
       "  Text(16, 0, 'BAT2003848'),\n",
       "  Text(17, 0, 'BAT4722912'),\n",
       "  Text(18, 0, 'BAT3873588'),\n",
       "  Text(19, 0, 'BAT1780517'),\n",
       "  Text(20, 0, 'BAT4271519'),\n",
       "  Text(21, 0, 'BAT5811547'),\n",
       "  Text(22, 0, 'BAT1184694'),\n",
       "  Text(23, 0, 'BAT4136152'),\n",
       "  Text(24, 0, 'BAT3193689'),\n",
       "  Text(25, 0, 'BAT1467036'),\n",
       "  Text(26, 0, 'BAT2575549'),\n",
       "  Text(27, 0, 'BAT4351734'),\n",
       "  Text(28, 0, 'BAT1104812'),\n",
       "  Text(29, 0, 'BAT5924421'),\n",
       "  Text(30, 0, 'BAT1930365'),\n",
       "  Text(31, 0, 'BAT1766061'),\n",
       "  Text(32, 0, 'BAT5489674'),\n",
       "  Text(33, 0, 'BAT3865626'),\n",
       "  Text(34, 0, 'BAT5629144'),\n",
       "  Text(35, 0, 'BAT5547201'),\n",
       "  Text(36, 0, 'BAT224923'),\n",
       "  Text(37, 0, 'BAT3726927'),\n",
       "  Text(38, 0, 'BAT3461431'),\n",
       "  Text(39, 0, 'BAT1761981'),\n",
       "  Text(40, 0, 'BAT1135695')])"
      ]
     },
     "execution_count": 20,
     "metadata": {},
     "output_type": "execute_result"
    },
    {
     "data": {
      "image/png": "[encoded data removed]",
      "text/plain": [
       "<Figure size 1080x360 with 1 Axes>"
      ]
     },
     "metadata": {
      "needs_background": "light"
     },
     "output_type": "display_data"
    }
   ],
   "source": [
    "plt.figure(figsize=(15,5))\n",
    "\n",
    "sns.barplot( x='Batch Enrolled', y='Loan Status', data= train )\n",
    "plt.xticks(rotation=90)"
   ]
  },
  {
   "cell_type": "code",
   "execution_count": 21,
   "metadata": {},
   "outputs": [
    {
     "data": {
      "text/html": [
       "<div>\n",
       "<style scoped>\n",
       "    .dataframe tbody tr th:only-of-type {\n",
       "        vertical-align: middle;\n",
       "    }\n",
       "\n",
       "    .dataframe tbody tr th {\n",
       "        vertical-align: top;\n",
       "    }\n",
       "\n",
       "    .dataframe thead th {\n",
       "        text-align: right;\n",
       "    }\n",
       "</style>\n",
       "<table border=\"1\" class=\"dataframe\">\n",
       "  <thead>\n",
       "    <tr style=\"text-align: right;\">\n",
       "      <th></th>\n",
       "      <th>Batch Enrolled</th>\n",
       "      <th>Loan Status</th>\n",
       "    </tr>\n",
       "  </thead>\n",
       "  <tbody>\n",
       "    <tr>\n",
       "      <th>1</th>\n",
       "      <td>BAT1135695</td>\n",
       "      <td>0.125000</td>\n",
       "    </tr>\n",
       "    <tr>\n",
       "      <th>9</th>\n",
       "      <td>BAT2003848</td>\n",
       "      <td>0.108076</td>\n",
       "    </tr>\n",
       "    <tr>\n",
       "      <th>4</th>\n",
       "      <td>BAT1586599</td>\n",
       "      <td>0.105029</td>\n",
       "    </tr>\n",
       "    <tr>\n",
       "      <th>5</th>\n",
       "      <td>BAT1761981</td>\n",
       "      <td>0.104027</td>\n",
       "    </tr>\n",
       "    <tr>\n",
       "      <th>0</th>\n",
       "      <td>BAT1104812</td>\n",
       "      <td>0.099800</td>\n",
       "    </tr>\n",
       "    <tr>\n",
       "      <th>31</th>\n",
       "      <td>BAT4808022</td>\n",
       "      <td>0.099770</td>\n",
       "    </tr>\n",
       "    <tr>\n",
       "      <th>7</th>\n",
       "      <td>BAT1780517</td>\n",
       "      <td>0.099459</td>\n",
       "    </tr>\n",
       "    <tr>\n",
       "      <th>12</th>\n",
       "      <td>BAT224923</td>\n",
       "      <td>0.099441</td>\n",
       "    </tr>\n",
       "    <tr>\n",
       "      <th>36</th>\n",
       "      <td>BAT5629144</td>\n",
       "      <td>0.098231</td>\n",
       "    </tr>\n",
       "    <tr>\n",
       "      <th>35</th>\n",
       "      <td>BAT5547201</td>\n",
       "      <td>0.097604</td>\n",
       "    </tr>\n",
       "    <tr>\n",
       "      <th>30</th>\n",
       "      <td>BAT4722912</td>\n",
       "      <td>0.096956</td>\n",
       "    </tr>\n",
       "    <tr>\n",
       "      <th>29</th>\n",
       "      <td>BAT4694572</td>\n",
       "      <td>0.096085</td>\n",
       "    </tr>\n",
       "    <tr>\n",
       "      <th>17</th>\n",
       "      <td>BAT2558388</td>\n",
       "      <td>0.095772</td>\n",
       "    </tr>\n",
       "    <tr>\n",
       "      <th>16</th>\n",
       "      <td>BAT2522922</td>\n",
       "      <td>0.095068</td>\n",
       "    </tr>\n",
       "    <tr>\n",
       "      <th>8</th>\n",
       "      <td>BAT1930365</td>\n",
       "      <td>0.094902</td>\n",
       "    </tr>\n",
       "    <tr>\n",
       "      <th>28</th>\n",
       "      <td>BAT4351734</td>\n",
       "      <td>0.094737</td>\n",
       "    </tr>\n",
       "    <tr>\n",
       "      <th>27</th>\n",
       "      <td>BAT4271519</td>\n",
       "      <td>0.094450</td>\n",
       "    </tr>\n",
       "    <tr>\n",
       "      <th>18</th>\n",
       "      <td>BAT2575549</td>\n",
       "      <td>0.094373</td>\n",
       "    </tr>\n",
       "    <tr>\n",
       "      <th>38</th>\n",
       "      <td>BAT5811547</td>\n",
       "      <td>0.094233</td>\n",
       "    </tr>\n",
       "    <tr>\n",
       "      <th>25</th>\n",
       "      <td>BAT3873588</td>\n",
       "      <td>0.093767</td>\n",
       "    </tr>\n",
       "    <tr>\n",
       "      <th>39</th>\n",
       "      <td>BAT5849876</td>\n",
       "      <td>0.093750</td>\n",
       "    </tr>\n",
       "    <tr>\n",
       "      <th>13</th>\n",
       "      <td>BAT2252229</td>\n",
       "      <td>0.093078</td>\n",
       "    </tr>\n",
       "    <tr>\n",
       "      <th>15</th>\n",
       "      <td>BAT2428731</td>\n",
       "      <td>0.092275</td>\n",
       "    </tr>\n",
       "    <tr>\n",
       "      <th>11</th>\n",
       "      <td>BAT2136391</td>\n",
       "      <td>0.092179</td>\n",
       "    </tr>\n",
       "    <tr>\n",
       "      <th>34</th>\n",
       "      <td>BAT5525466</td>\n",
       "      <td>0.091867</td>\n",
       "    </tr>\n",
       "    <tr>\n",
       "      <th>10</th>\n",
       "      <td>BAT2078974</td>\n",
       "      <td>0.091266</td>\n",
       "    </tr>\n",
       "    <tr>\n",
       "      <th>3</th>\n",
       "      <td>BAT1467036</td>\n",
       "      <td>0.091022</td>\n",
       "    </tr>\n",
       "    <tr>\n",
       "      <th>19</th>\n",
       "      <td>BAT2803411</td>\n",
       "      <td>0.088247</td>\n",
       "    </tr>\n",
       "    <tr>\n",
       "      <th>32</th>\n",
       "      <td>BAT5341619</td>\n",
       "      <td>0.087944</td>\n",
       "    </tr>\n",
       "    <tr>\n",
       "      <th>21</th>\n",
       "      <td>BAT3193689</td>\n",
       "      <td>0.087446</td>\n",
       "    </tr>\n",
       "    <tr>\n",
       "      <th>20</th>\n",
       "      <td>BAT2833642</td>\n",
       "      <td>0.086559</td>\n",
       "    </tr>\n",
       "    <tr>\n",
       "      <th>14</th>\n",
       "      <td>BAT2333412</td>\n",
       "      <td>0.085634</td>\n",
       "    </tr>\n",
       "    <tr>\n",
       "      <th>6</th>\n",
       "      <td>BAT1766061</td>\n",
       "      <td>0.084873</td>\n",
       "    </tr>\n",
       "    <tr>\n",
       "      <th>22</th>\n",
       "      <td>BAT3461431</td>\n",
       "      <td>0.084270</td>\n",
       "    </tr>\n",
       "    <tr>\n",
       "      <th>37</th>\n",
       "      <td>BAT5714674</td>\n",
       "      <td>0.084163</td>\n",
       "    </tr>\n",
       "    <tr>\n",
       "      <th>33</th>\n",
       "      <td>BAT5489674</td>\n",
       "      <td>0.084079</td>\n",
       "    </tr>\n",
       "    <tr>\n",
       "      <th>26</th>\n",
       "      <td>BAT4136152</td>\n",
       "      <td>0.083805</td>\n",
       "    </tr>\n",
       "    <tr>\n",
       "      <th>2</th>\n",
       "      <td>BAT1184694</td>\n",
       "      <td>0.083551</td>\n",
       "    </tr>\n",
       "    <tr>\n",
       "      <th>40</th>\n",
       "      <td>BAT5924421</td>\n",
       "      <td>0.079772</td>\n",
       "    </tr>\n",
       "    <tr>\n",
       "      <th>23</th>\n",
       "      <td>BAT3726927</td>\n",
       "      <td>0.078354</td>\n",
       "    </tr>\n",
       "    <tr>\n",
       "      <th>24</th>\n",
       "      <td>BAT3865626</td>\n",
       "      <td>0.078297</td>\n",
       "    </tr>\n",
       "  </tbody>\n",
       "</table>\n",
       "</div>"
      ],
      "text/plain": [
       "   Batch Enrolled  Loan Status\n",
       "1      BAT1135695     0.125000\n",
       "9      BAT2003848     0.108076\n",
       "4      BAT1586599     0.105029\n",
       "5      BAT1761981     0.104027\n",
       "0      BAT1104812     0.099800\n",
       "31     BAT4808022     0.099770\n",
       "7      BAT1780517     0.099459\n",
       "12      BAT224923     0.099441\n",
       "36     BAT5629144     0.098231\n",
       "35     BAT5547201     0.097604\n",
       "30     BAT4722912     0.096956\n",
       "29     BAT4694572     0.096085\n",
       "17     BAT2558388     0.095772\n",
       "16     BAT2522922     0.095068\n",
       "8      BAT1930365     0.094902\n",
       "28     BAT4351734     0.094737\n",
       "27     BAT4271519     0.094450\n",
       "18     BAT2575549     0.094373\n",
       "38     BAT5811547     0.094233\n",
       "25     BAT3873588     0.093767\n",
       "39     BAT5849876     0.093750\n",
       "13     BAT2252229     0.093078\n",
       "15     BAT2428731     0.092275\n",
       "11     BAT2136391     0.092179\n",
       "34     BAT5525466     0.091867\n",
       "10     BAT2078974     0.091266\n",
       "3      BAT1467036     0.091022\n",
       "19     BAT2803411     0.088247\n",
       "32     BAT5341619     0.087944\n",
       "21     BAT3193689     0.087446\n",
       "20     BAT2833642     0.086559\n",
       "14     BAT2333412     0.085634\n",
       "6      BAT1766061     0.084873\n",
       "22     BAT3461431     0.084270\n",
       "37     BAT5714674     0.084163\n",
       "33     BAT5489674     0.084079\n",
       "26     BAT4136152     0.083805\n",
       "2      BAT1184694     0.083551\n",
       "40     BAT5924421     0.079772\n",
       "23     BAT3726927     0.078354\n",
       "24     BAT3865626     0.078297"
      ]
     },
     "execution_count": 21,
     "metadata": {},
     "output_type": "execute_result"
    }
   ],
   "source": [
    "(train[[\"Batch Enrolled\", \"Loan Status\"]]\n",
    "        .groupby([\"Batch Enrolled\"], as_index=False)\n",
    "        .mean()\n",
    "        .sort_values(by=\"Loan Status\", ascending=False)\n",
    ")"
   ]
  },
  {
   "cell_type": "code",
   "execution_count": 22,
   "metadata": {},
   "outputs": [
    {
     "data": {
      "text/plain": [
       "C    19085\n",
       "B    18742\n",
       "A    12055\n",
       "D     8259\n",
       "E     6446\n",
       "F     2246\n",
       "G      630\n",
       "Name: Grade, dtype: int64"
      ]
     },
     "execution_count": 22,
     "metadata": {},
     "output_type": "execute_result"
    }
   ],
   "source": [
    "train[\"Grade\"].value_counts() #ordinal"
   ]
  },
  {
   "cell_type": "code",
   "execution_count": 23,
   "metadata": {},
   "outputs": [
    {
     "data": {
      "text/plain": [
       "(array([0, 1, 2, 3, 4, 5, 6]),\n",
       " [Text(0, 0, 'B'),\n",
       "  Text(1, 0, 'C'),\n",
       "  Text(2, 0, 'F'),\n",
       "  Text(3, 0, 'A'),\n",
       "  Text(4, 0, 'G'),\n",
       "  Text(5, 0, 'E'),\n",
       "  Text(6, 0, 'D')])"
      ]
     },
     "execution_count": 23,
     "metadata": {},
     "output_type": "execute_result"
    },
    {
     "data": {
      "image/png": "[encoded data removed]",
      "text/plain": [
       "<Figure size 864x432 with 1 Axes>"
      ]
     },
     "metadata": {
      "needs_background": "light"
     },
     "output_type": "display_data"
    }
   ],
   "source": [
    "plt.figure(figsize=(12,6))\n",
    "\n",
    "sns.barplot( x='Grade', y='Loan Status', data= train )\n",
    "plt.xticks(rotation=90)"
   ]
  },
  {
   "cell_type": "code",
   "execution_count": 24,
   "metadata": {},
   "outputs": [
    {
     "data": {
      "text/html": [
       "<div>\n",
       "<style scoped>\n",
       "    .dataframe tbody tr th:only-of-type {\n",
       "        vertical-align: middle;\n",
       "    }\n",
       "\n",
       "    .dataframe tbody tr th {\n",
       "        vertical-align: top;\n",
       "    }\n",
       "\n",
       "    .dataframe thead th {\n",
       "        text-align: right;\n",
       "    }\n",
       "</style>\n",
       "<table border=\"1\" class=\"dataframe\">\n",
       "  <thead>\n",
       "    <tr style=\"text-align: right;\">\n",
       "      <th></th>\n",
       "      <th>Grade</th>\n",
       "      <th>Loan Status</th>\n",
       "    </tr>\n",
       "  </thead>\n",
       "  <tbody>\n",
       "    <tr>\n",
       "      <th>6</th>\n",
       "      <td>G</td>\n",
       "      <td>0.106349</td>\n",
       "    </tr>\n",
       "    <tr>\n",
       "      <th>5</th>\n",
       "      <td>F</td>\n",
       "      <td>0.103740</td>\n",
       "    </tr>\n",
       "    <tr>\n",
       "      <th>3</th>\n",
       "      <td>D</td>\n",
       "      <td>0.096380</td>\n",
       "    </tr>\n",
       "    <tr>\n",
       "      <th>4</th>\n",
       "      <td>E</td>\n",
       "      <td>0.095873</td>\n",
       "    </tr>\n",
       "    <tr>\n",
       "      <th>2</th>\n",
       "      <td>C</td>\n",
       "      <td>0.093896</td>\n",
       "    </tr>\n",
       "    <tr>\n",
       "      <th>0</th>\n",
       "      <td>A</td>\n",
       "      <td>0.091248</td>\n",
       "    </tr>\n",
       "    <tr>\n",
       "      <th>1</th>\n",
       "      <td>B</td>\n",
       "      <td>0.087237</td>\n",
       "    </tr>\n",
       "  </tbody>\n",
       "</table>\n",
       "</div>"
      ],
      "text/plain": [
       "  Grade  Loan Status\n",
       "6     G     0.106349\n",
       "5     F     0.103740\n",
       "3     D     0.096380\n",
       "4     E     0.095873\n",
       "2     C     0.093896\n",
       "0     A     0.091248\n",
       "1     B     0.087237"
      ]
     },
     "execution_count": 24,
     "metadata": {},
     "output_type": "execute_result"
    }
   ],
   "source": [
    "(train[[\"Grade\", \"Loan Status\"]]\n",
    "        .groupby([\"Grade\"], as_index=False)\n",
    "        .mean()\n",
    "        .sort_values(by=\"Loan Status\", ascending=False)\n",
    ")"
   ]
  },
  {
   "cell_type": "code",
   "execution_count": 25,
   "metadata": {},
   "outputs": [
    {
     "data": {
      "text/plain": [
       "B4    4462\n",
       "C1    4188\n",
       "B3    3999\n",
       "A5    3540\n",
       "B2    3520\n",
       "B5    3408\n",
       "D1    3304\n",
       "C4    3250\n",
       "C2    3219\n",
       "C3    3121\n",
       "B1    2924\n",
       "C5    2472\n",
       "A4    2264\n",
       "D4    2050\n",
       "D2    1963\n",
       "D5    1952\n",
       "A2    1837\n",
       "D3    1824\n",
       "E2    1746\n",
       "A3    1685\n",
       "A1    1364\n",
       "E3    1321\n",
       "E1    1298\n",
       "E4    1117\n",
       "F2     947\n",
       "F1     824\n",
       "E5     769\n",
       "F5     582\n",
       "F3     578\n",
       "G2     447\n",
       "F4     441\n",
       "G1     366\n",
       "G5     284\n",
       "G3     246\n",
       "G4     151\n",
       "Name: Sub Grade, dtype: int64"
      ]
     },
     "execution_count": 25,
     "metadata": {},
     "output_type": "execute_result"
    }
   ],
   "source": [
    "train[\"Sub Grade\"].value_counts()"
   ]
  },
  {
   "cell_type": "code",
   "execution_count": 26,
   "metadata": {},
   "outputs": [
    {
     "data": {
      "text/plain": [
       "(array([ 0,  1,  2,  3,  4,  5,  6,  7,  8,  9, 10, 11, 12, 13, 14, 15, 16,\n",
       "        17, 18, 19, 20, 21, 22, 23, 24, 25, 26, 27, 28, 29, 30, 31, 32, 33,\n",
       "        34]),\n",
       " [Text(0, 0, 'C4'),\n",
       "  Text(1, 0, 'D3'),\n",
       "  Text(2, 0, 'D4'),\n",
       "  Text(3, 0, 'C3'),\n",
       "  Text(4, 0, 'G5'),\n",
       "  Text(5, 0, 'C5'),\n",
       "  Text(6, 0, 'A5'),\n",
       "  Text(7, 0, 'C2'),\n",
       "  Text(8, 0, 'B5'),\n",
       "  Text(9, 0, 'B1'),\n",
       "  Text(10, 0, 'B4'),\n",
       "  Text(11, 0, 'A4'),\n",
       "  Text(12, 0, 'B2'),\n",
       "  Text(13, 0, 'D2'),\n",
       "  Text(14, 0, 'C1'),\n",
       "  Text(15, 0, 'F3'),\n",
       "  Text(16, 0, 'D1'),\n",
       "  Text(17, 0, 'F2'),\n",
       "  Text(18, 0, 'A2'),\n",
       "  Text(19, 0, 'A3'),\n",
       "  Text(20, 0, 'F1'),\n",
       "  Text(21, 0, 'E5'),\n",
       "  Text(22, 0, 'B3'),\n",
       "  Text(23, 0, 'F4'),\n",
       "  Text(24, 0, 'G1'),\n",
       "  Text(25, 0, 'F5'),\n",
       "  Text(26, 0, 'E1'),\n",
       "  Text(27, 0, 'E2'),\n",
       "  Text(28, 0, 'D5'),\n",
       "  Text(29, 0, 'G2'),\n",
       "  Text(30, 0, 'E4'),\n",
       "  Text(31, 0, 'A1'),\n",
       "  Text(32, 0, 'G3'),\n",
       "  Text(33, 0, 'E3'),\n",
       "  Text(34, 0, 'G4')])"
      ]
     },
     "execution_count": 26,
     "metadata": {},
     "output_type": "execute_result"
    },
    {
     "data": {
      "image/png": "[encoded data removed]",
      "text/plain": [
       "<Figure size 864x432 with 1 Axes>"
      ]
     },
     "metadata": {
      "needs_background": "light"
     },
     "output_type": "display_data"
    }
   ],
   "source": [
    "plt.figure(figsize=(12,6))\n",
    "\n",
    "sns.barplot( x='Sub Grade', y='Loan Status', data= train )\n",
    "plt.xticks(rotation=90)"
   ]
  },
  {
   "cell_type": "code",
   "execution_count": 27,
   "metadata": {},
   "outputs": [
    {
     "data": {
      "text/html": [
       "<div>\n",
       "<style scoped>\n",
       "    .dataframe tbody tr th:only-of-type {\n",
       "        vertical-align: middle;\n",
       "    }\n",
       "\n",
       "    .dataframe tbody tr th {\n",
       "        vertical-align: top;\n",
       "    }\n",
       "\n",
       "    .dataframe thead th {\n",
       "        text-align: right;\n",
       "    }\n",
       "</style>\n",
       "<table border=\"1\" class=\"dataframe\">\n",
       "  <thead>\n",
       "    <tr style=\"text-align: right;\">\n",
       "      <th></th>\n",
       "      <th>Sub Grade</th>\n",
       "      <th>Loan Status</th>\n",
       "    </tr>\n",
       "  </thead>\n",
       "  <tbody>\n",
       "    <tr>\n",
       "      <th>32</th>\n",
       "      <td>G3</td>\n",
       "      <td>0.130081</td>\n",
       "    </tr>\n",
       "    <tr>\n",
       "      <th>19</th>\n",
       "      <td>D5</td>\n",
       "      <td>0.103484</td>\n",
       "    </tr>\n",
       "    <tr>\n",
       "      <th>23</th>\n",
       "      <td>E4</td>\n",
       "      <td>0.102059</td>\n",
       "    </tr>\n",
       "    <tr>\n",
       "      <th>20</th>\n",
       "      <td>E1</td>\n",
       "      <td>0.100924</td>\n",
       "    </tr>\n",
       "    <tr>\n",
       "      <th>26</th>\n",
       "      <td>F2</td>\n",
       "      <td>0.100317</td>\n",
       "    </tr>\n",
       "    <tr>\n",
       "      <th>5</th>\n",
       "      <td>B1</td>\n",
       "      <td>0.099863</td>\n",
       "    </tr>\n",
       "    <tr>\n",
       "      <th>28</th>\n",
       "      <td>F4</td>\n",
       "      <td>0.099773</td>\n",
       "    </tr>\n",
       "    <tr>\n",
       "      <th>33</th>\n",
       "      <td>G4</td>\n",
       "      <td>0.099338</td>\n",
       "    </tr>\n",
       "    <tr>\n",
       "      <th>27</th>\n",
       "      <td>F3</td>\n",
       "      <td>0.098616</td>\n",
       "    </tr>\n",
       "    <tr>\n",
       "      <th>34</th>\n",
       "      <td>G5</td>\n",
       "      <td>0.098592</td>\n",
       "    </tr>\n",
       "    <tr>\n",
       "      <th>1</th>\n",
       "      <td>A2</td>\n",
       "      <td>0.097986</td>\n",
       "    </tr>\n",
       "    <tr>\n",
       "      <th>16</th>\n",
       "      <td>D2</td>\n",
       "      <td>0.097809</td>\n",
       "    </tr>\n",
       "    <tr>\n",
       "      <th>14</th>\n",
       "      <td>C5</td>\n",
       "      <td>0.095874</td>\n",
       "    </tr>\n",
       "    <tr>\n",
       "      <th>9</th>\n",
       "      <td>B5</td>\n",
       "      <td>0.095657</td>\n",
       "    </tr>\n",
       "    <tr>\n",
       "      <th>30</th>\n",
       "      <td>G1</td>\n",
       "      <td>0.095628</td>\n",
       "    </tr>\n",
       "    <tr>\n",
       "      <th>2</th>\n",
       "      <td>A3</td>\n",
       "      <td>0.094362</td>\n",
       "    </tr>\n",
       "    <tr>\n",
       "      <th>12</th>\n",
       "      <td>C3</td>\n",
       "      <td>0.094201</td>\n",
       "    </tr>\n",
       "    <tr>\n",
       "      <th>11</th>\n",
       "      <td>C2</td>\n",
       "      <td>0.094129</td>\n",
       "    </tr>\n",
       "    <tr>\n",
       "      <th>4</th>\n",
       "      <td>A5</td>\n",
       "      <td>0.094068</td>\n",
       "    </tr>\n",
       "    <tr>\n",
       "      <th>13</th>\n",
       "      <td>C4</td>\n",
       "      <td>0.093538</td>\n",
       "    </tr>\n",
       "    <tr>\n",
       "      <th>15</th>\n",
       "      <td>D1</td>\n",
       "      <td>0.093523</td>\n",
       "    </tr>\n",
       "    <tr>\n",
       "      <th>8</th>\n",
       "      <td>B4</td>\n",
       "      <td>0.091887</td>\n",
       "    </tr>\n",
       "    <tr>\n",
       "      <th>0</th>\n",
       "      <td>A1</td>\n",
       "      <td>0.091642</td>\n",
       "    </tr>\n",
       "    <tr>\n",
       "      <th>3</th>\n",
       "      <td>A4</td>\n",
       "      <td>0.091431</td>\n",
       "    </tr>\n",
       "    <tr>\n",
       "      <th>29</th>\n",
       "      <td>F5</td>\n",
       "      <td>0.091065</td>\n",
       "    </tr>\n",
       "    <tr>\n",
       "      <th>18</th>\n",
       "      <td>D4</td>\n",
       "      <td>0.090244</td>\n",
       "    </tr>\n",
       "    <tr>\n",
       "      <th>17</th>\n",
       "      <td>D3</td>\n",
       "      <td>0.089912</td>\n",
       "    </tr>\n",
       "    <tr>\n",
       "      <th>22</th>\n",
       "      <td>E3</td>\n",
       "      <td>0.089326</td>\n",
       "    </tr>\n",
       "    <tr>\n",
       "      <th>6</th>\n",
       "      <td>B2</td>\n",
       "      <td>0.088920</td>\n",
       "    </tr>\n",
       "    <tr>\n",
       "      <th>21</th>\n",
       "      <td>E2</td>\n",
       "      <td>0.088774</td>\n",
       "    </tr>\n",
       "    <tr>\n",
       "      <th>25</th>\n",
       "      <td>F1</td>\n",
       "      <td>0.087379</td>\n",
       "    </tr>\n",
       "    <tr>\n",
       "      <th>7</th>\n",
       "      <td>B3</td>\n",
       "      <td>0.082521</td>\n",
       "    </tr>\n",
       "    <tr>\n",
       "      <th>24</th>\n",
       "      <td>E5</td>\n",
       "      <td>0.080624</td>\n",
       "    </tr>\n",
       "    <tr>\n",
       "      <th>31</th>\n",
       "      <td>G2</td>\n",
       "      <td>0.080537</td>\n",
       "    </tr>\n",
       "    <tr>\n",
       "      <th>10</th>\n",
       "      <td>C1</td>\n",
       "      <td>0.078558</td>\n",
       "    </tr>\n",
       "  </tbody>\n",
       "</table>\n",
       "</div>"
      ],
      "text/plain": [
       "   Sub Grade  Loan Status\n",
       "32        G3     0.130081\n",
       "19        D5     0.103484\n",
       "23        E4     0.102059\n",
       "20        E1     0.100924\n",
       "26        F2     0.100317\n",
       "5         B1     0.099863\n",
       "28        F4     0.099773\n",
       "33        G4     0.099338\n",
       "27        F3     0.098616\n",
       "34        G5     0.098592\n",
       "1         A2     0.097986\n",
       "16        D2     0.097809\n",
       "14        C5     0.095874\n",
       "9         B5     0.095657\n",
       "30        G1     0.095628\n",
       "2         A3     0.094362\n",
       "12        C3     0.094201\n",
       "11        C2     0.094129\n",
       "4         A5     0.094068\n",
       "13        C4     0.093538\n",
       "15        D1     0.093523\n",
       "8         B4     0.091887\n",
       "0         A1     0.091642\n",
       "3         A4     0.091431\n",
       "29        F5     0.091065\n",
       "18        D4     0.090244\n",
       "17        D3     0.089912\n",
       "22        E3     0.089326\n",
       "6         B2     0.088920\n",
       "21        E2     0.088774\n",
       "25        F1     0.087379\n",
       "7         B3     0.082521\n",
       "24        E5     0.080624\n",
       "31        G2     0.080537\n",
       "10        C1     0.078558"
      ]
     },
     "execution_count": 27,
     "metadata": {},
     "output_type": "execute_result"
    }
   ],
   "source": [
    "(train[[\"Sub Grade\", \"Loan Status\"]]\n",
    "        .groupby([\"Sub Grade\"], as_index=False)\n",
    "        .mean()\n",
    "        .sort_values(by=\"Loan Status\", ascending=False)\n",
    ")"
   ]
  },
  {
   "cell_type": "code",
   "execution_count": 28,
   "metadata": {},
   "outputs": [
    {
     "data": {
      "text/plain": [
       "MORTGAGE    36351\n",
       "RENT        24150\n",
       "OWN          6962\n",
       "Name: Employment Duration, dtype: int64"
      ]
     },
     "execution_count": 28,
     "metadata": {},
     "output_type": "execute_result"
    }
   ],
   "source": [
    "train[\"Employment Duration\"].value_counts() #ordinal"
   ]
  },
  {
   "cell_type": "code",
   "execution_count": 29,
   "metadata": {},
   "outputs": [
    {
     "data": {
      "text/plain": [
       "(array([0, 1, 2]),\n",
       " [Text(0, 0, 'MORTGAGE'), Text(1, 0, 'RENT'), Text(2, 0, 'OWN')])"
      ]
     },
     "execution_count": 29,
     "metadata": {},
     "output_type": "execute_result"
    },
    {
     "data": {
      "image/png": "[encoded data removed]",
      "text/plain": [
       "<Figure size 864x432 with 1 Axes>"
      ]
     },
     "metadata": {
      "needs_background": "light"
     },
     "output_type": "display_data"
    }
   ],
   "source": [
    "plt.figure(figsize=(12,6))\n",
    "\n",
    "sns.barplot( x='Employment Duration', y='Loan Status', data= train )\n",
    "plt.xticks(rotation=90)"
   ]
  },
  {
   "cell_type": "code",
   "execution_count": 30,
   "metadata": {},
   "outputs": [
    {
     "data": {
      "text/html": [
       "<div>\n",
       "<style scoped>\n",
       "    .dataframe tbody tr th:only-of-type {\n",
       "        vertical-align: middle;\n",
       "    }\n",
       "\n",
       "    .dataframe tbody tr th {\n",
       "        vertical-align: top;\n",
       "    }\n",
       "\n",
       "    .dataframe thead th {\n",
       "        text-align: right;\n",
       "    }\n",
       "</style>\n",
       "<table border=\"1\" class=\"dataframe\">\n",
       "  <thead>\n",
       "    <tr style=\"text-align: right;\">\n",
       "      <th></th>\n",
       "      <th>Employment Duration</th>\n",
       "      <th>Loan Status</th>\n",
       "    </tr>\n",
       "  </thead>\n",
       "  <tbody>\n",
       "    <tr>\n",
       "      <th>1</th>\n",
       "      <td>OWN</td>\n",
       "      <td>0.101551</td>\n",
       "    </tr>\n",
       "    <tr>\n",
       "      <th>2</th>\n",
       "      <td>RENT</td>\n",
       "      <td>0.095694</td>\n",
       "    </tr>\n",
       "    <tr>\n",
       "      <th>0</th>\n",
       "      <td>MORTGAGE</td>\n",
       "      <td>0.088663</td>\n",
       "    </tr>\n",
       "  </tbody>\n",
       "</table>\n",
       "</div>"
      ],
      "text/plain": [
       "  Employment Duration  Loan Status\n",
       "1                 OWN     0.101551\n",
       "2                RENT     0.095694\n",
       "0            MORTGAGE     0.088663"
      ]
     },
     "execution_count": 30,
     "metadata": {},
     "output_type": "execute_result"
    }
   ],
   "source": [
    "(train[[\"Employment Duration\", \"Loan Status\"]]\n",
    "        .groupby([\"Employment Duration\"], as_index=False)\n",
    "        .mean()\n",
    "        .sort_values(by=\"Loan Status\", ascending=False)\n",
    ")"
   ]
  },
  {
   "cell_type": "code",
   "execution_count": 31,
   "metadata": {},
   "outputs": [
    {
     "data": {
      "text/plain": [
       "Source Verified    33036\n",
       "Verified           18078\n",
       "Not Verified       16349\n",
       "Name: Verification Status, dtype: int64"
      ]
     },
     "execution_count": 31,
     "metadata": {},
     "output_type": "execute_result"
    }
   ],
   "source": [
    "train[\"Verification Status\"].value_counts()  #ordinal"
   ]
  },
  {
   "cell_type": "code",
   "execution_count": 32,
   "metadata": {},
   "outputs": [
    {
     "data": {
      "text/plain": [
       "(array([0, 1, 2]),\n",
       " [Text(0, 0, 'Not Verified'),\n",
       "  Text(1, 0, 'Source Verified'),\n",
       "  Text(2, 0, 'Verified')])"
      ]
     },
     "execution_count": 32,
     "metadata": {},
     "output_type": "execute_result"
    },
    {
     "data": {
      "image/png": "[encoded data removed]",
      "text/plain": [
       "<Figure size 864x432 with 1 Axes>"
      ]
     },
     "metadata": {
      "needs_background": "light"
     },
     "output_type": "display_data"
    }
   ],
   "source": [
    "plt.figure(figsize=(12,6))\n",
    "\n",
    "sns.barplot( x='Verification Status', y='Loan Status', data= train )\n",
    "plt.xticks(rotation=90)"
   ]
  },
  {
   "cell_type": "code",
   "execution_count": 33,
   "metadata": {},
   "outputs": [
    {
     "data": {
      "text/html": [
       "<div>\n",
       "<style scoped>\n",
       "    .dataframe tbody tr th:only-of-type {\n",
       "        vertical-align: middle;\n",
       "    }\n",
       "\n",
       "    .dataframe tbody tr th {\n",
       "        vertical-align: top;\n",
       "    }\n",
       "\n",
       "    .dataframe thead th {\n",
       "        text-align: right;\n",
       "    }\n",
       "</style>\n",
       "<table border=\"1\" class=\"dataframe\">\n",
       "  <thead>\n",
       "    <tr style=\"text-align: right;\">\n",
       "      <th></th>\n",
       "      <th>Verification Status</th>\n",
       "      <th>Loan Status</th>\n",
       "    </tr>\n",
       "  </thead>\n",
       "  <tbody>\n",
       "    <tr>\n",
       "      <th>1</th>\n",
       "      <td>Source Verified</td>\n",
       "      <td>0.093383</td>\n",
       "    </tr>\n",
       "    <tr>\n",
       "      <th>0</th>\n",
       "      <td>Not Verified</td>\n",
       "      <td>0.092116</td>\n",
       "    </tr>\n",
       "    <tr>\n",
       "      <th>2</th>\n",
       "      <td>Verified</td>\n",
       "      <td>0.091271</td>\n",
       "    </tr>\n",
       "  </tbody>\n",
       "</table>\n",
       "</div>"
      ],
      "text/plain": [
       "  Verification Status  Loan Status\n",
       "1     Source Verified     0.093383\n",
       "0        Not Verified     0.092116\n",
       "2            Verified     0.091271"
      ]
     },
     "execution_count": 33,
     "metadata": {},
     "output_type": "execute_result"
    }
   ],
   "source": [
    "(train[[\"Verification Status\", \"Loan Status\"]]\n",
    "        .groupby([\"Verification Status\"], as_index=False)\n",
    "        .mean()\n",
    "        .sort_values(by=\"Loan Status\", ascending=False)\n",
    ")"
   ]
  },
  {
   "cell_type": "code",
   "execution_count": 34,
   "metadata": {},
   "outputs": [
    {
     "data": {
      "text/plain": [
       "n    67463\n",
       "Name: Payment Plan, dtype: int64"
      ]
     },
     "execution_count": 34,
     "metadata": {},
     "output_type": "execute_result"
    }
   ],
   "source": [
    "train[\"Payment Plan\"].value_counts()"
   ]
  },
  {
   "cell_type": "code",
   "execution_count": 35,
   "metadata": {},
   "outputs": [
    {
     "name": "stdout",
     "output_type": "stream",
     "text": [
      "Credit card refinancing    30728\n",
      "Debt consolidation         24841\n",
      "Debt Consolidation          3544\n",
      "Other                       2455\n",
      "Home improvement            2211\n",
      "                           ...  \n",
      "Home loan                      6\n",
      "Getting Ahead                  5\n",
      "Personal loan                  5\n",
      "bills                          4\n",
      "Credit                         4\n",
      "Name: Loan Title, Length: 109, dtype: int64\n",
      "---------------------------------------\n",
      "109\n"
     ]
    }
   ],
   "source": [
    "print(train[\"Loan Title\"].value_counts())\n",
    "print(\"---------------------------------------\")\n",
    "print(train[\"Loan Title\"].nunique())"
   ]
  },
  {
   "cell_type": "code",
   "execution_count": 36,
   "metadata": {},
   "outputs": [
    {
     "data": {
      "text/plain": [
       "w    36299\n",
       "f    31164\n",
       "Name: Initial List Status, dtype: int64"
      ]
     },
     "execution_count": 36,
     "metadata": {},
     "output_type": "execute_result"
    }
   ],
   "source": [
    "train[\"Initial List Status\"].value_counts() #ordinal"
   ]
  },
  {
   "cell_type": "code",
   "execution_count": 37,
   "metadata": {},
   "outputs": [
    {
     "data": {
      "text/plain": [
       "(array([0, 1]), [Text(0, 0, 'w'), Text(1, 0, 'f')])"
      ]
     },
     "execution_count": 37,
     "metadata": {},
     "output_type": "execute_result"
    },
    {
     "data": {
      "image/png": "[encoded data removed]",
      "text/plain": [
       "<Figure size 864x432 with 1 Axes>"
      ]
     },
     "metadata": {
      "needs_background": "light"
     },
     "output_type": "display_data"
    }
   ],
   "source": [
    "plt.figure(figsize=(12,6))\n",
    "\n",
    "sns.barplot( x='Initial List Status', y='Loan Status', data= train )\n",
    "plt.xticks(rotation=90)"
   ]
  },
  {
   "cell_type": "code",
   "execution_count": 38,
   "metadata": {},
   "outputs": [
    {
     "data": {
      "text/html": [
       "<div>\n",
       "<style scoped>\n",
       "    .dataframe tbody tr th:only-of-type {\n",
       "        vertical-align: middle;\n",
       "    }\n",
       "\n",
       "    .dataframe tbody tr th {\n",
       "        vertical-align: top;\n",
       "    }\n",
       "\n",
       "    .dataframe thead th {\n",
       "        text-align: right;\n",
       "    }\n",
       "</style>\n",
       "<table border=\"1\" class=\"dataframe\">\n",
       "  <thead>\n",
       "    <tr style=\"text-align: right;\">\n",
       "      <th></th>\n",
       "      <th>Initial List Status</th>\n",
       "      <th>Loan Status</th>\n",
       "    </tr>\n",
       "  </thead>\n",
       "  <tbody>\n",
       "    <tr>\n",
       "      <th>0</th>\n",
       "      <td>f</td>\n",
       "      <td>0.096714</td>\n",
       "    </tr>\n",
       "    <tr>\n",
       "      <th>1</th>\n",
       "      <td>w</td>\n",
       "      <td>0.088901</td>\n",
       "    </tr>\n",
       "  </tbody>\n",
       "</table>\n",
       "</div>"
      ],
      "text/plain": [
       "  Initial List Status  Loan Status\n",
       "0                   f     0.096714\n",
       "1                   w     0.088901"
      ]
     },
     "execution_count": 38,
     "metadata": {},
     "output_type": "execute_result"
    }
   ],
   "source": [
    "(train[[\"Initial List Status\", \"Loan Status\"]]\n",
    "        .groupby([\"Initial List Status\"], as_index=False)\n",
    "        .mean()\n",
    "        .sort_values(by=\"Loan Status\", ascending=False)\n",
    ")"
   ]
  },
  {
   "cell_type": "code",
   "execution_count": 39,
   "metadata": {},
   "outputs": [
    {
     "data": {
      "text/plain": [
       "INDIVIDUAL    67340\n",
       "JOINT           123\n",
       "Name: Application Type, dtype: int64"
      ]
     },
     "execution_count": 39,
     "metadata": {},
     "output_type": "execute_result"
    }
   ],
   "source": [
    "train[\"Application Type\"].value_counts()"
   ]
  },
  {
   "cell_type": "code",
   "execution_count": 40,
   "metadata": {},
   "outputs": [
    {
     "data": {
      "text/plain": [
       "(array([0, 1]), [Text(0, 0, 'INDIVIDUAL'), Text(1, 0, 'JOINT')])"
      ]
     },
     "execution_count": 40,
     "metadata": {},
     "output_type": "execute_result"
    },
    {
     "data": {
      "image/png": "[encoded data removed]",
      "text/plain": [
       "<Figure size 864x432 with 1 Axes>"
      ]
     },
     "metadata": {
      "needs_background": "light"
     },
     "output_type": "display_data"
    }
   ],
   "source": [
    "plt.figure(figsize=(12,6))\n",
    "\n",
    "sns.barplot( x='Application Type', y='Loan Status', data= train )\n",
    "plt.xticks(rotation=90)"
   ]
  },
  {
   "cell_type": "code",
   "execution_count": 41,
   "metadata": {},
   "outputs": [
    {
     "data": {
      "text/html": [
       "<div>\n",
       "<style scoped>\n",
       "    .dataframe tbody tr th:only-of-type {\n",
       "        vertical-align: middle;\n",
       "    }\n",
       "\n",
       "    .dataframe tbody tr th {\n",
       "        vertical-align: top;\n",
       "    }\n",
       "\n",
       "    .dataframe thead th {\n",
       "        text-align: right;\n",
       "    }\n",
       "</style>\n",
       "<table border=\"1\" class=\"dataframe\">\n",
       "  <thead>\n",
       "    <tr style=\"text-align: right;\">\n",
       "      <th></th>\n",
       "      <th>Application Type</th>\n",
       "      <th>Loan Status</th>\n",
       "    </tr>\n",
       "  </thead>\n",
       "  <tbody>\n",
       "    <tr>\n",
       "      <th>0</th>\n",
       "      <td>INDIVIDUAL</td>\n",
       "      <td>0.092516</td>\n",
       "    </tr>\n",
       "    <tr>\n",
       "      <th>1</th>\n",
       "      <td>JOINT</td>\n",
       "      <td>0.089431</td>\n",
       "    </tr>\n",
       "  </tbody>\n",
       "</table>\n",
       "</div>"
      ],
      "text/plain": [
       "  Application Type  Loan Status\n",
       "0       INDIVIDUAL     0.092516\n",
       "1            JOINT     0.089431"
      ]
     },
     "execution_count": 41,
     "metadata": {},
     "output_type": "execute_result"
    }
   ],
   "source": [
    "(train[[\"Application Type\", \"Loan Status\"]]\n",
    "        .groupby([\"Application Type\"], as_index=False)\n",
    "        .mean()\n",
    "        .sort_values(by=\"Loan Status\", ascending=False)\n",
    ")"
   ]
  },
  {
   "cell_type": "code",
   "execution_count": 42,
   "metadata": {},
   "outputs": [],
   "source": [
    "#ordinal categorical features\n",
    "\n",
    "#train[[\"Grade\", \"Employment Duration\", \"Verification Status\", \"Initial List Status\", \"Application Type\"]]"
   ]
  },
  {
   "cell_type": "markdown",
   "metadata": {},
   "source": [
    "Taking a look at numerical dtype features which could be categorical"
   ]
  },
  {
   "cell_type": "code",
   "execution_count": 43,
   "metadata": {},
   "outputs": [
    {
     "data": {
      "text/plain": [
       "<seaborn.axisgrid.FacetGrid at 0x2586e88be20>"
      ]
     },
     "execution_count": 43,
     "metadata": {},
     "output_type": "execute_result"
    },
    {
     "data": {
      "image/png": "[encoded data removed]",
      "text/plain": [
       "<Figure size 432x216 with 2 Axes>"
      ]
     },
     "metadata": {
      "needs_background": "light"
     },
     "output_type": "display_data"
    }
   ],
   "source": [
    "g = sns.FacetGrid(train, col='Loan Status')\n",
    "g.map(plt.hist, 'Loan Amount', bins=50)"
   ]
  },
  {
   "cell_type": "code",
   "execution_count": 44,
   "metadata": {},
   "outputs": [
    {
     "data": {
      "text/plain": [
       "{'whiskers': [<matplotlib.lines.Line2D at 0x2586f3a9490>,\n",
       "  <matplotlib.lines.Line2D at 0x2586f3a97f0>],\n",
       " 'caps': [<matplotlib.lines.Line2D at 0x2586f3a9b50>,\n",
       "  <matplotlib.lines.Line2D at 0x2586f3a9eb0>],\n",
       " 'boxes': [<matplotlib.lines.Line2D at 0x2586f3a9130>],\n",
       " 'medians': [<matplotlib.lines.Line2D at 0x2586f3b6280>],\n",
       " 'fliers': [<matplotlib.lines.Line2D at 0x2586f3b6940>],\n",
       " 'means': [<matplotlib.lines.Line2D at 0x2586f3b65e0>]}"
      ]
     },
     "execution_count": 44,
     "metadata": {},
     "output_type": "execute_result"
    },
    {
     "data": {
      "image/png": "[encoded data removed]",
      "text/plain": [
       "<Figure size 288x288 with 1 Axes>"
      ]
     },
     "metadata": {
      "needs_background": "light"
     },
     "output_type": "display_data"
    }
   ],
   "source": [
    "# plt.figure(figsize=(4,4))\n",
    "# plt.boxplot( x=train['Loan Amount'], showmeans=True, meanline=True )"
   ]
  },
  {
   "cell_type": "code",
   "execution_count": 45,
   "metadata": {},
   "outputs": [
    {
     "data": {
      "text/plain": [
       "<seaborn.axisgrid.FacetGrid at 0x2586f3c9c10>"
      ]
     },
     "execution_count": 45,
     "metadata": {},
     "output_type": "execute_result"
    },
    {
     "data": {
      "image/png": "[encoded data removed]",
      "text/plain": [
       "<Figure size 432x216 with 2 Axes>"
      ]
     },
     "metadata": {
      "needs_background": "light"
     },
     "output_type": "display_data"
    }
   ],
   "source": [
    "g = sns.FacetGrid(train, col='Loan Status')\n",
    "g.map(plt.hist, 'Funded Amount', bins=50)"
   ]
  },
  {
   "cell_type": "code",
   "execution_count": 46,
   "metadata": {},
   "outputs": [
    {
     "data": {
      "text/plain": [
       "{'whiskers': [<matplotlib.lines.Line2D at 0x2586f6a9e50>,\n",
       "  <matplotlib.lines.Line2D at 0x2586f6b61f0>],\n",
       " 'caps': [<matplotlib.lines.Line2D at 0x2586f6b6550>,\n",
       "  <matplotlib.lines.Line2D at 0x2586f6b68b0>],\n",
       " 'boxes': [<matplotlib.lines.Line2D at 0x2586f6a9af0>],\n",
       " 'medians': [<matplotlib.lines.Line2D at 0x2586f6b6c10>],\n",
       " 'fliers': [<matplotlib.lines.Line2D at 0x2586f6c1310>],\n",
       " 'means': [<matplotlib.lines.Line2D at 0x2586f6b6f70>]}"
      ]
     },
     "execution_count": 46,
     "metadata": {},
     "output_type": "execute_result"
    },
    {
     "data": {
      "image/png": "[encoded data removed]",
      "text/plain": [
       "<Figure size 288x288 with 1 Axes>"
      ]
     },
     "metadata": {
      "needs_background": "light"
     },
     "output_type": "display_data"
    }
   ],
   "source": [
    "plt.figure(figsize=(4,4))\n",
    "plt.boxplot( x=train['Funded Amount'], showmeans=True, meanline=True )"
   ]
  },
  {
   "cell_type": "code",
   "execution_count": 49,
   "metadata": {},
   "outputs": [
    {
     "data": {
      "text/plain": [
       "<seaborn.axisgrid.FacetGrid at 0x2586f8c7460>"
      ]
     },
     "execution_count": 49,
     "metadata": {},
     "output_type": "execute_result"
    },
    {
     "data": {
      "image/png": "[encoded data removed]",
      "text/plain": [
       "<Figure size 432x216 with 2 Axes>"
      ]
     },
     "metadata": {
      "needs_background": "light"
     },
     "output_type": "display_data"
    }
   ],
   "source": [
    "g = sns.FacetGrid(train, col='Loan Status')\n",
    "g.map(plt.hist, 'Funded Amount Investor', bins=50)"
   ]
  },
  {
   "cell_type": "code",
   "execution_count": 50,
   "metadata": {},
   "outputs": [
    {
     "data": {
      "text/plain": [
       "{'whiskers': [<matplotlib.lines.Line2D at 0x2586fa51c10>,\n",
       "  <matplotlib.lines.Line2D at 0x2586fa51f70>],\n",
       " 'caps': [<matplotlib.lines.Line2D at 0x2586fa5d310>,\n",
       "  <matplotlib.lines.Line2D at 0x2586fa5d670>],\n",
       " 'boxes': [<matplotlib.lines.Line2D at 0x2586fa518b0>],\n",
       " 'medians': [<matplotlib.lines.Line2D at 0x2586fa5d9d0>],\n",
       " 'fliers': [<matplotlib.lines.Line2D at 0x2586fa6c0d0>],\n",
       " 'means': [<matplotlib.lines.Line2D at 0x2586fa5dd30>]}"
      ]
     },
     "execution_count": 50,
     "metadata": {},
     "output_type": "execute_result"
    },
    {
     "data": {
      "image/png": "[encoded data removed]",
      "text/plain": [
       "<Figure size 288x288 with 1 Axes>"
      ]
     },
     "metadata": {
      "needs_background": "light"
     },
     "output_type": "display_data"
    }
   ],
   "source": [
    "plt.figure(figsize=(4,4))\n",
    "plt.boxplot( x=train['Funded Amount Investor'], showmeans=True, meanline=True )"
   ]
  },
  {
   "cell_type": "code",
   "execution_count": 47,
   "metadata": {},
   "outputs": [
    {
     "data": {
      "text/plain": [
       "<seaborn.axisgrid.FacetGrid at 0x2586f6d0820>"
      ]
     },
     "execution_count": 47,
     "metadata": {},
     "output_type": "execute_result"
    },
    {
     "data": {
      "image/png": "[encoded data removed]",
      "text/plain": [
       "<Figure size 432x216 with 2 Axes>"
      ]
     },
     "metadata": {
      "needs_background": "light"
     },
     "output_type": "display_data"
    }
   ],
   "source": [
    "g = sns.FacetGrid(train, col='Loan Status')   ###cat\n",
    "g.map(plt.hist, 'Term', bins=50)"
   ]
  },
  {
   "cell_type": "code",
   "execution_count": 48,
   "metadata": {},
   "outputs": [
    {
     "data": {
      "text/plain": [
       "{'whiskers': [<matplotlib.lines.Line2D at 0x2586f8b1100>,\n",
       "  <matplotlib.lines.Line2D at 0x2586f8b1460>],\n",
       " 'caps': [<matplotlib.lines.Line2D at 0x2586f8b17c0>,\n",
       "  <matplotlib.lines.Line2D at 0x2586f8b1b20>],\n",
       " 'boxes': [<matplotlib.lines.Line2D at 0x2586f8a0d30>],\n",
       " 'medians': [<matplotlib.lines.Line2D at 0x2586f8b1e80>],\n",
       " 'fliers': [<matplotlib.lines.Line2D at 0x2586f8ba580>],\n",
       " 'means': [<matplotlib.lines.Line2D at 0x2586f8ba220>]}"
      ]
     },
     "execution_count": 48,
     "metadata": {},
     "output_type": "execute_result"
    },
    {
     "data": {
      "image/png": "[encoded data removed]",
      "text/plain": [
       "<Figure size 288x288 with 1 Axes>"
      ]
     },
     "metadata": {
      "needs_background": "light"
     },
     "output_type": "display_data"
    }
   ],
   "source": [
    "plt.figure(figsize=(4,4))\n",
    "plt.boxplot( x=train['Term'], showmeans=True, meanline=True )"
   ]
  },
  {
   "cell_type": "code",
   "execution_count": null,
   "metadata": {},
   "outputs": [],
   "source": [
    "g = sns.FacetGrid(train, col='Loan Status')\n",
    "g.map(plt.hist, 'Interest Rate', bins=50)"
   ]
  },
  {
   "cell_type": "code",
   "execution_count": null,
   "metadata": {},
   "outputs": [],
   "source": [
    "g = sns.FacetGrid(train, col='Loan Status')\n",
    "g.map(plt.hist, 'Home Ownership', bins=50)"
   ]
  },
  {
   "cell_type": "code",
   "execution_count": null,
   "metadata": {},
   "outputs": [],
   "source": [
    "g = sns.FacetGrid(train, col='Loan Status')\n",
    "g.map(plt.hist, 'Debit to Income', bins=50)"
   ]
  },
  {
   "cell_type": "code",
   "execution_count": null,
   "metadata": {},
   "outputs": [],
   "source": [
    "g = sns.FacetGrid(train, col='Loan Status')        ###\n",
    "g.map(plt.hist, 'Delinquency - two years', bins=50)"
   ]
  },
  {
   "cell_type": "code",
   "execution_count": null,
   "metadata": {},
   "outputs": [],
   "source": [
    "g = sns.FacetGrid(train, col='Loan Status')###\n",
    "g.map(plt.hist, 'Inquires - six months', bins=50)"
   ]
  },
  {
   "cell_type": "code",
   "execution_count": null,
   "metadata": {},
   "outputs": [],
   "source": [
    "g = sns.FacetGrid(train, col='Loan Status')\n",
    "g.map(plt.hist, 'Open Account', bins=50)"
   ]
  },
  {
   "cell_type": "code",
   "execution_count": null,
   "metadata": {},
   "outputs": [],
   "source": [
    "g = sns.FacetGrid(train, col='Loan Status')\n",
    "g.map(plt.hist, 'Public Record', bins=50)\n",
    "\n",
    "print(train[\"Public Record\"].value_counts())"
   ]
  },
  {
   "cell_type": "code",
   "execution_count": null,
   "metadata": {},
   "outputs": [],
   "source": [
    "g = sns.FacetGrid(train, col='Loan Status')\n",
    "g.map(plt.hist, 'Revolving Balance', bins=50)"
   ]
  },
  {
   "cell_type": "code",
   "execution_count": null,
   "metadata": {},
   "outputs": [],
   "source": [
    "g = sns.FacetGrid(train, col='Loan Status')\n",
    "g.map(plt.hist, 'Revolving Utilities', bins=50)"
   ]
  },
  {
   "cell_type": "code",
   "execution_count": null,
   "metadata": {},
   "outputs": [],
   "source": [
    "g = sns.FacetGrid(train, col='Loan Status')\n",
    "g.map(plt.hist, 'Total Accounts', bins=50)"
   ]
  },
  {
   "cell_type": "code",
   "execution_count": null,
   "metadata": {},
   "outputs": [],
   "source": [
    "g = sns.FacetGrid(train, col='Loan Status')\n",
    "g.map(plt.hist, 'Total Received Interest', bins=50)"
   ]
  },
  {
   "cell_type": "code",
   "execution_count": null,
   "metadata": {},
   "outputs": [],
   "source": [
    "g = sns.FacetGrid(train, col='Loan Status')\n",
    "g.map(plt.hist, 'Total Received Late Fee', bins=50)\n",
    "print(train[\"Total Received Late Fee\"].value_counts())"
   ]
  },
  {
   "cell_type": "code",
   "execution_count": null,
   "metadata": {},
   "outputs": [],
   "source": [
    "g = sns.FacetGrid(train, col='Loan Status')\n",
    "g.map(plt.hist, 'Recoveries', bins=50)\n",
    "\n",
    "print(train['Recoveries'].value_counts())"
   ]
  },
  {
   "cell_type": "code",
   "execution_count": null,
   "metadata": {},
   "outputs": [],
   "source": [
    "g = sns.FacetGrid(train, col='Loan Status')\n",
    "g.map(plt.hist, 'Collection Recovery Fee', bins=50)\n",
    "\n",
    "print(train['Collection Recovery Fee'].value_counts())"
   ]
  },
  {
   "cell_type": "code",
   "execution_count": null,
   "metadata": {},
   "outputs": [],
   "source": [
    "g = sns.FacetGrid(train, col='Loan Status')\n",
    "g.map(plt.hist, 'Collection 12 months Medical', bins=50)\n",
    "\n",
    "print(train['Collection 12 months Medical'].value_counts())"
   ]
  },
  {
   "cell_type": "code",
   "execution_count": null,
   "metadata": {},
   "outputs": [],
   "source": [
    "g = sns.FacetGrid(train, col='Loan Status')\n",
    "g.map(plt.hist, 'Last week Pay', bins=50)"
   ]
  },
  {
   "cell_type": "code",
   "execution_count": null,
   "metadata": {},
   "outputs": [],
   "source": [
    "g = sns.FacetGrid(train, col='Loan Status')\n",
    "g.map(plt.hist, 'Accounts Delinquent', bins=50)\n",
    "\n",
    "print(train[\"Accounts Delinquent\"].value_counts())"
   ]
  },
  {
   "cell_type": "code",
   "execution_count": null,
   "metadata": {},
   "outputs": [],
   "source": [
    "g = sns.FacetGrid(train, col='Loan Status')\n",
    "g.map(plt.hist, 'Total Collection Amount', bins=50)\n",
    "\n",
    "print(train[\"Total Collection Amount\"].value_counts())"
   ]
  },
  {
   "cell_type": "code",
   "execution_count": null,
   "metadata": {},
   "outputs": [],
   "source": [
    "g = sns.FacetGrid(train, col='Loan Status')\n",
    "g.map(plt.hist, 'Total Current Balance', bins=50)"
   ]
  },
  {
   "cell_type": "code",
   "execution_count": null,
   "metadata": {},
   "outputs": [],
   "source": [
    "g = sns.FacetGrid(train, col='Loan Status')\n",
    "g.map(plt.hist, 'Total Revolving Credit Limit', bins=50)"
   ]
  },
  {
   "cell_type": "code",
   "execution_count": null,
   "metadata": {},
   "outputs": [],
   "source": [
    "train.info()"
   ]
  },
  {
   "cell_type": "code",
   "execution_count": null,
   "metadata": {},
   "outputs": [],
   "source": [
    "#ordinal categorical features\n",
    "\n",
    "#train[[\"Grade\", \"Employment Duration\", \"Verification Status\", \"Initial List Status\", \"Application Type\"]]"
   ]
  },
  {
   "cell_type": "code",
   "execution_count": null,
   "metadata": {},
   "outputs": [],
   "source": [
    "# sns.boxplot(y='Employment Duration', x='Loan Status', data=train)"
   ]
  },
  {
   "cell_type": "code",
   "execution_count": null,
   "metadata": {},
   "outputs": [],
   "source": []
  },
  {
   "cell_type": "code",
   "execution_count": null,
   "metadata": {},
   "outputs": [],
   "source": []
  },
  {
   "cell_type": "code",
   "execution_count": null,
   "metadata": {},
   "outputs": [],
   "source": []
  },
  {
   "cell_type": "code",
   "execution_count": null,
   "metadata": {},
   "outputs": [],
   "source": []
  },
  {
   "cell_type": "code",
   "execution_count": null,
   "metadata": {},
   "outputs": [],
   "source": [
    "# (train[[\"Delinquency - two years\", \"Loan Status\"]]\n",
    "#         .groupby([\"Delinquency - two years\"], as_index=False)\n",
    "#         .mean()\n",
    "#         .sort_values(by=\"Loan Status\", ascending=True)\n",
    "# )['Delinquency - two years']"
   ]
  },
  {
   "cell_type": "code",
   "execution_count": null,
   "metadata": {},
   "outputs": [],
   "source": [
    "# (train[[\"Inquires - six months\", \"Loan Status\"]]\n",
    "#         .groupby([\"Inquires - six months\"], as_index=False)\n",
    "#         .mean()\n",
    "#         .sort_values(by=\"Loan Status\", ascending=True)\n",
    "# )"
   ]
  },
  {
   "cell_type": "code",
   "execution_count": null,
   "metadata": {},
   "outputs": [],
   "source": [
    "#print(train[\"Term\"].value_counts())\n",
    "t = (train[[\"Term\", \"Loan Status\"]]\n",
    "        .groupby([\"Term\"], as_index=False)\n",
    "        .mean()\n",
    "        .sort_values(by=\"Loan Status\", ascending=True)\n",
    ")['Term']\n",
    "idx_t = t.index\n",
    "val_t = t.values\n",
    "#print(idx_t)\n",
    "#print(val_t)\n",
    "t_labels = {k:i for i,k in enumerate(val_t,0)}\n",
    "train[\"Term\"] = train[\"Term\"].map(t_labels)\n",
    "print(t_labels)\n",
    "print(\"*************************************\")\n",
    "\n",
    "#print(train[\"Delinquency - two years\"].value_counts())\n",
    "d = (train[[\"Delinquency - two years\", \"Loan Status\"]]\n",
    "        .groupby([\"Delinquency - two years\"], as_index=False)\n",
    "        .mean()\n",
    "        .sort_values(by=\"Loan Status\", ascending=True)\n",
    ")['Delinquency - two years']\n",
    "\n",
    "idx_d = d.index\n",
    "val_d = d.values\n",
    "# print(\"index\",idx_d)\n",
    "# print(\"values\",val_d)\n",
    "d_labels = {k:i for i,k in enumerate(val_d,0)}\n",
    "train[\"Delinquency - two years\"] = train[\"Delinquency - two years\"].map(d_labels)\n",
    "print(d_labels)\n",
    "print(\"*************************************\")\n",
    "\n",
    "#print(train[\"Inquires - six months\"].value_counts())\n",
    "ii = (train[[\"Inquires - six months\", \"Loan Status\"]]\n",
    "        .groupby([\"Inquires - six months\"], as_index=False)\n",
    "        .mean()\n",
    "        .sort_values(by=\"Loan Status\", ascending=True)\n",
    ")['Inquires - six months']\n",
    "idx_i = ii.index\n",
    "val_i = ii.values\n",
    "i_labels = {k:i for i,k in enumerate(val_i,0)}\n",
    "train[\"Inquires - six months\"] = train[\"Inquires - six months\"].map(i_labels)\n",
    "print(i_labels)\n",
    "print(\"*************************************\")\n",
    "\n",
    "#print(train[\"Public Record\"].value_counts())\n",
    "p = (train[[\"Public Record\", \"Loan Status\"]]\n",
    "        .groupby([\"Public Record\"], as_index=False)\n",
    "        .mean()\n",
    "        .sort_values(by=\"Loan Status\", ascending=True)\n",
    ")['Public Record']\n",
    "idx_p = p.index\n",
    "val_p = p.values\n",
    "p_labels = {k:i for i,k in enumerate(val_p,0)}\n",
    "train[\"Public Record\"] = train[\"Public Record\"].map(p_labels)\n",
    "print(p_labels)\n",
    "print(\"*************************************\")\n",
    "\n",
    "\n",
    "#print(train[\"Collection 12 months Medical\"].value_counts())\n",
    "c = (train[[\"Collection 12 months Medical\", \"Loan Status\"]]\n",
    "        .groupby([\"Collection 12 months Medical\"], as_index=False)\n",
    "        .mean()\n",
    "        .sort_values(by=\"Loan Status\", ascending=True)\n",
    ")['Collection 12 months Medical']\n",
    "idx_c = c.index\n",
    "val_c = c.values\n",
    "c_labels = {k:i for i,k in enumerate(val_c,0)}\n",
    "train[\"Collection 12 months Medical\"] = train[\"Collection 12 months Medical\"].map(c_labels)\n",
    "print(c_labels)\n",
    "print(\"*************************************\")\n",
    "\n",
    "\n",
    "#print(train[\"Accounts Delinquent\"].value_counts())\n",
    "a = (train[[\"Accounts Delinquent\", \"Loan Status\"]]\n",
    "        .groupby([\"Accounts Delinquent\"], as_index=False)\n",
    "        .mean()\n",
    "        .sort_values(by=\"Loan Status\", ascending=True)\n",
    ")['Accounts Delinquent']\n",
    "idx_a = a.index\n",
    "val_a = a.values\n",
    "a_labels = {k:i for i,k in enumerate(val_a,0)}\n",
    "train[\"Accounts Delinquent\"] = train[\"Accounts Delinquent\"].map(a_labels)\n",
    "print(a_labels)\n",
    "print(\"*************************************\")\n",
    "\n",
    "\n",
    "#--------------------------------TEST SET---------------------------------------------------#\n",
    "\n",
    "\n",
    "#print(train[\"Term\"].value_counts())\n",
    "t = (test[[\"Term\", \"Loan Status\"]]\n",
    "        .groupby([\"Term\"], as_index=False)\n",
    "        .mean()\n",
    "        .sort_values(by=\"Loan Status\", ascending=True)\n",
    ")['Term']\n",
    "idx_t = t.index\n",
    "val_t = t.values\n",
    "#print(idx_t)\n",
    "#print(val_t)\n",
    "t_labels = {k:i for i,k in enumerate(val_t,0)}\n",
    "test[\"Term\"] = test[\"Term\"].map(t_labels)\n",
    "print(t_labels)\n",
    "print(\"*************************************\")\n",
    "\n",
    "#print(train[\"Delinquency - two years\"].value_counts())\n",
    "d = (test[[\"Delinquency - two years\", \"Loan Status\"]]\n",
    "        .groupby([\"Delinquency - two years\"], as_index=False)\n",
    "        .mean()\n",
    "        .sort_values(by=\"Loan Status\", ascending=True)\n",
    ")['Delinquency - two years']\n",
    "\n",
    "idx_d = d.index\n",
    "val_d = d.values\n",
    "# print(\"index\",idx_d)\n",
    "# print(\"values\",val_d)\n",
    "d_labels = {k:i for i,k in enumerate(val_d,0)}\n",
    "test[\"Delinquency - two years\"] = test[\"Delinquency - two years\"].map(d_labels)\n",
    "print(d_labels)\n",
    "print(\"*************************************\")\n",
    "\n",
    "#print(train[\"Inquires - six months\"].value_counts())\n",
    "ii = (test[[\"Inquires - six months\", \"Loan Status\"]]\n",
    "        .groupby([\"Inquires - six months\"], as_index=False)\n",
    "        .mean()\n",
    "        .sort_values(by=\"Loan Status\", ascending=True)\n",
    ")['Inquires - six months']\n",
    "idx_i = ii.index\n",
    "val_i = ii.values\n",
    "i_labels = {k:i for i,k in enumerate(val_i,0)}\n",
    "test[\"Inquires - six months\"] = test[\"Inquires - six months\"].map(i_labels)\n",
    "print(i_labels)\n",
    "print(\"*************************************\")\n",
    "\n",
    "#print(train[\"Public Record\"].value_counts())\n",
    "p = (test[[\"Public Record\", \"Loan Status\"]]\n",
    "        .groupby([\"Public Record\"], as_index=False)\n",
    "        .mean()\n",
    "        .sort_values(by=\"Loan Status\", ascending=True)\n",
    ")['Public Record']\n",
    "idx_p = p.index\n",
    "val_p = p.values\n",
    "p_labels = {k:i for i,k in enumerate(val_p,0)}\n",
    "test[\"Public Record\"] = test[\"Public Record\"].map(p_labels)\n",
    "print(p_labels)\n",
    "print(\"*************************************\")\n",
    "\n",
    "\n",
    "#print(train[\"Collection 12 months Medical\"].value_counts())\n",
    "c = (test[[\"Collection 12 months Medical\", \"Loan Status\"]]\n",
    "        .groupby([\"Collection 12 months Medical\"], as_index=False)\n",
    "        .mean()\n",
    "        .sort_values(by=\"Loan Status\", ascending=True)\n",
    ")['Collection 12 months Medical']\n",
    "idx_c = c.index\n",
    "val_c = c.values\n",
    "c_labels = {k:i for i,k in enumerate(val_c,0)}\n",
    "test[\"Collection 12 months Medical\"] = test[\"Collection 12 months Medical\"].map(c_labels)\n",
    "print(c_labels)\n",
    "print(\"*************************************\")\n",
    "\n",
    "\n",
    "#print(train[\"Accounts Delinquent\"].value_counts())\n",
    "a = (test[[\"Accounts Delinquent\", \"Loan Status\"]]\n",
    "        .groupby([\"Accounts Delinquent\"], as_index=False)\n",
    "        .mean()\n",
    "        .sort_values(by=\"Loan Status\", ascending=True)\n",
    ")['Accounts Delinquent']\n",
    "idx_a = a.index\n",
    "val_a = a.values\n",
    "a_labels = {k:i for i,k in enumerate(val_a,0)}\n",
    "test[\"Accounts Delinquent\"] = test[\"Accounts Delinquent\"].map(a_labels)\n",
    "print(a_labels)\n",
    "print(\"*************************************\")\n",
    "\n"
   ]
  },
  {
   "cell_type": "markdown",
   "metadata": {},
   "source": [
    "Mapping to mean labels for these features"
   ]
  },
  {
   "cell_type": "code",
   "execution_count": null,
   "metadata": {},
   "outputs": [],
   "source": [
    "# Ordinal categorical dtypes are Grade, Employment Duration, Verification Status, Initial List Status, Application Type\n",
    "# nominal -//- are Batch Enrolled, Sub Grade, Payment Plan, Loan Title"
   ]
  },
  {
   "cell_type": "markdown",
   "metadata": {},
   "source": [
    "Converting object dtypes to mean labels"
   ]
  },
  {
   "cell_type": "code",
   "execution_count": null,
   "metadata": {},
   "outputs": [],
   "source": [
    "g = (train[[\"Grade\", \"Loan Status\"]]\n",
    "        .groupby([\"Grade\"], as_index=False)\n",
    "        .mean()\n",
    "        .sort_values(by=\"Loan Status\", ascending=True)\n",
    ")['Grade']\n",
    "idx_g = g.index\n",
    "val_g = g.values\n",
    "g_labels = {k:i for i,k in enumerate(val_g,0)}\n",
    "print(g_labels)\n",
    "train[\"Grade\"] = train[\"Grade\"].map(g_labels)\n",
    "\n",
    "e = (train[[\"Employment Duration\", \"Loan Status\"]]\n",
    "        .groupby([\"Employment Duration\"], as_index=False)\n",
    "        .mean()\n",
    "        .sort_values(by=\"Loan Status\", ascending=True)\n",
    ")['Employment Duration']\n",
    "idx_e = e.index\n",
    "val_e = e.values\n",
    "e_labels = {k:i for i,k in enumerate(val_e,0)}\n",
    "train[\"Employment Duration\"] = train[\"Employment Duration\"].map(e_labels)\n",
    "\n",
    "\n",
    "v = (train[[\"Verification Status\", \"Loan Status\"]]\n",
    "        .groupby([\"Verification Status\"], as_index=False)\n",
    "        .mean()\n",
    "        .sort_values(by=\"Loan Status\", ascending=True)\n",
    ")['Verification Status']\n",
    "idx_v = v.index\n",
    "val_v = v.values\n",
    "v_labels = {k:i for i,k in enumerate(val_v,0)}\n",
    "train[\"Verification Status\"] = train[\"Verification Status\"].map(v_labels)\n",
    "\n",
    "\n",
    "l = (train[[\"Initial List Status\", \"Loan Status\"]]\n",
    "        .groupby([\"Initial List Status\"], as_index=False)\n",
    "        .mean()\n",
    "        .sort_values(by=\"Loan Status\", ascending=True)\n",
    ")['Initial List Status']\n",
    "idx_l = l.index\n",
    "val_l = l.values\n",
    "l_labels = {k:i for i,k in enumerate(val_l,0)}\n",
    "train[\"Initial List Status\"] = train[\"Initial List Status\"].map(l_labels)\n",
    "\n",
    "\n",
    "ap = (train[[\"Application Type\", \"Loan Status\"]]\n",
    "        .groupby([\"Application Type\"], as_index=False)\n",
    "        .mean()\n",
    "        .sort_values(by=\"Loan Status\", ascending=True)\n",
    ")['Application Type']\n",
    "idx_ap = ap.index\n",
    "val_ap = ap.values\n",
    "ap_labels = {k:i for i,k in enumerate(val_ap,0)}\n",
    "train[\"Application Type\"] = train[\"Application Type\"].map(ap_labels)\n",
    "\n",
    "#----------------------------------------#\n",
    "\n",
    "g = (test[[\"Grade\", \"Loan Status\"]]\n",
    "        .groupby([\"Grade\"], as_index=False)\n",
    "        .mean()\n",
    "        .sort_values(by=\"Loan Status\", ascending=True)\n",
    ")['Grade']\n",
    "idx_g = g.index\n",
    "val_g = g.values\n",
    "g_labels = {k:i for i,k in enumerate(val_g,0)}\n",
    "test[\"Grade\"] = test[\"Grade\"].map(g_labels)\n",
    "\n",
    "e = (test[[\"Employment Duration\", \"Loan Status\"]]\n",
    "        .groupby([\"Employment Duration\"], as_index=False)\n",
    "        .mean()\n",
    "        .sort_values(by=\"Loan Status\", ascending=True)\n",
    ")['Employment Duration']\n",
    "idx_e = e.index\n",
    "val_e = e.values\n",
    "e_labels = {k:i for i,k in enumerate(val_e,0)}\n",
    "test[\"Employment Duration\"] = test[\"Employment Duration\"].map(e_labels)\n",
    "\n",
    "\n",
    "v = (test[[\"Verification Status\", \"Loan Status\"]]\n",
    "        .groupby([\"Verification Status\"], as_index=False)\n",
    "        .mean()\n",
    "        .sort_values(by=\"Loan Status\", ascending=True)\n",
    ")['Verification Status']\n",
    "idx_v = v.index\n",
    "val_v = v.values\n",
    "v_labels = {k:i for i,k in enumerate(val_v,0)}\n",
    "test[\"Verification Status\"] = test[\"Verification Status\"].map(v_labels)\n",
    "\n",
    "\n",
    "l = (test[[\"Initial List Status\", \"Loan Status\"]]\n",
    "        .groupby([\"Initial List Status\"], as_index=False)\n",
    "        .mean()\n",
    "        .sort_values(by=\"Loan Status\", ascending=True)\n",
    ")['Initial List Status']\n",
    "idx_l = l.index\n",
    "val_l = l.values\n",
    "l_labels = {k:i for i,k in enumerate(val_l,0)}\n",
    "test[\"Initial List Status\"] = test[\"Initial List Status\"].map(l_labels)\n",
    "\n",
    "\n",
    "ap = (test[[\"Application Type\", \"Loan Status\"]]\n",
    "        .groupby([\"Application Type\"], as_index=False)\n",
    "        .mean()\n",
    "        .sort_values(by=\"Loan Status\", ascending=True)\n",
    ")['Application Type']\n",
    "idx_ap = ap.index\n",
    "val_ap = ap.values\n",
    "ap_labels = {k:i for i,k in enumerate(val_ap,0)}\n",
    "test[\"Application Type\"] = test[\"Application Type\"].map(ap_labels)"
   ]
  },
  {
   "cell_type": "code",
   "execution_count": null,
   "metadata": {},
   "outputs": [],
   "source": [
    "#Enocding nominal dtype features\n",
    "le = LabelEncoder()\n",
    "\n",
    "train['Batch Enrolled'] = le.fit_transform(train[\"Batch Enrolled\"])\n",
    "test[\"Batch Enrolled\"] = le.fit_transform(test[\"Batch Enrolled\"])\n",
    "\n",
    "train['Sub Grade'] = le.fit_transform(train[\"Sub Grade\"])\n",
    "test[\"Sub Grade\"] = le.fit_transform(test[\"Sub Grade\"])\n",
    "\n",
    "train['Payment Plan'] = le.fit_transform(train[\"Payment Plan\"])\n",
    "test[\"Payment Plan\"] = le.fit_transform(test[\"Payment Plan\"])\n",
    "\n",
    "train['Loan Title'] = le.fit_transform(train[\"Loan Title\"])\n",
    "test[\"Loan Title\"] = le.fit_transform(test[\"Loan Title\"])"
   ]
  },
  {
   "cell_type": "code",
   "execution_count": null,
   "metadata": {},
   "outputs": [],
   "source": [
    "train.info()"
   ]
  },
  {
   "cell_type": "code",
   "execution_count": null,
   "metadata": {},
   "outputs": [],
   "source": [
    "test.info()"
   ]
  },
  {
   "cell_type": "code",
   "execution_count": null,
   "metadata": {},
   "outputs": [],
   "source": [
    "train"
   ]
  },
  {
   "cell_type": "code",
   "execution_count": null,
   "metadata": {},
   "outputs": [],
   "source": [
    "test"
   ]
  },
  {
   "cell_type": "code",
   "execution_count": null,
   "metadata": {},
   "outputs": [],
   "source": [
    "rscale = RobustScaler()\n",
    "\n",
    "X = train.drop(columns=['Loan Status'])\n",
    "y = train['Loan Status']\n",
    "X_test = test.drop(columns=['Loan Status'])\n",
    "y_test = test['Loan Status']\n",
    "\n",
    "print(X.shape)\n",
    "print(y.shape)\n",
    "print(X_test.shape)\n",
    "\n",
    "\n",
    "X = pd.DataFrame( rscale.fit_transform(X), columns = X.columns )\n",
    "X_test = pd.DataFrame( rscale.fit_transform(X_test), columns = X_test.columns )"
   ]
  },
  {
   "cell_type": "code",
   "execution_count": null,
   "metadata": {
    "scrolled": true
   },
   "outputs": [],
   "source": [
    "X"
   ]
  },
  {
   "cell_type": "code",
   "execution_count": null,
   "metadata": {},
   "outputs": [],
   "source": [
    "X_test"
   ]
  },
  {
   "cell_type": "code",
   "execution_count": null,
   "metadata": {},
   "outputs": [],
   "source": [
    "corr = X.corr()\n",
    "plt.figure(figsize=(30,15))\n",
    "sns.heatmap(X.corr(), annot=True)"
   ]
  },
  {
   "cell_type": "code",
   "execution_count": null,
   "metadata": {},
   "outputs": [],
   "source": [
    "# mutual_info = mutual_info_classif(X,y, random_state=1234)\n",
    "# mutual_data = pd.Series(mutual_info,index=X.columns)\n",
    "# mutual_data.sort_values(ascending=False)"
   ]
  },
  {
   "cell_type": "code",
   "execution_count": null,
   "metadata": {},
   "outputs": [],
   "source": [
    "# X = X.drop(columns= [\"Total Revolving Credit Limit\",\n",
    "#                      \"Inquires - six months\",\n",
    "#                      \"Home Ownership\",\n",
    "#                      \"Payment Plan\",\n",
    "#                      \"Total Current Balance\",\n",
    "#                      \"Total Received Late Fee\",\n",
    "#                      \"Last week Pay\",\n",
    "#                      \"Accounts Delinquent\",\n",
    "#                      \"ID\"] )\n",
    "# X_test = X_test.drop(columns= [\"Total Revolving Credit Limit\",\n",
    "#                      \"Inquires - six months\",\n",
    "#                      \"Home Ownership\",\n",
    "#                      \"Payment Plan\",\n",
    "#                      \"Total Current Balance\",\n",
    "#                      \"Total Received Late Fee\",\n",
    "#                      \"Last week Pay\",\n",
    "#                      \"Accounts Delinquent\",\n",
    "#                      \"ID\"] )"
   ]
  },
  {
   "cell_type": "code",
   "execution_count": null,
   "metadata": {},
   "outputs": [],
   "source": [
    "print(X.shape)\n",
    "print(X_test.shape)"
   ]
  },
  {
   "cell_type": "code",
   "execution_count": null,
   "metadata": {},
   "outputs": [],
   "source": [
    "y.value_counts()"
   ]
  },
  {
   "cell_type": "code",
   "execution_count": null,
   "metadata": {},
   "outputs": [],
   "source": [
    "print('No Defaulters[0]', round(y.value_counts()[0]/len(y) * 100,2), '% of the dataset')\n",
    "print('Defaulters[1]', round(y.value_counts()[1]/len(y) * 100,2), '% of the dataset')"
   ]
  },
  {
   "cell_type": "code",
   "execution_count": null,
   "metadata": {},
   "outputs": [],
   "source": [
    "from sklearn.model_selection import StratifiedShuffleSplit\n",
    "from sklearn.model_selection import StratifiedKFold\n",
    "from sklearn.model_selection import train_test_split\n",
    "\n",
    "skf = StratifiedShuffleSplit(n_splits=5, random_state=None)\n",
    "\n",
    "for train_index, test_index in skf.split(X, y):\n",
    "    print(\"Train:\", train_index, \"Test:\", test_index)\n",
    "    original_Xtrain, original_Xtest = X.iloc[train_index], X.iloc[test_index]\n",
    "    original_ytrain, original_ytest = y.iloc[train_index], y.iloc[test_index]\n",
    "    \n",
    "# Turn into an array\n",
    "original_Xtrain = original_Xtrain.values\n",
    "original_Xtest = original_Xtest.values\n",
    "original_ytrain = original_ytrain.values\n",
    "original_ytest = original_ytest.values\n",
    "\n",
    "# See if both the train and test label distribution are similarly distributed\n",
    "train_unique_label, train_counts_label = np.unique(original_ytrain, return_counts=True)\n",
    "test_unique_label, test_counts_label = np.unique(original_ytest, return_counts=True)\n",
    "print('-' * 100)\n",
    "\n",
    "print('Label Distributions: \\n')\n",
    "print(train_counts_label/ len(original_ytrain))\n",
    "print(test_counts_label/ len(original_ytest))"
   ]
  },
  {
   "cell_type": "code",
   "execution_count": null,
   "metadata": {},
   "outputs": [],
   "source": [
    "print(original_Xtrain.shape)\n",
    "print(original_Xtest.shape)\n",
    "print(original_ytrain.shape)\n",
    "print(original_ytest.shape)"
   ]
  },
  {
   "cell_type": "code",
   "execution_count": null,
   "metadata": {},
   "outputs": [],
   "source": [
    "from sklearn.linear_model import LogisticRegression\n",
    "from sklearn.tree import DecisionTreeClassifier\n",
    "from sklearn.svm import SVC\n",
    "from sklearn.neighbors import KNeighborsClassifier\n",
    "from sklearn.ensemble import RandomForestClassifier\n",
    "from sklearn.ensemble import GradientBoostingClassifier\n",
    "from xgboost import XGBClassifier\n",
    "\n",
    "from sklearn.metrics import precision_score, recall_score, f1_score, roc_auc_score, accuracy_score, classification_report\n",
    "from sklearn.metrics import classification_report, confusion_matrix"
   ]
  },
  {
   "cell_type": "code",
   "execution_count": null,
   "metadata": {},
   "outputs": [],
   "source": [
    "# lr = LogisticRegression(random_state=0).fit(original_Xtrain, original_ytrain)\n",
    "# dt = DecisionTreeClassifier(random_state=0).fit(original_Xtrain, original_ytrain)\n",
    "# rf = RandomForestClassifier(random_state=0).fit(original_Xtrain, original_ytrain)\n",
    "# gb = GradientBoostingClassifier(max_features='sqrt', random_state=0).fit(original_Xtrain, original_ytrain)\n",
    "# xgbm = XGBClassifier(eval_metric='logloss', random_state=0).fit(original_Xtrain, original_ytrain)"
   ]
  },
  {
   "cell_type": "code",
   "execution_count": null,
   "metadata": {},
   "outputs": [],
   "source": [
    "# models = [ lr,dt,rf,gb,xgbm ]\n",
    "# for model in models:\n",
    "#     preds = model.predict(original_Xtest)\n",
    "#     print('--------------------')\n",
    "#     print(\"Model Name\", model)\n",
    "#     print(confusion_matrix(original_ytest,preds))\n",
    "#     print('Accuracy', accuracy_score(original_ytest,preds))\n",
    "#     print('f1_score ', f1_score(original_ytest, preds))\n",
    "#     print(\"***************************\")\n",
    "#     print(classification_report(original_ytest,preds))\n",
    "#     print('-------------------')"
   ]
  },
  {
   "cell_type": "code",
   "execution_count": null,
   "metadata": {},
   "outputs": [],
   "source": [
    "#classifiers struggling to classify minority class"
   ]
  },
  {
   "cell_type": "code",
   "execution_count": null,
   "metadata": {},
   "outputs": [],
   "source": [
    "train_df = train.sample(frac=1)\n",
    "\n",
    "\n",
    "defaulter_df = train_df[train_df['Loan Status']==1]\n",
    "nondefaulter_df = train_df[train_df['Loan Status']==0][:6241]\n",
    "\n",
    "normal_dist_df = pd.concat([defaulter_df, nondefaulter_df])\n",
    "\n",
    "# Shuffle dataframe rows\n",
    "new_df = normal_dist_df.sample(frac=1, random_state=44)\n",
    "print(new_df.shape)\n",
    "new_df.head()"
   ]
  },
  {
   "cell_type": "code",
   "execution_count": null,
   "metadata": {},
   "outputs": [],
   "source": [
    "print('Distribution of the Classes in the subsample dataset')\n",
    "print(new_df['Loan Status'].value_counts()/len(new_df))"
   ]
  },
  {
   "cell_type": "code",
   "execution_count": null,
   "metadata": {},
   "outputs": [],
   "source": [
    "# Make sure we use the subsample in our correlation\n",
    "\n",
    "f, (ax1, ax2) = plt.subplots(2, 1, figsize=(24,20))\n",
    "\n",
    "# Entire DataFrame\n",
    "corr = train_df.corr()\n",
    "sns.heatmap(corr, cmap='coolwarm_r', annot_kws={'size':20}, ax=ax1)\n",
    "ax1.set_title(\"Imbalanced Correlation Matrix \\n (don't use for reference)\", fontsize=14)\n",
    "\n",
    "\n",
    "sub_sample_corr = new_df.corr()\n",
    "sns.heatmap(sub_sample_corr, cmap='coolwarm_r', annot_kws={'size':20}, ax=ax2)\n",
    "ax2.set_title('SubSample Correlation Matrix \\n (use for reference)', fontsize=14)\n",
    "plt.show()"
   ]
  },
  {
   "cell_type": "code",
   "execution_count": null,
   "metadata": {},
   "outputs": [],
   "source": [
    "new_df"
   ]
  },
  {
   "cell_type": "code",
   "execution_count": null,
   "metadata": {},
   "outputs": [],
   "source": [
    "from sklearn.manifold import TSNE\n",
    "from sklearn.decomposition import PCA, TruncatedSVD\n",
    "import time\n",
    "\n",
    "# New_df is from the random undersample data (fewer instances)\n",
    "X = new_df.drop('Loan Status', axis=1)\n",
    "y = new_df['Loan Status']\n",
    "\n",
    "\n",
    "# T-SNE Implementation\n",
    "t0 = time.time()\n",
    "X_reduced_tsne = TSNE(n_components=2, random_state=42).fit_transform(X.values)\n",
    "t1 = time.time()\n",
    "print(\"T-SNE took {:.2} s\".format(t1 - t0))\n",
    "\n",
    "# PCA Implementation\n",
    "t0 = time.time()\n",
    "X_reduced_pca = PCA(n_components=2, random_state=42).fit_transform(X.values)\n",
    "t1 = time.time()\n",
    "print(\"PCA took {:.2} s\".format(t1 - t0))\n",
    "\n",
    "# TruncatedSVD\n",
    "t0 = time.time()\n",
    "X_reduced_svd = TruncatedSVD(n_components=2, algorithm='randomized', random_state=42).fit_transform(X.values)\n",
    "t1 = time.time()\n",
    "print(\"Truncated SVD took {:.2} s\".format(t1 - t0))"
   ]
  },
  {
   "cell_type": "code",
   "execution_count": null,
   "metadata": {},
   "outputs": [],
   "source": [
    "import matplotlib.patches as mpatches\n",
    "\n",
    "f, (ax1, ax2, ax3) = plt.subplots(1, 3, figsize=(24,6))\n",
    "# labels = ['No Fraud', 'Fraud']\n",
    "f.suptitle('Clusters using Dimensionality Reduction', fontsize=14)\n",
    "\n",
    "\n",
    "blue_patch = mpatches.Patch(color='#0A0AFF', label='No Default')\n",
    "red_patch = mpatches.Patch(color='#AF0000', label='Default')\n",
    "\n",
    "\n",
    "# t-SNE scatter plot\n",
    "ax1.scatter(X_reduced_tsne[:,0], X_reduced_tsne[:,1], c=(y == 0), cmap='coolwarm', label='No Fraud', linewidths=2)\n",
    "ax1.scatter(X_reduced_tsne[:,0], X_reduced_tsne[:,1], c=(y == 1), cmap='coolwarm', label='Fraud', linewidths=2)\n",
    "ax1.set_title('t-SNE', fontsize=14)\n",
    "\n",
    "ax1.grid(True)\n",
    "\n",
    "ax1.legend(handles=[blue_patch, red_patch])\n",
    "\n",
    "\n",
    "# PCA scatter plot\n",
    "ax2.scatter(X_reduced_pca[:,0], X_reduced_pca[:,1], c=(y == 0), cmap='coolwarm', label='No Fraud', linewidths=2)\n",
    "ax2.scatter(X_reduced_pca[:,0], X_reduced_pca[:,1], c=(y == 1), cmap='coolwarm', label='Fraud', linewidths=2)\n",
    "ax2.set_title('PCA', fontsize=14)\n",
    "\n",
    "ax2.grid(True)\n",
    "\n",
    "ax2.legend(handles=[blue_patch, red_patch])\n",
    "\n",
    "# TruncatedSVD scatter plot\n",
    "ax3.scatter(X_reduced_svd[:,0], X_reduced_svd[:,1], c=(y == 0), cmap='coolwarm', label='No Fraud', linewidths=2)\n",
    "ax3.scatter(X_reduced_svd[:,0], X_reduced_svd[:,1], c=(y == 1), cmap='coolwarm', label='Fraud', linewidths=2)\n",
    "ax3.set_title('Truncated SVD', fontsize=14)\n",
    "\n",
    "ax3.grid(True)\n",
    "\n",
    "ax3.legend(handles=[blue_patch, red_patch])\n",
    "\n",
    "plt.show()"
   ]
  },
  {
   "cell_type": "code",
   "execution_count": null,
   "metadata": {},
   "outputs": [],
   "source": [
    "# Our data is already scaled we should split our training and test sets\n",
    "from sklearn.model_selection import train_test_split\n",
    "\n",
    "# New_df is from the random undersample data (fewer instances)\n",
    "X = new_df.drop('Loan Status', axis=1)\n",
    "y = new_df['Loan Status']\n",
    "\n",
    "# This is explicitly used for undersampling.\n",
    "X_train, X_test, y_train, y_test = train_test_split(X, y, test_size=0.2, random_state=42)\n",
    "\n",
    "# Turn the values into an array for feeding the classification algorithms.\n",
    "X_train = X_train.values\n",
    "X_test = X_test.values\n",
    "y_train = y_train.values\n",
    "y_test = y_test.values\n",
    "\n",
    "\n",
    "# Let's implement simple classifiers\n",
    "\n",
    "classifiers = {\n",
    "    \"LogisiticRegression\": LogisticRegression(),\n",
    "    \"KNearest\": KNeighborsClassifier(),\n",
    "    \"Support Vector Classifier\": SVC(),\n",
    "    \"DecisionTreeClassifier\": DecisionTreeClassifier()\n",
    "}\n",
    "\n",
    "\n",
    "from sklearn.model_selection import cross_val_score\n",
    "\n",
    "\n",
    "for key, classifier in classifiers.items():\n",
    "    classifier.fit(X_train, y_train)\n",
    "    training_score = cross_val_score(classifier, X_train, y_train, cv=5)\n",
    "    print(\"Classifiers: \", classifier.__class__.__name__, \"Has a training score of\", round(training_score.mean(), 2) * 100, \"% accuracy score\")"
   ]
  },
  {
   "cell_type": "code",
   "execution_count": null,
   "metadata": {},
   "outputs": [],
   "source": [
    "from imblearn import *\n",
    "from imblearn import combine\n",
    "from imblearn.over_sampling import SMOTE, ADASYN\n",
    "from imblearn.under_sampling import RandomUnderSampler\n",
    "from gsmote import GeometricSMOTE\n",
    "\n",
    "from collections import Counter\n",
    "from numpy import mean\n",
    "from sklearn.model_selection import cross_val_score\n",
    "from sklearn.model_selection import RepeatedStratifiedKFold\n",
    "from imblearn.pipeline import Pipeline\n",
    "\n",
    "\n",
    "geometric_smote = GeometricSMOTE()\n",
    "\n",
    "\n",
    "X_new , y_new = geometric_smote.fit_resample(X,y)\n",
    "#X_new, y_new = under.fit_resample(X_new_1, y_new_1)\n",
    "print(\"The number of classes before fit {}\".format(Counter(y)))\n",
    "#print(\"The number of classes after fit {}\".format(Counter(y_new_1)))\n",
    "print(\"The number of classes after fit {}\".format(Counter(y_new)))"
   ]
  },
  {
   "cell_type": "code",
   "execution_count": null,
   "metadata": {},
   "outputs": [],
   "source": [
    "y_new.value_counts()"
   ]
  },
  {
   "cell_type": "code",
   "execution_count": null,
   "metadata": {},
   "outputs": [],
   "source": [
    "X_train, X_val, y_train, y_val = train_test_split(X_new,y_new,test_size=0.2, random_state=0, shuffle=True)\n",
    "print(X_train.shape)\n",
    "print(X_val.shape)\n",
    "print(y_train.shape)\n",
    "print(y_val.shape)"
   ]
  },
  {
   "cell_type": "code",
   "execution_count": null,
   "metadata": {},
   "outputs": [],
   "source": [
    "lr = LogisticRegression(random_state=0).fit(X_new, y_new)\n",
    "dt = DecisionTreeClassifier(random_state=0).fit(X_new, y_new)\n",
    "rf = RandomForestClassifier(random_state=0).fit(X_new, y_new)\n",
    "gb = GradientBoostingClassifier(max_features='sqrt', random_state=0).fit(X_new, y_new)\n",
    "xgbm = XGBClassifier(eval_metric='logloss', random_state=0).fit(X_new, y_new)"
   ]
  },
  {
   "cell_type": "code",
   "execution_count": null,
   "metadata": {},
   "outputs": [],
   "source": [
    "models = [ lr,dt,rf,gb,xgbm ]\n",
    "for model in models:\n",
    "    preds = model.predict(X_test)\n",
    "    print('--------------------')\n",
    "    print(\"Model Name\", model)\n",
    "    print(confusion_matrix(y_test,preds))\n",
    "    print('Accuracy', accuracy_score(y_test,preds))\n",
    "    print('f1_score ', f1_score(y_test, preds))\n",
    "    print(\"***************************\")\n",
    "    print(classification_report(y_test,preds))\n",
    "    print('-------------------')"
   ]
  },
  {
   "cell_type": "code",
   "execution_count": null,
   "metadata": {},
   "outputs": [],
   "source": [
    "#y_train.value_counts()"
   ]
  },
  {
   "cell_type": "code",
   "execution_count": null,
   "metadata": {},
   "outputs": [],
   "source": [
    "model= GradientBoostingClassifier(max_features='auto',n_estimators=1000, learning_rate=0.01, random_state=0).fit(X_new,y_new)\n",
    "\n",
    "#XGBClassifier(eval_metric='logloss', random_state=0, objective=\"binary:logistic\",eta=0.02,reg_lambda=10000, n_estimators=50).fit(X_new,y_new)\n",
    "\n",
    "predictions=model.predict(X_test)\n",
    "print(confusion_matrix(y_test,predictions))\n",
    "print(accuracy_score(y_test,predictions))\n",
    "print(classification_report(y_test,predictions))"
   ]
  },
  {
   "cell_type": "code",
   "execution_count": null,
   "metadata": {},
   "outputs": [],
   "source": [
    "predictions = pd.DataFrame(predictions, columns=['Loan Status'])\n",
    "predictions.value_counts()"
   ]
  },
  {
   "cell_type": "code",
   "execution_count": null,
   "metadata": {},
   "outputs": [],
   "source": [
    "model=LogisticRegression(penalty='l2', random_state=123).fit(X_new,y_new)\n",
    "predictions=model.predict(X_test)\n",
    "print(confusion_matrix(y_test,predictions))\n",
    "print(accuracy_score(y_test,predictions))\n",
    "print(classification_report(y_test,predictions))"
   ]
  },
  {
   "cell_type": "code",
   "execution_count": null,
   "metadata": {},
   "outputs": [],
   "source": [
    "predictions = pd.DataFrame(predictions, columns=['Loan Status'])\n",
    "predictions.value_counts()"
   ]
  },
  {
   "cell_type": "code",
   "execution_count": null,
   "metadata": {},
   "outputs": [],
   "source": [
    "model=GradientBoostingClassifier(learning_rate=0.001, n_estimators=1000, max_features='sqrt', random_state=0).fit(X_new,y_new)\n",
    "predictions=model.predict(X_test)\n",
    "print(confusion_matrix(y_test,predictions))\n",
    "print(accuracy_score(y_test,predictions))\n",
    "print(classification_report(y_test,predictions))"
   ]
  },
  {
   "cell_type": "code",
   "execution_count": null,
   "metadata": {},
   "outputs": [],
   "source": [
    "predictions = pd.DataFrame(predictions, columns=['Loan Status'])\n",
    "predictions.value_counts()"
   ]
  },
  {
   "cell_type": "code",
   "execution_count": null,
   "metadata": {},
   "outputs": [],
   "source": [
    "y_pred = xgbm.predict(X_test)"
   ]
  },
  {
   "cell_type": "code",
   "execution_count": null,
   "metadata": {},
   "outputs": [],
   "source": [
    "y_pred = pd.DataFrame(y_pred, columns=['Loan Status'])\n",
    "y_pred.value_counts()"
   ]
  },
  {
   "cell_type": "code",
   "execution_count": null,
   "metadata": {},
   "outputs": [],
   "source": [
    "test['ID']"
   ]
  },
  {
   "cell_type": "code",
   "execution_count": null,
   "metadata": {},
   "outputs": [],
   "source": [
    "y_pred"
   ]
  },
  {
   "cell_type": "code",
   "execution_count": null,
   "metadata": {},
   "outputs": [],
   "source": [
    "predictions.to_csv(\"submit8.csv\", index=False)"
   ]
  },
  {
   "cell_type": "code",
   "execution_count": null,
   "metadata": {},
   "outputs": [],
   "source": []
  }
 ],
 "metadata": {
  "kernelspec": {
   "display_name": "Python 3",
   "language": "python",
   "name": "python3"
  },
  "language_info": {
   "codemirror_mode": {
    "name": "ipython",
    "version": 3
   },
   "file_extension": ".py",
   "mimetype": "text/x-python",
   "name": "python",
   "nbconvert_exporter": "python",
   "pygments_lexer": "ipython3",
   "version": "3.8.5"
  }
 },
 "nbformat": 4,
 "nbformat_minor": 4
}
